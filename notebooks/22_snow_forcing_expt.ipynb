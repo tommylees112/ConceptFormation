{
 "cells": [
  {
   "cell_type": "markdown",
   "id": "9e2f8628-79b4-4672-8791-478b5effa179",
   "metadata": {},
   "source": [
    "# Force the LSTM with above zero temperatures, what happens to the snow?"
   ]
  },
  {
   "cell_type": "code",
   "execution_count": 108,
   "id": "dc91e5ec-f12c-41f2-afbc-801411d152fa",
   "metadata": {},
   "outputs": [
    {
     "name": "stdout",
     "output_type": "stream",
     "text": [
      "The autoreload extension is already loaded. To reload it, use:\n",
      "  %reload_ext autoreload\n"
     ]
    }
   ],
   "source": [
    "from pathlib import Path\n",
    "import numpy as np \n",
    "import xarray as xr \n",
    "import matplotlib.pyplot as plt\n",
    "import seaborn as sns\n",
    "import warnings \n",
    "import pandas as pd\n",
    "\n",
    "import sys\n",
    "sys.path.append(\"/home/tommy/neuralhydrology\")\n",
    "from scripts.read_nh_results import (\n",
    "    get_test_filepath,\n",
    "    get_all_station_ds,\n",
    "    calculate_all_error_metrics,\n",
    "    get_ensemble_path,\n",
    ")\n",
    "\n",
    "from scripts.read_model import (get_model, _load_weights)\n",
    "from scripts.read_nh_results import (read_multi_experiment_results, calculate_member_errors)\n",
    "from neuralhydrology.utils.config import Config\n",
    "\n",
    "%load_ext autoreload\n",
    "%autoreload 2"
   ]
  },
  {
   "cell_type": "code",
   "execution_count": 109,
   "id": "7d59e708-8a32-4b38-bf51-a3dfbeb91cae",
   "metadata": {},
   "outputs": [],
   "source": [
    "data_dir = Path(\"/datadrive/data\")\n",
    "run_dir = data_dir / \"runs/ensemble_NO_EVAP/lstm_ensemble1_NO_EVAP_1606_014459\"\n",
    "out_dir = run_dir / \"cell_states\""
   ]
  },
  {
   "cell_type": "code",
   "execution_count": 110,
   "id": "83a23868-ff01-4e77-a8ef-053ce6008af9",
   "metadata": {},
   "outputs": [],
   "source": [
    "import geopandas as gpd\n",
    "from scripts.geospatial import initialise_gb_spatial_plot, load_latlon_points\n",
    "from mpl_toolkits.axes_grid1 import make_axes_locatable\n",
    "\n",
    "st_data_dir = Path(\"/home/tommy/spatio_temporal/data\")\n",
    "points = load_latlon_points(st_data_dir)\n",
    "static = xr.open_dataset(st_data_dir / \"camels_static.nc\")"
   ]
  },
  {
   "cell_type": "code",
   "execution_count": 111,
   "id": "0b199a7f-549f-4767-b806-4ce6b6e5e582",
   "metadata": {},
   "outputs": [
    {
     "data": {
      "text/plain": [
       "['precipitation', 'temperature']"
      ]
     },
     "execution_count": 111,
     "metadata": {},
     "output_type": "execute_result"
    }
   ],
   "source": [
    "# load config\n",
    "cfg = Config(run_dir / \"config.yml\")\n",
    "cfg.run_dir = run_dir\n",
    "\n",
    "cfg.dynamic_inputs"
   ]
  },
  {
   "cell_type": "markdown",
   "id": "67fc26eb-8267-4586-bc19-c91c837b02d5",
   "metadata": {},
   "source": [
    "# create new forcing data"
   ]
  },
  {
   "cell_type": "code",
   "execution_count": 112,
   "id": "07c1eae6-542b-45f8-8e18-61f1503af98a",
   "metadata": {},
   "outputs": [
    {
     "data": {
      "image/png": "[encoded data removed]",
      "text/plain": [
       "<Figure size 432x288 with 1 Axes>"
      ]
     },
     "metadata": {
      "needs_background": "light"
     },
     "output_type": "display_data"
    }
   ],
   "source": [
    "ds = xr.open_dataset(data_dir / \"RUNOFF/ALL_dynamic_ds.nc\")\n",
    "\n",
    "if \"ds\" in globals().keys():\n",
    "    clip_temp = 4.0\n",
    "    clipped = np.clip(ds[\"temperature\"], a_min=4, a_max=None)\n",
    "\n",
    "    plt.hist(ds[\"temperature\"].isel(station_id=0), bins=100, alpha=0.5, label=\"Unclipped\");\n",
    "    plt.hist(clipped.isel(station_id=0), bins=100, alpha=0.5, label=\"Clipped\");\n",
    "    plt.legend()\n",
    "    sns.despine()"
   ]
  },
  {
   "cell_type": "code",
   "execution_count": 5,
   "id": "ac44672a-b7d4-4c8d-bbaf-a06ba1f5c984",
   "metadata": {},
   "outputs": [],
   "source": [
    "from tqdm import tqdm\n",
    "\n",
    "# dd / \"attributes\"\n",
    "\n",
    "\n",
    "def get_basin(file_path: Path) -> int:\n",
    "    return int(file_path.name.split(\"timeseries_\")[-1].split(\"_\")[0])\n",
    "\n",
    "\n",
    "def read_single_camelsgb_file(file_path: Path) -> pd.DataFrame:\n",
    "    df = pd.read_csv(file_path, sep=',', header=0, dtype={'date': str})\n",
    "    df[\"date\"] = pd.to_datetime(df[\"date\"], format=\"%Y-%m-%d\")\n",
    "    df[\"basin\"] = get_basin(file_path)\n",
    "    df = df.set_index([\"date\", \"basin\"])\n",
    "    \n",
    "    return df\n",
    "\n",
    "\n",
    "def load_camelsgb_xr(data_dir: Path) -> xr.Dataset:\n",
    "    assert (data_dir / \"timeseries\").exists(), f\"Expect to find timeseries folder at {data_dir.as_posix()}\"\n",
    "    dynamic_files = list((data_dir / \"timeseries\").iterdir())\n",
    "    pbar = tqdm(dynamic_files, desc=\"Loading Basins:\")\n",
    "    xrs = []\n",
    "    for fp in pbar:\n",
    "        xrs.append(read_single_camelsgb_file(fp).to_xarray())\n",
    "    \n",
    "    print(\"Concatenating all files\")\n",
    "    ds = xr.concat(xrs, dim=\"basin\")\n",
    "    return ds"
   ]
  },
  {
   "cell_type": "code",
   "execution_count": 113,
   "id": "b224ed80-aa0f-4c01-abfb-dbad6078fe1a",
   "metadata": {},
   "outputs": [],
   "source": [
    "import pickle\n",
    "\n",
    "additional_feature_files = (cfg.data_dir / \"additional_feature_files.pkl\")\n",
    "\n",
    "if not additional_feature_files.exists():\n",
    "    # load in the camelsGB timeseries\n",
    "    ds = load_camelsgb_xr(cfg.data_dir)\n",
    "    \n",
    "    # create clipped temperature dict\n",
    "    variable = \"temperature\"\n",
    "    pickle_dict = {}\n",
    "    pbar = tqdm(ds.basin.values, f\"Clipping {variable}\")\n",
    "    for basin in pbar:\n",
    "        pbar.set_postfix_str(f\"{basin}\")\n",
    "        basin_clipped = clipped.sel(basin=basin).to_dataframe().drop(\"basin\", axis=1)\n",
    "        basin_clipped = basin_clipped.rename({\"temperature\": \"temperature_clipped\"}, axis=1)\n",
    "        pickle_dict[str(basin)] = basin_clipped\n",
    "        \n",
    "    # write to pickle\n",
    "    with additional_feature_files.open(\"wb\") as fp:\n",
    "        pickle.dump(pickle_dict, fp)\n",
    "        \n",
    "d = pickle.load(additional_feature_files.open(\"rb\"))\n",
    "assert \"temperature_clipped\" in d[\"10002\"].columns"
   ]
  },
  {
   "cell_type": "code",
   "execution_count": 117,
   "id": "1c17610b-266a-4d85-b0f4-3b769cc4f511",
   "metadata": {},
   "outputs": [
    {
     "name": "stdout",
     "output_type": "stream",
     "text": [
      "Filepath:  /datadrive/data/CAMELS_GB_DATASET/additional_feature_files.pkl\n",
      "Type:  <class 'dict'>\n",
      "Dict Keys:  ['10002', '10003', '1001']\n",
      "Dict Values:\n",
      "        temperature_clipped\n",
      "count         16436.000000\n",
      "mean              8.441143\n",
      "std               3.785193\n",
      "min               4.000000\n",
      "25%               4.600000\n",
      "50%               7.950000\n",
      "75%              11.602500\n",
      "max              19.810000\n"
     ]
    }
   ],
   "source": [
    "d = pickle.load(additional_feature_files.open(\"rb\"))\n",
    "print(\"Filepath: \", additional_feature_files)\n",
    "print(\"Type: \", type(d))\n",
    "print(\"Dict Keys: \", [k for k in d.keys()][:3])\n",
    "print(\"Dict Values:\\n\", d[[k for k in d.keys()][0]].describe())"
   ]
  },
  {
   "cell_type": "markdown",
   "id": "bbc6af97-b61b-4821-824d-b8cbd82cad93",
   "metadata": {},
   "source": [
    "## update scaler too!"
   ]
  },
  {
   "cell_type": "code",
   "execution_count": 9,
   "id": "549e2eff-7eae-477c-b275-5be530c57274",
   "metadata": {},
   "outputs": [
    {
     "data": {
      "text/plain": [
       "Data variables:\n",
       "    discharge_spec       float64 3.587\n",
       "    precipitation        float64 5.929\n",
       "    temperature          float64 5.156\n",
       "    temperature_clipped  float64 5.156"
      ]
     },
     "execution_count": 9,
     "metadata": {},
     "output_type": "execute_result"
    }
   ],
   "source": [
    "scaler_file = cfg.run_dir / \"train_data\" / \"train_data_scaler.p\"\n",
    "with scaler_file.open('rb') as fp:\n",
    "    scaler = pickle.load(fp)\n",
    "\n",
    "if \"temperature_clipped\" not in scaler[\"xarray_feature_scale\"].data_vars:\n",
    "    # copy new scale/center\n",
    "    scaler[\"xarray_feature_scale\"][\"temperature_clipped\"] = scaler[\"xarray_feature_scale\"][\"temperature\"]\n",
    "    scaler[\"xarray_feature_center\"][\"temperature_clipped\"] = scaler[\"xarray_feature_center\"][\"temperature\"]\n",
    "\n",
    "    with scaler_file.open('wb') as fp:\n",
    "        pickle.dump(scaler, fp)\n",
    "        \n",
    "scaler[\"xarray_feature_scale\"].data_vars"
   ]
  },
  {
   "cell_type": "markdown",
   "id": "2b63b526-7311-4c4a-a6c0-3f804bbddd5b",
   "metadata": {},
   "source": [
    "# Update cfg to use new additional feature files (no subzeros)"
   ]
  },
  {
   "cell_type": "code",
   "execution_count": 10,
   "id": "7c0c4574-629a-4934-b0f5-46e22345a78a",
   "metadata": {},
   "outputs": [],
   "source": [
    "new_dynamic_inputs = [di for di in cfg.dynamic_inputs if \"temperature\" not in di]\n",
    "new_dynamic_inputs = new_dynamic_inputs + [\"temperature_clipped\"]"
   ]
  },
  {
   "cell_type": "code",
   "execution_count": 11,
   "id": "0dca8441-1388-4b27-b462-1e4ae5d81e52",
   "metadata": {},
   "outputs": [
    {
     "name": "stdout",
     "output_type": "stream",
     "text": [
      "['precipitation', 'temperature_clipped']\n",
      "['/datadrive/data/CAMELS_GB_DATASET/additional_feature_files.pkl']\n"
     ]
    }
   ],
   "source": [
    "from copy import deepcopy\n",
    "\n",
    "f_cfg = deepcopy(cfg)\n",
    "\n",
    "f_cfg._cfg[\"additional_feature_files\"] = additional_feature_files.absolute().as_posix()\n",
    "f_cfg._cfg[\"dynamic_inputs\"] = new_dynamic_inputs\n",
    "\n",
    "print(f_cfg.dynamic_inputs)\n",
    "print(f_cfg.additional_feature_files)"
   ]
  },
  {
   "cell_type": "markdown",
   "id": "66c03f77-2aec-4963-b8ad-b643673e11cd",
   "metadata": {},
   "source": [
    "# Run forward pass of the model"
   ]
  },
  {
   "cell_type": "code",
   "execution_count": 118,
   "id": "e205649d-f58a-4a48-a563-0c9e6e392e83",
   "metadata": {
    "scrolled": true,
    "tags": []
   },
   "outputs": [
    {
     "name": "stderr",
     "output_type": "stream",
     "text": [
      "/home/tommy/neuralhydrology/neuralhydrology/utils/config.py:597: FutureWarning: 'camels_attributes' will be deprecated. Use 'static_attributes' in the future\n",
      "  warnings.warn(\"'camels_attributes' will be deprecated. Use 'static_attributes' in the future\",\n"
     ]
    },
    {
     "name": "stdout",
     "output_type": "stream",
     "text": [
      "# Evaluation:   0%|          | 1/669 [00:00<06:06,  1.82it/s]"
     ]
    },
    {
     "name": "stderr",
     "output_type": "stream",
     "text": [
      "/home/tommy/neuralhydrology/neuralhydrology/utils/config.py:597: FutureWarning: 'camels_attributes' will be deprecated. Use 'static_attributes' in the future\n",
      "  warnings.warn(\"'camels_attributes' will be deprecated. Use 'static_attributes' in the future\",\n"
     ]
    },
    {
     "name": "stdout",
     "output_type": "stream",
     "text": [
      "# Evaluation:   0%|          | 2/669 [00:01<06:15,  1.77it/s]"
     ]
    },
    {
     "name": "stderr",
     "output_type": "stream",
     "text": [
      "/home/tommy/neuralhydrology/neuralhydrology/utils/config.py:597: FutureWarning: 'camels_attributes' will be deprecated. Use 'static_attributes' in the future\n",
      "  warnings.warn(\"'camels_attributes' will be deprecated. Use 'static_attributes' in the future\",\n"
     ]
    },
    {
     "name": "stdout",
     "output_type": "stream",
     "text": [
      "# Evaluation:   0%|          | 3/669 [00:01<06:28,  1.71it/s]"
     ]
    },
    {
     "name": "stderr",
     "output_type": "stream",
     "text": [
      "/home/tommy/neuralhydrology/neuralhydrology/utils/config.py:597: FutureWarning: 'camels_attributes' will be deprecated. Use 'static_attributes' in the future\n",
      "  warnings.warn(\"'camels_attributes' will be deprecated. Use 'static_attributes' in the future\",\n"
     ]
    },
    {
     "name": "stdout",
     "output_type": "stream",
     "text": [
      "# Evaluation:   1%|          | 4/669 [00:02<06:29,  1.71it/s]"
     ]
    },
    {
     "name": "stderr",
     "output_type": "stream",
     "text": [
      "/home/tommy/neuralhydrology/neuralhydrology/utils/config.py:597: FutureWarning: 'camels_attributes' will be deprecated. Use 'static_attributes' in the future\n",
      "  warnings.warn(\"'camels_attributes' will be deprecated. Use 'static_attributes' in the future\",\n"
     ]
    },
    {
     "name": "stdout",
     "output_type": "stream",
     "text": [
      "# Evaluation:   1%|          | 5/669 [00:02<06:45,  1.64it/s]"
     ]
    },
    {
     "name": "stderr",
     "output_type": "stream",
     "text": [
      "/home/tommy/neuralhydrology/neuralhydrology/utils/config.py:597: FutureWarning: 'camels_attributes' will be deprecated. Use 'static_attributes' in the future\n",
      "  warnings.warn(\"'camels_attributes' will be deprecated. Use 'static_attributes' in the future\",\n"
     ]
    },
    {
     "name": "stdout",
     "output_type": "stream",
     "text": [
      "# Evaluation:   1%|          | 6/669 [00:03<06:40,  1.66it/s]"
     ]
    },
    {
     "name": "stderr",
     "output_type": "stream",
     "text": [
      "/home/tommy/neuralhydrology/neuralhydrology/utils/config.py:597: FutureWarning: 'camels_attributes' will be deprecated. Use 'static_attributes' in the future\n",
      "  warnings.warn(\"'camels_attributes' will be deprecated. Use 'static_attributes' in the future\",\n"
     ]
    },
    {
     "name": "stdout",
     "output_type": "stream",
     "text": [
      "# Evaluation:   1%|          | 7/669 [00:04<06:40,  1.65it/s]"
     ]
    },
    {
     "name": "stderr",
     "output_type": "stream",
     "text": [
      "/home/tommy/neuralhydrology/neuralhydrology/utils/config.py:597: FutureWarning: 'camels_attributes' will be deprecated. Use 'static_attributes' in the future\n",
      "  warnings.warn(\"'camels_attributes' will be deprecated. Use 'static_attributes' in the future\",\n"
     ]
    },
    {
     "name": "stdout",
     "output_type": "stream",
     "text": [
      "# Evaluation:   1%|          | 8/669 [00:04<07:17,  1.51it/s]"
     ]
    },
    {
     "name": "stderr",
     "output_type": "stream",
     "text": [
      "/home/tommy/neuralhydrology/neuralhydrology/utils/config.py:597: FutureWarning: 'camels_attributes' will be deprecated. Use 'static_attributes' in the future\n",
      "  warnings.warn(\"'camels_attributes' will be deprecated. Use 'static_attributes' in the future\",\n"
     ]
    },
    {
     "name": "stdout",
     "output_type": "stream",
     "text": [
      "# Evaluation:   1%|▏         | 9/669 [00:05<07:03,  1.56it/s]"
     ]
    },
    {
     "name": "stderr",
     "output_type": "stream",
     "text": [
      "/home/tommy/neuralhydrology/neuralhydrology/utils/config.py:597: FutureWarning: 'camels_attributes' will be deprecated. Use 'static_attributes' in the future\n",
      "  warnings.warn(\"'camels_attributes' will be deprecated. Use 'static_attributes' in the future\",\n"
     ]
    },
    {
     "name": "stdout",
     "output_type": "stream",
     "text": [
      "# Evaluation:   1%|▏         | 10/669 [00:06<06:56,  1.58it/s]"
     ]
    },
    {
     "name": "stderr",
     "output_type": "stream",
     "text": [
      "/home/tommy/neuralhydrology/neuralhydrology/utils/config.py:597: FutureWarning: 'camels_attributes' will be deprecated. Use 'static_attributes' in the future\n",
      "  warnings.warn(\"'camels_attributes' will be deprecated. Use 'static_attributes' in the future\",\n"
     ]
    },
    {
     "name": "stdout",
     "output_type": "stream",
     "text": [
      "# Evaluation:   2%|▏         | 11/669 [00:06<06:48,  1.61it/s]"
     ]
    },
    {
     "name": "stderr",
     "output_type": "stream",
     "text": [
      "/home/tommy/neuralhydrology/neuralhydrology/utils/config.py:597: FutureWarning: 'camels_attributes' will be deprecated. Use 'static_attributes' in the future\n",
      "  warnings.warn(\"'camels_attributes' will be deprecated. Use 'static_attributes' in the future\",\n"
     ]
    },
    {
     "name": "stdout",
     "output_type": "stream",
     "text": [
      "# Evaluation:   2%|▏         | 12/669 [00:07<06:45,  1.62it/s]"
     ]
    },
    {
     "name": "stderr",
     "output_type": "stream",
     "text": [
      "/home/tommy/neuralhydrology/neuralhydrology/utils/config.py:597: FutureWarning: 'camels_attributes' will be deprecated. Use 'static_attributes' in the future\n",
      "  warnings.warn(\"'camels_attributes' will be deprecated. Use 'static_attributes' in the future\",\n"
     ]
    },
    {
     "name": "stdout",
     "output_type": "stream",
     "text": [
      "# Evaluation:   2%|▏         | 13/669 [00:07<06:33,  1.67it/s]"
     ]
    },
    {
     "name": "stderr",
     "output_type": "stream",
     "text": [
      "/home/tommy/neuralhydrology/neuralhydrology/utils/config.py:597: FutureWarning: 'camels_attributes' will be deprecated. Use 'static_attributes' in the future\n",
      "  warnings.warn(\"'camels_attributes' will be deprecated. Use 'static_attributes' in the future\",\n"
     ]
    },
    {
     "name": "stdout",
     "output_type": "stream",
     "text": [
      "# Evaluation:   2%|▏         | 14/669 [00:08<06:28,  1.69it/s]"
     ]
    },
    {
     "name": "stderr",
     "output_type": "stream",
     "text": [
      "/home/tommy/neuralhydrology/neuralhydrology/utils/config.py:597: FutureWarning: 'camels_attributes' will be deprecated. Use 'static_attributes' in the future\n",
      "  warnings.warn(\"'camels_attributes' will be deprecated. Use 'static_attributes' in the future\",\n"
     ]
    },
    {
     "name": "stdout",
     "output_type": "stream",
     "text": [
      "# Evaluation:   2%|▏         | 15/669 [00:09<06:44,  1.62it/s]"
     ]
    },
    {
     "name": "stderr",
     "output_type": "stream",
     "text": [
      "/home/tommy/neuralhydrology/neuralhydrology/utils/config.py:597: FutureWarning: 'camels_attributes' will be deprecated. Use 'static_attributes' in the future\n",
      "  warnings.warn(\"'camels_attributes' will be deprecated. Use 'static_attributes' in the future\",\n"
     ]
    },
    {
     "name": "stdout",
     "output_type": "stream",
     "text": [
      "# Evaluation:   2%|▏         | 16/669 [00:09<06:42,  1.62it/s]"
     ]
    },
    {
     "name": "stderr",
     "output_type": "stream",
     "text": [
      "/home/tommy/neuralhydrology/neuralhydrology/utils/config.py:597: FutureWarning: 'camels_attributes' will be deprecated. Use 'static_attributes' in the future\n",
      "  warnings.warn(\"'camels_attributes' will be deprecated. Use 'static_attributes' in the future\",\n"
     ]
    },
    {
     "name": "stdout",
     "output_type": "stream",
     "text": [
      "# Evaluation:   3%|▎         | 17/669 [00:10<06:33,  1.66it/s]"
     ]
    },
    {
     "name": "stderr",
     "output_type": "stream",
     "text": [
      "/home/tommy/neuralhydrology/neuralhydrology/utils/config.py:597: FutureWarning: 'camels_attributes' will be deprecated. Use 'static_attributes' in the future\n",
      "  warnings.warn(\"'camels_attributes' will be deprecated. Use 'static_attributes' in the future\",\n"
     ]
    },
    {
     "name": "stdout",
     "output_type": "stream",
     "text": [
      "# Evaluation:   3%|▎         | 18/669 [00:10<06:25,  1.69it/s]"
     ]
    },
    {
     "name": "stderr",
     "output_type": "stream",
     "text": [
      "/home/tommy/neuralhydrology/neuralhydrology/utils/config.py:597: FutureWarning: 'camels_attributes' will be deprecated. Use 'static_attributes' in the future\n",
      "  warnings.warn(\"'camels_attributes' will be deprecated. Use 'static_attributes' in the future\",\n"
     ]
    },
    {
     "name": "stdout",
     "output_type": "stream",
     "text": [
      "# Evaluation:   3%|▎         | 19/669 [00:11<06:21,  1.70it/s]"
     ]
    },
    {
     "name": "stderr",
     "output_type": "stream",
     "text": [
      "/home/tommy/neuralhydrology/neuralhydrology/utils/config.py:597: FutureWarning: 'camels_attributes' will be deprecated. Use 'static_attributes' in the future\n",
      "  warnings.warn(\"'camels_attributes' will be deprecated. Use 'static_attributes' in the future\",\n"
     ]
    },
    {
     "name": "stdout",
     "output_type": "stream",
     "text": [
      "# Evaluation:   3%|▎         | 20/669 [00:12<06:17,  1.72it/s]"
     ]
    },
    {
     "name": "stderr",
     "output_type": "stream",
     "text": [
      "/home/tommy/neuralhydrology/neuralhydrology/utils/config.py:597: FutureWarning: 'camels_attributes' will be deprecated. Use 'static_attributes' in the future\n",
      "  warnings.warn(\"'camels_attributes' will be deprecated. Use 'static_attributes' in the future\",\n"
     ]
    },
    {
     "name": "stdout",
     "output_type": "stream",
     "text": [
      "# Evaluation:   3%|▎         | 21/669 [00:12<06:23,  1.69it/s]"
     ]
    },
    {
     "name": "stderr",
     "output_type": "stream",
     "text": [
      "/home/tommy/neuralhydrology/neuralhydrology/utils/config.py:597: FutureWarning: 'camels_attributes' will be deprecated. Use 'static_attributes' in the future\n",
      "  warnings.warn(\"'camels_attributes' will be deprecated. Use 'static_attributes' in the future\",\n"
     ]
    },
    {
     "name": "stdout",
     "output_type": "stream",
     "text": [
      "# Evaluation:   3%|▎         | 22/669 [00:13<06:26,  1.67it/s]"
     ]
    },
    {
     "name": "stderr",
     "output_type": "stream",
     "text": [
      "/home/tommy/neuralhydrology/neuralhydrology/utils/config.py:597: FutureWarning: 'camels_attributes' will be deprecated. Use 'static_attributes' in the future\n",
      "  warnings.warn(\"'camels_attributes' will be deprecated. Use 'static_attributes' in the future\",\n"
     ]
    },
    {
     "name": "stdout",
     "output_type": "stream",
     "text": [
      "# Evaluation:   3%|▎         | 23/669 [00:13<06:29,  1.66it/s]"
     ]
    },
    {
     "name": "stderr",
     "output_type": "stream",
     "text": [
      "/home/tommy/neuralhydrology/neuralhydrology/utils/config.py:597: FutureWarning: 'camels_attributes' will be deprecated. Use 'static_attributes' in the future\n",
      "  warnings.warn(\"'camels_attributes' will be deprecated. Use 'static_attributes' in the future\",\n"
     ]
    },
    {
     "name": "stdout",
     "output_type": "stream",
     "text": [
      "# Evaluation:   4%|▎         | 24/669 [00:14<06:27,  1.66it/s]"
     ]
    },
    {
     "name": "stderr",
     "output_type": "stream",
     "text": [
      "/home/tommy/neuralhydrology/neuralhydrology/utils/config.py:597: FutureWarning: 'camels_attributes' will be deprecated. Use 'static_attributes' in the future\n",
      "  warnings.warn(\"'camels_attributes' will be deprecated. Use 'static_attributes' in the future\",\n"
     ]
    },
    {
     "name": "stdout",
     "output_type": "stream",
     "text": [
      "# Evaluation:   4%|▎         | 25/669 [00:15<06:38,  1.62it/s]"
     ]
    },
    {
     "name": "stderr",
     "output_type": "stream",
     "text": [
      "/home/tommy/neuralhydrology/neuralhydrology/utils/config.py:597: FutureWarning: 'camels_attributes' will be deprecated. Use 'static_attributes' in the future\n",
      "  warnings.warn(\"'camels_attributes' will be deprecated. Use 'static_attributes' in the future\",\n"
     ]
    },
    {
     "name": "stdout",
     "output_type": "stream",
     "text": [
      "# Evaluation:   4%|▍         | 26/669 [00:15<06:28,  1.65it/s]"
     ]
    },
    {
     "name": "stderr",
     "output_type": "stream",
     "text": [
      "/home/tommy/neuralhydrology/neuralhydrology/utils/config.py:597: FutureWarning: 'camels_attributes' will be deprecated. Use 'static_attributes' in the future\n",
      "  warnings.warn(\"'camels_attributes' will be deprecated. Use 'static_attributes' in the future\",\n"
     ]
    },
    {
     "name": "stdout",
     "output_type": "stream",
     "text": [
      "# Evaluation:   4%|▍         | 27/669 [00:16<06:19,  1.69it/s]"
     ]
    },
    {
     "name": "stderr",
     "output_type": "stream",
     "text": [
      "/home/tommy/neuralhydrology/neuralhydrology/utils/config.py:597: FutureWarning: 'camels_attributes' will be deprecated. Use 'static_attributes' in the future\n",
      "  warnings.warn(\"'camels_attributes' will be deprecated. Use 'static_attributes' in the future\",\n"
     ]
    },
    {
     "name": "stdout",
     "output_type": "stream",
     "text": [
      "# Evaluation:   4%|▍         | 28/669 [00:16<06:22,  1.67it/s]"
     ]
    },
    {
     "name": "stderr",
     "output_type": "stream",
     "text": [
      "/home/tommy/neuralhydrology/neuralhydrology/utils/config.py:597: FutureWarning: 'camels_attributes' will be deprecated. Use 'static_attributes' in the future\n",
      "  warnings.warn(\"'camels_attributes' will be deprecated. Use 'static_attributes' in the future\",\n"
     ]
    },
    {
     "name": "stdout",
     "output_type": "stream",
     "text": [
      "# Evaluation:   4%|▍         | 29/669 [00:17<06:18,  1.69it/s]"
     ]
    },
    {
     "name": "stderr",
     "output_type": "stream",
     "text": [
      "/home/tommy/neuralhydrology/neuralhydrology/utils/config.py:597: FutureWarning: 'camels_attributes' will be deprecated. Use 'static_attributes' in the future\n",
      "  warnings.warn(\"'camels_attributes' will be deprecated. Use 'static_attributes' in the future\",\n"
     ]
    },
    {
     "name": "stdout",
     "output_type": "stream",
     "text": [
      "# Evaluation:   4%|▍         | 30/669 [00:18<06:15,  1.70it/s]"
     ]
    },
    {
     "name": "stderr",
     "output_type": "stream",
     "text": [
      "/home/tommy/neuralhydrology/neuralhydrology/utils/config.py:597: FutureWarning: 'camels_attributes' will be deprecated. Use 'static_attributes' in the future\n",
      "  warnings.warn(\"'camels_attributes' will be deprecated. Use 'static_attributes' in the future\",\n"
     ]
    },
    {
     "name": "stdout",
     "output_type": "stream",
     "text": [
      "# Evaluation:   5%|▍         | 31/669 [00:18<06:18,  1.69it/s]"
     ]
    },
    {
     "name": "stderr",
     "output_type": "stream",
     "text": [
      "/home/tommy/neuralhydrology/neuralhydrology/utils/config.py:597: FutureWarning: 'camels_attributes' will be deprecated. Use 'static_attributes' in the future\n",
      "  warnings.warn(\"'camels_attributes' will be deprecated. Use 'static_attributes' in the future\",\n"
     ]
    },
    {
     "name": "stdout",
     "output_type": "stream",
     "text": [
      "# Evaluation:   5%|▍         | 32/669 [00:19<06:21,  1.67it/s]"
     ]
    },
    {
     "name": "stderr",
     "output_type": "stream",
     "text": [
      "/home/tommy/neuralhydrology/neuralhydrology/utils/config.py:597: FutureWarning: 'camels_attributes' will be deprecated. Use 'static_attributes' in the future\n",
      "  warnings.warn(\"'camels_attributes' will be deprecated. Use 'static_attributes' in the future\",\n"
     ]
    },
    {
     "name": "stdout",
     "output_type": "stream",
     "text": [
      "# Evaluation:   5%|▍         | 33/669 [00:19<06:22,  1.66it/s]"
     ]
    },
    {
     "name": "stderr",
     "output_type": "stream",
     "text": [
      "/home/tommy/neuralhydrology/neuralhydrology/utils/config.py:597: FutureWarning: 'camels_attributes' will be deprecated. Use 'static_attributes' in the future\n",
      "  warnings.warn(\"'camels_attributes' will be deprecated. Use 'static_attributes' in the future\",\n"
     ]
    },
    {
     "name": "stdout",
     "output_type": "stream",
     "text": [
      "# Evaluation:   5%|▌         | 34/669 [00:20<06:24,  1.65it/s]"
     ]
    },
    {
     "name": "stderr",
     "output_type": "stream",
     "text": [
      "/home/tommy/neuralhydrology/neuralhydrology/utils/config.py:597: FutureWarning: 'camels_attributes' will be deprecated. Use 'static_attributes' in the future\n",
      "  warnings.warn(\"'camels_attributes' will be deprecated. Use 'static_attributes' in the future\",\n"
     ]
    },
    {
     "name": "stdout",
     "output_type": "stream",
     "text": [
      "# Evaluation:   5%|▌         | 35/669 [00:21<06:48,  1.55it/s]"
     ]
    },
    {
     "name": "stderr",
     "output_type": "stream",
     "text": [
      "/home/tommy/neuralhydrology/neuralhydrology/utils/config.py:597: FutureWarning: 'camels_attributes' will be deprecated. Use 'static_attributes' in the future\n",
      "  warnings.warn(\"'camels_attributes' will be deprecated. Use 'static_attributes' in the future\",\n"
     ]
    },
    {
     "name": "stdout",
     "output_type": "stream",
     "text": [
      "# Evaluation:   5%|▌         | 36/669 [00:21<06:32,  1.61it/s]"
     ]
    },
    {
     "name": "stderr",
     "output_type": "stream",
     "text": [
      "/home/tommy/neuralhydrology/neuralhydrology/utils/config.py:597: FutureWarning: 'camels_attributes' will be deprecated. Use 'static_attributes' in the future\n",
      "  warnings.warn(\"'camels_attributes' will be deprecated. Use 'static_attributes' in the future\",\n"
     ]
    },
    {
     "name": "stdout",
     "output_type": "stream",
     "text": [
      "# Evaluation:   6%|▌         | 37/669 [00:22<06:31,  1.62it/s]"
     ]
    },
    {
     "name": "stderr",
     "output_type": "stream",
     "text": [
      "/home/tommy/neuralhydrology/neuralhydrology/utils/config.py:597: FutureWarning: 'camels_attributes' will be deprecated. Use 'static_attributes' in the future\n",
      "  warnings.warn(\"'camels_attributes' will be deprecated. Use 'static_attributes' in the future\",\n"
     ]
    },
    {
     "name": "stdout",
     "output_type": "stream",
     "text": [
      "# Evaluation:   6%|▌         | 38/669 [00:22<06:15,  1.68it/s]"
     ]
    },
    {
     "name": "stderr",
     "output_type": "stream",
     "text": [
      "/home/tommy/neuralhydrology/neuralhydrology/utils/config.py:597: FutureWarning: 'camels_attributes' will be deprecated. Use 'static_attributes' in the future\n",
      "  warnings.warn(\"'camels_attributes' will be deprecated. Use 'static_attributes' in the future\",\n"
     ]
    },
    {
     "name": "stdout",
     "output_type": "stream",
     "text": [
      "# Evaluation:   6%|▌         | 39/669 [00:23<06:10,  1.70it/s]"
     ]
    },
    {
     "name": "stderr",
     "output_type": "stream",
     "text": [
      "/home/tommy/neuralhydrology/neuralhydrology/utils/config.py:597: FutureWarning: 'camels_attributes' will be deprecated. Use 'static_attributes' in the future\n",
      "  warnings.warn(\"'camels_attributes' will be deprecated. Use 'static_attributes' in the future\",\n"
     ]
    },
    {
     "name": "stdout",
     "output_type": "stream",
     "text": [
      "# Evaluation:   6%|▌         | 40/669 [00:24<06:08,  1.71it/s]"
     ]
    },
    {
     "name": "stderr",
     "output_type": "stream",
     "text": [
      "/home/tommy/neuralhydrology/neuralhydrology/utils/config.py:597: FutureWarning: 'camels_attributes' will be deprecated. Use 'static_attributes' in the future\n",
      "  warnings.warn(\"'camels_attributes' will be deprecated. Use 'static_attributes' in the future\",\n"
     ]
    },
    {
     "name": "stdout",
     "output_type": "stream",
     "text": [
      "# Evaluation:   6%|▌         | 41/669 [00:24<06:10,  1.70it/s]"
     ]
    },
    {
     "name": "stderr",
     "output_type": "stream",
     "text": [
      "/home/tommy/neuralhydrology/neuralhydrology/utils/config.py:597: FutureWarning: 'camels_attributes' will be deprecated. Use 'static_attributes' in the future\n",
      "  warnings.warn(\"'camels_attributes' will be deprecated. Use 'static_attributes' in the future\",\n"
     ]
    },
    {
     "name": "stdout",
     "output_type": "stream",
     "text": [
      "# Evaluation:   6%|▋         | 42/669 [00:25<06:13,  1.68it/s]"
     ]
    },
    {
     "name": "stderr",
     "output_type": "stream",
     "text": [
      "/home/tommy/neuralhydrology/neuralhydrology/utils/config.py:597: FutureWarning: 'camels_attributes' will be deprecated. Use 'static_attributes' in the future\n",
      "  warnings.warn(\"'camels_attributes' will be deprecated. Use 'static_attributes' in the future\",\n"
     ]
    },
    {
     "name": "stdout",
     "output_type": "stream",
     "text": [
      "# Evaluation:   6%|▋         | 43/669 [00:25<06:15,  1.67it/s]"
     ]
    },
    {
     "name": "stderr",
     "output_type": "stream",
     "text": [
      "/home/tommy/neuralhydrology/neuralhydrology/utils/config.py:597: FutureWarning: 'camels_attributes' will be deprecated. Use 'static_attributes' in the future\n",
      "  warnings.warn(\"'camels_attributes' will be deprecated. Use 'static_attributes' in the future\",\n"
     ]
    },
    {
     "name": "stdout",
     "output_type": "stream",
     "text": [
      "# Evaluation:   7%|▋         | 44/669 [00:26<06:16,  1.66it/s]"
     ]
    },
    {
     "name": "stderr",
     "output_type": "stream",
     "text": [
      "/home/tommy/neuralhydrology/neuralhydrology/utils/config.py:597: FutureWarning: 'camels_attributes' will be deprecated. Use 'static_attributes' in the future\n",
      "  warnings.warn(\"'camels_attributes' will be deprecated. Use 'static_attributes' in the future\",\n"
     ]
    },
    {
     "name": "stdout",
     "output_type": "stream",
     "text": [
      "# Evaluation:   7%|▋         | 45/669 [00:27<06:41,  1.55it/s]"
     ]
    },
    {
     "name": "stderr",
     "output_type": "stream",
     "text": [
      "/home/tommy/neuralhydrology/neuralhydrology/utils/config.py:597: FutureWarning: 'camels_attributes' will be deprecated. Use 'static_attributes' in the future\n",
      "  warnings.warn(\"'camels_attributes' will be deprecated. Use 'static_attributes' in the future\",\n"
     ]
    },
    {
     "name": "stdout",
     "output_type": "stream",
     "text": [
      "# Evaluation:   7%|▋         | 46/669 [00:27<06:31,  1.59it/s]"
     ]
    },
    {
     "name": "stderr",
     "output_type": "stream",
     "text": [
      "/home/tommy/neuralhydrology/neuralhydrology/utils/config.py:597: FutureWarning: 'camels_attributes' will be deprecated. Use 'static_attributes' in the future\n",
      "  warnings.warn(\"'camels_attributes' will be deprecated. Use 'static_attributes' in the future\",\n"
     ]
    },
    {
     "name": "stdout",
     "output_type": "stream",
     "text": [
      "# Evaluation:   7%|▋         | 47/669 [00:28<06:23,  1.62it/s]"
     ]
    },
    {
     "name": "stderr",
     "output_type": "stream",
     "text": [
      "/home/tommy/neuralhydrology/neuralhydrology/utils/config.py:597: FutureWarning: 'camels_attributes' will be deprecated. Use 'static_attributes' in the future\n",
      "  warnings.warn(\"'camels_attributes' will be deprecated. Use 'static_attributes' in the future\",\n"
     ]
    },
    {
     "name": "stdout",
     "output_type": "stream",
     "text": [
      "# Evaluation:   7%|▋         | 48/669 [00:29<06:22,  1.63it/s]"
     ]
    },
    {
     "name": "stderr",
     "output_type": "stream",
     "text": [
      "/home/tommy/neuralhydrology/neuralhydrology/utils/config.py:597: FutureWarning: 'camels_attributes' will be deprecated. Use 'static_attributes' in the future\n",
      "  warnings.warn(\"'camels_attributes' will be deprecated. Use 'static_attributes' in the future\",\n"
     ]
    },
    {
     "name": "stdout",
     "output_type": "stream",
     "text": [
      "# Evaluation:   7%|▋         | 49/669 [00:29<06:16,  1.65it/s]"
     ]
    },
    {
     "name": "stderr",
     "output_type": "stream",
     "text": [
      "/home/tommy/neuralhydrology/neuralhydrology/utils/config.py:597: FutureWarning: 'camels_attributes' will be deprecated. Use 'static_attributes' in the future\n",
      "  warnings.warn(\"'camels_attributes' will be deprecated. Use 'static_attributes' in the future\",\n"
     ]
    },
    {
     "name": "stdout",
     "output_type": "stream",
     "text": [
      "# Evaluation:   7%|▋         | 50/669 [00:30<06:16,  1.64it/s]"
     ]
    },
    {
     "name": "stderr",
     "output_type": "stream",
     "text": [
      "/home/tommy/neuralhydrology/neuralhydrology/utils/config.py:597: FutureWarning: 'camels_attributes' will be deprecated. Use 'static_attributes' in the future\n",
      "  warnings.warn(\"'camels_attributes' will be deprecated. Use 'static_attributes' in the future\",\n"
     ]
    },
    {
     "name": "stdout",
     "output_type": "stream",
     "text": [
      "# Evaluation:   8%|▊         | 51/669 [00:30<06:16,  1.64it/s]"
     ]
    },
    {
     "name": "stderr",
     "output_type": "stream",
     "text": [
      "/home/tommy/neuralhydrology/neuralhydrology/utils/config.py:597: FutureWarning: 'camels_attributes' will be deprecated. Use 'static_attributes' in the future\n",
      "  warnings.warn(\"'camels_attributes' will be deprecated. Use 'static_attributes' in the future\",\n"
     ]
    },
    {
     "name": "stdout",
     "output_type": "stream",
     "text": [
      "# Evaluation:   8%|▊         | 52/669 [00:31<06:17,  1.64it/s]"
     ]
    },
    {
     "name": "stderr",
     "output_type": "stream",
     "text": [
      "/home/tommy/neuralhydrology/neuralhydrology/utils/config.py:597: FutureWarning: 'camels_attributes' will be deprecated. Use 'static_attributes' in the future\n",
      "  warnings.warn(\"'camels_attributes' will be deprecated. Use 'static_attributes' in the future\",\n"
     ]
    },
    {
     "name": "stdout",
     "output_type": "stream",
     "text": [
      "# Evaluation:   8%|▊         | 53/669 [00:32<06:17,  1.63it/s]"
     ]
    },
    {
     "name": "stderr",
     "output_type": "stream",
     "text": [
      "/home/tommy/neuralhydrology/neuralhydrology/utils/config.py:597: FutureWarning: 'camels_attributes' will be deprecated. Use 'static_attributes' in the future\n",
      "  warnings.warn(\"'camels_attributes' will be deprecated. Use 'static_attributes' in the future\",\n"
     ]
    },
    {
     "name": "stdout",
     "output_type": "stream",
     "text": [
      "# Evaluation:   8%|▊         | 54/669 [00:32<06:16,  1.63it/s]"
     ]
    },
    {
     "name": "stderr",
     "output_type": "stream",
     "text": [
      "/home/tommy/neuralhydrology/neuralhydrology/utils/config.py:597: FutureWarning: 'camels_attributes' will be deprecated. Use 'static_attributes' in the future\n",
      "  warnings.warn(\"'camels_attributes' will be deprecated. Use 'static_attributes' in the future\",\n"
     ]
    },
    {
     "name": "stdout",
     "output_type": "stream",
     "text": [
      "# Evaluation:   8%|▊         | 55/669 [00:33<06:27,  1.59it/s]"
     ]
    },
    {
     "name": "stderr",
     "output_type": "stream",
     "text": [
      "/home/tommy/neuralhydrology/neuralhydrology/utils/config.py:597: FutureWarning: 'camels_attributes' will be deprecated. Use 'static_attributes' in the future\n",
      "  warnings.warn(\"'camels_attributes' will be deprecated. Use 'static_attributes' in the future\",\n"
     ]
    },
    {
     "name": "stdout",
     "output_type": "stream",
     "text": [
      "# Evaluation:   8%|▊         | 56/669 [00:34<08:18,  1.23it/s]"
     ]
    },
    {
     "name": "stderr",
     "output_type": "stream",
     "text": [
      "/home/tommy/neuralhydrology/neuralhydrology/utils/config.py:597: FutureWarning: 'camels_attributes' will be deprecated. Use 'static_attributes' in the future\n",
      "  warnings.warn(\"'camels_attributes' will be deprecated. Use 'static_attributes' in the future\",\n"
     ]
    },
    {
     "name": "stdout",
     "output_type": "stream",
     "text": [
      "# Evaluation:   9%|▊         | 57/669 [00:35<09:25,  1.08it/s]"
     ]
    },
    {
     "name": "stderr",
     "output_type": "stream",
     "text": [
      "/home/tommy/neuralhydrology/neuralhydrology/utils/config.py:597: FutureWarning: 'camels_attributes' will be deprecated. Use 'static_attributes' in the future\n",
      "  warnings.warn(\"'camels_attributes' will be deprecated. Use 'static_attributes' in the future\",\n"
     ]
    },
    {
     "name": "stdout",
     "output_type": "stream",
     "text": [
      "# Evaluation:   9%|▊         | 58/669 [00:36<08:23,  1.21it/s]"
     ]
    },
    {
     "name": "stderr",
     "output_type": "stream",
     "text": [
      "/home/tommy/neuralhydrology/neuralhydrology/utils/config.py:597: FutureWarning: 'camels_attributes' will be deprecated. Use 'static_attributes' in the future\n",
      "  warnings.warn(\"'camels_attributes' will be deprecated. Use 'static_attributes' in the future\",\n"
     ]
    },
    {
     "name": "stdout",
     "output_type": "stream",
     "text": [
      "# Evaluation:   9%|▉         | 59/669 [00:37<07:43,  1.32it/s]"
     ]
    },
    {
     "name": "stderr",
     "output_type": "stream",
     "text": [
      "/home/tommy/neuralhydrology/neuralhydrology/utils/config.py:597: FutureWarning: 'camels_attributes' will be deprecated. Use 'static_attributes' in the future\n",
      "  warnings.warn(\"'camels_attributes' will be deprecated. Use 'static_attributes' in the future\",\n"
     ]
    },
    {
     "name": "stdout",
     "output_type": "stream",
     "text": [
      "# Evaluation:   9%|▉         | 60/669 [00:37<07:03,  1.44it/s]"
     ]
    },
    {
     "name": "stderr",
     "output_type": "stream",
     "text": [
      "/home/tommy/neuralhydrology/neuralhydrology/utils/config.py:597: FutureWarning: 'camels_attributes' will be deprecated. Use 'static_attributes' in the future\n",
      "  warnings.warn(\"'camels_attributes' will be deprecated. Use 'static_attributes' in the future\",\n"
     ]
    },
    {
     "name": "stdout",
     "output_type": "stream",
     "text": [
      "# Evaluation:   9%|▉         | 61/669 [00:38<06:47,  1.49it/s]"
     ]
    },
    {
     "name": "stderr",
     "output_type": "stream",
     "text": [
      "/home/tommy/neuralhydrology/neuralhydrology/utils/config.py:597: FutureWarning: 'camels_attributes' will be deprecated. Use 'static_attributes' in the future\n",
      "  warnings.warn(\"'camels_attributes' will be deprecated. Use 'static_attributes' in the future\",\n"
     ]
    },
    {
     "name": "stdout",
     "output_type": "stream",
     "text": [
      "# Evaluation:   9%|▉         | 62/669 [00:38<06:33,  1.54it/s]"
     ]
    },
    {
     "name": "stderr",
     "output_type": "stream",
     "text": [
      "/home/tommy/neuralhydrology/neuralhydrology/utils/config.py:597: FutureWarning: 'camels_attributes' will be deprecated. Use 'static_attributes' in the future\n",
      "  warnings.warn(\"'camels_attributes' will be deprecated. Use 'static_attributes' in the future\",\n"
     ]
    },
    {
     "name": "stdout",
     "output_type": "stream",
     "text": [
      "# Evaluation:   9%|▉         | 63/669 [00:39<06:19,  1.60it/s]"
     ]
    },
    {
     "name": "stderr",
     "output_type": "stream",
     "text": [
      "/home/tommy/neuralhydrology/neuralhydrology/utils/config.py:597: FutureWarning: 'camels_attributes' will be deprecated. Use 'static_attributes' in the future\n",
      "  warnings.warn(\"'camels_attributes' will be deprecated. Use 'static_attributes' in the future\",\n"
     ]
    },
    {
     "name": "stdout",
     "output_type": "stream",
     "text": [
      "# Evaluation:  10%|▉         | 64/669 [00:39<06:16,  1.61it/s]"
     ]
    },
    {
     "name": "stderr",
     "output_type": "stream",
     "text": [
      "/home/tommy/neuralhydrology/neuralhydrology/utils/config.py:597: FutureWarning: 'camels_attributes' will be deprecated. Use 'static_attributes' in the future\n",
      "  warnings.warn(\"'camels_attributes' will be deprecated. Use 'static_attributes' in the future\",\n"
     ]
    },
    {
     "name": "stdout",
     "output_type": "stream",
     "text": [
      "# Evaluation:  10%|▉         | 65/669 [00:40<06:36,  1.52it/s]"
     ]
    },
    {
     "name": "stderr",
     "output_type": "stream",
     "text": [
      "/home/tommy/neuralhydrology/neuralhydrology/utils/config.py:597: FutureWarning: 'camels_attributes' will be deprecated. Use 'static_attributes' in the future\n",
      "  warnings.warn(\"'camels_attributes' will be deprecated. Use 'static_attributes' in the future\",\n"
     ]
    },
    {
     "name": "stdout",
     "output_type": "stream",
     "text": [
      "# Evaluation:  10%|▉         | 66/669 [00:41<06:17,  1.60it/s]"
     ]
    },
    {
     "name": "stderr",
     "output_type": "stream",
     "text": [
      "/home/tommy/neuralhydrology/neuralhydrology/utils/config.py:597: FutureWarning: 'camels_attributes' will be deprecated. Use 'static_attributes' in the future\n",
      "  warnings.warn(\"'camels_attributes' will be deprecated. Use 'static_attributes' in the future\",\n"
     ]
    },
    {
     "name": "stdout",
     "output_type": "stream",
     "text": [
      "# Evaluation:  10%|█         | 67/669 [00:41<06:06,  1.64it/s]"
     ]
    },
    {
     "name": "stderr",
     "output_type": "stream",
     "text": [
      "/home/tommy/neuralhydrology/neuralhydrology/utils/config.py:597: FutureWarning: 'camels_attributes' will be deprecated. Use 'static_attributes' in the future\n",
      "  warnings.warn(\"'camels_attributes' will be deprecated. Use 'static_attributes' in the future\",\n"
     ]
    },
    {
     "name": "stdout",
     "output_type": "stream",
     "text": [
      "# Evaluation:  10%|█         | 68/669 [00:42<05:43,  1.75it/s]"
     ]
    },
    {
     "name": "stderr",
     "output_type": "stream",
     "text": [
      "/home/tommy/neuralhydrology/neuralhydrology/utils/config.py:597: FutureWarning: 'camels_attributes' will be deprecated. Use 'static_attributes' in the future\n",
      "  warnings.warn(\"'camels_attributes' will be deprecated. Use 'static_attributes' in the future\",\n"
     ]
    },
    {
     "name": "stdout",
     "output_type": "stream",
     "text": [
      "# Evaluation:  10%|█         | 69/669 [00:42<05:48,  1.72it/s]"
     ]
    },
    {
     "name": "stderr",
     "output_type": "stream",
     "text": [
      "/home/tommy/neuralhydrology/neuralhydrology/utils/config.py:597: FutureWarning: 'camels_attributes' will be deprecated. Use 'static_attributes' in the future\n",
      "  warnings.warn(\"'camels_attributes' will be deprecated. Use 'static_attributes' in the future\",\n"
     ]
    },
    {
     "name": "stdout",
     "output_type": "stream",
     "text": [
      "# Evaluation:  10%|█         | 70/669 [00:43<05:44,  1.74it/s]"
     ]
    },
    {
     "name": "stderr",
     "output_type": "stream",
     "text": [
      "/home/tommy/neuralhydrology/neuralhydrology/utils/config.py:597: FutureWarning: 'camels_attributes' will be deprecated. Use 'static_attributes' in the future\n",
      "  warnings.warn(\"'camels_attributes' will be deprecated. Use 'static_attributes' in the future\",\n"
     ]
    },
    {
     "name": "stdout",
     "output_type": "stream",
     "text": [
      "# Evaluation:  11%|█         | 71/669 [00:44<05:39,  1.76it/s]"
     ]
    },
    {
     "name": "stderr",
     "output_type": "stream",
     "text": [
      "/home/tommy/neuralhydrology/neuralhydrology/utils/config.py:597: FutureWarning: 'camels_attributes' will be deprecated. Use 'static_attributes' in the future\n",
      "  warnings.warn(\"'camels_attributes' will be deprecated. Use 'static_attributes' in the future\",\n"
     ]
    },
    {
     "name": "stdout",
     "output_type": "stream",
     "text": [
      "# Evaluation:  11%|█         | 72/669 [00:44<05:46,  1.72it/s]"
     ]
    },
    {
     "name": "stderr",
     "output_type": "stream",
     "text": [
      "/home/tommy/neuralhydrology/neuralhydrology/utils/config.py:597: FutureWarning: 'camels_attributes' will be deprecated. Use 'static_attributes' in the future\n",
      "  warnings.warn(\"'camels_attributes' will be deprecated. Use 'static_attributes' in the future\",\n"
     ]
    },
    {
     "name": "stdout",
     "output_type": "stream",
     "text": [
      "# Evaluation:  11%|█         | 73/669 [00:45<05:51,  1.70it/s]"
     ]
    },
    {
     "name": "stderr",
     "output_type": "stream",
     "text": [
      "/home/tommy/neuralhydrology/neuralhydrology/utils/config.py:597: FutureWarning: 'camels_attributes' will be deprecated. Use 'static_attributes' in the future\n",
      "  warnings.warn(\"'camels_attributes' will be deprecated. Use 'static_attributes' in the future\",\n"
     ]
    },
    {
     "name": "stdout",
     "output_type": "stream",
     "text": [
      "# Evaluation:  11%|█         | 74/669 [00:45<05:54,  1.68it/s]"
     ]
    },
    {
     "name": "stderr",
     "output_type": "stream",
     "text": [
      "/home/tommy/neuralhydrology/neuralhydrology/utils/config.py:597: FutureWarning: 'camels_attributes' will be deprecated. Use 'static_attributes' in the future\n",
      "  warnings.warn(\"'camels_attributes' will be deprecated. Use 'static_attributes' in the future\",\n"
     ]
    },
    {
     "name": "stdout",
     "output_type": "stream",
     "text": [
      "# Evaluation:  11%|█         | 75/669 [00:46<05:59,  1.65it/s]"
     ]
    },
    {
     "name": "stderr",
     "output_type": "stream",
     "text": [
      "/home/tommy/neuralhydrology/neuralhydrology/utils/config.py:597: FutureWarning: 'camels_attributes' will be deprecated. Use 'static_attributes' in the future\n",
      "  warnings.warn(\"'camels_attributes' will be deprecated. Use 'static_attributes' in the future\",\n"
     ]
    },
    {
     "name": "stdout",
     "output_type": "stream",
     "text": [
      "# Evaluation:  11%|█▏        | 76/669 [00:47<05:59,  1.65it/s]"
     ]
    },
    {
     "name": "stderr",
     "output_type": "stream",
     "text": [
      "/home/tommy/neuralhydrology/neuralhydrology/utils/config.py:597: FutureWarning: 'camels_attributes' will be deprecated. Use 'static_attributes' in the future\n",
      "  warnings.warn(\"'camels_attributes' will be deprecated. Use 'static_attributes' in the future\",\n"
     ]
    },
    {
     "name": "stdout",
     "output_type": "stream",
     "text": [
      "# Evaluation:  12%|█▏        | 77/669 [00:47<05:45,  1.72it/s]"
     ]
    },
    {
     "name": "stderr",
     "output_type": "stream",
     "text": [
      "/home/tommy/neuralhydrology/neuralhydrology/utils/config.py:597: FutureWarning: 'camels_attributes' will be deprecated. Use 'static_attributes' in the future\n",
      "  warnings.warn(\"'camels_attributes' will be deprecated. Use 'static_attributes' in the future\",\n"
     ]
    },
    {
     "name": "stdout",
     "output_type": "stream",
     "text": [
      "# Evaluation:  12%|█▏        | 78/669 [00:48<05:51,  1.68it/s]"
     ]
    },
    {
     "name": "stderr",
     "output_type": "stream",
     "text": [
      "/home/tommy/neuralhydrology/neuralhydrology/utils/config.py:597: FutureWarning: 'camels_attributes' will be deprecated. Use 'static_attributes' in the future\n",
      "  warnings.warn(\"'camels_attributes' will be deprecated. Use 'static_attributes' in the future\",\n"
     ]
    },
    {
     "name": "stdout",
     "output_type": "stream",
     "text": [
      "# Evaluation:  12%|█▏        | 79/669 [00:48<05:36,  1.75it/s]"
     ]
    },
    {
     "name": "stderr",
     "output_type": "stream",
     "text": [
      "/home/tommy/neuralhydrology/neuralhydrology/utils/config.py:597: FutureWarning: 'camels_attributes' will be deprecated. Use 'static_attributes' in the future\n",
      "  warnings.warn(\"'camels_attributes' will be deprecated. Use 'static_attributes' in the future\",\n"
     ]
    },
    {
     "name": "stdout",
     "output_type": "stream",
     "text": [
      "# Evaluation:  12%|█▏        | 80/669 [00:49<05:42,  1.72it/s]"
     ]
    },
    {
     "name": "stderr",
     "output_type": "stream",
     "text": [
      "/home/tommy/neuralhydrology/neuralhydrology/utils/config.py:597: FutureWarning: 'camels_attributes' will be deprecated. Use 'static_attributes' in the future\n",
      "  warnings.warn(\"'camels_attributes' will be deprecated. Use 'static_attributes' in the future\",\n"
     ]
    },
    {
     "name": "stdout",
     "output_type": "stream",
     "text": [
      "# Evaluation:  12%|█▏        | 81/669 [00:49<05:46,  1.70it/s]"
     ]
    },
    {
     "name": "stderr",
     "output_type": "stream",
     "text": [
      "/home/tommy/neuralhydrology/neuralhydrology/utils/config.py:597: FutureWarning: 'camels_attributes' will be deprecated. Use 'static_attributes' in the future\n",
      "  warnings.warn(\"'camels_attributes' will be deprecated. Use 'static_attributes' in the future\",\n"
     ]
    },
    {
     "name": "stdout",
     "output_type": "stream",
     "text": [
      "# Evaluation:  12%|█▏        | 82/669 [00:50<05:50,  1.68it/s]"
     ]
    },
    {
     "name": "stderr",
     "output_type": "stream",
     "text": [
      "/home/tommy/neuralhydrology/neuralhydrology/utils/config.py:597: FutureWarning: 'camels_attributes' will be deprecated. Use 'static_attributes' in the future\n",
      "  warnings.warn(\"'camels_attributes' will be deprecated. Use 'static_attributes' in the future\",\n"
     ]
    },
    {
     "name": "stdout",
     "output_type": "stream",
     "text": [
      "# Evaluation:  12%|█▏        | 83/669 [00:51<05:51,  1.67it/s]"
     ]
    },
    {
     "name": "stderr",
     "output_type": "stream",
     "text": [
      "/home/tommy/neuralhydrology/neuralhydrology/utils/config.py:597: FutureWarning: 'camels_attributes' will be deprecated. Use 'static_attributes' in the future\n",
      "  warnings.warn(\"'camels_attributes' will be deprecated. Use 'static_attributes' in the future\",\n"
     ]
    },
    {
     "name": "stdout",
     "output_type": "stream",
     "text": [
      "# Evaluation:  13%|█▎        | 84/669 [00:51<05:50,  1.67it/s]"
     ]
    },
    {
     "name": "stderr",
     "output_type": "stream",
     "text": [
      "/home/tommy/neuralhydrology/neuralhydrology/utils/config.py:597: FutureWarning: 'camels_attributes' will be deprecated. Use 'static_attributes' in the future\n",
      "  warnings.warn(\"'camels_attributes' will be deprecated. Use 'static_attributes' in the future\",\n"
     ]
    },
    {
     "name": "stdout",
     "output_type": "stream",
     "text": [
      "# Evaluation:  13%|█▎        | 85/669 [00:52<06:11,  1.57it/s]"
     ]
    },
    {
     "name": "stderr",
     "output_type": "stream",
     "text": [
      "/home/tommy/neuralhydrology/neuralhydrology/utils/config.py:597: FutureWarning: 'camels_attributes' will be deprecated. Use 'static_attributes' in the future\n",
      "  warnings.warn(\"'camels_attributes' will be deprecated. Use 'static_attributes' in the future\",\n"
     ]
    },
    {
     "name": "stdout",
     "output_type": "stream",
     "text": [
      "# Evaluation:  13%|█▎        | 86/669 [00:53<06:05,  1.60it/s]"
     ]
    },
    {
     "name": "stderr",
     "output_type": "stream",
     "text": [
      "/home/tommy/neuralhydrology/neuralhydrology/utils/config.py:597: FutureWarning: 'camels_attributes' will be deprecated. Use 'static_attributes' in the future\n",
      "  warnings.warn(\"'camels_attributes' will be deprecated. Use 'static_attributes' in the future\",\n"
     ]
    },
    {
     "name": "stdout",
     "output_type": "stream",
     "text": [
      "# Evaluation:  13%|█▎        | 87/669 [00:53<06:01,  1.61it/s]"
     ]
    },
    {
     "name": "stderr",
     "output_type": "stream",
     "text": [
      "/home/tommy/neuralhydrology/neuralhydrology/utils/config.py:597: FutureWarning: 'camels_attributes' will be deprecated. Use 'static_attributes' in the future\n",
      "  warnings.warn(\"'camels_attributes' will be deprecated. Use 'static_attributes' in the future\",\n"
     ]
    },
    {
     "name": "stdout",
     "output_type": "stream",
     "text": [
      "# Evaluation:  13%|█▎        | 88/669 [00:54<05:58,  1.62it/s]"
     ]
    },
    {
     "name": "stderr",
     "output_type": "stream",
     "text": [
      "/home/tommy/neuralhydrology/neuralhydrology/utils/config.py:597: FutureWarning: 'camels_attributes' will be deprecated. Use 'static_attributes' in the future\n",
      "  warnings.warn(\"'camels_attributes' will be deprecated. Use 'static_attributes' in the future\",\n"
     ]
    },
    {
     "name": "stdout",
     "output_type": "stream",
     "text": [
      "# Evaluation:  13%|█▎        | 89/669 [00:54<05:56,  1.63it/s]"
     ]
    },
    {
     "name": "stderr",
     "output_type": "stream",
     "text": [
      "/home/tommy/neuralhydrology/neuralhydrology/utils/config.py:597: FutureWarning: 'camels_attributes' will be deprecated. Use 'static_attributes' in the future\n",
      "  warnings.warn(\"'camels_attributes' will be deprecated. Use 'static_attributes' in the future\",\n"
     ]
    },
    {
     "name": "stdout",
     "output_type": "stream",
     "text": [
      "# Evaluation:  13%|█▎        | 90/669 [00:55<05:55,  1.63it/s]"
     ]
    },
    {
     "name": "stderr",
     "output_type": "stream",
     "text": [
      "/home/tommy/neuralhydrology/neuralhydrology/utils/config.py:597: FutureWarning: 'camels_attributes' will be deprecated. Use 'static_attributes' in the future\n",
      "  warnings.warn(\"'camels_attributes' will be deprecated. Use 'static_attributes' in the future\",\n"
     ]
    },
    {
     "name": "stdout",
     "output_type": "stream",
     "text": [
      "# Evaluation:  14%|█▎        | 91/669 [00:56<05:54,  1.63it/s]"
     ]
    },
    {
     "name": "stderr",
     "output_type": "stream",
     "text": [
      "/home/tommy/neuralhydrology/neuralhydrology/utils/config.py:597: FutureWarning: 'camels_attributes' will be deprecated. Use 'static_attributes' in the future\n",
      "  warnings.warn(\"'camels_attributes' will be deprecated. Use 'static_attributes' in the future\",\n"
     ]
    },
    {
     "name": "stdout",
     "output_type": "stream",
     "text": [
      "# Evaluation:  14%|█▍        | 92/669 [00:56<05:34,  1.72it/s]"
     ]
    },
    {
     "name": "stderr",
     "output_type": "stream",
     "text": [
      "/home/tommy/neuralhydrology/neuralhydrology/utils/config.py:597: FutureWarning: 'camels_attributes' will be deprecated. Use 'static_attributes' in the future\n",
      "  warnings.warn(\"'camels_attributes' will be deprecated. Use 'static_attributes' in the future\",\n"
     ]
    },
    {
     "name": "stdout",
     "output_type": "stream",
     "text": [
      "# Evaluation:  14%|█▍        | 93/669 [00:57<05:28,  1.75it/s]"
     ]
    },
    {
     "name": "stderr",
     "output_type": "stream",
     "text": [
      "/home/tommy/neuralhydrology/neuralhydrology/utils/config.py:597: FutureWarning: 'camels_attributes' will be deprecated. Use 'static_attributes' in the future\n",
      "  warnings.warn(\"'camels_attributes' will be deprecated. Use 'static_attributes' in the future\",\n"
     ]
    },
    {
     "name": "stdout",
     "output_type": "stream",
     "text": [
      "# Evaluation:  14%|█▍        | 94/669 [00:57<05:27,  1.76it/s]"
     ]
    },
    {
     "name": "stderr",
     "output_type": "stream",
     "text": [
      "/home/tommy/neuralhydrology/neuralhydrology/utils/config.py:597: FutureWarning: 'camels_attributes' will be deprecated. Use 'static_attributes' in the future\n",
      "  warnings.warn(\"'camels_attributes' will be deprecated. Use 'static_attributes' in the future\",\n"
     ]
    },
    {
     "name": "stdout",
     "output_type": "stream",
     "text": [
      "# Evaluation:  14%|█▍        | 95/669 [00:58<05:56,  1.61it/s]"
     ]
    },
    {
     "name": "stderr",
     "output_type": "stream",
     "text": [
      "/home/tommy/neuralhydrology/neuralhydrology/utils/config.py:597: FutureWarning: 'camels_attributes' will be deprecated. Use 'static_attributes' in the future\n",
      "  warnings.warn(\"'camels_attributes' will be deprecated. Use 'static_attributes' in the future\",\n"
     ]
    },
    {
     "name": "stdout",
     "output_type": "stream",
     "text": [
      "# Evaluation:  14%|█▍        | 96/669 [00:59<05:53,  1.62it/s]"
     ]
    },
    {
     "name": "stderr",
     "output_type": "stream",
     "text": [
      "/home/tommy/neuralhydrology/neuralhydrology/utils/config.py:597: FutureWarning: 'camels_attributes' will be deprecated. Use 'static_attributes' in the future\n",
      "  warnings.warn(\"'camels_attributes' will be deprecated. Use 'static_attributes' in the future\",\n"
     ]
    },
    {
     "name": "stdout",
     "output_type": "stream",
     "text": [
      "# Evaluation:  14%|█▍        | 97/669 [00:59<05:51,  1.63it/s]"
     ]
    },
    {
     "name": "stderr",
     "output_type": "stream",
     "text": [
      "/home/tommy/neuralhydrology/neuralhydrology/utils/config.py:597: FutureWarning: 'camels_attributes' will be deprecated. Use 'static_attributes' in the future\n",
      "  warnings.warn(\"'camels_attributes' will be deprecated. Use 'static_attributes' in the future\",\n"
     ]
    },
    {
     "name": "stdout",
     "output_type": "stream",
     "text": [
      "# Evaluation:  15%|█▍        | 98/669 [01:00<05:46,  1.65it/s]"
     ]
    },
    {
     "name": "stderr",
     "output_type": "stream",
     "text": [
      "/home/tommy/neuralhydrology/neuralhydrology/utils/config.py:597: FutureWarning: 'camels_attributes' will be deprecated. Use 'static_attributes' in the future\n",
      "  warnings.warn(\"'camels_attributes' will be deprecated. Use 'static_attributes' in the future\",\n"
     ]
    },
    {
     "name": "stdout",
     "output_type": "stream",
     "text": [
      "# Evaluation:  15%|█▍        | 99/669 [01:00<05:46,  1.64it/s]"
     ]
    },
    {
     "name": "stderr",
     "output_type": "stream",
     "text": [
      "/home/tommy/neuralhydrology/neuralhydrology/utils/config.py:597: FutureWarning: 'camels_attributes' will be deprecated. Use 'static_attributes' in the future\n",
      "  warnings.warn(\"'camels_attributes' will be deprecated. Use 'static_attributes' in the future\",\n"
     ]
    },
    {
     "name": "stdout",
     "output_type": "stream",
     "text": [
      "# Evaluation:  15%|█▍        | 100/669 [01:01<05:38,  1.68it/s]"
     ]
    },
    {
     "name": "stderr",
     "output_type": "stream",
     "text": [
      "/home/tommy/neuralhydrology/neuralhydrology/utils/config.py:597: FutureWarning: 'camels_attributes' will be deprecated. Use 'static_attributes' in the future\n",
      "  warnings.warn(\"'camels_attributes' will be deprecated. Use 'static_attributes' in the future\",\n"
     ]
    },
    {
     "name": "stdout",
     "output_type": "stream",
     "text": [
      "# Evaluation:  15%|█▌        | 101/669 [01:02<05:40,  1.67it/s]"
     ]
    },
    {
     "name": "stderr",
     "output_type": "stream",
     "text": [
      "/home/tommy/neuralhydrology/neuralhydrology/utils/config.py:597: FutureWarning: 'camels_attributes' will be deprecated. Use 'static_attributes' in the future\n",
      "  warnings.warn(\"'camels_attributes' will be deprecated. Use 'static_attributes' in the future\",\n"
     ]
    },
    {
     "name": "stdout",
     "output_type": "stream",
     "text": [
      "# Evaluation:  15%|█▌        | 102/669 [01:02<05:41,  1.66it/s]"
     ]
    },
    {
     "name": "stderr",
     "output_type": "stream",
     "text": [
      "/home/tommy/neuralhydrology/neuralhydrology/utils/config.py:597: FutureWarning: 'camels_attributes' will be deprecated. Use 'static_attributes' in the future\n",
      "  warnings.warn(\"'camels_attributes' will be deprecated. Use 'static_attributes' in the future\",\n"
     ]
    },
    {
     "name": "stdout",
     "output_type": "stream",
     "text": [
      "# Evaluation:  15%|█▌        | 103/669 [01:03<05:42,  1.65it/s]"
     ]
    },
    {
     "name": "stderr",
     "output_type": "stream",
     "text": [
      "/home/tommy/neuralhydrology/neuralhydrology/utils/config.py:597: FutureWarning: 'camels_attributes' will be deprecated. Use 'static_attributes' in the future\n",
      "  warnings.warn(\"'camels_attributes' will be deprecated. Use 'static_attributes' in the future\",\n"
     ]
    },
    {
     "name": "stdout",
     "output_type": "stream",
     "text": [
      "# Evaluation:  16%|█▌        | 104/669 [01:03<05:43,  1.65it/s]"
     ]
    },
    {
     "name": "stderr",
     "output_type": "stream",
     "text": [
      "/home/tommy/neuralhydrology/neuralhydrology/utils/config.py:597: FutureWarning: 'camels_attributes' will be deprecated. Use 'static_attributes' in the future\n",
      "  warnings.warn(\"'camels_attributes' will be deprecated. Use 'static_attributes' in the future\",\n"
     ]
    },
    {
     "name": "stdout",
     "output_type": "stream",
     "text": [
      "# Evaluation:  16%|█▌        | 105/669 [01:05<09:17,  1.01it/s]"
     ]
    },
    {
     "name": "stderr",
     "output_type": "stream",
     "text": [
      "/home/tommy/neuralhydrology/neuralhydrology/utils/config.py:597: FutureWarning: 'camels_attributes' will be deprecated. Use 'static_attributes' in the future\n",
      "  warnings.warn(\"'camels_attributes' will be deprecated. Use 'static_attributes' in the future\",\n"
     ]
    },
    {
     "name": "stdout",
     "output_type": "stream",
     "text": [
      "# Evaluation:  16%|█▌        | 106/669 [01:06<08:10,  1.15it/s]"
     ]
    },
    {
     "name": "stderr",
     "output_type": "stream",
     "text": [
      "/home/tommy/neuralhydrology/neuralhydrology/utils/config.py:597: FutureWarning: 'camels_attributes' will be deprecated. Use 'static_attributes' in the future\n",
      "  warnings.warn(\"'camels_attributes' will be deprecated. Use 'static_attributes' in the future\",\n"
     ]
    },
    {
     "name": "stdout",
     "output_type": "stream",
     "text": [
      "# Evaluation:  16%|█▌        | 107/669 [01:07<07:24,  1.27it/s]"
     ]
    },
    {
     "name": "stderr",
     "output_type": "stream",
     "text": [
      "/home/tommy/neuralhydrology/neuralhydrology/utils/config.py:597: FutureWarning: 'camels_attributes' will be deprecated. Use 'static_attributes' in the future\n",
      "  warnings.warn(\"'camels_attributes' will be deprecated. Use 'static_attributes' in the future\",\n"
     ]
    },
    {
     "name": "stdout",
     "output_type": "stream",
     "text": [
      "# Evaluation:  16%|█▌        | 108/669 [01:07<06:52,  1.36it/s]"
     ]
    },
    {
     "name": "stderr",
     "output_type": "stream",
     "text": [
      "/home/tommy/neuralhydrology/neuralhydrology/utils/config.py:597: FutureWarning: 'camels_attributes' will be deprecated. Use 'static_attributes' in the future\n",
      "  warnings.warn(\"'camels_attributes' will be deprecated. Use 'static_attributes' in the future\",\n"
     ]
    },
    {
     "name": "stdout",
     "output_type": "stream",
     "text": [
      "# Evaluation:  16%|█▋        | 109/669 [01:08<06:23,  1.46it/s]"
     ]
    },
    {
     "name": "stderr",
     "output_type": "stream",
     "text": [
      "/home/tommy/neuralhydrology/neuralhydrology/utils/config.py:597: FutureWarning: 'camels_attributes' will be deprecated. Use 'static_attributes' in the future\n",
      "  warnings.warn(\"'camels_attributes' will be deprecated. Use 'static_attributes' in the future\",\n"
     ]
    },
    {
     "name": "stdout",
     "output_type": "stream",
     "text": [
      "# Evaluation:  16%|█▋        | 110/669 [01:08<06:11,  1.50it/s]"
     ]
    },
    {
     "name": "stderr",
     "output_type": "stream",
     "text": [
      "/home/tommy/neuralhydrology/neuralhydrology/utils/config.py:597: FutureWarning: 'camels_attributes' will be deprecated. Use 'static_attributes' in the future\n",
      "  warnings.warn(\"'camels_attributes' will be deprecated. Use 'static_attributes' in the future\",\n"
     ]
    },
    {
     "name": "stdout",
     "output_type": "stream",
     "text": [
      "# Evaluation:  17%|█▋        | 111/669 [01:09<06:03,  1.54it/s]"
     ]
    },
    {
     "name": "stderr",
     "output_type": "stream",
     "text": [
      "/home/tommy/neuralhydrology/neuralhydrology/utils/config.py:597: FutureWarning: 'camels_attributes' will be deprecated. Use 'static_attributes' in the future\n",
      "  warnings.warn(\"'camels_attributes' will be deprecated. Use 'static_attributes' in the future\",\n"
     ]
    },
    {
     "name": "stdout",
     "output_type": "stream",
     "text": [
      "# Evaluation:  17%|█▋        | 112/669 [01:10<05:55,  1.57it/s]"
     ]
    },
    {
     "name": "stderr",
     "output_type": "stream",
     "text": [
      "/home/tommy/neuralhydrology/neuralhydrology/utils/config.py:597: FutureWarning: 'camels_attributes' will be deprecated. Use 'static_attributes' in the future\n",
      "  warnings.warn(\"'camels_attributes' will be deprecated. Use 'static_attributes' in the future\",\n"
     ]
    },
    {
     "name": "stdout",
     "output_type": "stream",
     "text": [
      "# Evaluation:  17%|█▋        | 113/669 [01:10<05:50,  1.59it/s]"
     ]
    },
    {
     "name": "stderr",
     "output_type": "stream",
     "text": [
      "/home/tommy/neuralhydrology/neuralhydrology/utils/config.py:597: FutureWarning: 'camels_attributes' will be deprecated. Use 'static_attributes' in the future\n",
      "  warnings.warn(\"'camels_attributes' will be deprecated. Use 'static_attributes' in the future\",\n"
     ]
    },
    {
     "name": "stdout",
     "output_type": "stream",
     "text": [
      "# Evaluation:  17%|█▋        | 114/669 [01:11<05:47,  1.60it/s]"
     ]
    },
    {
     "name": "stderr",
     "output_type": "stream",
     "text": [
      "/home/tommy/neuralhydrology/neuralhydrology/utils/config.py:597: FutureWarning: 'camels_attributes' will be deprecated. Use 'static_attributes' in the future\n",
      "  warnings.warn(\"'camels_attributes' will be deprecated. Use 'static_attributes' in the future\",\n"
     ]
    },
    {
     "name": "stdout",
     "output_type": "stream",
     "text": [
      "# Evaluation:  17%|█▋        | 115/669 [01:12<06:02,  1.53it/s]"
     ]
    },
    {
     "name": "stderr",
     "output_type": "stream",
     "text": [
      "/home/tommy/neuralhydrology/neuralhydrology/utils/config.py:597: FutureWarning: 'camels_attributes' will be deprecated. Use 'static_attributes' in the future\n",
      "  warnings.warn(\"'camels_attributes' will be deprecated. Use 'static_attributes' in the future\",\n"
     ]
    },
    {
     "name": "stdout",
     "output_type": "stream",
     "text": [
      "# Evaluation:  17%|█▋        | 116/669 [01:12<05:55,  1.56it/s]"
     ]
    },
    {
     "name": "stderr",
     "output_type": "stream",
     "text": [
      "/home/tommy/neuralhydrology/neuralhydrology/utils/config.py:597: FutureWarning: 'camels_attributes' will be deprecated. Use 'static_attributes' in the future\n",
      "  warnings.warn(\"'camels_attributes' will be deprecated. Use 'static_attributes' in the future\",\n"
     ]
    },
    {
     "name": "stdout",
     "output_type": "stream",
     "text": [
      "# Evaluation:  17%|█▋        | 117/669 [01:13<05:49,  1.58it/s]"
     ]
    },
    {
     "name": "stderr",
     "output_type": "stream",
     "text": [
      "/home/tommy/neuralhydrology/neuralhydrology/utils/config.py:597: FutureWarning: 'camels_attributes' will be deprecated. Use 'static_attributes' in the future\n",
      "  warnings.warn(\"'camels_attributes' will be deprecated. Use 'static_attributes' in the future\",\n"
     ]
    },
    {
     "name": "stdout",
     "output_type": "stream",
     "text": [
      "# Evaluation:  18%|█▊        | 118/669 [01:13<05:40,  1.62it/s]"
     ]
    },
    {
     "name": "stderr",
     "output_type": "stream",
     "text": [
      "/home/tommy/neuralhydrology/neuralhydrology/utils/config.py:597: FutureWarning: 'camels_attributes' will be deprecated. Use 'static_attributes' in the future\n",
      "  warnings.warn(\"'camels_attributes' will be deprecated. Use 'static_attributes' in the future\",\n"
     ]
    },
    {
     "name": "stdout",
     "output_type": "stream",
     "text": [
      "# Evaluation:  18%|█▊        | 119/669 [01:14<05:37,  1.63it/s]"
     ]
    },
    {
     "name": "stderr",
     "output_type": "stream",
     "text": [
      "/home/tommy/neuralhydrology/neuralhydrology/utils/config.py:597: FutureWarning: 'camels_attributes' will be deprecated. Use 'static_attributes' in the future\n",
      "  warnings.warn(\"'camels_attributes' will be deprecated. Use 'static_attributes' in the future\",\n"
     ]
    },
    {
     "name": "stdout",
     "output_type": "stream",
     "text": [
      "# Evaluation:  18%|█▊        | 120/669 [01:15<05:35,  1.64it/s]"
     ]
    },
    {
     "name": "stderr",
     "output_type": "stream",
     "text": [
      "/home/tommy/neuralhydrology/neuralhydrology/utils/config.py:597: FutureWarning: 'camels_attributes' will be deprecated. Use 'static_attributes' in the future\n",
      "  warnings.warn(\"'camels_attributes' will be deprecated. Use 'static_attributes' in the future\",\n"
     ]
    },
    {
     "name": "stdout",
     "output_type": "stream",
     "text": [
      "# Evaluation:  18%|█▊        | 121/669 [01:15<05:34,  1.64it/s]"
     ]
    },
    {
     "name": "stderr",
     "output_type": "stream",
     "text": [
      "/home/tommy/neuralhydrology/neuralhydrology/utils/config.py:597: FutureWarning: 'camels_attributes' will be deprecated. Use 'static_attributes' in the future\n",
      "  warnings.warn(\"'camels_attributes' will be deprecated. Use 'static_attributes' in the future\",\n"
     ]
    },
    {
     "name": "stdout",
     "output_type": "stream",
     "text": [
      "# Evaluation:  18%|█▊        | 122/669 [01:16<05:33,  1.64it/s]"
     ]
    },
    {
     "name": "stderr",
     "output_type": "stream",
     "text": [
      "/home/tommy/neuralhydrology/neuralhydrology/utils/config.py:597: FutureWarning: 'camels_attributes' will be deprecated. Use 'static_attributes' in the future\n",
      "  warnings.warn(\"'camels_attributes' will be deprecated. Use 'static_attributes' in the future\",\n"
     ]
    },
    {
     "name": "stdout",
     "output_type": "stream",
     "text": [
      "# Evaluation:  18%|█▊        | 123/669 [01:16<05:20,  1.71it/s]"
     ]
    },
    {
     "name": "stderr",
     "output_type": "stream",
     "text": [
      "/home/tommy/neuralhydrology/neuralhydrology/utils/config.py:597: FutureWarning: 'camels_attributes' will be deprecated. Use 'static_attributes' in the future\n",
      "  warnings.warn(\"'camels_attributes' will be deprecated. Use 'static_attributes' in the future\",\n"
     ]
    },
    {
     "name": "stdout",
     "output_type": "stream",
     "text": [
      "# Evaluation:  19%|█▊        | 124/669 [01:17<05:22,  1.69it/s]"
     ]
    },
    {
     "name": "stderr",
     "output_type": "stream",
     "text": [
      "/home/tommy/neuralhydrology/neuralhydrology/utils/config.py:597: FutureWarning: 'camels_attributes' will be deprecated. Use 'static_attributes' in the future\n",
      "  warnings.warn(\"'camels_attributes' will be deprecated. Use 'static_attributes' in the future\",\n"
     ]
    },
    {
     "name": "stdout",
     "output_type": "stream",
     "text": [
      "# Evaluation:  19%|█▊        | 125/669 [01:18<05:36,  1.62it/s]"
     ]
    },
    {
     "name": "stderr",
     "output_type": "stream",
     "text": [
      "/home/tommy/neuralhydrology/neuralhydrology/utils/config.py:597: FutureWarning: 'camels_attributes' will be deprecated. Use 'static_attributes' in the future\n",
      "  warnings.warn(\"'camels_attributes' will be deprecated. Use 'static_attributes' in the future\",\n"
     ]
    },
    {
     "name": "stdout",
     "output_type": "stream",
     "text": [
      "# Evaluation:  19%|█▉        | 126/669 [01:18<05:31,  1.64it/s]"
     ]
    },
    {
     "name": "stderr",
     "output_type": "stream",
     "text": [
      "/home/tommy/neuralhydrology/neuralhydrology/utils/config.py:597: FutureWarning: 'camels_attributes' will be deprecated. Use 'static_attributes' in the future\n",
      "  warnings.warn(\"'camels_attributes' will be deprecated. Use 'static_attributes' in the future\",\n"
     ]
    },
    {
     "name": "stdout",
     "output_type": "stream",
     "text": [
      "# Evaluation:  19%|█▉        | 127/669 [01:19<05:25,  1.66it/s]"
     ]
    },
    {
     "name": "stderr",
     "output_type": "stream",
     "text": [
      "/home/tommy/neuralhydrology/neuralhydrology/utils/config.py:597: FutureWarning: 'camels_attributes' will be deprecated. Use 'static_attributes' in the future\n",
      "  warnings.warn(\"'camels_attributes' will be deprecated. Use 'static_attributes' in the future\",\n"
     ]
    },
    {
     "name": "stdout",
     "output_type": "stream",
     "text": [
      "# Evaluation:  19%|█▉        | 128/669 [01:19<05:26,  1.66it/s]"
     ]
    },
    {
     "name": "stderr",
     "output_type": "stream",
     "text": [
      "/home/tommy/neuralhydrology/neuralhydrology/utils/config.py:597: FutureWarning: 'camels_attributes' will be deprecated. Use 'static_attributes' in the future\n",
      "  warnings.warn(\"'camels_attributes' will be deprecated. Use 'static_attributes' in the future\",\n"
     ]
    },
    {
     "name": "stdout",
     "output_type": "stream",
     "text": [
      "# Evaluation:  19%|█▉        | 129/669 [01:20<05:27,  1.65it/s]"
     ]
    },
    {
     "name": "stderr",
     "output_type": "stream",
     "text": [
      "/home/tommy/neuralhydrology/neuralhydrology/utils/config.py:597: FutureWarning: 'camels_attributes' will be deprecated. Use 'static_attributes' in the future\n",
      "  warnings.warn(\"'camels_attributes' will be deprecated. Use 'static_attributes' in the future\",\n"
     ]
    },
    {
     "name": "stdout",
     "output_type": "stream",
     "text": [
      "# Evaluation:  19%|█▉        | 130/669 [01:21<05:27,  1.65it/s]"
     ]
    },
    {
     "name": "stderr",
     "output_type": "stream",
     "text": [
      "/home/tommy/neuralhydrology/neuralhydrology/utils/config.py:597: FutureWarning: 'camels_attributes' will be deprecated. Use 'static_attributes' in the future\n",
      "  warnings.warn(\"'camels_attributes' will be deprecated. Use 'static_attributes' in the future\",\n"
     ]
    },
    {
     "name": "stdout",
     "output_type": "stream",
     "text": [
      "# Evaluation:  20%|█▉        | 131/669 [01:21<05:27,  1.64it/s]"
     ]
    },
    {
     "name": "stderr",
     "output_type": "stream",
     "text": [
      "/home/tommy/neuralhydrology/neuralhydrology/utils/config.py:597: FutureWarning: 'camels_attributes' will be deprecated. Use 'static_attributes' in the future\n",
      "  warnings.warn(\"'camels_attributes' will be deprecated. Use 'static_attributes' in the future\",\n"
     ]
    },
    {
     "name": "stdout",
     "output_type": "stream",
     "text": [
      "# Evaluation:  20%|█▉        | 132/669 [01:22<05:13,  1.71it/s]"
     ]
    },
    {
     "name": "stderr",
     "output_type": "stream",
     "text": [
      "/home/tommy/neuralhydrology/neuralhydrology/utils/config.py:597: FutureWarning: 'camels_attributes' will be deprecated. Use 'static_attributes' in the future\n",
      "  warnings.warn(\"'camels_attributes' will be deprecated. Use 'static_attributes' in the future\",\n"
     ]
    },
    {
     "name": "stdout",
     "output_type": "stream",
     "text": [
      "# Evaluation:  20%|█▉        | 133/669 [01:22<05:08,  1.74it/s]"
     ]
    },
    {
     "name": "stderr",
     "output_type": "stream",
     "text": [
      "/home/tommy/neuralhydrology/neuralhydrology/utils/config.py:597: FutureWarning: 'camels_attributes' will be deprecated. Use 'static_attributes' in the future\n",
      "  warnings.warn(\"'camels_attributes' will be deprecated. Use 'static_attributes' in the future\",\n"
     ]
    },
    {
     "name": "stdout",
     "output_type": "stream",
     "text": [
      "# Evaluation:  20%|██        | 134/669 [01:23<05:03,  1.76it/s]"
     ]
    },
    {
     "name": "stderr",
     "output_type": "stream",
     "text": [
      "/home/tommy/neuralhydrology/neuralhydrology/utils/config.py:597: FutureWarning: 'camels_attributes' will be deprecated. Use 'static_attributes' in the future\n",
      "  warnings.warn(\"'camels_attributes' will be deprecated. Use 'static_attributes' in the future\",\n"
     ]
    },
    {
     "name": "stdout",
     "output_type": "stream",
     "text": [
      "# Evaluation:  20%|██        | 135/669 [01:23<05:12,  1.71it/s]"
     ]
    },
    {
     "name": "stderr",
     "output_type": "stream",
     "text": [
      "/home/tommy/neuralhydrology/neuralhydrology/utils/config.py:597: FutureWarning: 'camels_attributes' will be deprecated. Use 'static_attributes' in the future\n",
      "  warnings.warn(\"'camels_attributes' will be deprecated. Use 'static_attributes' in the future\",\n"
     ]
    },
    {
     "name": "stdout",
     "output_type": "stream",
     "text": [
      "# Evaluation:  20%|██        | 136/669 [01:24<05:10,  1.71it/s]"
     ]
    },
    {
     "name": "stderr",
     "output_type": "stream",
     "text": [
      "/home/tommy/neuralhydrology/neuralhydrology/utils/config.py:597: FutureWarning: 'camels_attributes' will be deprecated. Use 'static_attributes' in the future\n",
      "  warnings.warn(\"'camels_attributes' will be deprecated. Use 'static_attributes' in the future\",\n"
     ]
    },
    {
     "name": "stdout",
     "output_type": "stream",
     "text": [
      "# Evaluation:  20%|██        | 137/669 [01:25<05:05,  1.74it/s]"
     ]
    },
    {
     "name": "stderr",
     "output_type": "stream",
     "text": [
      "/home/tommy/neuralhydrology/neuralhydrology/utils/config.py:597: FutureWarning: 'camels_attributes' will be deprecated. Use 'static_attributes' in the future\n",
      "  warnings.warn(\"'camels_attributes' will be deprecated. Use 'static_attributes' in the future\",\n"
     ]
    },
    {
     "name": "stdout",
     "output_type": "stream",
     "text": [
      "# Evaluation:  21%|██        | 138/669 [01:25<05:06,  1.73it/s]"
     ]
    },
    {
     "name": "stderr",
     "output_type": "stream",
     "text": [
      "/home/tommy/neuralhydrology/neuralhydrology/utils/config.py:597: FutureWarning: 'camels_attributes' will be deprecated. Use 'static_attributes' in the future\n",
      "  warnings.warn(\"'camels_attributes' will be deprecated. Use 'static_attributes' in the future\",\n"
     ]
    },
    {
     "name": "stdout",
     "output_type": "stream",
     "text": [
      "# Evaluation:  21%|██        | 139/669 [01:26<04:53,  1.80it/s]"
     ]
    },
    {
     "name": "stderr",
     "output_type": "stream",
     "text": [
      "/home/tommy/neuralhydrology/neuralhydrology/utils/config.py:597: FutureWarning: 'camels_attributes' will be deprecated. Use 'static_attributes' in the future\n",
      "  warnings.warn(\"'camels_attributes' will be deprecated. Use 'static_attributes' in the future\",\n"
     ]
    },
    {
     "name": "stdout",
     "output_type": "stream",
     "text": [
      "# Evaluation:  21%|██        | 140/669 [01:26<04:47,  1.84it/s]"
     ]
    },
    {
     "name": "stderr",
     "output_type": "stream",
     "text": [
      "/home/tommy/neuralhydrology/neuralhydrology/utils/config.py:597: FutureWarning: 'camels_attributes' will be deprecated. Use 'static_attributes' in the future\n",
      "  warnings.warn(\"'camels_attributes' will be deprecated. Use 'static_attributes' in the future\",\n"
     ]
    },
    {
     "name": "stdout",
     "output_type": "stream",
     "text": [
      "# Evaluation:  21%|██        | 141/669 [01:27<04:57,  1.78it/s]"
     ]
    },
    {
     "name": "stderr",
     "output_type": "stream",
     "text": [
      "/home/tommy/neuralhydrology/neuralhydrology/utils/config.py:597: FutureWarning: 'camels_attributes' will be deprecated. Use 'static_attributes' in the future\n",
      "  warnings.warn(\"'camels_attributes' will be deprecated. Use 'static_attributes' in the future\",\n"
     ]
    },
    {
     "name": "stdout",
     "output_type": "stream",
     "text": [
      "# Evaluation:  21%|██        | 142/669 [01:27<05:04,  1.73it/s]"
     ]
    },
    {
     "name": "stderr",
     "output_type": "stream",
     "text": [
      "/home/tommy/neuralhydrology/neuralhydrology/utils/config.py:597: FutureWarning: 'camels_attributes' will be deprecated. Use 'static_attributes' in the future\n",
      "  warnings.warn(\"'camels_attributes' will be deprecated. Use 'static_attributes' in the future\",\n"
     ]
    },
    {
     "name": "stdout",
     "output_type": "stream",
     "text": [
      "# Evaluation:  21%|██▏       | 143/669 [01:28<05:09,  1.70it/s]"
     ]
    },
    {
     "name": "stderr",
     "output_type": "stream",
     "text": [
      "/home/tommy/neuralhydrology/neuralhydrology/utils/config.py:597: FutureWarning: 'camels_attributes' will be deprecated. Use 'static_attributes' in the future\n",
      "  warnings.warn(\"'camels_attributes' will be deprecated. Use 'static_attributes' in the future\",\n"
     ]
    },
    {
     "name": "stdout",
     "output_type": "stream",
     "text": [
      "# Evaluation:  22%|██▏       | 144/669 [01:29<05:08,  1.70it/s]"
     ]
    },
    {
     "name": "stderr",
     "output_type": "stream",
     "text": [
      "/home/tommy/neuralhydrology/neuralhydrology/utils/config.py:597: FutureWarning: 'camels_attributes' will be deprecated. Use 'static_attributes' in the future\n",
      "  warnings.warn(\"'camels_attributes' will be deprecated. Use 'static_attributes' in the future\",\n"
     ]
    },
    {
     "name": "stdout",
     "output_type": "stream",
     "text": [
      "# Evaluation:  22%|██▏       | 145/669 [01:29<05:17,  1.65it/s]"
     ]
    },
    {
     "name": "stderr",
     "output_type": "stream",
     "text": [
      "/home/tommy/neuralhydrology/neuralhydrology/utils/config.py:597: FutureWarning: 'camels_attributes' will be deprecated. Use 'static_attributes' in the future\n",
      "  warnings.warn(\"'camels_attributes' will be deprecated. Use 'static_attributes' in the future\",\n"
     ]
    },
    {
     "name": "stdout",
     "output_type": "stream",
     "text": [
      "# Evaluation:  22%|██▏       | 146/669 [01:30<05:16,  1.65it/s]"
     ]
    },
    {
     "name": "stderr",
     "output_type": "stream",
     "text": [
      "/home/tommy/neuralhydrology/neuralhydrology/utils/config.py:597: FutureWarning: 'camels_attributes' will be deprecated. Use 'static_attributes' in the future\n",
      "  warnings.warn(\"'camels_attributes' will be deprecated. Use 'static_attributes' in the future\",\n"
     ]
    },
    {
     "name": "stdout",
     "output_type": "stream",
     "text": [
      "# Evaluation:  22%|██▏       | 147/669 [01:30<05:09,  1.68it/s]"
     ]
    },
    {
     "name": "stderr",
     "output_type": "stream",
     "text": [
      "/home/tommy/neuralhydrology/neuralhydrology/utils/config.py:597: FutureWarning: 'camels_attributes' will be deprecated. Use 'static_attributes' in the future\n",
      "  warnings.warn(\"'camels_attributes' will be deprecated. Use 'static_attributes' in the future\",\n"
     ]
    },
    {
     "name": "stdout",
     "output_type": "stream",
     "text": [
      "# Evaluation:  22%|██▏       | 148/669 [01:31<05:03,  1.72it/s]"
     ]
    },
    {
     "name": "stderr",
     "output_type": "stream",
     "text": [
      "/home/tommy/neuralhydrology/neuralhydrology/utils/config.py:597: FutureWarning: 'camels_attributes' will be deprecated. Use 'static_attributes' in the future\n",
      "  warnings.warn(\"'camels_attributes' will be deprecated. Use 'static_attributes' in the future\",\n"
     ]
    },
    {
     "name": "stdout",
     "output_type": "stream",
     "text": [
      "# Evaluation:  22%|██▏       | 149/669 [01:32<04:58,  1.74it/s]"
     ]
    },
    {
     "name": "stderr",
     "output_type": "stream",
     "text": [
      "/home/tommy/neuralhydrology/neuralhydrology/utils/config.py:597: FutureWarning: 'camels_attributes' will be deprecated. Use 'static_attributes' in the future\n",
      "  warnings.warn(\"'camels_attributes' will be deprecated. Use 'static_attributes' in the future\",\n"
     ]
    },
    {
     "name": "stdout",
     "output_type": "stream",
     "text": [
      "# Evaluation:  22%|██▏       | 150/669 [01:32<05:01,  1.72it/s]"
     ]
    },
    {
     "name": "stderr",
     "output_type": "stream",
     "text": [
      "/home/tommy/neuralhydrology/neuralhydrology/utils/config.py:597: FutureWarning: 'camels_attributes' will be deprecated. Use 'static_attributes' in the future\n",
      "  warnings.warn(\"'camels_attributes' will be deprecated. Use 'static_attributes' in the future\",\n"
     ]
    },
    {
     "name": "stdout",
     "output_type": "stream",
     "text": [
      "# Evaluation:  23%|██▎       | 151/669 [01:33<04:42,  1.84it/s]"
     ]
    },
    {
     "name": "stderr",
     "output_type": "stream",
     "text": [
      "/home/tommy/neuralhydrology/neuralhydrology/utils/config.py:597: FutureWarning: 'camels_attributes' will be deprecated. Use 'static_attributes' in the future\n",
      "  warnings.warn(\"'camels_attributes' will be deprecated. Use 'static_attributes' in the future\",\n"
     ]
    },
    {
     "name": "stdout",
     "output_type": "stream",
     "text": [
      "# Evaluation:  23%|██▎       | 152/669 [01:33<04:43,  1.83it/s]"
     ]
    },
    {
     "name": "stderr",
     "output_type": "stream",
     "text": [
      "/home/tommy/neuralhydrology/neuralhydrology/utils/config.py:597: FutureWarning: 'camels_attributes' will be deprecated. Use 'static_attributes' in the future\n",
      "  warnings.warn(\"'camels_attributes' will be deprecated. Use 'static_attributes' in the future\",\n"
     ]
    },
    {
     "name": "stdout",
     "output_type": "stream",
     "text": [
      "# Evaluation:  23%|██▎       | 153/669 [01:34<04:45,  1.81it/s]"
     ]
    },
    {
     "name": "stderr",
     "output_type": "stream",
     "text": [
      "/home/tommy/neuralhydrology/neuralhydrology/utils/config.py:597: FutureWarning: 'camels_attributes' will be deprecated. Use 'static_attributes' in the future\n",
      "  warnings.warn(\"'camels_attributes' will be deprecated. Use 'static_attributes' in the future\",\n"
     ]
    },
    {
     "name": "stdout",
     "output_type": "stream",
     "text": [
      "# Evaluation:  23%|██▎       | 154/669 [01:34<04:54,  1.75it/s]"
     ]
    },
    {
     "name": "stderr",
     "output_type": "stream",
     "text": [
      "/home/tommy/neuralhydrology/neuralhydrology/utils/config.py:597: FutureWarning: 'camels_attributes' will be deprecated. Use 'static_attributes' in the future\n",
      "  warnings.warn(\"'camels_attributes' will be deprecated. Use 'static_attributes' in the future\",\n"
     ]
    },
    {
     "name": "stdout",
     "output_type": "stream",
     "text": [
      "# Evaluation:  23%|██▎       | 155/669 [01:35<05:18,  1.61it/s]"
     ]
    },
    {
     "name": "stderr",
     "output_type": "stream",
     "text": [
      "/home/tommy/neuralhydrology/neuralhydrology/utils/config.py:597: FutureWarning: 'camels_attributes' will be deprecated. Use 'static_attributes' in the future\n",
      "  warnings.warn(\"'camels_attributes' will be deprecated. Use 'static_attributes' in the future\",\n"
     ]
    },
    {
     "name": "stdout",
     "output_type": "stream",
     "text": [
      "# Evaluation:  23%|██▎       | 156/669 [01:36<05:17,  1.62it/s]"
     ]
    },
    {
     "name": "stderr",
     "output_type": "stream",
     "text": [
      "/home/tommy/neuralhydrology/neuralhydrology/utils/config.py:597: FutureWarning: 'camels_attributes' will be deprecated. Use 'static_attributes' in the future\n",
      "  warnings.warn(\"'camels_attributes' will be deprecated. Use 'static_attributes' in the future\",\n"
     ]
    },
    {
     "name": "stdout",
     "output_type": "stream",
     "text": [
      "# Evaluation:  23%|██▎       | 157/669 [01:36<05:15,  1.62it/s]"
     ]
    },
    {
     "name": "stderr",
     "output_type": "stream",
     "text": [
      "/home/tommy/neuralhydrology/neuralhydrology/utils/config.py:597: FutureWarning: 'camels_attributes' will be deprecated. Use 'static_attributes' in the future\n",
      "  warnings.warn(\"'camels_attributes' will be deprecated. Use 'static_attributes' in the future\",\n"
     ]
    },
    {
     "name": "stdout",
     "output_type": "stream",
     "text": [
      "# Evaluation:  24%|██▎       | 158/669 [01:37<05:14,  1.63it/s]"
     ]
    },
    {
     "name": "stderr",
     "output_type": "stream",
     "text": [
      "/home/tommy/neuralhydrology/neuralhydrology/utils/config.py:597: FutureWarning: 'camels_attributes' will be deprecated. Use 'static_attributes' in the future\n",
      "  warnings.warn(\"'camels_attributes' will be deprecated. Use 'static_attributes' in the future\",\n"
     ]
    },
    {
     "name": "stdout",
     "output_type": "stream",
     "text": [
      "# Evaluation:  24%|██▍       | 159/669 [01:37<05:04,  1.67it/s]"
     ]
    },
    {
     "name": "stderr",
     "output_type": "stream",
     "text": [
      "/home/tommy/neuralhydrology/neuralhydrology/utils/config.py:597: FutureWarning: 'camels_attributes' will be deprecated. Use 'static_attributes' in the future\n",
      "  warnings.warn(\"'camels_attributes' will be deprecated. Use 'static_attributes' in the future\",\n"
     ]
    },
    {
     "name": "stdout",
     "output_type": "stream",
     "text": [
      "# Evaluation:  24%|██▍       | 160/669 [01:38<04:57,  1.71it/s]"
     ]
    },
    {
     "name": "stderr",
     "output_type": "stream",
     "text": [
      "/home/tommy/neuralhydrology/neuralhydrology/utils/config.py:597: FutureWarning: 'camels_attributes' will be deprecated. Use 'static_attributes' in the future\n",
      "  warnings.warn(\"'camels_attributes' will be deprecated. Use 'static_attributes' in the future\",\n"
     ]
    },
    {
     "name": "stdout",
     "output_type": "stream",
     "text": [
      "# Evaluation:  24%|██▍       | 161/669 [01:39<05:02,  1.68it/s]"
     ]
    },
    {
     "name": "stderr",
     "output_type": "stream",
     "text": [
      "/home/tommy/neuralhydrology/neuralhydrology/utils/config.py:597: FutureWarning: 'camels_attributes' will be deprecated. Use 'static_attributes' in the future\n",
      "  warnings.warn(\"'camels_attributes' will be deprecated. Use 'static_attributes' in the future\",\n"
     ]
    },
    {
     "name": "stdout",
     "output_type": "stream",
     "text": [
      "# Evaluation:  24%|██▍       | 162/669 [01:39<05:01,  1.68it/s]"
     ]
    },
    {
     "name": "stderr",
     "output_type": "stream",
     "text": [
      "/home/tommy/neuralhydrology/neuralhydrology/utils/config.py:597: FutureWarning: 'camels_attributes' will be deprecated. Use 'static_attributes' in the future\n",
      "  warnings.warn(\"'camels_attributes' will be deprecated. Use 'static_attributes' in the future\",\n"
     ]
    },
    {
     "name": "stdout",
     "output_type": "stream",
     "text": [
      "# Evaluation:  24%|██▍       | 163/669 [01:40<05:03,  1.67it/s]"
     ]
    },
    {
     "name": "stderr",
     "output_type": "stream",
     "text": [
      "/home/tommy/neuralhydrology/neuralhydrology/utils/config.py:597: FutureWarning: 'camels_attributes' will be deprecated. Use 'static_attributes' in the future\n",
      "  warnings.warn(\"'camels_attributes' will be deprecated. Use 'static_attributes' in the future\",\n"
     ]
    },
    {
     "name": "stdout",
     "output_type": "stream",
     "text": [
      "# Evaluation:  25%|██▍       | 164/669 [01:40<05:05,  1.65it/s]"
     ]
    },
    {
     "name": "stderr",
     "output_type": "stream",
     "text": [
      "/home/tommy/neuralhydrology/neuralhydrology/utils/config.py:597: FutureWarning: 'camels_attributes' will be deprecated. Use 'static_attributes' in the future\n",
      "  warnings.warn(\"'camels_attributes' will be deprecated. Use 'static_attributes' in the future\",\n"
     ]
    },
    {
     "name": "stdout",
     "output_type": "stream",
     "text": [
      "# Evaluation:  25%|██▍       | 165/669 [01:41<05:20,  1.57it/s]"
     ]
    },
    {
     "name": "stderr",
     "output_type": "stream",
     "text": [
      "/home/tommy/neuralhydrology/neuralhydrology/utils/config.py:597: FutureWarning: 'camels_attributes' will be deprecated. Use 'static_attributes' in the future\n",
      "  warnings.warn(\"'camels_attributes' will be deprecated. Use 'static_attributes' in the future\",\n"
     ]
    },
    {
     "name": "stdout",
     "output_type": "stream",
     "text": [
      "# Evaluation:  25%|██▍       | 166/669 [01:42<05:15,  1.60it/s]"
     ]
    },
    {
     "name": "stderr",
     "output_type": "stream",
     "text": [
      "/home/tommy/neuralhydrology/neuralhydrology/utils/config.py:597: FutureWarning: 'camels_attributes' will be deprecated. Use 'static_attributes' in the future\n",
      "  warnings.warn(\"'camels_attributes' will be deprecated. Use 'static_attributes' in the future\",\n"
     ]
    },
    {
     "name": "stdout",
     "output_type": "stream",
     "text": [
      "# Evaluation:  25%|██▍       | 167/669 [01:42<05:13,  1.60it/s]"
     ]
    },
    {
     "name": "stderr",
     "output_type": "stream",
     "text": [
      "/home/tommy/neuralhydrology/neuralhydrology/utils/config.py:597: FutureWarning: 'camels_attributes' will be deprecated. Use 'static_attributes' in the future\n",
      "  warnings.warn(\"'camels_attributes' will be deprecated. Use 'static_attributes' in the future\",\n"
     ]
    },
    {
     "name": "stdout",
     "output_type": "stream",
     "text": [
      "# Evaluation:  25%|██▌       | 168/669 [01:43<05:07,  1.63it/s]"
     ]
    },
    {
     "name": "stderr",
     "output_type": "stream",
     "text": [
      "/home/tommy/neuralhydrology/neuralhydrology/utils/config.py:597: FutureWarning: 'camels_attributes' will be deprecated. Use 'static_attributes' in the future\n",
      "  warnings.warn(\"'camels_attributes' will be deprecated. Use 'static_attributes' in the future\",\n"
     ]
    },
    {
     "name": "stdout",
     "output_type": "stream",
     "text": [
      "# Evaluation:  25%|██▌       | 169/669 [01:44<05:06,  1.63it/s]"
     ]
    },
    {
     "name": "stderr",
     "output_type": "stream",
     "text": [
      "/home/tommy/neuralhydrology/neuralhydrology/utils/config.py:597: FutureWarning: 'camels_attributes' will be deprecated. Use 'static_attributes' in the future\n",
      "  warnings.warn(\"'camels_attributes' will be deprecated. Use 'static_attributes' in the future\",\n"
     ]
    },
    {
     "name": "stdout",
     "output_type": "stream",
     "text": [
      "# Evaluation:  25%|██▌       | 170/669 [01:44<05:05,  1.63it/s]"
     ]
    },
    {
     "name": "stderr",
     "output_type": "stream",
     "text": [
      "/home/tommy/neuralhydrology/neuralhydrology/utils/config.py:597: FutureWarning: 'camels_attributes' will be deprecated. Use 'static_attributes' in the future\n",
      "  warnings.warn(\"'camels_attributes' will be deprecated. Use 'static_attributes' in the future\",\n"
     ]
    },
    {
     "name": "stdout",
     "output_type": "stream",
     "text": [
      "# Evaluation:  26%|██▌       | 171/669 [01:45<05:04,  1.64it/s]"
     ]
    },
    {
     "name": "stderr",
     "output_type": "stream",
     "text": [
      "/home/tommy/neuralhydrology/neuralhydrology/utils/config.py:597: FutureWarning: 'camels_attributes' will be deprecated. Use 'static_attributes' in the future\n",
      "  warnings.warn(\"'camels_attributes' will be deprecated. Use 'static_attributes' in the future\",\n"
     ]
    },
    {
     "name": "stdout",
     "output_type": "stream",
     "text": [
      "# Evaluation:  26%|██▌       | 172/669 [01:45<05:04,  1.63it/s]"
     ]
    },
    {
     "name": "stderr",
     "output_type": "stream",
     "text": [
      "/home/tommy/neuralhydrology/neuralhydrology/utils/config.py:597: FutureWarning: 'camels_attributes' will be deprecated. Use 'static_attributes' in the future\n",
      "  warnings.warn(\"'camels_attributes' will be deprecated. Use 'static_attributes' in the future\",\n"
     ]
    },
    {
     "name": "stdout",
     "output_type": "stream",
     "text": [
      "# Evaluation:  26%|██▌       | 173/669 [01:46<05:03,  1.63it/s]"
     ]
    },
    {
     "name": "stderr",
     "output_type": "stream",
     "text": [
      "/home/tommy/neuralhydrology/neuralhydrology/utils/config.py:597: FutureWarning: 'camels_attributes' will be deprecated. Use 'static_attributes' in the future\n",
      "  warnings.warn(\"'camels_attributes' will be deprecated. Use 'static_attributes' in the future\",\n"
     ]
    },
    {
     "name": "stdout",
     "output_type": "stream",
     "text": [
      "# Evaluation:  26%|██▌       | 174/669 [01:47<04:56,  1.67it/s]"
     ]
    },
    {
     "name": "stderr",
     "output_type": "stream",
     "text": [
      "/home/tommy/neuralhydrology/neuralhydrology/utils/config.py:597: FutureWarning: 'camels_attributes' will be deprecated. Use 'static_attributes' in the future\n",
      "  warnings.warn(\"'camels_attributes' will be deprecated. Use 'static_attributes' in the future\",\n"
     ]
    },
    {
     "name": "stdout",
     "output_type": "stream",
     "text": [
      "# Evaluation:  26%|██▌       | 175/669 [01:47<05:16,  1.56it/s]"
     ]
    },
    {
     "name": "stderr",
     "output_type": "stream",
     "text": [
      "/home/tommy/neuralhydrology/neuralhydrology/utils/config.py:597: FutureWarning: 'camels_attributes' will be deprecated. Use 'static_attributes' in the future\n",
      "  warnings.warn(\"'camels_attributes' will be deprecated. Use 'static_attributes' in the future\",\n"
     ]
    },
    {
     "name": "stdout",
     "output_type": "stream",
     "text": [
      "# Evaluation:  26%|██▋       | 176/669 [01:48<04:51,  1.69it/s]"
     ]
    },
    {
     "name": "stderr",
     "output_type": "stream",
     "text": [
      "/home/tommy/neuralhydrology/neuralhydrology/utils/config.py:597: FutureWarning: 'camels_attributes' will be deprecated. Use 'static_attributes' in the future\n",
      "  warnings.warn(\"'camels_attributes' will be deprecated. Use 'static_attributes' in the future\",\n"
     ]
    },
    {
     "name": "stdout",
     "output_type": "stream",
     "text": [
      "# Evaluation:  26%|██▋       | 177/669 [01:48<04:44,  1.73it/s]"
     ]
    },
    {
     "name": "stderr",
     "output_type": "stream",
     "text": [
      "/home/tommy/neuralhydrology/neuralhydrology/utils/config.py:597: FutureWarning: 'camels_attributes' will be deprecated. Use 'static_attributes' in the future\n",
      "  warnings.warn(\"'camels_attributes' will be deprecated. Use 'static_attributes' in the future\",\n"
     ]
    },
    {
     "name": "stdout",
     "output_type": "stream",
     "text": [
      "# Evaluation:  27%|██▋       | 178/669 [01:49<04:42,  1.74it/s]"
     ]
    },
    {
     "name": "stderr",
     "output_type": "stream",
     "text": [
      "/home/tommy/neuralhydrology/neuralhydrology/utils/config.py:597: FutureWarning: 'camels_attributes' will be deprecated. Use 'static_attributes' in the future\n",
      "  warnings.warn(\"'camels_attributes' will be deprecated. Use 'static_attributes' in the future\",\n"
     ]
    },
    {
     "name": "stdout",
     "output_type": "stream",
     "text": [
      "# Evaluation:  27%|██▋       | 179/669 [01:50<04:47,  1.71it/s]"
     ]
    },
    {
     "name": "stderr",
     "output_type": "stream",
     "text": [
      "/home/tommy/neuralhydrology/neuralhydrology/utils/config.py:597: FutureWarning: 'camels_attributes' will be deprecated. Use 'static_attributes' in the future\n",
      "  warnings.warn(\"'camels_attributes' will be deprecated. Use 'static_attributes' in the future\",\n"
     ]
    },
    {
     "name": "stdout",
     "output_type": "stream",
     "text": [
      "# Evaluation:  27%|██▋       | 180/669 [01:50<04:49,  1.69it/s]"
     ]
    },
    {
     "name": "stderr",
     "output_type": "stream",
     "text": [
      "/home/tommy/neuralhydrology/neuralhydrology/utils/config.py:597: FutureWarning: 'camels_attributes' will be deprecated. Use 'static_attributes' in the future\n",
      "  warnings.warn(\"'camels_attributes' will be deprecated. Use 'static_attributes' in the future\",\n"
     ]
    },
    {
     "name": "stdout",
     "output_type": "stream",
     "text": [
      "# Evaluation:  27%|██▋       | 181/669 [01:51<04:51,  1.67it/s]"
     ]
    },
    {
     "name": "stderr",
     "output_type": "stream",
     "text": [
      "/home/tommy/neuralhydrology/neuralhydrology/utils/config.py:597: FutureWarning: 'camels_attributes' will be deprecated. Use 'static_attributes' in the future\n",
      "  warnings.warn(\"'camels_attributes' will be deprecated. Use 'static_attributes' in the future\",\n"
     ]
    },
    {
     "name": "stdout",
     "output_type": "stream",
     "text": [
      "# Evaluation:  27%|██▋       | 182/669 [01:51<04:52,  1.66it/s]"
     ]
    },
    {
     "name": "stderr",
     "output_type": "stream",
     "text": [
      "/home/tommy/neuralhydrology/neuralhydrology/utils/config.py:597: FutureWarning: 'camels_attributes' will be deprecated. Use 'static_attributes' in the future\n",
      "  warnings.warn(\"'camels_attributes' will be deprecated. Use 'static_attributes' in the future\",\n"
     ]
    },
    {
     "name": "stdout",
     "output_type": "stream",
     "text": [
      "# Evaluation:  27%|██▋       | 183/669 [01:52<04:44,  1.71it/s]"
     ]
    },
    {
     "name": "stderr",
     "output_type": "stream",
     "text": [
      "/home/tommy/neuralhydrology/neuralhydrology/utils/config.py:597: FutureWarning: 'camels_attributes' will be deprecated. Use 'static_attributes' in the future\n",
      "  warnings.warn(\"'camels_attributes' will be deprecated. Use 'static_attributes' in the future\",\n"
     ]
    },
    {
     "name": "stdout",
     "output_type": "stream",
     "text": [
      "# Evaluation:  28%|██▊       | 184/669 [01:53<04:49,  1.68it/s]"
     ]
    },
    {
     "name": "stderr",
     "output_type": "stream",
     "text": [
      "/home/tommy/neuralhydrology/neuralhydrology/utils/config.py:597: FutureWarning: 'camels_attributes' will be deprecated. Use 'static_attributes' in the future\n",
      "  warnings.warn(\"'camels_attributes' will be deprecated. Use 'static_attributes' in the future\",\n"
     ]
    },
    {
     "name": "stdout",
     "output_type": "stream",
     "text": [
      "# Evaluation:  28%|██▊       | 185/669 [01:53<05:03,  1.60it/s]"
     ]
    },
    {
     "name": "stderr",
     "output_type": "stream",
     "text": [
      "/home/tommy/neuralhydrology/neuralhydrology/utils/config.py:597: FutureWarning: 'camels_attributes' will be deprecated. Use 'static_attributes' in the future\n",
      "  warnings.warn(\"'camels_attributes' will be deprecated. Use 'static_attributes' in the future\",\n"
     ]
    },
    {
     "name": "stdout",
     "output_type": "stream",
     "text": [
      "# Evaluation:  28%|██▊       | 186/669 [01:54<05:00,  1.61it/s]"
     ]
    },
    {
     "name": "stderr",
     "output_type": "stream",
     "text": [
      "/home/tommy/neuralhydrology/neuralhydrology/utils/config.py:597: FutureWarning: 'camels_attributes' will be deprecated. Use 'static_attributes' in the future\n",
      "  warnings.warn(\"'camels_attributes' will be deprecated. Use 'static_attributes' in the future\",\n"
     ]
    },
    {
     "name": "stdout",
     "output_type": "stream",
     "text": [
      "# Evaluation:  28%|██▊       | 187/669 [01:54<04:58,  1.61it/s]"
     ]
    },
    {
     "name": "stderr",
     "output_type": "stream",
     "text": [
      "/home/tommy/neuralhydrology/neuralhydrology/utils/config.py:597: FutureWarning: 'camels_attributes' will be deprecated. Use 'static_attributes' in the future\n",
      "  warnings.warn(\"'camels_attributes' will be deprecated. Use 'static_attributes' in the future\",\n"
     ]
    },
    {
     "name": "stdout",
     "output_type": "stream",
     "text": [
      "# Evaluation:  28%|██▊       | 188/669 [01:55<04:57,  1.62it/s]"
     ]
    },
    {
     "name": "stderr",
     "output_type": "stream",
     "text": [
      "/home/tommy/neuralhydrology/neuralhydrology/utils/config.py:597: FutureWarning: 'camels_attributes' will be deprecated. Use 'static_attributes' in the future\n",
      "  warnings.warn(\"'camels_attributes' will be deprecated. Use 'static_attributes' in the future\",\n"
     ]
    },
    {
     "name": "stdout",
     "output_type": "stream",
     "text": [
      "# Evaluation:  28%|██▊       | 189/669 [01:56<05:06,  1.56it/s]"
     ]
    },
    {
     "name": "stderr",
     "output_type": "stream",
     "text": [
      "/home/tommy/neuralhydrology/neuralhydrology/utils/config.py:597: FutureWarning: 'camels_attributes' will be deprecated. Use 'static_attributes' in the future\n",
      "  warnings.warn(\"'camels_attributes' will be deprecated. Use 'static_attributes' in the future\",\n"
     ]
    },
    {
     "name": "stdout",
     "output_type": "stream",
     "text": [
      "# Evaluation:  28%|██▊       | 190/669 [01:56<04:46,  1.67it/s]"
     ]
    },
    {
     "name": "stderr",
     "output_type": "stream",
     "text": [
      "/home/tommy/neuralhydrology/neuralhydrology/utils/config.py:597: FutureWarning: 'camels_attributes' will be deprecated. Use 'static_attributes' in the future\n",
      "  warnings.warn(\"'camels_attributes' will be deprecated. Use 'static_attributes' in the future\",\n"
     ]
    },
    {
     "name": "stdout",
     "output_type": "stream",
     "text": [
      "# Evaluation:  29%|██▊       | 191/669 [01:57<04:42,  1.69it/s]"
     ]
    },
    {
     "name": "stderr",
     "output_type": "stream",
     "text": [
      "/home/tommy/neuralhydrology/neuralhydrology/utils/config.py:597: FutureWarning: 'camels_attributes' will be deprecated. Use 'static_attributes' in the future\n",
      "  warnings.warn(\"'camels_attributes' will be deprecated. Use 'static_attributes' in the future\",\n"
     ]
    },
    {
     "name": "stdout",
     "output_type": "stream",
     "text": [
      "# Evaluation:  29%|██▊       | 192/669 [01:57<04:35,  1.73it/s]"
     ]
    },
    {
     "name": "stderr",
     "output_type": "stream",
     "text": [
      "/home/tommy/neuralhydrology/neuralhydrology/utils/config.py:597: FutureWarning: 'camels_attributes' will be deprecated. Use 'static_attributes' in the future\n",
      "  warnings.warn(\"'camels_attributes' will be deprecated. Use 'static_attributes' in the future\",\n"
     ]
    },
    {
     "name": "stdout",
     "output_type": "stream",
     "text": [
      "# Evaluation:  29%|██▉       | 193/669 [01:58<04:41,  1.69it/s]"
     ]
    },
    {
     "name": "stderr",
     "output_type": "stream",
     "text": [
      "/home/tommy/neuralhydrology/neuralhydrology/utils/config.py:597: FutureWarning: 'camels_attributes' will be deprecated. Use 'static_attributes' in the future\n",
      "  warnings.warn(\"'camels_attributes' will be deprecated. Use 'static_attributes' in the future\",\n"
     ]
    },
    {
     "name": "stdout",
     "output_type": "stream",
     "text": [
      "# Evaluation:  29%|██▉       | 194/669 [01:59<04:43,  1.68it/s]"
     ]
    },
    {
     "name": "stderr",
     "output_type": "stream",
     "text": [
      "/home/tommy/neuralhydrology/neuralhydrology/utils/config.py:597: FutureWarning: 'camels_attributes' will be deprecated. Use 'static_attributes' in the future\n",
      "  warnings.warn(\"'camels_attributes' will be deprecated. Use 'static_attributes' in the future\",\n"
     ]
    },
    {
     "name": "stdout",
     "output_type": "stream",
     "text": [
      "# Evaluation:  29%|██▉       | 195/669 [01:59<05:05,  1.55it/s]"
     ]
    },
    {
     "name": "stderr",
     "output_type": "stream",
     "text": [
      "/home/tommy/neuralhydrology/neuralhydrology/utils/config.py:597: FutureWarning: 'camels_attributes' will be deprecated. Use 'static_attributes' in the future\n",
      "  warnings.warn(\"'camels_attributes' will be deprecated. Use 'static_attributes' in the future\",\n"
     ]
    },
    {
     "name": "stdout",
     "output_type": "stream",
     "text": [
      "# Evaluation:  29%|██▉       | 196/669 [02:00<04:59,  1.58it/s]"
     ]
    },
    {
     "name": "stderr",
     "output_type": "stream",
     "text": [
      "/home/tommy/neuralhydrology/neuralhydrology/utils/config.py:597: FutureWarning: 'camels_attributes' will be deprecated. Use 'static_attributes' in the future\n",
      "  warnings.warn(\"'camels_attributes' will be deprecated. Use 'static_attributes' in the future\",\n"
     ]
    },
    {
     "name": "stdout",
     "output_type": "stream",
     "text": [
      "# Evaluation:  29%|██▉       | 197/669 [02:01<04:48,  1.64it/s]"
     ]
    },
    {
     "name": "stderr",
     "output_type": "stream",
     "text": [
      "/home/tommy/neuralhydrology/neuralhydrology/utils/config.py:597: FutureWarning: 'camels_attributes' will be deprecated. Use 'static_attributes' in the future\n",
      "  warnings.warn(\"'camels_attributes' will be deprecated. Use 'static_attributes' in the future\",\n"
     ]
    },
    {
     "name": "stdout",
     "output_type": "stream",
     "text": [
      "# Evaluation:  30%|██▉       | 198/669 [02:01<04:42,  1.67it/s]"
     ]
    },
    {
     "name": "stderr",
     "output_type": "stream",
     "text": [
      "/home/tommy/neuralhydrology/neuralhydrology/utils/config.py:597: FutureWarning: 'camels_attributes' will be deprecated. Use 'static_attributes' in the future\n",
      "  warnings.warn(\"'camels_attributes' will be deprecated. Use 'static_attributes' in the future\",\n"
     ]
    },
    {
     "name": "stdout",
     "output_type": "stream",
     "text": [
      "# Evaluation:  30%|██▉       | 199/669 [02:02<04:40,  1.68it/s]"
     ]
    },
    {
     "name": "stderr",
     "output_type": "stream",
     "text": [
      "/home/tommy/neuralhydrology/neuralhydrology/utils/config.py:597: FutureWarning: 'camels_attributes' will be deprecated. Use 'static_attributes' in the future\n",
      "  warnings.warn(\"'camels_attributes' will be deprecated. Use 'static_attributes' in the future\",\n"
     ]
    },
    {
     "name": "stdout",
     "output_type": "stream",
     "text": [
      "# Evaluation:  30%|██▉       | 200/669 [02:02<04:39,  1.68it/s]"
     ]
    },
    {
     "name": "stderr",
     "output_type": "stream",
     "text": [
      "/home/tommy/neuralhydrology/neuralhydrology/utils/config.py:597: FutureWarning: 'camels_attributes' will be deprecated. Use 'static_attributes' in the future\n",
      "  warnings.warn(\"'camels_attributes' will be deprecated. Use 'static_attributes' in the future\",\n"
     ]
    },
    {
     "name": "stdout",
     "output_type": "stream",
     "text": [
      "# Evaluation:  30%|███       | 201/669 [02:03<04:40,  1.67it/s]"
     ]
    },
    {
     "name": "stderr",
     "output_type": "stream",
     "text": [
      "/home/tommy/neuralhydrology/neuralhydrology/utils/config.py:597: FutureWarning: 'camels_attributes' will be deprecated. Use 'static_attributes' in the future\n",
      "  warnings.warn(\"'camels_attributes' will be deprecated. Use 'static_attributes' in the future\",\n"
     ]
    },
    {
     "name": "stdout",
     "output_type": "stream",
     "text": [
      "# Evaluation:  30%|███       | 202/669 [02:03<04:41,  1.66it/s]"
     ]
    },
    {
     "name": "stderr",
     "output_type": "stream",
     "text": [
      "/home/tommy/neuralhydrology/neuralhydrology/utils/config.py:597: FutureWarning: 'camels_attributes' will be deprecated. Use 'static_attributes' in the future\n",
      "  warnings.warn(\"'camels_attributes' will be deprecated. Use 'static_attributes' in the future\",\n"
     ]
    },
    {
     "name": "stdout",
     "output_type": "stream",
     "text": [
      "# Evaluation:  30%|███       | 203/669 [02:04<04:40,  1.66it/s]"
     ]
    },
    {
     "name": "stderr",
     "output_type": "stream",
     "text": [
      "/home/tommy/neuralhydrology/neuralhydrology/utils/config.py:597: FutureWarning: 'camels_attributes' will be deprecated. Use 'static_attributes' in the future\n",
      "  warnings.warn(\"'camels_attributes' will be deprecated. Use 'static_attributes' in the future\",\n"
     ]
    },
    {
     "name": "stdout",
     "output_type": "stream",
     "text": [
      "# Evaluation:  30%|███       | 204/669 [02:05<04:40,  1.66it/s]"
     ]
    },
    {
     "name": "stderr",
     "output_type": "stream",
     "text": [
      "/home/tommy/neuralhydrology/neuralhydrology/utils/config.py:597: FutureWarning: 'camels_attributes' will be deprecated. Use 'static_attributes' in the future\n",
      "  warnings.warn(\"'camels_attributes' will be deprecated. Use 'static_attributes' in the future\",\n"
     ]
    },
    {
     "name": "stdout",
     "output_type": "stream",
     "text": [
      "# Evaluation:  31%|███       | 205/669 [02:05<04:58,  1.55it/s]"
     ]
    },
    {
     "name": "stderr",
     "output_type": "stream",
     "text": [
      "/home/tommy/neuralhydrology/neuralhydrology/utils/config.py:597: FutureWarning: 'camels_attributes' will be deprecated. Use 'static_attributes' in the future\n",
      "  warnings.warn(\"'camels_attributes' will be deprecated. Use 'static_attributes' in the future\",\n"
     ]
    },
    {
     "name": "stdout",
     "output_type": "stream",
     "text": [
      "# Evaluation:  31%|███       | 206/669 [02:06<04:53,  1.58it/s]"
     ]
    },
    {
     "name": "stderr",
     "output_type": "stream",
     "text": [
      "/home/tommy/neuralhydrology/neuralhydrology/utils/config.py:597: FutureWarning: 'camels_attributes' will be deprecated. Use 'static_attributes' in the future\n",
      "  warnings.warn(\"'camels_attributes' will be deprecated. Use 'static_attributes' in the future\",\n"
     ]
    },
    {
     "name": "stdout",
     "output_type": "stream",
     "text": [
      "# Evaluation:  31%|███       | 207/669 [02:07<04:49,  1.60it/s]"
     ]
    },
    {
     "name": "stderr",
     "output_type": "stream",
     "text": [
      "/home/tommy/neuralhydrology/neuralhydrology/utils/config.py:597: FutureWarning: 'camels_attributes' will be deprecated. Use 'static_attributes' in the future\n",
      "  warnings.warn(\"'camels_attributes' will be deprecated. Use 'static_attributes' in the future\",\n"
     ]
    },
    {
     "name": "stdout",
     "output_type": "stream",
     "text": [
      "# Evaluation:  31%|███       | 208/669 [02:07<04:46,  1.61it/s]"
     ]
    },
    {
     "name": "stderr",
     "output_type": "stream",
     "text": [
      "/home/tommy/neuralhydrology/neuralhydrology/utils/config.py:597: FutureWarning: 'camels_attributes' will be deprecated. Use 'static_attributes' in the future\n",
      "  warnings.warn(\"'camels_attributes' will be deprecated. Use 'static_attributes' in the future\",\n"
     ]
    },
    {
     "name": "stdout",
     "output_type": "stream",
     "text": [
      "# Evaluation:  31%|███       | 209/669 [02:08<04:42,  1.63it/s]"
     ]
    },
    {
     "name": "stderr",
     "output_type": "stream",
     "text": [
      "/home/tommy/neuralhydrology/neuralhydrology/utils/config.py:597: FutureWarning: 'camels_attributes' will be deprecated. Use 'static_attributes' in the future\n",
      "  warnings.warn(\"'camels_attributes' will be deprecated. Use 'static_attributes' in the future\",\n"
     ]
    },
    {
     "name": "stdout",
     "output_type": "stream",
     "text": [
      "# Evaluation:  31%|███▏      | 210/669 [02:08<04:28,  1.71it/s]"
     ]
    },
    {
     "name": "stderr",
     "output_type": "stream",
     "text": [
      "/home/tommy/neuralhydrology/neuralhydrology/utils/config.py:597: FutureWarning: 'camels_attributes' will be deprecated. Use 'static_attributes' in the future\n",
      "  warnings.warn(\"'camels_attributes' will be deprecated. Use 'static_attributes' in the future\",\n"
     ]
    },
    {
     "name": "stdout",
     "output_type": "stream",
     "text": [
      "# Evaluation:  32%|███▏      | 211/669 [02:09<04:17,  1.78it/s]"
     ]
    },
    {
     "name": "stderr",
     "output_type": "stream",
     "text": [
      "/home/tommy/neuralhydrology/neuralhydrology/utils/config.py:597: FutureWarning: 'camels_attributes' will be deprecated. Use 'static_attributes' in the future\n",
      "  warnings.warn(\"'camels_attributes' will be deprecated. Use 'static_attributes' in the future\",\n"
     ]
    },
    {
     "name": "stdout",
     "output_type": "stream",
     "text": [
      "# Evaluation:  32%|███▏      | 212/669 [02:10<04:24,  1.73it/s]"
     ]
    },
    {
     "name": "stderr",
     "output_type": "stream",
     "text": [
      "/home/tommy/neuralhydrology/neuralhydrology/utils/config.py:597: FutureWarning: 'camels_attributes' will be deprecated. Use 'static_attributes' in the future\n",
      "  warnings.warn(\"'camels_attributes' will be deprecated. Use 'static_attributes' in the future\",\n"
     ]
    },
    {
     "name": "stdout",
     "output_type": "stream",
     "text": [
      "# Evaluation:  32%|███▏      | 213/669 [02:10<04:28,  1.70it/s]"
     ]
    },
    {
     "name": "stderr",
     "output_type": "stream",
     "text": [
      "/home/tommy/neuralhydrology/neuralhydrology/utils/config.py:597: FutureWarning: 'camels_attributes' will be deprecated. Use 'static_attributes' in the future\n",
      "  warnings.warn(\"'camels_attributes' will be deprecated. Use 'static_attributes' in the future\",\n"
     ]
    },
    {
     "name": "stdout",
     "output_type": "stream",
     "text": [
      "# Evaluation:  32%|███▏      | 214/669 [02:11<04:27,  1.70it/s]"
     ]
    },
    {
     "name": "stderr",
     "output_type": "stream",
     "text": [
      "/home/tommy/neuralhydrology/neuralhydrology/utils/config.py:597: FutureWarning: 'camels_attributes' will be deprecated. Use 'static_attributes' in the future\n",
      "  warnings.warn(\"'camels_attributes' will be deprecated. Use 'static_attributes' in the future\",\n"
     ]
    },
    {
     "name": "stdout",
     "output_type": "stream",
     "text": [
      "# Evaluation:  32%|███▏      | 215/669 [02:11<04:40,  1.62it/s]"
     ]
    },
    {
     "name": "stderr",
     "output_type": "stream",
     "text": [
      "/home/tommy/neuralhydrology/neuralhydrology/utils/config.py:597: FutureWarning: 'camels_attributes' will be deprecated. Use 'static_attributes' in the future\n",
      "  warnings.warn(\"'camels_attributes' will be deprecated. Use 'static_attributes' in the future\",\n"
     ]
    },
    {
     "name": "stdout",
     "output_type": "stream",
     "text": [
      "# Evaluation:  32%|███▏      | 216/669 [02:12<04:27,  1.69it/s]"
     ]
    },
    {
     "name": "stderr",
     "output_type": "stream",
     "text": [
      "/home/tommy/neuralhydrology/neuralhydrology/utils/config.py:597: FutureWarning: 'camels_attributes' will be deprecated. Use 'static_attributes' in the future\n",
      "  warnings.warn(\"'camels_attributes' will be deprecated. Use 'static_attributes' in the future\",\n"
     ]
    },
    {
     "name": "stdout",
     "output_type": "stream",
     "text": [
      "# Evaluation:  32%|███▏      | 217/669 [02:12<04:19,  1.74it/s]"
     ]
    },
    {
     "name": "stderr",
     "output_type": "stream",
     "text": [
      "/home/tommy/neuralhydrology/neuralhydrology/utils/config.py:597: FutureWarning: 'camels_attributes' will be deprecated. Use 'static_attributes' in the future\n",
      "  warnings.warn(\"'camels_attributes' will be deprecated. Use 'static_attributes' in the future\",\n"
     ]
    },
    {
     "name": "stdout",
     "output_type": "stream",
     "text": [
      "# Evaluation:  33%|███▎      | 218/669 [02:13<04:11,  1.79it/s]"
     ]
    },
    {
     "name": "stderr",
     "output_type": "stream",
     "text": [
      "/home/tommy/neuralhydrology/neuralhydrology/utils/config.py:597: FutureWarning: 'camels_attributes' will be deprecated. Use 'static_attributes' in the future\n",
      "  warnings.warn(\"'camels_attributes' will be deprecated. Use 'static_attributes' in the future\",\n"
     ]
    },
    {
     "name": "stdout",
     "output_type": "stream",
     "text": [
      "# Evaluation:  33%|███▎      | 219/669 [02:14<04:17,  1.75it/s]"
     ]
    },
    {
     "name": "stderr",
     "output_type": "stream",
     "text": [
      "/home/tommy/neuralhydrology/neuralhydrology/utils/config.py:597: FutureWarning: 'camels_attributes' will be deprecated. Use 'static_attributes' in the future\n",
      "  warnings.warn(\"'camels_attributes' will be deprecated. Use 'static_attributes' in the future\",\n"
     ]
    },
    {
     "name": "stdout",
     "output_type": "stream",
     "text": [
      "# Evaluation:  33%|███▎      | 220/669 [02:14<04:21,  1.72it/s]"
     ]
    },
    {
     "name": "stderr",
     "output_type": "stream",
     "text": [
      "/home/tommy/neuralhydrology/neuralhydrology/utils/config.py:597: FutureWarning: 'camels_attributes' will be deprecated. Use 'static_attributes' in the future\n",
      "  warnings.warn(\"'camels_attributes' will be deprecated. Use 'static_attributes' in the future\",\n"
     ]
    },
    {
     "name": "stdout",
     "output_type": "stream",
     "text": [
      "# Evaluation:  33%|███▎      | 221/669 [02:15<04:24,  1.69it/s]"
     ]
    },
    {
     "name": "stderr",
     "output_type": "stream",
     "text": [
      "/home/tommy/neuralhydrology/neuralhydrology/utils/config.py:597: FutureWarning: 'camels_attributes' will be deprecated. Use 'static_attributes' in the future\n",
      "  warnings.warn(\"'camels_attributes' will be deprecated. Use 'static_attributes' in the future\",\n"
     ]
    },
    {
     "name": "stdout",
     "output_type": "stream",
     "text": [
      "# Evaluation:  33%|███▎      | 222/669 [02:15<04:26,  1.68it/s]"
     ]
    },
    {
     "name": "stderr",
     "output_type": "stream",
     "text": [
      "/home/tommy/neuralhydrology/neuralhydrology/utils/config.py:597: FutureWarning: 'camels_attributes' will be deprecated. Use 'static_attributes' in the future\n",
      "  warnings.warn(\"'camels_attributes' will be deprecated. Use 'static_attributes' in the future\",\n"
     ]
    },
    {
     "name": "stdout",
     "output_type": "stream",
     "text": [
      "# Evaluation:  33%|███▎      | 223/669 [02:16<04:27,  1.66it/s]"
     ]
    },
    {
     "name": "stderr",
     "output_type": "stream",
     "text": [
      "/home/tommy/neuralhydrology/neuralhydrology/utils/config.py:597: FutureWarning: 'camels_attributes' will be deprecated. Use 'static_attributes' in the future\n",
      "  warnings.warn(\"'camels_attributes' will be deprecated. Use 'static_attributes' in the future\",\n"
     ]
    },
    {
     "name": "stdout",
     "output_type": "stream",
     "text": [
      "# Evaluation:  33%|███▎      | 224/669 [02:17<04:26,  1.67it/s]"
     ]
    },
    {
     "name": "stderr",
     "output_type": "stream",
     "text": [
      "/home/tommy/neuralhydrology/neuralhydrology/utils/config.py:597: FutureWarning: 'camels_attributes' will be deprecated. Use 'static_attributes' in the future\n",
      "  warnings.warn(\"'camels_attributes' will be deprecated. Use 'static_attributes' in the future\",\n"
     ]
    },
    {
     "name": "stdout",
     "output_type": "stream",
     "text": [
      "# Evaluation:  34%|███▎      | 225/669 [02:17<04:36,  1.60it/s]"
     ]
    },
    {
     "name": "stderr",
     "output_type": "stream",
     "text": [
      "/home/tommy/neuralhydrology/neuralhydrology/utils/config.py:597: FutureWarning: 'camels_attributes' will be deprecated. Use 'static_attributes' in the future\n",
      "  warnings.warn(\"'camels_attributes' will be deprecated. Use 'static_attributes' in the future\",\n"
     ]
    },
    {
     "name": "stdout",
     "output_type": "stream",
     "text": [
      "# Evaluation:  34%|███▍      | 226/669 [02:18<04:26,  1.66it/s]"
     ]
    },
    {
     "name": "stderr",
     "output_type": "stream",
     "text": [
      "/home/tommy/neuralhydrology/neuralhydrology/utils/config.py:597: FutureWarning: 'camels_attributes' will be deprecated. Use 'static_attributes' in the future\n",
      "  warnings.warn(\"'camels_attributes' will be deprecated. Use 'static_attributes' in the future\",\n"
     ]
    },
    {
     "name": "stdout",
     "output_type": "stream",
     "text": [
      "# Evaluation:  34%|███▍      | 227/669 [02:18<04:27,  1.65it/s]"
     ]
    },
    {
     "name": "stderr",
     "output_type": "stream",
     "text": [
      "/home/tommy/neuralhydrology/neuralhydrology/utils/config.py:597: FutureWarning: 'camels_attributes' will be deprecated. Use 'static_attributes' in the future\n",
      "  warnings.warn(\"'camels_attributes' will be deprecated. Use 'static_attributes' in the future\",\n"
     ]
    },
    {
     "name": "stdout",
     "output_type": "stream",
     "text": [
      "# Evaluation:  34%|███▍      | 228/669 [02:19<04:21,  1.69it/s]"
     ]
    },
    {
     "name": "stderr",
     "output_type": "stream",
     "text": [
      "/home/tommy/neuralhydrology/neuralhydrology/utils/config.py:597: FutureWarning: 'camels_attributes' will be deprecated. Use 'static_attributes' in the future\n",
      "  warnings.warn(\"'camels_attributes' will be deprecated. Use 'static_attributes' in the future\",\n"
     ]
    },
    {
     "name": "stdout",
     "output_type": "stream",
     "text": [
      "# Evaluation:  34%|███▍      | 229/669 [02:20<04:18,  1.70it/s]"
     ]
    },
    {
     "name": "stderr",
     "output_type": "stream",
     "text": [
      "/home/tommy/neuralhydrology/neuralhydrology/utils/config.py:597: FutureWarning: 'camels_attributes' will be deprecated. Use 'static_attributes' in the future\n",
      "  warnings.warn(\"'camels_attributes' will be deprecated. Use 'static_attributes' in the future\",\n"
     ]
    },
    {
     "name": "stdout",
     "output_type": "stream",
     "text": [
      "# Evaluation:  34%|███▍      | 230/669 [02:20<04:15,  1.72it/s]"
     ]
    },
    {
     "name": "stderr",
     "output_type": "stream",
     "text": [
      "/home/tommy/neuralhydrology/neuralhydrology/utils/config.py:597: FutureWarning: 'camels_attributes' will be deprecated. Use 'static_attributes' in the future\n",
      "  warnings.warn(\"'camels_attributes' will be deprecated. Use 'static_attributes' in the future\",\n"
     ]
    },
    {
     "name": "stdout",
     "output_type": "stream",
     "text": [
      "# Evaluation:  35%|███▍      | 231/669 [02:21<04:10,  1.75it/s]"
     ]
    },
    {
     "name": "stderr",
     "output_type": "stream",
     "text": [
      "/home/tommy/neuralhydrology/neuralhydrology/utils/config.py:597: FutureWarning: 'camels_attributes' will be deprecated. Use 'static_attributes' in the future\n",
      "  warnings.warn(\"'camels_attributes' will be deprecated. Use 'static_attributes' in the future\",\n"
     ]
    },
    {
     "name": "stdout",
     "output_type": "stream",
     "text": [
      "# Evaluation:  35%|███▍      | 232/669 [02:21<04:06,  1.77it/s]"
     ]
    },
    {
     "name": "stderr",
     "output_type": "stream",
     "text": [
      "/home/tommy/neuralhydrology/neuralhydrology/utils/config.py:597: FutureWarning: 'camels_attributes' will be deprecated. Use 'static_attributes' in the future\n",
      "  warnings.warn(\"'camels_attributes' will be deprecated. Use 'static_attributes' in the future\",\n"
     ]
    },
    {
     "name": "stdout",
     "output_type": "stream",
     "text": [
      "# Evaluation:  35%|███▍      | 233/669 [02:22<04:12,  1.73it/s]"
     ]
    },
    {
     "name": "stderr",
     "output_type": "stream",
     "text": [
      "/home/tommy/neuralhydrology/neuralhydrology/utils/config.py:597: FutureWarning: 'camels_attributes' will be deprecated. Use 'static_attributes' in the future\n",
      "  warnings.warn(\"'camels_attributes' will be deprecated. Use 'static_attributes' in the future\",\n"
     ]
    },
    {
     "name": "stdout",
     "output_type": "stream",
     "text": [
      "# Evaluation:  35%|███▍      | 234/669 [02:22<04:15,  1.70it/s]"
     ]
    },
    {
     "name": "stderr",
     "output_type": "stream",
     "text": [
      "/home/tommy/neuralhydrology/neuralhydrology/utils/config.py:597: FutureWarning: 'camels_attributes' will be deprecated. Use 'static_attributes' in the future\n",
      "  warnings.warn(\"'camels_attributes' will be deprecated. Use 'static_attributes' in the future\",\n"
     ]
    },
    {
     "name": "stdout",
     "output_type": "stream",
     "text": [
      "# Evaluation:  35%|███▌      | 235/669 [02:23<04:33,  1.59it/s]"
     ]
    },
    {
     "name": "stderr",
     "output_type": "stream",
     "text": [
      "/home/tommy/neuralhydrology/neuralhydrology/utils/config.py:597: FutureWarning: 'camels_attributes' will be deprecated. Use 'static_attributes' in the future\n",
      "  warnings.warn(\"'camels_attributes' will be deprecated. Use 'static_attributes' in the future\",\n"
     ]
    },
    {
     "name": "stdout",
     "output_type": "stream",
     "text": [
      "# Evaluation:  35%|███▌      | 236/669 [02:24<04:27,  1.62it/s]"
     ]
    },
    {
     "name": "stderr",
     "output_type": "stream",
     "text": [
      "/home/tommy/neuralhydrology/neuralhydrology/utils/config.py:597: FutureWarning: 'camels_attributes' will be deprecated. Use 'static_attributes' in the future\n",
      "  warnings.warn(\"'camels_attributes' will be deprecated. Use 'static_attributes' in the future\",\n"
     ]
    },
    {
     "name": "stdout",
     "output_type": "stream",
     "text": [
      "# Evaluation:  35%|███▌      | 237/669 [02:24<04:21,  1.65it/s]"
     ]
    },
    {
     "name": "stderr",
     "output_type": "stream",
     "text": [
      "/home/tommy/neuralhydrology/neuralhydrology/utils/config.py:597: FutureWarning: 'camels_attributes' will be deprecated. Use 'static_attributes' in the future\n",
      "  warnings.warn(\"'camels_attributes' will be deprecated. Use 'static_attributes' in the future\",\n"
     ]
    },
    {
     "name": "stdout",
     "output_type": "stream",
     "text": [
      "# Evaluation:  36%|███▌      | 238/669 [02:25<04:21,  1.65it/s]"
     ]
    },
    {
     "name": "stderr",
     "output_type": "stream",
     "text": [
      "/home/tommy/neuralhydrology/neuralhydrology/utils/config.py:597: FutureWarning: 'camels_attributes' will be deprecated. Use 'static_attributes' in the future\n",
      "  warnings.warn(\"'camels_attributes' will be deprecated. Use 'static_attributes' in the future\",\n"
     ]
    },
    {
     "name": "stdout",
     "output_type": "stream",
     "text": [
      "# Evaluation:  36%|███▌      | 239/669 [02:26<04:21,  1.65it/s]"
     ]
    },
    {
     "name": "stderr",
     "output_type": "stream",
     "text": [
      "/home/tommy/neuralhydrology/neuralhydrology/utils/config.py:597: FutureWarning: 'camels_attributes' will be deprecated. Use 'static_attributes' in the future\n",
      "  warnings.warn(\"'camels_attributes' will be deprecated. Use 'static_attributes' in the future\",\n"
     ]
    },
    {
     "name": "stdout",
     "output_type": "stream",
     "text": [
      "# Evaluation:  36%|███▌      | 240/669 [02:26<04:21,  1.64it/s]"
     ]
    },
    {
     "name": "stderr",
     "output_type": "stream",
     "text": [
      "/home/tommy/neuralhydrology/neuralhydrology/utils/config.py:597: FutureWarning: 'camels_attributes' will be deprecated. Use 'static_attributes' in the future\n",
      "  warnings.warn(\"'camels_attributes' will be deprecated. Use 'static_attributes' in the future\",\n"
     ]
    },
    {
     "name": "stdout",
     "output_type": "stream",
     "text": [
      "# Evaluation:  36%|███▌      | 241/669 [02:27<04:21,  1.64it/s]"
     ]
    },
    {
     "name": "stderr",
     "output_type": "stream",
     "text": [
      "/home/tommy/neuralhydrology/neuralhydrology/utils/config.py:597: FutureWarning: 'camels_attributes' will be deprecated. Use 'static_attributes' in the future\n",
      "  warnings.warn(\"'camels_attributes' will be deprecated. Use 'static_attributes' in the future\",\n"
     ]
    },
    {
     "name": "stdout",
     "output_type": "stream",
     "text": [
      "# Evaluation:  36%|███▌      | 242/669 [02:27<04:17,  1.66it/s]"
     ]
    },
    {
     "name": "stderr",
     "output_type": "stream",
     "text": [
      "/home/tommy/neuralhydrology/neuralhydrology/utils/config.py:597: FutureWarning: 'camels_attributes' will be deprecated. Use 'static_attributes' in the future\n",
      "  warnings.warn(\"'camels_attributes' will be deprecated. Use 'static_attributes' in the future\",\n"
     ]
    },
    {
     "name": "stdout",
     "output_type": "stream",
     "text": [
      "# Evaluation:  36%|███▋      | 243/669 [02:28<04:14,  1.67it/s]"
     ]
    },
    {
     "name": "stderr",
     "output_type": "stream",
     "text": [
      "/home/tommy/neuralhydrology/neuralhydrology/utils/config.py:597: FutureWarning: 'camels_attributes' will be deprecated. Use 'static_attributes' in the future\n",
      "  warnings.warn(\"'camels_attributes' will be deprecated. Use 'static_attributes' in the future\",\n"
     ]
    },
    {
     "name": "stdout",
     "output_type": "stream",
     "text": [
      "# Evaluation:  36%|███▋      | 244/669 [02:29<04:12,  1.68it/s]"
     ]
    },
    {
     "name": "stderr",
     "output_type": "stream",
     "text": [
      "/home/tommy/neuralhydrology/neuralhydrology/utils/config.py:597: FutureWarning: 'camels_attributes' will be deprecated. Use 'static_attributes' in the future\n",
      "  warnings.warn(\"'camels_attributes' will be deprecated. Use 'static_attributes' in the future\",\n"
     ]
    },
    {
     "name": "stdout",
     "output_type": "stream",
     "text": [
      "# Evaluation:  37%|███▋      | 245/669 [02:29<04:25,  1.59it/s]"
     ]
    },
    {
     "name": "stderr",
     "output_type": "stream",
     "text": [
      "/home/tommy/neuralhydrology/neuralhydrology/utils/config.py:597: FutureWarning: 'camels_attributes' will be deprecated. Use 'static_attributes' in the future\n",
      "  warnings.warn(\"'camels_attributes' will be deprecated. Use 'static_attributes' in the future\",\n"
     ]
    },
    {
     "name": "stdout",
     "output_type": "stream",
     "text": [
      "# Evaluation:  37%|███▋      | 246/669 [02:30<04:19,  1.63it/s]"
     ]
    },
    {
     "name": "stderr",
     "output_type": "stream",
     "text": [
      "/home/tommy/neuralhydrology/neuralhydrology/utils/config.py:597: FutureWarning: 'camels_attributes' will be deprecated. Use 'static_attributes' in the future\n",
      "  warnings.warn(\"'camels_attributes' will be deprecated. Use 'static_attributes' in the future\",\n"
     ]
    },
    {
     "name": "stdout",
     "output_type": "stream",
     "text": [
      "# Evaluation:  37%|███▋      | 247/669 [02:30<04:18,  1.63it/s]"
     ]
    },
    {
     "name": "stderr",
     "output_type": "stream",
     "text": [
      "/home/tommy/neuralhydrology/neuralhydrology/utils/config.py:597: FutureWarning: 'camels_attributes' will be deprecated. Use 'static_attributes' in the future\n",
      "  warnings.warn(\"'camels_attributes' will be deprecated. Use 'static_attributes' in the future\",\n"
     ]
    },
    {
     "name": "stdout",
     "output_type": "stream",
     "text": [
      "# Evaluation:  37%|███▋      | 248/669 [02:31<04:13,  1.66it/s]"
     ]
    },
    {
     "name": "stderr",
     "output_type": "stream",
     "text": [
      "/home/tommy/neuralhydrology/neuralhydrology/utils/config.py:597: FutureWarning: 'camels_attributes' will be deprecated. Use 'static_attributes' in the future\n",
      "  warnings.warn(\"'camels_attributes' will be deprecated. Use 'static_attributes' in the future\",\n"
     ]
    },
    {
     "name": "stdout",
     "output_type": "stream",
     "text": [
      "# Evaluation:  37%|███▋      | 249/669 [02:32<04:13,  1.66it/s]"
     ]
    },
    {
     "name": "stderr",
     "output_type": "stream",
     "text": [
      "/home/tommy/neuralhydrology/neuralhydrology/utils/config.py:597: FutureWarning: 'camels_attributes' will be deprecated. Use 'static_attributes' in the future\n",
      "  warnings.warn(\"'camels_attributes' will be deprecated. Use 'static_attributes' in the future\",\n"
     ]
    },
    {
     "name": "stdout",
     "output_type": "stream",
     "text": [
      "# Evaluation:  37%|███▋      | 250/669 [02:32<04:09,  1.68it/s]"
     ]
    },
    {
     "name": "stderr",
     "output_type": "stream",
     "text": [
      "/home/tommy/neuralhydrology/neuralhydrology/utils/config.py:597: FutureWarning: 'camels_attributes' will be deprecated. Use 'static_attributes' in the future\n",
      "  warnings.warn(\"'camels_attributes' will be deprecated. Use 'static_attributes' in the future\",\n"
     ]
    },
    {
     "name": "stdout",
     "output_type": "stream",
     "text": [
      "# Evaluation:  38%|███▊      | 251/669 [02:33<03:52,  1.80it/s]"
     ]
    },
    {
     "name": "stderr",
     "output_type": "stream",
     "text": [
      "/home/tommy/neuralhydrology/neuralhydrology/utils/config.py:597: FutureWarning: 'camels_attributes' will be deprecated. Use 'static_attributes' in the future\n",
      "  warnings.warn(\"'camels_attributes' will be deprecated. Use 'static_attributes' in the future\",\n"
     ]
    },
    {
     "name": "stdout",
     "output_type": "stream",
     "text": [
      "# Evaluation:  38%|███▊      | 252/669 [02:33<03:50,  1.81it/s]"
     ]
    },
    {
     "name": "stderr",
     "output_type": "stream",
     "text": [
      "/home/tommy/neuralhydrology/neuralhydrology/utils/config.py:597: FutureWarning: 'camels_attributes' will be deprecated. Use 'static_attributes' in the future\n",
      "  warnings.warn(\"'camels_attributes' will be deprecated. Use 'static_attributes' in the future\",\n"
     ]
    },
    {
     "name": "stdout",
     "output_type": "stream",
     "text": [
      "# Evaluation:  38%|███▊      | 253/669 [02:34<03:56,  1.76it/s]"
     ]
    },
    {
     "name": "stderr",
     "output_type": "stream",
     "text": [
      "/home/tommy/neuralhydrology/neuralhydrology/utils/config.py:597: FutureWarning: 'camels_attributes' will be deprecated. Use 'static_attributes' in the future\n",
      "  warnings.warn(\"'camels_attributes' will be deprecated. Use 'static_attributes' in the future\",\n"
     ]
    },
    {
     "name": "stdout",
     "output_type": "stream",
     "text": [
      "# Evaluation:  38%|███▊      | 254/669 [02:34<03:52,  1.79it/s]"
     ]
    },
    {
     "name": "stderr",
     "output_type": "stream",
     "text": [
      "/home/tommy/neuralhydrology/neuralhydrology/utils/config.py:597: FutureWarning: 'camels_attributes' will be deprecated. Use 'static_attributes' in the future\n",
      "  warnings.warn(\"'camels_attributes' will be deprecated. Use 'static_attributes' in the future\",\n"
     ]
    },
    {
     "name": "stdout",
     "output_type": "stream",
     "text": [
      "# Evaluation:  38%|███▊      | 255/669 [02:35<04:12,  1.64it/s]"
     ]
    },
    {
     "name": "stderr",
     "output_type": "stream",
     "text": [
      "/home/tommy/neuralhydrology/neuralhydrology/utils/config.py:597: FutureWarning: 'camels_attributes' will be deprecated. Use 'static_attributes' in the future\n",
      "  warnings.warn(\"'camels_attributes' will be deprecated. Use 'static_attributes' in the future\",\n"
     ]
    },
    {
     "name": "stdout",
     "output_type": "stream",
     "text": [
      "# Evaluation:  38%|███▊      | 256/669 [02:36<04:12,  1.64it/s]"
     ]
    },
    {
     "name": "stderr",
     "output_type": "stream",
     "text": [
      "/home/tommy/neuralhydrology/neuralhydrology/utils/config.py:597: FutureWarning: 'camels_attributes' will be deprecated. Use 'static_attributes' in the future\n",
      "  warnings.warn(\"'camels_attributes' will be deprecated. Use 'static_attributes' in the future\",\n"
     ]
    },
    {
     "name": "stdout",
     "output_type": "stream",
     "text": [
      "# Evaluation:  38%|███▊      | 257/669 [02:36<04:11,  1.64it/s]"
     ]
    },
    {
     "name": "stderr",
     "output_type": "stream",
     "text": [
      "/home/tommy/neuralhydrology/neuralhydrology/utils/config.py:597: FutureWarning: 'camels_attributes' will be deprecated. Use 'static_attributes' in the future\n",
      "  warnings.warn(\"'camels_attributes' will be deprecated. Use 'static_attributes' in the future\",\n"
     ]
    },
    {
     "name": "stdout",
     "output_type": "stream",
     "text": [
      "# Evaluation:  39%|███▊      | 258/669 [02:37<03:56,  1.74it/s]"
     ]
    },
    {
     "name": "stderr",
     "output_type": "stream",
     "text": [
      "/home/tommy/neuralhydrology/neuralhydrology/utils/config.py:597: FutureWarning: 'camels_attributes' will be deprecated. Use 'static_attributes' in the future\n",
      "  warnings.warn(\"'camels_attributes' will be deprecated. Use 'static_attributes' in the future\",\n"
     ]
    },
    {
     "name": "stdout",
     "output_type": "stream",
     "text": [
      "# Evaluation:  39%|███▊      | 259/669 [02:37<03:57,  1.72it/s]"
     ]
    },
    {
     "name": "stderr",
     "output_type": "stream",
     "text": [
      "/home/tommy/neuralhydrology/neuralhydrology/utils/config.py:597: FutureWarning: 'camels_attributes' will be deprecated. Use 'static_attributes' in the future\n",
      "  warnings.warn(\"'camels_attributes' will be deprecated. Use 'static_attributes' in the future\",\n"
     ]
    },
    {
     "name": "stdout",
     "output_type": "stream",
     "text": [
      "# Evaluation:  39%|███▉      | 260/669 [02:38<04:01,  1.69it/s]"
     ]
    },
    {
     "name": "stderr",
     "output_type": "stream",
     "text": [
      "/home/tommy/neuralhydrology/neuralhydrology/utils/config.py:597: FutureWarning: 'camels_attributes' will be deprecated. Use 'static_attributes' in the future\n",
      "  warnings.warn(\"'camels_attributes' will be deprecated. Use 'static_attributes' in the future\",\n"
     ]
    },
    {
     "name": "stdout",
     "output_type": "stream",
     "text": [
      "# Evaluation:  39%|███▉      | 261/669 [02:39<04:03,  1.68it/s]"
     ]
    },
    {
     "name": "stderr",
     "output_type": "stream",
     "text": [
      "/home/tommy/neuralhydrology/neuralhydrology/utils/config.py:597: FutureWarning: 'camels_attributes' will be deprecated. Use 'static_attributes' in the future\n",
      "  warnings.warn(\"'camels_attributes' will be deprecated. Use 'static_attributes' in the future\",\n"
     ]
    },
    {
     "name": "stdout",
     "output_type": "stream",
     "text": [
      "# Evaluation:  39%|███▉      | 262/669 [02:39<04:05,  1.66it/s]"
     ]
    },
    {
     "name": "stderr",
     "output_type": "stream",
     "text": [
      "/home/tommy/neuralhydrology/neuralhydrology/utils/config.py:597: FutureWarning: 'camels_attributes' will be deprecated. Use 'static_attributes' in the future\n",
      "  warnings.warn(\"'camels_attributes' will be deprecated. Use 'static_attributes' in the future\",\n"
     ]
    },
    {
     "name": "stdout",
     "output_type": "stream",
     "text": [
      "# Evaluation:  39%|███▉      | 263/669 [02:40<04:06,  1.65it/s]"
     ]
    },
    {
     "name": "stderr",
     "output_type": "stream",
     "text": [
      "/home/tommy/neuralhydrology/neuralhydrology/utils/config.py:597: FutureWarning: 'camels_attributes' will be deprecated. Use 'static_attributes' in the future\n",
      "  warnings.warn(\"'camels_attributes' will be deprecated. Use 'static_attributes' in the future\",\n"
     ]
    },
    {
     "name": "stdout",
     "output_type": "stream",
     "text": [
      "# Evaluation:  39%|███▉      | 264/669 [02:40<04:00,  1.68it/s]"
     ]
    },
    {
     "name": "stderr",
     "output_type": "stream",
     "text": [
      "/home/tommy/neuralhydrology/neuralhydrology/utils/config.py:597: FutureWarning: 'camels_attributes' will be deprecated. Use 'static_attributes' in the future\n",
      "  warnings.warn(\"'camels_attributes' will be deprecated. Use 'static_attributes' in the future\",\n"
     ]
    },
    {
     "name": "stdout",
     "output_type": "stream",
     "text": [
      "# Evaluation:  40%|███▉      | 265/669 [02:41<04:07,  1.64it/s]"
     ]
    },
    {
     "name": "stderr",
     "output_type": "stream",
     "text": [
      "/home/tommy/neuralhydrology/neuralhydrology/utils/config.py:597: FutureWarning: 'camels_attributes' will be deprecated. Use 'static_attributes' in the future\n",
      "  warnings.warn(\"'camels_attributes' will be deprecated. Use 'static_attributes' in the future\",\n"
     ]
    },
    {
     "name": "stdout",
     "output_type": "stream",
     "text": [
      "# Evaluation:  40%|███▉      | 266/669 [02:42<04:06,  1.64it/s]"
     ]
    },
    {
     "name": "stderr",
     "output_type": "stream",
     "text": [
      "/home/tommy/neuralhydrology/neuralhydrology/utils/config.py:597: FutureWarning: 'camels_attributes' will be deprecated. Use 'static_attributes' in the future\n",
      "  warnings.warn(\"'camels_attributes' will be deprecated. Use 'static_attributes' in the future\",\n"
     ]
    },
    {
     "name": "stdout",
     "output_type": "stream",
     "text": [
      "# Evaluation:  40%|███▉      | 267/669 [02:42<03:59,  1.68it/s]"
     ]
    },
    {
     "name": "stderr",
     "output_type": "stream",
     "text": [
      "/home/tommy/neuralhydrology/neuralhydrology/utils/config.py:597: FutureWarning: 'camels_attributes' will be deprecated. Use 'static_attributes' in the future\n",
      "  warnings.warn(\"'camels_attributes' will be deprecated. Use 'static_attributes' in the future\",\n"
     ]
    },
    {
     "name": "stdout",
     "output_type": "stream",
     "text": [
      "# Evaluation:  40%|████      | 268/669 [02:43<04:01,  1.66it/s]"
     ]
    },
    {
     "name": "stderr",
     "output_type": "stream",
     "text": [
      "/home/tommy/neuralhydrology/neuralhydrology/utils/config.py:597: FutureWarning: 'camels_attributes' will be deprecated. Use 'static_attributes' in the future\n",
      "  warnings.warn(\"'camels_attributes' will be deprecated. Use 'static_attributes' in the future\",\n"
     ]
    },
    {
     "name": "stdout",
     "output_type": "stream",
     "text": [
      "# Evaluation:  40%|████      | 269/669 [02:43<04:01,  1.66it/s]"
     ]
    },
    {
     "name": "stderr",
     "output_type": "stream",
     "text": [
      "/home/tommy/neuralhydrology/neuralhydrology/utils/config.py:597: FutureWarning: 'camels_attributes' will be deprecated. Use 'static_attributes' in the future\n",
      "  warnings.warn(\"'camels_attributes' will be deprecated. Use 'static_attributes' in the future\",\n"
     ]
    },
    {
     "name": "stdout",
     "output_type": "stream",
     "text": [
      "# Evaluation:  40%|████      | 270/669 [02:44<04:01,  1.65it/s]"
     ]
    },
    {
     "name": "stderr",
     "output_type": "stream",
     "text": [
      "/home/tommy/neuralhydrology/neuralhydrology/utils/config.py:597: FutureWarning: 'camels_attributes' will be deprecated. Use 'static_attributes' in the future\n",
      "  warnings.warn(\"'camels_attributes' will be deprecated. Use 'static_attributes' in the future\",\n"
     ]
    },
    {
     "name": "stdout",
     "output_type": "stream",
     "text": [
      "# Evaluation:  41%|████      | 271/669 [02:45<04:00,  1.66it/s]"
     ]
    },
    {
     "name": "stderr",
     "output_type": "stream",
     "text": [
      "/home/tommy/neuralhydrology/neuralhydrology/utils/config.py:597: FutureWarning: 'camels_attributes' will be deprecated. Use 'static_attributes' in the future\n",
      "  warnings.warn(\"'camels_attributes' will be deprecated. Use 'static_attributes' in the future\",\n"
     ]
    },
    {
     "name": "stdout",
     "output_type": "stream",
     "text": [
      "# Evaluation:  41%|████      | 272/669 [02:45<03:59,  1.66it/s]"
     ]
    },
    {
     "name": "stderr",
     "output_type": "stream",
     "text": [
      "/home/tommy/neuralhydrology/neuralhydrology/utils/config.py:597: FutureWarning: 'camels_attributes' will be deprecated. Use 'static_attributes' in the future\n",
      "  warnings.warn(\"'camels_attributes' will be deprecated. Use 'static_attributes' in the future\",\n"
     ]
    },
    {
     "name": "stdout",
     "output_type": "stream",
     "text": [
      "# Evaluation:  41%|████      | 273/669 [02:46<03:57,  1.67it/s]"
     ]
    },
    {
     "name": "stderr",
     "output_type": "stream",
     "text": [
      "/home/tommy/neuralhydrology/neuralhydrology/utils/config.py:597: FutureWarning: 'camels_attributes' will be deprecated. Use 'static_attributes' in the future\n",
      "  warnings.warn(\"'camels_attributes' will be deprecated. Use 'static_attributes' in the future\",\n"
     ]
    },
    {
     "name": "stdout",
     "output_type": "stream",
     "text": [
      "# Evaluation:  41%|████      | 274/669 [02:47<03:58,  1.66it/s]"
     ]
    },
    {
     "name": "stderr",
     "output_type": "stream",
     "text": [
      "/home/tommy/neuralhydrology/neuralhydrology/utils/config.py:597: FutureWarning: 'camels_attributes' will be deprecated. Use 'static_attributes' in the future\n",
      "  warnings.warn(\"'camels_attributes' will be deprecated. Use 'static_attributes' in the future\",\n"
     ]
    },
    {
     "name": "stdout",
     "output_type": "stream",
     "text": [
      "# Evaluation:  41%|████      | 275/669 [02:47<04:12,  1.56it/s]"
     ]
    },
    {
     "name": "stderr",
     "output_type": "stream",
     "text": [
      "/home/tommy/neuralhydrology/neuralhydrology/utils/config.py:597: FutureWarning: 'camels_attributes' will be deprecated. Use 'static_attributes' in the future\n",
      "  warnings.warn(\"'camels_attributes' will be deprecated. Use 'static_attributes' in the future\",\n"
     ]
    },
    {
     "name": "stdout",
     "output_type": "stream",
     "text": [
      "# Evaluation:  41%|████▏     | 276/669 [02:48<04:08,  1.58it/s]"
     ]
    },
    {
     "name": "stderr",
     "output_type": "stream",
     "text": [
      "/home/tommy/neuralhydrology/neuralhydrology/utils/config.py:597: FutureWarning: 'camels_attributes' will be deprecated. Use 'static_attributes' in the future\n",
      "  warnings.warn(\"'camels_attributes' will be deprecated. Use 'static_attributes' in the future\",\n"
     ]
    },
    {
     "name": "stdout",
     "output_type": "stream",
     "text": [
      "# Evaluation:  41%|████▏     | 277/669 [02:48<04:05,  1.60it/s]"
     ]
    },
    {
     "name": "stderr",
     "output_type": "stream",
     "text": [
      "/home/tommy/neuralhydrology/neuralhydrology/utils/config.py:597: FutureWarning: 'camels_attributes' will be deprecated. Use 'static_attributes' in the future\n",
      "  warnings.warn(\"'camels_attributes' will be deprecated. Use 'static_attributes' in the future\",\n"
     ]
    },
    {
     "name": "stdout",
     "output_type": "stream",
     "text": [
      "# Evaluation:  42%|████▏     | 278/669 [02:49<03:55,  1.66it/s]"
     ]
    },
    {
     "name": "stderr",
     "output_type": "stream",
     "text": [
      "/home/tommy/neuralhydrology/neuralhydrology/utils/config.py:597: FutureWarning: 'camels_attributes' will be deprecated. Use 'static_attributes' in the future\n",
      "  warnings.warn(\"'camels_attributes' will be deprecated. Use 'static_attributes' in the future\",\n"
     ]
    },
    {
     "name": "stdout",
     "output_type": "stream",
     "text": [
      "# Evaluation:  42%|████▏     | 279/669 [02:50<03:52,  1.68it/s]"
     ]
    },
    {
     "name": "stderr",
     "output_type": "stream",
     "text": [
      "/home/tommy/neuralhydrology/neuralhydrology/utils/config.py:597: FutureWarning: 'camels_attributes' will be deprecated. Use 'static_attributes' in the future\n",
      "  warnings.warn(\"'camels_attributes' will be deprecated. Use 'static_attributes' in the future\",\n"
     ]
    },
    {
     "name": "stdout",
     "output_type": "stream",
     "text": [
      "# Evaluation:  42%|████▏     | 280/669 [02:50<03:42,  1.75it/s]"
     ]
    },
    {
     "name": "stderr",
     "output_type": "stream",
     "text": [
      "/home/tommy/neuralhydrology/neuralhydrology/utils/config.py:597: FutureWarning: 'camels_attributes' will be deprecated. Use 'static_attributes' in the future\n",
      "  warnings.warn(\"'camels_attributes' will be deprecated. Use 'static_attributes' in the future\",\n"
     ]
    },
    {
     "name": "stdout",
     "output_type": "stream",
     "text": [
      "# Evaluation:  42%|████▏     | 281/669 [02:51<03:42,  1.74it/s]"
     ]
    },
    {
     "name": "stderr",
     "output_type": "stream",
     "text": [
      "/home/tommy/neuralhydrology/neuralhydrology/utils/config.py:597: FutureWarning: 'camels_attributes' will be deprecated. Use 'static_attributes' in the future\n",
      "  warnings.warn(\"'camels_attributes' will be deprecated. Use 'static_attributes' in the future\",\n"
     ]
    },
    {
     "name": "stdout",
     "output_type": "stream",
     "text": [
      "# Evaluation:  42%|████▏     | 282/669 [02:51<03:46,  1.71it/s]"
     ]
    },
    {
     "name": "stderr",
     "output_type": "stream",
     "text": [
      "/home/tommy/neuralhydrology/neuralhydrology/utils/config.py:597: FutureWarning: 'camels_attributes' will be deprecated. Use 'static_attributes' in the future\n",
      "  warnings.warn(\"'camels_attributes' will be deprecated. Use 'static_attributes' in the future\",\n"
     ]
    },
    {
     "name": "stdout",
     "output_type": "stream",
     "text": [
      "# Evaluation:  42%|████▏     | 283/669 [02:52<03:46,  1.70it/s]"
     ]
    },
    {
     "name": "stderr",
     "output_type": "stream",
     "text": [
      "/home/tommy/neuralhydrology/neuralhydrology/utils/config.py:597: FutureWarning: 'camels_attributes' will be deprecated. Use 'static_attributes' in the future\n",
      "  warnings.warn(\"'camels_attributes' will be deprecated. Use 'static_attributes' in the future\",\n"
     ]
    },
    {
     "name": "stdout",
     "output_type": "stream",
     "text": [
      "# Evaluation:  42%|████▏     | 284/669 [02:52<03:34,  1.79it/s]"
     ]
    },
    {
     "name": "stderr",
     "output_type": "stream",
     "text": [
      "/home/tommy/neuralhydrology/neuralhydrology/utils/config.py:597: FutureWarning: 'camels_attributes' will be deprecated. Use 'static_attributes' in the future\n",
      "  warnings.warn(\"'camels_attributes' will be deprecated. Use 'static_attributes' in the future\",\n"
     ]
    },
    {
     "name": "stdout",
     "output_type": "stream",
     "text": [
      "# Evaluation:  43%|████▎     | 285/669 [02:53<03:51,  1.66it/s]"
     ]
    },
    {
     "name": "stderr",
     "output_type": "stream",
     "text": [
      "/home/tommy/neuralhydrology/neuralhydrology/utils/config.py:597: FutureWarning: 'camels_attributes' will be deprecated. Use 'static_attributes' in the future\n",
      "  warnings.warn(\"'camels_attributes' will be deprecated. Use 'static_attributes' in the future\",\n"
     ]
    },
    {
     "name": "stdout",
     "output_type": "stream",
     "text": [
      "# Evaluation:  43%|████▎     | 286/669 [02:54<03:51,  1.65it/s]"
     ]
    },
    {
     "name": "stderr",
     "output_type": "stream",
     "text": [
      "/home/tommy/neuralhydrology/neuralhydrology/utils/config.py:597: FutureWarning: 'camels_attributes' will be deprecated. Use 'static_attributes' in the future\n",
      "  warnings.warn(\"'camels_attributes' will be deprecated. Use 'static_attributes' in the future\",\n"
     ]
    },
    {
     "name": "stdout",
     "output_type": "stream",
     "text": [
      "# Evaluation:  43%|████▎     | 287/669 [02:54<03:52,  1.65it/s]"
     ]
    },
    {
     "name": "stderr",
     "output_type": "stream",
     "text": [
      "/home/tommy/neuralhydrology/neuralhydrology/utils/config.py:597: FutureWarning: 'camels_attributes' will be deprecated. Use 'static_attributes' in the future\n",
      "  warnings.warn(\"'camels_attributes' will be deprecated. Use 'static_attributes' in the future\",\n"
     ]
    },
    {
     "name": "stdout",
     "output_type": "stream",
     "text": [
      "# Evaluation:  43%|████▎     | 288/669 [02:55<03:51,  1.64it/s]"
     ]
    },
    {
     "name": "stderr",
     "output_type": "stream",
     "text": [
      "/home/tommy/neuralhydrology/neuralhydrology/utils/config.py:597: FutureWarning: 'camels_attributes' will be deprecated. Use 'static_attributes' in the future\n",
      "  warnings.warn(\"'camels_attributes' will be deprecated. Use 'static_attributes' in the future\",\n"
     ]
    },
    {
     "name": "stdout",
     "output_type": "stream",
     "text": [
      "# Evaluation:  43%|████▎     | 289/669 [02:56<03:49,  1.65it/s]"
     ]
    },
    {
     "name": "stderr",
     "output_type": "stream",
     "text": [
      "/home/tommy/neuralhydrology/neuralhydrology/utils/config.py:597: FutureWarning: 'camels_attributes' will be deprecated. Use 'static_attributes' in the future\n",
      "  warnings.warn(\"'camels_attributes' will be deprecated. Use 'static_attributes' in the future\",\n"
     ]
    },
    {
     "name": "stdout",
     "output_type": "stream",
     "text": [
      "# Evaluation:  43%|████▎     | 290/669 [02:56<03:45,  1.68it/s]"
     ]
    },
    {
     "name": "stderr",
     "output_type": "stream",
     "text": [
      "/home/tommy/neuralhydrology/neuralhydrology/utils/config.py:597: FutureWarning: 'camels_attributes' will be deprecated. Use 'static_attributes' in the future\n",
      "  warnings.warn(\"'camels_attributes' will be deprecated. Use 'static_attributes' in the future\",\n"
     ]
    },
    {
     "name": "stdout",
     "output_type": "stream",
     "text": [
      "# Evaluation:  43%|████▎     | 291/669 [02:57<03:44,  1.68it/s]"
     ]
    },
    {
     "name": "stderr",
     "output_type": "stream",
     "text": [
      "/home/tommy/neuralhydrology/neuralhydrology/utils/config.py:597: FutureWarning: 'camels_attributes' will be deprecated. Use 'static_attributes' in the future\n",
      "  warnings.warn(\"'camels_attributes' will be deprecated. Use 'static_attributes' in the future\",\n"
     ]
    },
    {
     "name": "stdout",
     "output_type": "stream",
     "text": [
      "# Evaluation:  44%|████▎     | 292/669 [02:57<03:46,  1.67it/s]"
     ]
    },
    {
     "name": "stderr",
     "output_type": "stream",
     "text": [
      "/home/tommy/neuralhydrology/neuralhydrology/utils/config.py:597: FutureWarning: 'camels_attributes' will be deprecated. Use 'static_attributes' in the future\n",
      "  warnings.warn(\"'camels_attributes' will be deprecated. Use 'static_attributes' in the future\",\n"
     ]
    },
    {
     "name": "stdout",
     "output_type": "stream",
     "text": [
      "# Evaluation:  44%|████▍     | 293/669 [02:58<03:45,  1.66it/s]"
     ]
    },
    {
     "name": "stderr",
     "output_type": "stream",
     "text": [
      "/home/tommy/neuralhydrology/neuralhydrology/utils/config.py:597: FutureWarning: 'camels_attributes' will be deprecated. Use 'static_attributes' in the future\n",
      "  warnings.warn(\"'camels_attributes' will be deprecated. Use 'static_attributes' in the future\",\n"
     ]
    },
    {
     "name": "stdout",
     "output_type": "stream",
     "text": [
      "# Evaluation:  44%|████▍     | 294/669 [02:58<03:45,  1.66it/s]"
     ]
    },
    {
     "name": "stderr",
     "output_type": "stream",
     "text": [
      "/home/tommy/neuralhydrology/neuralhydrology/utils/config.py:597: FutureWarning: 'camels_attributes' will be deprecated. Use 'static_attributes' in the future\n",
      "  warnings.warn(\"'camels_attributes' will be deprecated. Use 'static_attributes' in the future\",\n"
     ]
    },
    {
     "name": "stdout",
     "output_type": "stream",
     "text": [
      "# Evaluation:  44%|████▍     | 295/669 [02:59<03:53,  1.60it/s]"
     ]
    },
    {
     "name": "stderr",
     "output_type": "stream",
     "text": [
      "/home/tommy/neuralhydrology/neuralhydrology/utils/config.py:597: FutureWarning: 'camels_attributes' will be deprecated. Use 'static_attributes' in the future\n",
      "  warnings.warn(\"'camels_attributes' will be deprecated. Use 'static_attributes' in the future\",\n"
     ]
    },
    {
     "name": "stdout",
     "output_type": "stream",
     "text": [
      "# Evaluation:  44%|████▍     | 296/669 [03:00<03:52,  1.61it/s]"
     ]
    },
    {
     "name": "stderr",
     "output_type": "stream",
     "text": [
      "/home/tommy/neuralhydrology/neuralhydrology/utils/config.py:597: FutureWarning: 'camels_attributes' will be deprecated. Use 'static_attributes' in the future\n",
      "  warnings.warn(\"'camels_attributes' will be deprecated. Use 'static_attributes' in the future\",\n"
     ]
    },
    {
     "name": "stdout",
     "output_type": "stream",
     "text": [
      "# Evaluation:  44%|████▍     | 297/669 [03:00<03:50,  1.62it/s]"
     ]
    },
    {
     "name": "stderr",
     "output_type": "stream",
     "text": [
      "/home/tommy/neuralhydrology/neuralhydrology/utils/config.py:597: FutureWarning: 'camels_attributes' will be deprecated. Use 'static_attributes' in the future\n",
      "  warnings.warn(\"'camels_attributes' will be deprecated. Use 'static_attributes' in the future\",\n"
     ]
    },
    {
     "name": "stdout",
     "output_type": "stream",
     "text": [
      "# Evaluation:  45%|████▍     | 298/669 [03:01<03:49,  1.62it/s]"
     ]
    },
    {
     "name": "stderr",
     "output_type": "stream",
     "text": [
      "/home/tommy/neuralhydrology/neuralhydrology/utils/config.py:597: FutureWarning: 'camels_attributes' will be deprecated. Use 'static_attributes' in the future\n",
      "  warnings.warn(\"'camels_attributes' will be deprecated. Use 'static_attributes' in the future\",\n"
     ]
    },
    {
     "name": "stdout",
     "output_type": "stream",
     "text": [
      "# Evaluation:  45%|████▍     | 299/669 [03:02<03:47,  1.62it/s]"
     ]
    },
    {
     "name": "stderr",
     "output_type": "stream",
     "text": [
      "/home/tommy/neuralhydrology/neuralhydrology/utils/config.py:597: FutureWarning: 'camels_attributes' will be deprecated. Use 'static_attributes' in the future\n",
      "  warnings.warn(\"'camels_attributes' will be deprecated. Use 'static_attributes' in the future\",\n"
     ]
    },
    {
     "name": "stdout",
     "output_type": "stream",
     "text": [
      "# Evaluation:  45%|████▍     | 300/669 [03:02<03:47,  1.62it/s]"
     ]
    },
    {
     "name": "stderr",
     "output_type": "stream",
     "text": [
      "/home/tommy/neuralhydrology/neuralhydrology/utils/config.py:597: FutureWarning: 'camels_attributes' will be deprecated. Use 'static_attributes' in the future\n",
      "  warnings.warn(\"'camels_attributes' will be deprecated. Use 'static_attributes' in the future\",\n"
     ]
    },
    {
     "name": "stdout",
     "output_type": "stream",
     "text": [
      "# Evaluation:  45%|████▍     | 301/669 [03:03<03:47,  1.62it/s]"
     ]
    },
    {
     "name": "stderr",
     "output_type": "stream",
     "text": [
      "/home/tommy/neuralhydrology/neuralhydrology/utils/config.py:597: FutureWarning: 'camels_attributes' will be deprecated. Use 'static_attributes' in the future\n",
      "  warnings.warn(\"'camels_attributes' will be deprecated. Use 'static_attributes' in the future\",\n"
     ]
    },
    {
     "name": "stdout",
     "output_type": "stream",
     "text": [
      "# Evaluation:  45%|████▌     | 302/669 [03:03<03:39,  1.67it/s]"
     ]
    },
    {
     "name": "stderr",
     "output_type": "stream",
     "text": [
      "/home/tommy/neuralhydrology/neuralhydrology/utils/config.py:597: FutureWarning: 'camels_attributes' will be deprecated. Use 'static_attributes' in the future\n",
      "  warnings.warn(\"'camels_attributes' will be deprecated. Use 'static_attributes' in the future\",\n"
     ]
    },
    {
     "name": "stdout",
     "output_type": "stream",
     "text": [
      "# Evaluation:  45%|████▌     | 303/669 [03:04<03:36,  1.69it/s]"
     ]
    },
    {
     "name": "stderr",
     "output_type": "stream",
     "text": [
      "/home/tommy/neuralhydrology/neuralhydrology/utils/config.py:597: FutureWarning: 'camels_attributes' will be deprecated. Use 'static_attributes' in the future\n",
      "  warnings.warn(\"'camels_attributes' will be deprecated. Use 'static_attributes' in the future\",\n"
     ]
    },
    {
     "name": "stdout",
     "output_type": "stream",
     "text": [
      "# Evaluation:  45%|████▌     | 304/669 [03:05<03:33,  1.71it/s]"
     ]
    },
    {
     "name": "stderr",
     "output_type": "stream",
     "text": [
      "/home/tommy/neuralhydrology/neuralhydrology/utils/config.py:597: FutureWarning: 'camels_attributes' will be deprecated. Use 'static_attributes' in the future\n",
      "  warnings.warn(\"'camels_attributes' will be deprecated. Use 'static_attributes' in the future\",\n"
     ]
    },
    {
     "name": "stdout",
     "output_type": "stream",
     "text": [
      "# Evaluation:  46%|████▌     | 305/669 [03:05<03:48,  1.59it/s]"
     ]
    },
    {
     "name": "stderr",
     "output_type": "stream",
     "text": [
      "/home/tommy/neuralhydrology/neuralhydrology/utils/config.py:597: FutureWarning: 'camels_attributes' will be deprecated. Use 'static_attributes' in the future\n",
      "  warnings.warn(\"'camels_attributes' will be deprecated. Use 'static_attributes' in the future\",\n"
     ]
    },
    {
     "name": "stdout",
     "output_type": "stream",
     "text": [
      "# Evaluation:  46%|████▌     | 306/669 [03:06<03:45,  1.61it/s]"
     ]
    },
    {
     "name": "stderr",
     "output_type": "stream",
     "text": [
      "/home/tommy/neuralhydrology/neuralhydrology/utils/config.py:597: FutureWarning: 'camels_attributes' will be deprecated. Use 'static_attributes' in the future\n",
      "  warnings.warn(\"'camels_attributes' will be deprecated. Use 'static_attributes' in the future\",\n"
     ]
    },
    {
     "name": "stdout",
     "output_type": "stream",
     "text": [
      "# Evaluation:  46%|████▌     | 307/669 [03:07<03:44,  1.61it/s]"
     ]
    },
    {
     "name": "stderr",
     "output_type": "stream",
     "text": [
      "/home/tommy/neuralhydrology/neuralhydrology/utils/config.py:597: FutureWarning: 'camels_attributes' will be deprecated. Use 'static_attributes' in the future\n",
      "  warnings.warn(\"'camels_attributes' will be deprecated. Use 'static_attributes' in the future\",\n"
     ]
    },
    {
     "name": "stdout",
     "output_type": "stream",
     "text": [
      "# Evaluation:  46%|████▌     | 308/669 [03:07<03:34,  1.68it/s]"
     ]
    },
    {
     "name": "stderr",
     "output_type": "stream",
     "text": [
      "/home/tommy/neuralhydrology/neuralhydrology/utils/config.py:597: FutureWarning: 'camels_attributes' will be deprecated. Use 'static_attributes' in the future\n",
      "  warnings.warn(\"'camels_attributes' will be deprecated. Use 'static_attributes' in the future\",\n"
     ]
    },
    {
     "name": "stdout",
     "output_type": "stream",
     "text": [
      "# Evaluation:  46%|████▌     | 309/669 [03:08<03:35,  1.67it/s]"
     ]
    },
    {
     "name": "stderr",
     "output_type": "stream",
     "text": [
      "/home/tommy/neuralhydrology/neuralhydrology/utils/config.py:597: FutureWarning: 'camels_attributes' will be deprecated. Use 'static_attributes' in the future\n",
      "  warnings.warn(\"'camels_attributes' will be deprecated. Use 'static_attributes' in the future\",\n"
     ]
    },
    {
     "name": "stdout",
     "output_type": "stream",
     "text": [
      "# Evaluation:  46%|████▋     | 310/669 [03:08<03:34,  1.67it/s]"
     ]
    },
    {
     "name": "stderr",
     "output_type": "stream",
     "text": [
      "/home/tommy/neuralhydrology/neuralhydrology/utils/config.py:597: FutureWarning: 'camels_attributes' will be deprecated. Use 'static_attributes' in the future\n",
      "  warnings.warn(\"'camels_attributes' will be deprecated. Use 'static_attributes' in the future\",\n"
     ]
    },
    {
     "name": "stdout",
     "output_type": "stream",
     "text": [
      "# Evaluation:  46%|████▋     | 311/669 [03:09<03:30,  1.70it/s]"
     ]
    },
    {
     "name": "stderr",
     "output_type": "stream",
     "text": [
      "/home/tommy/neuralhydrology/neuralhydrology/utils/config.py:597: FutureWarning: 'camels_attributes' will be deprecated. Use 'static_attributes' in the future\n",
      "  warnings.warn(\"'camels_attributes' will be deprecated. Use 'static_attributes' in the future\",\n"
     ]
    },
    {
     "name": "stdout",
     "output_type": "stream",
     "text": [
      "# Evaluation:  47%|████▋     | 312/669 [03:09<03:30,  1.70it/s]"
     ]
    },
    {
     "name": "stderr",
     "output_type": "stream",
     "text": [
      "/home/tommy/neuralhydrology/neuralhydrology/utils/config.py:597: FutureWarning: 'camels_attributes' will be deprecated. Use 'static_attributes' in the future\n",
      "  warnings.warn(\"'camels_attributes' will be deprecated. Use 'static_attributes' in the future\",\n"
     ]
    },
    {
     "name": "stdout",
     "output_type": "stream",
     "text": [
      "# Evaluation:  47%|████▋     | 313/669 [03:10<03:32,  1.68it/s]"
     ]
    },
    {
     "name": "stderr",
     "output_type": "stream",
     "text": [
      "/home/tommy/neuralhydrology/neuralhydrology/utils/config.py:597: FutureWarning: 'camels_attributes' will be deprecated. Use 'static_attributes' in the future\n",
      "  warnings.warn(\"'camels_attributes' will be deprecated. Use 'static_attributes' in the future\",\n"
     ]
    },
    {
     "name": "stdout",
     "output_type": "stream",
     "text": [
      "# Evaluation:  47%|████▋     | 314/669 [03:11<03:33,  1.66it/s]"
     ]
    },
    {
     "name": "stderr",
     "output_type": "stream",
     "text": [
      "/home/tommy/neuralhydrology/neuralhydrology/utils/config.py:597: FutureWarning: 'camels_attributes' will be deprecated. Use 'static_attributes' in the future\n",
      "  warnings.warn(\"'camels_attributes' will be deprecated. Use 'static_attributes' in the future\",\n"
     ]
    },
    {
     "name": "stdout",
     "output_type": "stream",
     "text": [
      "# Evaluation:  47%|████▋     | 315/669 [03:11<03:46,  1.56it/s]"
     ]
    },
    {
     "name": "stderr",
     "output_type": "stream",
     "text": [
      "/home/tommy/neuralhydrology/neuralhydrology/utils/config.py:597: FutureWarning: 'camels_attributes' will be deprecated. Use 'static_attributes' in the future\n",
      "  warnings.warn(\"'camels_attributes' will be deprecated. Use 'static_attributes' in the future\",\n"
     ]
    },
    {
     "name": "stdout",
     "output_type": "stream",
     "text": [
      "# Evaluation:  47%|████▋     | 316/669 [03:12<03:43,  1.58it/s]"
     ]
    },
    {
     "name": "stderr",
     "output_type": "stream",
     "text": [
      "/home/tommy/neuralhydrology/neuralhydrology/utils/config.py:597: FutureWarning: 'camels_attributes' will be deprecated. Use 'static_attributes' in the future\n",
      "  warnings.warn(\"'camels_attributes' will be deprecated. Use 'static_attributes' in the future\",\n"
     ]
    },
    {
     "name": "stdout",
     "output_type": "stream",
     "text": [
      "# Evaluation:  47%|████▋     | 317/669 [03:13<03:40,  1.59it/s]"
     ]
    },
    {
     "name": "stderr",
     "output_type": "stream",
     "text": [
      "/home/tommy/neuralhydrology/neuralhydrology/utils/config.py:597: FutureWarning: 'camels_attributes' will be deprecated. Use 'static_attributes' in the future\n",
      "  warnings.warn(\"'camels_attributes' will be deprecated. Use 'static_attributes' in the future\",\n"
     ]
    },
    {
     "name": "stdout",
     "output_type": "stream",
     "text": [
      "# Evaluation:  48%|████▊     | 318/669 [03:13<03:36,  1.62it/s]"
     ]
    },
    {
     "name": "stderr",
     "output_type": "stream",
     "text": [
      "/home/tommy/neuralhydrology/neuralhydrology/utils/config.py:597: FutureWarning: 'camels_attributes' will be deprecated. Use 'static_attributes' in the future\n",
      "  warnings.warn(\"'camels_attributes' will be deprecated. Use 'static_attributes' in the future\",\n"
     ]
    },
    {
     "name": "stdout",
     "output_type": "stream",
     "text": [
      "# Evaluation:  48%|████▊     | 319/669 [03:14<03:31,  1.65it/s]"
     ]
    },
    {
     "name": "stderr",
     "output_type": "stream",
     "text": [
      "/home/tommy/neuralhydrology/neuralhydrology/utils/config.py:597: FutureWarning: 'camels_attributes' will be deprecated. Use 'static_attributes' in the future\n",
      "  warnings.warn(\"'camels_attributes' will be deprecated. Use 'static_attributes' in the future\",\n"
     ]
    },
    {
     "name": "stdout",
     "output_type": "stream",
     "text": [
      "# Evaluation:  48%|████▊     | 320/669 [03:14<03:28,  1.67it/s]"
     ]
    },
    {
     "name": "stderr",
     "output_type": "stream",
     "text": [
      "/home/tommy/neuralhydrology/neuralhydrology/utils/config.py:597: FutureWarning: 'camels_attributes' will be deprecated. Use 'static_attributes' in the future\n",
      "  warnings.warn(\"'camels_attributes' will be deprecated. Use 'static_attributes' in the future\",\n"
     ]
    },
    {
     "name": "stdout",
     "output_type": "stream",
     "text": [
      "# Evaluation:  48%|████▊     | 321/669 [03:15<03:29,  1.66it/s]"
     ]
    },
    {
     "name": "stderr",
     "output_type": "stream",
     "text": [
      "/home/tommy/neuralhydrology/neuralhydrology/utils/config.py:597: FutureWarning: 'camels_attributes' will be deprecated. Use 'static_attributes' in the future\n",
      "  warnings.warn(\"'camels_attributes' will be deprecated. Use 'static_attributes' in the future\",\n"
     ]
    },
    {
     "name": "stdout",
     "output_type": "stream",
     "text": [
      "# Evaluation:  48%|████▊     | 322/669 [03:16<03:29,  1.65it/s]"
     ]
    },
    {
     "name": "stderr",
     "output_type": "stream",
     "text": [
      "/home/tommy/neuralhydrology/neuralhydrology/utils/config.py:597: FutureWarning: 'camels_attributes' will be deprecated. Use 'static_attributes' in the future\n",
      "  warnings.warn(\"'camels_attributes' will be deprecated. Use 'static_attributes' in the future\",\n"
     ]
    },
    {
     "name": "stdout",
     "output_type": "stream",
     "text": [
      "# Evaluation:  48%|████▊     | 323/669 [03:16<03:25,  1.68it/s]"
     ]
    },
    {
     "name": "stderr",
     "output_type": "stream",
     "text": [
      "/home/tommy/neuralhydrology/neuralhydrology/utils/config.py:597: FutureWarning: 'camels_attributes' will be deprecated. Use 'static_attributes' in the future\n",
      "  warnings.warn(\"'camels_attributes' will be deprecated. Use 'static_attributes' in the future\",\n"
     ]
    },
    {
     "name": "stdout",
     "output_type": "stream",
     "text": [
      "# Evaluation:  48%|████▊     | 324/669 [03:17<03:26,  1.67it/s]"
     ]
    },
    {
     "name": "stderr",
     "output_type": "stream",
     "text": [
      "/home/tommy/neuralhydrology/neuralhydrology/utils/config.py:597: FutureWarning: 'camels_attributes' will be deprecated. Use 'static_attributes' in the future\n",
      "  warnings.warn(\"'camels_attributes' will be deprecated. Use 'static_attributes' in the future\",\n"
     ]
    },
    {
     "name": "stdout",
     "output_type": "stream",
     "text": [
      "# Evaluation:  49%|████▊     | 325/669 [03:17<03:38,  1.57it/s]"
     ]
    },
    {
     "name": "stderr",
     "output_type": "stream",
     "text": [
      "/home/tommy/neuralhydrology/neuralhydrology/utils/config.py:597: FutureWarning: 'camels_attributes' will be deprecated. Use 'static_attributes' in the future\n",
      "  warnings.warn(\"'camels_attributes' will be deprecated. Use 'static_attributes' in the future\",\n"
     ]
    },
    {
     "name": "stdout",
     "output_type": "stream",
     "text": [
      "# Evaluation:  49%|████▊     | 326/669 [03:18<03:35,  1.59it/s]"
     ]
    },
    {
     "name": "stderr",
     "output_type": "stream",
     "text": [
      "/home/tommy/neuralhydrology/neuralhydrology/utils/config.py:597: FutureWarning: 'camels_attributes' will be deprecated. Use 'static_attributes' in the future\n",
      "  warnings.warn(\"'camels_attributes' will be deprecated. Use 'static_attributes' in the future\",\n"
     ]
    },
    {
     "name": "stdout",
     "output_type": "stream",
     "text": [
      "# Evaluation:  49%|████▉     | 327/669 [03:19<03:29,  1.63it/s]"
     ]
    },
    {
     "name": "stderr",
     "output_type": "stream",
     "text": [
      "/home/tommy/neuralhydrology/neuralhydrology/utils/config.py:597: FutureWarning: 'camels_attributes' will be deprecated. Use 'static_attributes' in the future\n",
      "  warnings.warn(\"'camels_attributes' will be deprecated. Use 'static_attributes' in the future\",\n"
     ]
    },
    {
     "name": "stdout",
     "output_type": "stream",
     "text": [
      "# Evaluation:  49%|████▉     | 328/669 [03:19<03:29,  1.63it/s]"
     ]
    },
    {
     "name": "stderr",
     "output_type": "stream",
     "text": [
      "/home/tommy/neuralhydrology/neuralhydrology/utils/config.py:597: FutureWarning: 'camels_attributes' will be deprecated. Use 'static_attributes' in the future\n",
      "  warnings.warn(\"'camels_attributes' will be deprecated. Use 'static_attributes' in the future\",\n"
     ]
    },
    {
     "name": "stdout",
     "output_type": "stream",
     "text": [
      "# Evaluation:  49%|████▉     | 329/669 [03:20<03:28,  1.63it/s]"
     ]
    },
    {
     "name": "stderr",
     "output_type": "stream",
     "text": [
      "/home/tommy/neuralhydrology/neuralhydrology/utils/config.py:597: FutureWarning: 'camels_attributes' will be deprecated. Use 'static_attributes' in the future\n",
      "  warnings.warn(\"'camels_attributes' will be deprecated. Use 'static_attributes' in the future\",\n"
     ]
    },
    {
     "name": "stdout",
     "output_type": "stream",
     "text": [
      "# Evaluation:  49%|████▉     | 330/669 [03:21<03:27,  1.63it/s]"
     ]
    },
    {
     "name": "stderr",
     "output_type": "stream",
     "text": [
      "/home/tommy/neuralhydrology/neuralhydrology/utils/config.py:597: FutureWarning: 'camels_attributes' will be deprecated. Use 'static_attributes' in the future\n",
      "  warnings.warn(\"'camels_attributes' will be deprecated. Use 'static_attributes' in the future\",\n"
     ]
    },
    {
     "name": "stdout",
     "output_type": "stream",
     "text": [
      "# Evaluation:  49%|████▉     | 331/669 [03:21<03:27,  1.63it/s]"
     ]
    },
    {
     "name": "stderr",
     "output_type": "stream",
     "text": [
      "/home/tommy/neuralhydrology/neuralhydrology/utils/config.py:597: FutureWarning: 'camels_attributes' will be deprecated. Use 'static_attributes' in the future\n",
      "  warnings.warn(\"'camels_attributes' will be deprecated. Use 'static_attributes' in the future\",\n"
     ]
    },
    {
     "name": "stdout",
     "output_type": "stream",
     "text": [
      "# Evaluation:  50%|████▉     | 332/669 [03:22<03:26,  1.63it/s]"
     ]
    },
    {
     "name": "stderr",
     "output_type": "stream",
     "text": [
      "/home/tommy/neuralhydrology/neuralhydrology/utils/config.py:597: FutureWarning: 'camels_attributes' will be deprecated. Use 'static_attributes' in the future\n",
      "  warnings.warn(\"'camels_attributes' will be deprecated. Use 'static_attributes' in the future\",\n"
     ]
    },
    {
     "name": "stdout",
     "output_type": "stream",
     "text": [
      "# Evaluation:  50%|████▉     | 333/669 [03:22<03:24,  1.64it/s]"
     ]
    },
    {
     "name": "stderr",
     "output_type": "stream",
     "text": [
      "/home/tommy/neuralhydrology/neuralhydrology/utils/config.py:597: FutureWarning: 'camels_attributes' will be deprecated. Use 'static_attributes' in the future\n",
      "  warnings.warn(\"'camels_attributes' will be deprecated. Use 'static_attributes' in the future\",\n"
     ]
    },
    {
     "name": "stdout",
     "output_type": "stream",
     "text": [
      "# Evaluation:  50%|████▉     | 334/669 [03:23<03:25,  1.63it/s]"
     ]
    },
    {
     "name": "stderr",
     "output_type": "stream",
     "text": [
      "/home/tommy/neuralhydrology/neuralhydrology/utils/config.py:597: FutureWarning: 'camels_attributes' will be deprecated. Use 'static_attributes' in the future\n",
      "  warnings.warn(\"'camels_attributes' will be deprecated. Use 'static_attributes' in the future\",\n"
     ]
    },
    {
     "name": "stdout",
     "output_type": "stream",
     "text": [
      "# Evaluation:  50%|█████     | 335/669 [03:24<03:30,  1.58it/s]"
     ]
    },
    {
     "name": "stderr",
     "output_type": "stream",
     "text": [
      "/home/tommy/neuralhydrology/neuralhydrology/utils/config.py:597: FutureWarning: 'camels_attributes' will be deprecated. Use 'static_attributes' in the future\n",
      "  warnings.warn(\"'camels_attributes' will be deprecated. Use 'static_attributes' in the future\",\n"
     ]
    },
    {
     "name": "stdout",
     "output_type": "stream",
     "text": [
      "# Evaluation:  50%|█████     | 336/669 [03:24<03:18,  1.68it/s]"
     ]
    },
    {
     "name": "stderr",
     "output_type": "stream",
     "text": [
      "/home/tommy/neuralhydrology/neuralhydrology/utils/config.py:597: FutureWarning: 'camels_attributes' will be deprecated. Use 'static_attributes' in the future\n",
      "  warnings.warn(\"'camels_attributes' will be deprecated. Use 'static_attributes' in the future\",\n"
     ]
    },
    {
     "name": "stdout",
     "output_type": "stream",
     "text": [
      "# Evaluation:  50%|█████     | 337/669 [03:25<03:19,  1.67it/s]"
     ]
    },
    {
     "name": "stderr",
     "output_type": "stream",
     "text": [
      "/home/tommy/neuralhydrology/neuralhydrology/utils/config.py:597: FutureWarning: 'camels_attributes' will be deprecated. Use 'static_attributes' in the future\n",
      "  warnings.warn(\"'camels_attributes' will be deprecated. Use 'static_attributes' in the future\",\n"
     ]
    },
    {
     "name": "stdout",
     "output_type": "stream",
     "text": [
      "# Evaluation:  51%|█████     | 338/669 [03:26<03:53,  1.42it/s]"
     ]
    },
    {
     "name": "stderr",
     "output_type": "stream",
     "text": [
      "/home/tommy/neuralhydrology/neuralhydrology/utils/config.py:597: FutureWarning: 'camels_attributes' will be deprecated. Use 'static_attributes' in the future\n",
      "  warnings.warn(\"'camels_attributes' will be deprecated. Use 'static_attributes' in the future\",\n"
     ]
    },
    {
     "name": "stdout",
     "output_type": "stream",
     "text": [
      "# Evaluation:  51%|█████     | 339/669 [03:26<03:44,  1.47it/s]"
     ]
    },
    {
     "name": "stderr",
     "output_type": "stream",
     "text": [
      "/home/tommy/neuralhydrology/neuralhydrology/utils/config.py:597: FutureWarning: 'camels_attributes' will be deprecated. Use 'static_attributes' in the future\n",
      "  warnings.warn(\"'camels_attributes' will be deprecated. Use 'static_attributes' in the future\",\n"
     ]
    },
    {
     "name": "stdout",
     "output_type": "stream",
     "text": [
      "# Evaluation:  51%|█████     | 340/669 [03:27<03:32,  1.54it/s]"
     ]
    },
    {
     "name": "stderr",
     "output_type": "stream",
     "text": [
      "/home/tommy/neuralhydrology/neuralhydrology/utils/config.py:597: FutureWarning: 'camels_attributes' will be deprecated. Use 'static_attributes' in the future\n",
      "  warnings.warn(\"'camels_attributes' will be deprecated. Use 'static_attributes' in the future\",\n"
     ]
    },
    {
     "name": "stdout",
     "output_type": "stream",
     "text": [
      "# Evaluation:  51%|█████     | 341/669 [03:27<03:20,  1.64it/s]"
     ]
    },
    {
     "name": "stderr",
     "output_type": "stream",
     "text": [
      "/home/tommy/neuralhydrology/neuralhydrology/utils/config.py:597: FutureWarning: 'camels_attributes' will be deprecated. Use 'static_attributes' in the future\n",
      "  warnings.warn(\"'camels_attributes' will be deprecated. Use 'static_attributes' in the future\",\n"
     ]
    },
    {
     "name": "stdout",
     "output_type": "stream",
     "text": [
      "# Evaluation:  51%|█████     | 342/669 [03:28<03:16,  1.66it/s]"
     ]
    },
    {
     "name": "stderr",
     "output_type": "stream",
     "text": [
      "/home/tommy/neuralhydrology/neuralhydrology/utils/config.py:597: FutureWarning: 'camels_attributes' will be deprecated. Use 'static_attributes' in the future\n",
      "  warnings.warn(\"'camels_attributes' will be deprecated. Use 'static_attributes' in the future\",\n"
     ]
    },
    {
     "name": "stdout",
     "output_type": "stream",
     "text": [
      "# Evaluation:  51%|█████▏    | 343/669 [03:29<03:16,  1.66it/s]"
     ]
    },
    {
     "name": "stderr",
     "output_type": "stream",
     "text": [
      "/home/tommy/neuralhydrology/neuralhydrology/utils/config.py:597: FutureWarning: 'camels_attributes' will be deprecated. Use 'static_attributes' in the future\n",
      "  warnings.warn(\"'camels_attributes' will be deprecated. Use 'static_attributes' in the future\",\n"
     ]
    },
    {
     "name": "stdout",
     "output_type": "stream",
     "text": [
      "# Evaluation:  51%|█████▏    | 344/669 [03:29<03:16,  1.65it/s]"
     ]
    },
    {
     "name": "stderr",
     "output_type": "stream",
     "text": [
      "/home/tommy/neuralhydrology/neuralhydrology/utils/config.py:597: FutureWarning: 'camels_attributes' will be deprecated. Use 'static_attributes' in the future\n",
      "  warnings.warn(\"'camels_attributes' will be deprecated. Use 'static_attributes' in the future\",\n"
     ]
    },
    {
     "name": "stdout",
     "output_type": "stream",
     "text": [
      "# Evaluation:  52%|█████▏    | 345/669 [03:30<03:52,  1.40it/s]"
     ]
    },
    {
     "name": "stderr",
     "output_type": "stream",
     "text": [
      "/home/tommy/neuralhydrology/neuralhydrology/utils/config.py:597: FutureWarning: 'camels_attributes' will be deprecated. Use 'static_attributes' in the future\n",
      "  warnings.warn(\"'camels_attributes' will be deprecated. Use 'static_attributes' in the future\",\n"
     ]
    },
    {
     "name": "stdout",
     "output_type": "stream",
     "text": [
      "# Evaluation:  52%|█████▏    | 346/669 [03:31<03:39,  1.47it/s]"
     ]
    },
    {
     "name": "stderr",
     "output_type": "stream",
     "text": [
      "/home/tommy/neuralhydrology/neuralhydrology/utils/config.py:597: FutureWarning: 'camels_attributes' will be deprecated. Use 'static_attributes' in the future\n",
      "  warnings.warn(\"'camels_attributes' will be deprecated. Use 'static_attributes' in the future\",\n"
     ]
    },
    {
     "name": "stdout",
     "output_type": "stream",
     "text": [
      "# Evaluation:  52%|█████▏    | 347/669 [03:31<03:32,  1.51it/s]"
     ]
    },
    {
     "name": "stderr",
     "output_type": "stream",
     "text": [
      "/home/tommy/neuralhydrology/neuralhydrology/utils/config.py:597: FutureWarning: 'camels_attributes' will be deprecated. Use 'static_attributes' in the future\n",
      "  warnings.warn(\"'camels_attributes' will be deprecated. Use 'static_attributes' in the future\",\n"
     ]
    },
    {
     "name": "stdout",
     "output_type": "stream",
     "text": [
      "# Evaluation:  52%|█████▏    | 348/669 [03:32<03:26,  1.55it/s]"
     ]
    },
    {
     "name": "stderr",
     "output_type": "stream",
     "text": [
      "/home/tommy/neuralhydrology/neuralhydrology/utils/config.py:597: FutureWarning: 'camels_attributes' will be deprecated. Use 'static_attributes' in the future\n",
      "  warnings.warn(\"'camels_attributes' will be deprecated. Use 'static_attributes' in the future\",\n"
     ]
    },
    {
     "name": "stdout",
     "output_type": "stream",
     "text": [
      "# Evaluation:  52%|█████▏    | 349/669 [03:33<03:22,  1.58it/s]"
     ]
    },
    {
     "name": "stderr",
     "output_type": "stream",
     "text": [
      "/home/tommy/neuralhydrology/neuralhydrology/utils/config.py:597: FutureWarning: 'camels_attributes' will be deprecated. Use 'static_attributes' in the future\n",
      "  warnings.warn(\"'camels_attributes' will be deprecated. Use 'static_attributes' in the future\",\n"
     ]
    },
    {
     "name": "stdout",
     "output_type": "stream",
     "text": [
      "# Evaluation:  52%|█████▏    | 350/669 [03:33<03:15,  1.63it/s]"
     ]
    },
    {
     "name": "stderr",
     "output_type": "stream",
     "text": [
      "/home/tommy/neuralhydrology/neuralhydrology/utils/config.py:597: FutureWarning: 'camels_attributes' will be deprecated. Use 'static_attributes' in the future\n",
      "  warnings.warn(\"'camels_attributes' will be deprecated. Use 'static_attributes' in the future\",\n"
     ]
    },
    {
     "name": "stdout",
     "output_type": "stream",
     "text": [
      "# Evaluation:  52%|█████▏    | 351/669 [03:34<03:07,  1.69it/s]"
     ]
    },
    {
     "name": "stderr",
     "output_type": "stream",
     "text": [
      "/home/tommy/neuralhydrology/neuralhydrology/utils/config.py:597: FutureWarning: 'camels_attributes' will be deprecated. Use 'static_attributes' in the future\n",
      "  warnings.warn(\"'camels_attributes' will be deprecated. Use 'static_attributes' in the future\",\n"
     ]
    },
    {
     "name": "stdout",
     "output_type": "stream",
     "text": [
      "# Evaluation:  53%|█████▎    | 352/669 [03:34<03:06,  1.70it/s]"
     ]
    },
    {
     "name": "stderr",
     "output_type": "stream",
     "text": [
      "/home/tommy/neuralhydrology/neuralhydrology/utils/config.py:597: FutureWarning: 'camels_attributes' will be deprecated. Use 'static_attributes' in the future\n",
      "  warnings.warn(\"'camels_attributes' will be deprecated. Use 'static_attributes' in the future\",\n"
     ]
    },
    {
     "name": "stdout",
     "output_type": "stream",
     "text": [
      "# Evaluation:  53%|█████▎    | 353/669 [03:35<02:59,  1.76it/s]"
     ]
    },
    {
     "name": "stderr",
     "output_type": "stream",
     "text": [
      "/home/tommy/neuralhydrology/neuralhydrology/utils/config.py:597: FutureWarning: 'camels_attributes' will be deprecated. Use 'static_attributes' in the future\n",
      "  warnings.warn(\"'camels_attributes' will be deprecated. Use 'static_attributes' in the future\",\n"
     ]
    },
    {
     "name": "stdout",
     "output_type": "stream",
     "text": [
      "# Evaluation:  53%|█████▎    | 354/669 [03:35<02:51,  1.84it/s]"
     ]
    },
    {
     "name": "stderr",
     "output_type": "stream",
     "text": [
      "/home/tommy/neuralhydrology/neuralhydrology/utils/config.py:597: FutureWarning: 'camels_attributes' will be deprecated. Use 'static_attributes' in the future\n",
      "  warnings.warn(\"'camels_attributes' will be deprecated. Use 'static_attributes' in the future\",\n"
     ]
    },
    {
     "name": "stdout",
     "output_type": "stream",
     "text": [
      "# Evaluation:  53%|█████▎    | 355/669 [03:36<03:01,  1.73it/s]"
     ]
    },
    {
     "name": "stderr",
     "output_type": "stream",
     "text": [
      "/home/tommy/neuralhydrology/neuralhydrology/utils/config.py:597: FutureWarning: 'camels_attributes' will be deprecated. Use 'static_attributes' in the future\n",
      "  warnings.warn(\"'camels_attributes' will be deprecated. Use 'static_attributes' in the future\",\n"
     ]
    },
    {
     "name": "stdout",
     "output_type": "stream",
     "text": [
      "# Evaluation:  53%|█████▎    | 356/669 [03:37<03:03,  1.71it/s]"
     ]
    },
    {
     "name": "stderr",
     "output_type": "stream",
     "text": [
      "/home/tommy/neuralhydrology/neuralhydrology/utils/config.py:597: FutureWarning: 'camels_attributes' will be deprecated. Use 'static_attributes' in the future\n",
      "  warnings.warn(\"'camels_attributes' will be deprecated. Use 'static_attributes' in the future\",\n"
     ]
    },
    {
     "name": "stdout",
     "output_type": "stream",
     "text": [
      "# Evaluation:  53%|█████▎    | 357/669 [03:37<03:01,  1.72it/s]"
     ]
    },
    {
     "name": "stderr",
     "output_type": "stream",
     "text": [
      "/home/tommy/neuralhydrology/neuralhydrology/utils/config.py:597: FutureWarning: 'camels_attributes' will be deprecated. Use 'static_attributes' in the future\n",
      "  warnings.warn(\"'camels_attributes' will be deprecated. Use 'static_attributes' in the future\",\n"
     ]
    },
    {
     "name": "stdout",
     "output_type": "stream",
     "text": [
      "# Evaluation:  54%|█████▎    | 358/669 [03:38<03:04,  1.68it/s]"
     ]
    },
    {
     "name": "stderr",
     "output_type": "stream",
     "text": [
      "/home/tommy/neuralhydrology/neuralhydrology/utils/config.py:597: FutureWarning: 'camels_attributes' will be deprecated. Use 'static_attributes' in the future\n",
      "  warnings.warn(\"'camels_attributes' will be deprecated. Use 'static_attributes' in the future\",\n"
     ]
    },
    {
     "name": "stdout",
     "output_type": "stream",
     "text": [
      "# Evaluation:  54%|█████▎    | 359/669 [03:38<03:05,  1.67it/s]"
     ]
    },
    {
     "name": "stderr",
     "output_type": "stream",
     "text": [
      "/home/tommy/neuralhydrology/neuralhydrology/utils/config.py:597: FutureWarning: 'camels_attributes' will be deprecated. Use 'static_attributes' in the future\n",
      "  warnings.warn(\"'camels_attributes' will be deprecated. Use 'static_attributes' in the future\",\n"
     ]
    },
    {
     "name": "stdout",
     "output_type": "stream",
     "text": [
      "# Evaluation:  54%|█████▍    | 360/669 [03:39<03:05,  1.66it/s]"
     ]
    },
    {
     "name": "stderr",
     "output_type": "stream",
     "text": [
      "/home/tommy/neuralhydrology/neuralhydrology/utils/config.py:597: FutureWarning: 'camels_attributes' will be deprecated. Use 'static_attributes' in the future\n",
      "  warnings.warn(\"'camels_attributes' will be deprecated. Use 'static_attributes' in the future\",\n"
     ]
    },
    {
     "name": "stdout",
     "output_type": "stream",
     "text": [
      "# Evaluation:  54%|█████▍    | 361/669 [03:40<03:05,  1.66it/s]"
     ]
    },
    {
     "name": "stderr",
     "output_type": "stream",
     "text": [
      "/home/tommy/neuralhydrology/neuralhydrology/utils/config.py:597: FutureWarning: 'camels_attributes' will be deprecated. Use 'static_attributes' in the future\n",
      "  warnings.warn(\"'camels_attributes' will be deprecated. Use 'static_attributes' in the future\",\n"
     ]
    },
    {
     "name": "stdout",
     "output_type": "stream",
     "text": [
      "# Evaluation:  54%|█████▍    | 362/669 [03:40<03:06,  1.65it/s]"
     ]
    },
    {
     "name": "stderr",
     "output_type": "stream",
     "text": [
      "/home/tommy/neuralhydrology/neuralhydrology/utils/config.py:597: FutureWarning: 'camels_attributes' will be deprecated. Use 'static_attributes' in the future\n",
      "  warnings.warn(\"'camels_attributes' will be deprecated. Use 'static_attributes' in the future\",\n"
     ]
    },
    {
     "name": "stdout",
     "output_type": "stream",
     "text": [
      "# Evaluation:  54%|█████▍    | 363/669 [03:41<03:05,  1.65it/s]"
     ]
    },
    {
     "name": "stderr",
     "output_type": "stream",
     "text": [
      "/home/tommy/neuralhydrology/neuralhydrology/utils/config.py:597: FutureWarning: 'camels_attributes' will be deprecated. Use 'static_attributes' in the future\n",
      "  warnings.warn(\"'camels_attributes' will be deprecated. Use 'static_attributes' in the future\",\n"
     ]
    },
    {
     "name": "stdout",
     "output_type": "stream",
     "text": [
      "# Evaluation:  54%|█████▍    | 364/669 [03:41<03:05,  1.65it/s]"
     ]
    },
    {
     "name": "stderr",
     "output_type": "stream",
     "text": [
      "/home/tommy/neuralhydrology/neuralhydrology/utils/config.py:597: FutureWarning: 'camels_attributes' will be deprecated. Use 'static_attributes' in the future\n",
      "  warnings.warn(\"'camels_attributes' will be deprecated. Use 'static_attributes' in the future\",\n"
     ]
    },
    {
     "name": "stdout",
     "output_type": "stream",
     "text": [
      "# Evaluation:  55%|█████▍    | 365/669 [03:42<03:16,  1.55it/s]"
     ]
    },
    {
     "name": "stderr",
     "output_type": "stream",
     "text": [
      "/home/tommy/neuralhydrology/neuralhydrology/utils/config.py:597: FutureWarning: 'camels_attributes' will be deprecated. Use 'static_attributes' in the future\n",
      "  warnings.warn(\"'camels_attributes' will be deprecated. Use 'static_attributes' in the future\",\n"
     ]
    },
    {
     "name": "stdout",
     "output_type": "stream",
     "text": [
      "# Evaluation:  55%|█████▍    | 366/669 [03:43<03:09,  1.60it/s]"
     ]
    },
    {
     "name": "stderr",
     "output_type": "stream",
     "text": [
      "/home/tommy/neuralhydrology/neuralhydrology/utils/config.py:597: FutureWarning: 'camels_attributes' will be deprecated. Use 'static_attributes' in the future\n",
      "  warnings.warn(\"'camels_attributes' will be deprecated. Use 'static_attributes' in the future\",\n"
     ]
    },
    {
     "name": "stdout",
     "output_type": "stream",
     "text": [
      "# Evaluation:  55%|█████▍    | 367/669 [03:43<03:06,  1.62it/s]"
     ]
    },
    {
     "name": "stderr",
     "output_type": "stream",
     "text": [
      "/home/tommy/neuralhydrology/neuralhydrology/utils/config.py:597: FutureWarning: 'camels_attributes' will be deprecated. Use 'static_attributes' in the future\n",
      "  warnings.warn(\"'camels_attributes' will be deprecated. Use 'static_attributes' in the future\",\n"
     ]
    },
    {
     "name": "stdout",
     "output_type": "stream",
     "text": [
      "# Evaluation:  55%|█████▌    | 368/669 [03:44<03:04,  1.63it/s]"
     ]
    },
    {
     "name": "stderr",
     "output_type": "stream",
     "text": [
      "/home/tommy/neuralhydrology/neuralhydrology/utils/config.py:597: FutureWarning: 'camels_attributes' will be deprecated. Use 'static_attributes' in the future\n",
      "  warnings.warn(\"'camels_attributes' will be deprecated. Use 'static_attributes' in the future\",\n"
     ]
    },
    {
     "name": "stdout",
     "output_type": "stream",
     "text": [
      "# Evaluation:  55%|█████▌    | 369/669 [03:45<03:03,  1.63it/s]"
     ]
    },
    {
     "name": "stderr",
     "output_type": "stream",
     "text": [
      "/home/tommy/neuralhydrology/neuralhydrology/utils/config.py:597: FutureWarning: 'camels_attributes' will be deprecated. Use 'static_attributes' in the future\n",
      "  warnings.warn(\"'camels_attributes' will be deprecated. Use 'static_attributes' in the future\",\n"
     ]
    },
    {
     "name": "stdout",
     "output_type": "stream",
     "text": [
      "# Evaluation:  55%|█████▌    | 370/669 [03:45<02:53,  1.72it/s]"
     ]
    },
    {
     "name": "stderr",
     "output_type": "stream",
     "text": [
      "/home/tommy/neuralhydrology/neuralhydrology/utils/config.py:597: FutureWarning: 'camels_attributes' will be deprecated. Use 'static_attributes' in the future\n",
      "  warnings.warn(\"'camels_attributes' will be deprecated. Use 'static_attributes' in the future\",\n"
     ]
    },
    {
     "name": "stdout",
     "output_type": "stream",
     "text": [
      "# Evaluation:  55%|█████▌    | 371/669 [03:46<02:49,  1.76it/s]"
     ]
    },
    {
     "name": "stderr",
     "output_type": "stream",
     "text": [
      "/home/tommy/neuralhydrology/neuralhydrology/utils/config.py:597: FutureWarning: 'camels_attributes' will be deprecated. Use 'static_attributes' in the future\n",
      "  warnings.warn(\"'camels_attributes' will be deprecated. Use 'static_attributes' in the future\",\n"
     ]
    },
    {
     "name": "stdout",
     "output_type": "stream",
     "text": [
      "# Evaluation:  56%|█████▌    | 372/669 [03:46<03:11,  1.55it/s]"
     ]
    },
    {
     "name": "stderr",
     "output_type": "stream",
     "text": [
      "/home/tommy/neuralhydrology/neuralhydrology/utils/config.py:597: FutureWarning: 'camels_attributes' will be deprecated. Use 'static_attributes' in the future\n",
      "  warnings.warn(\"'camels_attributes' will be deprecated. Use 'static_attributes' in the future\",\n"
     ]
    },
    {
     "name": "stdout",
     "output_type": "stream",
     "text": [
      "# Evaluation:  56%|█████▌    | 373/669 [03:47<03:29,  1.41it/s]"
     ]
    },
    {
     "name": "stderr",
     "output_type": "stream",
     "text": [
      "/home/tommy/neuralhydrology/neuralhydrology/utils/config.py:597: FutureWarning: 'camels_attributes' will be deprecated. Use 'static_attributes' in the future\n",
      "  warnings.warn(\"'camels_attributes' will be deprecated. Use 'static_attributes' in the future\",\n"
     ]
    },
    {
     "name": "stdout",
     "output_type": "stream",
     "text": [
      "# Evaluation:  56%|█████▌    | 374/669 [03:48<03:19,  1.48it/s]"
     ]
    },
    {
     "name": "stderr",
     "output_type": "stream",
     "text": [
      "/home/tommy/neuralhydrology/neuralhydrology/utils/config.py:597: FutureWarning: 'camels_attributes' will be deprecated. Use 'static_attributes' in the future\n",
      "  warnings.warn(\"'camels_attributes' will be deprecated. Use 'static_attributes' in the future\",\n"
     ]
    },
    {
     "name": "stdout",
     "output_type": "stream",
     "text": [
      "# Evaluation:  56%|█████▌    | 375/669 [03:48<03:12,  1.53it/s]"
     ]
    },
    {
     "name": "stderr",
     "output_type": "stream",
     "text": [
      "/home/tommy/neuralhydrology/neuralhydrology/utils/config.py:597: FutureWarning: 'camels_attributes' will be deprecated. Use 'static_attributes' in the future\n",
      "  warnings.warn(\"'camels_attributes' will be deprecated. Use 'static_attributes' in the future\",\n"
     ]
    },
    {
     "name": "stdout",
     "output_type": "stream",
     "text": [
      "# Evaluation:  56%|█████▌    | 376/669 [03:49<03:05,  1.58it/s]"
     ]
    },
    {
     "name": "stderr",
     "output_type": "stream",
     "text": [
      "/home/tommy/neuralhydrology/neuralhydrology/utils/config.py:597: FutureWarning: 'camels_attributes' will be deprecated. Use 'static_attributes' in the future\n",
      "  warnings.warn(\"'camels_attributes' will be deprecated. Use 'static_attributes' in the future\",\n"
     ]
    },
    {
     "name": "stdout",
     "output_type": "stream",
     "text": [
      "# Evaluation:  56%|█████▋    | 377/669 [03:50<02:54,  1.68it/s]"
     ]
    },
    {
     "name": "stderr",
     "output_type": "stream",
     "text": [
      "/home/tommy/neuralhydrology/neuralhydrology/utils/config.py:597: FutureWarning: 'camels_attributes' will be deprecated. Use 'static_attributes' in the future\n",
      "  warnings.warn(\"'camels_attributes' will be deprecated. Use 'static_attributes' in the future\",\n"
     ]
    },
    {
     "name": "stdout",
     "output_type": "stream",
     "text": [
      "# Evaluation:  57%|█████▋    | 378/669 [03:50<02:54,  1.67it/s]"
     ]
    },
    {
     "name": "stderr",
     "output_type": "stream",
     "text": [
      "/home/tommy/neuralhydrology/neuralhydrology/utils/config.py:597: FutureWarning: 'camels_attributes' will be deprecated. Use 'static_attributes' in the future\n",
      "  warnings.warn(\"'camels_attributes' will be deprecated. Use 'static_attributes' in the future\",\n"
     ]
    },
    {
     "name": "stdout",
     "output_type": "stream",
     "text": [
      "# Evaluation:  57%|█████▋    | 379/669 [03:51<02:53,  1.67it/s]"
     ]
    },
    {
     "name": "stderr",
     "output_type": "stream",
     "text": [
      "/home/tommy/neuralhydrology/neuralhydrology/utils/config.py:597: FutureWarning: 'camels_attributes' will be deprecated. Use 'static_attributes' in the future\n",
      "  warnings.warn(\"'camels_attributes' will be deprecated. Use 'static_attributes' in the future\",\n"
     ]
    },
    {
     "name": "stdout",
     "output_type": "stream",
     "text": [
      "# Evaluation:  57%|█████▋    | 380/669 [03:51<02:54,  1.66it/s]"
     ]
    },
    {
     "name": "stderr",
     "output_type": "stream",
     "text": [
      "/home/tommy/neuralhydrology/neuralhydrology/utils/config.py:597: FutureWarning: 'camels_attributes' will be deprecated. Use 'static_attributes' in the future\n",
      "  warnings.warn(\"'camels_attributes' will be deprecated. Use 'static_attributes' in the future\",\n"
     ]
    },
    {
     "name": "stdout",
     "output_type": "stream",
     "text": [
      "# Evaluation:  57%|█████▋    | 381/669 [03:52<02:54,  1.65it/s]"
     ]
    },
    {
     "name": "stderr",
     "output_type": "stream",
     "text": [
      "/home/tommy/neuralhydrology/neuralhydrology/utils/config.py:597: FutureWarning: 'camels_attributes' will be deprecated. Use 'static_attributes' in the future\n",
      "  warnings.warn(\"'camels_attributes' will be deprecated. Use 'static_attributes' in the future\",\n"
     ]
    },
    {
     "name": "stdout",
     "output_type": "stream",
     "text": [
      "# Evaluation:  57%|█████▋    | 382/669 [03:53<02:55,  1.64it/s]"
     ]
    },
    {
     "name": "stderr",
     "output_type": "stream",
     "text": [
      "/home/tommy/neuralhydrology/neuralhydrology/utils/config.py:597: FutureWarning: 'camels_attributes' will be deprecated. Use 'static_attributes' in the future\n",
      "  warnings.warn(\"'camels_attributes' will be deprecated. Use 'static_attributes' in the future\",\n"
     ]
    },
    {
     "name": "stdout",
     "output_type": "stream",
     "text": [
      "# Evaluation:  57%|█████▋    | 383/669 [03:53<02:50,  1.67it/s]"
     ]
    },
    {
     "name": "stderr",
     "output_type": "stream",
     "text": [
      "/home/tommy/neuralhydrology/neuralhydrology/utils/config.py:597: FutureWarning: 'camels_attributes' will be deprecated. Use 'static_attributes' in the future\n",
      "  warnings.warn(\"'camels_attributes' will be deprecated. Use 'static_attributes' in the future\",\n"
     ]
    },
    {
     "name": "stdout",
     "output_type": "stream",
     "text": [
      "# Evaluation:  57%|█████▋    | 384/669 [03:54<02:45,  1.72it/s]"
     ]
    },
    {
     "name": "stderr",
     "output_type": "stream",
     "text": [
      "/home/tommy/neuralhydrology/neuralhydrology/utils/config.py:597: FutureWarning: 'camels_attributes' will be deprecated. Use 'static_attributes' in the future\n",
      "  warnings.warn(\"'camels_attributes' will be deprecated. Use 'static_attributes' in the future\",\n"
     ]
    },
    {
     "name": "stdout",
     "output_type": "stream",
     "text": [
      "# Evaluation:  58%|█████▊    | 385/669 [03:54<02:57,  1.60it/s]"
     ]
    },
    {
     "name": "stderr",
     "output_type": "stream",
     "text": [
      "/home/tommy/neuralhydrology/neuralhydrology/utils/config.py:597: FutureWarning: 'camels_attributes' will be deprecated. Use 'static_attributes' in the future\n",
      "  warnings.warn(\"'camels_attributes' will be deprecated. Use 'static_attributes' in the future\",\n"
     ]
    },
    {
     "name": "stdout",
     "output_type": "stream",
     "text": [
      "# Evaluation:  58%|█████▊    | 386/669 [03:55<02:56,  1.61it/s]"
     ]
    },
    {
     "name": "stderr",
     "output_type": "stream",
     "text": [
      "/home/tommy/neuralhydrology/neuralhydrology/utils/config.py:597: FutureWarning: 'camels_attributes' will be deprecated. Use 'static_attributes' in the future\n",
      "  warnings.warn(\"'camels_attributes' will be deprecated. Use 'static_attributes' in the future\",\n"
     ]
    },
    {
     "name": "stdout",
     "output_type": "stream",
     "text": [
      "# Evaluation:  58%|█████▊    | 387/669 [03:56<02:54,  1.62it/s]"
     ]
    },
    {
     "name": "stderr",
     "output_type": "stream",
     "text": [
      "/home/tommy/neuralhydrology/neuralhydrology/utils/config.py:597: FutureWarning: 'camels_attributes' will be deprecated. Use 'static_attributes' in the future\n",
      "  warnings.warn(\"'camels_attributes' will be deprecated. Use 'static_attributes' in the future\",\n"
     ]
    },
    {
     "name": "stdout",
     "output_type": "stream",
     "text": [
      "# Evaluation:  58%|█████▊    | 388/669 [03:56<02:53,  1.62it/s]"
     ]
    },
    {
     "name": "stderr",
     "output_type": "stream",
     "text": [
      "/home/tommy/neuralhydrology/neuralhydrology/utils/config.py:597: FutureWarning: 'camels_attributes' will be deprecated. Use 'static_attributes' in the future\n",
      "  warnings.warn(\"'camels_attributes' will be deprecated. Use 'static_attributes' in the future\",\n"
     ]
    },
    {
     "name": "stdout",
     "output_type": "stream",
     "text": [
      "# Evaluation:  58%|█████▊    | 389/669 [03:57<02:52,  1.63it/s]"
     ]
    },
    {
     "name": "stderr",
     "output_type": "stream",
     "text": [
      "/home/tommy/neuralhydrology/neuralhydrology/utils/config.py:597: FutureWarning: 'camels_attributes' will be deprecated. Use 'static_attributes' in the future\n",
      "  warnings.warn(\"'camels_attributes' will be deprecated. Use 'static_attributes' in the future\",\n"
     ]
    },
    {
     "name": "stdout",
     "output_type": "stream",
     "text": [
      "# Evaluation:  58%|█████▊    | 390/669 [03:58<02:51,  1.62it/s]"
     ]
    },
    {
     "name": "stderr",
     "output_type": "stream",
     "text": [
      "/home/tommy/neuralhydrology/neuralhydrology/utils/config.py:597: FutureWarning: 'camels_attributes' will be deprecated. Use 'static_attributes' in the future\n",
      "  warnings.warn(\"'camels_attributes' will be deprecated. Use 'static_attributes' in the future\",\n"
     ]
    },
    {
     "name": "stdout",
     "output_type": "stream",
     "text": [
      "# Evaluation:  58%|█████▊    | 391/669 [03:58<02:48,  1.65it/s]"
     ]
    },
    {
     "name": "stderr",
     "output_type": "stream",
     "text": [
      "/home/tommy/neuralhydrology/neuralhydrology/utils/config.py:597: FutureWarning: 'camels_attributes' will be deprecated. Use 'static_attributes' in the future\n",
      "  warnings.warn(\"'camels_attributes' will be deprecated. Use 'static_attributes' in the future\",\n"
     ]
    },
    {
     "name": "stdout",
     "output_type": "stream",
     "text": [
      "# Evaluation:  59%|█████▊    | 392/669 [03:59<02:42,  1.70it/s]"
     ]
    },
    {
     "name": "stderr",
     "output_type": "stream",
     "text": [
      "/home/tommy/neuralhydrology/neuralhydrology/utils/config.py:597: FutureWarning: 'camels_attributes' will be deprecated. Use 'static_attributes' in the future\n",
      "  warnings.warn(\"'camels_attributes' will be deprecated. Use 'static_attributes' in the future\",\n"
     ]
    },
    {
     "name": "stdout",
     "output_type": "stream",
     "text": [
      "# Evaluation:  59%|█████▊    | 393/669 [03:59<02:44,  1.68it/s]"
     ]
    },
    {
     "name": "stderr",
     "output_type": "stream",
     "text": [
      "/home/tommy/neuralhydrology/neuralhydrology/utils/config.py:597: FutureWarning: 'camels_attributes' will be deprecated. Use 'static_attributes' in the future\n",
      "  warnings.warn(\"'camels_attributes' will be deprecated. Use 'static_attributes' in the future\",\n"
     ]
    },
    {
     "name": "stdout",
     "output_type": "stream",
     "text": [
      "# Evaluation:  59%|█████▉    | 394/669 [04:00<02:41,  1.70it/s]"
     ]
    },
    {
     "name": "stderr",
     "output_type": "stream",
     "text": [
      "/home/tommy/neuralhydrology/neuralhydrology/utils/config.py:597: FutureWarning: 'camels_attributes' will be deprecated. Use 'static_attributes' in the future\n",
      "  warnings.warn(\"'camels_attributes' will be deprecated. Use 'static_attributes' in the future\",\n"
     ]
    },
    {
     "name": "stdout",
     "output_type": "stream",
     "text": [
      "# Evaluation:  59%|█████▉    | 395/669 [04:01<02:51,  1.60it/s]"
     ]
    },
    {
     "name": "stderr",
     "output_type": "stream",
     "text": [
      "/home/tommy/neuralhydrology/neuralhydrology/utils/config.py:597: FutureWarning: 'camels_attributes' will be deprecated. Use 'static_attributes' in the future\n",
      "  warnings.warn(\"'camels_attributes' will be deprecated. Use 'static_attributes' in the future\",\n"
     ]
    },
    {
     "name": "stdout",
     "output_type": "stream",
     "text": [
      "# Evaluation:  59%|█████▉    | 396/669 [04:01<02:49,  1.61it/s]"
     ]
    },
    {
     "name": "stderr",
     "output_type": "stream",
     "text": [
      "/home/tommy/neuralhydrology/neuralhydrology/utils/config.py:597: FutureWarning: 'camels_attributes' will be deprecated. Use 'static_attributes' in the future\n",
      "  warnings.warn(\"'camels_attributes' will be deprecated. Use 'static_attributes' in the future\",\n"
     ]
    },
    {
     "name": "stdout",
     "output_type": "stream",
     "text": [
      "# Evaluation:  59%|█████▉    | 397/669 [04:03<03:49,  1.19it/s]"
     ]
    },
    {
     "name": "stderr",
     "output_type": "stream",
     "text": [
      "/home/tommy/neuralhydrology/neuralhydrology/utils/config.py:597: FutureWarning: 'camels_attributes' will be deprecated. Use 'static_attributes' in the future\n",
      "  warnings.warn(\"'camels_attributes' will be deprecated. Use 'static_attributes' in the future\",\n"
     ]
    },
    {
     "name": "stdout",
     "output_type": "stream",
     "text": [
      "# Evaluation:  59%|█████▉    | 398/669 [04:03<03:28,  1.30it/s]"
     ]
    },
    {
     "name": "stderr",
     "output_type": "stream",
     "text": [
      "/home/tommy/neuralhydrology/neuralhydrology/utils/config.py:597: FutureWarning: 'camels_attributes' will be deprecated. Use 'static_attributes' in the future\n",
      "  warnings.warn(\"'camels_attributes' will be deprecated. Use 'static_attributes' in the future\",\n"
     ]
    },
    {
     "name": "stdout",
     "output_type": "stream",
     "text": [
      "# Evaluation:  60%|█████▉    | 399/669 [04:04<03:14,  1.39it/s]"
     ]
    },
    {
     "name": "stderr",
     "output_type": "stream",
     "text": [
      "/home/tommy/neuralhydrology/neuralhydrology/utils/config.py:597: FutureWarning: 'camels_attributes' will be deprecated. Use 'static_attributes' in the future\n",
      "  warnings.warn(\"'camels_attributes' will be deprecated. Use 'static_attributes' in the future\",\n"
     ]
    },
    {
     "name": "stdout",
     "output_type": "stream",
     "text": [
      "# Evaluation:  60%|█████▉    | 400/669 [04:04<03:03,  1.47it/s]"
     ]
    },
    {
     "name": "stderr",
     "output_type": "stream",
     "text": [
      "/home/tommy/neuralhydrology/neuralhydrology/utils/config.py:597: FutureWarning: 'camels_attributes' will be deprecated. Use 'static_attributes' in the future\n",
      "  warnings.warn(\"'camels_attributes' will be deprecated. Use 'static_attributes' in the future\",\n"
     ]
    },
    {
     "name": "stdout",
     "output_type": "stream",
     "text": [
      "# Evaluation:  60%|█████▉    | 401/669 [04:05<02:54,  1.54it/s]"
     ]
    },
    {
     "name": "stderr",
     "output_type": "stream",
     "text": [
      "/home/tommy/neuralhydrology/neuralhydrology/utils/config.py:597: FutureWarning: 'camels_attributes' will be deprecated. Use 'static_attributes' in the future\n",
      "  warnings.warn(\"'camels_attributes' will be deprecated. Use 'static_attributes' in the future\",\n"
     ]
    },
    {
     "name": "stdout",
     "output_type": "stream",
     "text": [
      "# Evaluation:  60%|██████    | 402/669 [04:06<02:50,  1.57it/s]"
     ]
    },
    {
     "name": "stderr",
     "output_type": "stream",
     "text": [
      "/home/tommy/neuralhydrology/neuralhydrology/utils/config.py:597: FutureWarning: 'camels_attributes' will be deprecated. Use 'static_attributes' in the future\n",
      "  warnings.warn(\"'camels_attributes' will be deprecated. Use 'static_attributes' in the future\",\n"
     ]
    },
    {
     "name": "stdout",
     "output_type": "stream",
     "text": [
      "# Evaluation:  60%|██████    | 403/669 [04:06<03:05,  1.43it/s]"
     ]
    },
    {
     "name": "stderr",
     "output_type": "stream",
     "text": [
      "/home/tommy/neuralhydrology/neuralhydrology/utils/config.py:597: FutureWarning: 'camels_attributes' will be deprecated. Use 'static_attributes' in the future\n",
      "  warnings.warn(\"'camels_attributes' will be deprecated. Use 'static_attributes' in the future\",\n"
     ]
    },
    {
     "name": "stdout",
     "output_type": "stream",
     "text": [
      "# Evaluation:  60%|██████    | 404/669 [04:07<02:51,  1.55it/s]"
     ]
    },
    {
     "name": "stderr",
     "output_type": "stream",
     "text": [
      "/home/tommy/neuralhydrology/neuralhydrology/utils/config.py:597: FutureWarning: 'camels_attributes' will be deprecated. Use 'static_attributes' in the future\n",
      "  warnings.warn(\"'camels_attributes' will be deprecated. Use 'static_attributes' in the future\",\n"
     ]
    },
    {
     "name": "stdout",
     "output_type": "stream",
     "text": [
      "# Evaluation:  61%|██████    | 405/669 [04:08<02:51,  1.54it/s]"
     ]
    },
    {
     "name": "stderr",
     "output_type": "stream",
     "text": [
      "/home/tommy/neuralhydrology/neuralhydrology/utils/config.py:597: FutureWarning: 'camels_attributes' will be deprecated. Use 'static_attributes' in the future\n",
      "  warnings.warn(\"'camels_attributes' will be deprecated. Use 'static_attributes' in the future\",\n"
     ]
    },
    {
     "name": "stdout",
     "output_type": "stream",
     "text": [
      "# Evaluation:  61%|██████    | 406/669 [04:08<02:41,  1.63it/s]"
     ]
    },
    {
     "name": "stderr",
     "output_type": "stream",
     "text": [
      "/home/tommy/neuralhydrology/neuralhydrology/utils/config.py:597: FutureWarning: 'camels_attributes' will be deprecated. Use 'static_attributes' in the future\n",
      "  warnings.warn(\"'camels_attributes' will be deprecated. Use 'static_attributes' in the future\",\n"
     ]
    },
    {
     "name": "stdout",
     "output_type": "stream",
     "text": [
      "# Evaluation:  61%|██████    | 407/669 [04:09<02:36,  1.67it/s]"
     ]
    },
    {
     "name": "stderr",
     "output_type": "stream",
     "text": [
      "/home/tommy/neuralhydrology/neuralhydrology/utils/config.py:597: FutureWarning: 'camels_attributes' will be deprecated. Use 'static_attributes' in the future\n",
      "  warnings.warn(\"'camels_attributes' will be deprecated. Use 'static_attributes' in the future\",\n"
     ]
    },
    {
     "name": "stdout",
     "output_type": "stream",
     "text": [
      "# Evaluation:  61%|██████    | 408/669 [04:09<02:37,  1.66it/s]"
     ]
    },
    {
     "name": "stderr",
     "output_type": "stream",
     "text": [
      "/home/tommy/neuralhydrology/neuralhydrology/utils/config.py:597: FutureWarning: 'camels_attributes' will be deprecated. Use 'static_attributes' in the future\n",
      "  warnings.warn(\"'camels_attributes' will be deprecated. Use 'static_attributes' in the future\",\n"
     ]
    },
    {
     "name": "stdout",
     "output_type": "stream",
     "text": [
      "# Evaluation:  61%|██████    | 409/669 [04:10<02:34,  1.69it/s]"
     ]
    },
    {
     "name": "stderr",
     "output_type": "stream",
     "text": [
      "/home/tommy/neuralhydrology/neuralhydrology/utils/config.py:597: FutureWarning: 'camels_attributes' will be deprecated. Use 'static_attributes' in the future\n",
      "  warnings.warn(\"'camels_attributes' will be deprecated. Use 'static_attributes' in the future\",\n"
     ]
    },
    {
     "name": "stdout",
     "output_type": "stream",
     "text": [
      "# Evaluation:  61%|██████▏   | 410/669 [04:10<02:34,  1.68it/s]"
     ]
    },
    {
     "name": "stderr",
     "output_type": "stream",
     "text": [
      "/home/tommy/neuralhydrology/neuralhydrology/utils/config.py:597: FutureWarning: 'camels_attributes' will be deprecated. Use 'static_attributes' in the future\n",
      "  warnings.warn(\"'camels_attributes' will be deprecated. Use 'static_attributes' in the future\",\n"
     ]
    },
    {
     "name": "stdout",
     "output_type": "stream",
     "text": [
      "# Evaluation:  61%|██████▏   | 411/669 [04:11<02:30,  1.71it/s]"
     ]
    },
    {
     "name": "stderr",
     "output_type": "stream",
     "text": [
      "/home/tommy/neuralhydrology/neuralhydrology/utils/config.py:597: FutureWarning: 'camels_attributes' will be deprecated. Use 'static_attributes' in the future\n",
      "  warnings.warn(\"'camels_attributes' will be deprecated. Use 'static_attributes' in the future\",\n"
     ]
    },
    {
     "name": "stdout",
     "output_type": "stream",
     "text": [
      "# Evaluation:  62%|██████▏   | 412/669 [04:12<02:30,  1.71it/s]"
     ]
    },
    {
     "name": "stderr",
     "output_type": "stream",
     "text": [
      "/home/tommy/neuralhydrology/neuralhydrology/utils/config.py:597: FutureWarning: 'camels_attributes' will be deprecated. Use 'static_attributes' in the future\n",
      "  warnings.warn(\"'camels_attributes' will be deprecated. Use 'static_attributes' in the future\",\n"
     ]
    },
    {
     "name": "stdout",
     "output_type": "stream",
     "text": [
      "# Evaluation:  62%|██████▏   | 413/669 [04:12<02:24,  1.77it/s]"
     ]
    },
    {
     "name": "stderr",
     "output_type": "stream",
     "text": [
      "/home/tommy/neuralhydrology/neuralhydrology/utils/config.py:597: FutureWarning: 'camels_attributes' will be deprecated. Use 'static_attributes' in the future\n",
      "  warnings.warn(\"'camels_attributes' will be deprecated. Use 'static_attributes' in the future\",\n"
     ]
    },
    {
     "name": "stdout",
     "output_type": "stream",
     "text": [
      "# Evaluation:  62%|██████▏   | 414/669 [04:13<02:27,  1.73it/s]"
     ]
    },
    {
     "name": "stderr",
     "output_type": "stream",
     "text": [
      "/home/tommy/neuralhydrology/neuralhydrology/utils/config.py:597: FutureWarning: 'camels_attributes' will be deprecated. Use 'static_attributes' in the future\n",
      "  warnings.warn(\"'camels_attributes' will be deprecated. Use 'static_attributes' in the future\",\n"
     ]
    },
    {
     "name": "stdout",
     "output_type": "stream",
     "text": [
      "# Evaluation:  62%|██████▏   | 415/669 [04:13<02:39,  1.59it/s]"
     ]
    },
    {
     "name": "stderr",
     "output_type": "stream",
     "text": [
      "/home/tommy/neuralhydrology/neuralhydrology/utils/config.py:597: FutureWarning: 'camels_attributes' will be deprecated. Use 'static_attributes' in the future\n",
      "  warnings.warn(\"'camels_attributes' will be deprecated. Use 'static_attributes' in the future\",\n"
     ]
    },
    {
     "name": "stdout",
     "output_type": "stream",
     "text": [
      "# Evaluation:  62%|██████▏   | 416/669 [04:14<02:37,  1.61it/s]"
     ]
    },
    {
     "name": "stderr",
     "output_type": "stream",
     "text": [
      "/home/tommy/neuralhydrology/neuralhydrology/utils/config.py:597: FutureWarning: 'camels_attributes' will be deprecated. Use 'static_attributes' in the future\n",
      "  warnings.warn(\"'camels_attributes' will be deprecated. Use 'static_attributes' in the future\",\n"
     ]
    },
    {
     "name": "stdout",
     "output_type": "stream",
     "text": [
      "# Evaluation:  62%|██████▏   | 417/669 [04:15<02:32,  1.65it/s]"
     ]
    },
    {
     "name": "stderr",
     "output_type": "stream",
     "text": [
      "/home/tommy/neuralhydrology/neuralhydrology/utils/config.py:597: FutureWarning: 'camels_attributes' will be deprecated. Use 'static_attributes' in the future\n",
      "  warnings.warn(\"'camels_attributes' will be deprecated. Use 'static_attributes' in the future\",\n"
     ]
    },
    {
     "name": "stdout",
     "output_type": "stream",
     "text": [
      "# Evaluation:  62%|██████▏   | 418/669 [04:15<02:29,  1.68it/s]"
     ]
    },
    {
     "name": "stderr",
     "output_type": "stream",
     "text": [
      "/home/tommy/neuralhydrology/neuralhydrology/utils/config.py:597: FutureWarning: 'camels_attributes' will be deprecated. Use 'static_attributes' in the future\n",
      "  warnings.warn(\"'camels_attributes' will be deprecated. Use 'static_attributes' in the future\",\n"
     ]
    },
    {
     "name": "stdout",
     "output_type": "stream",
     "text": [
      "# Evaluation:  63%|██████▎   | 419/669 [04:16<02:19,  1.79it/s]"
     ]
    },
    {
     "name": "stderr",
     "output_type": "stream",
     "text": [
      "/home/tommy/neuralhydrology/neuralhydrology/utils/config.py:597: FutureWarning: 'camels_attributes' will be deprecated. Use 'static_attributes' in the future\n",
      "  warnings.warn(\"'camels_attributes' will be deprecated. Use 'static_attributes' in the future\",\n"
     ]
    },
    {
     "name": "stdout",
     "output_type": "stream",
     "text": [
      "# Evaluation:  63%|██████▎   | 420/669 [04:16<02:18,  1.80it/s]"
     ]
    },
    {
     "name": "stderr",
     "output_type": "stream",
     "text": [
      "/home/tommy/neuralhydrology/neuralhydrology/utils/config.py:597: FutureWarning: 'camels_attributes' will be deprecated. Use 'static_attributes' in the future\n",
      "  warnings.warn(\"'camels_attributes' will be deprecated. Use 'static_attributes' in the future\",\n"
     ]
    },
    {
     "name": "stdout",
     "output_type": "stream",
     "text": [
      "# Evaluation:  63%|██████▎   | 421/669 [04:17<02:19,  1.78it/s]"
     ]
    },
    {
     "name": "stderr",
     "output_type": "stream",
     "text": [
      "/home/tommy/neuralhydrology/neuralhydrology/utils/config.py:597: FutureWarning: 'camels_attributes' will be deprecated. Use 'static_attributes' in the future\n",
      "  warnings.warn(\"'camels_attributes' will be deprecated. Use 'static_attributes' in the future\",\n"
     ]
    },
    {
     "name": "stdout",
     "output_type": "stream",
     "text": [
      "# Evaluation:  63%|██████▎   | 422/669 [04:17<02:22,  1.74it/s]"
     ]
    },
    {
     "name": "stderr",
     "output_type": "stream",
     "text": [
      "/home/tommy/neuralhydrology/neuralhydrology/utils/config.py:597: FutureWarning: 'camels_attributes' will be deprecated. Use 'static_attributes' in the future\n",
      "  warnings.warn(\"'camels_attributes' will be deprecated. Use 'static_attributes' in the future\",\n"
     ]
    },
    {
     "name": "stdout",
     "output_type": "stream",
     "text": [
      "# Evaluation:  63%|██████▎   | 423/669 [04:18<02:19,  1.76it/s]"
     ]
    },
    {
     "name": "stderr",
     "output_type": "stream",
     "text": [
      "/home/tommy/neuralhydrology/neuralhydrology/utils/config.py:597: FutureWarning: 'camels_attributes' will be deprecated. Use 'static_attributes' in the future\n",
      "  warnings.warn(\"'camels_attributes' will be deprecated. Use 'static_attributes' in the future\",\n"
     ]
    },
    {
     "name": "stdout",
     "output_type": "stream",
     "text": [
      "# Evaluation:  63%|██████▎   | 424/669 [04:18<02:10,  1.88it/s]"
     ]
    },
    {
     "name": "stderr",
     "output_type": "stream",
     "text": [
      "/home/tommy/neuralhydrology/neuralhydrology/utils/config.py:597: FutureWarning: 'camels_attributes' will be deprecated. Use 'static_attributes' in the future\n",
      "  warnings.warn(\"'camels_attributes' will be deprecated. Use 'static_attributes' in the future\",\n"
     ]
    },
    {
     "name": "stdout",
     "output_type": "stream",
     "text": [
      "# Evaluation:  64%|██████▎   | 425/669 [04:19<02:23,  1.71it/s]"
     ]
    },
    {
     "name": "stderr",
     "output_type": "stream",
     "text": [
      "/home/tommy/neuralhydrology/neuralhydrology/utils/config.py:597: FutureWarning: 'camels_attributes' will be deprecated. Use 'static_attributes' in the future\n",
      "  warnings.warn(\"'camels_attributes' will be deprecated. Use 'static_attributes' in the future\",\n"
     ]
    },
    {
     "name": "stdout",
     "output_type": "stream",
     "text": [
      "# Evaluation:  64%|██████▎   | 426/669 [04:20<02:20,  1.72it/s]"
     ]
    },
    {
     "name": "stderr",
     "output_type": "stream",
     "text": [
      "/home/tommy/neuralhydrology/neuralhydrology/utils/config.py:597: FutureWarning: 'camels_attributes' will be deprecated. Use 'static_attributes' in the future\n",
      "  warnings.warn(\"'camels_attributes' will be deprecated. Use 'static_attributes' in the future\",\n"
     ]
    },
    {
     "name": "stdout",
     "output_type": "stream",
     "text": [
      "# Evaluation:  64%|██████▍   | 427/669 [04:20<02:18,  1.75it/s]"
     ]
    },
    {
     "name": "stderr",
     "output_type": "stream",
     "text": [
      "/home/tommy/neuralhydrology/neuralhydrology/utils/config.py:597: FutureWarning: 'camels_attributes' will be deprecated. Use 'static_attributes' in the future\n",
      "  warnings.warn(\"'camels_attributes' will be deprecated. Use 'static_attributes' in the future\",\n"
     ]
    },
    {
     "name": "stdout",
     "output_type": "stream",
     "text": [
      "# Evaluation:  64%|██████▍   | 428/669 [04:21<02:17,  1.75it/s]"
     ]
    },
    {
     "name": "stderr",
     "output_type": "stream",
     "text": [
      "/home/tommy/neuralhydrology/neuralhydrology/utils/config.py:597: FutureWarning: 'camels_attributes' will be deprecated. Use 'static_attributes' in the future\n",
      "  warnings.warn(\"'camels_attributes' will be deprecated. Use 'static_attributes' in the future\",\n"
     ]
    },
    {
     "name": "stdout",
     "output_type": "stream",
     "text": [
      "# Evaluation:  64%|██████▍   | 429/669 [04:21<02:16,  1.75it/s]"
     ]
    },
    {
     "name": "stderr",
     "output_type": "stream",
     "text": [
      "/home/tommy/neuralhydrology/neuralhydrology/utils/config.py:597: FutureWarning: 'camels_attributes' will be deprecated. Use 'static_attributes' in the future\n",
      "  warnings.warn(\"'camels_attributes' will be deprecated. Use 'static_attributes' in the future\",\n"
     ]
    },
    {
     "name": "stdout",
     "output_type": "stream",
     "text": [
      "# Evaluation:  64%|██████▍   | 430/669 [04:22<02:18,  1.73it/s]"
     ]
    },
    {
     "name": "stderr",
     "output_type": "stream",
     "text": [
      "/home/tommy/neuralhydrology/neuralhydrology/utils/config.py:597: FutureWarning: 'camels_attributes' will be deprecated. Use 'static_attributes' in the future\n",
      "  warnings.warn(\"'camels_attributes' will be deprecated. Use 'static_attributes' in the future\",\n"
     ]
    },
    {
     "name": "stdout",
     "output_type": "stream",
     "text": [
      "# Evaluation:  64%|██████▍   | 431/669 [04:23<02:19,  1.70it/s]"
     ]
    },
    {
     "name": "stderr",
     "output_type": "stream",
     "text": [
      "/home/tommy/neuralhydrology/neuralhydrology/utils/config.py:597: FutureWarning: 'camels_attributes' will be deprecated. Use 'static_attributes' in the future\n",
      "  warnings.warn(\"'camels_attributes' will be deprecated. Use 'static_attributes' in the future\",\n"
     ]
    },
    {
     "name": "stdout",
     "output_type": "stream",
     "text": [
      "# Evaluation:  65%|██████▍   | 432/669 [04:23<02:19,  1.70it/s]"
     ]
    },
    {
     "name": "stderr",
     "output_type": "stream",
     "text": [
      "/home/tommy/neuralhydrology/neuralhydrology/utils/config.py:597: FutureWarning: 'camels_attributes' will be deprecated. Use 'static_attributes' in the future\n",
      "  warnings.warn(\"'camels_attributes' will be deprecated. Use 'static_attributes' in the future\",\n"
     ]
    },
    {
     "name": "stdout",
     "output_type": "stream",
     "text": [
      "# Evaluation:  65%|██████▍   | 433/669 [04:24<02:17,  1.72it/s]"
     ]
    },
    {
     "name": "stderr",
     "output_type": "stream",
     "text": [
      "/home/tommy/neuralhydrology/neuralhydrology/utils/config.py:597: FutureWarning: 'camels_attributes' will be deprecated. Use 'static_attributes' in the future\n",
      "  warnings.warn(\"'camels_attributes' will be deprecated. Use 'static_attributes' in the future\",\n"
     ]
    },
    {
     "name": "stdout",
     "output_type": "stream",
     "text": [
      "# Evaluation:  65%|██████▍   | 434/669 [04:24<02:18,  1.70it/s]"
     ]
    },
    {
     "name": "stderr",
     "output_type": "stream",
     "text": [
      "/home/tommy/neuralhydrology/neuralhydrology/utils/config.py:597: FutureWarning: 'camels_attributes' will be deprecated. Use 'static_attributes' in the future\n",
      "  warnings.warn(\"'camels_attributes' will be deprecated. Use 'static_attributes' in the future\",\n"
     ]
    },
    {
     "name": "stdout",
     "output_type": "stream",
     "text": [
      "# Evaluation:  65%|██████▌   | 435/669 [04:25<02:26,  1.60it/s]"
     ]
    },
    {
     "name": "stderr",
     "output_type": "stream",
     "text": [
      "/home/tommy/neuralhydrology/neuralhydrology/utils/config.py:597: FutureWarning: 'camels_attributes' will be deprecated. Use 'static_attributes' in the future\n",
      "  warnings.warn(\"'camels_attributes' will be deprecated. Use 'static_attributes' in the future\",\n"
     ]
    },
    {
     "name": "stdout",
     "output_type": "stream",
     "text": [
      "# Evaluation:  65%|██████▌   | 436/669 [04:26<02:22,  1.64it/s]"
     ]
    },
    {
     "name": "stderr",
     "output_type": "stream",
     "text": [
      "/home/tommy/neuralhydrology/neuralhydrology/utils/config.py:597: FutureWarning: 'camels_attributes' will be deprecated. Use 'static_attributes' in the future\n",
      "  warnings.warn(\"'camels_attributes' will be deprecated. Use 'static_attributes' in the future\",\n"
     ]
    },
    {
     "name": "stdout",
     "output_type": "stream",
     "text": [
      "# Evaluation:  65%|██████▌   | 437/669 [04:26<02:19,  1.66it/s]"
     ]
    },
    {
     "name": "stderr",
     "output_type": "stream",
     "text": [
      "/home/tommy/neuralhydrology/neuralhydrology/utils/config.py:597: FutureWarning: 'camels_attributes' will be deprecated. Use 'static_attributes' in the future\n",
      "  warnings.warn(\"'camels_attributes' will be deprecated. Use 'static_attributes' in the future\",\n"
     ]
    },
    {
     "name": "stdout",
     "output_type": "stream",
     "text": [
      "# Evaluation:  65%|██████▌   | 438/669 [04:27<02:12,  1.75it/s]"
     ]
    },
    {
     "name": "stderr",
     "output_type": "stream",
     "text": [
      "/home/tommy/neuralhydrology/neuralhydrology/utils/config.py:597: FutureWarning: 'camels_attributes' will be deprecated. Use 'static_attributes' in the future\n",
      "  warnings.warn(\"'camels_attributes' will be deprecated. Use 'static_attributes' in the future\",\n"
     ]
    },
    {
     "name": "stdout",
     "output_type": "stream",
     "text": [
      "# Evaluation:  66%|██████▌   | 439/669 [04:27<02:14,  1.71it/s]"
     ]
    },
    {
     "name": "stderr",
     "output_type": "stream",
     "text": [
      "/home/tommy/neuralhydrology/neuralhydrology/utils/config.py:597: FutureWarning: 'camels_attributes' will be deprecated. Use 'static_attributes' in the future\n",
      "  warnings.warn(\"'camels_attributes' will be deprecated. Use 'static_attributes' in the future\",\n"
     ]
    },
    {
     "name": "stdout",
     "output_type": "stream",
     "text": [
      "# Evaluation:  66%|██████▌   | 440/669 [04:28<02:15,  1.69it/s]"
     ]
    },
    {
     "name": "stderr",
     "output_type": "stream",
     "text": [
      "/home/tommy/neuralhydrology/neuralhydrology/utils/config.py:597: FutureWarning: 'camels_attributes' will be deprecated. Use 'static_attributes' in the future\n",
      "  warnings.warn(\"'camels_attributes' will be deprecated. Use 'static_attributes' in the future\",\n"
     ]
    },
    {
     "name": "stdout",
     "output_type": "stream",
     "text": [
      "# Evaluation:  66%|██████▌   | 441/669 [04:28<02:12,  1.72it/s]"
     ]
    },
    {
     "name": "stderr",
     "output_type": "stream",
     "text": [
      "/home/tommy/neuralhydrology/neuralhydrology/utils/config.py:597: FutureWarning: 'camels_attributes' will be deprecated. Use 'static_attributes' in the future\n",
      "  warnings.warn(\"'camels_attributes' will be deprecated. Use 'static_attributes' in the future\",\n"
     ]
    },
    {
     "name": "stdout",
     "output_type": "stream",
     "text": [
      "# Evaluation:  66%|██████▌   | 442/669 [04:29<02:13,  1.70it/s]"
     ]
    },
    {
     "name": "stderr",
     "output_type": "stream",
     "text": [
      "/home/tommy/neuralhydrology/neuralhydrology/utils/config.py:597: FutureWarning: 'camels_attributes' will be deprecated. Use 'static_attributes' in the future\n",
      "  warnings.warn(\"'camels_attributes' will be deprecated. Use 'static_attributes' in the future\",\n"
     ]
    },
    {
     "name": "stdout",
     "output_type": "stream",
     "text": [
      "# Evaluation:  66%|██████▌   | 443/669 [04:30<02:14,  1.68it/s]"
     ]
    },
    {
     "name": "stderr",
     "output_type": "stream",
     "text": [
      "/home/tommy/neuralhydrology/neuralhydrology/utils/config.py:597: FutureWarning: 'camels_attributes' will be deprecated. Use 'static_attributes' in the future\n",
      "  warnings.warn(\"'camels_attributes' will be deprecated. Use 'static_attributes' in the future\",\n"
     ]
    },
    {
     "name": "stdout",
     "output_type": "stream",
     "text": [
      "# Evaluation:  66%|██████▋   | 444/669 [04:30<02:15,  1.67it/s]"
     ]
    },
    {
     "name": "stderr",
     "output_type": "stream",
     "text": [
      "/home/tommy/neuralhydrology/neuralhydrology/utils/config.py:597: FutureWarning: 'camels_attributes' will be deprecated. Use 'static_attributes' in the future\n",
      "  warnings.warn(\"'camels_attributes' will be deprecated. Use 'static_attributes' in the future\",\n"
     ]
    },
    {
     "name": "stdout",
     "output_type": "stream",
     "text": [
      "# Evaluation:  67%|██████▋   | 445/669 [04:31<02:23,  1.56it/s]"
     ]
    },
    {
     "name": "stderr",
     "output_type": "stream",
     "text": [
      "/home/tommy/neuralhydrology/neuralhydrology/utils/config.py:597: FutureWarning: 'camels_attributes' will be deprecated. Use 'static_attributes' in the future\n",
      "  warnings.warn(\"'camels_attributes' will be deprecated. Use 'static_attributes' in the future\",\n"
     ]
    },
    {
     "name": "stdout",
     "output_type": "stream",
     "text": [
      "# Evaluation:  67%|██████▋   | 446/669 [04:32<02:19,  1.60it/s]"
     ]
    },
    {
     "name": "stderr",
     "output_type": "stream",
     "text": [
      "/home/tommy/neuralhydrology/neuralhydrology/utils/config.py:597: FutureWarning: 'camels_attributes' will be deprecated. Use 'static_attributes' in the future\n",
      "  warnings.warn(\"'camels_attributes' will be deprecated. Use 'static_attributes' in the future\",\n"
     ]
    },
    {
     "name": "stdout",
     "output_type": "stream",
     "text": [
      "# Evaluation:  67%|██████▋   | 447/669 [04:32<02:18,  1.61it/s]"
     ]
    },
    {
     "name": "stderr",
     "output_type": "stream",
     "text": [
      "/home/tommy/neuralhydrology/neuralhydrology/utils/config.py:597: FutureWarning: 'camels_attributes' will be deprecated. Use 'static_attributes' in the future\n",
      "  warnings.warn(\"'camels_attributes' will be deprecated. Use 'static_attributes' in the future\",\n"
     ]
    },
    {
     "name": "stdout",
     "output_type": "stream",
     "text": [
      "# Evaluation:  67%|██████▋   | 448/669 [04:33<02:14,  1.64it/s]"
     ]
    },
    {
     "name": "stderr",
     "output_type": "stream",
     "text": [
      "/home/tommy/neuralhydrology/neuralhydrology/utils/config.py:597: FutureWarning: 'camels_attributes' will be deprecated. Use 'static_attributes' in the future\n",
      "  warnings.warn(\"'camels_attributes' will be deprecated. Use 'static_attributes' in the future\",\n"
     ]
    },
    {
     "name": "stdout",
     "output_type": "stream",
     "text": [
      "# Evaluation:  67%|██████▋   | 449/669 [04:33<02:14,  1.64it/s]"
     ]
    },
    {
     "name": "stderr",
     "output_type": "stream",
     "text": [
      "/home/tommy/neuralhydrology/neuralhydrology/utils/config.py:597: FutureWarning: 'camels_attributes' will be deprecated. Use 'static_attributes' in the future\n",
      "  warnings.warn(\"'camels_attributes' will be deprecated. Use 'static_attributes' in the future\",\n"
     ]
    },
    {
     "name": "stdout",
     "output_type": "stream",
     "text": [
      "# Evaluation:  67%|██████▋   | 450/669 [04:34<02:13,  1.64it/s]"
     ]
    },
    {
     "name": "stderr",
     "output_type": "stream",
     "text": [
      "/home/tommy/neuralhydrology/neuralhydrology/utils/config.py:597: FutureWarning: 'camels_attributes' will be deprecated. Use 'static_attributes' in the future\n",
      "  warnings.warn(\"'camels_attributes' will be deprecated. Use 'static_attributes' in the future\",\n"
     ]
    },
    {
     "name": "stdout",
     "output_type": "stream",
     "text": [
      "# Evaluation:  67%|██████▋   | 451/669 [04:35<02:12,  1.64it/s]"
     ]
    },
    {
     "name": "stderr",
     "output_type": "stream",
     "text": [
      "/home/tommy/neuralhydrology/neuralhydrology/utils/config.py:597: FutureWarning: 'camels_attributes' will be deprecated. Use 'static_attributes' in the future\n",
      "  warnings.warn(\"'camels_attributes' will be deprecated. Use 'static_attributes' in the future\",\n"
     ]
    },
    {
     "name": "stdout",
     "output_type": "stream",
     "text": [
      "# Evaluation:  68%|██████▊   | 452/669 [04:35<02:12,  1.64it/s]"
     ]
    },
    {
     "name": "stderr",
     "output_type": "stream",
     "text": [
      "/home/tommy/neuralhydrology/neuralhydrology/utils/config.py:597: FutureWarning: 'camels_attributes' will be deprecated. Use 'static_attributes' in the future\n",
      "  warnings.warn(\"'camels_attributes' will be deprecated. Use 'static_attributes' in the future\",\n"
     ]
    },
    {
     "name": "stdout",
     "output_type": "stream",
     "text": [
      "# Evaluation:  68%|██████▊   | 453/669 [04:36<02:11,  1.64it/s]"
     ]
    },
    {
     "name": "stderr",
     "output_type": "stream",
     "text": [
      "/home/tommy/neuralhydrology/neuralhydrology/utils/config.py:597: FutureWarning: 'camels_attributes' will be deprecated. Use 'static_attributes' in the future\n",
      "  warnings.warn(\"'camels_attributes' will be deprecated. Use 'static_attributes' in the future\",\n"
     ]
    },
    {
     "name": "stdout",
     "output_type": "stream",
     "text": [
      "# Evaluation:  68%|██████▊   | 454/669 [04:36<02:10,  1.65it/s]"
     ]
    },
    {
     "name": "stderr",
     "output_type": "stream",
     "text": [
      "/home/tommy/neuralhydrology/neuralhydrology/utils/config.py:597: FutureWarning: 'camels_attributes' will be deprecated. Use 'static_attributes' in the future\n",
      "  warnings.warn(\"'camels_attributes' will be deprecated. Use 'static_attributes' in the future\",\n"
     ]
    },
    {
     "name": "stdout",
     "output_type": "stream",
     "text": [
      "# Evaluation:  68%|██████▊   | 455/669 [04:37<02:19,  1.54it/s]"
     ]
    },
    {
     "name": "stderr",
     "output_type": "stream",
     "text": [
      "/home/tommy/neuralhydrology/neuralhydrology/utils/config.py:597: FutureWarning: 'camels_attributes' will be deprecated. Use 'static_attributes' in the future\n",
      "  warnings.warn(\"'camels_attributes' will be deprecated. Use 'static_attributes' in the future\",\n"
     ]
    },
    {
     "name": "stdout",
     "output_type": "stream",
     "text": [
      "# Evaluation:  68%|██████▊   | 456/669 [04:38<02:15,  1.57it/s]"
     ]
    },
    {
     "name": "stderr",
     "output_type": "stream",
     "text": [
      "/home/tommy/neuralhydrology/neuralhydrology/utils/config.py:597: FutureWarning: 'camels_attributes' will be deprecated. Use 'static_attributes' in the future\n",
      "  warnings.warn(\"'camels_attributes' will be deprecated. Use 'static_attributes' in the future\",\n"
     ]
    },
    {
     "name": "stdout",
     "output_type": "stream",
     "text": [
      "# Evaluation:  68%|██████▊   | 457/669 [04:38<02:13,  1.59it/s]"
     ]
    },
    {
     "name": "stderr",
     "output_type": "stream",
     "text": [
      "/home/tommy/neuralhydrology/neuralhydrology/utils/config.py:597: FutureWarning: 'camels_attributes' will be deprecated. Use 'static_attributes' in the future\n",
      "  warnings.warn(\"'camels_attributes' will be deprecated. Use 'static_attributes' in the future\",\n"
     ]
    },
    {
     "name": "stdout",
     "output_type": "stream",
     "text": [
      "# Evaluation:  68%|██████▊   | 458/669 [04:39<02:10,  1.62it/s]"
     ]
    },
    {
     "name": "stderr",
     "output_type": "stream",
     "text": [
      "/home/tommy/neuralhydrology/neuralhydrology/utils/config.py:597: FutureWarning: 'camels_attributes' will be deprecated. Use 'static_attributes' in the future\n",
      "  warnings.warn(\"'camels_attributes' will be deprecated. Use 'static_attributes' in the future\",\n"
     ]
    },
    {
     "name": "stdout",
     "output_type": "stream",
     "text": [
      "# Evaluation:  69%|██████▊   | 459/669 [04:40<02:03,  1.71it/s]"
     ]
    },
    {
     "name": "stderr",
     "output_type": "stream",
     "text": [
      "/home/tommy/neuralhydrology/neuralhydrology/utils/config.py:597: FutureWarning: 'camels_attributes' will be deprecated. Use 'static_attributes' in the future\n",
      "  warnings.warn(\"'camels_attributes' will be deprecated. Use 'static_attributes' in the future\",\n"
     ]
    },
    {
     "name": "stdout",
     "output_type": "stream",
     "text": [
      "# Evaluation:  69%|██████▉   | 460/669 [04:40<02:04,  1.68it/s]"
     ]
    },
    {
     "name": "stderr",
     "output_type": "stream",
     "text": [
      "/home/tommy/neuralhydrology/neuralhydrology/utils/config.py:597: FutureWarning: 'camels_attributes' will be deprecated. Use 'static_attributes' in the future\n",
      "  warnings.warn(\"'camels_attributes' will be deprecated. Use 'static_attributes' in the future\",\n"
     ]
    },
    {
     "name": "stdout",
     "output_type": "stream",
     "text": [
      "# Evaluation:  69%|██████▉   | 461/669 [04:41<02:03,  1.68it/s]"
     ]
    },
    {
     "name": "stderr",
     "output_type": "stream",
     "text": [
      "/home/tommy/neuralhydrology/neuralhydrology/utils/config.py:597: FutureWarning: 'camels_attributes' will be deprecated. Use 'static_attributes' in the future\n",
      "  warnings.warn(\"'camels_attributes' will be deprecated. Use 'static_attributes' in the future\",\n"
     ]
    },
    {
     "name": "stdout",
     "output_type": "stream",
     "text": [
      "# Evaluation:  69%|██████▉   | 462/669 [04:41<02:01,  1.71it/s]"
     ]
    },
    {
     "name": "stderr",
     "output_type": "stream",
     "text": [
      "/home/tommy/neuralhydrology/neuralhydrology/utils/config.py:597: FutureWarning: 'camels_attributes' will be deprecated. Use 'static_attributes' in the future\n",
      "  warnings.warn(\"'camels_attributes' will be deprecated. Use 'static_attributes' in the future\",\n"
     ]
    },
    {
     "name": "stdout",
     "output_type": "stream",
     "text": [
      "# Evaluation:  69%|██████▉   | 463/669 [04:42<02:02,  1.68it/s]"
     ]
    },
    {
     "name": "stderr",
     "output_type": "stream",
     "text": [
      "/home/tommy/neuralhydrology/neuralhydrology/utils/config.py:597: FutureWarning: 'camels_attributes' will be deprecated. Use 'static_attributes' in the future\n",
      "  warnings.warn(\"'camels_attributes' will be deprecated. Use 'static_attributes' in the future\",\n"
     ]
    },
    {
     "name": "stdout",
     "output_type": "stream",
     "text": [
      "# Evaluation:  69%|██████▉   | 464/669 [04:43<02:02,  1.67it/s]"
     ]
    },
    {
     "name": "stderr",
     "output_type": "stream",
     "text": [
      "/home/tommy/neuralhydrology/neuralhydrology/utils/config.py:597: FutureWarning: 'camels_attributes' will be deprecated. Use 'static_attributes' in the future\n",
      "  warnings.warn(\"'camels_attributes' will be deprecated. Use 'static_attributes' in the future\",\n"
     ]
    },
    {
     "name": "stdout",
     "output_type": "stream",
     "text": [
      "# Evaluation:  70%|██████▉   | 465/669 [04:43<02:09,  1.57it/s]"
     ]
    },
    {
     "name": "stderr",
     "output_type": "stream",
     "text": [
      "/home/tommy/neuralhydrology/neuralhydrology/utils/config.py:597: FutureWarning: 'camels_attributes' will be deprecated. Use 'static_attributes' in the future\n",
      "  warnings.warn(\"'camels_attributes' will be deprecated. Use 'static_attributes' in the future\",\n"
     ]
    },
    {
     "name": "stdout",
     "output_type": "stream",
     "text": [
      "# Evaluation:  70%|██████▉   | 466/669 [04:44<02:06,  1.61it/s]"
     ]
    },
    {
     "name": "stderr",
     "output_type": "stream",
     "text": [
      "/home/tommy/neuralhydrology/neuralhydrology/utils/config.py:597: FutureWarning: 'camels_attributes' will be deprecated. Use 'static_attributes' in the future\n",
      "  warnings.warn(\"'camels_attributes' will be deprecated. Use 'static_attributes' in the future\",\n"
     ]
    },
    {
     "name": "stdout",
     "output_type": "stream",
     "text": [
      "# Evaluation:  70%|██████▉   | 467/669 [04:44<02:03,  1.63it/s]"
     ]
    },
    {
     "name": "stderr",
     "output_type": "stream",
     "text": [
      "/home/tommy/neuralhydrology/neuralhydrology/utils/config.py:597: FutureWarning: 'camels_attributes' will be deprecated. Use 'static_attributes' in the future\n",
      "  warnings.warn(\"'camels_attributes' will be deprecated. Use 'static_attributes' in the future\",\n"
     ]
    },
    {
     "name": "stdout",
     "output_type": "stream",
     "text": [
      "# Evaluation:  70%|██████▉   | 468/669 [04:45<02:01,  1.65it/s]"
     ]
    },
    {
     "name": "stderr",
     "output_type": "stream",
     "text": [
      "/home/tommy/neuralhydrology/neuralhydrology/utils/config.py:597: FutureWarning: 'camels_attributes' will be deprecated. Use 'static_attributes' in the future\n",
      "  warnings.warn(\"'camels_attributes' will be deprecated. Use 'static_attributes' in the future\",\n"
     ]
    },
    {
     "name": "stdout",
     "output_type": "stream",
     "text": [
      "# Evaluation:  70%|███████   | 469/669 [04:46<01:58,  1.69it/s]"
     ]
    },
    {
     "name": "stderr",
     "output_type": "stream",
     "text": [
      "/home/tommy/neuralhydrology/neuralhydrology/utils/config.py:597: FutureWarning: 'camels_attributes' will be deprecated. Use 'static_attributes' in the future\n",
      "  warnings.warn(\"'camels_attributes' will be deprecated. Use 'static_attributes' in the future\",\n"
     ]
    },
    {
     "name": "stdout",
     "output_type": "stream",
     "text": [
      "# Evaluation:  70%|███████   | 470/669 [04:46<01:56,  1.71it/s]"
     ]
    },
    {
     "name": "stderr",
     "output_type": "stream",
     "text": [
      "/home/tommy/neuralhydrology/neuralhydrology/utils/config.py:597: FutureWarning: 'camels_attributes' will be deprecated. Use 'static_attributes' in the future\n",
      "  warnings.warn(\"'camels_attributes' will be deprecated. Use 'static_attributes' in the future\",\n"
     ]
    },
    {
     "name": "stdout",
     "output_type": "stream",
     "text": [
      "# Evaluation:  70%|███████   | 471/669 [04:47<01:51,  1.77it/s]"
     ]
    },
    {
     "name": "stderr",
     "output_type": "stream",
     "text": [
      "/home/tommy/neuralhydrology/neuralhydrology/utils/config.py:597: FutureWarning: 'camels_attributes' will be deprecated. Use 'static_attributes' in the future\n",
      "  warnings.warn(\"'camels_attributes' will be deprecated. Use 'static_attributes' in the future\",\n"
     ]
    },
    {
     "name": "stdout",
     "output_type": "stream",
     "text": [
      "# Evaluation:  71%|███████   | 472/669 [04:47<01:50,  1.78it/s]"
     ]
    },
    {
     "name": "stderr",
     "output_type": "stream",
     "text": [
      "/home/tommy/neuralhydrology/neuralhydrology/utils/config.py:597: FutureWarning: 'camels_attributes' will be deprecated. Use 'static_attributes' in the future\n",
      "  warnings.warn(\"'camels_attributes' will be deprecated. Use 'static_attributes' in the future\",\n"
     ]
    },
    {
     "name": "stdout",
     "output_type": "stream",
     "text": [
      "# Evaluation:  71%|███████   | 473/669 [04:48<01:50,  1.77it/s]"
     ]
    },
    {
     "name": "stderr",
     "output_type": "stream",
     "text": [
      "/home/tommy/neuralhydrology/neuralhydrology/utils/config.py:597: FutureWarning: 'camels_attributes' will be deprecated. Use 'static_attributes' in the future\n",
      "  warnings.warn(\"'camels_attributes' will be deprecated. Use 'static_attributes' in the future\",\n"
     ]
    },
    {
     "name": "stdout",
     "output_type": "stream",
     "text": [
      "# Evaluation:  71%|███████   | 474/669 [04:48<01:49,  1.78it/s]"
     ]
    },
    {
     "name": "stderr",
     "output_type": "stream",
     "text": [
      "/home/tommy/neuralhydrology/neuralhydrology/utils/config.py:597: FutureWarning: 'camels_attributes' will be deprecated. Use 'static_attributes' in the future\n",
      "  warnings.warn(\"'camels_attributes' will be deprecated. Use 'static_attributes' in the future\",\n"
     ]
    },
    {
     "name": "stdout",
     "output_type": "stream",
     "text": [
      "# Evaluation:  71%|███████   | 475/669 [04:49<02:00,  1.61it/s]"
     ]
    },
    {
     "name": "stderr",
     "output_type": "stream",
     "text": [
      "/home/tommy/neuralhydrology/neuralhydrology/utils/config.py:597: FutureWarning: 'camels_attributes' will be deprecated. Use 'static_attributes' in the future\n",
      "  warnings.warn(\"'camels_attributes' will be deprecated. Use 'static_attributes' in the future\",\n"
     ]
    },
    {
     "name": "stdout",
     "output_type": "stream",
     "text": [
      "# Evaluation:  71%|███████   | 476/669 [04:50<01:59,  1.61it/s]"
     ]
    },
    {
     "name": "stderr",
     "output_type": "stream",
     "text": [
      "/home/tommy/neuralhydrology/neuralhydrology/utils/config.py:597: FutureWarning: 'camels_attributes' will be deprecated. Use 'static_attributes' in the future\n",
      "  warnings.warn(\"'camels_attributes' will be deprecated. Use 'static_attributes' in the future\",\n"
     ]
    },
    {
     "name": "stdout",
     "output_type": "stream",
     "text": [
      "# Evaluation:  71%|███████▏  | 477/669 [04:50<01:56,  1.65it/s]"
     ]
    },
    {
     "name": "stderr",
     "output_type": "stream",
     "text": [
      "/home/tommy/neuralhydrology/neuralhydrology/utils/config.py:597: FutureWarning: 'camels_attributes' will be deprecated. Use 'static_attributes' in the future\n",
      "  warnings.warn(\"'camels_attributes' will be deprecated. Use 'static_attributes' in the future\",\n"
     ]
    },
    {
     "name": "stdout",
     "output_type": "stream",
     "text": [
      "# Evaluation:  71%|███████▏  | 478/669 [04:51<01:55,  1.65it/s]"
     ]
    },
    {
     "name": "stderr",
     "output_type": "stream",
     "text": [
      "/home/tommy/neuralhydrology/neuralhydrology/utils/config.py:597: FutureWarning: 'camels_attributes' will be deprecated. Use 'static_attributes' in the future\n",
      "  warnings.warn(\"'camels_attributes' will be deprecated. Use 'static_attributes' in the future\",\n"
     ]
    },
    {
     "name": "stdout",
     "output_type": "stream",
     "text": [
      "# Evaluation:  72%|███████▏  | 479/669 [04:51<01:53,  1.68it/s]"
     ]
    },
    {
     "name": "stderr",
     "output_type": "stream",
     "text": [
      "/home/tommy/neuralhydrology/neuralhydrology/utils/config.py:597: FutureWarning: 'camels_attributes' will be deprecated. Use 'static_attributes' in the future\n",
      "  warnings.warn(\"'camels_attributes' will be deprecated. Use 'static_attributes' in the future\",\n"
     ]
    },
    {
     "name": "stdout",
     "output_type": "stream",
     "text": [
      "# Evaluation:  72%|███████▏  | 480/669 [04:52<01:47,  1.76it/s]"
     ]
    },
    {
     "name": "stderr",
     "output_type": "stream",
     "text": [
      "/home/tommy/neuralhydrology/neuralhydrology/utils/config.py:597: FutureWarning: 'camels_attributes' will be deprecated. Use 'static_attributes' in the future\n",
      "  warnings.warn(\"'camels_attributes' will be deprecated. Use 'static_attributes' in the future\",\n"
     ]
    },
    {
     "name": "stdout",
     "output_type": "stream",
     "text": [
      "# Evaluation:  72%|███████▏  | 481/669 [04:53<01:47,  1.76it/s]"
     ]
    },
    {
     "name": "stderr",
     "output_type": "stream",
     "text": [
      "/home/tommy/neuralhydrology/neuralhydrology/utils/config.py:597: FutureWarning: 'camels_attributes' will be deprecated. Use 'static_attributes' in the future\n",
      "  warnings.warn(\"'camels_attributes' will be deprecated. Use 'static_attributes' in the future\",\n"
     ]
    },
    {
     "name": "stdout",
     "output_type": "stream",
     "text": [
      "# Evaluation:  72%|███████▏  | 482/669 [04:53<01:47,  1.74it/s]"
     ]
    },
    {
     "name": "stderr",
     "output_type": "stream",
     "text": [
      "/home/tommy/neuralhydrology/neuralhydrology/utils/config.py:597: FutureWarning: 'camels_attributes' will be deprecated. Use 'static_attributes' in the future\n",
      "  warnings.warn(\"'camels_attributes' will be deprecated. Use 'static_attributes' in the future\",\n"
     ]
    },
    {
     "name": "stdout",
     "output_type": "stream",
     "text": [
      "# Evaluation:  72%|███████▏  | 483/669 [04:54<01:47,  1.73it/s]"
     ]
    },
    {
     "name": "stderr",
     "output_type": "stream",
     "text": [
      "/home/tommy/neuralhydrology/neuralhydrology/utils/config.py:597: FutureWarning: 'camels_attributes' will be deprecated. Use 'static_attributes' in the future\n",
      "  warnings.warn(\"'camels_attributes' will be deprecated. Use 'static_attributes' in the future\",\n"
     ]
    },
    {
     "name": "stdout",
     "output_type": "stream",
     "text": [
      "# Evaluation:  72%|███████▏  | 484/669 [04:54<01:42,  1.81it/s]"
     ]
    },
    {
     "name": "stderr",
     "output_type": "stream",
     "text": [
      "/home/tommy/neuralhydrology/neuralhydrology/utils/config.py:597: FutureWarning: 'camels_attributes' will be deprecated. Use 'static_attributes' in the future\n",
      "  warnings.warn(\"'camels_attributes' will be deprecated. Use 'static_attributes' in the future\",\n"
     ]
    },
    {
     "name": "stdout",
     "output_type": "stream",
     "text": [
      "# Evaluation:  72%|███████▏  | 485/669 [04:55<01:50,  1.66it/s]"
     ]
    },
    {
     "name": "stderr",
     "output_type": "stream",
     "text": [
      "/home/tommy/neuralhydrology/neuralhydrology/utils/config.py:597: FutureWarning: 'camels_attributes' will be deprecated. Use 'static_attributes' in the future\n",
      "  warnings.warn(\"'camels_attributes' will be deprecated. Use 'static_attributes' in the future\",\n"
     ]
    },
    {
     "name": "stdout",
     "output_type": "stream",
     "text": [
      "# Evaluation:  73%|███████▎  | 486/669 [04:55<01:45,  1.73it/s]"
     ]
    },
    {
     "name": "stderr",
     "output_type": "stream",
     "text": [
      "/home/tommy/neuralhydrology/neuralhydrology/utils/config.py:597: FutureWarning: 'camels_attributes' will be deprecated. Use 'static_attributes' in the future\n",
      "  warnings.warn(\"'camels_attributes' will be deprecated. Use 'static_attributes' in the future\",\n"
     ]
    },
    {
     "name": "stdout",
     "output_type": "stream",
     "text": [
      "# Evaluation:  73%|███████▎  | 487/669 [04:56<01:46,  1.71it/s]"
     ]
    },
    {
     "name": "stderr",
     "output_type": "stream",
     "text": [
      "/home/tommy/neuralhydrology/neuralhydrology/utils/config.py:597: FutureWarning: 'camels_attributes' will be deprecated. Use 'static_attributes' in the future\n",
      "  warnings.warn(\"'camels_attributes' will be deprecated. Use 'static_attributes' in the future\",\n"
     ]
    },
    {
     "name": "stdout",
     "output_type": "stream",
     "text": [
      "# Evaluation:  73%|███████▎  | 488/669 [04:57<01:47,  1.69it/s]"
     ]
    },
    {
     "name": "stderr",
     "output_type": "stream",
     "text": [
      "/home/tommy/neuralhydrology/neuralhydrology/utils/config.py:597: FutureWarning: 'camels_attributes' will be deprecated. Use 'static_attributes' in the future\n",
      "  warnings.warn(\"'camels_attributes' will be deprecated. Use 'static_attributes' in the future\",\n"
     ]
    },
    {
     "name": "stdout",
     "output_type": "stream",
     "text": [
      "# Evaluation:  73%|███████▎  | 489/669 [04:57<01:44,  1.72it/s]"
     ]
    },
    {
     "name": "stderr",
     "output_type": "stream",
     "text": [
      "/home/tommy/neuralhydrology/neuralhydrology/utils/config.py:597: FutureWarning: 'camels_attributes' will be deprecated. Use 'static_attributes' in the future\n",
      "  warnings.warn(\"'camels_attributes' will be deprecated. Use 'static_attributes' in the future\",\n"
     ]
    },
    {
     "name": "stdout",
     "output_type": "stream",
     "text": [
      "# Evaluation:  73%|███████▎  | 490/669 [04:58<01:43,  1.73it/s]"
     ]
    },
    {
     "name": "stderr",
     "output_type": "stream",
     "text": [
      "/home/tommy/neuralhydrology/neuralhydrology/utils/config.py:597: FutureWarning: 'camels_attributes' will be deprecated. Use 'static_attributes' in the future\n",
      "  warnings.warn(\"'camels_attributes' will be deprecated. Use 'static_attributes' in the future\",\n"
     ]
    },
    {
     "name": "stdout",
     "output_type": "stream",
     "text": [
      "# Evaluation:  73%|███████▎  | 491/669 [04:58<01:41,  1.76it/s]"
     ]
    },
    {
     "name": "stderr",
     "output_type": "stream",
     "text": [
      "/home/tommy/neuralhydrology/neuralhydrology/utils/config.py:597: FutureWarning: 'camels_attributes' will be deprecated. Use 'static_attributes' in the future\n",
      "  warnings.warn(\"'camels_attributes' will be deprecated. Use 'static_attributes' in the future\",\n"
     ]
    },
    {
     "name": "stdout",
     "output_type": "stream",
     "text": [
      "# Evaluation:  74%|███████▎  | 492/669 [04:59<01:42,  1.72it/s]"
     ]
    },
    {
     "name": "stderr",
     "output_type": "stream",
     "text": [
      "/home/tommy/neuralhydrology/neuralhydrology/utils/config.py:597: FutureWarning: 'camels_attributes' will be deprecated. Use 'static_attributes' in the future\n",
      "  warnings.warn(\"'camels_attributes' will be deprecated. Use 'static_attributes' in the future\",\n"
     ]
    },
    {
     "name": "stdout",
     "output_type": "stream",
     "text": [
      "# Evaluation:  74%|███████▎  | 493/669 [05:00<01:43,  1.70it/s]"
     ]
    },
    {
     "name": "stderr",
     "output_type": "stream",
     "text": [
      "/home/tommy/neuralhydrology/neuralhydrology/utils/config.py:597: FutureWarning: 'camels_attributes' will be deprecated. Use 'static_attributes' in the future\n",
      "  warnings.warn(\"'camels_attributes' will be deprecated. Use 'static_attributes' in the future\",\n"
     ]
    },
    {
     "name": "stdout",
     "output_type": "stream",
     "text": [
      "# Evaluation:  74%|███████▍  | 494/669 [05:00<01:42,  1.71it/s]"
     ]
    },
    {
     "name": "stderr",
     "output_type": "stream",
     "text": [
      "/home/tommy/neuralhydrology/neuralhydrology/utils/config.py:597: FutureWarning: 'camels_attributes' will be deprecated. Use 'static_attributes' in the future\n",
      "  warnings.warn(\"'camels_attributes' will be deprecated. Use 'static_attributes' in the future\",\n"
     ]
    },
    {
     "name": "stdout",
     "output_type": "stream",
     "text": [
      "# Evaluation:  74%|███████▍  | 495/669 [05:01<01:48,  1.60it/s]"
     ]
    },
    {
     "name": "stderr",
     "output_type": "stream",
     "text": [
      "/home/tommy/neuralhydrology/neuralhydrology/utils/config.py:597: FutureWarning: 'camels_attributes' will be deprecated. Use 'static_attributes' in the future\n",
      "  warnings.warn(\"'camels_attributes' will be deprecated. Use 'static_attributes' in the future\",\n"
     ]
    },
    {
     "name": "stdout",
     "output_type": "stream",
     "text": [
      "# Evaluation:  74%|███████▍  | 496/669 [05:01<01:44,  1.65it/s]"
     ]
    },
    {
     "name": "stderr",
     "output_type": "stream",
     "text": [
      "/home/tommy/neuralhydrology/neuralhydrology/utils/config.py:597: FutureWarning: 'camels_attributes' will be deprecated. Use 'static_attributes' in the future\n",
      "  warnings.warn(\"'camels_attributes' will be deprecated. Use 'static_attributes' in the future\",\n"
     ]
    },
    {
     "name": "stdout",
     "output_type": "stream",
     "text": [
      "# Evaluation:  74%|███████▍  | 497/669 [05:02<01:41,  1.69it/s]"
     ]
    },
    {
     "name": "stderr",
     "output_type": "stream",
     "text": [
      "/home/tommy/neuralhydrology/neuralhydrology/utils/config.py:597: FutureWarning: 'camels_attributes' will be deprecated. Use 'static_attributes' in the future\n",
      "  warnings.warn(\"'camels_attributes' will be deprecated. Use 'static_attributes' in the future\",\n"
     ]
    },
    {
     "name": "stdout",
     "output_type": "stream",
     "text": [
      "# Evaluation:  74%|███████▍  | 498/669 [05:03<01:42,  1.67it/s]"
     ]
    },
    {
     "name": "stderr",
     "output_type": "stream",
     "text": [
      "/home/tommy/neuralhydrology/neuralhydrology/utils/config.py:597: FutureWarning: 'camels_attributes' will be deprecated. Use 'static_attributes' in the future\n",
      "  warnings.warn(\"'camels_attributes' will be deprecated. Use 'static_attributes' in the future\",\n"
     ]
    },
    {
     "name": "stdout",
     "output_type": "stream",
     "text": [
      "# Evaluation:  75%|███████▍  | 499/669 [05:03<01:42,  1.66it/s]"
     ]
    },
    {
     "name": "stderr",
     "output_type": "stream",
     "text": [
      "/home/tommy/neuralhydrology/neuralhydrology/utils/config.py:597: FutureWarning: 'camels_attributes' will be deprecated. Use 'static_attributes' in the future\n",
      "  warnings.warn(\"'camels_attributes' will be deprecated. Use 'static_attributes' in the future\",\n"
     ]
    },
    {
     "name": "stdout",
     "output_type": "stream",
     "text": [
      "# Evaluation:  75%|███████▍  | 500/669 [05:04<01:42,  1.66it/s]"
     ]
    },
    {
     "name": "stderr",
     "output_type": "stream",
     "text": [
      "/home/tommy/neuralhydrology/neuralhydrology/utils/config.py:597: FutureWarning: 'camels_attributes' will be deprecated. Use 'static_attributes' in the future\n",
      "  warnings.warn(\"'camels_attributes' will be deprecated. Use 'static_attributes' in the future\",\n"
     ]
    },
    {
     "name": "stdout",
     "output_type": "stream",
     "text": [
      "# Evaluation:  75%|███████▍  | 501/669 [05:04<01:41,  1.66it/s]"
     ]
    },
    {
     "name": "stderr",
     "output_type": "stream",
     "text": [
      "/home/tommy/neuralhydrology/neuralhydrology/utils/config.py:597: FutureWarning: 'camels_attributes' will be deprecated. Use 'static_attributes' in the future\n",
      "  warnings.warn(\"'camels_attributes' will be deprecated. Use 'static_attributes' in the future\",\n"
     ]
    },
    {
     "name": "stdout",
     "output_type": "stream",
     "text": [
      "# Evaluation:  75%|███████▌  | 502/669 [05:05<01:40,  1.66it/s]"
     ]
    },
    {
     "name": "stderr",
     "output_type": "stream",
     "text": [
      "/home/tommy/neuralhydrology/neuralhydrology/utils/config.py:597: FutureWarning: 'camels_attributes' will be deprecated. Use 'static_attributes' in the future\n",
      "  warnings.warn(\"'camels_attributes' will be deprecated. Use 'static_attributes' in the future\",\n"
     ]
    },
    {
     "name": "stdout",
     "output_type": "stream",
     "text": [
      "# Evaluation:  75%|███████▌  | 503/669 [05:06<01:37,  1.70it/s]"
     ]
    },
    {
     "name": "stderr",
     "output_type": "stream",
     "text": [
      "/home/tommy/neuralhydrology/neuralhydrology/utils/config.py:597: FutureWarning: 'camels_attributes' will be deprecated. Use 'static_attributes' in the future\n",
      "  warnings.warn(\"'camels_attributes' will be deprecated. Use 'static_attributes' in the future\",\n"
     ]
    },
    {
     "name": "stdout",
     "output_type": "stream",
     "text": [
      "# Evaluation:  75%|███████▌  | 504/669 [05:06<01:34,  1.74it/s]"
     ]
    },
    {
     "name": "stderr",
     "output_type": "stream",
     "text": [
      "/home/tommy/neuralhydrology/neuralhydrology/utils/config.py:597: FutureWarning: 'camels_attributes' will be deprecated. Use 'static_attributes' in the future\n",
      "  warnings.warn(\"'camels_attributes' will be deprecated. Use 'static_attributes' in the future\",\n"
     ]
    },
    {
     "name": "stdout",
     "output_type": "stream",
     "text": [
      "# Evaluation:  75%|███████▌  | 505/669 [05:07<01:39,  1.65it/s]"
     ]
    },
    {
     "name": "stderr",
     "output_type": "stream",
     "text": [
      "/home/tommy/neuralhydrology/neuralhydrology/utils/config.py:597: FutureWarning: 'camels_attributes' will be deprecated. Use 'static_attributes' in the future\n",
      "  warnings.warn(\"'camels_attributes' will be deprecated. Use 'static_attributes' in the future\",\n"
     ]
    },
    {
     "name": "stdout",
     "output_type": "stream",
     "text": [
      "# Evaluation:  76%|███████▌  | 506/669 [05:07<01:39,  1.64it/s]"
     ]
    },
    {
     "name": "stderr",
     "output_type": "stream",
     "text": [
      "/home/tommy/neuralhydrology/neuralhydrology/utils/config.py:597: FutureWarning: 'camels_attributes' will be deprecated. Use 'static_attributes' in the future\n",
      "  warnings.warn(\"'camels_attributes' will be deprecated. Use 'static_attributes' in the future\",\n"
     ]
    },
    {
     "name": "stdout",
     "output_type": "stream",
     "text": [
      "# Evaluation:  76%|███████▌  | 507/669 [05:08<01:35,  1.69it/s]"
     ]
    },
    {
     "name": "stderr",
     "output_type": "stream",
     "text": [
      "/home/tommy/neuralhydrology/neuralhydrology/utils/config.py:597: FutureWarning: 'camels_attributes' will be deprecated. Use 'static_attributes' in the future\n",
      "  warnings.warn(\"'camels_attributes' will be deprecated. Use 'static_attributes' in the future\",\n"
     ]
    },
    {
     "name": "stdout",
     "output_type": "stream",
     "text": [
      "# Evaluation:  76%|███████▌  | 508/669 [05:09<01:35,  1.69it/s]"
     ]
    },
    {
     "name": "stderr",
     "output_type": "stream",
     "text": [
      "/home/tommy/neuralhydrology/neuralhydrology/utils/config.py:597: FutureWarning: 'camels_attributes' will be deprecated. Use 'static_attributes' in the future\n",
      "  warnings.warn(\"'camels_attributes' will be deprecated. Use 'static_attributes' in the future\",\n"
     ]
    },
    {
     "name": "stdout",
     "output_type": "stream",
     "text": [
      "# Evaluation:  76%|███████▌  | 509/669 [05:09<01:35,  1.67it/s]"
     ]
    },
    {
     "name": "stderr",
     "output_type": "stream",
     "text": [
      "/home/tommy/neuralhydrology/neuralhydrology/utils/config.py:597: FutureWarning: 'camels_attributes' will be deprecated. Use 'static_attributes' in the future\n",
      "  warnings.warn(\"'camels_attributes' will be deprecated. Use 'static_attributes' in the future\",\n"
     ]
    },
    {
     "name": "stdout",
     "output_type": "stream",
     "text": [
      "# Evaluation:  76%|███████▌  | 510/669 [05:10<01:35,  1.66it/s]"
     ]
    },
    {
     "name": "stderr",
     "output_type": "stream",
     "text": [
      "/home/tommy/neuralhydrology/neuralhydrology/utils/config.py:597: FutureWarning: 'camels_attributes' will be deprecated. Use 'static_attributes' in the future\n",
      "  warnings.warn(\"'camels_attributes' will be deprecated. Use 'static_attributes' in the future\",\n"
     ]
    },
    {
     "name": "stdout",
     "output_type": "stream",
     "text": [
      "# Evaluation:  76%|███████▋  | 511/669 [05:10<01:35,  1.65it/s]"
     ]
    },
    {
     "name": "stderr",
     "output_type": "stream",
     "text": [
      "/home/tommy/neuralhydrology/neuralhydrology/utils/config.py:597: FutureWarning: 'camels_attributes' will be deprecated. Use 'static_attributes' in the future\n",
      "  warnings.warn(\"'camels_attributes' will be deprecated. Use 'static_attributes' in the future\",\n"
     ]
    },
    {
     "name": "stdout",
     "output_type": "stream",
     "text": [
      "# Evaluation:  77%|███████▋  | 512/669 [05:11<01:33,  1.67it/s]"
     ]
    },
    {
     "name": "stderr",
     "output_type": "stream",
     "text": [
      "/home/tommy/neuralhydrology/neuralhydrology/utils/config.py:597: FutureWarning: 'camels_attributes' will be deprecated. Use 'static_attributes' in the future\n",
      "  warnings.warn(\"'camels_attributes' will be deprecated. Use 'static_attributes' in the future\",\n"
     ]
    },
    {
     "name": "stdout",
     "output_type": "stream",
     "text": [
      "# Evaluation:  77%|███████▋  | 513/669 [05:12<01:32,  1.69it/s]"
     ]
    },
    {
     "name": "stderr",
     "output_type": "stream",
     "text": [
      "/home/tommy/neuralhydrology/neuralhydrology/utils/config.py:597: FutureWarning: 'camels_attributes' will be deprecated. Use 'static_attributes' in the future\n",
      "  warnings.warn(\"'camels_attributes' will be deprecated. Use 'static_attributes' in the future\",\n"
     ]
    },
    {
     "name": "stdout",
     "output_type": "stream",
     "text": [
      "# Evaluation:  77%|███████▋  | 514/669 [05:12<01:32,  1.67it/s]"
     ]
    },
    {
     "name": "stderr",
     "output_type": "stream",
     "text": [
      "/home/tommy/neuralhydrology/neuralhydrology/utils/config.py:597: FutureWarning: 'camels_attributes' will be deprecated. Use 'static_attributes' in the future\n",
      "  warnings.warn(\"'camels_attributes' will be deprecated. Use 'static_attributes' in the future\",\n"
     ]
    },
    {
     "name": "stdout",
     "output_type": "stream",
     "text": [
      "# Evaluation:  77%|███████▋  | 515/669 [05:13<01:35,  1.61it/s]"
     ]
    },
    {
     "name": "stderr",
     "output_type": "stream",
     "text": [
      "/home/tommy/neuralhydrology/neuralhydrology/utils/config.py:597: FutureWarning: 'camels_attributes' will be deprecated. Use 'static_attributes' in the future\n",
      "  warnings.warn(\"'camels_attributes' will be deprecated. Use 'static_attributes' in the future\",\n"
     ]
    },
    {
     "name": "stdout",
     "output_type": "stream",
     "text": [
      "# Evaluation:  77%|███████▋  | 516/669 [05:13<01:32,  1.65it/s]"
     ]
    },
    {
     "name": "stderr",
     "output_type": "stream",
     "text": [
      "/home/tommy/neuralhydrology/neuralhydrology/utils/config.py:597: FutureWarning: 'camels_attributes' will be deprecated. Use 'static_attributes' in the future\n",
      "  warnings.warn(\"'camels_attributes' will be deprecated. Use 'static_attributes' in the future\",\n"
     ]
    },
    {
     "name": "stdout",
     "output_type": "stream",
     "text": [
      "# Evaluation:  77%|███████▋  | 517/669 [05:14<01:32,  1.65it/s]"
     ]
    },
    {
     "name": "stderr",
     "output_type": "stream",
     "text": [
      "/home/tommy/neuralhydrology/neuralhydrology/utils/config.py:597: FutureWarning: 'camels_attributes' will be deprecated. Use 'static_attributes' in the future\n",
      "  warnings.warn(\"'camels_attributes' will be deprecated. Use 'static_attributes' in the future\",\n"
     ]
    },
    {
     "name": "stdout",
     "output_type": "stream",
     "text": [
      "# Evaluation:  77%|███████▋  | 518/669 [05:15<01:27,  1.72it/s]"
     ]
    },
    {
     "name": "stderr",
     "output_type": "stream",
     "text": [
      "/home/tommy/neuralhydrology/neuralhydrology/utils/config.py:597: FutureWarning: 'camels_attributes' will be deprecated. Use 'static_attributes' in the future\n",
      "  warnings.warn(\"'camels_attributes' will be deprecated. Use 'static_attributes' in the future\",\n"
     ]
    },
    {
     "name": "stdout",
     "output_type": "stream",
     "text": [
      "# Evaluation:  78%|███████▊  | 519/669 [05:15<01:27,  1.71it/s]"
     ]
    },
    {
     "name": "stderr",
     "output_type": "stream",
     "text": [
      "/home/tommy/neuralhydrology/neuralhydrology/utils/config.py:597: FutureWarning: 'camels_attributes' will be deprecated. Use 'static_attributes' in the future\n",
      "  warnings.warn(\"'camels_attributes' will be deprecated. Use 'static_attributes' in the future\",\n"
     ]
    },
    {
     "name": "stdout",
     "output_type": "stream",
     "text": [
      "# Evaluation:  78%|███████▊  | 520/669 [05:16<01:28,  1.69it/s]"
     ]
    },
    {
     "name": "stderr",
     "output_type": "stream",
     "text": [
      "/home/tommy/neuralhydrology/neuralhydrology/utils/config.py:597: FutureWarning: 'camels_attributes' will be deprecated. Use 'static_attributes' in the future\n",
      "  warnings.warn(\"'camels_attributes' will be deprecated. Use 'static_attributes' in the future\",\n"
     ]
    },
    {
     "name": "stdout",
     "output_type": "stream",
     "text": [
      "# Evaluation:  78%|███████▊  | 521/669 [05:16<01:28,  1.67it/s]"
     ]
    },
    {
     "name": "stderr",
     "output_type": "stream",
     "text": [
      "/home/tommy/neuralhydrology/neuralhydrology/utils/config.py:597: FutureWarning: 'camels_attributes' will be deprecated. Use 'static_attributes' in the future\n",
      "  warnings.warn(\"'camels_attributes' will be deprecated. Use 'static_attributes' in the future\",\n"
     ]
    },
    {
     "name": "stdout",
     "output_type": "stream",
     "text": [
      "# Evaluation:  78%|███████▊  | 522/669 [05:17<01:28,  1.66it/s]"
     ]
    },
    {
     "name": "stderr",
     "output_type": "stream",
     "text": [
      "/home/tommy/neuralhydrology/neuralhydrology/utils/config.py:597: FutureWarning: 'camels_attributes' will be deprecated. Use 'static_attributes' in the future\n",
      "  warnings.warn(\"'camels_attributes' will be deprecated. Use 'static_attributes' in the future\",\n"
     ]
    },
    {
     "name": "stdout",
     "output_type": "stream",
     "text": [
      "# Evaluation:  78%|███████▊  | 523/669 [05:18<01:28,  1.65it/s]"
     ]
    },
    {
     "name": "stderr",
     "output_type": "stream",
     "text": [
      "/home/tommy/neuralhydrology/neuralhydrology/utils/config.py:597: FutureWarning: 'camels_attributes' will be deprecated. Use 'static_attributes' in the future\n",
      "  warnings.warn(\"'camels_attributes' will be deprecated. Use 'static_attributes' in the future\",\n"
     ]
    },
    {
     "name": "stdout",
     "output_type": "stream",
     "text": [
      "# Evaluation:  78%|███████▊  | 524/669 [05:18<01:28,  1.64it/s]"
     ]
    },
    {
     "name": "stderr",
     "output_type": "stream",
     "text": [
      "/home/tommy/neuralhydrology/neuralhydrology/utils/config.py:597: FutureWarning: 'camels_attributes' will be deprecated. Use 'static_attributes' in the future\n",
      "  warnings.warn(\"'camels_attributes' will be deprecated. Use 'static_attributes' in the future\",\n"
     ]
    },
    {
     "name": "stdout",
     "output_type": "stream",
     "text": [
      "# Evaluation:  78%|███████▊  | 525/669 [05:19<01:30,  1.59it/s]"
     ]
    },
    {
     "name": "stderr",
     "output_type": "stream",
     "text": [
      "/home/tommy/neuralhydrology/neuralhydrology/utils/config.py:597: FutureWarning: 'camels_attributes' will be deprecated. Use 'static_attributes' in the future\n",
      "  warnings.warn(\"'camels_attributes' will be deprecated. Use 'static_attributes' in the future\",\n"
     ]
    },
    {
     "name": "stdout",
     "output_type": "stream",
     "text": [
      "# Evaluation:  79%|███████▊  | 526/669 [05:19<01:27,  1.64it/s]"
     ]
    },
    {
     "name": "stderr",
     "output_type": "stream",
     "text": [
      "/home/tommy/neuralhydrology/neuralhydrology/utils/config.py:597: FutureWarning: 'camels_attributes' will be deprecated. Use 'static_attributes' in the future\n",
      "  warnings.warn(\"'camels_attributes' will be deprecated. Use 'static_attributes' in the future\",\n"
     ]
    },
    {
     "name": "stdout",
     "output_type": "stream",
     "text": [
      "# Evaluation:  79%|███████▉  | 527/669 [05:20<01:25,  1.67it/s]"
     ]
    },
    {
     "name": "stderr",
     "output_type": "stream",
     "text": [
      "/home/tommy/neuralhydrology/neuralhydrology/utils/config.py:597: FutureWarning: 'camels_attributes' will be deprecated. Use 'static_attributes' in the future\n",
      "  warnings.warn(\"'camels_attributes' will be deprecated. Use 'static_attributes' in the future\",\n"
     ]
    },
    {
     "name": "stdout",
     "output_type": "stream",
     "text": [
      "# Evaluation:  79%|███████▉  | 528/669 [05:21<01:24,  1.66it/s]"
     ]
    },
    {
     "name": "stderr",
     "output_type": "stream",
     "text": [
      "/home/tommy/neuralhydrology/neuralhydrology/utils/config.py:597: FutureWarning: 'camels_attributes' will be deprecated. Use 'static_attributes' in the future\n",
      "  warnings.warn(\"'camels_attributes' will be deprecated. Use 'static_attributes' in the future\",\n"
     ]
    },
    {
     "name": "stdout",
     "output_type": "stream",
     "text": [
      "# Evaluation:  79%|███████▉  | 529/669 [05:21<01:24,  1.65it/s]"
     ]
    },
    {
     "name": "stderr",
     "output_type": "stream",
     "text": [
      "/home/tommy/neuralhydrology/neuralhydrology/utils/config.py:597: FutureWarning: 'camels_attributes' will be deprecated. Use 'static_attributes' in the future\n",
      "  warnings.warn(\"'camels_attributes' will be deprecated. Use 'static_attributes' in the future\",\n"
     ]
    },
    {
     "name": "stdout",
     "output_type": "stream",
     "text": [
      "# Evaluation:  79%|███████▉  | 530/669 [05:22<01:24,  1.65it/s]"
     ]
    },
    {
     "name": "stderr",
     "output_type": "stream",
     "text": [
      "/home/tommy/neuralhydrology/neuralhydrology/utils/config.py:597: FutureWarning: 'camels_attributes' will be deprecated. Use 'static_attributes' in the future\n",
      "  warnings.warn(\"'camels_attributes' will be deprecated. Use 'static_attributes' in the future\",\n"
     ]
    },
    {
     "name": "stdout",
     "output_type": "stream",
     "text": [
      "# Evaluation:  79%|███████▉  | 531/669 [05:22<01:22,  1.67it/s]"
     ]
    },
    {
     "name": "stderr",
     "output_type": "stream",
     "text": [
      "/home/tommy/neuralhydrology/neuralhydrology/utils/config.py:597: FutureWarning: 'camels_attributes' will be deprecated. Use 'static_attributes' in the future\n",
      "  warnings.warn(\"'camels_attributes' will be deprecated. Use 'static_attributes' in the future\",\n"
     ]
    },
    {
     "name": "stdout",
     "output_type": "stream",
     "text": [
      "# Evaluation:  80%|███████▉  | 532/669 [05:23<01:21,  1.68it/s]"
     ]
    },
    {
     "name": "stderr",
     "output_type": "stream",
     "text": [
      "/home/tommy/neuralhydrology/neuralhydrology/utils/config.py:597: FutureWarning: 'camels_attributes' will be deprecated. Use 'static_attributes' in the future\n",
      "  warnings.warn(\"'camels_attributes' will be deprecated. Use 'static_attributes' in the future\",\n"
     ]
    },
    {
     "name": "stdout",
     "output_type": "stream",
     "text": [
      "# Evaluation:  80%|███████▉  | 533/669 [05:24<01:18,  1.72it/s]"
     ]
    },
    {
     "name": "stderr",
     "output_type": "stream",
     "text": [
      "/home/tommy/neuralhydrology/neuralhydrology/utils/config.py:597: FutureWarning: 'camels_attributes' will be deprecated. Use 'static_attributes' in the future\n",
      "  warnings.warn(\"'camels_attributes' will be deprecated. Use 'static_attributes' in the future\",\n"
     ]
    },
    {
     "name": "stdout",
     "output_type": "stream",
     "text": [
      "# Evaluation:  80%|███████▉  | 534/669 [05:24<01:19,  1.71it/s]"
     ]
    },
    {
     "name": "stderr",
     "output_type": "stream",
     "text": [
      "/home/tommy/neuralhydrology/neuralhydrology/utils/config.py:597: FutureWarning: 'camels_attributes' will be deprecated. Use 'static_attributes' in the future\n",
      "  warnings.warn(\"'camels_attributes' will be deprecated. Use 'static_attributes' in the future\",\n"
     ]
    },
    {
     "name": "stdout",
     "output_type": "stream",
     "text": [
      "# Evaluation:  80%|███████▉  | 535/669 [05:25<01:24,  1.59it/s]"
     ]
    },
    {
     "name": "stderr",
     "output_type": "stream",
     "text": [
      "/home/tommy/neuralhydrology/neuralhydrology/utils/config.py:597: FutureWarning: 'camels_attributes' will be deprecated. Use 'static_attributes' in the future\n",
      "  warnings.warn(\"'camels_attributes' will be deprecated. Use 'static_attributes' in the future\",\n"
     ]
    },
    {
     "name": "stdout",
     "output_type": "stream",
     "text": [
      "# Evaluation:  80%|████████  | 536/669 [05:25<01:20,  1.65it/s]"
     ]
    },
    {
     "name": "stderr",
     "output_type": "stream",
     "text": [
      "/home/tommy/neuralhydrology/neuralhydrology/utils/config.py:597: FutureWarning: 'camels_attributes' will be deprecated. Use 'static_attributes' in the future\n",
      "  warnings.warn(\"'camels_attributes' will be deprecated. Use 'static_attributes' in the future\",\n"
     ]
    },
    {
     "name": "stdout",
     "output_type": "stream",
     "text": [
      "# Evaluation:  80%|████████  | 537/669 [05:26<01:20,  1.64it/s]"
     ]
    },
    {
     "name": "stderr",
     "output_type": "stream",
     "text": [
      "/home/tommy/neuralhydrology/neuralhydrology/utils/config.py:597: FutureWarning: 'camels_attributes' will be deprecated. Use 'static_attributes' in the future\n",
      "  warnings.warn(\"'camels_attributes' will be deprecated. Use 'static_attributes' in the future\",\n"
     ]
    },
    {
     "name": "stdout",
     "output_type": "stream",
     "text": [
      "# Evaluation:  80%|████████  | 538/669 [05:27<01:20,  1.64it/s]"
     ]
    },
    {
     "name": "stderr",
     "output_type": "stream",
     "text": [
      "/home/tommy/neuralhydrology/neuralhydrology/utils/config.py:597: FutureWarning: 'camels_attributes' will be deprecated. Use 'static_attributes' in the future\n",
      "  warnings.warn(\"'camels_attributes' will be deprecated. Use 'static_attributes' in the future\",\n"
     ]
    },
    {
     "name": "stdout",
     "output_type": "stream",
     "text": [
      "# Evaluation:  81%|████████  | 539/669 [05:27<01:18,  1.66it/s]"
     ]
    },
    {
     "name": "stderr",
     "output_type": "stream",
     "text": [
      "/home/tommy/neuralhydrology/neuralhydrology/utils/config.py:597: FutureWarning: 'camels_attributes' will be deprecated. Use 'static_attributes' in the future\n",
      "  warnings.warn(\"'camels_attributes' will be deprecated. Use 'static_attributes' in the future\",\n"
     ]
    },
    {
     "name": "stdout",
     "output_type": "stream",
     "text": [
      "# Evaluation:  81%|████████  | 540/669 [05:28<01:18,  1.65it/s]"
     ]
    },
    {
     "name": "stderr",
     "output_type": "stream",
     "text": [
      "/home/tommy/neuralhydrology/neuralhydrology/utils/config.py:597: FutureWarning: 'camels_attributes' will be deprecated. Use 'static_attributes' in the future\n",
      "  warnings.warn(\"'camels_attributes' will be deprecated. Use 'static_attributes' in the future\",\n"
     ]
    },
    {
     "name": "stdout",
     "output_type": "stream",
     "text": [
      "# Evaluation:  81%|████████  | 541/669 [05:28<01:17,  1.65it/s]"
     ]
    },
    {
     "name": "stderr",
     "output_type": "stream",
     "text": [
      "/home/tommy/neuralhydrology/neuralhydrology/utils/config.py:597: FutureWarning: 'camels_attributes' will be deprecated. Use 'static_attributes' in the future\n",
      "  warnings.warn(\"'camels_attributes' will be deprecated. Use 'static_attributes' in the future\",\n"
     ]
    },
    {
     "name": "stdout",
     "output_type": "stream",
     "text": [
      "# Evaluation:  81%|████████  | 542/669 [05:29<01:17,  1.65it/s]"
     ]
    },
    {
     "name": "stderr",
     "output_type": "stream",
     "text": [
      "/home/tommy/neuralhydrology/neuralhydrology/utils/config.py:597: FutureWarning: 'camels_attributes' will be deprecated. Use 'static_attributes' in the future\n",
      "  warnings.warn(\"'camels_attributes' will be deprecated. Use 'static_attributes' in the future\",\n"
     ]
    },
    {
     "name": "stdout",
     "output_type": "stream",
     "text": [
      "# Evaluation:  81%|████████  | 543/669 [05:30<01:16,  1.64it/s]"
     ]
    },
    {
     "name": "stderr",
     "output_type": "stream",
     "text": [
      "/home/tommy/neuralhydrology/neuralhydrology/utils/config.py:597: FutureWarning: 'camels_attributes' will be deprecated. Use 'static_attributes' in the future\n",
      "  warnings.warn(\"'camels_attributes' will be deprecated. Use 'static_attributes' in the future\",\n"
     ]
    },
    {
     "name": "stdout",
     "output_type": "stream",
     "text": [
      "# Evaluation:  81%|████████▏ | 544/669 [05:30<01:15,  1.64it/s]"
     ]
    },
    {
     "name": "stderr",
     "output_type": "stream",
     "text": [
      "/home/tommy/neuralhydrology/neuralhydrology/utils/config.py:597: FutureWarning: 'camels_attributes' will be deprecated. Use 'static_attributes' in the future\n",
      "  warnings.warn(\"'camels_attributes' will be deprecated. Use 'static_attributes' in the future\",\n"
     ]
    },
    {
     "name": "stdout",
     "output_type": "stream",
     "text": [
      "# Evaluation:  81%|████████▏ | 545/669 [05:31<01:17,  1.60it/s]"
     ]
    },
    {
     "name": "stderr",
     "output_type": "stream",
     "text": [
      "/home/tommy/neuralhydrology/neuralhydrology/utils/config.py:597: FutureWarning: 'camels_attributes' will be deprecated. Use 'static_attributes' in the future\n",
      "  warnings.warn(\"'camels_attributes' will be deprecated. Use 'static_attributes' in the future\",\n"
     ]
    },
    {
     "name": "stdout",
     "output_type": "stream",
     "text": [
      "# Evaluation:  82%|████████▏ | 546/669 [05:31<01:13,  1.66it/s]"
     ]
    },
    {
     "name": "stderr",
     "output_type": "stream",
     "text": [
      "/home/tommy/neuralhydrology/neuralhydrology/utils/config.py:597: FutureWarning: 'camels_attributes' will be deprecated. Use 'static_attributes' in the future\n",
      "  warnings.warn(\"'camels_attributes' will be deprecated. Use 'static_attributes' in the future\",\n"
     ]
    },
    {
     "name": "stdout",
     "output_type": "stream",
     "text": [
      "# Evaluation:  82%|████████▏ | 547/669 [05:32<01:13,  1.65it/s]"
     ]
    },
    {
     "name": "stderr",
     "output_type": "stream",
     "text": [
      "/home/tommy/neuralhydrology/neuralhydrology/utils/config.py:597: FutureWarning: 'camels_attributes' will be deprecated. Use 'static_attributes' in the future\n",
      "  warnings.warn(\"'camels_attributes' will be deprecated. Use 'static_attributes' in the future\",\n"
     ]
    },
    {
     "name": "stdout",
     "output_type": "stream",
     "text": [
      "# Evaluation:  82%|████████▏ | 548/669 [05:33<01:09,  1.75it/s]"
     ]
    },
    {
     "name": "stderr",
     "output_type": "stream",
     "text": [
      "/home/tommy/neuralhydrology/neuralhydrology/utils/config.py:597: FutureWarning: 'camels_attributes' will be deprecated. Use 'static_attributes' in the future\n",
      "  warnings.warn(\"'camels_attributes' will be deprecated. Use 'static_attributes' in the future\",\n"
     ]
    },
    {
     "name": "stdout",
     "output_type": "stream",
     "text": [
      "# Evaluation:  82%|████████▏ | 549/669 [05:33<01:08,  1.75it/s]"
     ]
    },
    {
     "name": "stderr",
     "output_type": "stream",
     "text": [
      "/home/tommy/neuralhydrology/neuralhydrology/utils/config.py:597: FutureWarning: 'camels_attributes' will be deprecated. Use 'static_attributes' in the future\n",
      "  warnings.warn(\"'camels_attributes' will be deprecated. Use 'static_attributes' in the future\",\n"
     ]
    },
    {
     "name": "stdout",
     "output_type": "stream",
     "text": [
      "# Evaluation:  82%|████████▏ | 550/669 [05:34<01:09,  1.71it/s]"
     ]
    },
    {
     "name": "stderr",
     "output_type": "stream",
     "text": [
      "/home/tommy/neuralhydrology/neuralhydrology/utils/config.py:597: FutureWarning: 'camels_attributes' will be deprecated. Use 'static_attributes' in the future\n",
      "  warnings.warn(\"'camels_attributes' will be deprecated. Use 'static_attributes' in the future\",\n"
     ]
    },
    {
     "name": "stdout",
     "output_type": "stream",
     "text": [
      "# Evaluation:  82%|████████▏ | 551/669 [05:34<01:09,  1.69it/s]"
     ]
    },
    {
     "name": "stderr",
     "output_type": "stream",
     "text": [
      "/home/tommy/neuralhydrology/neuralhydrology/utils/config.py:597: FutureWarning: 'camels_attributes' will be deprecated. Use 'static_attributes' in the future\n",
      "  warnings.warn(\"'camels_attributes' will be deprecated. Use 'static_attributes' in the future\",\n"
     ]
    },
    {
     "name": "stdout",
     "output_type": "stream",
     "text": [
      "# Evaluation:  83%|████████▎ | 552/669 [05:35<01:10,  1.67it/s]"
     ]
    },
    {
     "name": "stderr",
     "output_type": "stream",
     "text": [
      "/home/tommy/neuralhydrology/neuralhydrology/utils/config.py:597: FutureWarning: 'camels_attributes' will be deprecated. Use 'static_attributes' in the future\n",
      "  warnings.warn(\"'camels_attributes' will be deprecated. Use 'static_attributes' in the future\",\n"
     ]
    },
    {
     "name": "stdout",
     "output_type": "stream",
     "text": [
      "# Evaluation:  83%|████████▎ | 553/669 [05:36<01:09,  1.66it/s]"
     ]
    },
    {
     "name": "stderr",
     "output_type": "stream",
     "text": [
      "/home/tommy/neuralhydrology/neuralhydrology/utils/config.py:597: FutureWarning: 'camels_attributes' will be deprecated. Use 'static_attributes' in the future\n",
      "  warnings.warn(\"'camels_attributes' will be deprecated. Use 'static_attributes' in the future\",\n"
     ]
    },
    {
     "name": "stdout",
     "output_type": "stream",
     "text": [
      "# Evaluation:  83%|████████▎ | 554/669 [05:36<01:09,  1.66it/s]"
     ]
    },
    {
     "name": "stderr",
     "output_type": "stream",
     "text": [
      "/home/tommy/neuralhydrology/neuralhydrology/utils/config.py:597: FutureWarning: 'camels_attributes' will be deprecated. Use 'static_attributes' in the future\n",
      "  warnings.warn(\"'camels_attributes' will be deprecated. Use 'static_attributes' in the future\",\n"
     ]
    },
    {
     "name": "stdout",
     "output_type": "stream",
     "text": [
      "# Evaluation:  83%|████████▎ | 555/669 [05:37<01:13,  1.56it/s]"
     ]
    },
    {
     "name": "stderr",
     "output_type": "stream",
     "text": [
      "/home/tommy/neuralhydrology/neuralhydrology/utils/config.py:597: FutureWarning: 'camels_attributes' will be deprecated. Use 'static_attributes' in the future\n",
      "  warnings.warn(\"'camels_attributes' will be deprecated. Use 'static_attributes' in the future\",\n"
     ]
    },
    {
     "name": "stdout",
     "output_type": "stream",
     "text": [
      "# Evaluation:  83%|████████▎ | 556/669 [05:38<01:10,  1.60it/s]"
     ]
    },
    {
     "name": "stderr",
     "output_type": "stream",
     "text": [
      "/home/tommy/neuralhydrology/neuralhydrology/utils/config.py:597: FutureWarning: 'camels_attributes' will be deprecated. Use 'static_attributes' in the future\n",
      "  warnings.warn(\"'camels_attributes' will be deprecated. Use 'static_attributes' in the future\",\n"
     ]
    },
    {
     "name": "stdout",
     "output_type": "stream",
     "text": [
      "# Evaluation:  83%|████████▎ | 557/669 [05:38<01:09,  1.61it/s]"
     ]
    },
    {
     "name": "stderr",
     "output_type": "stream",
     "text": [
      "/home/tommy/neuralhydrology/neuralhydrology/utils/config.py:597: FutureWarning: 'camels_attributes' will be deprecated. Use 'static_attributes' in the future\n",
      "  warnings.warn(\"'camels_attributes' will be deprecated. Use 'static_attributes' in the future\",\n"
     ]
    },
    {
     "name": "stdout",
     "output_type": "stream",
     "text": [
      "# Evaluation:  83%|████████▎ | 558/669 [05:39<01:08,  1.62it/s]"
     ]
    },
    {
     "name": "stderr",
     "output_type": "stream",
     "text": [
      "/home/tommy/neuralhydrology/neuralhydrology/utils/config.py:597: FutureWarning: 'camels_attributes' will be deprecated. Use 'static_attributes' in the future\n",
      "  warnings.warn(\"'camels_attributes' will be deprecated. Use 'static_attributes' in the future\",\n"
     ]
    },
    {
     "name": "stdout",
     "output_type": "stream",
     "text": [
      "# Evaluation:  84%|████████▎ | 559/669 [05:39<01:05,  1.68it/s]"
     ]
    },
    {
     "name": "stderr",
     "output_type": "stream",
     "text": [
      "/home/tommy/neuralhydrology/neuralhydrology/utils/config.py:597: FutureWarning: 'camels_attributes' will be deprecated. Use 'static_attributes' in the future\n",
      "  warnings.warn(\"'camels_attributes' will be deprecated. Use 'static_attributes' in the future\",\n"
     ]
    },
    {
     "name": "stdout",
     "output_type": "stream",
     "text": [
      "# Evaluation:  84%|████████▎ | 560/669 [05:40<01:03,  1.72it/s]"
     ]
    },
    {
     "name": "stderr",
     "output_type": "stream",
     "text": [
      "/home/tommy/neuralhydrology/neuralhydrology/utils/config.py:597: FutureWarning: 'camels_attributes' will be deprecated. Use 'static_attributes' in the future\n",
      "  warnings.warn(\"'camels_attributes' will be deprecated. Use 'static_attributes' in the future\",\n"
     ]
    },
    {
     "name": "stdout",
     "output_type": "stream",
     "text": [
      "# Evaluation:  84%|████████▍ | 561/669 [05:40<01:02,  1.73it/s]"
     ]
    },
    {
     "name": "stderr",
     "output_type": "stream",
     "text": [
      "/home/tommy/neuralhydrology/neuralhydrology/utils/config.py:597: FutureWarning: 'camels_attributes' will be deprecated. Use 'static_attributes' in the future\n",
      "  warnings.warn(\"'camels_attributes' will be deprecated. Use 'static_attributes' in the future\",\n"
     ]
    },
    {
     "name": "stdout",
     "output_type": "stream",
     "text": [
      "# Evaluation:  84%|████████▍ | 562/669 [05:41<01:01,  1.75it/s]"
     ]
    },
    {
     "name": "stderr",
     "output_type": "stream",
     "text": [
      "/home/tommy/neuralhydrology/neuralhydrology/utils/config.py:597: FutureWarning: 'camels_attributes' will be deprecated. Use 'static_attributes' in the future\n",
      "  warnings.warn(\"'camels_attributes' will be deprecated. Use 'static_attributes' in the future\",\n"
     ]
    },
    {
     "name": "stdout",
     "output_type": "stream",
     "text": [
      "# Evaluation:  84%|████████▍ | 563/669 [05:42<00:59,  1.78it/s]"
     ]
    },
    {
     "name": "stderr",
     "output_type": "stream",
     "text": [
      "/home/tommy/neuralhydrology/neuralhydrology/utils/config.py:597: FutureWarning: 'camels_attributes' will be deprecated. Use 'static_attributes' in the future\n",
      "  warnings.warn(\"'camels_attributes' will be deprecated. Use 'static_attributes' in the future\",\n"
     ]
    },
    {
     "name": "stdout",
     "output_type": "stream",
     "text": [
      "# Evaluation:  84%|████████▍ | 564/669 [05:42<01:00,  1.73it/s]"
     ]
    },
    {
     "name": "stderr",
     "output_type": "stream",
     "text": [
      "/home/tommy/neuralhydrology/neuralhydrology/utils/config.py:597: FutureWarning: 'camels_attributes' will be deprecated. Use 'static_attributes' in the future\n",
      "  warnings.warn(\"'camels_attributes' will be deprecated. Use 'static_attributes' in the future\",\n"
     ]
    },
    {
     "name": "stdout",
     "output_type": "stream",
     "text": [
      "# Evaluation:  84%|████████▍ | 565/669 [05:43<01:02,  1.66it/s]"
     ]
    },
    {
     "name": "stderr",
     "output_type": "stream",
     "text": [
      "/home/tommy/neuralhydrology/neuralhydrology/utils/config.py:597: FutureWarning: 'camels_attributes' will be deprecated. Use 'static_attributes' in the future\n",
      "  warnings.warn(\"'camels_attributes' will be deprecated. Use 'static_attributes' in the future\",\n"
     ]
    },
    {
     "name": "stdout",
     "output_type": "stream",
     "text": [
      "# Evaluation:  85%|████████▍ | 566/669 [05:43<01:01,  1.67it/s]"
     ]
    },
    {
     "name": "stderr",
     "output_type": "stream",
     "text": [
      "/home/tommy/neuralhydrology/neuralhydrology/utils/config.py:597: FutureWarning: 'camels_attributes' will be deprecated. Use 'static_attributes' in the future\n",
      "  warnings.warn(\"'camels_attributes' will be deprecated. Use 'static_attributes' in the future\",\n"
     ]
    },
    {
     "name": "stdout",
     "output_type": "stream",
     "text": [
      "# Evaluation:  85%|████████▍ | 567/669 [05:44<01:01,  1.66it/s]"
     ]
    },
    {
     "name": "stderr",
     "output_type": "stream",
     "text": [
      "/home/tommy/neuralhydrology/neuralhydrology/utils/config.py:597: FutureWarning: 'camels_attributes' will be deprecated. Use 'static_attributes' in the future\n",
      "  warnings.warn(\"'camels_attributes' will be deprecated. Use 'static_attributes' in the future\",\n"
     ]
    },
    {
     "name": "stdout",
     "output_type": "stream",
     "text": [
      "# Evaluation:  85%|████████▍ | 568/669 [05:45<01:01,  1.65it/s]"
     ]
    },
    {
     "name": "stderr",
     "output_type": "stream",
     "text": [
      "/home/tommy/neuralhydrology/neuralhydrology/utils/config.py:597: FutureWarning: 'camels_attributes' will be deprecated. Use 'static_attributes' in the future\n",
      "  warnings.warn(\"'camels_attributes' will be deprecated. Use 'static_attributes' in the future\",\n"
     ]
    },
    {
     "name": "stdout",
     "output_type": "stream",
     "text": [
      "# Evaluation:  85%|████████▌ | 569/669 [05:45<00:59,  1.68it/s]"
     ]
    },
    {
     "name": "stderr",
     "output_type": "stream",
     "text": [
      "/home/tommy/neuralhydrology/neuralhydrology/utils/config.py:597: FutureWarning: 'camels_attributes' will be deprecated. Use 'static_attributes' in the future\n",
      "  warnings.warn(\"'camels_attributes' will be deprecated. Use 'static_attributes' in the future\",\n"
     ]
    },
    {
     "name": "stdout",
     "output_type": "stream",
     "text": [
      "# Evaluation:  85%|████████▌ | 570/669 [05:46<00:59,  1.67it/s]"
     ]
    },
    {
     "name": "stderr",
     "output_type": "stream",
     "text": [
      "/home/tommy/neuralhydrology/neuralhydrology/utils/config.py:597: FutureWarning: 'camels_attributes' will be deprecated. Use 'static_attributes' in the future\n",
      "  warnings.warn(\"'camels_attributes' will be deprecated. Use 'static_attributes' in the future\",\n"
     ]
    },
    {
     "name": "stdout",
     "output_type": "stream",
     "text": [
      "# Evaluation:  85%|████████▌ | 571/669 [05:46<00:57,  1.69it/s]"
     ]
    },
    {
     "name": "stderr",
     "output_type": "stream",
     "text": [
      "/home/tommy/neuralhydrology/neuralhydrology/utils/config.py:597: FutureWarning: 'camels_attributes' will be deprecated. Use 'static_attributes' in the future\n",
      "  warnings.warn(\"'camels_attributes' will be deprecated. Use 'static_attributes' in the future\",\n"
     ]
    },
    {
     "name": "stdout",
     "output_type": "stream",
     "text": [
      "# Evaluation:  86%|████████▌ | 572/669 [05:47<00:55,  1.76it/s]"
     ]
    },
    {
     "name": "stderr",
     "output_type": "stream",
     "text": [
      "/home/tommy/neuralhydrology/neuralhydrology/utils/config.py:597: FutureWarning: 'camels_attributes' will be deprecated. Use 'static_attributes' in the future\n",
      "  warnings.warn(\"'camels_attributes' will be deprecated. Use 'static_attributes' in the future\",\n"
     ]
    },
    {
     "name": "stdout",
     "output_type": "stream",
     "text": [
      "# Evaluation:  86%|████████▌ | 573/669 [05:47<00:53,  1.79it/s]"
     ]
    },
    {
     "name": "stderr",
     "output_type": "stream",
     "text": [
      "/home/tommy/neuralhydrology/neuralhydrology/utils/config.py:597: FutureWarning: 'camels_attributes' will be deprecated. Use 'static_attributes' in the future\n",
      "  warnings.warn(\"'camels_attributes' will be deprecated. Use 'static_attributes' in the future\",\n"
     ]
    },
    {
     "name": "stdout",
     "output_type": "stream",
     "text": [
      "# Evaluation:  86%|████████▌ | 574/669 [05:48<00:51,  1.83it/s]"
     ]
    },
    {
     "name": "stderr",
     "output_type": "stream",
     "text": [
      "/home/tommy/neuralhydrology/neuralhydrology/utils/config.py:597: FutureWarning: 'camels_attributes' will be deprecated. Use 'static_attributes' in the future\n",
      "  warnings.warn(\"'camels_attributes' will be deprecated. Use 'static_attributes' in the future\",\n"
     ]
    },
    {
     "name": "stdout",
     "output_type": "stream",
     "text": [
      "# Evaluation:  86%|████████▌ | 575/669 [05:49<00:56,  1.67it/s]"
     ]
    },
    {
     "name": "stderr",
     "output_type": "stream",
     "text": [
      "/home/tommy/neuralhydrology/neuralhydrology/utils/config.py:597: FutureWarning: 'camels_attributes' will be deprecated. Use 'static_attributes' in the future\n",
      "  warnings.warn(\"'camels_attributes' will be deprecated. Use 'static_attributes' in the future\",\n"
     ]
    },
    {
     "name": "stdout",
     "output_type": "stream",
     "text": [
      "# Evaluation:  86%|████████▌ | 576/669 [05:49<00:56,  1.66it/s]"
     ]
    },
    {
     "name": "stderr",
     "output_type": "stream",
     "text": [
      "/home/tommy/neuralhydrology/neuralhydrology/utils/config.py:597: FutureWarning: 'camels_attributes' will be deprecated. Use 'static_attributes' in the future\n",
      "  warnings.warn(\"'camels_attributes' will be deprecated. Use 'static_attributes' in the future\",\n"
     ]
    },
    {
     "name": "stdout",
     "output_type": "stream",
     "text": [
      "# Evaluation:  86%|████████▌ | 577/669 [05:50<00:54,  1.68it/s]"
     ]
    },
    {
     "name": "stderr",
     "output_type": "stream",
     "text": [
      "/home/tommy/neuralhydrology/neuralhydrology/utils/config.py:597: FutureWarning: 'camels_attributes' will be deprecated. Use 'static_attributes' in the future\n",
      "  warnings.warn(\"'camels_attributes' will be deprecated. Use 'static_attributes' in the future\",\n"
     ]
    },
    {
     "name": "stdout",
     "output_type": "stream",
     "text": [
      "# Evaluation:  86%|████████▋ | 578/669 [05:50<00:53,  1.70it/s]"
     ]
    },
    {
     "name": "stderr",
     "output_type": "stream",
     "text": [
      "/home/tommy/neuralhydrology/neuralhydrology/utils/config.py:597: FutureWarning: 'camels_attributes' will be deprecated. Use 'static_attributes' in the future\n",
      "  warnings.warn(\"'camels_attributes' will be deprecated. Use 'static_attributes' in the future\",\n"
     ]
    },
    {
     "name": "stdout",
     "output_type": "stream",
     "text": [
      "# Evaluation:  87%|████████▋ | 579/669 [05:51<00:53,  1.68it/s]"
     ]
    },
    {
     "name": "stderr",
     "output_type": "stream",
     "text": [
      "/home/tommy/neuralhydrology/neuralhydrology/utils/config.py:597: FutureWarning: 'camels_attributes' will be deprecated. Use 'static_attributes' in the future\n",
      "  warnings.warn(\"'camels_attributes' will be deprecated. Use 'static_attributes' in the future\",\n"
     ]
    },
    {
     "name": "stdout",
     "output_type": "stream",
     "text": [
      "# Evaluation:  87%|████████▋ | 580/669 [05:52<00:52,  1.69it/s]"
     ]
    },
    {
     "name": "stderr",
     "output_type": "stream",
     "text": [
      "/home/tommy/neuralhydrology/neuralhydrology/utils/config.py:597: FutureWarning: 'camels_attributes' will be deprecated. Use 'static_attributes' in the future\n",
      "  warnings.warn(\"'camels_attributes' will be deprecated. Use 'static_attributes' in the future\",\n"
     ]
    },
    {
     "name": "stdout",
     "output_type": "stream",
     "text": [
      "# Evaluation:  87%|████████▋ | 581/669 [05:52<00:51,  1.70it/s]"
     ]
    },
    {
     "name": "stderr",
     "output_type": "stream",
     "text": [
      "/home/tommy/neuralhydrology/neuralhydrology/utils/config.py:597: FutureWarning: 'camels_attributes' will be deprecated. Use 'static_attributes' in the future\n",
      "  warnings.warn(\"'camels_attributes' will be deprecated. Use 'static_attributes' in the future\",\n"
     ]
    },
    {
     "name": "stdout",
     "output_type": "stream",
     "text": [
      "# Evaluation:  87%|████████▋ | 582/669 [05:53<00:51,  1.68it/s]"
     ]
    },
    {
     "name": "stderr",
     "output_type": "stream",
     "text": [
      "/home/tommy/neuralhydrology/neuralhydrology/utils/config.py:597: FutureWarning: 'camels_attributes' will be deprecated. Use 'static_attributes' in the future\n",
      "  warnings.warn(\"'camels_attributes' will be deprecated. Use 'static_attributes' in the future\",\n"
     ]
    },
    {
     "name": "stdout",
     "output_type": "stream",
     "text": [
      "# Evaluation:  87%|████████▋ | 583/669 [05:53<00:51,  1.67it/s]"
     ]
    },
    {
     "name": "stderr",
     "output_type": "stream",
     "text": [
      "/home/tommy/neuralhydrology/neuralhydrology/utils/config.py:597: FutureWarning: 'camels_attributes' will be deprecated. Use 'static_attributes' in the future\n",
      "  warnings.warn(\"'camels_attributes' will be deprecated. Use 'static_attributes' in the future\",\n"
     ]
    },
    {
     "name": "stdout",
     "output_type": "stream",
     "text": [
      "# Evaluation:  87%|████████▋ | 584/669 [05:54<00:51,  1.66it/s]"
     ]
    },
    {
     "name": "stderr",
     "output_type": "stream",
     "text": [
      "/home/tommy/neuralhydrology/neuralhydrology/utils/config.py:597: FutureWarning: 'camels_attributes' will be deprecated. Use 'static_attributes' in the future\n",
      "  warnings.warn(\"'camels_attributes' will be deprecated. Use 'static_attributes' in the future\",\n"
     ]
    },
    {
     "name": "stdout",
     "output_type": "stream",
     "text": [
      "# Evaluation:  87%|████████▋ | 585/669 [05:55<00:52,  1.59it/s]"
     ]
    },
    {
     "name": "stderr",
     "output_type": "stream",
     "text": [
      "/home/tommy/neuralhydrology/neuralhydrology/utils/config.py:597: FutureWarning: 'camels_attributes' will be deprecated. Use 'static_attributes' in the future\n",
      "  warnings.warn(\"'camels_attributes' will be deprecated. Use 'static_attributes' in the future\",\n"
     ]
    },
    {
     "name": "stdout",
     "output_type": "stream",
     "text": [
      "# Evaluation:  88%|████████▊ | 586/669 [05:55<00:48,  1.70it/s]"
     ]
    },
    {
     "name": "stderr",
     "output_type": "stream",
     "text": [
      "/home/tommy/neuralhydrology/neuralhydrology/utils/config.py:597: FutureWarning: 'camels_attributes' will be deprecated. Use 'static_attributes' in the future\n",
      "  warnings.warn(\"'camels_attributes' will be deprecated. Use 'static_attributes' in the future\",\n"
     ]
    },
    {
     "name": "stdout",
     "output_type": "stream",
     "text": [
      "# Evaluation:  88%|████████▊ | 587/669 [05:56<00:48,  1.69it/s]"
     ]
    },
    {
     "name": "stderr",
     "output_type": "stream",
     "text": [
      "/home/tommy/neuralhydrology/neuralhydrology/utils/config.py:597: FutureWarning: 'camels_attributes' will be deprecated. Use 'static_attributes' in the future\n",
      "  warnings.warn(\"'camels_attributes' will be deprecated. Use 'static_attributes' in the future\",\n"
     ]
    },
    {
     "name": "stdout",
     "output_type": "stream",
     "text": [
      "# Evaluation:  88%|████████▊ | 588/669 [05:56<00:48,  1.68it/s]"
     ]
    },
    {
     "name": "stderr",
     "output_type": "stream",
     "text": [
      "/home/tommy/neuralhydrology/neuralhydrology/utils/config.py:597: FutureWarning: 'camels_attributes' will be deprecated. Use 'static_attributes' in the future\n",
      "  warnings.warn(\"'camels_attributes' will be deprecated. Use 'static_attributes' in the future\",\n"
     ]
    },
    {
     "name": "stdout",
     "output_type": "stream",
     "text": [
      "# Evaluation:  88%|████████▊ | 589/669 [05:57<00:48,  1.66it/s]"
     ]
    },
    {
     "name": "stderr",
     "output_type": "stream",
     "text": [
      "/home/tommy/neuralhydrology/neuralhydrology/utils/config.py:597: FutureWarning: 'camels_attributes' will be deprecated. Use 'static_attributes' in the future\n",
      "  warnings.warn(\"'camels_attributes' will be deprecated. Use 'static_attributes' in the future\",\n"
     ]
    },
    {
     "name": "stdout",
     "output_type": "stream",
     "text": [
      "# Evaluation:  88%|████████▊ | 590/669 [05:58<00:47,  1.66it/s]"
     ]
    },
    {
     "name": "stderr",
     "output_type": "stream",
     "text": [
      "/home/tommy/neuralhydrology/neuralhydrology/utils/config.py:597: FutureWarning: 'camels_attributes' will be deprecated. Use 'static_attributes' in the future\n",
      "  warnings.warn(\"'camels_attributes' will be deprecated. Use 'static_attributes' in the future\",\n"
     ]
    },
    {
     "name": "stdout",
     "output_type": "stream",
     "text": [
      "# Evaluation:  88%|████████▊ | 591/669 [05:58<00:47,  1.65it/s]"
     ]
    },
    {
     "name": "stderr",
     "output_type": "stream",
     "text": [
      "/home/tommy/neuralhydrology/neuralhydrology/utils/config.py:597: FutureWarning: 'camels_attributes' will be deprecated. Use 'static_attributes' in the future\n",
      "  warnings.warn(\"'camels_attributes' will be deprecated. Use 'static_attributes' in the future\",\n"
     ]
    },
    {
     "name": "stdout",
     "output_type": "stream",
     "text": [
      "# Evaluation:  88%|████████▊ | 592/669 [05:59<00:46,  1.65it/s]"
     ]
    },
    {
     "name": "stderr",
     "output_type": "stream",
     "text": [
      "/home/tommy/neuralhydrology/neuralhydrology/utils/config.py:597: FutureWarning: 'camels_attributes' will be deprecated. Use 'static_attributes' in the future\n",
      "  warnings.warn(\"'camels_attributes' will be deprecated. Use 'static_attributes' in the future\",\n"
     ]
    },
    {
     "name": "stdout",
     "output_type": "stream",
     "text": [
      "# Evaluation:  89%|████████▊ | 593/669 [05:59<00:46,  1.64it/s]"
     ]
    },
    {
     "name": "stderr",
     "output_type": "stream",
     "text": [
      "/home/tommy/neuralhydrology/neuralhydrology/utils/config.py:597: FutureWarning: 'camels_attributes' will be deprecated. Use 'static_attributes' in the future\n",
      "  warnings.warn(\"'camels_attributes' will be deprecated. Use 'static_attributes' in the future\",\n"
     ]
    },
    {
     "name": "stdout",
     "output_type": "stream",
     "text": [
      "# Evaluation:  89%|████████▉ | 594/669 [06:00<00:45,  1.65it/s]"
     ]
    },
    {
     "name": "stderr",
     "output_type": "stream",
     "text": [
      "/home/tommy/neuralhydrology/neuralhydrology/utils/config.py:597: FutureWarning: 'camels_attributes' will be deprecated. Use 'static_attributes' in the future\n",
      "  warnings.warn(\"'camels_attributes' will be deprecated. Use 'static_attributes' in the future\",\n"
     ]
    },
    {
     "name": "stdout",
     "output_type": "stream",
     "text": [
      "# Evaluation:  89%|████████▉ | 595/669 [06:01<00:46,  1.58it/s]"
     ]
    },
    {
     "name": "stderr",
     "output_type": "stream",
     "text": [
      "/home/tommy/neuralhydrology/neuralhydrology/utils/config.py:597: FutureWarning: 'camels_attributes' will be deprecated. Use 'static_attributes' in the future\n",
      "  warnings.warn(\"'camels_attributes' will be deprecated. Use 'static_attributes' in the future\",\n"
     ]
    },
    {
     "name": "stdout",
     "output_type": "stream",
     "text": [
      "# Evaluation:  89%|████████▉ | 596/669 [06:01<00:45,  1.59it/s]"
     ]
    },
    {
     "name": "stderr",
     "output_type": "stream",
     "text": [
      "/home/tommy/neuralhydrology/neuralhydrology/utils/config.py:597: FutureWarning: 'camels_attributes' will be deprecated. Use 'static_attributes' in the future\n",
      "  warnings.warn(\"'camels_attributes' will be deprecated. Use 'static_attributes' in the future\",\n"
     ]
    },
    {
     "name": "stdout",
     "output_type": "stream",
     "text": [
      "# Evaluation:  89%|████████▉ | 597/669 [06:02<00:43,  1.66it/s]"
     ]
    },
    {
     "name": "stderr",
     "output_type": "stream",
     "text": [
      "/home/tommy/neuralhydrology/neuralhydrology/utils/config.py:597: FutureWarning: 'camels_attributes' will be deprecated. Use 'static_attributes' in the future\n",
      "  warnings.warn(\"'camels_attributes' will be deprecated. Use 'static_attributes' in the future\",\n"
     ]
    },
    {
     "name": "stdout",
     "output_type": "stream",
     "text": [
      "# Evaluation:  89%|████████▉ | 598/669 [06:03<00:43,  1.65it/s]"
     ]
    },
    {
     "name": "stderr",
     "output_type": "stream",
     "text": [
      "/home/tommy/neuralhydrology/neuralhydrology/utils/config.py:597: FutureWarning: 'camels_attributes' will be deprecated. Use 'static_attributes' in the future\n",
      "  warnings.warn(\"'camels_attributes' will be deprecated. Use 'static_attributes' in the future\",\n"
     ]
    },
    {
     "name": "stdout",
     "output_type": "stream",
     "text": [
      "# Evaluation:  90%|████████▉ | 599/669 [06:03<00:42,  1.64it/s]"
     ]
    },
    {
     "name": "stderr",
     "output_type": "stream",
     "text": [
      "/home/tommy/neuralhydrology/neuralhydrology/utils/config.py:597: FutureWarning: 'camels_attributes' will be deprecated. Use 'static_attributes' in the future\n",
      "  warnings.warn(\"'camels_attributes' will be deprecated. Use 'static_attributes' in the future\",\n"
     ]
    },
    {
     "name": "stdout",
     "output_type": "stream",
     "text": [
      "# Evaluation:  90%|████████▉ | 600/669 [06:04<00:42,  1.64it/s]"
     ]
    },
    {
     "name": "stderr",
     "output_type": "stream",
     "text": [
      "/home/tommy/neuralhydrology/neuralhydrology/utils/config.py:597: FutureWarning: 'camels_attributes' will be deprecated. Use 'static_attributes' in the future\n",
      "  warnings.warn(\"'camels_attributes' will be deprecated. Use 'static_attributes' in the future\",\n"
     ]
    },
    {
     "name": "stdout",
     "output_type": "stream",
     "text": [
      "# Evaluation:  90%|████████▉ | 601/669 [06:04<00:41,  1.65it/s]"
     ]
    },
    {
     "name": "stderr",
     "output_type": "stream",
     "text": [
      "/home/tommy/neuralhydrology/neuralhydrology/utils/config.py:597: FutureWarning: 'camels_attributes' will be deprecated. Use 'static_attributes' in the future\n",
      "  warnings.warn(\"'camels_attributes' will be deprecated. Use 'static_attributes' in the future\",\n"
     ]
    },
    {
     "name": "stdout",
     "output_type": "stream",
     "text": [
      "# Evaluation:  90%|████████▉ | 602/669 [06:05<00:40,  1.64it/s]"
     ]
    },
    {
     "name": "stderr",
     "output_type": "stream",
     "text": [
      "/home/tommy/neuralhydrology/neuralhydrology/utils/config.py:597: FutureWarning: 'camels_attributes' will be deprecated. Use 'static_attributes' in the future\n",
      "  warnings.warn(\"'camels_attributes' will be deprecated. Use 'static_attributes' in the future\",\n"
     ]
    },
    {
     "name": "stdout",
     "output_type": "stream",
     "text": [
      "# Evaluation:  90%|█████████ | 603/669 [06:06<00:40,  1.64it/s]"
     ]
    },
    {
     "name": "stderr",
     "output_type": "stream",
     "text": [
      "/home/tommy/neuralhydrology/neuralhydrology/utils/config.py:597: FutureWarning: 'camels_attributes' will be deprecated. Use 'static_attributes' in the future\n",
      "  warnings.warn(\"'camels_attributes' will be deprecated. Use 'static_attributes' in the future\",\n"
     ]
    },
    {
     "name": "stdout",
     "output_type": "stream",
     "text": [
      "# Evaluation:  90%|█████████ | 604/669 [06:06<00:39,  1.64it/s]"
     ]
    },
    {
     "name": "stderr",
     "output_type": "stream",
     "text": [
      "/home/tommy/neuralhydrology/neuralhydrology/utils/config.py:597: FutureWarning: 'camels_attributes' will be deprecated. Use 'static_attributes' in the future\n",
      "  warnings.warn(\"'camels_attributes' will be deprecated. Use 'static_attributes' in the future\",\n"
     ]
    },
    {
     "name": "stdout",
     "output_type": "stream",
     "text": [
      "# Evaluation:  90%|█████████ | 605/669 [06:07<00:41,  1.55it/s]"
     ]
    },
    {
     "name": "stderr",
     "output_type": "stream",
     "text": [
      "/home/tommy/neuralhydrology/neuralhydrology/utils/config.py:597: FutureWarning: 'camels_attributes' will be deprecated. Use 'static_attributes' in the future\n",
      "  warnings.warn(\"'camels_attributes' will be deprecated. Use 'static_attributes' in the future\",\n"
     ]
    },
    {
     "name": "stdout",
     "output_type": "stream",
     "text": [
      "# Evaluation:  91%|█████████ | 606/669 [06:08<00:39,  1.58it/s]"
     ]
    },
    {
     "name": "stderr",
     "output_type": "stream",
     "text": [
      "/home/tommy/neuralhydrology/neuralhydrology/utils/config.py:597: FutureWarning: 'camels_attributes' will be deprecated. Use 'static_attributes' in the future\n",
      "  warnings.warn(\"'camels_attributes' will be deprecated. Use 'static_attributes' in the future\",\n"
     ]
    },
    {
     "name": "stdout",
     "output_type": "stream",
     "text": [
      "# Evaluation:  91%|█████████ | 607/669 [06:08<00:38,  1.60it/s]"
     ]
    },
    {
     "name": "stderr",
     "output_type": "stream",
     "text": [
      "/home/tommy/neuralhydrology/neuralhydrology/utils/config.py:597: FutureWarning: 'camels_attributes' will be deprecated. Use 'static_attributes' in the future\n",
      "  warnings.warn(\"'camels_attributes' will be deprecated. Use 'static_attributes' in the future\",\n"
     ]
    },
    {
     "name": "stdout",
     "output_type": "stream",
     "text": [
      "# Evaluation:  91%|█████████ | 608/669 [06:09<00:37,  1.61it/s]"
     ]
    },
    {
     "name": "stderr",
     "output_type": "stream",
     "text": [
      "/home/tommy/neuralhydrology/neuralhydrology/utils/config.py:597: FutureWarning: 'camels_attributes' will be deprecated. Use 'static_attributes' in the future\n",
      "  warnings.warn(\"'camels_attributes' will be deprecated. Use 'static_attributes' in the future\",\n"
     ]
    },
    {
     "name": "stdout",
     "output_type": "stream",
     "text": [
      "# Evaluation:  91%|█████████ | 609/669 [06:09<00:36,  1.62it/s]"
     ]
    },
    {
     "name": "stderr",
     "output_type": "stream",
     "text": [
      "/home/tommy/neuralhydrology/neuralhydrology/utils/config.py:597: FutureWarning: 'camels_attributes' will be deprecated. Use 'static_attributes' in the future\n",
      "  warnings.warn(\"'camels_attributes' will be deprecated. Use 'static_attributes' in the future\",\n"
     ]
    },
    {
     "name": "stdout",
     "output_type": "stream",
     "text": [
      "# Evaluation:  91%|█████████ | 610/669 [06:10<00:34,  1.69it/s]"
     ]
    },
    {
     "name": "stderr",
     "output_type": "stream",
     "text": [
      "/home/tommy/neuralhydrology/neuralhydrology/utils/config.py:597: FutureWarning: 'camels_attributes' will be deprecated. Use 'static_attributes' in the future\n",
      "  warnings.warn(\"'camels_attributes' will be deprecated. Use 'static_attributes' in the future\",\n"
     ]
    },
    {
     "name": "stdout",
     "output_type": "stream",
     "text": [
      "# Evaluation:  91%|█████████▏| 611/669 [06:10<00:33,  1.74it/s]"
     ]
    },
    {
     "name": "stderr",
     "output_type": "stream",
     "text": [
      "/home/tommy/neuralhydrology/neuralhydrology/utils/config.py:597: FutureWarning: 'camels_attributes' will be deprecated. Use 'static_attributes' in the future\n",
      "  warnings.warn(\"'camels_attributes' will be deprecated. Use 'static_attributes' in the future\",\n"
     ]
    },
    {
     "name": "stdout",
     "output_type": "stream",
     "text": [
      "# Evaluation:  91%|█████████▏| 612/669 [06:11<00:33,  1.71it/s]"
     ]
    },
    {
     "name": "stderr",
     "output_type": "stream",
     "text": [
      "/home/tommy/neuralhydrology/neuralhydrology/utils/config.py:597: FutureWarning: 'camels_attributes' will be deprecated. Use 'static_attributes' in the future\n",
      "  warnings.warn(\"'camels_attributes' will be deprecated. Use 'static_attributes' in the future\",\n"
     ]
    },
    {
     "name": "stdout",
     "output_type": "stream",
     "text": [
      "# Evaluation:  92%|█████████▏| 613/669 [06:12<00:32,  1.72it/s]"
     ]
    },
    {
     "name": "stderr",
     "output_type": "stream",
     "text": [
      "/home/tommy/neuralhydrology/neuralhydrology/utils/config.py:597: FutureWarning: 'camels_attributes' will be deprecated. Use 'static_attributes' in the future\n",
      "  warnings.warn(\"'camels_attributes' will be deprecated. Use 'static_attributes' in the future\",\n"
     ]
    },
    {
     "name": "stdout",
     "output_type": "stream",
     "text": [
      "# Evaluation:  92%|█████████▏| 614/669 [06:12<00:32,  1.69it/s]"
     ]
    },
    {
     "name": "stderr",
     "output_type": "stream",
     "text": [
      "/home/tommy/neuralhydrology/neuralhydrology/utils/config.py:597: FutureWarning: 'camels_attributes' will be deprecated. Use 'static_attributes' in the future\n",
      "  warnings.warn(\"'camels_attributes' will be deprecated. Use 'static_attributes' in the future\",\n"
     ]
    },
    {
     "name": "stdout",
     "output_type": "stream",
     "text": [
      "# Evaluation:  92%|█████████▏| 615/669 [06:13<00:34,  1.56it/s]"
     ]
    },
    {
     "name": "stderr",
     "output_type": "stream",
     "text": [
      "/home/tommy/neuralhydrology/neuralhydrology/utils/config.py:597: FutureWarning: 'camels_attributes' will be deprecated. Use 'static_attributes' in the future\n",
      "  warnings.warn(\"'camels_attributes' will be deprecated. Use 'static_attributes' in the future\",\n"
     ]
    },
    {
     "name": "stdout",
     "output_type": "stream",
     "text": [
      "# Evaluation:  92%|█████████▏| 616/669 [06:14<00:33,  1.58it/s]"
     ]
    },
    {
     "name": "stderr",
     "output_type": "stream",
     "text": [
      "/home/tommy/neuralhydrology/neuralhydrology/utils/config.py:597: FutureWarning: 'camels_attributes' will be deprecated. Use 'static_attributes' in the future\n",
      "  warnings.warn(\"'camels_attributes' will be deprecated. Use 'static_attributes' in the future\",\n"
     ]
    },
    {
     "name": "stdout",
     "output_type": "stream",
     "text": [
      "# Evaluation:  92%|█████████▏| 617/669 [06:14<00:32,  1.60it/s]"
     ]
    },
    {
     "name": "stderr",
     "output_type": "stream",
     "text": [
      "/home/tommy/neuralhydrology/neuralhydrology/utils/config.py:597: FutureWarning: 'camels_attributes' will be deprecated. Use 'static_attributes' in the future\n",
      "  warnings.warn(\"'camels_attributes' will be deprecated. Use 'static_attributes' in the future\",\n"
     ]
    },
    {
     "name": "stdout",
     "output_type": "stream",
     "text": [
      "# Evaluation:  92%|█████████▏| 618/669 [06:15<00:31,  1.61it/s]"
     ]
    },
    {
     "name": "stderr",
     "output_type": "stream",
     "text": [
      "/home/tommy/neuralhydrology/neuralhydrology/utils/config.py:597: FutureWarning: 'camels_attributes' will be deprecated. Use 'static_attributes' in the future\n",
      "  warnings.warn(\"'camels_attributes' will be deprecated. Use 'static_attributes' in the future\",\n"
     ]
    },
    {
     "name": "stdout",
     "output_type": "stream",
     "text": [
      "# Evaluation:  93%|█████████▎| 619/669 [06:15<00:30,  1.62it/s]"
     ]
    },
    {
     "name": "stderr",
     "output_type": "stream",
     "text": [
      "/home/tommy/neuralhydrology/neuralhydrology/utils/config.py:597: FutureWarning: 'camels_attributes' will be deprecated. Use 'static_attributes' in the future\n",
      "  warnings.warn(\"'camels_attributes' will be deprecated. Use 'static_attributes' in the future\",\n"
     ]
    },
    {
     "name": "stdout",
     "output_type": "stream",
     "text": [
      "# Evaluation:  93%|█████████▎| 620/669 [06:16<00:30,  1.63it/s]"
     ]
    },
    {
     "name": "stderr",
     "output_type": "stream",
     "text": [
      "/home/tommy/neuralhydrology/neuralhydrology/utils/config.py:597: FutureWarning: 'camels_attributes' will be deprecated. Use 'static_attributes' in the future\n",
      "  warnings.warn(\"'camels_attributes' will be deprecated. Use 'static_attributes' in the future\",\n"
     ]
    },
    {
     "name": "stdout",
     "output_type": "stream",
     "text": [
      "# Evaluation:  93%|█████████▎| 621/669 [06:17<00:29,  1.63it/s]"
     ]
    },
    {
     "name": "stderr",
     "output_type": "stream",
     "text": [
      "/home/tommy/neuralhydrology/neuralhydrology/utils/config.py:597: FutureWarning: 'camels_attributes' will be deprecated. Use 'static_attributes' in the future\n",
      "  warnings.warn(\"'camels_attributes' will be deprecated. Use 'static_attributes' in the future\",\n"
     ]
    },
    {
     "name": "stdout",
     "output_type": "stream",
     "text": [
      "# Evaluation:  93%|█████████▎| 622/669 [06:17<00:28,  1.63it/s]"
     ]
    },
    {
     "name": "stderr",
     "output_type": "stream",
     "text": [
      "/home/tommy/neuralhydrology/neuralhydrology/utils/config.py:597: FutureWarning: 'camels_attributes' will be deprecated. Use 'static_attributes' in the future\n",
      "  warnings.warn(\"'camels_attributes' will be deprecated. Use 'static_attributes' in the future\",\n"
     ]
    },
    {
     "name": "stdout",
     "output_type": "stream",
     "text": [
      "# Evaluation:  93%|█████████▎| 623/669 [06:18<00:27,  1.68it/s]"
     ]
    },
    {
     "name": "stderr",
     "output_type": "stream",
     "text": [
      "/home/tommy/neuralhydrology/neuralhydrology/utils/config.py:597: FutureWarning: 'camels_attributes' will be deprecated. Use 'static_attributes' in the future\n",
      "  warnings.warn(\"'camels_attributes' will be deprecated. Use 'static_attributes' in the future\",\n"
     ]
    },
    {
     "name": "stdout",
     "output_type": "stream",
     "text": [
      "# Evaluation:  93%|█████████▎| 624/669 [06:18<00:26,  1.70it/s]"
     ]
    },
    {
     "name": "stderr",
     "output_type": "stream",
     "text": [
      "/home/tommy/neuralhydrology/neuralhydrology/utils/config.py:597: FutureWarning: 'camels_attributes' will be deprecated. Use 'static_attributes' in the future\n",
      "  warnings.warn(\"'camels_attributes' will be deprecated. Use 'static_attributes' in the future\",\n"
     ]
    },
    {
     "name": "stdout",
     "output_type": "stream",
     "text": [
      "# Evaluation:  93%|█████████▎| 625/669 [06:19<00:27,  1.57it/s]"
     ]
    },
    {
     "name": "stderr",
     "output_type": "stream",
     "text": [
      "/home/tommy/neuralhydrology/neuralhydrology/utils/config.py:597: FutureWarning: 'camels_attributes' will be deprecated. Use 'static_attributes' in the future\n",
      "  warnings.warn(\"'camels_attributes' will be deprecated. Use 'static_attributes' in the future\",\n"
     ]
    },
    {
     "name": "stdout",
     "output_type": "stream",
     "text": [
      "# Evaluation:  94%|█████████▎| 626/669 [06:20<00:26,  1.61it/s]"
     ]
    },
    {
     "name": "stderr",
     "output_type": "stream",
     "text": [
      "/home/tommy/neuralhydrology/neuralhydrology/utils/config.py:597: FutureWarning: 'camels_attributes' will be deprecated. Use 'static_attributes' in the future\n",
      "  warnings.warn(\"'camels_attributes' will be deprecated. Use 'static_attributes' in the future\",\n"
     ]
    },
    {
     "name": "stdout",
     "output_type": "stream",
     "text": [
      "# Evaluation:  94%|█████████▎| 627/669 [06:20<00:25,  1.65it/s]"
     ]
    },
    {
     "name": "stderr",
     "output_type": "stream",
     "text": [
      "/home/tommy/neuralhydrology/neuralhydrology/utils/config.py:597: FutureWarning: 'camels_attributes' will be deprecated. Use 'static_attributes' in the future\n",
      "  warnings.warn(\"'camels_attributes' will be deprecated. Use 'static_attributes' in the future\",\n"
     ]
    },
    {
     "name": "stdout",
     "output_type": "stream",
     "text": [
      "# Evaluation:  94%|█████████▍| 628/669 [06:21<00:24,  1.64it/s]"
     ]
    },
    {
     "name": "stderr",
     "output_type": "stream",
     "text": [
      "/home/tommy/neuralhydrology/neuralhydrology/utils/config.py:597: FutureWarning: 'camels_attributes' will be deprecated. Use 'static_attributes' in the future\n",
      "  warnings.warn(\"'camels_attributes' will be deprecated. Use 'static_attributes' in the future\",\n"
     ]
    },
    {
     "name": "stdout",
     "output_type": "stream",
     "text": [
      "# Evaluation:  94%|█████████▍| 629/669 [06:21<00:23,  1.67it/s]"
     ]
    },
    {
     "name": "stderr",
     "output_type": "stream",
     "text": [
      "/home/tommy/neuralhydrology/neuralhydrology/utils/config.py:597: FutureWarning: 'camels_attributes' will be deprecated. Use 'static_attributes' in the future\n",
      "  warnings.warn(\"'camels_attributes' will be deprecated. Use 'static_attributes' in the future\",\n"
     ]
    },
    {
     "name": "stdout",
     "output_type": "stream",
     "text": [
      "# Evaluation:  94%|█████████▍| 630/669 [06:22<00:23,  1.66it/s]"
     ]
    },
    {
     "name": "stderr",
     "output_type": "stream",
     "text": [
      "/home/tommy/neuralhydrology/neuralhydrology/utils/config.py:597: FutureWarning: 'camels_attributes' will be deprecated. Use 'static_attributes' in the future\n",
      "  warnings.warn(\"'camels_attributes' will be deprecated. Use 'static_attributes' in the future\",\n"
     ]
    },
    {
     "name": "stdout",
     "output_type": "stream",
     "text": [
      "# Evaluation:  94%|█████████▍| 631/669 [06:23<00:23,  1.65it/s]"
     ]
    },
    {
     "name": "stderr",
     "output_type": "stream",
     "text": [
      "/home/tommy/neuralhydrology/neuralhydrology/utils/config.py:597: FutureWarning: 'camels_attributes' will be deprecated. Use 'static_attributes' in the future\n",
      "  warnings.warn(\"'camels_attributes' will be deprecated. Use 'static_attributes' in the future\",\n"
     ]
    },
    {
     "name": "stdout",
     "output_type": "stream",
     "text": [
      "# Evaluation:  94%|█████████▍| 632/669 [06:23<00:22,  1.67it/s]"
     ]
    },
    {
     "name": "stderr",
     "output_type": "stream",
     "text": [
      "/home/tommy/neuralhydrology/neuralhydrology/utils/config.py:597: FutureWarning: 'camels_attributes' will be deprecated. Use 'static_attributes' in the future\n",
      "  warnings.warn(\"'camels_attributes' will be deprecated. Use 'static_attributes' in the future\",\n"
     ]
    },
    {
     "name": "stdout",
     "output_type": "stream",
     "text": [
      "# Evaluation:  95%|█████████▍| 633/669 [06:24<00:21,  1.66it/s]"
     ]
    },
    {
     "name": "stderr",
     "output_type": "stream",
     "text": [
      "/home/tommy/neuralhydrology/neuralhydrology/utils/config.py:597: FutureWarning: 'camels_attributes' will be deprecated. Use 'static_attributes' in the future\n",
      "  warnings.warn(\"'camels_attributes' will be deprecated. Use 'static_attributes' in the future\",\n"
     ]
    },
    {
     "name": "stdout",
     "output_type": "stream",
     "text": [
      "# Evaluation:  95%|█████████▍| 634/669 [06:25<00:21,  1.65it/s]"
     ]
    },
    {
     "name": "stderr",
     "output_type": "stream",
     "text": [
      "/home/tommy/neuralhydrology/neuralhydrology/utils/config.py:597: FutureWarning: 'camels_attributes' will be deprecated. Use 'static_attributes' in the future\n",
      "  warnings.warn(\"'camels_attributes' will be deprecated. Use 'static_attributes' in the future\",\n"
     ]
    },
    {
     "name": "stdout",
     "output_type": "stream",
     "text": [
      "# Evaluation:  95%|█████████▍| 635/669 [06:25<00:21,  1.55it/s]"
     ]
    },
    {
     "name": "stderr",
     "output_type": "stream",
     "text": [
      "/home/tommy/neuralhydrology/neuralhydrology/utils/config.py:597: FutureWarning: 'camels_attributes' will be deprecated. Use 'static_attributes' in the future\n",
      "  warnings.warn(\"'camels_attributes' will be deprecated. Use 'static_attributes' in the future\",\n"
     ]
    },
    {
     "name": "stdout",
     "output_type": "stream",
     "text": [
      "# Evaluation:  95%|█████████▌| 636/669 [06:26<00:21,  1.57it/s]"
     ]
    },
    {
     "name": "stderr",
     "output_type": "stream",
     "text": [
      "/home/tommy/neuralhydrology/neuralhydrology/utils/config.py:597: FutureWarning: 'camels_attributes' will be deprecated. Use 'static_attributes' in the future\n",
      "  warnings.warn(\"'camels_attributes' will be deprecated. Use 'static_attributes' in the future\",\n"
     ]
    },
    {
     "name": "stdout",
     "output_type": "stream",
     "text": [
      "# Evaluation:  95%|█████████▌| 637/669 [06:26<00:20,  1.59it/s]"
     ]
    },
    {
     "name": "stderr",
     "output_type": "stream",
     "text": [
      "/home/tommy/neuralhydrology/neuralhydrology/utils/config.py:597: FutureWarning: 'camels_attributes' will be deprecated. Use 'static_attributes' in the future\n",
      "  warnings.warn(\"'camels_attributes' will be deprecated. Use 'static_attributes' in the future\",\n"
     ]
    },
    {
     "name": "stdout",
     "output_type": "stream",
     "text": [
      "# Evaluation:  95%|█████████▌| 638/669 [06:27<00:19,  1.61it/s]"
     ]
    },
    {
     "name": "stderr",
     "output_type": "stream",
     "text": [
      "/home/tommy/neuralhydrology/neuralhydrology/utils/config.py:597: FutureWarning: 'camels_attributes' will be deprecated. Use 'static_attributes' in the future\n",
      "  warnings.warn(\"'camels_attributes' will be deprecated. Use 'static_attributes' in the future\",\n"
     ]
    },
    {
     "name": "stdout",
     "output_type": "stream",
     "text": [
      "# Evaluation:  96%|█████████▌| 639/669 [06:28<00:18,  1.63it/s]"
     ]
    },
    {
     "name": "stderr",
     "output_type": "stream",
     "text": [
      "/home/tommy/neuralhydrology/neuralhydrology/utils/config.py:597: FutureWarning: 'camels_attributes' will be deprecated. Use 'static_attributes' in the future\n",
      "  warnings.warn(\"'camels_attributes' will be deprecated. Use 'static_attributes' in the future\",\n"
     ]
    },
    {
     "name": "stdout",
     "output_type": "stream",
     "text": [
      "# Evaluation:  96%|█████████▌| 640/669 [06:28<00:17,  1.65it/s]"
     ]
    },
    {
     "name": "stderr",
     "output_type": "stream",
     "text": [
      "/home/tommy/neuralhydrology/neuralhydrology/utils/config.py:597: FutureWarning: 'camels_attributes' will be deprecated. Use 'static_attributes' in the future\n",
      "  warnings.warn(\"'camels_attributes' will be deprecated. Use 'static_attributes' in the future\",\n"
     ]
    },
    {
     "name": "stdout",
     "output_type": "stream",
     "text": [
      "# Evaluation:  96%|█████████▌| 641/669 [06:29<00:16,  1.65it/s]"
     ]
    },
    {
     "name": "stderr",
     "output_type": "stream",
     "text": [
      "/home/tommy/neuralhydrology/neuralhydrology/utils/config.py:597: FutureWarning: 'camels_attributes' will be deprecated. Use 'static_attributes' in the future\n",
      "  warnings.warn(\"'camels_attributes' will be deprecated. Use 'static_attributes' in the future\",\n"
     ]
    },
    {
     "name": "stdout",
     "output_type": "stream",
     "text": [
      "# Evaluation:  96%|█████████▌| 642/669 [06:29<00:16,  1.65it/s]"
     ]
    },
    {
     "name": "stderr",
     "output_type": "stream",
     "text": [
      "/home/tommy/neuralhydrology/neuralhydrology/utils/config.py:597: FutureWarning: 'camels_attributes' will be deprecated. Use 'static_attributes' in the future\n",
      "  warnings.warn(\"'camels_attributes' will be deprecated. Use 'static_attributes' in the future\",\n"
     ]
    },
    {
     "name": "stdout",
     "output_type": "stream",
     "text": [
      "# Evaluation:  96%|█████████▌| 643/669 [06:30<00:15,  1.64it/s]"
     ]
    },
    {
     "name": "stderr",
     "output_type": "stream",
     "text": [
      "/home/tommy/neuralhydrology/neuralhydrology/utils/config.py:597: FutureWarning: 'camels_attributes' will be deprecated. Use 'static_attributes' in the future\n",
      "  warnings.warn(\"'camels_attributes' will be deprecated. Use 'static_attributes' in the future\",\n"
     ]
    },
    {
     "name": "stdout",
     "output_type": "stream",
     "text": [
      "# Evaluation:  96%|█████████▋| 644/669 [06:31<00:15,  1.64it/s]"
     ]
    },
    {
     "name": "stderr",
     "output_type": "stream",
     "text": [
      "/home/tommy/neuralhydrology/neuralhydrology/utils/config.py:597: FutureWarning: 'camels_attributes' will be deprecated. Use 'static_attributes' in the future\n",
      "  warnings.warn(\"'camels_attributes' will be deprecated. Use 'static_attributes' in the future\",\n"
     ]
    },
    {
     "name": "stdout",
     "output_type": "stream",
     "text": [
      "# Evaluation:  96%|█████████▋| 645/669 [06:31<00:15,  1.54it/s]"
     ]
    },
    {
     "name": "stderr",
     "output_type": "stream",
     "text": [
      "/home/tommy/neuralhydrology/neuralhydrology/utils/config.py:597: FutureWarning: 'camels_attributes' will be deprecated. Use 'static_attributes' in the future\n",
      "  warnings.warn(\"'camels_attributes' will be deprecated. Use 'static_attributes' in the future\",\n"
     ]
    },
    {
     "name": "stdout",
     "output_type": "stream",
     "text": [
      "# Evaluation:  97%|█████████▋| 646/669 [06:32<00:14,  1.56it/s]"
     ]
    },
    {
     "name": "stderr",
     "output_type": "stream",
     "text": [
      "/home/tommy/neuralhydrology/neuralhydrology/utils/config.py:597: FutureWarning: 'camels_attributes' will be deprecated. Use 'static_attributes' in the future\n",
      "  warnings.warn(\"'camels_attributes' will be deprecated. Use 'static_attributes' in the future\",\n"
     ]
    },
    {
     "name": "stdout",
     "output_type": "stream",
     "text": [
      "# Evaluation:  97%|█████████▋| 647/669 [06:33<00:13,  1.59it/s]"
     ]
    },
    {
     "name": "stderr",
     "output_type": "stream",
     "text": [
      "/home/tommy/neuralhydrology/neuralhydrology/utils/config.py:597: FutureWarning: 'camels_attributes' will be deprecated. Use 'static_attributes' in the future\n",
      "  warnings.warn(\"'camels_attributes' will be deprecated. Use 'static_attributes' in the future\",\n"
     ]
    },
    {
     "name": "stdout",
     "output_type": "stream",
     "text": [
      "# Evaluation:  97%|█████████▋| 648/669 [06:33<00:12,  1.62it/s]"
     ]
    },
    {
     "name": "stderr",
     "output_type": "stream",
     "text": [
      "/home/tommy/neuralhydrology/neuralhydrology/utils/config.py:597: FutureWarning: 'camels_attributes' will be deprecated. Use 'static_attributes' in the future\n",
      "  warnings.warn(\"'camels_attributes' will be deprecated. Use 'static_attributes' in the future\",\n"
     ]
    },
    {
     "name": "stdout",
     "output_type": "stream",
     "text": [
      "# Evaluation:  97%|█████████▋| 649/669 [06:34<00:12,  1.65it/s]"
     ]
    },
    {
     "name": "stderr",
     "output_type": "stream",
     "text": [
      "/home/tommy/neuralhydrology/neuralhydrology/utils/config.py:597: FutureWarning: 'camels_attributes' will be deprecated. Use 'static_attributes' in the future\n",
      "  warnings.warn(\"'camels_attributes' will be deprecated. Use 'static_attributes' in the future\",\n"
     ]
    },
    {
     "name": "stdout",
     "output_type": "stream",
     "text": [
      "# Evaluation:  97%|█████████▋| 650/669 [06:34<00:11,  1.68it/s]"
     ]
    },
    {
     "name": "stderr",
     "output_type": "stream",
     "text": [
      "/home/tommy/neuralhydrology/neuralhydrology/utils/config.py:597: FutureWarning: 'camels_attributes' will be deprecated. Use 'static_attributes' in the future\n",
      "  warnings.warn(\"'camels_attributes' will be deprecated. Use 'static_attributes' in the future\",\n"
     ]
    },
    {
     "name": "stdout",
     "output_type": "stream",
     "text": [
      "# Evaluation:  97%|█████████▋| 651/669 [06:35<00:10,  1.67it/s]"
     ]
    },
    {
     "name": "stderr",
     "output_type": "stream",
     "text": [
      "/home/tommy/neuralhydrology/neuralhydrology/utils/config.py:597: FutureWarning: 'camels_attributes' will be deprecated. Use 'static_attributes' in the future\n",
      "  warnings.warn(\"'camels_attributes' will be deprecated. Use 'static_attributes' in the future\",\n"
     ]
    },
    {
     "name": "stdout",
     "output_type": "stream",
     "text": [
      "# Evaluation:  97%|█████████▋| 652/669 [06:36<00:10,  1.68it/s]"
     ]
    },
    {
     "name": "stderr",
     "output_type": "stream",
     "text": [
      "/home/tommy/neuralhydrology/neuralhydrology/utils/config.py:597: FutureWarning: 'camels_attributes' will be deprecated. Use 'static_attributes' in the future\n",
      "  warnings.warn(\"'camels_attributes' will be deprecated. Use 'static_attributes' in the future\",\n"
     ]
    },
    {
     "name": "stdout",
     "output_type": "stream",
     "text": [
      "# Evaluation:  98%|█████████▊| 653/669 [06:36<00:09,  1.67it/s]"
     ]
    },
    {
     "name": "stderr",
     "output_type": "stream",
     "text": [
      "/home/tommy/neuralhydrology/neuralhydrology/utils/config.py:597: FutureWarning: 'camels_attributes' will be deprecated. Use 'static_attributes' in the future\n",
      "  warnings.warn(\"'camels_attributes' will be deprecated. Use 'static_attributes' in the future\",\n"
     ]
    },
    {
     "name": "stdout",
     "output_type": "stream",
     "text": [
      "# Evaluation:  98%|█████████▊| 654/669 [06:37<00:09,  1.66it/s]"
     ]
    },
    {
     "name": "stderr",
     "output_type": "stream",
     "text": [
      "/home/tommy/neuralhydrology/neuralhydrology/utils/config.py:597: FutureWarning: 'camels_attributes' will be deprecated. Use 'static_attributes' in the future\n",
      "  warnings.warn(\"'camels_attributes' will be deprecated. Use 'static_attributes' in the future\",\n"
     ]
    },
    {
     "name": "stdout",
     "output_type": "stream",
     "text": [
      "# Evaluation:  98%|█████████▊| 655/669 [06:38<00:08,  1.57it/s]"
     ]
    },
    {
     "name": "stderr",
     "output_type": "stream",
     "text": [
      "/home/tommy/neuralhydrology/neuralhydrology/utils/config.py:597: FutureWarning: 'camels_attributes' will be deprecated. Use 'static_attributes' in the future\n",
      "  warnings.warn(\"'camels_attributes' will be deprecated. Use 'static_attributes' in the future\",\n"
     ]
    },
    {
     "name": "stdout",
     "output_type": "stream",
     "text": [
      "# Evaluation:  98%|█████████▊| 656/669 [06:38<00:07,  1.63it/s]"
     ]
    },
    {
     "name": "stderr",
     "output_type": "stream",
     "text": [
      "/home/tommy/neuralhydrology/neuralhydrology/utils/config.py:597: FutureWarning: 'camels_attributes' will be deprecated. Use 'static_attributes' in the future\n",
      "  warnings.warn(\"'camels_attributes' will be deprecated. Use 'static_attributes' in the future\",\n"
     ]
    },
    {
     "name": "stdout",
     "output_type": "stream",
     "text": [
      "# Evaluation:  98%|█████████▊| 657/669 [06:39<00:07,  1.64it/s]"
     ]
    },
    {
     "name": "stderr",
     "output_type": "stream",
     "text": [
      "/home/tommy/neuralhydrology/neuralhydrology/utils/config.py:597: FutureWarning: 'camels_attributes' will be deprecated. Use 'static_attributes' in the future\n",
      "  warnings.warn(\"'camels_attributes' will be deprecated. Use 'static_attributes' in the future\",\n"
     ]
    },
    {
     "name": "stdout",
     "output_type": "stream",
     "text": [
      "# Evaluation:  98%|█████████▊| 658/669 [06:39<00:06,  1.66it/s]"
     ]
    },
    {
     "name": "stderr",
     "output_type": "stream",
     "text": [
      "/home/tommy/neuralhydrology/neuralhydrology/utils/config.py:597: FutureWarning: 'camels_attributes' will be deprecated. Use 'static_attributes' in the future\n",
      "  warnings.warn(\"'camels_attributes' will be deprecated. Use 'static_attributes' in the future\",\n"
     ]
    },
    {
     "name": "stdout",
     "output_type": "stream",
     "text": [
      "# Evaluation:  99%|█████████▊| 659/669 [06:40<00:06,  1.65it/s]"
     ]
    },
    {
     "name": "stderr",
     "output_type": "stream",
     "text": [
      "/home/tommy/neuralhydrology/neuralhydrology/utils/config.py:597: FutureWarning: 'camels_attributes' will be deprecated. Use 'static_attributes' in the future\n",
      "  warnings.warn(\"'camels_attributes' will be deprecated. Use 'static_attributes' in the future\",\n"
     ]
    },
    {
     "name": "stdout",
     "output_type": "stream",
     "text": [
      "# Evaluation:  99%|█████████▊| 660/669 [06:41<00:05,  1.65it/s]"
     ]
    },
    {
     "name": "stderr",
     "output_type": "stream",
     "text": [
      "/home/tommy/neuralhydrology/neuralhydrology/utils/config.py:597: FutureWarning: 'camels_attributes' will be deprecated. Use 'static_attributes' in the future\n",
      "  warnings.warn(\"'camels_attributes' will be deprecated. Use 'static_attributes' in the future\",\n"
     ]
    },
    {
     "name": "stdout",
     "output_type": "stream",
     "text": [
      "# Evaluation:  99%|█████████▉| 661/669 [06:41<00:04,  1.66it/s]"
     ]
    },
    {
     "name": "stderr",
     "output_type": "stream",
     "text": [
      "/home/tommy/neuralhydrology/neuralhydrology/utils/config.py:597: FutureWarning: 'camels_attributes' will be deprecated. Use 'static_attributes' in the future\n",
      "  warnings.warn(\"'camels_attributes' will be deprecated. Use 'static_attributes' in the future\",\n"
     ]
    },
    {
     "name": "stdout",
     "output_type": "stream",
     "text": [
      "# Evaluation:  99%|█████████▉| 662/669 [06:42<00:04,  1.70it/s]"
     ]
    },
    {
     "name": "stderr",
     "output_type": "stream",
     "text": [
      "/home/tommy/neuralhydrology/neuralhydrology/utils/config.py:597: FutureWarning: 'camels_attributes' will be deprecated. Use 'static_attributes' in the future\n",
      "  warnings.warn(\"'camels_attributes' will be deprecated. Use 'static_attributes' in the future\",\n"
     ]
    },
    {
     "name": "stdout",
     "output_type": "stream",
     "text": [
      "# Evaluation:  99%|█████████▉| 663/669 [06:42<00:03,  1.73it/s]"
     ]
    },
    {
     "name": "stderr",
     "output_type": "stream",
     "text": [
      "/home/tommy/neuralhydrology/neuralhydrology/utils/config.py:597: FutureWarning: 'camels_attributes' will be deprecated. Use 'static_attributes' in the future\n",
      "  warnings.warn(\"'camels_attributes' will be deprecated. Use 'static_attributes' in the future\",\n"
     ]
    },
    {
     "name": "stdout",
     "output_type": "stream",
     "text": [
      "# Evaluation:  99%|█████████▉| 664/669 [06:43<00:02,  1.73it/s]"
     ]
    },
    {
     "name": "stderr",
     "output_type": "stream",
     "text": [
      "/home/tommy/neuralhydrology/neuralhydrology/utils/config.py:597: FutureWarning: 'camels_attributes' will be deprecated. Use 'static_attributes' in the future\n",
      "  warnings.warn(\"'camels_attributes' will be deprecated. Use 'static_attributes' in the future\",\n"
     ]
    },
    {
     "name": "stdout",
     "output_type": "stream",
     "text": [
      "# Evaluation:  99%|█████████▉| 665/669 [06:43<00:02,  1.69it/s]"
     ]
    },
    {
     "name": "stderr",
     "output_type": "stream",
     "text": [
      "/home/tommy/neuralhydrology/neuralhydrology/utils/config.py:597: FutureWarning: 'camels_attributes' will be deprecated. Use 'static_attributes' in the future\n",
      "  warnings.warn(\"'camels_attributes' will be deprecated. Use 'static_attributes' in the future\",\n"
     ]
    },
    {
     "name": "stdout",
     "output_type": "stream",
     "text": [
      "# Evaluation: 100%|█████████▉| 666/669 [06:44<00:01,  1.72it/s]"
     ]
    },
    {
     "name": "stderr",
     "output_type": "stream",
     "text": [
      "/home/tommy/neuralhydrology/neuralhydrology/utils/config.py:597: FutureWarning: 'camels_attributes' will be deprecated. Use 'static_attributes' in the future\n",
      "  warnings.warn(\"'camels_attributes' will be deprecated. Use 'static_attributes' in the future\",\n"
     ]
    },
    {
     "name": "stdout",
     "output_type": "stream",
     "text": [
      "# Evaluation: 100%|█████████▉| 667/669 [06:45<00:01,  1.69it/s]"
     ]
    },
    {
     "name": "stderr",
     "output_type": "stream",
     "text": [
      "/home/tommy/neuralhydrology/neuralhydrology/utils/config.py:597: FutureWarning: 'camels_attributes' will be deprecated. Use 'static_attributes' in the future\n",
      "  warnings.warn(\"'camels_attributes' will be deprecated. Use 'static_attributes' in the future\",\n"
     ]
    },
    {
     "name": "stdout",
     "output_type": "stream",
     "text": [
      "# Evaluation: 100%|█████████▉| 668/669 [06:45<00:00,  1.70it/s]"
     ]
    },
    {
     "name": "stderr",
     "output_type": "stream",
     "text": [
      "/home/tommy/neuralhydrology/neuralhydrology/utils/config.py:597: FutureWarning: 'camels_attributes' will be deprecated. Use 'static_attributes' in the future\n",
      "  warnings.warn(\"'camels_attributes' will be deprecated. Use 'static_attributes' in the future\",\n"
     ]
    },
    {
     "name": "stdout",
     "output_type": "stream",
     "text": [
      "# Evaluation: 100%|██████████| 669/669 [06:46<00:00,  1.65it/s]"
     ]
    },
    {
     "name": "stderr",
     "output_type": "stream",
     "text": [
      " 33%|███▎      | 218/669 [00:00<00:00, 2174.58it/s]"
     ]
    },
    {
     "name": "stdout",
     "output_type": "stream",
     "text": [
      "\n"
     ]
    },
    {
     "name": "stderr",
     "output_type": "stream",
     "text": [
      "100%|██████████| 669/669 [00:00<00:00, 2156.92it/s]\n"
     ]
    }
   ],
   "source": [
    "%reload_ext autoreload\n",
    "%autoreload 2\n",
    "\n",
    "from neuralhydrology.evaluation import get_tester\n",
    "from scripts.read_nh_results import _load_dict_to_xarray\n",
    "\n",
    "preds_filepath = (run_dir / \"forced_preds.nc\")\n",
    "if not preds_filepath.exists():\n",
    "    tester = get_tester(cfg=f_cfg, run_dir=f_cfg.run_dir, period=\"test\", init_model=True)\n",
    "    results = tester.evaluate(epoch=None, save_results=False, metrics=f_cfg.metrics)\n",
    "    forced_pred = _load_dict_to_xarray(results)\n",
    "    forced_pred.to_netcdf(preds_filepath)\n",
    "else:\n",
    "    forced_pred = xr.open_dataset(preds_filepath)"
   ]
  },
  {
   "cell_type": "code",
   "execution_count": 14,
   "id": "f96397dd-90c1-4db0-8118-7d73d9d89b49",
   "metadata": {},
   "outputs": [
    {
     "data": {
      "text/html": [
       "<div><svg style=\"position: absolute; width: 0; height: 0; overflow: hidden\">\n",
       "<defs>\n",
       "<symbol id=\"icon-database\" viewBox=\"0 0 32 32\">\n",
       "<path d=\"M16 0c-8.837 0-16 2.239-16 5v4c0 2.761 7.163 5 16 5s16-2.239 16-5v-4c0-2.761-7.163-5-16-5z\"></path>\n",
       "<path d=\"M16 17c-8.837 0-16-2.239-16-5v6c0 2.761 7.163 5 16 5s16-2.239 16-5v-6c0 2.761-7.163 5-16 5z\"></path>\n",
       "<path d=\"M16 26c-8.837 0-16-2.239-16-5v6c0 2.761 7.163 5 16 5s16-2.239 16-5v-6c0 2.761-7.163 5-16 5z\"></path>\n",
       "</symbol>\n",
       "<symbol id=\"icon-file-text2\" viewBox=\"0 0 32 32\">\n",
       "<path d=\"M28.681 7.159c-0.694-0.947-1.662-2.053-2.724-3.116s-2.169-2.030-3.116-2.724c-1.612-1.182-2.393-1.319-2.841-1.319h-15.5c-1.378 0-2.5 1.121-2.5 2.5v27c0 1.378 1.122 2.5 2.5 2.5h23c1.378 0 2.5-1.122 2.5-2.5v-19.5c0-0.448-0.137-1.23-1.319-2.841zM24.543 5.457c0.959 0.959 1.712 1.825 2.268 2.543h-4.811v-4.811c0.718 0.556 1.584 1.309 2.543 2.268zM28 29.5c0 0.271-0.229 0.5-0.5 0.5h-23c-0.271 0-0.5-0.229-0.5-0.5v-27c0-0.271 0.229-0.5 0.5-0.5 0 0 15.499-0 15.5 0v7c0 0.552 0.448 1 1 1h7v19.5z\"></path>\n",
       "<path d=\"M23 26h-14c-0.552 0-1-0.448-1-1s0.448-1 1-1h14c0.552 0 1 0.448 1 1s-0.448 1-1 1z\"></path>\n",
       "<path d=\"M23 22h-14c-0.552 0-1-0.448-1-1s0.448-1 1-1h14c0.552 0 1 0.448 1 1s-0.448 1-1 1z\"></path>\n",
       "<path d=\"M23 18h-14c-0.552 0-1-0.448-1-1s0.448-1 1-1h14c0.552 0 1 0.448 1 1s-0.448 1-1 1z\"></path>\n",
       "</symbol>\n",
       "</defs>\n",
       "</svg>\n",
       "<style>/* CSS stylesheet for displaying xarray objects in jupyterlab.\n",
       " *\n",
       " */\n",
       "\n",
       ":root {\n",
       "  --xr-font-color0: var(--jp-content-font-color0, rgba(0, 0, 0, 1));\n",
       "  --xr-font-color2: var(--jp-content-font-color2, rgba(0, 0, 0, 0.54));\n",
       "  --xr-font-color3: var(--jp-content-font-color3, rgba(0, 0, 0, 0.38));\n",
       "  --xr-border-color: var(--jp-border-color2, #e0e0e0);\n",
       "  --xr-disabled-color: var(--jp-layout-color3, #bdbdbd);\n",
       "  --xr-background-color: var(--jp-layout-color0, white);\n",
       "  --xr-background-color-row-even: var(--jp-layout-color1, white);\n",
       "  --xr-background-color-row-odd: var(--jp-layout-color2, #eeeeee);\n",
       "}\n",
       "\n",
       "html[theme=dark],\n",
       "body.vscode-dark {\n",
       "  --xr-font-color0: rgba(255, 255, 255, 1);\n",
       "  --xr-font-color2: rgba(255, 255, 255, 0.54);\n",
       "  --xr-font-color3: rgba(255, 255, 255, 0.38);\n",
       "  --xr-border-color: #1F1F1F;\n",
       "  --xr-disabled-color: #515151;\n",
       "  --xr-background-color: #111111;\n",
       "  --xr-background-color-row-even: #111111;\n",
       "  --xr-background-color-row-odd: #313131;\n",
       "}\n",
       "\n",
       ".xr-wrap {\n",
       "  display: block;\n",
       "  min-width: 300px;\n",
       "  max-width: 700px;\n",
       "}\n",
       "\n",
       ".xr-text-repr-fallback {\n",
       "  /* fallback to plain text repr when CSS is not injected (untrusted notebook) */\n",
       "  display: none;\n",
       "}\n",
       "\n",
       ".xr-header {\n",
       "  padding-top: 6px;\n",
       "  padding-bottom: 6px;\n",
       "  margin-bottom: 4px;\n",
       "  border-bottom: solid 1px var(--xr-border-color);\n",
       "}\n",
       "\n",
       ".xr-header > div,\n",
       ".xr-header > ul {\n",
       "  display: inline;\n",
       "  margin-top: 0;\n",
       "  margin-bottom: 0;\n",
       "}\n",
       "\n",
       ".xr-obj-type,\n",
       ".xr-array-name {\n",
       "  margin-left: 2px;\n",
       "  margin-right: 10px;\n",
       "}\n",
       "\n",
       ".xr-obj-type {\n",
       "  color: var(--xr-font-color2);\n",
       "}\n",
       "\n",
       ".xr-sections {\n",
       "  padding-left: 0 !important;\n",
       "  display: grid;\n",
       "  grid-template-columns: 150px auto auto 1fr 20px 20px;\n",
       "}\n",
       "\n",
       ".xr-section-item {\n",
       "  display: contents;\n",
       "}\n",
       "\n",
       ".xr-section-item input {\n",
       "  display: none;\n",
       "}\n",
       "\n",
       ".xr-section-item input + label {\n",
       "  color: var(--xr-disabled-color);\n",
       "}\n",
       "\n",
       ".xr-section-item input:enabled + label {\n",
       "  cursor: pointer;\n",
       "  color: var(--xr-font-color2);\n",
       "}\n",
       "\n",
       ".xr-section-item input:enabled + label:hover {\n",
       "  color: var(--xr-font-color0);\n",
       "}\n",
       "\n",
       ".xr-section-summary {\n",
       "  grid-column: 1;\n",
       "  color: var(--xr-font-color2);\n",
       "  font-weight: 500;\n",
       "}\n",
       "\n",
       ".xr-section-summary > span {\n",
       "  display: inline-block;\n",
       "  padding-left: 0.5em;\n",
       "}\n",
       "\n",
       ".xr-section-summary-in:disabled + label {\n",
       "  color: var(--xr-font-color2);\n",
       "}\n",
       "\n",
       ".xr-section-summary-in + label:before {\n",
       "  display: inline-block;\n",
       "  content: '►';\n",
       "  font-size: 11px;\n",
       "  width: 15px;\n",
       "  text-align: center;\n",
       "}\n",
       "\n",
       ".xr-section-summary-in:disabled + label:before {\n",
       "  color: var(--xr-disabled-color);\n",
       "}\n",
       "\n",
       ".xr-section-summary-in:checked + label:before {\n",
       "  content: '▼';\n",
       "}\n",
       "\n",
       ".xr-section-summary-in:checked + label > span {\n",
       "  display: none;\n",
       "}\n",
       "\n",
       ".xr-section-summary,\n",
       ".xr-section-inline-details {\n",
       "  padding-top: 4px;\n",
       "  padding-bottom: 4px;\n",
       "}\n",
       "\n",
       ".xr-section-inline-details {\n",
       "  grid-column: 2 / -1;\n",
       "}\n",
       "\n",
       ".xr-section-details {\n",
       "  display: none;\n",
       "  grid-column: 1 / -1;\n",
       "  margin-bottom: 5px;\n",
       "}\n",
       "\n",
       ".xr-section-summary-in:checked ~ .xr-section-details {\n",
       "  display: contents;\n",
       "}\n",
       "\n",
       ".xr-array-wrap {\n",
       "  grid-column: 1 / -1;\n",
       "  display: grid;\n",
       "  grid-template-columns: 20px auto;\n",
       "}\n",
       "\n",
       ".xr-array-wrap > label {\n",
       "  grid-column: 1;\n",
       "  vertical-align: top;\n",
       "}\n",
       "\n",
       ".xr-preview {\n",
       "  color: var(--xr-font-color3);\n",
       "}\n",
       "\n",
       ".xr-array-preview,\n",
       ".xr-array-data {\n",
       "  padding: 0 5px !important;\n",
       "  grid-column: 2;\n",
       "}\n",
       "\n",
       ".xr-array-data,\n",
       ".xr-array-in:checked ~ .xr-array-preview {\n",
       "  display: none;\n",
       "}\n",
       "\n",
       ".xr-array-in:checked ~ .xr-array-data,\n",
       ".xr-array-preview {\n",
       "  display: inline-block;\n",
       "}\n",
       "\n",
       ".xr-dim-list {\n",
       "  display: inline-block !important;\n",
       "  list-style: none;\n",
       "  padding: 0 !important;\n",
       "  margin: 0;\n",
       "}\n",
       "\n",
       ".xr-dim-list li {\n",
       "  display: inline-block;\n",
       "  padding: 0;\n",
       "  margin: 0;\n",
       "}\n",
       "\n",
       ".xr-dim-list:before {\n",
       "  content: '(';\n",
       "}\n",
       "\n",
       ".xr-dim-list:after {\n",
       "  content: ')';\n",
       "}\n",
       "\n",
       ".xr-dim-list li:not(:last-child):after {\n",
       "  content: ',';\n",
       "  padding-right: 5px;\n",
       "}\n",
       "\n",
       ".xr-has-index {\n",
       "  font-weight: bold;\n",
       "}\n",
       "\n",
       ".xr-var-list,\n",
       ".xr-var-item {\n",
       "  display: contents;\n",
       "}\n",
       "\n",
       ".xr-var-item > div,\n",
       ".xr-var-item label,\n",
       ".xr-var-item > .xr-var-name span {\n",
       "  background-color: var(--xr-background-color-row-even);\n",
       "  margin-bottom: 0;\n",
       "}\n",
       "\n",
       ".xr-var-item > .xr-var-name:hover span {\n",
       "  padding-right: 5px;\n",
       "}\n",
       "\n",
       ".xr-var-list > li:nth-child(odd) > div,\n",
       ".xr-var-list > li:nth-child(odd) > label,\n",
       ".xr-var-list > li:nth-child(odd) > .xr-var-name span {\n",
       "  background-color: var(--xr-background-color-row-odd);\n",
       "}\n",
       "\n",
       ".xr-var-name {\n",
       "  grid-column: 1;\n",
       "}\n",
       "\n",
       ".xr-var-dims {\n",
       "  grid-column: 2;\n",
       "}\n",
       "\n",
       ".xr-var-dtype {\n",
       "  grid-column: 3;\n",
       "  text-align: right;\n",
       "  color: var(--xr-font-color2);\n",
       "}\n",
       "\n",
       ".xr-var-preview {\n",
       "  grid-column: 4;\n",
       "}\n",
       "\n",
       ".xr-var-name,\n",
       ".xr-var-dims,\n",
       ".xr-var-dtype,\n",
       ".xr-preview,\n",
       ".xr-attrs dt {\n",
       "  white-space: nowrap;\n",
       "  overflow: hidden;\n",
       "  text-overflow: ellipsis;\n",
       "  padding-right: 10px;\n",
       "}\n",
       "\n",
       ".xr-var-name:hover,\n",
       ".xr-var-dims:hover,\n",
       ".xr-var-dtype:hover,\n",
       ".xr-attrs dt:hover {\n",
       "  overflow: visible;\n",
       "  width: auto;\n",
       "  z-index: 1;\n",
       "}\n",
       "\n",
       ".xr-var-attrs,\n",
       ".xr-var-data {\n",
       "  display: none;\n",
       "  background-color: var(--xr-background-color) !important;\n",
       "  padding-bottom: 5px !important;\n",
       "}\n",
       "\n",
       ".xr-var-attrs-in:checked ~ .xr-var-attrs,\n",
       ".xr-var-data-in:checked ~ .xr-var-data {\n",
       "  display: block;\n",
       "}\n",
       "\n",
       ".xr-var-data > table {\n",
       "  float: right;\n",
       "}\n",
       "\n",
       ".xr-var-name span,\n",
       ".xr-var-data,\n",
       ".xr-attrs {\n",
       "  padding-left: 25px !important;\n",
       "}\n",
       "\n",
       ".xr-attrs,\n",
       ".xr-var-attrs,\n",
       ".xr-var-data {\n",
       "  grid-column: 1 / -1;\n",
       "}\n",
       "\n",
       "dl.xr-attrs {\n",
       "  padding: 0;\n",
       "  margin: 0;\n",
       "  display: grid;\n",
       "  grid-template-columns: 125px auto;\n",
       "}\n",
       "\n",
       ".xr-attrs dt,\n",
       ".xr-attrs dd {\n",
       "  padding: 0;\n",
       "  margin: 0;\n",
       "  float: left;\n",
       "  padding-right: 10px;\n",
       "  width: auto;\n",
       "}\n",
       "\n",
       ".xr-attrs dt {\n",
       "  font-weight: normal;\n",
       "  grid-column: 1;\n",
       "}\n",
       "\n",
       ".xr-attrs dt:hover span {\n",
       "  display: inline-block;\n",
       "  background: var(--xr-background-color);\n",
       "  padding-right: 10px;\n",
       "}\n",
       "\n",
       ".xr-attrs dd {\n",
       "  grid-column: 2;\n",
       "  white-space: pre-wrap;\n",
       "  word-break: break-all;\n",
       "}\n",
       "\n",
       ".xr-icon-database,\n",
       ".xr-icon-file-text2 {\n",
       "  display: inline-block;\n",
       "  vertical-align: middle;\n",
       "  width: 1em;\n",
       "  height: 1.5em !important;\n",
       "  stroke-width: 0;\n",
       "  stroke: currentColor;\n",
       "  fill: currentColor;\n",
       "}\n",
       "</style><pre class='xr-text-repr-fallback'>&lt;xarray.Dataset&gt;\n",
       "Dimensions:             (date: 4018, station_id: 669)\n",
       "Coordinates:\n",
       "  * station_id          (station_id) &lt;U6 &#x27;10002&#x27; &#x27;10003&#x27; ... &#x27;96004&#x27; &#x27;97002&#x27;\n",
       "  * date                (date) datetime64[ns] 1998-01-01 ... 2008-12-31\n",
       "Data variables:\n",
       "    discharge_spec_obs  (station_id, date) float64 2.37 2.49 2.42 ... 0.73 0.79\n",
       "    discharge_spec_sim  (station_id, date) float64 2.055 2.493 ... 0.8569 0.822</pre><div class='xr-wrap' hidden><div class='xr-header'><div class='xr-obj-type'>xarray.Dataset</div></div><ul class='xr-sections'><li class='xr-section-item'><input id='section-f9067bd8-d95b-47b4-9382-c8a5b8acd19c' class='xr-section-summary-in' type='checkbox' disabled ><label for='section-f9067bd8-d95b-47b4-9382-c8a5b8acd19c' class='xr-section-summary'  title='Expand/collapse section'>Dimensions:</label><div class='xr-section-inline-details'><ul class='xr-dim-list'><li><span class='xr-has-index'>date</span>: 4018</li><li><span class='xr-has-index'>station_id</span>: 669</li></ul></div><div class='xr-section-details'></div></li><li class='xr-section-item'><input id='section-9c5d2fc2-2dda-4335-9763-9e985aa4c6e9' class='xr-section-summary-in' type='checkbox'  checked><label for='section-9c5d2fc2-2dda-4335-9763-9e985aa4c6e9' class='xr-section-summary' >Coordinates: <span>(2)</span></label><div class='xr-section-inline-details'></div><div class='xr-section-details'><ul class='xr-var-list'><li class='xr-var-item'><div class='xr-var-name'><span class='xr-has-index'>station_id</span></div><div class='xr-var-dims'>(station_id)</div><div class='xr-var-dtype'>&lt;U6</div><div class='xr-var-preview xr-preview'>&#x27;10002&#x27; &#x27;10003&#x27; ... &#x27;96004&#x27; &#x27;97002&#x27;</div><input id='attrs-61de733a-f26c-4291-b6b1-20c936ef00e8' class='xr-var-attrs-in' type='checkbox' disabled><label for='attrs-61de733a-f26c-4291-b6b1-20c936ef00e8' title='Show/Hide attributes'><svg class='icon xr-icon-file-text2'><use xlink:href='#icon-file-text2'></use></svg></label><input id='data-40d5d796-7d03-448e-b143-60c98cc47651' class='xr-var-data-in' type='checkbox'><label for='data-40d5d796-7d03-448e-b143-60c98cc47651' title='Show/Hide data repr'><svg class='icon xr-icon-database'><use xlink:href='#icon-database'></use></svg></label><div class='xr-var-attrs'><dl class='xr-attrs'></dl></div><div class='xr-var-data'><pre>array([&#x27;10002&#x27;, &#x27;10003&#x27;, &#x27;1001&#x27;, ..., &#x27;96002&#x27;, &#x27;96004&#x27;, &#x27;97002&#x27;], dtype=&#x27;&lt;U6&#x27;)</pre></div></li><li class='xr-var-item'><div class='xr-var-name'><span class='xr-has-index'>date</span></div><div class='xr-var-dims'>(date)</div><div class='xr-var-dtype'>datetime64[ns]</div><div class='xr-var-preview xr-preview'>1998-01-01 ... 2008-12-31</div><input id='attrs-698ed046-794c-4b81-b8fb-9b43c0e3c9b5' class='xr-var-attrs-in' type='checkbox' disabled><label for='attrs-698ed046-794c-4b81-b8fb-9b43c0e3c9b5' title='Show/Hide attributes'><svg class='icon xr-icon-file-text2'><use xlink:href='#icon-file-text2'></use></svg></label><input id='data-2342c677-9bfe-4dec-b0e3-c0d40010394f' class='xr-var-data-in' type='checkbox'><label for='data-2342c677-9bfe-4dec-b0e3-c0d40010394f' title='Show/Hide data repr'><svg class='icon xr-icon-database'><use xlink:href='#icon-database'></use></svg></label><div class='xr-var-attrs'><dl class='xr-attrs'></dl></div><div class='xr-var-data'><pre>array([&#x27;1998-01-01T00:00:00.000000000&#x27;, &#x27;1998-01-02T00:00:00.000000000&#x27;,\n",
       "       &#x27;1998-01-03T00:00:00.000000000&#x27;, ..., &#x27;2008-12-29T00:00:00.000000000&#x27;,\n",
       "       &#x27;2008-12-30T00:00:00.000000000&#x27;, &#x27;2008-12-31T00:00:00.000000000&#x27;],\n",
       "      dtype=&#x27;datetime64[ns]&#x27;)</pre></div></li></ul></div></li><li class='xr-section-item'><input id='section-56fe59de-0d9b-4c5e-b3ae-e43ee5f4af43' class='xr-section-summary-in' type='checkbox'  checked><label for='section-56fe59de-0d9b-4c5e-b3ae-e43ee5f4af43' class='xr-section-summary' >Data variables: <span>(2)</span></label><div class='xr-section-inline-details'></div><div class='xr-section-details'><ul class='xr-var-list'><li class='xr-var-item'><div class='xr-var-name'><span>discharge_spec_obs</span></div><div class='xr-var-dims'>(station_id, date)</div><div class='xr-var-dtype'>float64</div><div class='xr-var-preview xr-preview'>2.37 2.49 2.42 ... 0.86 0.73 0.79</div><input id='attrs-662d900c-281b-421b-8266-3e7317df9ded' class='xr-var-attrs-in' type='checkbox' disabled><label for='attrs-662d900c-281b-421b-8266-3e7317df9ded' title='Show/Hide attributes'><svg class='icon xr-icon-file-text2'><use xlink:href='#icon-file-text2'></use></svg></label><input id='data-b73aeb80-da67-4db5-9832-2042f44e37e1' class='xr-var-data-in' type='checkbox'><label for='data-b73aeb80-da67-4db5-9832-2042f44e37e1' title='Show/Hide data repr'><svg class='icon xr-icon-database'><use xlink:href='#icon-database'></use></svg></label><div class='xr-var-attrs'><dl class='xr-attrs'></dl></div><div class='xr-var-data'><pre>array([[ 2.36999989,  2.49000003,  2.42000008, ...,  1.35000004,\n",
       "         1.29999996,  1.25999999],\n",
       "       [ 2.98000005,  2.79000001,  2.83999993, ...,  1.53999995,\n",
       "         1.47000002,  1.40999998],\n",
       "       [ 2.14000012,  1.80999994,  4.57000009, ...,  0.68000008,\n",
       "         0.55      ,  0.55999994],\n",
       "       ...,\n",
       "       [ 3.26999993,  2.56999993,  3.86999999, ...,  1.22000001,\n",
       "         1.14000001,  1.10000003],\n",
       "       [ 3.72000013,  3.02000003, 28.51000129, ...,  0.81999999,\n",
       "         0.55999994,  0.76999997],\n",
       "       [ 2.34999991,  1.57000007,  3.95999998, ...,  0.85999997,\n",
       "         0.72999999,  0.78999996]])</pre></div></li><li class='xr-var-item'><div class='xr-var-name'><span>discharge_spec_sim</span></div><div class='xr-var-dims'>(station_id, date)</div><div class='xr-var-dtype'>float64</div><div class='xr-var-preview xr-preview'>2.055 2.493 2.293 ... 0.8569 0.822</div><input id='attrs-ea9a4c3d-7426-4c10-958d-a4cb24e3d8e7' class='xr-var-attrs-in' type='checkbox' disabled><label for='attrs-ea9a4c3d-7426-4c10-958d-a4cb24e3d8e7' title='Show/Hide attributes'><svg class='icon xr-icon-file-text2'><use xlink:href='#icon-file-text2'></use></svg></label><input id='data-e47a35c2-f58d-4c58-95e4-bfbab28fcfb2' class='xr-var-data-in' type='checkbox'><label for='data-e47a35c2-f58d-4c58-95e4-bfbab28fcfb2' title='Show/Hide data repr'><svg class='icon xr-icon-database'><use xlink:href='#icon-database'></use></svg></label><div class='xr-var-attrs'><dl class='xr-attrs'></dl></div><div class='xr-var-data'><pre>array([[ 2.05546052,  2.4933844 ,  2.29341445, ...,  1.03098695,\n",
       "         0.97200936,  0.93761703],\n",
       "       [ 2.31744608,  2.59719617,  2.39456142, ...,  1.35899621,\n",
       "         1.27025528,  1.21577289],\n",
       "       [ 1.72070547,  2.06021294,  3.28151958, ...,  0.80780051,\n",
       "         0.75592295,  0.82015672],\n",
       "       ...,\n",
       "       [ 3.54844722,  2.97698287,  4.15201355, ...,  1.04894728,\n",
       "         0.9476593 ,  0.87215883],\n",
       "       [ 3.64806603,  3.31862125, 24.20578114, ...,  0.95446486,\n",
       "         0.90585321,  0.87129479],\n",
       "       [ 2.04074311,  2.00068477,  3.55089779, ...,  0.93095275,\n",
       "         0.85694483,  0.82201565]])</pre></div></li></ul></div></li><li class='xr-section-item'><input id='section-d42292e7-21e5-45a7-ac0c-b17f64ca585a' class='xr-section-summary-in' type='checkbox' disabled ><label for='section-d42292e7-21e5-45a7-ac0c-b17f64ca585a' class='xr-section-summary'  title='Expand/collapse section'>Attributes: <span>(0)</span></label><div class='xr-section-inline-details'></div><div class='xr-section-details'><dl class='xr-attrs'></dl></div></li></ul></div></div>"
      ],
      "text/plain": [
       "<xarray.Dataset>\n",
       "Dimensions:             (date: 4018, station_id: 669)\n",
       "Coordinates:\n",
       "  * station_id          (station_id) <U6 '10002' '10003' ... '96004' '97002'\n",
       "  * date                (date) datetime64[ns] 1998-01-01 ... 2008-12-31\n",
       "Data variables:\n",
       "    discharge_spec_obs  (station_id, date) float64 2.37 2.49 2.42 ... 0.73 0.79\n",
       "    discharge_spec_sim  (station_id, date) float64 2.055 2.493 ... 0.8569 0.822"
      ]
     },
     "execution_count": 14,
     "metadata": {},
     "output_type": "execute_result"
    }
   ],
   "source": [
    "forced_pred"
   ]
  },
  {
   "cell_type": "markdown",
   "id": "21dc7b7b-984b-482d-8176-722ceffff752",
   "metadata": {},
   "source": [
    "### check the loaded data"
   ]
  },
  {
   "cell_type": "code",
   "execution_count": 18,
   "id": "88416465-545f-4861-8476-67bfb15bcb02",
   "metadata": {},
   "outputs": [],
   "source": [
    "basin = 4003"
   ]
  },
  {
   "cell_type": "code",
   "execution_count": 19,
   "id": "edcbf04c-39cb-48b9-9937-08061c21ef92",
   "metadata": {},
   "outputs": [
    {
     "name": "stderr",
     "output_type": "stream",
     "text": [
      "/home/tommy/neuralhydrology/neuralhydrology/utils/config.py:597: FutureWarning: 'camels_attributes' will be deprecated. Use 'static_attributes' in the future\n",
      "  warnings.warn(\"'camels_attributes' will be deprecated. Use 'static_attributes' in the future\",\n"
     ]
    }
   ],
   "source": [
    "tester = get_tester(cfg=f_cfg, run_dir=f_cfg.run_dir, period=\"test\", init_model=True)\n",
    "data = tester._get_dataset(str(basin))\n",
    "\n",
    "temp_clipped = data.x_d[str(basin)][\"1D\"][:, -1]\n",
    "# unnormalize\n",
    "temp_clipped = (\n",
    "    temp_clipped * data.scaler[\"xarray_feature_scale\"][\"temperature_clipped\"].values\n",
    ") + data.scaler[\"xarray_feature_center\"][\"temperature_clipped\"].values\n"
   ]
  },
  {
   "cell_type": "code",
   "execution_count": 20,
   "id": "7d55fae3-9871-43d8-b1f7-732f0799bed0",
   "metadata": {},
   "outputs": [
    {
     "name": "stderr",
     "output_type": "stream",
     "text": [
      "/home/tommy/neuralhydrology/neuralhydrology/utils/config.py:597: FutureWarning: 'camels_attributes' will be deprecated. Use 'static_attributes' in the future\n",
      "  warnings.warn(\"'camels_attributes' will be deprecated. Use 'static_attributes' in the future\",\n"
     ]
    }
   ],
   "source": [
    "og_tester = get_tester(cfg=cfg, run_dir=cfg.run_dir, period=\"test\", init_model=True)\n",
    "og_data = og_tester._get_dataset(str(basin))\n",
    "\n",
    "og_temp_clipped = og_data.x_d[str(basin)][\"1D\"][:, -1]\n",
    "# unnormalize\n",
    "og_temp_clipped = (\n",
    "    og_temp_clipped * data.scaler[\"xarray_feature_scale\"][\"temperature_clipped\"].values\n",
    ") + data.scaler[\"xarray_feature_center\"][\"temperature_clipped\"].values\n"
   ]
  },
  {
   "cell_type": "code",
   "execution_count": 21,
   "id": "839c10fd-c6c2-4c4c-b9ab-3d6ba48a242d",
   "metadata": {},
   "outputs": [
    {
     "data": {
      "image/png": "[encoded data removed]",
      "text/plain": [
       "<Figure size 864x288 with 1 Axes>"
      ]
     },
     "metadata": {
      "needs_background": "light"
     },
     "output_type": "display_data"
    }
   ],
   "source": [
    "f, ax = plt.subplots(figsize=(12, 4))\n",
    "colors = sns.color_palette(\"viridis\", 3)\n",
    "for n in np.arange(3):\n",
    "    ax.plot(np.arange(365), og_temp_clipped[(365*n): 365*(n + 1)], color=colors[n], label=f\"Year{n}\", ls=\"--\", alpha=0.6)\n",
    "    ax.plot(np.arange(365), temp_clipped[(365*n): 365*(n + 1)], color=colors[n], label=f\"Year{n}\")\n",
    "\n",
    "ax.set_xlabel(\"Day of Year\")\n",
    "ax.set_ylabel(\"Temperature [degC]\")\n",
    "ax.set_ylim(-5, 17)\n",
    "sns.despine()"
   ]
  },
  {
   "cell_type": "markdown",
   "id": "ffb20f49-bfd1-4285-99bd-82b68efec30e",
   "metadata": {},
   "source": [
    "# Extract cell states"
   ]
  },
  {
   "cell_type": "code",
   "execution_count": 23,
   "id": "e0154d10-870d-45d8-8117-a8aba712bb25",
   "metadata": {},
   "outputs": [],
   "source": [
    "# [f.name for f in list(out_dir.iterdir())]"
   ]
  },
  {
   "cell_type": "code",
   "execution_count": 24,
   "id": "213e5e78-61fe-45ac-813a-16938cb26864",
   "metadata": {
    "scrolled": true,
    "tags": []
   },
   "outputs": [
    {
     "name": "stderr",
     "output_type": "stream",
     "text": [
      "/home/tommy/neuralhydrology/neuralhydrology/utils/config.py:597: FutureWarning: 'camels_attributes' will be deprecated. Use 'static_attributes' in the future\n",
      "  warnings.warn(\"'camels_attributes' will be deprecated. Use 'static_attributes' in the future\",\n"
     ]
    },
    {
     "name": "stdout",
     "output_type": "stream",
     "text": [
      "Using the model weights from /datadrive/data/runs/ensemble_NO_EVAP/lstm_ensemble1_NO_EVAP_1606_014459/model_epoch030.pt\n"
     ]
    },
    {
     "name": "stderr",
     "output_type": "stream",
     "text": [
      "Extracting cell state for basin:   0%|          | 1/669 [00:00<05:27,  2.04it/s]/home/tommy/neuralhydrology/neuralhydrology/utils/config.py:597: FutureWarning: 'camels_attributes' will be deprecated. Use 'static_attributes' in the future\n",
      "  warnings.warn(\"'camels_attributes' will be deprecated. Use 'static_attributes' in the future\",\n",
      "Extracting cell state for basin:   0%|          | 2/669 [00:00<05:26,  2.04it/s]/home/tommy/neuralhydrology/neuralhydrology/utils/config.py:597: FutureWarning: 'camels_attributes' will be deprecated. Use 'static_attributes' in the future\n",
      "  warnings.warn(\"'camels_attributes' will be deprecated. Use 'static_attributes' in the future\",\n",
      "Extracting cell state for basin:   0%|          | 3/669 [00:01<05:15,  2.11it/s]/home/tommy/neuralhydrology/neuralhydrology/utils/config.py:597: FutureWarning: 'camels_attributes' will be deprecated. Use 'static_attributes' in the future\n",
      "  warnings.warn(\"'camels_attributes' will be deprecated. Use 'static_attributes' in the future\",\n",
      "Extracting cell state for basin:   1%|          | 4/669 [00:01<05:01,  2.21it/s]/home/tommy/neuralhydrology/neuralhydrology/utils/config.py:597: FutureWarning: 'camels_attributes' will be deprecated. Use 'static_attributes' in the future\n",
      "  warnings.warn(\"'camels_attributes' will be deprecated. Use 'static_attributes' in the future\",\n",
      "Extracting cell state for basin:   1%|          | 5/669 [00:02<05:07,  2.16it/s]/home/tommy/neuralhydrology/neuralhydrology/utils/config.py:597: FutureWarning: 'camels_attributes' will be deprecated. Use 'static_attributes' in the future\n",
      "  warnings.warn(\"'camels_attributes' will be deprecated. Use 'static_attributes' in the future\",\n",
      "Extracting cell state for basin:   1%|          | 6/669 [00:02<04:57,  2.23it/s]/home/tommy/neuralhydrology/neuralhydrology/utils/config.py:597: FutureWarning: 'camels_attributes' will be deprecated. Use 'static_attributes' in the future\n",
      "  warnings.warn(\"'camels_attributes' will be deprecated. Use 'static_attributes' in the future\",\n",
      "Extracting cell state for basin:   1%|          | 7/669 [00:03<04:47,  2.30it/s]/home/tommy/neuralhydrology/neuralhydrology/utils/config.py:597: FutureWarning: 'camels_attributes' will be deprecated. Use 'static_attributes' in the future\n",
      "  warnings.warn(\"'camels_attributes' will be deprecated. Use 'static_attributes' in the future\",\n",
      "Extracting cell state for basin:   1%|          | 8/669 [00:03<04:43,  2.33it/s]/home/tommy/neuralhydrology/neuralhydrology/utils/config.py:597: FutureWarning: 'camels_attributes' will be deprecated. Use 'static_attributes' in the future\n",
      "  warnings.warn(\"'camels_attributes' will be deprecated. Use 'static_attributes' in the future\",\n",
      "Extracting cell state for basin:   1%|▏         | 9/669 [00:04<05:25,  2.03it/s]/home/tommy/neuralhydrology/neuralhydrology/utils/config.py:597: FutureWarning: 'camels_attributes' will be deprecated. Use 'static_attributes' in the future\n",
      "  warnings.warn(\"'camels_attributes' will be deprecated. Use 'static_attributes' in the future\",\n",
      "Extracting cell state for basin:   1%|▏         | 10/669 [00:04<05:17,  2.08it/s]/home/tommy/neuralhydrology/neuralhydrology/utils/config.py:597: FutureWarning: 'camels_attributes' will be deprecated. Use 'static_attributes' in the future\n",
      "  warnings.warn(\"'camels_attributes' will be deprecated. Use 'static_attributes' in the future\",\n",
      "Extracting cell state for basin:   2%|▏         | 11/669 [00:05<05:06,  2.15it/s]/home/tommy/neuralhydrology/neuralhydrology/utils/config.py:597: FutureWarning: 'camels_attributes' will be deprecated. Use 'static_attributes' in the future\n",
      "  warnings.warn(\"'camels_attributes' will be deprecated. Use 'static_attributes' in the future\",\n",
      "Extracting cell state for basin:   2%|▏         | 12/669 [00:05<04:57,  2.21it/s]/home/tommy/neuralhydrology/neuralhydrology/utils/config.py:597: FutureWarning: 'camels_attributes' will be deprecated. Use 'static_attributes' in the future\n",
      "  warnings.warn(\"'camels_attributes' will be deprecated. Use 'static_attributes' in the future\",\n",
      "Extracting cell state for basin:   2%|▏         | 13/669 [00:06<05:19,  2.05it/s]/home/tommy/neuralhydrology/neuralhydrology/utils/config.py:597: FutureWarning: 'camels_attributes' will be deprecated. Use 'static_attributes' in the future\n",
      "  warnings.warn(\"'camels_attributes' will be deprecated. Use 'static_attributes' in the future\",\n",
      "Extracting cell state for basin:   2%|▏         | 14/669 [00:06<05:18,  2.05it/s]/home/tommy/neuralhydrology/neuralhydrology/utils/config.py:597: FutureWarning: 'camels_attributes' will be deprecated. Use 'static_attributes' in the future\n",
      "  warnings.warn(\"'camels_attributes' will be deprecated. Use 'static_attributes' in the future\",\n",
      "Extracting cell state for basin:   2%|▏         | 15/669 [00:07<05:11,  2.10it/s]/home/tommy/neuralhydrology/neuralhydrology/utils/config.py:597: FutureWarning: 'camels_attributes' will be deprecated. Use 'static_attributes' in the future\n",
      "  warnings.warn(\"'camels_attributes' will be deprecated. Use 'static_attributes' in the future\",\n",
      "Extracting cell state for basin:   2%|▏         | 16/669 [00:07<05:05,  2.13it/s]/home/tommy/neuralhydrology/neuralhydrology/utils/config.py:597: FutureWarning: 'camels_attributes' will be deprecated. Use 'static_attributes' in the future\n",
      "  warnings.warn(\"'camels_attributes' will be deprecated. Use 'static_attributes' in the future\",\n",
      "Extracting cell state for basin:   3%|▎         | 17/669 [00:07<05:03,  2.15it/s]/home/tommy/neuralhydrology/neuralhydrology/utils/config.py:597: FutureWarning: 'camels_attributes' will be deprecated. Use 'static_attributes' in the future\n",
      "  warnings.warn(\"'camels_attributes' will be deprecated. Use 'static_attributes' in the future\",\n",
      "Extracting cell state for basin:   3%|▎         | 18/669 [00:08<04:50,  2.24it/s]/home/tommy/neuralhydrology/neuralhydrology/utils/config.py:597: FutureWarning: 'camels_attributes' will be deprecated. Use 'static_attributes' in the future\n",
      "  warnings.warn(\"'camels_attributes' will be deprecated. Use 'static_attributes' in the future\",\n",
      "Extracting cell state for basin:   3%|▎         | 19/669 [00:08<05:22,  2.01it/s]/home/tommy/neuralhydrology/neuralhydrology/utils/config.py:597: FutureWarning: 'camels_attributes' will be deprecated. Use 'static_attributes' in the future\n",
      "  warnings.warn(\"'camels_attributes' will be deprecated. Use 'static_attributes' in the future\",\n",
      "Extracting cell state for basin:   3%|▎         | 20/669 [00:09<05:37,  1.92it/s]/home/tommy/neuralhydrology/neuralhydrology/utils/config.py:597: FutureWarning: 'camels_attributes' will be deprecated. Use 'static_attributes' in the future\n",
      "  warnings.warn(\"'camels_attributes' will be deprecated. Use 'static_attributes' in the future\",\n",
      "Extracting cell state for basin:   3%|▎         | 21/669 [00:10<05:38,  1.91it/s]/home/tommy/neuralhydrology/neuralhydrology/utils/config.py:597: FutureWarning: 'camels_attributes' will be deprecated. Use 'static_attributes' in the future\n",
      "  warnings.warn(\"'camels_attributes' will be deprecated. Use 'static_attributes' in the future\",\n",
      "Extracting cell state for basin:   3%|▎         | 22/669 [00:10<05:23,  2.00it/s]/home/tommy/neuralhydrology/neuralhydrology/utils/config.py:597: FutureWarning: 'camels_attributes' will be deprecated. Use 'static_attributes' in the future\n",
      "  warnings.warn(\"'camels_attributes' will be deprecated. Use 'static_attributes' in the future\",\n",
      "Extracting cell state for basin:   3%|▎         | 23/669 [00:10<05:19,  2.02it/s]/home/tommy/neuralhydrology/neuralhydrology/utils/config.py:597: FutureWarning: 'camels_attributes' will be deprecated. Use 'static_attributes' in the future\n",
      "  warnings.warn(\"'camels_attributes' will be deprecated. Use 'static_attributes' in the future\",\n",
      "Extracting cell state for basin:   4%|▎         | 24/669 [00:11<05:25,  1.98it/s]/home/tommy/neuralhydrology/neuralhydrology/utils/config.py:597: FutureWarning: 'camels_attributes' will be deprecated. Use 'static_attributes' in the future\n",
      "  warnings.warn(\"'camels_attributes' will be deprecated. Use 'static_attributes' in the future\",\n",
      "Extracting cell state for basin:   4%|▎         | 25/669 [00:12<05:25,  1.98it/s]/home/tommy/neuralhydrology/neuralhydrology/utils/config.py:597: FutureWarning: 'camels_attributes' will be deprecated. Use 'static_attributes' in the future\n",
      "  warnings.warn(\"'camels_attributes' will be deprecated. Use 'static_attributes' in the future\",\n",
      "Extracting cell state for basin:   4%|▍         | 26/669 [00:12<05:18,  2.02it/s]/home/tommy/neuralhydrology/neuralhydrology/utils/config.py:597: FutureWarning: 'camels_attributes' will be deprecated. Use 'static_attributes' in the future\n",
      "  warnings.warn(\"'camels_attributes' will be deprecated. Use 'static_attributes' in the future\",\n",
      "Extracting cell state for basin:   4%|▍         | 27/669 [00:13<05:22,  1.99it/s]/home/tommy/neuralhydrology/neuralhydrology/utils/config.py:597: FutureWarning: 'camels_attributes' will be deprecated. Use 'static_attributes' in the future\n",
      "  warnings.warn(\"'camels_attributes' will be deprecated. Use 'static_attributes' in the future\",\n",
      "Extracting cell state for basin:   4%|▍         | 28/669 [00:13<05:16,  2.02it/s]/home/tommy/neuralhydrology/neuralhydrology/utils/config.py:597: FutureWarning: 'camels_attributes' will be deprecated. Use 'static_attributes' in the future\n",
      "  warnings.warn(\"'camels_attributes' will be deprecated. Use 'static_attributes' in the future\",\n",
      "Extracting cell state for basin:   4%|▍         | 29/669 [00:14<05:38,  1.89it/s]/home/tommy/neuralhydrology/neuralhydrology/utils/config.py:597: FutureWarning: 'camels_attributes' will be deprecated. Use 'static_attributes' in the future\n",
      "  warnings.warn(\"'camels_attributes' will be deprecated. Use 'static_attributes' in the future\",\n",
      "Extracting cell state for basin:   4%|▍         | 30/669 [00:14<05:34,  1.91it/s]/home/tommy/neuralhydrology/neuralhydrology/utils/config.py:597: FutureWarning: 'camels_attributes' will be deprecated. Use 'static_attributes' in the future\n",
      "  warnings.warn(\"'camels_attributes' will be deprecated. Use 'static_attributes' in the future\",\n",
      "Extracting cell state for basin:   5%|▍         | 31/669 [00:15<05:20,  1.99it/s]/home/tommy/neuralhydrology/neuralhydrology/utils/config.py:597: FutureWarning: 'camels_attributes' will be deprecated. Use 'static_attributes' in the future\n",
      "  warnings.warn(\"'camels_attributes' will be deprecated. Use 'static_attributes' in the future\",\n",
      "Extracting cell state for basin:   5%|▍         | 32/669 [00:15<05:16,  2.01it/s]/home/tommy/neuralhydrology/neuralhydrology/utils/config.py:597: FutureWarning: 'camels_attributes' will be deprecated. Use 'static_attributes' in the future\n",
      "  warnings.warn(\"'camels_attributes' will be deprecated. Use 'static_attributes' in the future\",\n",
      "Extracting cell state for basin:   5%|▍         | 33/669 [00:15<05:06,  2.07it/s]/home/tommy/neuralhydrology/neuralhydrology/utils/config.py:597: FutureWarning: 'camels_attributes' will be deprecated. Use 'static_attributes' in the future\n",
      "  warnings.warn(\"'camels_attributes' will be deprecated. Use 'static_attributes' in the future\",\n",
      "Extracting cell state for basin:   5%|▌         | 34/669 [00:16<04:59,  2.12it/s]/home/tommy/neuralhydrology/neuralhydrology/utils/config.py:597: FutureWarning: 'camels_attributes' will be deprecated. Use 'static_attributes' in the future\n",
      "  warnings.warn(\"'camels_attributes' will be deprecated. Use 'static_attributes' in the future\",\n",
      "Extracting cell state for basin:   5%|▌         | 35/669 [00:16<04:58,  2.13it/s]/home/tommy/neuralhydrology/neuralhydrology/utils/config.py:597: FutureWarning: 'camels_attributes' will be deprecated. Use 'static_attributes' in the future\n",
      "  warnings.warn(\"'camels_attributes' will be deprecated. Use 'static_attributes' in the future\",\n",
      "Extracting cell state for basin:   5%|▌         | 36/669 [00:17<05:05,  2.07it/s]/home/tommy/neuralhydrology/neuralhydrology/utils/config.py:597: FutureWarning: 'camels_attributes' will be deprecated. Use 'static_attributes' in the future\n",
      "  warnings.warn(\"'camels_attributes' will be deprecated. Use 'static_attributes' in the future\",\n",
      "Extracting cell state for basin:   6%|▌         | 37/669 [00:17<05:12,  2.02it/s]/home/tommy/neuralhydrology/neuralhydrology/utils/config.py:597: FutureWarning: 'camels_attributes' will be deprecated. Use 'static_attributes' in the future\n",
      "  warnings.warn(\"'camels_attributes' will be deprecated. Use 'static_attributes' in the future\",\n",
      "Extracting cell state for basin:   6%|▌         | 38/669 [00:18<05:10,  2.03it/s]/home/tommy/neuralhydrology/neuralhydrology/utils/config.py:597: FutureWarning: 'camels_attributes' will be deprecated. Use 'static_attributes' in the future\n",
      "  warnings.warn(\"'camels_attributes' will be deprecated. Use 'static_attributes' in the future\",\n",
      "Extracting cell state for basin:   6%|▌         | 39/669 [00:19<05:27,  1.93it/s]/home/tommy/neuralhydrology/neuralhydrology/utils/config.py:597: FutureWarning: 'camels_attributes' will be deprecated. Use 'static_attributes' in the future\n",
      "  warnings.warn(\"'camels_attributes' will be deprecated. Use 'static_attributes' in the future\",\n",
      "Extracting cell state for basin:   6%|▌         | 40/669 [00:19<05:09,  2.03it/s]/home/tommy/neuralhydrology/neuralhydrology/utils/config.py:597: FutureWarning: 'camels_attributes' will be deprecated. Use 'static_attributes' in the future\n",
      "  warnings.warn(\"'camels_attributes' will be deprecated. Use 'static_attributes' in the future\",\n",
      "Extracting cell state for basin:   6%|▌         | 41/669 [00:19<05:00,  2.09it/s]/home/tommy/neuralhydrology/neuralhydrology/utils/config.py:597: FutureWarning: 'camels_attributes' will be deprecated. Use 'static_attributes' in the future\n",
      "  warnings.warn(\"'camels_attributes' will be deprecated. Use 'static_attributes' in the future\",\n",
      "Extracting cell state for basin:   6%|▋         | 42/669 [00:20<04:50,  2.16it/s]/home/tommy/neuralhydrology/neuralhydrology/utils/config.py:597: FutureWarning: 'camels_attributes' will be deprecated. Use 'static_attributes' in the future\n",
      "  warnings.warn(\"'camels_attributes' will be deprecated. Use 'static_attributes' in the future\",\n",
      "Extracting cell state for basin:   6%|▋         | 43/669 [00:20<04:53,  2.14it/s]/home/tommy/neuralhydrology/neuralhydrology/utils/config.py:597: FutureWarning: 'camels_attributes' will be deprecated. Use 'static_attributes' in the future\n",
      "  warnings.warn(\"'camels_attributes' will be deprecated. Use 'static_attributes' in the future\",\n",
      "Extracting cell state for basin:   7%|▋         | 44/669 [00:21<04:50,  2.15it/s]/home/tommy/neuralhydrology/neuralhydrology/utils/config.py:597: FutureWarning: 'camels_attributes' will be deprecated. Use 'static_attributes' in the future\n",
      "  warnings.warn(\"'camels_attributes' will be deprecated. Use 'static_attributes' in the future\",\n",
      "Extracting cell state for basin:   7%|▋         | 45/669 [00:21<05:00,  2.08it/s]/home/tommy/neuralhydrology/neuralhydrology/utils/config.py:597: FutureWarning: 'camels_attributes' will be deprecated. Use 'static_attributes' in the future\n",
      "  warnings.warn(\"'camels_attributes' will be deprecated. Use 'static_attributes' in the future\",\n",
      "Extracting cell state for basin:   7%|▋         | 46/669 [00:22<05:05,  2.04it/s]/home/tommy/neuralhydrology/neuralhydrology/utils/config.py:597: FutureWarning: 'camels_attributes' will be deprecated. Use 'static_attributes' in the future\n",
      "  warnings.warn(\"'camels_attributes' will be deprecated. Use 'static_attributes' in the future\",\n",
      "Extracting cell state for basin:   7%|▋         | 47/669 [00:22<05:13,  1.98it/s]/home/tommy/neuralhydrology/neuralhydrology/utils/config.py:597: FutureWarning: 'camels_attributes' will be deprecated. Use 'static_attributes' in the future\n",
      "  warnings.warn(\"'camels_attributes' will be deprecated. Use 'static_attributes' in the future\",\n",
      "Extracting cell state for basin:   7%|▋         | 48/669 [00:23<05:12,  1.99it/s]/home/tommy/neuralhydrology/neuralhydrology/utils/config.py:597: FutureWarning: 'camels_attributes' will be deprecated. Use 'static_attributes' in the future\n",
      "  warnings.warn(\"'camels_attributes' will be deprecated. Use 'static_attributes' in the future\",\n",
      "Extracting cell state for basin:   7%|▋         | 49/669 [00:23<05:34,  1.85it/s]/home/tommy/neuralhydrology/neuralhydrology/utils/config.py:597: FutureWarning: 'camels_attributes' will be deprecated. Use 'static_attributes' in the future\n",
      "  warnings.warn(\"'camels_attributes' will be deprecated. Use 'static_attributes' in the future\",\n",
      "Extracting cell state for basin:   7%|▋         | 50/669 [00:24<05:24,  1.91it/s]/home/tommy/neuralhydrology/neuralhydrology/utils/config.py:597: FutureWarning: 'camels_attributes' will be deprecated. Use 'static_attributes' in the future\n",
      "  warnings.warn(\"'camels_attributes' will be deprecated. Use 'static_attributes' in the future\",\n",
      "Extracting cell state for basin:   8%|▊         | 51/669 [00:24<05:20,  1.93it/s]/home/tommy/neuralhydrology/neuralhydrology/utils/config.py:597: FutureWarning: 'camels_attributes' will be deprecated. Use 'static_attributes' in the future\n",
      "  warnings.warn(\"'camels_attributes' will be deprecated. Use 'static_attributes' in the future\",\n",
      "Extracting cell state for basin:   8%|▊         | 52/669 [00:25<05:09,  1.99it/s]/home/tommy/neuralhydrology/neuralhydrology/utils/config.py:597: FutureWarning: 'camels_attributes' will be deprecated. Use 'static_attributes' in the future\n",
      "  warnings.warn(\"'camels_attributes' will be deprecated. Use 'static_attributes' in the future\",\n",
      "Extracting cell state for basin:   8%|▊         | 53/669 [00:25<05:05,  2.02it/s]/home/tommy/neuralhydrology/neuralhydrology/utils/config.py:597: FutureWarning: 'camels_attributes' will be deprecated. Use 'static_attributes' in the future\n",
      "  warnings.warn(\"'camels_attributes' will be deprecated. Use 'static_attributes' in the future\",\n",
      "Extracting cell state for basin:   8%|▊         | 54/669 [00:26<04:53,  2.09it/s]/home/tommy/neuralhydrology/neuralhydrology/utils/config.py:597: FutureWarning: 'camels_attributes' will be deprecated. Use 'static_attributes' in the future\n",
      "  warnings.warn(\"'camels_attributes' will be deprecated. Use 'static_attributes' in the future\",\n",
      "Extracting cell state for basin:   8%|▊         | 55/669 [00:26<05:04,  2.02it/s]/home/tommy/neuralhydrology/neuralhydrology/utils/config.py:597: FutureWarning: 'camels_attributes' will be deprecated. Use 'static_attributes' in the future\n",
      "  warnings.warn(\"'camels_attributes' will be deprecated. Use 'static_attributes' in the future\",\n",
      "Extracting cell state for basin:   8%|▊         | 56/669 [00:27<05:08,  1.99it/s]/home/tommy/neuralhydrology/neuralhydrology/utils/config.py:597: FutureWarning: 'camels_attributes' will be deprecated. Use 'static_attributes' in the future\n",
      "  warnings.warn(\"'camels_attributes' will be deprecated. Use 'static_attributes' in the future\",\n",
      "Extracting cell state for basin:   9%|▊         | 57/669 [00:27<05:14,  1.95it/s]/home/tommy/neuralhydrology/neuralhydrology/utils/config.py:597: FutureWarning: 'camels_attributes' will be deprecated. Use 'static_attributes' in the future\n",
      "  warnings.warn(\"'camels_attributes' will be deprecated. Use 'static_attributes' in the future\",\n",
      "Extracting cell state for basin:   9%|▊         | 58/669 [00:28<05:01,  2.03it/s]/home/tommy/neuralhydrology/neuralhydrology/utils/config.py:597: FutureWarning: 'camels_attributes' will be deprecated. Use 'static_attributes' in the future\n",
      "  warnings.warn(\"'camels_attributes' will be deprecated. Use 'static_attributes' in the future\",\n",
      "Extracting cell state for basin:   9%|▉         | 59/669 [00:29<05:29,  1.85it/s]/home/tommy/neuralhydrology/neuralhydrology/utils/config.py:597: FutureWarning: 'camels_attributes' will be deprecated. Use 'static_attributes' in the future\n",
      "  warnings.warn(\"'camels_attributes' will be deprecated. Use 'static_attributes' in the future\",\n",
      "Extracting cell state for basin:   9%|▉         | 60/669 [00:29<05:04,  2.00it/s]/home/tommy/neuralhydrology/neuralhydrology/utils/config.py:597: FutureWarning: 'camels_attributes' will be deprecated. Use 'static_attributes' in the future\n",
      "  warnings.warn(\"'camels_attributes' will be deprecated. Use 'static_attributes' in the future\",\n",
      "Extracting cell state for basin:   9%|▉         | 61/669 [00:29<04:48,  2.11it/s]/home/tommy/neuralhydrology/neuralhydrology/utils/config.py:597: FutureWarning: 'camels_attributes' will be deprecated. Use 'static_attributes' in the future\n",
      "  warnings.warn(\"'camels_attributes' will be deprecated. Use 'static_attributes' in the future\",\n",
      "Extracting cell state for basin:   9%|▉         | 62/669 [00:30<04:48,  2.10it/s]/home/tommy/neuralhydrology/neuralhydrology/utils/config.py:597: FutureWarning: 'camels_attributes' will be deprecated. Use 'static_attributes' in the future\n",
      "  warnings.warn(\"'camels_attributes' will be deprecated. Use 'static_attributes' in the future\",\n",
      "Extracting cell state for basin:   9%|▉         | 63/669 [00:30<04:37,  2.18it/s]/home/tommy/neuralhydrology/neuralhydrology/utils/config.py:597: FutureWarning: 'camels_attributes' will be deprecated. Use 'static_attributes' in the future\n",
      "  warnings.warn(\"'camels_attributes' will be deprecated. Use 'static_attributes' in the future\",\n",
      "Extracting cell state for basin:  10%|▉         | 64/669 [00:31<04:31,  2.23it/s]/home/tommy/neuralhydrology/neuralhydrology/utils/config.py:597: FutureWarning: 'camels_attributes' will be deprecated. Use 'static_attributes' in the future\n",
      "  warnings.warn(\"'camels_attributes' will be deprecated. Use 'static_attributes' in the future\",\n",
      "Extracting cell state for basin:  10%|▉         | 65/669 [00:31<04:24,  2.29it/s]/home/tommy/neuralhydrology/neuralhydrology/utils/config.py:597: FutureWarning: 'camels_attributes' will be deprecated. Use 'static_attributes' in the future\n",
      "  warnings.warn(\"'camels_attributes' will be deprecated. Use 'static_attributes' in the future\",\n",
      "Extracting cell state for basin:  10%|▉         | 66/669 [00:31<04:23,  2.29it/s]/home/tommy/neuralhydrology/neuralhydrology/utils/config.py:597: FutureWarning: 'camels_attributes' will be deprecated. Use 'static_attributes' in the future\n",
      "  warnings.warn(\"'camels_attributes' will be deprecated. Use 'static_attributes' in the future\",\n",
      "Extracting cell state for basin:  10%|█         | 67/669 [00:32<04:21,  2.30it/s]/home/tommy/neuralhydrology/neuralhydrology/utils/config.py:597: FutureWarning: 'camels_attributes' will be deprecated. Use 'static_attributes' in the future\n",
      "  warnings.warn(\"'camels_attributes' will be deprecated. Use 'static_attributes' in the future\",\n",
      "Extracting cell state for basin:  10%|█         | 68/669 [00:32<04:21,  2.30it/s]/home/tommy/neuralhydrology/neuralhydrology/utils/config.py:597: FutureWarning: 'camels_attributes' will be deprecated. Use 'static_attributes' in the future\n",
      "  warnings.warn(\"'camels_attributes' will be deprecated. Use 'static_attributes' in the future\",\n",
      "Extracting cell state for basin:  10%|█         | 69/669 [00:33<04:55,  2.03it/s]/home/tommy/neuralhydrology/neuralhydrology/utils/config.py:597: FutureWarning: 'camels_attributes' will be deprecated. Use 'static_attributes' in the future\n",
      "  warnings.warn(\"'camels_attributes' will be deprecated. Use 'static_attributes' in the future\",\n",
      "Extracting cell state for basin:  10%|█         | 70/669 [00:34<05:08,  1.94it/s]/home/tommy/neuralhydrology/neuralhydrology/utils/config.py:597: FutureWarning: 'camels_attributes' will be deprecated. Use 'static_attributes' in the future\n",
      "  warnings.warn(\"'camels_attributes' will be deprecated. Use 'static_attributes' in the future\",\n",
      "Extracting cell state for basin:  11%|█         | 71/669 [00:34<04:54,  2.03it/s]/home/tommy/neuralhydrology/neuralhydrology/utils/config.py:597: FutureWarning: 'camels_attributes' will be deprecated. Use 'static_attributes' in the future\n",
      "  warnings.warn(\"'camels_attributes' will be deprecated. Use 'static_attributes' in the future\",\n",
      "Extracting cell state for basin:  11%|█         | 72/669 [00:34<04:49,  2.06it/s]/home/tommy/neuralhydrology/neuralhydrology/utils/config.py:597: FutureWarning: 'camels_attributes' will be deprecated. Use 'static_attributes' in the future\n",
      "  warnings.warn(\"'camels_attributes' will be deprecated. Use 'static_attributes' in the future\",\n",
      "Extracting cell state for basin:  11%|█         | 73/669 [00:35<04:46,  2.08it/s]/home/tommy/neuralhydrology/neuralhydrology/utils/config.py:597: FutureWarning: 'camels_attributes' will be deprecated. Use 'static_attributes' in the future\n",
      "  warnings.warn(\"'camels_attributes' will be deprecated. Use 'static_attributes' in the future\",\n",
      "Extracting cell state for basin:  11%|█         | 74/669 [00:35<04:35,  2.16it/s]/home/tommy/neuralhydrology/neuralhydrology/utils/config.py:597: FutureWarning: 'camels_attributes' will be deprecated. Use 'static_attributes' in the future\n",
      "  warnings.warn(\"'camels_attributes' will be deprecated. Use 'static_attributes' in the future\",\n",
      "Extracting cell state for basin:  11%|█         | 75/669 [00:36<04:26,  2.23it/s]/home/tommy/neuralhydrology/neuralhydrology/utils/config.py:597: FutureWarning: 'camels_attributes' will be deprecated. Use 'static_attributes' in the future\n",
      "  warnings.warn(\"'camels_attributes' will be deprecated. Use 'static_attributes' in the future\",\n",
      "Extracting cell state for basin:  11%|█▏        | 76/669 [00:36<04:18,  2.29it/s]/home/tommy/neuralhydrology/neuralhydrology/utils/config.py:597: FutureWarning: 'camels_attributes' will be deprecated. Use 'static_attributes' in the future\n",
      "  warnings.warn(\"'camels_attributes' will be deprecated. Use 'static_attributes' in the future\",\n",
      "Extracting cell state for basin:  12%|█▏        | 77/669 [00:37<04:12,  2.35it/s]/home/tommy/neuralhydrology/neuralhydrology/utils/config.py:597: FutureWarning: 'camels_attributes' will be deprecated. Use 'static_attributes' in the future\n",
      "  warnings.warn(\"'camels_attributes' will be deprecated. Use 'static_attributes' in the future\",\n",
      "Extracting cell state for basin:  12%|█▏        | 78/669 [00:37<04:22,  2.25it/s]/home/tommy/neuralhydrology/neuralhydrology/utils/config.py:597: FutureWarning: 'camels_attributes' will be deprecated. Use 'static_attributes' in the future\n",
      "  warnings.warn(\"'camels_attributes' will be deprecated. Use 'static_attributes' in the future\",\n",
      "Extracting cell state for basin:  12%|█▏        | 79/669 [00:38<04:58,  1.98it/s]/home/tommy/neuralhydrology/neuralhydrology/utils/config.py:597: FutureWarning: 'camels_attributes' will be deprecated. Use 'static_attributes' in the future\n",
      "  warnings.warn(\"'camels_attributes' will be deprecated. Use 'static_attributes' in the future\",\n",
      "Extracting cell state for basin:  12%|█▏        | 80/669 [00:38<04:52,  2.01it/s]/home/tommy/neuralhydrology/neuralhydrology/utils/config.py:597: FutureWarning: 'camels_attributes' will be deprecated. Use 'static_attributes' in the future\n",
      "  warnings.warn(\"'camels_attributes' will be deprecated. Use 'static_attributes' in the future\",\n",
      "Extracting cell state for basin:  12%|█▏        | 81/669 [00:39<04:54,  2.00it/s]/home/tommy/neuralhydrology/neuralhydrology/utils/config.py:597: FutureWarning: 'camels_attributes' will be deprecated. Use 'static_attributes' in the future\n",
      "  warnings.warn(\"'camels_attributes' will be deprecated. Use 'static_attributes' in the future\",\n",
      "Extracting cell state for basin:  12%|█▏        | 82/669 [00:39<04:52,  2.01it/s]/home/tommy/neuralhydrology/neuralhydrology/utils/config.py:597: FutureWarning: 'camels_attributes' will be deprecated. Use 'static_attributes' in the future\n",
      "  warnings.warn(\"'camels_attributes' will be deprecated. Use 'static_attributes' in the future\",\n",
      "Extracting cell state for basin:  12%|█▏        | 83/669 [00:40<04:49,  2.02it/s]/home/tommy/neuralhydrology/neuralhydrology/utils/config.py:597: FutureWarning: 'camels_attributes' will be deprecated. Use 'static_attributes' in the future\n",
      "  warnings.warn(\"'camels_attributes' will be deprecated. Use 'static_attributes' in the future\",\n",
      "Extracting cell state for basin:  13%|█▎        | 84/669 [00:40<04:48,  2.03it/s]/home/tommy/neuralhydrology/neuralhydrology/utils/config.py:597: FutureWarning: 'camels_attributes' will be deprecated. Use 'static_attributes' in the future\n",
      "  warnings.warn(\"'camels_attributes' will be deprecated. Use 'static_attributes' in the future\",\n",
      "Extracting cell state for basin:  13%|█▎        | 85/669 [00:41<04:39,  2.09it/s]/home/tommy/neuralhydrology/neuralhydrology/utils/config.py:597: FutureWarning: 'camels_attributes' will be deprecated. Use 'static_attributes' in the future\n",
      "  warnings.warn(\"'camels_attributes' will be deprecated. Use 'static_attributes' in the future\",\n",
      "Extracting cell state for basin:  13%|█▎        | 86/669 [00:41<04:34,  2.13it/s]/home/tommy/neuralhydrology/neuralhydrology/utils/config.py:597: FutureWarning: 'camels_attributes' will be deprecated. Use 'static_attributes' in the future\n",
      "  warnings.warn(\"'camels_attributes' will be deprecated. Use 'static_attributes' in the future\",\n",
      "Extracting cell state for basin:  13%|█▎        | 87/669 [00:42<04:28,  2.17it/s]/home/tommy/neuralhydrology/neuralhydrology/utils/config.py:597: FutureWarning: 'camels_attributes' will be deprecated. Use 'static_attributes' in the future\n",
      "  warnings.warn(\"'camels_attributes' will be deprecated. Use 'static_attributes' in the future\",\n",
      "Extracting cell state for basin:  13%|█▎        | 88/669 [00:42<04:31,  2.14it/s]/home/tommy/neuralhydrology/neuralhydrology/utils/config.py:597: FutureWarning: 'camels_attributes' will be deprecated. Use 'static_attributes' in the future\n",
      "  warnings.warn(\"'camels_attributes' will be deprecated. Use 'static_attributes' in the future\",\n",
      "Extracting cell state for basin:  13%|█▎        | 89/669 [00:43<04:52,  1.98it/s]/home/tommy/neuralhydrology/neuralhydrology/utils/config.py:597: FutureWarning: 'camels_attributes' will be deprecated. Use 'static_attributes' in the future\n",
      "  warnings.warn(\"'camels_attributes' will be deprecated. Use 'static_attributes' in the future\",\n",
      "Extracting cell state for basin:  13%|█▎        | 90/669 [00:43<04:49,  2.00it/s]/home/tommy/neuralhydrology/neuralhydrology/utils/config.py:597: FutureWarning: 'camels_attributes' will be deprecated. Use 'static_attributes' in the future\n",
      "  warnings.warn(\"'camels_attributes' will be deprecated. Use 'static_attributes' in the future\",\n",
      "Extracting cell state for basin:  14%|█▎        | 91/669 [00:44<04:47,  2.01it/s]/home/tommy/neuralhydrology/neuralhydrology/utils/config.py:597: FutureWarning: 'camels_attributes' will be deprecated. Use 'static_attributes' in the future\n",
      "  warnings.warn(\"'camels_attributes' will be deprecated. Use 'static_attributes' in the future\",\n",
      "Extracting cell state for basin:  14%|█▍        | 92/669 [00:44<04:41,  2.05it/s]/home/tommy/neuralhydrology/neuralhydrology/utils/config.py:597: FutureWarning: 'camels_attributes' will be deprecated. Use 'static_attributes' in the future\n",
      "  warnings.warn(\"'camels_attributes' will be deprecated. Use 'static_attributes' in the future\",\n",
      "Extracting cell state for basin:  14%|█▍        | 93/669 [00:44<04:33,  2.11it/s]/home/tommy/neuralhydrology/neuralhydrology/utils/config.py:597: FutureWarning: 'camels_attributes' will be deprecated. Use 'static_attributes' in the future\n",
      "  warnings.warn(\"'camels_attributes' will be deprecated. Use 'static_attributes' in the future\",\n",
      "Extracting cell state for basin:  14%|█▍        | 94/669 [00:45<04:25,  2.17it/s]/home/tommy/neuralhydrology/neuralhydrology/utils/config.py:597: FutureWarning: 'camels_attributes' will be deprecated. Use 'static_attributes' in the future\n",
      "  warnings.warn(\"'camels_attributes' will be deprecated. Use 'static_attributes' in the future\",\n",
      "Extracting cell state for basin:  14%|█▍        | 95/669 [00:45<04:19,  2.21it/s]/home/tommy/neuralhydrology/neuralhydrology/utils/config.py:597: FutureWarning: 'camels_attributes' will be deprecated. Use 'static_attributes' in the future\n",
      "  warnings.warn(\"'camels_attributes' will be deprecated. Use 'static_attributes' in the future\",\n",
      "Extracting cell state for basin:  14%|█▍        | 96/669 [00:46<04:13,  2.26it/s]/home/tommy/neuralhydrology/neuralhydrology/utils/config.py:597: FutureWarning: 'camels_attributes' will be deprecated. Use 'static_attributes' in the future\n",
      "  warnings.warn(\"'camels_attributes' will be deprecated. Use 'static_attributes' in the future\",\n",
      "Extracting cell state for basin:  14%|█▍        | 97/669 [00:46<04:11,  2.27it/s]/home/tommy/neuralhydrology/neuralhydrology/utils/config.py:597: FutureWarning: 'camels_attributes' will be deprecated. Use 'static_attributes' in the future\n",
      "  warnings.warn(\"'camels_attributes' will be deprecated. Use 'static_attributes' in the future\",\n",
      "Extracting cell state for basin:  15%|█▍        | 98/669 [00:47<04:06,  2.31it/s]/home/tommy/neuralhydrology/neuralhydrology/utils/config.py:597: FutureWarning: 'camels_attributes' will be deprecated. Use 'static_attributes' in the future\n",
      "  warnings.warn(\"'camels_attributes' will be deprecated. Use 'static_attributes' in the future\",\n",
      "Extracting cell state for basin:  15%|█▍        | 99/669 [00:47<04:39,  2.04it/s]/home/tommy/neuralhydrology/neuralhydrology/utils/config.py:597: FutureWarning: 'camels_attributes' will be deprecated. Use 'static_attributes' in the future\n",
      "  warnings.warn(\"'camels_attributes' will be deprecated. Use 'static_attributes' in the future\",\n",
      "Extracting cell state for basin:  15%|█▍        | 100/669 [00:48<04:37,  2.05it/s]/home/tommy/neuralhydrology/neuralhydrology/utils/config.py:597: FutureWarning: 'camels_attributes' will be deprecated. Use 'static_attributes' in the future\n",
      "  warnings.warn(\"'camels_attributes' will be deprecated. Use 'static_attributes' in the future\",\n",
      "Extracting cell state for basin:  15%|█▌        | 101/669 [00:48<04:24,  2.15it/s]/home/tommy/neuralhydrology/neuralhydrology/utils/config.py:597: FutureWarning: 'camels_attributes' will be deprecated. Use 'static_attributes' in the future\n",
      "  warnings.warn(\"'camels_attributes' will be deprecated. Use 'static_attributes' in the future\",\n",
      "Extracting cell state for basin:  15%|█▌        | 102/669 [00:49<04:22,  2.16it/s]/home/tommy/neuralhydrology/neuralhydrology/utils/config.py:597: FutureWarning: 'camels_attributes' will be deprecated. Use 'static_attributes' in the future\n",
      "  warnings.warn(\"'camels_attributes' will be deprecated. Use 'static_attributes' in the future\",\n",
      "Extracting cell state for basin:  15%|█▌        | 103/669 [00:49<04:38,  2.03it/s]/home/tommy/neuralhydrology/neuralhydrology/utils/config.py:597: FutureWarning: 'camels_attributes' will be deprecated. Use 'static_attributes' in the future\n",
      "  warnings.warn(\"'camels_attributes' will be deprecated. Use 'static_attributes' in the future\",\n",
      "Extracting cell state for basin:  16%|█▌        | 104/669 [00:50<04:39,  2.02it/s]/home/tommy/neuralhydrology/neuralhydrology/utils/config.py:597: FutureWarning: 'camels_attributes' will be deprecated. Use 'static_attributes' in the future\n",
      "  warnings.warn(\"'camels_attributes' will be deprecated. Use 'static_attributes' in the future\",\n",
      "Extracting cell state for basin:  16%|█▌        | 105/669 [00:50<04:38,  2.02it/s]/home/tommy/neuralhydrology/neuralhydrology/utils/config.py:597: FutureWarning: 'camels_attributes' will be deprecated. Use 'static_attributes' in the future\n",
      "  warnings.warn(\"'camels_attributes' will be deprecated. Use 'static_attributes' in the future\",\n",
      "Extracting cell state for basin:  16%|█▌        | 106/669 [00:51<04:48,  1.95it/s]/home/tommy/neuralhydrology/neuralhydrology/utils/config.py:597: FutureWarning: 'camels_attributes' will be deprecated. Use 'static_attributes' in the future\n",
      "  warnings.warn(\"'camels_attributes' will be deprecated. Use 'static_attributes' in the future\",\n",
      "Extracting cell state for basin:  16%|█▌        | 107/669 [00:51<04:35,  2.04it/s]/home/tommy/neuralhydrology/neuralhydrology/utils/config.py:597: FutureWarning: 'camels_attributes' will be deprecated. Use 'static_attributes' in the future\n",
      "  warnings.warn(\"'camels_attributes' will be deprecated. Use 'static_attributes' in the future\",\n",
      "Extracting cell state for basin:  16%|█▌        | 108/669 [00:52<04:30,  2.07it/s]/home/tommy/neuralhydrology/neuralhydrology/utils/config.py:597: FutureWarning: 'camels_attributes' will be deprecated. Use 'static_attributes' in the future\n",
      "  warnings.warn(\"'camels_attributes' will be deprecated. Use 'static_attributes' in the future\",\n",
      "Extracting cell state for basin:  16%|█▋        | 109/669 [00:52<04:47,  1.95it/s]/home/tommy/neuralhydrology/neuralhydrology/utils/config.py:597: FutureWarning: 'camels_attributes' will be deprecated. Use 'static_attributes' in the future\n",
      "  warnings.warn(\"'camels_attributes' will be deprecated. Use 'static_attributes' in the future\",\n",
      "Extracting cell state for basin:  16%|█▋        | 110/669 [00:53<04:34,  2.03it/s]/home/tommy/neuralhydrology/neuralhydrology/utils/config.py:597: FutureWarning: 'camels_attributes' will be deprecated. Use 'static_attributes' in the future\n",
      "  warnings.warn(\"'camels_attributes' will be deprecated. Use 'static_attributes' in the future\",\n",
      "Extracting cell state for basin:  17%|█▋        | 111/669 [00:53<04:36,  2.02it/s]/home/tommy/neuralhydrology/neuralhydrology/utils/config.py:597: FutureWarning: 'camels_attributes' will be deprecated. Use 'static_attributes' in the future\n",
      "  warnings.warn(\"'camels_attributes' will be deprecated. Use 'static_attributes' in the future\",\n",
      "Extracting cell state for basin:  17%|█▋        | 112/669 [00:54<04:41,  1.98it/s]/home/tommy/neuralhydrology/neuralhydrology/utils/config.py:597: FutureWarning: 'camels_attributes' will be deprecated. Use 'static_attributes' in the future\n",
      "  warnings.warn(\"'camels_attributes' will be deprecated. Use 'static_attributes' in the future\",\n",
      "Extracting cell state for basin:  17%|█▋        | 113/669 [00:54<04:39,  1.99it/s]/home/tommy/neuralhydrology/neuralhydrology/utils/config.py:597: FutureWarning: 'camels_attributes' will be deprecated. Use 'static_attributes' in the future\n",
      "  warnings.warn(\"'camels_attributes' will be deprecated. Use 'static_attributes' in the future\",\n",
      "Extracting cell state for basin:  17%|█▋        | 114/669 [00:55<04:30,  2.05it/s]/home/tommy/neuralhydrology/neuralhydrology/utils/config.py:597: FutureWarning: 'camels_attributes' will be deprecated. Use 'static_attributes' in the future\n",
      "  warnings.warn(\"'camels_attributes' will be deprecated. Use 'static_attributes' in the future\",\n",
      "Extracting cell state for basin:  17%|█▋        | 115/669 [00:55<04:22,  2.11it/s]/home/tommy/neuralhydrology/neuralhydrology/utils/config.py:597: FutureWarning: 'camels_attributes' will be deprecated. Use 'static_attributes' in the future\n",
      "  warnings.warn(\"'camels_attributes' will be deprecated. Use 'static_attributes' in the future\",\n",
      "Extracting cell state for basin:  17%|█▋        | 116/669 [00:55<04:15,  2.16it/s]/home/tommy/neuralhydrology/neuralhydrology/utils/config.py:597: FutureWarning: 'camels_attributes' will be deprecated. Use 'static_attributes' in the future\n",
      "  warnings.warn(\"'camels_attributes' will be deprecated. Use 'static_attributes' in the future\",\n",
      "Extracting cell state for basin:  17%|█▋        | 117/669 [00:56<04:10,  2.21it/s]/home/tommy/neuralhydrology/neuralhydrology/utils/config.py:597: FutureWarning: 'camels_attributes' will be deprecated. Use 'static_attributes' in the future\n",
      "  warnings.warn(\"'camels_attributes' will be deprecated. Use 'static_attributes' in the future\",\n",
      "Extracting cell state for basin:  18%|█▊        | 118/669 [00:56<04:06,  2.24it/s]/home/tommy/neuralhydrology/neuralhydrology/utils/config.py:597: FutureWarning: 'camels_attributes' will be deprecated. Use 'static_attributes' in the future\n",
      "  warnings.warn(\"'camels_attributes' will be deprecated. Use 'static_attributes' in the future\",\n",
      "Extracting cell state for basin:  18%|█▊        | 119/669 [00:57<04:32,  2.02it/s]/home/tommy/neuralhydrology/neuralhydrology/utils/config.py:597: FutureWarning: 'camels_attributes' will be deprecated. Use 'static_attributes' in the future\n",
      "  warnings.warn(\"'camels_attributes' will be deprecated. Use 'static_attributes' in the future\",\n",
      "Extracting cell state for basin:  18%|█▊        | 120/669 [00:57<04:32,  2.02it/s]/home/tommy/neuralhydrology/neuralhydrology/utils/config.py:597: FutureWarning: 'camels_attributes' will be deprecated. Use 'static_attributes' in the future\n",
      "  warnings.warn(\"'camels_attributes' will be deprecated. Use 'static_attributes' in the future\",\n",
      "Extracting cell state for basin:  18%|█▊        | 121/669 [00:58<04:29,  2.03it/s]/home/tommy/neuralhydrology/neuralhydrology/utils/config.py:597: FutureWarning: 'camels_attributes' will be deprecated. Use 'static_attributes' in the future\n",
      "  warnings.warn(\"'camels_attributes' will be deprecated. Use 'static_attributes' in the future\",\n",
      "Extracting cell state for basin:  18%|█▊        | 122/669 [00:58<04:14,  2.15it/s]/home/tommy/neuralhydrology/neuralhydrology/utils/config.py:597: FutureWarning: 'camels_attributes' will be deprecated. Use 'static_attributes' in the future\n",
      "  warnings.warn(\"'camels_attributes' will be deprecated. Use 'static_attributes' in the future\",\n",
      "Extracting cell state for basin:  18%|█▊        | 123/669 [00:59<04:05,  2.22it/s]/home/tommy/neuralhydrology/neuralhydrology/utils/config.py:597: FutureWarning: 'camels_attributes' will be deprecated. Use 'static_attributes' in the future\n",
      "  warnings.warn(\"'camels_attributes' will be deprecated. Use 'static_attributes' in the future\",\n",
      "Extracting cell state for basin:  19%|█▊        | 124/669 [00:59<04:03,  2.23it/s]/home/tommy/neuralhydrology/neuralhydrology/utils/config.py:597: FutureWarning: 'camels_attributes' will be deprecated. Use 'static_attributes' in the future\n",
      "  warnings.warn(\"'camels_attributes' will be deprecated. Use 'static_attributes' in the future\",\n",
      "Extracting cell state for basin:  19%|█▊        | 125/669 [01:00<04:02,  2.24it/s]/home/tommy/neuralhydrology/neuralhydrology/utils/config.py:597: FutureWarning: 'camels_attributes' will be deprecated. Use 'static_attributes' in the future\n",
      "  warnings.warn(\"'camels_attributes' will be deprecated. Use 'static_attributes' in the future\",\n",
      "Extracting cell state for basin:  19%|█▉        | 126/669 [01:00<04:11,  2.16it/s]/home/tommy/neuralhydrology/neuralhydrology/utils/config.py:597: FutureWarning: 'camels_attributes' will be deprecated. Use 'static_attributes' in the future\n",
      "  warnings.warn(\"'camels_attributes' will be deprecated. Use 'static_attributes' in the future\",\n",
      "Extracting cell state for basin:  19%|█▉        | 127/669 [01:01<04:34,  1.97it/s]/home/tommy/neuralhydrology/neuralhydrology/utils/config.py:597: FutureWarning: 'camels_attributes' will be deprecated. Use 'static_attributes' in the future\n",
      "  warnings.warn(\"'camels_attributes' will be deprecated. Use 'static_attributes' in the future\",\n",
      "Extracting cell state for basin:  19%|█▉        | 128/669 [01:01<04:27,  2.02it/s]/home/tommy/neuralhydrology/neuralhydrology/utils/config.py:597: FutureWarning: 'camels_attributes' will be deprecated. Use 'static_attributes' in the future\n",
      "  warnings.warn(\"'camels_attributes' will be deprecated. Use 'static_attributes' in the future\",\n",
      "Extracting cell state for basin:  19%|█▉        | 129/669 [01:02<04:46,  1.88it/s]/home/tommy/neuralhydrology/neuralhydrology/utils/config.py:597: FutureWarning: 'camels_attributes' will be deprecated. Use 'static_attributes' in the future\n",
      "  warnings.warn(\"'camels_attributes' will be deprecated. Use 'static_attributes' in the future\",\n",
      "Extracting cell state for basin:  19%|█▉        | 130/669 [01:02<04:36,  1.95it/s]/home/tommy/neuralhydrology/neuralhydrology/utils/config.py:597: FutureWarning: 'camels_attributes' will be deprecated. Use 'static_attributes' in the future\n",
      "  warnings.warn(\"'camels_attributes' will be deprecated. Use 'static_attributes' in the future\",\n",
      "Extracting cell state for basin:  20%|█▉        | 131/669 [01:03<04:27,  2.01it/s]/home/tommy/neuralhydrology/neuralhydrology/utils/config.py:597: FutureWarning: 'camels_attributes' will be deprecated. Use 'static_attributes' in the future\n",
      "  warnings.warn(\"'camels_attributes' will be deprecated. Use 'static_attributes' in the future\",\n",
      "Extracting cell state for basin:  20%|█▉        | 132/669 [01:03<04:35,  1.95it/s]/home/tommy/neuralhydrology/neuralhydrology/utils/config.py:597: FutureWarning: 'camels_attributes' will be deprecated. Use 'static_attributes' in the future\n",
      "  warnings.warn(\"'camels_attributes' will be deprecated. Use 'static_attributes' in the future\",\n",
      "Extracting cell state for basin:  20%|█▉        | 133/669 [01:04<04:25,  2.02it/s]/home/tommy/neuralhydrology/neuralhydrology/utils/config.py:597: FutureWarning: 'camels_attributes' will be deprecated. Use 'static_attributes' in the future\n",
      "  warnings.warn(\"'camels_attributes' will be deprecated. Use 'static_attributes' in the future\",\n",
      "Extracting cell state for basin:  20%|██        | 134/669 [01:04<04:17,  2.08it/s]/home/tommy/neuralhydrology/neuralhydrology/utils/config.py:597: FutureWarning: 'camels_attributes' will be deprecated. Use 'static_attributes' in the future\n",
      "  warnings.warn(\"'camels_attributes' will be deprecated. Use 'static_attributes' in the future\",\n",
      "Extracting cell state for basin:  20%|██        | 135/669 [01:05<04:07,  2.16it/s]/home/tommy/neuralhydrology/neuralhydrology/utils/config.py:597: FutureWarning: 'camels_attributes' will be deprecated. Use 'static_attributes' in the future\n",
      "  warnings.warn(\"'camels_attributes' will be deprecated. Use 'static_attributes' in the future\",\n",
      "Extracting cell state for basin:  20%|██        | 136/669 [01:05<04:00,  2.22it/s]/home/tommy/neuralhydrology/neuralhydrology/utils/config.py:597: FutureWarning: 'camels_attributes' will be deprecated. Use 'static_attributes' in the future\n",
      "  warnings.warn(\"'camels_attributes' will be deprecated. Use 'static_attributes' in the future\",\n",
      "Extracting cell state for basin:  20%|██        | 137/669 [01:05<03:56,  2.25it/s]/home/tommy/neuralhydrology/neuralhydrology/utils/config.py:597: FutureWarning: 'camels_attributes' will be deprecated. Use 'static_attributes' in the future\n",
      "  warnings.warn(\"'camels_attributes' will be deprecated. Use 'static_attributes' in the future\",\n",
      "Extracting cell state for basin:  21%|██        | 138/669 [01:06<03:49,  2.31it/s]/home/tommy/neuralhydrology/neuralhydrology/utils/config.py:597: FutureWarning: 'camels_attributes' will be deprecated. Use 'static_attributes' in the future\n",
      "  warnings.warn(\"'camels_attributes' will be deprecated. Use 'static_attributes' in the future\",\n",
      "Extracting cell state for basin:  21%|██        | 139/669 [01:06<04:16,  2.07it/s]/home/tommy/neuralhydrology/neuralhydrology/utils/config.py:597: FutureWarning: 'camels_attributes' will be deprecated. Use 'static_attributes' in the future\n",
      "  warnings.warn(\"'camels_attributes' will be deprecated. Use 'static_attributes' in the future\",\n",
      "Extracting cell state for basin:  21%|██        | 140/669 [01:07<04:42,  1.87it/s]/home/tommy/neuralhydrology/neuralhydrology/utils/config.py:597: FutureWarning: 'camels_attributes' will be deprecated. Use 'static_attributes' in the future\n",
      "  warnings.warn(\"'camels_attributes' will be deprecated. Use 'static_attributes' in the future\",\n",
      "Extracting cell state for basin:  21%|██        | 141/669 [01:08<04:33,  1.93it/s]/home/tommy/neuralhydrology/neuralhydrology/utils/config.py:597: FutureWarning: 'camels_attributes' will be deprecated. Use 'static_attributes' in the future\n",
      "  warnings.warn(\"'camels_attributes' will be deprecated. Use 'static_attributes' in the future\",\n",
      "Extracting cell state for basin:  21%|██        | 142/669 [01:08<04:40,  1.88it/s]/home/tommy/neuralhydrology/neuralhydrology/utils/config.py:597: FutureWarning: 'camels_attributes' will be deprecated. Use 'static_attributes' in the future\n",
      "  warnings.warn(\"'camels_attributes' will be deprecated. Use 'static_attributes' in the future\",\n",
      "Extracting cell state for basin:  21%|██▏       | 143/669 [01:09<04:24,  1.99it/s]/home/tommy/neuralhydrology/neuralhydrology/utils/config.py:597: FutureWarning: 'camels_attributes' will be deprecated. Use 'static_attributes' in the future\n",
      "  warnings.warn(\"'camels_attributes' will be deprecated. Use 'static_attributes' in the future\",\n",
      "Extracting cell state for basin:  22%|██▏       | 144/669 [01:09<04:30,  1.94it/s]/home/tommy/neuralhydrology/neuralhydrology/utils/config.py:597: FutureWarning: 'camels_attributes' will be deprecated. Use 'static_attributes' in the future\n",
      "  warnings.warn(\"'camels_attributes' will be deprecated. Use 'static_attributes' in the future\",\n",
      "Extracting cell state for basin:  22%|██▏       | 145/669 [01:10<04:27,  1.96it/s]/home/tommy/neuralhydrology/neuralhydrology/utils/config.py:597: FutureWarning: 'camels_attributes' will be deprecated. Use 'static_attributes' in the future\n",
      "  warnings.warn(\"'camels_attributes' will be deprecated. Use 'static_attributes' in the future\",\n",
      "Extracting cell state for basin:  22%|██▏       | 146/669 [01:10<04:16,  2.04it/s]/home/tommy/neuralhydrology/neuralhydrology/utils/config.py:597: FutureWarning: 'camels_attributes' will be deprecated. Use 'static_attributes' in the future\n",
      "  warnings.warn(\"'camels_attributes' will be deprecated. Use 'static_attributes' in the future\",\n",
      "Extracting cell state for basin:  22%|██▏       | 147/669 [01:11<04:07,  2.11it/s]/home/tommy/neuralhydrology/neuralhydrology/utils/config.py:597: FutureWarning: 'camels_attributes' will be deprecated. Use 'static_attributes' in the future\n",
      "  warnings.warn(\"'camels_attributes' will be deprecated. Use 'static_attributes' in the future\",\n",
      "Extracting cell state for basin:  22%|██▏       | 148/669 [01:11<04:02,  2.15it/s]/home/tommy/neuralhydrology/neuralhydrology/utils/config.py:597: FutureWarning: 'camels_attributes' will be deprecated. Use 'static_attributes' in the future\n",
      "  warnings.warn(\"'camels_attributes' will be deprecated. Use 'static_attributes' in the future\",\n",
      "Extracting cell state for basin:  22%|██▏       | 149/669 [01:12<04:25,  1.96it/s]/home/tommy/neuralhydrology/neuralhydrology/utils/config.py:597: FutureWarning: 'camels_attributes' will be deprecated. Use 'static_attributes' in the future\n",
      "  warnings.warn(\"'camels_attributes' will be deprecated. Use 'static_attributes' in the future\",\n",
      "Extracting cell state for basin:  22%|██▏       | 150/669 [01:12<04:14,  2.04it/s]/home/tommy/neuralhydrology/neuralhydrology/utils/config.py:597: FutureWarning: 'camels_attributes' will be deprecated. Use 'static_attributes' in the future\n",
      "  warnings.warn(\"'camels_attributes' will be deprecated. Use 'static_attributes' in the future\",\n",
      "Extracting cell state for basin:  23%|██▎       | 151/669 [01:13<04:16,  2.02it/s]/home/tommy/neuralhydrology/neuralhydrology/utils/config.py:597: FutureWarning: 'camels_attributes' will be deprecated. Use 'static_attributes' in the future\n",
      "  warnings.warn(\"'camels_attributes' will be deprecated. Use 'static_attributes' in the future\",\n",
      "Extracting cell state for basin:  23%|██▎       | 152/669 [01:13<04:17,  2.01it/s]/home/tommy/neuralhydrology/neuralhydrology/utils/config.py:597: FutureWarning: 'camels_attributes' will be deprecated. Use 'static_attributes' in the future\n",
      "  warnings.warn(\"'camels_attributes' will be deprecated. Use 'static_attributes' in the future\",\n",
      "Extracting cell state for basin:  23%|██▎       | 153/669 [01:14<04:09,  2.06it/s]/home/tommy/neuralhydrology/neuralhydrology/utils/config.py:597: FutureWarning: 'camels_attributes' will be deprecated. Use 'static_attributes' in the future\n",
      "  warnings.warn(\"'camels_attributes' will be deprecated. Use 'static_attributes' in the future\",\n",
      "Extracting cell state for basin:  23%|██▎       | 154/669 [01:14<04:25,  1.94it/s]/home/tommy/neuralhydrology/neuralhydrology/utils/config.py:597: FutureWarning: 'camels_attributes' will be deprecated. Use 'static_attributes' in the future\n",
      "  warnings.warn(\"'camels_attributes' will be deprecated. Use 'static_attributes' in the future\",\n",
      "Extracting cell state for basin:  23%|██▎       | 155/669 [01:15<04:26,  1.93it/s]/home/tommy/neuralhydrology/neuralhydrology/utils/config.py:597: FutureWarning: 'camels_attributes' will be deprecated. Use 'static_attributes' in the future\n",
      "  warnings.warn(\"'camels_attributes' will be deprecated. Use 'static_attributes' in the future\",\n",
      "Extracting cell state for basin:  23%|██▎       | 156/669 [01:15<04:17,  1.99it/s]/home/tommy/neuralhydrology/neuralhydrology/utils/config.py:597: FutureWarning: 'camels_attributes' will be deprecated. Use 'static_attributes' in the future\n",
      "  warnings.warn(\"'camels_attributes' will be deprecated. Use 'static_attributes' in the future\",\n",
      "Extracting cell state for basin:  23%|██▎       | 157/669 [01:16<04:18,  1.98it/s]/home/tommy/neuralhydrology/neuralhydrology/utils/config.py:597: FutureWarning: 'camels_attributes' will be deprecated. Use 'static_attributes' in the future\n",
      "  warnings.warn(\"'camels_attributes' will be deprecated. Use 'static_attributes' in the future\",\n",
      "Extracting cell state for basin:  24%|██▎       | 158/669 [01:16<04:18,  1.97it/s]/home/tommy/neuralhydrology/neuralhydrology/utils/config.py:597: FutureWarning: 'camels_attributes' will be deprecated. Use 'static_attributes' in the future\n",
      "  warnings.warn(\"'camels_attributes' will be deprecated. Use 'static_attributes' in the future\",\n",
      "Extracting cell state for basin:  24%|██▍       | 159/669 [01:17<05:01,  1.69it/s]/home/tommy/neuralhydrology/neuralhydrology/utils/config.py:597: FutureWarning: 'camels_attributes' will be deprecated. Use 'static_attributes' in the future\n",
      "  warnings.warn(\"'camels_attributes' will be deprecated. Use 'static_attributes' in the future\",\n",
      "Extracting cell state for basin:  24%|██▍       | 160/669 [01:17<04:45,  1.78it/s]/home/tommy/neuralhydrology/neuralhydrology/utils/config.py:597: FutureWarning: 'camels_attributes' will be deprecated. Use 'static_attributes' in the future\n",
      "  warnings.warn(\"'camels_attributes' will be deprecated. Use 'static_attributes' in the future\",\n",
      "Extracting cell state for basin:  24%|██▍       | 161/669 [01:18<04:30,  1.88it/s]/home/tommy/neuralhydrology/neuralhydrology/utils/config.py:597: FutureWarning: 'camels_attributes' will be deprecated. Use 'static_attributes' in the future\n",
      "  warnings.warn(\"'camels_attributes' will be deprecated. Use 'static_attributes' in the future\",\n",
      "Extracting cell state for basin:  24%|██▍       | 162/669 [01:18<04:20,  1.94it/s]/home/tommy/neuralhydrology/neuralhydrology/utils/config.py:597: FutureWarning: 'camels_attributes' will be deprecated. Use 'static_attributes' in the future\n",
      "  warnings.warn(\"'camels_attributes' will be deprecated. Use 'static_attributes' in the future\",\n",
      "Extracting cell state for basin:  24%|██▍       | 163/669 [01:19<04:18,  1.96it/s]/home/tommy/neuralhydrology/neuralhydrology/utils/config.py:597: FutureWarning: 'camels_attributes' will be deprecated. Use 'static_attributes' in the future\n",
      "  warnings.warn(\"'camels_attributes' will be deprecated. Use 'static_attributes' in the future\",\n",
      "Extracting cell state for basin:  25%|██▍       | 164/669 [01:19<04:27,  1.89it/s]/home/tommy/neuralhydrology/neuralhydrology/utils/config.py:597: FutureWarning: 'camels_attributes' will be deprecated. Use 'static_attributes' in the future\n",
      "  warnings.warn(\"'camels_attributes' will be deprecated. Use 'static_attributes' in the future\",\n",
      "Extracting cell state for basin:  25%|██▍       | 165/669 [01:20<04:13,  1.99it/s]/home/tommy/neuralhydrology/neuralhydrology/utils/config.py:597: FutureWarning: 'camels_attributes' will be deprecated. Use 'static_attributes' in the future\n",
      "  warnings.warn(\"'camels_attributes' will be deprecated. Use 'static_attributes' in the future\",\n",
      "Extracting cell state for basin:  25%|██▍       | 166/669 [01:20<04:14,  1.98it/s]/home/tommy/neuralhydrology/neuralhydrology/utils/config.py:597: FutureWarning: 'camels_attributes' will be deprecated. Use 'static_attributes' in the future\n",
      "  warnings.warn(\"'camels_attributes' will be deprecated. Use 'static_attributes' in the future\",\n",
      "Extracting cell state for basin:  25%|██▍       | 167/669 [01:21<04:06,  2.04it/s]/home/tommy/neuralhydrology/neuralhydrology/utils/config.py:597: FutureWarning: 'camels_attributes' will be deprecated. Use 'static_attributes' in the future\n",
      "  warnings.warn(\"'camels_attributes' will be deprecated. Use 'static_attributes' in the future\",\n",
      "Extracting cell state for basin:  25%|██▌       | 168/669 [01:21<04:18,  1.94it/s]/home/tommy/neuralhydrology/neuralhydrology/utils/config.py:597: FutureWarning: 'camels_attributes' will be deprecated. Use 'static_attributes' in the future\n",
      "  warnings.warn(\"'camels_attributes' will be deprecated. Use 'static_attributes' in the future\",\n",
      "Extracting cell state for basin:  25%|██▌       | 169/669 [01:22<04:38,  1.80it/s]/home/tommy/neuralhydrology/neuralhydrology/utils/config.py:597: FutureWarning: 'camels_attributes' will be deprecated. Use 'static_attributes' in the future\n",
      "  warnings.warn(\"'camels_attributes' will be deprecated. Use 'static_attributes' in the future\",\n",
      "Extracting cell state for basin:  25%|██▌       | 170/669 [01:23<04:27,  1.86it/s]/home/tommy/neuralhydrology/neuralhydrology/utils/config.py:597: FutureWarning: 'camels_attributes' will be deprecated. Use 'static_attributes' in the future\n",
      "  warnings.warn(\"'camels_attributes' will be deprecated. Use 'static_attributes' in the future\",\n",
      "Extracting cell state for basin:  26%|██▌       | 171/669 [01:23<04:14,  1.96it/s]/home/tommy/neuralhydrology/neuralhydrology/utils/config.py:597: FutureWarning: 'camels_attributes' will be deprecated. Use 'static_attributes' in the future\n",
      "  warnings.warn(\"'camels_attributes' will be deprecated. Use 'static_attributes' in the future\",\n",
      "Extracting cell state for basin:  26%|██▌       | 172/669 [01:23<04:08,  2.00it/s]/home/tommy/neuralhydrology/neuralhydrology/utils/config.py:597: FutureWarning: 'camels_attributes' will be deprecated. Use 'static_attributes' in the future\n",
      "  warnings.warn(\"'camels_attributes' will be deprecated. Use 'static_attributes' in the future\",\n",
      "Extracting cell state for basin:  26%|██▌       | 173/669 [01:24<04:09,  1.99it/s]/home/tommy/neuralhydrology/neuralhydrology/utils/config.py:597: FutureWarning: 'camels_attributes' will be deprecated. Use 'static_attributes' in the future\n",
      "  warnings.warn(\"'camels_attributes' will be deprecated. Use 'static_attributes' in the future\",\n",
      "Extracting cell state for basin:  26%|██▌       | 174/669 [01:24<03:54,  2.11it/s]/home/tommy/neuralhydrology/neuralhydrology/utils/config.py:597: FutureWarning: 'camels_attributes' will be deprecated. Use 'static_attributes' in the future\n",
      "  warnings.warn(\"'camels_attributes' will be deprecated. Use 'static_attributes' in the future\",\n",
      "Extracting cell state for basin:  26%|██▌       | 175/669 [01:25<03:46,  2.18it/s]/home/tommy/neuralhydrology/neuralhydrology/utils/config.py:597: FutureWarning: 'camels_attributes' will be deprecated. Use 'static_attributes' in the future\n",
      "  warnings.warn(\"'camels_attributes' will be deprecated. Use 'static_attributes' in the future\",\n",
      "Extracting cell state for basin:  26%|██▋       | 176/669 [01:25<03:41,  2.23it/s]/home/tommy/neuralhydrology/neuralhydrology/utils/config.py:597: FutureWarning: 'camels_attributes' will be deprecated. Use 'static_attributes' in the future\n",
      "  warnings.warn(\"'camels_attributes' will be deprecated. Use 'static_attributes' in the future\",\n",
      "Extracting cell state for basin:  26%|██▋       | 177/669 [01:26<03:37,  2.26it/s]/home/tommy/neuralhydrology/neuralhydrology/utils/config.py:597: FutureWarning: 'camels_attributes' will be deprecated. Use 'static_attributes' in the future\n",
      "  warnings.warn(\"'camels_attributes' will be deprecated. Use 'static_attributes' in the future\",\n",
      "Extracting cell state for basin:  27%|██▋       | 178/669 [01:26<03:33,  2.30it/s]/home/tommy/neuralhydrology/neuralhydrology/utils/config.py:597: FutureWarning: 'camels_attributes' will be deprecated. Use 'static_attributes' in the future\n",
      "  warnings.warn(\"'camels_attributes' will be deprecated. Use 'static_attributes' in the future\",\n",
      "Extracting cell state for basin:  27%|██▋       | 179/669 [01:27<03:50,  2.13it/s]/home/tommy/neuralhydrology/neuralhydrology/utils/config.py:597: FutureWarning: 'camels_attributes' will be deprecated. Use 'static_attributes' in the future\n",
      "  warnings.warn(\"'camels_attributes' will be deprecated. Use 'static_attributes' in the future\",\n",
      "Extracting cell state for basin:  27%|██▋       | 180/669 [01:27<04:03,  2.01it/s]/home/tommy/neuralhydrology/neuralhydrology/utils/config.py:597: FutureWarning: 'camels_attributes' will be deprecated. Use 'static_attributes' in the future\n",
      "  warnings.warn(\"'camels_attributes' will be deprecated. Use 'static_attributes' in the future\",\n",
      "Extracting cell state for basin:  27%|██▋       | 181/669 [01:28<04:00,  2.03it/s]/home/tommy/neuralhydrology/neuralhydrology/utils/config.py:597: FutureWarning: 'camels_attributes' will be deprecated. Use 'static_attributes' in the future\n",
      "  warnings.warn(\"'camels_attributes' will be deprecated. Use 'static_attributes' in the future\",\n",
      "Extracting cell state for basin:  27%|██▋       | 182/669 [01:28<04:03,  2.00it/s]/home/tommy/neuralhydrology/neuralhydrology/utils/config.py:597: FutureWarning: 'camels_attributes' will be deprecated. Use 'static_attributes' in the future\n",
      "  warnings.warn(\"'camels_attributes' will be deprecated. Use 'static_attributes' in the future\",\n",
      "Extracting cell state for basin:  27%|██▋       | 183/669 [01:29<04:05,  1.98it/s]/home/tommy/neuralhydrology/neuralhydrology/utils/config.py:597: FutureWarning: 'camels_attributes' will be deprecated. Use 'static_attributes' in the future\n",
      "  warnings.warn(\"'camels_attributes' will be deprecated. Use 'static_attributes' in the future\",\n",
      "Extracting cell state for basin:  28%|██▊       | 184/669 [01:29<03:51,  2.10it/s]/home/tommy/neuralhydrology/neuralhydrology/utils/config.py:597: FutureWarning: 'camels_attributes' will be deprecated. Use 'static_attributes' in the future\n",
      "  warnings.warn(\"'camels_attributes' will be deprecated. Use 'static_attributes' in the future\",\n",
      "Extracting cell state for basin:  28%|██▊       | 185/669 [01:30<03:49,  2.11it/s]/home/tommy/neuralhydrology/neuralhydrology/utils/config.py:597: FutureWarning: 'camels_attributes' will be deprecated. Use 'static_attributes' in the future\n",
      "  warnings.warn(\"'camels_attributes' will be deprecated. Use 'static_attributes' in the future\",\n",
      "Extracting cell state for basin:  28%|██▊       | 186/669 [01:30<03:57,  2.03it/s]/home/tommy/neuralhydrology/neuralhydrology/utils/config.py:597: FutureWarning: 'camels_attributes' will be deprecated. Use 'static_attributes' in the future\n",
      "  warnings.warn(\"'camels_attributes' will be deprecated. Use 'static_attributes' in the future\",\n",
      "Extracting cell state for basin:  28%|██▊       | 187/669 [01:31<03:57,  2.03it/s]/home/tommy/neuralhydrology/neuralhydrology/utils/config.py:597: FutureWarning: 'camels_attributes' will be deprecated. Use 'static_attributes' in the future\n",
      "  warnings.warn(\"'camels_attributes' will be deprecated. Use 'static_attributes' in the future\",\n",
      "Extracting cell state for basin:  28%|██▊       | 188/669 [01:31<03:45,  2.14it/s]/home/tommy/neuralhydrology/neuralhydrology/utils/config.py:597: FutureWarning: 'camels_attributes' will be deprecated. Use 'static_attributes' in the future\n",
      "  warnings.warn(\"'camels_attributes' will be deprecated. Use 'static_attributes' in the future\",\n",
      "Extracting cell state for basin:  28%|██▊       | 189/669 [01:32<04:07,  1.94it/s]/home/tommy/neuralhydrology/neuralhydrology/utils/config.py:597: FutureWarning: 'camels_attributes' will be deprecated. Use 'static_attributes' in the future\n",
      "  warnings.warn(\"'camels_attributes' will be deprecated. Use 'static_attributes' in the future\",\n",
      "Extracting cell state for basin:  28%|██▊       | 190/669 [01:32<03:54,  2.04it/s]/home/tommy/neuralhydrology/neuralhydrology/utils/config.py:597: FutureWarning: 'camels_attributes' will be deprecated. Use 'static_attributes' in the future\n",
      "  warnings.warn(\"'camels_attributes' will be deprecated. Use 'static_attributes' in the future\",\n",
      "Extracting cell state for basin:  29%|██▊       | 191/669 [01:33<03:47,  2.10it/s]/home/tommy/neuralhydrology/neuralhydrology/utils/config.py:597: FutureWarning: 'camels_attributes' will be deprecated. Use 'static_attributes' in the future\n",
      "  warnings.warn(\"'camels_attributes' will be deprecated. Use 'static_attributes' in the future\",\n",
      "Extracting cell state for basin:  29%|██▊       | 192/669 [01:33<03:33,  2.23it/s]/home/tommy/neuralhydrology/neuralhydrology/utils/config.py:597: FutureWarning: 'camels_attributes' will be deprecated. Use 'static_attributes' in the future\n",
      "  warnings.warn(\"'camels_attributes' will be deprecated. Use 'static_attributes' in the future\",\n",
      "Extracting cell state for basin:  29%|██▉       | 193/669 [01:33<03:35,  2.21it/s]/home/tommy/neuralhydrology/neuralhydrology/utils/config.py:597: FutureWarning: 'camels_attributes' will be deprecated. Use 'static_attributes' in the future\n",
      "  warnings.warn(\"'camels_attributes' will be deprecated. Use 'static_attributes' in the future\",\n",
      "Extracting cell state for basin:  29%|██▉       | 194/669 [01:34<03:28,  2.28it/s]/home/tommy/neuralhydrology/neuralhydrology/utils/config.py:597: FutureWarning: 'camels_attributes' will be deprecated. Use 'static_attributes' in the future\n",
      "  warnings.warn(\"'camels_attributes' will be deprecated. Use 'static_attributes' in the future\",\n",
      "Extracting cell state for basin:  29%|██▉       | 195/669 [01:34<03:23,  2.33it/s]/home/tommy/neuralhydrology/neuralhydrology/utils/config.py:597: FutureWarning: 'camels_attributes' will be deprecated. Use 'static_attributes' in the future\n",
      "  warnings.warn(\"'camels_attributes' will be deprecated. Use 'static_attributes' in the future\",\n",
      "Extracting cell state for basin:  29%|██▉       | 196/669 [01:35<03:25,  2.31it/s]/home/tommy/neuralhydrology/neuralhydrology/utils/config.py:597: FutureWarning: 'camels_attributes' will be deprecated. Use 'static_attributes' in the future\n",
      "  warnings.warn(\"'camels_attributes' will be deprecated. Use 'static_attributes' in the future\",\n",
      "Extracting cell state for basin:  29%|██▉       | 197/669 [01:35<03:24,  2.31it/s]/home/tommy/neuralhydrology/neuralhydrology/utils/config.py:597: FutureWarning: 'camels_attributes' will be deprecated. Use 'static_attributes' in the future\n",
      "  warnings.warn(\"'camels_attributes' will be deprecated. Use 'static_attributes' in the future\",\n",
      "Extracting cell state for basin:  30%|██▉       | 198/669 [01:35<03:23,  2.32it/s]/home/tommy/neuralhydrology/neuralhydrology/utils/config.py:597: FutureWarning: 'camels_attributes' will be deprecated. Use 'static_attributes' in the future\n",
      "  warnings.warn(\"'camels_attributes' will be deprecated. Use 'static_attributes' in the future\",\n",
      "Extracting cell state for basin:  30%|██▉       | 199/669 [01:36<03:51,  2.03it/s]/home/tommy/neuralhydrology/neuralhydrology/utils/config.py:597: FutureWarning: 'camels_attributes' will be deprecated. Use 'static_attributes' in the future\n",
      "  warnings.warn(\"'camels_attributes' will be deprecated. Use 'static_attributes' in the future\",\n",
      "Extracting cell state for basin:  30%|██▉       | 200/669 [01:37<03:56,  1.98it/s]/home/tommy/neuralhydrology/neuralhydrology/utils/config.py:597: FutureWarning: 'camels_attributes' will be deprecated. Use 'static_attributes' in the future\n",
      "  warnings.warn(\"'camels_attributes' will be deprecated. Use 'static_attributes' in the future\",\n",
      "Extracting cell state for basin:  30%|███       | 201/669 [01:37<03:57,  1.97it/s]/home/tommy/neuralhydrology/neuralhydrology/utils/config.py:597: FutureWarning: 'camels_attributes' will be deprecated. Use 'static_attributes' in the future\n",
      "  warnings.warn(\"'camels_attributes' will be deprecated. Use 'static_attributes' in the future\",\n",
      "Extracting cell state for basin:  30%|███       | 202/669 [01:38<03:57,  1.96it/s]/home/tommy/neuralhydrology/neuralhydrology/utils/config.py:597: FutureWarning: 'camels_attributes' will be deprecated. Use 'static_attributes' in the future\n",
      "  warnings.warn(\"'camels_attributes' will be deprecated. Use 'static_attributes' in the future\",\n",
      "Extracting cell state for basin:  30%|███       | 203/669 [01:38<03:53,  2.00it/s]/home/tommy/neuralhydrology/neuralhydrology/utils/config.py:597: FutureWarning: 'camels_attributes' will be deprecated. Use 'static_attributes' in the future\n",
      "  warnings.warn(\"'camels_attributes' will be deprecated. Use 'static_attributes' in the future\",\n",
      "Extracting cell state for basin:  30%|███       | 204/669 [01:39<03:39,  2.12it/s]/home/tommy/neuralhydrology/neuralhydrology/utils/config.py:597: FutureWarning: 'camels_attributes' will be deprecated. Use 'static_attributes' in the future\n",
      "  warnings.warn(\"'camels_attributes' will be deprecated. Use 'static_attributes' in the future\",\n",
      "Extracting cell state for basin:  31%|███       | 205/669 [01:39<03:29,  2.21it/s]/home/tommy/neuralhydrology/neuralhydrology/utils/config.py:597: FutureWarning: 'camels_attributes' will be deprecated. Use 'static_attributes' in the future\n",
      "  warnings.warn(\"'camels_attributes' will be deprecated. Use 'static_attributes' in the future\",\n",
      "Extracting cell state for basin:  31%|███       | 206/669 [01:39<03:23,  2.27it/s]/home/tommy/neuralhydrology/neuralhydrology/utils/config.py:597: FutureWarning: 'camels_attributes' will be deprecated. Use 'static_attributes' in the future\n",
      "  warnings.warn(\"'camels_attributes' will be deprecated. Use 'static_attributes' in the future\",\n",
      "Extracting cell state for basin:  31%|███       | 207/669 [01:40<03:18,  2.32it/s]/home/tommy/neuralhydrology/neuralhydrology/utils/config.py:597: FutureWarning: 'camels_attributes' will be deprecated. Use 'static_attributes' in the future\n",
      "  warnings.warn(\"'camels_attributes' will be deprecated. Use 'static_attributes' in the future\",\n",
      "Extracting cell state for basin:  31%|███       | 208/669 [01:40<03:21,  2.29it/s]/home/tommy/neuralhydrology/neuralhydrology/utils/config.py:597: FutureWarning: 'camels_attributes' will be deprecated. Use 'static_attributes' in the future\n",
      "  warnings.warn(\"'camels_attributes' will be deprecated. Use 'static_attributes' in the future\",\n",
      "Extracting cell state for basin:  31%|███       | 209/669 [01:41<03:43,  2.06it/s]/home/tommy/neuralhydrology/neuralhydrology/utils/config.py:597: FutureWarning: 'camels_attributes' will be deprecated. Use 'static_attributes' in the future\n",
      "  warnings.warn(\"'camels_attributes' will be deprecated. Use 'static_attributes' in the future\",\n",
      "Extracting cell state for basin:  31%|███▏      | 210/669 [01:41<03:37,  2.11it/s]/home/tommy/neuralhydrology/neuralhydrology/utils/config.py:597: FutureWarning: 'camels_attributes' will be deprecated. Use 'static_attributes' in the future\n",
      "  warnings.warn(\"'camels_attributes' will be deprecated. Use 'static_attributes' in the future\",\n",
      "Extracting cell state for basin:  32%|███▏      | 211/669 [01:42<03:33,  2.15it/s]/home/tommy/neuralhydrology/neuralhydrology/utils/config.py:597: FutureWarning: 'camels_attributes' will be deprecated. Use 'static_attributes' in the future\n",
      "  warnings.warn(\"'camels_attributes' will be deprecated. Use 'static_attributes' in the future\",\n",
      "Extracting cell state for basin:  32%|███▏      | 212/669 [01:42<03:27,  2.20it/s]/home/tommy/neuralhydrology/neuralhydrology/utils/config.py:597: FutureWarning: 'camels_attributes' will be deprecated. Use 'static_attributes' in the future\n",
      "  warnings.warn(\"'camels_attributes' will be deprecated. Use 'static_attributes' in the future\",\n",
      "Extracting cell state for basin:  32%|███▏      | 213/669 [01:43<03:18,  2.30it/s]/home/tommy/neuralhydrology/neuralhydrology/utils/config.py:597: FutureWarning: 'camels_attributes' will be deprecated. Use 'static_attributes' in the future\n",
      "  warnings.warn(\"'camels_attributes' will be deprecated. Use 'static_attributes' in the future\",\n",
      "Extracting cell state for basin:  32%|███▏      | 214/669 [01:43<03:10,  2.39it/s]/home/tommy/neuralhydrology/neuralhydrology/utils/config.py:597: FutureWarning: 'camels_attributes' will be deprecated. Use 'static_attributes' in the future\n",
      "  warnings.warn(\"'camels_attributes' will be deprecated. Use 'static_attributes' in the future\",\n",
      "Extracting cell state for basin:  32%|███▏      | 215/669 [01:43<03:05,  2.45it/s]/home/tommy/neuralhydrology/neuralhydrology/utils/config.py:597: FutureWarning: 'camels_attributes' will be deprecated. Use 'static_attributes' in the future\n",
      "  warnings.warn(\"'camels_attributes' will be deprecated. Use 'static_attributes' in the future\",\n",
      "Extracting cell state for basin:  32%|███▏      | 216/669 [01:44<03:02,  2.48it/s]/home/tommy/neuralhydrology/neuralhydrology/utils/config.py:597: FutureWarning: 'camels_attributes' will be deprecated. Use 'static_attributes' in the future\n",
      "  warnings.warn(\"'camels_attributes' will be deprecated. Use 'static_attributes' in the future\",\n",
      "Extracting cell state for basin:  32%|███▏      | 217/669 [01:44<03:02,  2.48it/s]/home/tommy/neuralhydrology/neuralhydrology/utils/config.py:597: FutureWarning: 'camels_attributes' will be deprecated. Use 'static_attributes' in the future\n",
      "  warnings.warn(\"'camels_attributes' will be deprecated. Use 'static_attributes' in the future\",\n",
      "Extracting cell state for basin:  33%|███▎      | 218/669 [01:44<03:00,  2.49it/s]/home/tommy/neuralhydrology/neuralhydrology/utils/config.py:597: FutureWarning: 'camels_attributes' will be deprecated. Use 'static_attributes' in the future\n",
      "  warnings.warn(\"'camels_attributes' will be deprecated. Use 'static_attributes' in the future\",\n",
      "Extracting cell state for basin:  33%|███▎      | 219/669 [01:45<03:40,  2.04it/s]/home/tommy/neuralhydrology/neuralhydrology/utils/config.py:597: FutureWarning: 'camels_attributes' will be deprecated. Use 'static_attributes' in the future\n",
      "  warnings.warn(\"'camels_attributes' will be deprecated. Use 'static_attributes' in the future\",\n",
      "Extracting cell state for basin:  33%|███▎      | 220/669 [01:46<03:59,  1.87it/s]/home/tommy/neuralhydrology/neuralhydrology/utils/config.py:597: FutureWarning: 'camels_attributes' will be deprecated. Use 'static_attributes' in the future\n",
      "  warnings.warn(\"'camels_attributes' will be deprecated. Use 'static_attributes' in the future\",\n",
      "Extracting cell state for basin:  33%|███▎      | 221/669 [01:46<04:08,  1.80it/s]/home/tommy/neuralhydrology/neuralhydrology/utils/config.py:597: FutureWarning: 'camels_attributes' will be deprecated. Use 'static_attributes' in the future\n",
      "  warnings.warn(\"'camels_attributes' will be deprecated. Use 'static_attributes' in the future\",\n",
      "Extracting cell state for basin:  33%|███▎      | 222/669 [01:47<03:59,  1.87it/s]/home/tommy/neuralhydrology/neuralhydrology/utils/config.py:597: FutureWarning: 'camels_attributes' will be deprecated. Use 'static_attributes' in the future\n",
      "  warnings.warn(\"'camels_attributes' will be deprecated. Use 'static_attributes' in the future\",\n",
      "Extracting cell state for basin:  33%|███▎      | 223/669 [01:47<03:57,  1.88it/s]/home/tommy/neuralhydrology/neuralhydrology/utils/config.py:597: FutureWarning: 'camels_attributes' will be deprecated. Use 'static_attributes' in the future\n",
      "  warnings.warn(\"'camels_attributes' will be deprecated. Use 'static_attributes' in the future\",\n",
      "Extracting cell state for basin:  33%|███▎      | 224/669 [01:48<03:48,  1.95it/s]/home/tommy/neuralhydrology/neuralhydrology/utils/config.py:597: FutureWarning: 'camels_attributes' will be deprecated. Use 'static_attributes' in the future\n",
      "  warnings.warn(\"'camels_attributes' will be deprecated. Use 'static_attributes' in the future\",\n",
      "Extracting cell state for basin:  34%|███▎      | 225/669 [01:48<03:43,  1.98it/s]/home/tommy/neuralhydrology/neuralhydrology/utils/config.py:597: FutureWarning: 'camels_attributes' will be deprecated. Use 'static_attributes' in the future\n",
      "  warnings.warn(\"'camels_attributes' will be deprecated. Use 'static_attributes' in the future\",\n",
      "Extracting cell state for basin:  34%|███▍      | 226/669 [01:49<03:38,  2.02it/s]/home/tommy/neuralhydrology/neuralhydrology/utils/config.py:597: FutureWarning: 'camels_attributes' will be deprecated. Use 'static_attributes' in the future\n",
      "  warnings.warn(\"'camels_attributes' will be deprecated. Use 'static_attributes' in the future\",\n",
      "Extracting cell state for basin:  34%|███▍      | 227/669 [01:49<03:35,  2.05it/s]/home/tommy/neuralhydrology/neuralhydrology/utils/config.py:597: FutureWarning: 'camels_attributes' will be deprecated. Use 'static_attributes' in the future\n",
      "  warnings.warn(\"'camels_attributes' will be deprecated. Use 'static_attributes' in the future\",\n",
      "Extracting cell state for basin:  34%|███▍      | 228/669 [01:50<03:28,  2.11it/s]/home/tommy/neuralhydrology/neuralhydrology/utils/config.py:597: FutureWarning: 'camels_attributes' will be deprecated. Use 'static_attributes' in the future\n",
      "  warnings.warn(\"'camels_attributes' will be deprecated. Use 'static_attributes' in the future\",\n",
      "Extracting cell state for basin:  34%|███▍      | 229/669 [01:50<03:45,  1.95it/s]/home/tommy/neuralhydrology/neuralhydrology/utils/config.py:597: FutureWarning: 'camels_attributes' will be deprecated. Use 'static_attributes' in the future\n",
      "  warnings.warn(\"'camels_attributes' will be deprecated. Use 'static_attributes' in the future\",\n",
      "Extracting cell state for basin:  34%|███▍      | 230/669 [01:51<03:46,  1.94it/s]/home/tommy/neuralhydrology/neuralhydrology/utils/config.py:597: FutureWarning: 'camels_attributes' will be deprecated. Use 'static_attributes' in the future\n",
      "  warnings.warn(\"'camels_attributes' will be deprecated. Use 'static_attributes' in the future\",\n",
      "Extracting cell state for basin:  35%|███▍      | 231/669 [01:51<03:45,  1.95it/s]/home/tommy/neuralhydrology/neuralhydrology/utils/config.py:597: FutureWarning: 'camels_attributes' will be deprecated. Use 'static_attributes' in the future\n",
      "  warnings.warn(\"'camels_attributes' will be deprecated. Use 'static_attributes' in the future\",\n",
      "Extracting cell state for basin:  35%|███▍      | 232/669 [01:52<03:25,  2.13it/s]/home/tommy/neuralhydrology/neuralhydrology/utils/config.py:597: FutureWarning: 'camels_attributes' will be deprecated. Use 'static_attributes' in the future\n",
      "  warnings.warn(\"'camels_attributes' will be deprecated. Use 'static_attributes' in the future\",\n",
      "Extracting cell state for basin:  35%|███▍      | 233/669 [01:52<03:33,  2.05it/s]/home/tommy/neuralhydrology/neuralhydrology/utils/config.py:597: FutureWarning: 'camels_attributes' will be deprecated. Use 'static_attributes' in the future\n",
      "  warnings.warn(\"'camels_attributes' will be deprecated. Use 'static_attributes' in the future\",\n",
      "Extracting cell state for basin:  35%|███▍      | 234/669 [01:53<03:29,  2.07it/s]/home/tommy/neuralhydrology/neuralhydrology/utils/config.py:597: FutureWarning: 'camels_attributes' will be deprecated. Use 'static_attributes' in the future\n",
      "  warnings.warn(\"'camels_attributes' will be deprecated. Use 'static_attributes' in the future\",\n",
      "Extracting cell state for basin:  35%|███▌      | 235/669 [01:53<03:28,  2.08it/s]/home/tommy/neuralhydrology/neuralhydrology/utils/config.py:597: FutureWarning: 'camels_attributes' will be deprecated. Use 'static_attributes' in the future\n",
      "  warnings.warn(\"'camels_attributes' will be deprecated. Use 'static_attributes' in the future\",\n",
      "Extracting cell state for basin:  35%|███▌      | 236/669 [01:54<03:25,  2.11it/s]/home/tommy/neuralhydrology/neuralhydrology/utils/config.py:597: FutureWarning: 'camels_attributes' will be deprecated. Use 'static_attributes' in the future\n",
      "  warnings.warn(\"'camels_attributes' will be deprecated. Use 'static_attributes' in the future\",\n",
      "Extracting cell state for basin:  35%|███▌      | 237/669 [01:54<03:21,  2.14it/s]/home/tommy/neuralhydrology/neuralhydrology/utils/config.py:597: FutureWarning: 'camels_attributes' will be deprecated. Use 'static_attributes' in the future\n",
      "  warnings.warn(\"'camels_attributes' will be deprecated. Use 'static_attributes' in the future\",\n",
      "Extracting cell state for basin:  36%|███▌      | 238/669 [01:55<03:15,  2.20it/s]/home/tommy/neuralhydrology/neuralhydrology/utils/config.py:597: FutureWarning: 'camels_attributes' will be deprecated. Use 'static_attributes' in the future\n",
      "  warnings.warn(\"'camels_attributes' will be deprecated. Use 'static_attributes' in the future\",\n",
      "Extracting cell state for basin:  36%|███▌      | 239/669 [01:55<03:35,  1.99it/s]/home/tommy/neuralhydrology/neuralhydrology/utils/config.py:597: FutureWarning: 'camels_attributes' will be deprecated. Use 'static_attributes' in the future\n",
      "  warnings.warn(\"'camels_attributes' will be deprecated. Use 'static_attributes' in the future\",\n",
      "Extracting cell state for basin:  36%|███▌      | 240/669 [01:56<03:38,  1.97it/s]/home/tommy/neuralhydrology/neuralhydrology/utils/config.py:597: FutureWarning: 'camels_attributes' will be deprecated. Use 'static_attributes' in the future\n",
      "  warnings.warn(\"'camels_attributes' will be deprecated. Use 'static_attributes' in the future\",\n",
      "Extracting cell state for basin:  36%|███▌      | 241/669 [01:56<03:35,  1.98it/s]/home/tommy/neuralhydrology/neuralhydrology/utils/config.py:597: FutureWarning: 'camels_attributes' will be deprecated. Use 'static_attributes' in the future\n",
      "  warnings.warn(\"'camels_attributes' will be deprecated. Use 'static_attributes' in the future\",\n",
      "Extracting cell state for basin:  36%|███▌      | 242/669 [01:57<03:31,  2.01it/s]/home/tommy/neuralhydrology/neuralhydrology/utils/config.py:597: FutureWarning: 'camels_attributes' will be deprecated. Use 'static_attributes' in the future\n",
      "  warnings.warn(\"'camels_attributes' will be deprecated. Use 'static_attributes' in the future\",\n",
      "Extracting cell state for basin:  36%|███▋      | 243/669 [01:57<03:32,  2.00it/s]/home/tommy/neuralhydrology/neuralhydrology/utils/config.py:597: FutureWarning: 'camels_attributes' will be deprecated. Use 'static_attributes' in the future\n",
      "  warnings.warn(\"'camels_attributes' will be deprecated. Use 'static_attributes' in the future\",\n",
      "Extracting cell state for basin:  36%|███▋      | 244/669 [01:58<03:33,  1.99it/s]/home/tommy/neuralhydrology/neuralhydrology/utils/config.py:597: FutureWarning: 'camels_attributes' will be deprecated. Use 'static_attributes' in the future\n",
      "  warnings.warn(\"'camels_attributes' will be deprecated. Use 'static_attributes' in the future\",\n",
      "Extracting cell state for basin:  37%|███▋      | 245/669 [01:58<03:28,  2.03it/s]/home/tommy/neuralhydrology/neuralhydrology/utils/config.py:597: FutureWarning: 'camels_attributes' will be deprecated. Use 'static_attributes' in the future\n",
      "  warnings.warn(\"'camels_attributes' will be deprecated. Use 'static_attributes' in the future\",\n",
      "Extracting cell state for basin:  37%|███▋      | 246/669 [01:59<03:22,  2.09it/s]/home/tommy/neuralhydrology/neuralhydrology/utils/config.py:597: FutureWarning: 'camels_attributes' will be deprecated. Use 'static_attributes' in the future\n",
      "  warnings.warn(\"'camels_attributes' will be deprecated. Use 'static_attributes' in the future\",\n",
      "Extracting cell state for basin:  37%|███▋      | 247/669 [01:59<03:20,  2.10it/s]/home/tommy/neuralhydrology/neuralhydrology/utils/config.py:597: FutureWarning: 'camels_attributes' will be deprecated. Use 'static_attributes' in the future\n",
      "  warnings.warn(\"'camels_attributes' will be deprecated. Use 'static_attributes' in the future\",\n",
      "Extracting cell state for basin:  37%|███▋      | 248/669 [02:00<03:13,  2.18it/s]/home/tommy/neuralhydrology/neuralhydrology/utils/config.py:597: FutureWarning: 'camels_attributes' will be deprecated. Use 'static_attributes' in the future\n",
      "  warnings.warn(\"'camels_attributes' will be deprecated. Use 'static_attributes' in the future\",\n",
      "Extracting cell state for basin:  37%|███▋      | 249/669 [02:00<03:34,  1.96it/s]/home/tommy/neuralhydrology/neuralhydrology/utils/config.py:597: FutureWarning: 'camels_attributes' will be deprecated. Use 'static_attributes' in the future\n",
      "  warnings.warn(\"'camels_attributes' will be deprecated. Use 'static_attributes' in the future\",\n",
      "Extracting cell state for basin:  37%|███▋      | 250/669 [02:01<03:24,  2.05it/s]/home/tommy/neuralhydrology/neuralhydrology/utils/config.py:597: FutureWarning: 'camels_attributes' will be deprecated. Use 'static_attributes' in the future\n",
      "  warnings.warn(\"'camels_attributes' will be deprecated. Use 'static_attributes' in the future\",\n",
      "Extracting cell state for basin:  38%|███▊      | 251/669 [02:01<03:24,  2.05it/s]/home/tommy/neuralhydrology/neuralhydrology/utils/config.py:597: FutureWarning: 'camels_attributes' will be deprecated. Use 'static_attributes' in the future\n",
      "  warnings.warn(\"'camels_attributes' will be deprecated. Use 'static_attributes' in the future\",\n",
      "Extracting cell state for basin:  38%|███▊      | 252/669 [02:02<03:18,  2.10it/s]/home/tommy/neuralhydrology/neuralhydrology/utils/config.py:597: FutureWarning: 'camels_attributes' will be deprecated. Use 'static_attributes' in the future\n",
      "  warnings.warn(\"'camels_attributes' will be deprecated. Use 'static_attributes' in the future\",\n",
      "Extracting cell state for basin:  38%|███▊      | 253/669 [02:02<03:12,  2.16it/s]/home/tommy/neuralhydrology/neuralhydrology/utils/config.py:597: FutureWarning: 'camels_attributes' will be deprecated. Use 'static_attributes' in the future\n",
      "  warnings.warn(\"'camels_attributes' will be deprecated. Use 'static_attributes' in the future\",\n",
      "Extracting cell state for basin:  38%|███▊      | 254/669 [02:02<03:17,  2.10it/s]/home/tommy/neuralhydrology/neuralhydrology/utils/config.py:597: FutureWarning: 'camels_attributes' will be deprecated. Use 'static_attributes' in the future\n",
      "  warnings.warn(\"'camels_attributes' will be deprecated. Use 'static_attributes' in the future\",\n",
      "Extracting cell state for basin:  38%|███▊      | 255/669 [02:03<03:14,  2.12it/s]/home/tommy/neuralhydrology/neuralhydrology/utils/config.py:597: FutureWarning: 'camels_attributes' will be deprecated. Use 'static_attributes' in the future\n",
      "  warnings.warn(\"'camels_attributes' will be deprecated. Use 'static_attributes' in the future\",\n",
      "Extracting cell state for basin:  38%|███▊      | 256/669 [02:03<03:13,  2.13it/s]/home/tommy/neuralhydrology/neuralhydrology/utils/config.py:597: FutureWarning: 'camels_attributes' will be deprecated. Use 'static_attributes' in the future\n",
      "  warnings.warn(\"'camels_attributes' will be deprecated. Use 'static_attributes' in the future\",\n",
      "Extracting cell state for basin:  38%|███▊      | 257/669 [02:04<03:09,  2.18it/s]/home/tommy/neuralhydrology/neuralhydrology/utils/config.py:597: FutureWarning: 'camels_attributes' will be deprecated. Use 'static_attributes' in the future\n",
      "  warnings.warn(\"'camels_attributes' will be deprecated. Use 'static_attributes' in the future\",\n",
      "Extracting cell state for basin:  39%|███▊      | 258/669 [02:04<03:10,  2.15it/s]/home/tommy/neuralhydrology/neuralhydrology/utils/config.py:597: FutureWarning: 'camels_attributes' will be deprecated. Use 'static_attributes' in the future\n",
      "  warnings.warn(\"'camels_attributes' will be deprecated. Use 'static_attributes' in the future\",\n",
      "Extracting cell state for basin:  39%|███▊      | 259/669 [02:05<03:29,  1.96it/s]/home/tommy/neuralhydrology/neuralhydrology/utils/config.py:597: FutureWarning: 'camels_attributes' will be deprecated. Use 'static_attributes' in the future\n",
      "  warnings.warn(\"'camels_attributes' will be deprecated. Use 'static_attributes' in the future\",\n",
      "Extracting cell state for basin:  39%|███▉      | 260/669 [02:05<03:25,  1.99it/s]/home/tommy/neuralhydrology/neuralhydrology/utils/config.py:597: FutureWarning: 'camels_attributes' will be deprecated. Use 'static_attributes' in the future\n",
      "  warnings.warn(\"'camels_attributes' will be deprecated. Use 'static_attributes' in the future\",\n",
      "Extracting cell state for basin:  39%|███▉      | 261/669 [02:06<03:21,  2.03it/s]/home/tommy/neuralhydrology/neuralhydrology/utils/config.py:597: FutureWarning: 'camels_attributes' will be deprecated. Use 'static_attributes' in the future\n",
      "  warnings.warn(\"'camels_attributes' will be deprecated. Use 'static_attributes' in the future\",\n",
      "Extracting cell state for basin:  39%|███▉      | 262/669 [02:06<03:21,  2.01it/s]/home/tommy/neuralhydrology/neuralhydrology/utils/config.py:597: FutureWarning: 'camels_attributes' will be deprecated. Use 'static_attributes' in the future\n",
      "  warnings.warn(\"'camels_attributes' will be deprecated. Use 'static_attributes' in the future\",\n",
      "Extracting cell state for basin:  39%|███▉      | 263/669 [02:07<03:19,  2.03it/s]/home/tommy/neuralhydrology/neuralhydrology/utils/config.py:597: FutureWarning: 'camels_attributes' will be deprecated. Use 'static_attributes' in the future\n",
      "  warnings.warn(\"'camels_attributes' will be deprecated. Use 'static_attributes' in the future\",\n",
      "Extracting cell state for basin:  39%|███▉      | 264/669 [02:07<03:14,  2.08it/s]/home/tommy/neuralhydrology/neuralhydrology/utils/config.py:597: FutureWarning: 'camels_attributes' will be deprecated. Use 'static_attributes' in the future\n",
      "  warnings.warn(\"'camels_attributes' will be deprecated. Use 'static_attributes' in the future\",\n",
      "Extracting cell state for basin:  40%|███▉      | 265/669 [02:08<03:10,  2.12it/s]/home/tommy/neuralhydrology/neuralhydrology/utils/config.py:597: FutureWarning: 'camels_attributes' will be deprecated. Use 'static_attributes' in the future\n",
      "  warnings.warn(\"'camels_attributes' will be deprecated. Use 'static_attributes' in the future\",\n",
      "Extracting cell state for basin:  40%|███▉      | 266/669 [02:08<03:02,  2.20it/s]/home/tommy/neuralhydrology/neuralhydrology/utils/config.py:597: FutureWarning: 'camels_attributes' will be deprecated. Use 'static_attributes' in the future\n",
      "  warnings.warn(\"'camels_attributes' will be deprecated. Use 'static_attributes' in the future\",\n",
      "Extracting cell state for basin:  40%|███▉      | 267/669 [02:09<03:01,  2.22it/s]/home/tommy/neuralhydrology/neuralhydrology/utils/config.py:597: FutureWarning: 'camels_attributes' will be deprecated. Use 'static_attributes' in the future\n",
      "  warnings.warn(\"'camels_attributes' will be deprecated. Use 'static_attributes' in the future\",\n",
      "Extracting cell state for basin:  40%|████      | 268/669 [02:09<02:56,  2.27it/s]/home/tommy/neuralhydrology/neuralhydrology/utils/config.py:597: FutureWarning: 'camels_attributes' will be deprecated. Use 'static_attributes' in the future\n",
      "  warnings.warn(\"'camels_attributes' will be deprecated. Use 'static_attributes' in the future\",\n",
      "Extracting cell state for basin:  40%|████      | 269/669 [02:10<03:14,  2.06it/s]/home/tommy/neuralhydrology/neuralhydrology/utils/config.py:597: FutureWarning: 'camels_attributes' will be deprecated. Use 'static_attributes' in the future\n",
      "  warnings.warn(\"'camels_attributes' will be deprecated. Use 'static_attributes' in the future\",\n",
      "Extracting cell state for basin:  40%|████      | 270/669 [02:10<03:12,  2.08it/s]/home/tommy/neuralhydrology/neuralhydrology/utils/config.py:597: FutureWarning: 'camels_attributes' will be deprecated. Use 'static_attributes' in the future\n",
      "  warnings.warn(\"'camels_attributes' will be deprecated. Use 'static_attributes' in the future\",\n",
      "Extracting cell state for basin:  41%|████      | 271/669 [02:11<03:37,  1.83it/s]/home/tommy/neuralhydrology/neuralhydrology/utils/config.py:597: FutureWarning: 'camels_attributes' will be deprecated. Use 'static_attributes' in the future\n",
      "  warnings.warn(\"'camels_attributes' will be deprecated. Use 'static_attributes' in the future\",\n",
      "Extracting cell state for basin:  41%|████      | 272/669 [02:11<03:38,  1.81it/s]/home/tommy/neuralhydrology/neuralhydrology/utils/config.py:597: FutureWarning: 'camels_attributes' will be deprecated. Use 'static_attributes' in the future\n",
      "  warnings.warn(\"'camels_attributes' will be deprecated. Use 'static_attributes' in the future\",\n",
      "Extracting cell state for basin:  41%|████      | 273/669 [02:12<03:40,  1.80it/s]/home/tommy/neuralhydrology/neuralhydrology/utils/config.py:597: FutureWarning: 'camels_attributes' will be deprecated. Use 'static_attributes' in the future\n",
      "  warnings.warn(\"'camels_attributes' will be deprecated. Use 'static_attributes' in the future\",\n",
      "Extracting cell state for basin:  41%|████      | 274/669 [02:12<03:40,  1.79it/s]/home/tommy/neuralhydrology/neuralhydrology/utils/config.py:597: FutureWarning: 'camels_attributes' will be deprecated. Use 'static_attributes' in the future\n",
      "  warnings.warn(\"'camels_attributes' will be deprecated. Use 'static_attributes' in the future\",\n",
      "Extracting cell state for basin:  41%|████      | 275/669 [02:13<03:28,  1.89it/s]/home/tommy/neuralhydrology/neuralhydrology/utils/config.py:597: FutureWarning: 'camels_attributes' will be deprecated. Use 'static_attributes' in the future\n",
      "  warnings.warn(\"'camels_attributes' will be deprecated. Use 'static_attributes' in the future\",\n",
      "Extracting cell state for basin:  41%|████▏     | 276/669 [02:13<03:25,  1.91it/s]/home/tommy/neuralhydrology/neuralhydrology/utils/config.py:597: FutureWarning: 'camels_attributes' will be deprecated. Use 'static_attributes' in the future\n",
      "  warnings.warn(\"'camels_attributes' will be deprecated. Use 'static_attributes' in the future\",\n",
      "Extracting cell state for basin:  41%|████▏     | 277/669 [02:14<03:37,  1.80it/s]/home/tommy/neuralhydrology/neuralhydrology/utils/config.py:597: FutureWarning: 'camels_attributes' will be deprecated. Use 'static_attributes' in the future\n",
      "  warnings.warn(\"'camels_attributes' will be deprecated. Use 'static_attributes' in the future\",\n",
      "Extracting cell state for basin:  42%|████▏     | 278/669 [02:15<03:33,  1.83it/s]/home/tommy/neuralhydrology/neuralhydrology/utils/config.py:597: FutureWarning: 'camels_attributes' will be deprecated. Use 'static_attributes' in the future\n",
      "  warnings.warn(\"'camels_attributes' will be deprecated. Use 'static_attributes' in the future\",\n",
      "Extracting cell state for basin:  42%|████▏     | 279/669 [02:15<03:42,  1.75it/s]/home/tommy/neuralhydrology/neuralhydrology/utils/config.py:597: FutureWarning: 'camels_attributes' will be deprecated. Use 'static_attributes' in the future\n",
      "  warnings.warn(\"'camels_attributes' will be deprecated. Use 'static_attributes' in the future\",\n",
      "Extracting cell state for basin:  42%|████▏     | 280/669 [02:16<03:29,  1.86it/s]/home/tommy/neuralhydrology/neuralhydrology/utils/config.py:597: FutureWarning: 'camels_attributes' will be deprecated. Use 'static_attributes' in the future\n",
      "  warnings.warn(\"'camels_attributes' will be deprecated. Use 'static_attributes' in the future\",\n",
      "Extracting cell state for basin:  42%|████▏     | 281/669 [02:16<03:16,  1.97it/s]/home/tommy/neuralhydrology/neuralhydrology/utils/config.py:597: FutureWarning: 'camels_attributes' will be deprecated. Use 'static_attributes' in the future\n",
      "  warnings.warn(\"'camels_attributes' will be deprecated. Use 'static_attributes' in the future\",\n",
      "Extracting cell state for basin:  42%|████▏     | 282/669 [02:17<03:10,  2.03it/s]/home/tommy/neuralhydrology/neuralhydrology/utils/config.py:597: FutureWarning: 'camels_attributes' will be deprecated. Use 'static_attributes' in the future\n",
      "  warnings.warn(\"'camels_attributes' will be deprecated. Use 'static_attributes' in the future\",\n",
      "Extracting cell state for basin:  42%|████▏     | 283/669 [02:17<03:06,  2.07it/s]/home/tommy/neuralhydrology/neuralhydrology/utils/config.py:597: FutureWarning: 'camels_attributes' will be deprecated. Use 'static_attributes' in the future\n",
      "  warnings.warn(\"'camels_attributes' will be deprecated. Use 'static_attributes' in the future\",\n",
      "Extracting cell state for basin:  42%|████▏     | 284/669 [02:18<03:07,  2.05it/s]/home/tommy/neuralhydrology/neuralhydrology/utils/config.py:597: FutureWarning: 'camels_attributes' will be deprecated. Use 'static_attributes' in the future\n",
      "  warnings.warn(\"'camels_attributes' will be deprecated. Use 'static_attributes' in the future\",\n",
      "Extracting cell state for basin:  43%|████▎     | 285/669 [02:18<03:03,  2.09it/s]/home/tommy/neuralhydrology/neuralhydrology/utils/config.py:597: FutureWarning: 'camels_attributes' will be deprecated. Use 'static_attributes' in the future\n",
      "  warnings.warn(\"'camels_attributes' will be deprecated. Use 'static_attributes' in the future\",\n",
      "Extracting cell state for basin:  43%|████▎     | 286/669 [02:19<03:22,  1.90it/s]/home/tommy/neuralhydrology/neuralhydrology/utils/config.py:597: FutureWarning: 'camels_attributes' will be deprecated. Use 'static_attributes' in the future\n",
      "  warnings.warn(\"'camels_attributes' will be deprecated. Use 'static_attributes' in the future\",\n",
      "Extracting cell state for basin:  43%|████▎     | 287/669 [02:19<03:21,  1.89it/s]/home/tommy/neuralhydrology/neuralhydrology/utils/config.py:597: FutureWarning: 'camels_attributes' will be deprecated. Use 'static_attributes' in the future\n",
      "  warnings.warn(\"'camels_attributes' will be deprecated. Use 'static_attributes' in the future\",\n",
      "Extracting cell state for basin:  43%|████▎     | 288/669 [02:20<03:12,  1.98it/s]/home/tommy/neuralhydrology/neuralhydrology/utils/config.py:597: FutureWarning: 'camels_attributes' will be deprecated. Use 'static_attributes' in the future\n",
      "  warnings.warn(\"'camels_attributes' will be deprecated. Use 'static_attributes' in the future\",\n",
      "Extracting cell state for basin:  43%|████▎     | 289/669 [02:20<03:19,  1.91it/s]/home/tommy/neuralhydrology/neuralhydrology/utils/config.py:597: FutureWarning: 'camels_attributes' will be deprecated. Use 'static_attributes' in the future\n",
      "  warnings.warn(\"'camels_attributes' will be deprecated. Use 'static_attributes' in the future\",\n",
      "Extracting cell state for basin:  43%|████▎     | 290/669 [02:21<03:12,  1.97it/s]/home/tommy/neuralhydrology/neuralhydrology/utils/config.py:597: FutureWarning: 'camels_attributes' will be deprecated. Use 'static_attributes' in the future\n",
      "  warnings.warn(\"'camels_attributes' will be deprecated. Use 'static_attributes' in the future\",\n",
      "Extracting cell state for basin:  43%|████▎     | 291/669 [02:21<03:10,  1.99it/s]/home/tommy/neuralhydrology/neuralhydrology/utils/config.py:597: FutureWarning: 'camels_attributes' will be deprecated. Use 'static_attributes' in the future\n",
      "  warnings.warn(\"'camels_attributes' will be deprecated. Use 'static_attributes' in the future\",\n",
      "Extracting cell state for basin:  44%|████▎     | 292/669 [02:22<03:05,  2.03it/s]/home/tommy/neuralhydrology/neuralhydrology/utils/config.py:597: FutureWarning: 'camels_attributes' will be deprecated. Use 'static_attributes' in the future\n",
      "  warnings.warn(\"'camels_attributes' will be deprecated. Use 'static_attributes' in the future\",\n",
      "Extracting cell state for basin:  44%|████▍     | 293/669 [02:22<02:53,  2.17it/s]/home/tommy/neuralhydrology/neuralhydrology/utils/config.py:597: FutureWarning: 'camels_attributes' will be deprecated. Use 'static_attributes' in the future\n",
      "  warnings.warn(\"'camels_attributes' will be deprecated. Use 'static_attributes' in the future\",\n",
      "Extracting cell state for basin:  44%|████▍     | 294/669 [02:23<03:11,  1.96it/s]/home/tommy/neuralhydrology/neuralhydrology/utils/config.py:597: FutureWarning: 'camels_attributes' will be deprecated. Use 'static_attributes' in the future\n",
      "  warnings.warn(\"'camels_attributes' will be deprecated. Use 'static_attributes' in the future\",\n",
      "Extracting cell state for basin:  44%|████▍     | 295/669 [02:23<03:11,  1.95it/s]/home/tommy/neuralhydrology/neuralhydrology/utils/config.py:597: FutureWarning: 'camels_attributes' will be deprecated. Use 'static_attributes' in the future\n",
      "  warnings.warn(\"'camels_attributes' will be deprecated. Use 'static_attributes' in the future\",\n",
      "Extracting cell state for basin:  44%|████▍     | 296/669 [02:24<03:02,  2.04it/s]/home/tommy/neuralhydrology/neuralhydrology/utils/config.py:597: FutureWarning: 'camels_attributes' will be deprecated. Use 'static_attributes' in the future\n",
      "  warnings.warn(\"'camels_attributes' will be deprecated. Use 'static_attributes' in the future\",\n",
      "Extracting cell state for basin:  44%|████▍     | 297/669 [02:24<03:02,  2.04it/s]/home/tommy/neuralhydrology/neuralhydrology/utils/config.py:597: FutureWarning: 'camels_attributes' will be deprecated. Use 'static_attributes' in the future\n",
      "  warnings.warn(\"'camels_attributes' will be deprecated. Use 'static_attributes' in the future\",\n",
      "Extracting cell state for basin:  45%|████▍     | 298/669 [02:25<02:58,  2.08it/s]/home/tommy/neuralhydrology/neuralhydrology/utils/config.py:597: FutureWarning: 'camels_attributes' will be deprecated. Use 'static_attributes' in the future\n",
      "  warnings.warn(\"'camels_attributes' will be deprecated. Use 'static_attributes' in the future\",\n",
      "Extracting cell state for basin:  45%|████▍     | 299/669 [02:25<03:10,  1.94it/s]/home/tommy/neuralhydrology/neuralhydrology/utils/config.py:597: FutureWarning: 'camels_attributes' will be deprecated. Use 'static_attributes' in the future\n",
      "  warnings.warn(\"'camels_attributes' will be deprecated. Use 'static_attributes' in the future\",\n",
      "Extracting cell state for basin:  45%|████▍     | 300/669 [02:26<03:02,  2.02it/s]/home/tommy/neuralhydrology/neuralhydrology/utils/config.py:597: FutureWarning: 'camels_attributes' will be deprecated. Use 'static_attributes' in the future\n",
      "  warnings.warn(\"'camels_attributes' will be deprecated. Use 'static_attributes' in the future\",\n",
      "Extracting cell state for basin:  45%|████▍     | 301/669 [02:26<02:56,  2.08it/s]/home/tommy/neuralhydrology/neuralhydrology/utils/config.py:597: FutureWarning: 'camels_attributes' will be deprecated. Use 'static_attributes' in the future\n",
      "  warnings.warn(\"'camels_attributes' will be deprecated. Use 'static_attributes' in the future\",\n",
      "Extracting cell state for basin:  45%|████▌     | 302/669 [02:27<02:54,  2.10it/s]/home/tommy/neuralhydrology/neuralhydrology/utils/config.py:597: FutureWarning: 'camels_attributes' will be deprecated. Use 'static_attributes' in the future\n",
      "  warnings.warn(\"'camels_attributes' will be deprecated. Use 'static_attributes' in the future\",\n",
      "Extracting cell state for basin:  45%|████▌     | 303/669 [02:27<02:46,  2.20it/s]/home/tommy/neuralhydrology/neuralhydrology/utils/config.py:597: FutureWarning: 'camels_attributes' will be deprecated. Use 'static_attributes' in the future\n",
      "  warnings.warn(\"'camels_attributes' will be deprecated. Use 'static_attributes' in the future\",\n",
      "Extracting cell state for basin:  45%|████▌     | 304/669 [02:27<02:51,  2.12it/s]/home/tommy/neuralhydrology/neuralhydrology/utils/config.py:597: FutureWarning: 'camels_attributes' will be deprecated. Use 'static_attributes' in the future\n",
      "  warnings.warn(\"'camels_attributes' will be deprecated. Use 'static_attributes' in the future\",\n",
      "Extracting cell state for basin:  46%|████▌     | 305/669 [02:28<02:47,  2.18it/s]/home/tommy/neuralhydrology/neuralhydrology/utils/config.py:597: FutureWarning: 'camels_attributes' will be deprecated. Use 'static_attributes' in the future\n",
      "  warnings.warn(\"'camels_attributes' will be deprecated. Use 'static_attributes' in the future\",\n",
      "Extracting cell state for basin:  46%|████▌     | 306/669 [02:28<02:41,  2.25it/s]/home/tommy/neuralhydrology/neuralhydrology/utils/config.py:597: FutureWarning: 'camels_attributes' will be deprecated. Use 'static_attributes' in the future\n",
      "  warnings.warn(\"'camels_attributes' will be deprecated. Use 'static_attributes' in the future\",\n",
      "Extracting cell state for basin:  46%|████▌     | 307/669 [02:29<02:42,  2.23it/s]/home/tommy/neuralhydrology/neuralhydrology/utils/config.py:597: FutureWarning: 'camels_attributes' will be deprecated. Use 'static_attributes' in the future\n",
      "  warnings.warn(\"'camels_attributes' will be deprecated. Use 'static_attributes' in the future\",\n",
      "Extracting cell state for basin:  46%|████▌     | 308/669 [02:29<02:39,  2.27it/s]/home/tommy/neuralhydrology/neuralhydrology/utils/config.py:597: FutureWarning: 'camels_attributes' will be deprecated. Use 'static_attributes' in the future\n",
      "  warnings.warn(\"'camels_attributes' will be deprecated. Use 'static_attributes' in the future\",\n",
      "Extracting cell state for basin:  46%|████▌     | 309/669 [02:30<02:57,  2.03it/s]/home/tommy/neuralhydrology/neuralhydrology/utils/config.py:597: FutureWarning: 'camels_attributes' will be deprecated. Use 'static_attributes' in the future\n",
      "  warnings.warn(\"'camels_attributes' will be deprecated. Use 'static_attributes' in the future\",\n",
      "Extracting cell state for basin:  46%|████▋     | 310/669 [02:30<02:58,  2.02it/s]/home/tommy/neuralhydrology/neuralhydrology/utils/config.py:597: FutureWarning: 'camels_attributes' will be deprecated. Use 'static_attributes' in the future\n",
      "  warnings.warn(\"'camels_attributes' will be deprecated. Use 'static_attributes' in the future\",\n",
      "Extracting cell state for basin:  46%|████▋     | 311/669 [02:31<03:02,  1.96it/s]/home/tommy/neuralhydrology/neuralhydrology/utils/config.py:597: FutureWarning: 'camels_attributes' will be deprecated. Use 'static_attributes' in the future\n",
      "  warnings.warn(\"'camels_attributes' will be deprecated. Use 'static_attributes' in the future\",\n",
      "Extracting cell state for basin:  47%|████▋     | 312/669 [02:31<03:04,  1.93it/s]/home/tommy/neuralhydrology/neuralhydrology/utils/config.py:597: FutureWarning: 'camels_attributes' will be deprecated. Use 'static_attributes' in the future\n",
      "  warnings.warn(\"'camels_attributes' will be deprecated. Use 'static_attributes' in the future\",\n",
      "Extracting cell state for basin:  47%|████▋     | 313/669 [02:32<03:13,  1.84it/s]/home/tommy/neuralhydrology/neuralhydrology/utils/config.py:597: FutureWarning: 'camels_attributes' will be deprecated. Use 'static_attributes' in the future\n",
      "  warnings.warn(\"'camels_attributes' will be deprecated. Use 'static_attributes' in the future\",\n",
      "Extracting cell state for basin:  47%|████▋     | 314/669 [02:32<03:09,  1.88it/s]/home/tommy/neuralhydrology/neuralhydrology/utils/config.py:597: FutureWarning: 'camels_attributes' will be deprecated. Use 'static_attributes' in the future\n",
      "  warnings.warn(\"'camels_attributes' will be deprecated. Use 'static_attributes' in the future\",\n",
      "Extracting cell state for basin:  47%|████▋     | 315/669 [02:33<02:58,  1.98it/s]/home/tommy/neuralhydrology/neuralhydrology/utils/config.py:597: FutureWarning: 'camels_attributes' will be deprecated. Use 'static_attributes' in the future\n",
      "  warnings.warn(\"'camels_attributes' will be deprecated. Use 'static_attributes' in the future\",\n",
      "Extracting cell state for basin:  47%|████▋     | 316/669 [02:33<02:58,  1.98it/s]/home/tommy/neuralhydrology/neuralhydrology/utils/config.py:597: FutureWarning: 'camels_attributes' will be deprecated. Use 'static_attributes' in the future\n",
      "  warnings.warn(\"'camels_attributes' will be deprecated. Use 'static_attributes' in the future\",\n",
      "Extracting cell state for basin:  47%|████▋     | 317/669 [02:34<03:00,  1.95it/s]/home/tommy/neuralhydrology/neuralhydrology/utils/config.py:597: FutureWarning: 'camels_attributes' will be deprecated. Use 'static_attributes' in the future\n",
      "  warnings.warn(\"'camels_attributes' will be deprecated. Use 'static_attributes' in the future\",\n",
      "Extracting cell state for basin:  48%|████▊     | 318/669 [02:35<03:09,  1.85it/s]/home/tommy/neuralhydrology/neuralhydrology/utils/config.py:597: FutureWarning: 'camels_attributes' will be deprecated. Use 'static_attributes' in the future\n",
      "  warnings.warn(\"'camels_attributes' will be deprecated. Use 'static_attributes' in the future\",\n",
      "Extracting cell state for basin:  48%|████▊     | 319/669 [02:35<03:25,  1.71it/s]/home/tommy/neuralhydrology/neuralhydrology/utils/config.py:597: FutureWarning: 'camels_attributes' will be deprecated. Use 'static_attributes' in the future\n",
      "  warnings.warn(\"'camels_attributes' will be deprecated. Use 'static_attributes' in the future\",\n",
      "Extracting cell state for basin:  48%|████▊     | 320/669 [02:36<03:10,  1.83it/s]/home/tommy/neuralhydrology/neuralhydrology/utils/config.py:597: FutureWarning: 'camels_attributes' will be deprecated. Use 'static_attributes' in the future\n",
      "  warnings.warn(\"'camels_attributes' will be deprecated. Use 'static_attributes' in the future\",\n",
      "Extracting cell state for basin:  48%|████▊     | 321/669 [02:36<02:58,  1.95it/s]/home/tommy/neuralhydrology/neuralhydrology/utils/config.py:597: FutureWarning: 'camels_attributes' will be deprecated. Use 'static_attributes' in the future\n",
      "  warnings.warn(\"'camels_attributes' will be deprecated. Use 'static_attributes' in the future\",\n",
      "Extracting cell state for basin:  48%|████▊     | 322/669 [02:37<02:53,  2.00it/s]/home/tommy/neuralhydrology/neuralhydrology/utils/config.py:597: FutureWarning: 'camels_attributes' will be deprecated. Use 'static_attributes' in the future\n",
      "  warnings.warn(\"'camels_attributes' will be deprecated. Use 'static_attributes' in the future\",\n",
      "Extracting cell state for basin:  48%|████▊     | 323/669 [02:37<02:45,  2.08it/s]/home/tommy/neuralhydrology/neuralhydrology/utils/config.py:597: FutureWarning: 'camels_attributes' will be deprecated. Use 'static_attributes' in the future\n",
      "  warnings.warn(\"'camels_attributes' will be deprecated. Use 'static_attributes' in the future\",\n",
      "Extracting cell state for basin:  48%|████▊     | 324/669 [02:37<02:39,  2.16it/s]/home/tommy/neuralhydrology/neuralhydrology/utils/config.py:597: FutureWarning: 'camels_attributes' will be deprecated. Use 'static_attributes' in the future\n",
      "  warnings.warn(\"'camels_attributes' will be deprecated. Use 'static_attributes' in the future\",\n",
      "Extracting cell state for basin:  49%|████▊     | 325/669 [02:38<02:36,  2.20it/s]/home/tommy/neuralhydrology/neuralhydrology/utils/config.py:597: FutureWarning: 'camels_attributes' will be deprecated. Use 'static_attributes' in the future\n",
      "  warnings.warn(\"'camels_attributes' will be deprecated. Use 'static_attributes' in the future\",\n",
      "Extracting cell state for basin:  49%|████▊     | 326/669 [02:38<02:42,  2.11it/s]/home/tommy/neuralhydrology/neuralhydrology/utils/config.py:597: FutureWarning: 'camels_attributes' will be deprecated. Use 'static_attributes' in the future\n",
      "  warnings.warn(\"'camels_attributes' will be deprecated. Use 'static_attributes' in the future\",\n",
      "Extracting cell state for basin:  49%|████▉     | 327/669 [02:39<02:54,  1.96it/s]/home/tommy/neuralhydrology/neuralhydrology/utils/config.py:597: FutureWarning: 'camels_attributes' will be deprecated. Use 'static_attributes' in the future\n",
      "  warnings.warn(\"'camels_attributes' will be deprecated. Use 'static_attributes' in the future\",\n",
      "Extracting cell state for basin:  49%|████▉     | 328/669 [02:39<02:46,  2.05it/s]/home/tommy/neuralhydrology/neuralhydrology/utils/config.py:597: FutureWarning: 'camels_attributes' will be deprecated. Use 'static_attributes' in the future\n",
      "  warnings.warn(\"'camels_attributes' will be deprecated. Use 'static_attributes' in the future\",\n",
      "Extracting cell state for basin:  49%|████▉     | 329/669 [02:40<02:58,  1.91it/s]/home/tommy/neuralhydrology/neuralhydrology/utils/config.py:597: FutureWarning: 'camels_attributes' will be deprecated. Use 'static_attributes' in the future\n",
      "  warnings.warn(\"'camels_attributes' will be deprecated. Use 'static_attributes' in the future\",\n",
      "Extracting cell state for basin:  49%|████▉     | 330/669 [02:41<02:52,  1.97it/s]/home/tommy/neuralhydrology/neuralhydrology/utils/config.py:597: FutureWarning: 'camels_attributes' will be deprecated. Use 'static_attributes' in the future\n",
      "  warnings.warn(\"'camels_attributes' will be deprecated. Use 'static_attributes' in the future\",\n",
      "Extracting cell state for basin:  49%|████▉     | 331/669 [02:41<02:46,  2.03it/s]/home/tommy/neuralhydrology/neuralhydrology/utils/config.py:597: FutureWarning: 'camels_attributes' will be deprecated. Use 'static_attributes' in the future\n",
      "  warnings.warn(\"'camels_attributes' will be deprecated. Use 'static_attributes' in the future\",\n",
      "Extracting cell state for basin:  50%|████▉     | 332/669 [02:41<02:38,  2.13it/s]/home/tommy/neuralhydrology/neuralhydrology/utils/config.py:597: FutureWarning: 'camels_attributes' will be deprecated. Use 'static_attributes' in the future\n",
      "  warnings.warn(\"'camels_attributes' will be deprecated. Use 'static_attributes' in the future\",\n",
      "Extracting cell state for basin:  50%|████▉     | 333/669 [02:42<02:32,  2.20it/s]/home/tommy/neuralhydrology/neuralhydrology/utils/config.py:597: FutureWarning: 'camels_attributes' will be deprecated. Use 'static_attributes' in the future\n",
      "  warnings.warn(\"'camels_attributes' will be deprecated. Use 'static_attributes' in the future\",\n",
      "Extracting cell state for basin:  50%|████▉     | 334/669 [02:42<02:46,  2.01it/s]/home/tommy/neuralhydrology/neuralhydrology/utils/config.py:597: FutureWarning: 'camels_attributes' will be deprecated. Use 'static_attributes' in the future\n",
      "  warnings.warn(\"'camels_attributes' will be deprecated. Use 'static_attributes' in the future\",\n",
      "Extracting cell state for basin:  50%|█████     | 335/669 [02:43<02:44,  2.03it/s]/home/tommy/neuralhydrology/neuralhydrology/utils/config.py:597: FutureWarning: 'camels_attributes' will be deprecated. Use 'static_attributes' in the future\n",
      "  warnings.warn(\"'camels_attributes' will be deprecated. Use 'static_attributes' in the future\",\n",
      "Extracting cell state for basin:  50%|█████     | 336/669 [02:43<02:43,  2.04it/s]/home/tommy/neuralhydrology/neuralhydrology/utils/config.py:597: FutureWarning: 'camels_attributes' will be deprecated. Use 'static_attributes' in the future\n",
      "  warnings.warn(\"'camels_attributes' will be deprecated. Use 'static_attributes' in the future\",\n",
      "Extracting cell state for basin:  50%|█████     | 337/669 [02:44<02:42,  2.05it/s]/home/tommy/neuralhydrology/neuralhydrology/utils/config.py:597: FutureWarning: 'camels_attributes' will be deprecated. Use 'static_attributes' in the future\n",
      "  warnings.warn(\"'camels_attributes' will be deprecated. Use 'static_attributes' in the future\",\n",
      "Extracting cell state for basin:  51%|█████     | 338/669 [02:44<02:37,  2.10it/s]/home/tommy/neuralhydrology/neuralhydrology/utils/config.py:597: FutureWarning: 'camels_attributes' will be deprecated. Use 'static_attributes' in the future\n",
      "  warnings.warn(\"'camels_attributes' will be deprecated. Use 'static_attributes' in the future\",\n",
      "Extracting cell state for basin:  51%|█████     | 339/669 [02:45<02:55,  1.88it/s]/home/tommy/neuralhydrology/neuralhydrology/utils/config.py:597: FutureWarning: 'camels_attributes' will be deprecated. Use 'static_attributes' in the future\n",
      "  warnings.warn(\"'camels_attributes' will be deprecated. Use 'static_attributes' in the future\",\n",
      "Extracting cell state for basin:  51%|█████     | 340/669 [02:45<02:51,  1.92it/s]/home/tommy/neuralhydrology/neuralhydrology/utils/config.py:597: FutureWarning: 'camels_attributes' will be deprecated. Use 'static_attributes' in the future\n",
      "  warnings.warn(\"'camels_attributes' will be deprecated. Use 'static_attributes' in the future\",\n",
      "Extracting cell state for basin:  51%|█████     | 341/669 [02:46<02:53,  1.89it/s]/home/tommy/neuralhydrology/neuralhydrology/utils/config.py:597: FutureWarning: 'camels_attributes' will be deprecated. Use 'static_attributes' in the future\n",
      "  warnings.warn(\"'camels_attributes' will be deprecated. Use 'static_attributes' in the future\",\n",
      "Extracting cell state for basin:  51%|█████     | 342/669 [02:47<02:51,  1.90it/s]/home/tommy/neuralhydrology/neuralhydrology/utils/config.py:597: FutureWarning: 'camels_attributes' will be deprecated. Use 'static_attributes' in the future\n",
      "  warnings.warn(\"'camels_attributes' will be deprecated. Use 'static_attributes' in the future\",\n",
      "Extracting cell state for basin:  51%|█████▏    | 343/669 [02:47<02:54,  1.87it/s]/home/tommy/neuralhydrology/neuralhydrology/utils/config.py:597: FutureWarning: 'camels_attributes' will be deprecated. Use 'static_attributes' in the future\n",
      "  warnings.warn(\"'camels_attributes' will be deprecated. Use 'static_attributes' in the future\",\n",
      "Extracting cell state for basin:  51%|█████▏    | 344/669 [02:48<02:50,  1.91it/s]/home/tommy/neuralhydrology/neuralhydrology/utils/config.py:597: FutureWarning: 'camels_attributes' will be deprecated. Use 'static_attributes' in the future\n",
      "  warnings.warn(\"'camels_attributes' will be deprecated. Use 'static_attributes' in the future\",\n",
      "Extracting cell state for basin:  52%|█████▏    | 345/669 [02:48<02:48,  1.92it/s]/home/tommy/neuralhydrology/neuralhydrology/utils/config.py:597: FutureWarning: 'camels_attributes' will be deprecated. Use 'static_attributes' in the future\n",
      "  warnings.warn(\"'camels_attributes' will be deprecated. Use 'static_attributes' in the future\",\n",
      "Extracting cell state for basin:  52%|█████▏    | 346/669 [02:48<02:36,  2.06it/s]/home/tommy/neuralhydrology/neuralhydrology/utils/config.py:597: FutureWarning: 'camels_attributes' will be deprecated. Use 'static_attributes' in the future\n",
      "  warnings.warn(\"'camels_attributes' will be deprecated. Use 'static_attributes' in the future\",\n",
      "Extracting cell state for basin:  52%|█████▏    | 347/669 [02:49<02:28,  2.16it/s]/home/tommy/neuralhydrology/neuralhydrology/utils/config.py:597: FutureWarning: 'camels_attributes' will be deprecated. Use 'static_attributes' in the future\n",
      "  warnings.warn(\"'camels_attributes' will be deprecated. Use 'static_attributes' in the future\",\n",
      "Extracting cell state for basin:  52%|█████▏    | 348/669 [02:49<02:36,  2.06it/s]/home/tommy/neuralhydrology/neuralhydrology/utils/config.py:597: FutureWarning: 'camels_attributes' will be deprecated. Use 'static_attributes' in the future\n",
      "  warnings.warn(\"'camels_attributes' will be deprecated. Use 'static_attributes' in the future\",\n",
      "Extracting cell state for basin:  52%|█████▏    | 349/669 [02:50<02:45,  1.93it/s]/home/tommy/neuralhydrology/neuralhydrology/utils/config.py:597: FutureWarning: 'camels_attributes' will be deprecated. Use 'static_attributes' in the future\n",
      "  warnings.warn(\"'camels_attributes' will be deprecated. Use 'static_attributes' in the future\",\n",
      "Extracting cell state for basin:  52%|█████▏    | 350/669 [02:50<02:39,  2.00it/s]/home/tommy/neuralhydrology/neuralhydrology/utils/config.py:597: FutureWarning: 'camels_attributes' will be deprecated. Use 'static_attributes' in the future\n",
      "  warnings.warn(\"'camels_attributes' will be deprecated. Use 'static_attributes' in the future\",\n",
      "Extracting cell state for basin:  52%|█████▏    | 351/669 [02:51<02:38,  2.01it/s]/home/tommy/neuralhydrology/neuralhydrology/utils/config.py:597: FutureWarning: 'camels_attributes' will be deprecated. Use 'static_attributes' in the future\n",
      "  warnings.warn(\"'camels_attributes' will be deprecated. Use 'static_attributes' in the future\",\n",
      "Extracting cell state for basin:  53%|█████▎    | 352/669 [02:51<02:29,  2.12it/s]/home/tommy/neuralhydrology/neuralhydrology/utils/config.py:597: FutureWarning: 'camels_attributes' will be deprecated. Use 'static_attributes' in the future\n",
      "  warnings.warn(\"'camels_attributes' will be deprecated. Use 'static_attributes' in the future\",\n",
      "Extracting cell state for basin:  53%|█████▎    | 353/669 [02:52<02:23,  2.21it/s]/home/tommy/neuralhydrology/neuralhydrology/utils/config.py:597: FutureWarning: 'camels_attributes' will be deprecated. Use 'static_attributes' in the future\n",
      "  warnings.warn(\"'camels_attributes' will be deprecated. Use 'static_attributes' in the future\",\n",
      "Extracting cell state for basin:  53%|█████▎    | 354/669 [02:52<02:21,  2.23it/s]/home/tommy/neuralhydrology/neuralhydrology/utils/config.py:597: FutureWarning: 'camels_attributes' will be deprecated. Use 'static_attributes' in the future\n",
      "  warnings.warn(\"'camels_attributes' will be deprecated. Use 'static_attributes' in the future\",\n",
      "Extracting cell state for basin:  53%|█████▎    | 355/669 [02:53<02:19,  2.25it/s]/home/tommy/neuralhydrology/neuralhydrology/utils/config.py:597: FutureWarning: 'camels_attributes' will be deprecated. Use 'static_attributes' in the future\n",
      "  warnings.warn(\"'camels_attributes' will be deprecated. Use 'static_attributes' in the future\",\n",
      "Extracting cell state for basin:  53%|█████▎    | 356/669 [02:53<02:16,  2.30it/s]/home/tommy/neuralhydrology/neuralhydrology/utils/config.py:597: FutureWarning: 'camels_attributes' will be deprecated. Use 'static_attributes' in the future\n",
      "  warnings.warn(\"'camels_attributes' will be deprecated. Use 'static_attributes' in the future\",\n",
      "Extracting cell state for basin:  53%|█████▎    | 357/669 [02:54<02:33,  2.03it/s]/home/tommy/neuralhydrology/neuralhydrology/utils/config.py:597: FutureWarning: 'camels_attributes' will be deprecated. Use 'static_attributes' in the future\n",
      "  warnings.warn(\"'camels_attributes' will be deprecated. Use 'static_attributes' in the future\",\n",
      "Extracting cell state for basin:  54%|█████▎    | 358/669 [02:54<02:21,  2.20it/s]/home/tommy/neuralhydrology/neuralhydrology/utils/config.py:597: FutureWarning: 'camels_attributes' will be deprecated. Use 'static_attributes' in the future\n",
      "  warnings.warn(\"'camels_attributes' will be deprecated. Use 'static_attributes' in the future\",\n",
      "Extracting cell state for basin:  54%|█████▎    | 359/669 [02:55<02:33,  2.02it/s]/home/tommy/neuralhydrology/neuralhydrology/utils/config.py:597: FutureWarning: 'camels_attributes' will be deprecated. Use 'static_attributes' in the future\n",
      "  warnings.warn(\"'camels_attributes' will be deprecated. Use 'static_attributes' in the future\",\n",
      "Extracting cell state for basin:  54%|█████▍    | 360/669 [02:55<02:31,  2.03it/s]/home/tommy/neuralhydrology/neuralhydrology/utils/config.py:597: FutureWarning: 'camels_attributes' will be deprecated. Use 'static_attributes' in the future\n",
      "  warnings.warn(\"'camels_attributes' will be deprecated. Use 'static_attributes' in the future\",\n",
      "Extracting cell state for basin:  54%|█████▍    | 361/669 [02:56<02:30,  2.05it/s]/home/tommy/neuralhydrology/neuralhydrology/utils/config.py:597: FutureWarning: 'camels_attributes' will be deprecated. Use 'static_attributes' in the future\n",
      "  warnings.warn(\"'camels_attributes' will be deprecated. Use 'static_attributes' in the future\",\n",
      "Extracting cell state for basin:  54%|█████▍    | 362/669 [02:56<02:26,  2.09it/s]/home/tommy/neuralhydrology/neuralhydrology/utils/config.py:597: FutureWarning: 'camels_attributes' will be deprecated. Use 'static_attributes' in the future\n",
      "  warnings.warn(\"'camels_attributes' will be deprecated. Use 'static_attributes' in the future\",\n",
      "Extracting cell state for basin:  54%|█████▍    | 363/669 [02:57<02:28,  2.07it/s]/home/tommy/neuralhydrology/neuralhydrology/utils/config.py:597: FutureWarning: 'camels_attributes' will be deprecated. Use 'static_attributes' in the future\n",
      "  warnings.warn(\"'camels_attributes' will be deprecated. Use 'static_attributes' in the future\",\n",
      "Extracting cell state for basin:  54%|█████▍    | 364/669 [02:57<02:23,  2.12it/s]/home/tommy/neuralhydrology/neuralhydrology/utils/config.py:597: FutureWarning: 'camels_attributes' will be deprecated. Use 'static_attributes' in the future\n",
      "  warnings.warn(\"'camels_attributes' will be deprecated. Use 'static_attributes' in the future\",\n",
      "Extracting cell state for basin:  55%|█████▍    | 365/669 [02:57<02:22,  2.13it/s]/home/tommy/neuralhydrology/neuralhydrology/utils/config.py:597: FutureWarning: 'camels_attributes' will be deprecated. Use 'static_attributes' in the future\n",
      "  warnings.warn(\"'camels_attributes' will be deprecated. Use 'static_attributes' in the future\",\n",
      "Extracting cell state for basin:  55%|█████▍    | 366/669 [02:58<02:22,  2.12it/s]/home/tommy/neuralhydrology/neuralhydrology/utils/config.py:597: FutureWarning: 'camels_attributes' will be deprecated. Use 'static_attributes' in the future\n",
      "  warnings.warn(\"'camels_attributes' will be deprecated. Use 'static_attributes' in the future\",\n",
      "Extracting cell state for basin:  55%|█████▍    | 367/669 [02:59<02:33,  1.97it/s]/home/tommy/neuralhydrology/neuralhydrology/utils/config.py:597: FutureWarning: 'camels_attributes' will be deprecated. Use 'static_attributes' in the future\n",
      "  warnings.warn(\"'camels_attributes' will be deprecated. Use 'static_attributes' in the future\",\n",
      "Extracting cell state for basin:  55%|█████▌    | 368/669 [02:59<02:40,  1.88it/s]/home/tommy/neuralhydrology/neuralhydrology/utils/config.py:597: FutureWarning: 'camels_attributes' will be deprecated. Use 'static_attributes' in the future\n",
      "  warnings.warn(\"'camels_attributes' will be deprecated. Use 'static_attributes' in the future\",\n",
      "Extracting cell state for basin:  55%|█████▌    | 369/669 [03:00<02:47,  1.80it/s]/home/tommy/neuralhydrology/neuralhydrology/utils/config.py:597: FutureWarning: 'camels_attributes' will be deprecated. Use 'static_attributes' in the future\n",
      "  warnings.warn(\"'camels_attributes' will be deprecated. Use 'static_attributes' in the future\",\n",
      "Extracting cell state for basin:  55%|█████▌    | 370/669 [03:00<02:38,  1.88it/s]/home/tommy/neuralhydrology/neuralhydrology/utils/config.py:597: FutureWarning: 'camels_attributes' will be deprecated. Use 'static_attributes' in the future\n",
      "  warnings.warn(\"'camels_attributes' will be deprecated. Use 'static_attributes' in the future\",\n",
      "Extracting cell state for basin:  55%|█████▌    | 371/669 [03:01<02:34,  1.93it/s]/home/tommy/neuralhydrology/neuralhydrology/utils/config.py:597: FutureWarning: 'camels_attributes' will be deprecated. Use 'static_attributes' in the future\n",
      "  warnings.warn(\"'camels_attributes' will be deprecated. Use 'static_attributes' in the future\",\n",
      "Extracting cell state for basin:  56%|█████▌    | 372/669 [03:01<02:32,  1.95it/s]/home/tommy/neuralhydrology/neuralhydrology/utils/config.py:597: FutureWarning: 'camels_attributes' will be deprecated. Use 'static_attributes' in the future\n",
      "  warnings.warn(\"'camels_attributes' will be deprecated. Use 'static_attributes' in the future\",\n",
      "Extracting cell state for basin:  56%|█████▌    | 373/669 [03:02<02:29,  1.98it/s]/home/tommy/neuralhydrology/neuralhydrology/utils/config.py:597: FutureWarning: 'camels_attributes' will be deprecated. Use 'static_attributes' in the future\n",
      "  warnings.warn(\"'camels_attributes' will be deprecated. Use 'static_attributes' in the future\",\n",
      "Extracting cell state for basin:  56%|█████▌    | 374/669 [03:02<02:33,  1.92it/s]/home/tommy/neuralhydrology/neuralhydrology/utils/config.py:597: FutureWarning: 'camels_attributes' will be deprecated. Use 'static_attributes' in the future\n",
      "  warnings.warn(\"'camels_attributes' will be deprecated. Use 'static_attributes' in the future\",\n",
      "Extracting cell state for basin:  56%|█████▌    | 375/669 [03:03<02:32,  1.92it/s]/home/tommy/neuralhydrology/neuralhydrology/utils/config.py:597: FutureWarning: 'camels_attributes' will be deprecated. Use 'static_attributes' in the future\n",
      "  warnings.warn(\"'camels_attributes' will be deprecated. Use 'static_attributes' in the future\",\n",
      "Extracting cell state for basin:  56%|█████▌    | 376/669 [03:03<02:31,  1.93it/s]/home/tommy/neuralhydrology/neuralhydrology/utils/config.py:597: FutureWarning: 'camels_attributes' will be deprecated. Use 'static_attributes' in the future\n",
      "  warnings.warn(\"'camels_attributes' will be deprecated. Use 'static_attributes' in the future\",\n",
      "Extracting cell state for basin:  56%|█████▋    | 377/669 [03:04<02:29,  1.95it/s]/home/tommy/neuralhydrology/neuralhydrology/utils/config.py:597: FutureWarning: 'camels_attributes' will be deprecated. Use 'static_attributes' in the future\n",
      "  warnings.warn(\"'camels_attributes' will be deprecated. Use 'static_attributes' in the future\",\n",
      "Extracting cell state for basin:  57%|█████▋    | 378/669 [03:04<02:20,  2.07it/s]/home/tommy/neuralhydrology/neuralhydrology/utils/config.py:597: FutureWarning: 'camels_attributes' will be deprecated. Use 'static_attributes' in the future\n",
      "  warnings.warn(\"'camels_attributes' will be deprecated. Use 'static_attributes' in the future\",\n",
      "Extracting cell state for basin:  57%|█████▋    | 379/669 [03:05<02:32,  1.90it/s]/home/tommy/neuralhydrology/neuralhydrology/utils/config.py:597: FutureWarning: 'camels_attributes' will be deprecated. Use 'static_attributes' in the future\n",
      "  warnings.warn(\"'camels_attributes' will be deprecated. Use 'static_attributes' in the future\",\n",
      "Extracting cell state for basin:  57%|█████▋    | 380/669 [03:05<02:23,  2.01it/s]/home/tommy/neuralhydrology/neuralhydrology/utils/config.py:597: FutureWarning: 'camels_attributes' will be deprecated. Use 'static_attributes' in the future\n",
      "  warnings.warn(\"'camels_attributes' will be deprecated. Use 'static_attributes' in the future\",\n",
      "Extracting cell state for basin:  57%|█████▋    | 381/669 [03:06<02:20,  2.05it/s]/home/tommy/neuralhydrology/neuralhydrology/utils/config.py:597: FutureWarning: 'camels_attributes' will be deprecated. Use 'static_attributes' in the future\n",
      "  warnings.warn(\"'camels_attributes' will be deprecated. Use 'static_attributes' in the future\",\n",
      "Extracting cell state for basin:  57%|█████▋    | 382/669 [03:06<02:18,  2.08it/s]/home/tommy/neuralhydrology/neuralhydrology/utils/config.py:597: FutureWarning: 'camels_attributes' will be deprecated. Use 'static_attributes' in the future\n",
      "  warnings.warn(\"'camels_attributes' will be deprecated. Use 'static_attributes' in the future\",\n",
      "Extracting cell state for basin:  57%|█████▋    | 383/669 [03:07<02:15,  2.11it/s]/home/tommy/neuralhydrology/neuralhydrology/utils/config.py:597: FutureWarning: 'camels_attributes' will be deprecated. Use 'static_attributes' in the future\n",
      "  warnings.warn(\"'camels_attributes' will be deprecated. Use 'static_attributes' in the future\",\n",
      "Extracting cell state for basin:  57%|█████▋    | 384/669 [03:07<02:16,  2.10it/s]/home/tommy/neuralhydrology/neuralhydrology/utils/config.py:597: FutureWarning: 'camels_attributes' will be deprecated. Use 'static_attributes' in the future\n",
      "  warnings.warn(\"'camels_attributes' will be deprecated. Use 'static_attributes' in the future\",\n",
      "Extracting cell state for basin:  58%|█████▊    | 385/669 [03:08<02:16,  2.07it/s]/home/tommy/neuralhydrology/neuralhydrology/utils/config.py:597: FutureWarning: 'camels_attributes' will be deprecated. Use 'static_attributes' in the future\n",
      "  warnings.warn(\"'camels_attributes' will be deprecated. Use 'static_attributes' in the future\",\n",
      "Extracting cell state for basin:  58%|█████▊    | 386/669 [03:08<02:19,  2.03it/s]/home/tommy/neuralhydrology/neuralhydrology/utils/config.py:597: FutureWarning: 'camels_attributes' will be deprecated. Use 'static_attributes' in the future\n",
      "  warnings.warn(\"'camels_attributes' will be deprecated. Use 'static_attributes' in the future\",\n",
      "Extracting cell state for basin:  58%|█████▊    | 387/669 [03:09<02:19,  2.02it/s]/home/tommy/neuralhydrology/neuralhydrology/utils/config.py:597: FutureWarning: 'camels_attributes' will be deprecated. Use 'static_attributes' in the future\n",
      "  warnings.warn(\"'camels_attributes' will be deprecated. Use 'static_attributes' in the future\",\n",
      "Extracting cell state for basin:  58%|█████▊    | 388/669 [03:09<02:22,  1.97it/s]/home/tommy/neuralhydrology/neuralhydrology/utils/config.py:597: FutureWarning: 'camels_attributes' will be deprecated. Use 'static_attributes' in the future\n",
      "  warnings.warn(\"'camels_attributes' will be deprecated. Use 'static_attributes' in the future\",\n",
      "Extracting cell state for basin:  58%|█████▊    | 389/669 [03:10<02:33,  1.83it/s]/home/tommy/neuralhydrology/neuralhydrology/utils/config.py:597: FutureWarning: 'camels_attributes' will be deprecated. Use 'static_attributes' in the future\n",
      "  warnings.warn(\"'camels_attributes' will be deprecated. Use 'static_attributes' in the future\",\n",
      "Extracting cell state for basin:  58%|█████▊    | 390/669 [03:10<02:27,  1.89it/s]/home/tommy/neuralhydrology/neuralhydrology/utils/config.py:597: FutureWarning: 'camels_attributes' will be deprecated. Use 'static_attributes' in the future\n",
      "  warnings.warn(\"'camels_attributes' will be deprecated. Use 'static_attributes' in the future\",\n",
      "Extracting cell state for basin:  58%|█████▊    | 391/669 [03:11<02:24,  1.93it/s]/home/tommy/neuralhydrology/neuralhydrology/utils/config.py:597: FutureWarning: 'camels_attributes' will be deprecated. Use 'static_attributes' in the future\n",
      "  warnings.warn(\"'camels_attributes' will be deprecated. Use 'static_attributes' in the future\",\n",
      "Extracting cell state for basin:  59%|█████▊    | 392/669 [03:11<02:30,  1.83it/s]/home/tommy/neuralhydrology/neuralhydrology/utils/config.py:597: FutureWarning: 'camels_attributes' will be deprecated. Use 'static_attributes' in the future\n",
      "  warnings.warn(\"'camels_attributes' will be deprecated. Use 'static_attributes' in the future\",\n",
      "Extracting cell state for basin:  59%|█████▊    | 393/669 [03:12<02:25,  1.90it/s]/home/tommy/neuralhydrology/neuralhydrology/utils/config.py:597: FutureWarning: 'camels_attributes' will be deprecated. Use 'static_attributes' in the future\n",
      "  warnings.warn(\"'camels_attributes' will be deprecated. Use 'static_attributes' in the future\",\n",
      "Extracting cell state for basin:  59%|█████▉    | 394/669 [03:12<02:20,  1.95it/s]/home/tommy/neuralhydrology/neuralhydrology/utils/config.py:597: FutureWarning: 'camels_attributes' will be deprecated. Use 'static_attributes' in the future\n",
      "  warnings.warn(\"'camels_attributes' will be deprecated. Use 'static_attributes' in the future\",\n",
      "Extracting cell state for basin:  59%|█████▉    | 395/669 [03:13<02:17,  1.99it/s]/home/tommy/neuralhydrology/neuralhydrology/utils/config.py:597: FutureWarning: 'camels_attributes' will be deprecated. Use 'static_attributes' in the future\n",
      "  warnings.warn(\"'camels_attributes' will be deprecated. Use 'static_attributes' in the future\",\n",
      "Extracting cell state for basin:  59%|█████▉    | 396/669 [03:13<02:15,  2.02it/s]/home/tommy/neuralhydrology/neuralhydrology/utils/config.py:597: FutureWarning: 'camels_attributes' will be deprecated. Use 'static_attributes' in the future\n",
      "  warnings.warn(\"'camels_attributes' will be deprecated. Use 'static_attributes' in the future\",\n",
      "Extracting cell state for basin:  59%|█████▉    | 397/669 [03:14<02:10,  2.08it/s]/home/tommy/neuralhydrology/neuralhydrology/utils/config.py:597: FutureWarning: 'camels_attributes' will be deprecated. Use 'static_attributes' in the future\n",
      "  warnings.warn(\"'camels_attributes' will be deprecated. Use 'static_attributes' in the future\",\n",
      "Extracting cell state for basin:  59%|█████▉    | 398/669 [03:14<02:10,  2.08it/s]/home/tommy/neuralhydrology/neuralhydrology/utils/config.py:597: FutureWarning: 'camels_attributes' will be deprecated. Use 'static_attributes' in the future\n",
      "  warnings.warn(\"'camels_attributes' will be deprecated. Use 'static_attributes' in the future\",\n",
      "Extracting cell state for basin:  60%|█████▉    | 399/669 [03:15<02:20,  1.92it/s]/home/tommy/neuralhydrology/neuralhydrology/utils/config.py:597: FutureWarning: 'camels_attributes' will be deprecated. Use 'static_attributes' in the future\n",
      "  warnings.warn(\"'camels_attributes' will be deprecated. Use 'static_attributes' in the future\",\n",
      "Extracting cell state for basin:  60%|█████▉    | 400/669 [03:15<02:17,  1.96it/s]/home/tommy/neuralhydrology/neuralhydrology/utils/config.py:597: FutureWarning: 'camels_attributes' will be deprecated. Use 'static_attributes' in the future\n",
      "  warnings.warn(\"'camels_attributes' will be deprecated. Use 'static_attributes' in the future\",\n",
      "Extracting cell state for basin:  60%|█████▉    | 401/669 [03:16<02:18,  1.93it/s]/home/tommy/neuralhydrology/neuralhydrology/utils/config.py:597: FutureWarning: 'camels_attributes' will be deprecated. Use 'static_attributes' in the future\n",
      "  warnings.warn(\"'camels_attributes' will be deprecated. Use 'static_attributes' in the future\",\n",
      "Extracting cell state for basin:  60%|██████    | 402/669 [03:17<02:28,  1.80it/s]/home/tommy/neuralhydrology/neuralhydrology/utils/config.py:597: FutureWarning: 'camels_attributes' will be deprecated. Use 'static_attributes' in the future\n",
      "  warnings.warn(\"'camels_attributes' will be deprecated. Use 'static_attributes' in the future\",\n",
      "Extracting cell state for basin:  60%|██████    | 403/669 [03:17<02:30,  1.77it/s]/home/tommy/neuralhydrology/neuralhydrology/utils/config.py:597: FutureWarning: 'camels_attributes' will be deprecated. Use 'static_attributes' in the future\n",
      "  warnings.warn(\"'camels_attributes' will be deprecated. Use 'static_attributes' in the future\",\n",
      "Extracting cell state for basin:  60%|██████    | 404/669 [03:18<02:23,  1.84it/s]/home/tommy/neuralhydrology/neuralhydrology/utils/config.py:597: FutureWarning: 'camels_attributes' will be deprecated. Use 'static_attributes' in the future\n",
      "  warnings.warn(\"'camels_attributes' will be deprecated. Use 'static_attributes' in the future\",\n",
      "Extracting cell state for basin:  61%|██████    | 405/669 [03:18<02:21,  1.87it/s]/home/tommy/neuralhydrology/neuralhydrology/utils/config.py:597: FutureWarning: 'camels_attributes' will be deprecated. Use 'static_attributes' in the future\n",
      "  warnings.warn(\"'camels_attributes' will be deprecated. Use 'static_attributes' in the future\",\n",
      "Extracting cell state for basin:  61%|██████    | 406/669 [03:19<02:11,  2.00it/s]/home/tommy/neuralhydrology/neuralhydrology/utils/config.py:597: FutureWarning: 'camels_attributes' will be deprecated. Use 'static_attributes' in the future\n",
      "  warnings.warn(\"'camels_attributes' will be deprecated. Use 'static_attributes' in the future\",\n",
      "Extracting cell state for basin:  61%|██████    | 407/669 [03:19<02:08,  2.04it/s]/home/tommy/neuralhydrology/neuralhydrology/utils/config.py:597: FutureWarning: 'camels_attributes' will be deprecated. Use 'static_attributes' in the future\n",
      "  warnings.warn(\"'camels_attributes' will be deprecated. Use 'static_attributes' in the future\",\n",
      "Extracting cell state for basin:  61%|██████    | 408/669 [03:19<02:05,  2.09it/s]/home/tommy/neuralhydrology/neuralhydrology/utils/config.py:597: FutureWarning: 'camels_attributes' will be deprecated. Use 'static_attributes' in the future\n",
      "  warnings.warn(\"'camels_attributes' will be deprecated. Use 'static_attributes' in the future\",\n",
      "Extracting cell state for basin:  61%|██████    | 409/669 [03:20<02:17,  1.89it/s]/home/tommy/neuralhydrology/neuralhydrology/utils/config.py:597: FutureWarning: 'camels_attributes' will be deprecated. Use 'static_attributes' in the future\n",
      "  warnings.warn(\"'camels_attributes' will be deprecated. Use 'static_attributes' in the future\",\n",
      "Extracting cell state for basin:  61%|██████▏   | 410/669 [03:21<02:14,  1.92it/s]/home/tommy/neuralhydrology/neuralhydrology/utils/config.py:597: FutureWarning: 'camels_attributes' will be deprecated. Use 'static_attributes' in the future\n",
      "  warnings.warn(\"'camels_attributes' will be deprecated. Use 'static_attributes' in the future\",\n",
      "Extracting cell state for basin:  61%|██████▏   | 411/669 [03:21<02:15,  1.91it/s]/home/tommy/neuralhydrology/neuralhydrology/utils/config.py:597: FutureWarning: 'camels_attributes' will be deprecated. Use 'static_attributes' in the future\n",
      "  warnings.warn(\"'camels_attributes' will be deprecated. Use 'static_attributes' in the future\",\n",
      "Extracting cell state for basin:  62%|██████▏   | 412/669 [03:22<02:17,  1.86it/s]/home/tommy/neuralhydrology/neuralhydrology/utils/config.py:597: FutureWarning: 'camels_attributes' will be deprecated. Use 'static_attributes' in the future\n",
      "  warnings.warn(\"'camels_attributes' will be deprecated. Use 'static_attributes' in the future\",\n",
      "Extracting cell state for basin:  62%|██████▏   | 413/669 [03:22<02:12,  1.93it/s]/home/tommy/neuralhydrology/neuralhydrology/utils/config.py:597: FutureWarning: 'camels_attributes' will be deprecated. Use 'static_attributes' in the future\n",
      "  warnings.warn(\"'camels_attributes' will be deprecated. Use 'static_attributes' in the future\",\n",
      "Extracting cell state for basin:  62%|██████▏   | 414/669 [03:23<02:08,  1.99it/s]/home/tommy/neuralhydrology/neuralhydrology/utils/config.py:597: FutureWarning: 'camels_attributes' will be deprecated. Use 'static_attributes' in the future\n",
      "  warnings.warn(\"'camels_attributes' will be deprecated. Use 'static_attributes' in the future\",\n",
      "Extracting cell state for basin:  62%|██████▏   | 415/669 [03:23<02:03,  2.06it/s]/home/tommy/neuralhydrology/neuralhydrology/utils/config.py:597: FutureWarning: 'camels_attributes' will be deprecated. Use 'static_attributes' in the future\n",
      "  warnings.warn(\"'camels_attributes' will be deprecated. Use 'static_attributes' in the future\",\n",
      "Extracting cell state for basin:  62%|██████▏   | 416/669 [03:24<01:58,  2.13it/s]/home/tommy/neuralhydrology/neuralhydrology/utils/config.py:597: FutureWarning: 'camels_attributes' will be deprecated. Use 'static_attributes' in the future\n",
      "  warnings.warn(\"'camels_attributes' will be deprecated. Use 'static_attributes' in the future\",\n",
      "Extracting cell state for basin:  62%|██████▏   | 417/669 [03:24<01:53,  2.22it/s]/home/tommy/neuralhydrology/neuralhydrology/utils/config.py:597: FutureWarning: 'camels_attributes' will be deprecated. Use 'static_attributes' in the future\n",
      "  warnings.warn(\"'camels_attributes' will be deprecated. Use 'static_attributes' in the future\",\n",
      "Extracting cell state for basin:  62%|██████▏   | 418/669 [03:24<01:57,  2.14it/s]/home/tommy/neuralhydrology/neuralhydrology/utils/config.py:597: FutureWarning: 'camels_attributes' will be deprecated. Use 'static_attributes' in the future\n",
      "  warnings.warn(\"'camels_attributes' will be deprecated. Use 'static_attributes' in the future\",\n",
      "Extracting cell state for basin:  63%|██████▎   | 419/669 [03:25<02:05,  1.99it/s]/home/tommy/neuralhydrology/neuralhydrology/utils/config.py:597: FutureWarning: 'camels_attributes' will be deprecated. Use 'static_attributes' in the future\n",
      "  warnings.warn(\"'camels_attributes' will be deprecated. Use 'static_attributes' in the future\",\n",
      "Extracting cell state for basin:  63%|██████▎   | 420/669 [03:26<02:03,  2.02it/s]/home/tommy/neuralhydrology/neuralhydrology/utils/config.py:597: FutureWarning: 'camels_attributes' will be deprecated. Use 'static_attributes' in the future\n",
      "  warnings.warn(\"'camels_attributes' will be deprecated. Use 'static_attributes' in the future\",\n",
      "Extracting cell state for basin:  63%|██████▎   | 421/669 [03:26<02:03,  2.01it/s]/home/tommy/neuralhydrology/neuralhydrology/utils/config.py:597: FutureWarning: 'camels_attributes' will be deprecated. Use 'static_attributes' in the future\n",
      "  warnings.warn(\"'camels_attributes' will be deprecated. Use 'static_attributes' in the future\",\n",
      "Extracting cell state for basin:  63%|██████▎   | 422/669 [03:26<02:00,  2.05it/s]/home/tommy/neuralhydrology/neuralhydrology/utils/config.py:597: FutureWarning: 'camels_attributes' will be deprecated. Use 'static_attributes' in the future\n",
      "  warnings.warn(\"'camels_attributes' will be deprecated. Use 'static_attributes' in the future\",\n",
      "Extracting cell state for basin:  63%|██████▎   | 423/669 [03:27<02:00,  2.05it/s]/home/tommy/neuralhydrology/neuralhydrology/utils/config.py:597: FutureWarning: 'camels_attributes' will be deprecated. Use 'static_attributes' in the future\n",
      "  warnings.warn(\"'camels_attributes' will be deprecated. Use 'static_attributes' in the future\",\n",
      "Extracting cell state for basin:  63%|██████▎   | 424/669 [03:27<02:00,  2.03it/s]/home/tommy/neuralhydrology/neuralhydrology/utils/config.py:597: FutureWarning: 'camels_attributes' will be deprecated. Use 'static_attributes' in the future\n",
      "  warnings.warn(\"'camels_attributes' will be deprecated. Use 'static_attributes' in the future\",\n",
      "Extracting cell state for basin:  64%|██████▎   | 425/669 [03:28<01:58,  2.05it/s]/home/tommy/neuralhydrology/neuralhydrology/utils/config.py:597: FutureWarning: 'camels_attributes' will be deprecated. Use 'static_attributes' in the future\n",
      "  warnings.warn(\"'camels_attributes' will be deprecated. Use 'static_attributes' in the future\",\n",
      "Extracting cell state for basin:  64%|██████▎   | 426/669 [03:28<01:58,  2.06it/s]/home/tommy/neuralhydrology/neuralhydrology/utils/config.py:597: FutureWarning: 'camels_attributes' will be deprecated. Use 'static_attributes' in the future\n",
      "  warnings.warn(\"'camels_attributes' will be deprecated. Use 'static_attributes' in the future\",\n",
      "Extracting cell state for basin:  64%|██████▍   | 427/669 [03:29<01:57,  2.07it/s]/home/tommy/neuralhydrology/neuralhydrology/utils/config.py:597: FutureWarning: 'camels_attributes' will be deprecated. Use 'static_attributes' in the future\n",
      "  warnings.warn(\"'camels_attributes' will be deprecated. Use 'static_attributes' in the future\",\n",
      "Extracting cell state for basin:  64%|██████▍   | 428/669 [03:29<01:51,  2.15it/s]/home/tommy/neuralhydrology/neuralhydrology/utils/config.py:597: FutureWarning: 'camels_attributes' will be deprecated. Use 'static_attributes' in the future\n",
      "  warnings.warn(\"'camels_attributes' will be deprecated. Use 'static_attributes' in the future\",\n",
      "Extracting cell state for basin:  64%|██████▍   | 429/669 [03:30<02:02,  1.96it/s]/home/tommy/neuralhydrology/neuralhydrology/utils/config.py:597: FutureWarning: 'camels_attributes' will be deprecated. Use 'static_attributes' in the future\n",
      "  warnings.warn(\"'camels_attributes' will be deprecated. Use 'static_attributes' in the future\",\n",
      "Extracting cell state for basin:  64%|██████▍   | 430/669 [03:30<01:59,  1.99it/s]/home/tommy/neuralhydrology/neuralhydrology/utils/config.py:597: FutureWarning: 'camels_attributes' will be deprecated. Use 'static_attributes' in the future\n",
      "  warnings.warn(\"'camels_attributes' will be deprecated. Use 'static_attributes' in the future\",\n",
      "Extracting cell state for basin:  64%|██████▍   | 431/669 [03:31<02:01,  1.97it/s]/home/tommy/neuralhydrology/neuralhydrology/utils/config.py:597: FutureWarning: 'camels_attributes' will be deprecated. Use 'static_attributes' in the future\n",
      "  warnings.warn(\"'camels_attributes' will be deprecated. Use 'static_attributes' in the future\",\n",
      "Extracting cell state for basin:  65%|██████▍   | 432/669 [03:31<02:01,  1.95it/s]/home/tommy/neuralhydrology/neuralhydrology/utils/config.py:597: FutureWarning: 'camels_attributes' will be deprecated. Use 'static_attributes' in the future\n",
      "  warnings.warn(\"'camels_attributes' will be deprecated. Use 'static_attributes' in the future\",\n",
      "Extracting cell state for basin:  65%|██████▍   | 433/669 [03:32<01:58,  1.99it/s]/home/tommy/neuralhydrology/neuralhydrology/utils/config.py:597: FutureWarning: 'camels_attributes' will be deprecated. Use 'static_attributes' in the future\n",
      "  warnings.warn(\"'camels_attributes' will be deprecated. Use 'static_attributes' in the future\",\n",
      "Extracting cell state for basin:  65%|██████▍   | 434/669 [03:33<02:02,  1.93it/s]/home/tommy/neuralhydrology/neuralhydrology/utils/config.py:597: FutureWarning: 'camels_attributes' will be deprecated. Use 'static_attributes' in the future\n",
      "  warnings.warn(\"'camels_attributes' will be deprecated. Use 'static_attributes' in the future\",\n",
      "Extracting cell state for basin:  65%|██████▌   | 435/669 [03:33<02:04,  1.88it/s]/home/tommy/neuralhydrology/neuralhydrology/utils/config.py:597: FutureWarning: 'camels_attributes' will be deprecated. Use 'static_attributes' in the future\n",
      "  warnings.warn(\"'camels_attributes' will be deprecated. Use 'static_attributes' in the future\",\n",
      "Extracting cell state for basin:  65%|██████▌   | 436/669 [03:34<02:00,  1.94it/s]/home/tommy/neuralhydrology/neuralhydrology/utils/config.py:597: FutureWarning: 'camels_attributes' will be deprecated. Use 'static_attributes' in the future\n",
      "  warnings.warn(\"'camels_attributes' will be deprecated. Use 'static_attributes' in the future\",\n",
      "Extracting cell state for basin:  65%|██████▌   | 437/669 [03:34<01:54,  2.03it/s]/home/tommy/neuralhydrology/neuralhydrology/utils/config.py:597: FutureWarning: 'camels_attributes' will be deprecated. Use 'static_attributes' in the future\n",
      "  warnings.warn(\"'camels_attributes' will be deprecated. Use 'static_attributes' in the future\",\n",
      "Extracting cell state for basin:  65%|██████▌   | 438/669 [03:34<01:52,  2.06it/s]/home/tommy/neuralhydrology/neuralhydrology/utils/config.py:597: FutureWarning: 'camels_attributes' will be deprecated. Use 'static_attributes' in the future\n",
      "  warnings.warn(\"'camels_attributes' will be deprecated. Use 'static_attributes' in the future\",\n",
      "Extracting cell state for basin:  66%|██████▌   | 439/669 [03:35<01:59,  1.93it/s]/home/tommy/neuralhydrology/neuralhydrology/utils/config.py:597: FutureWarning: 'camels_attributes' will be deprecated. Use 'static_attributes' in the future\n",
      "  warnings.warn(\"'camels_attributes' will be deprecated. Use 'static_attributes' in the future\",\n",
      "Extracting cell state for basin:  66%|██████▌   | 440/669 [03:36<01:53,  2.02it/s]/home/tommy/neuralhydrology/neuralhydrology/utils/config.py:597: FutureWarning: 'camels_attributes' will be deprecated. Use 'static_attributes' in the future\n",
      "  warnings.warn(\"'camels_attributes' will be deprecated. Use 'static_attributes' in the future\",\n",
      "Extracting cell state for basin:  66%|██████▌   | 441/669 [03:36<01:46,  2.13it/s]/home/tommy/neuralhydrology/neuralhydrology/utils/config.py:597: FutureWarning: 'camels_attributes' will be deprecated. Use 'static_attributes' in the future\n",
      "  warnings.warn(\"'camels_attributes' will be deprecated. Use 'static_attributes' in the future\",\n",
      "Extracting cell state for basin:  66%|██████▌   | 442/669 [03:36<01:43,  2.19it/s]/home/tommy/neuralhydrology/neuralhydrology/utils/config.py:597: FutureWarning: 'camels_attributes' will be deprecated. Use 'static_attributes' in the future\n",
      "  warnings.warn(\"'camels_attributes' will be deprecated. Use 'static_attributes' in the future\",\n",
      "Extracting cell state for basin:  66%|██████▌   | 443/669 [03:37<01:40,  2.25it/s]/home/tommy/neuralhydrology/neuralhydrology/utils/config.py:597: FutureWarning: 'camels_attributes' will be deprecated. Use 'static_attributes' in the future\n",
      "  warnings.warn(\"'camels_attributes' will be deprecated. Use 'static_attributes' in the future\",\n",
      "Extracting cell state for basin:  66%|██████▋   | 444/669 [03:37<01:38,  2.29it/s]/home/tommy/neuralhydrology/neuralhydrology/utils/config.py:597: FutureWarning: 'camels_attributes' will be deprecated. Use 'static_attributes' in the future\n",
      "  warnings.warn(\"'camels_attributes' will be deprecated. Use 'static_attributes' in the future\",\n",
      "Extracting cell state for basin:  67%|██████▋   | 445/669 [03:38<01:38,  2.27it/s]/home/tommy/neuralhydrology/neuralhydrology/utils/config.py:597: FutureWarning: 'camels_attributes' will be deprecated. Use 'static_attributes' in the future\n",
      "  warnings.warn(\"'camels_attributes' will be deprecated. Use 'static_attributes' in the future\",\n",
      "Extracting cell state for basin:  67%|██████▋   | 446/669 [03:38<01:42,  2.17it/s]/home/tommy/neuralhydrology/neuralhydrology/utils/config.py:597: FutureWarning: 'camels_attributes' will be deprecated. Use 'static_attributes' in the future\n",
      "  warnings.warn(\"'camels_attributes' will be deprecated. Use 'static_attributes' in the future\",\n",
      "Extracting cell state for basin:  67%|██████▋   | 447/669 [03:39<01:40,  2.20it/s]/home/tommy/neuralhydrology/neuralhydrology/utils/config.py:597: FutureWarning: 'camels_attributes' will be deprecated. Use 'static_attributes' in the future\n",
      "  warnings.warn(\"'camels_attributes' will be deprecated. Use 'static_attributes' in the future\",\n",
      "Extracting cell state for basin:  67%|██████▋   | 448/669 [03:39<01:46,  2.08it/s]/home/tommy/neuralhydrology/neuralhydrology/utils/config.py:597: FutureWarning: 'camels_attributes' will be deprecated. Use 'static_attributes' in the future\n",
      "  warnings.warn(\"'camels_attributes' will be deprecated. Use 'static_attributes' in the future\",\n",
      "Extracting cell state for basin:  67%|██████▋   | 449/669 [03:40<01:42,  2.15it/s]/home/tommy/neuralhydrology/neuralhydrology/utils/config.py:597: FutureWarning: 'camels_attributes' will be deprecated. Use 'static_attributes' in the future\n",
      "  warnings.warn(\"'camels_attributes' will be deprecated. Use 'static_attributes' in the future\",\n",
      "Extracting cell state for basin:  67%|██████▋   | 450/669 [03:40<01:51,  1.96it/s]/home/tommy/neuralhydrology/neuralhydrology/utils/config.py:597: FutureWarning: 'camels_attributes' will be deprecated. Use 'static_attributes' in the future\n",
      "  warnings.warn(\"'camels_attributes' will be deprecated. Use 'static_attributes' in the future\",\n",
      "Extracting cell state for basin:  67%|██████▋   | 451/669 [03:41<01:44,  2.09it/s]/home/tommy/neuralhydrology/neuralhydrology/utils/config.py:597: FutureWarning: 'camels_attributes' will be deprecated. Use 'static_attributes' in the future\n",
      "  warnings.warn(\"'camels_attributes' will be deprecated. Use 'static_attributes' in the future\",\n",
      "Extracting cell state for basin:  68%|██████▊   | 452/669 [03:41<01:42,  2.11it/s]/home/tommy/neuralhydrology/neuralhydrology/utils/config.py:597: FutureWarning: 'camels_attributes' will be deprecated. Use 'static_attributes' in the future\n",
      "  warnings.warn(\"'camels_attributes' will be deprecated. Use 'static_attributes' in the future\",\n",
      "Extracting cell state for basin:  68%|██████▊   | 453/669 [03:42<01:48,  2.00it/s]/home/tommy/neuralhydrology/neuralhydrology/utils/config.py:597: FutureWarning: 'camels_attributes' will be deprecated. Use 'static_attributes' in the future\n",
      "  warnings.warn(\"'camels_attributes' will be deprecated. Use 'static_attributes' in the future\",\n",
      "Extracting cell state for basin:  68%|██████▊   | 454/669 [03:42<01:51,  1.93it/s]/home/tommy/neuralhydrology/neuralhydrology/utils/config.py:597: FutureWarning: 'camels_attributes' will be deprecated. Use 'static_attributes' in the future\n",
      "  warnings.warn(\"'camels_attributes' will be deprecated. Use 'static_attributes' in the future\",\n",
      "Extracting cell state for basin:  68%|██████▊   | 455/669 [03:43<01:49,  1.95it/s]/home/tommy/neuralhydrology/neuralhydrology/utils/config.py:597: FutureWarning: 'camels_attributes' will be deprecated. Use 'static_attributes' in the future\n",
      "  warnings.warn(\"'camels_attributes' will be deprecated. Use 'static_attributes' in the future\",\n",
      "Extracting cell state for basin:  68%|██████▊   | 456/669 [03:43<01:46,  2.00it/s]/home/tommy/neuralhydrology/neuralhydrology/utils/config.py:597: FutureWarning: 'camels_attributes' will be deprecated. Use 'static_attributes' in the future\n",
      "  warnings.warn(\"'camels_attributes' will be deprecated. Use 'static_attributes' in the future\",\n",
      "Extracting cell state for basin:  68%|██████▊   | 457/669 [03:44<01:49,  1.93it/s]/home/tommy/neuralhydrology/neuralhydrology/utils/config.py:597: FutureWarning: 'camels_attributes' will be deprecated. Use 'static_attributes' in the future\n",
      "  warnings.warn(\"'camels_attributes' will be deprecated. Use 'static_attributes' in the future\",\n",
      "Extracting cell state for basin:  68%|██████▊   | 458/669 [03:44<01:50,  1.91it/s]/home/tommy/neuralhydrology/neuralhydrology/utils/config.py:597: FutureWarning: 'camels_attributes' will be deprecated. Use 'static_attributes' in the future\n",
      "  warnings.warn(\"'camels_attributes' will be deprecated. Use 'static_attributes' in the future\",\n",
      "Extracting cell state for basin:  69%|██████▊   | 459/669 [03:45<01:48,  1.94it/s]/home/tommy/neuralhydrology/neuralhydrology/utils/config.py:597: FutureWarning: 'camels_attributes' will be deprecated. Use 'static_attributes' in the future\n",
      "  warnings.warn(\"'camels_attributes' will be deprecated. Use 'static_attributes' in the future\",\n",
      "Extracting cell state for basin:  69%|██████▉   | 460/669 [03:45<01:55,  1.82it/s]/home/tommy/neuralhydrology/neuralhydrology/utils/config.py:597: FutureWarning: 'camels_attributes' will be deprecated. Use 'static_attributes' in the future\n",
      "  warnings.warn(\"'camels_attributes' will be deprecated. Use 'static_attributes' in the future\",\n",
      "Extracting cell state for basin:  69%|██████▉   | 461/669 [03:46<01:48,  1.92it/s]/home/tommy/neuralhydrology/neuralhydrology/utils/config.py:597: FutureWarning: 'camels_attributes' will be deprecated. Use 'static_attributes' in the future\n",
      "  warnings.warn(\"'camels_attributes' will be deprecated. Use 'static_attributes' in the future\",\n",
      "Extracting cell state for basin:  69%|██████▉   | 462/669 [03:46<01:46,  1.94it/s]/home/tommy/neuralhydrology/neuralhydrology/utils/config.py:597: FutureWarning: 'camels_attributes' will be deprecated. Use 'static_attributes' in the future\n",
      "  warnings.warn(\"'camels_attributes' will be deprecated. Use 'static_attributes' in the future\",\n",
      "Extracting cell state for basin:  69%|██████▉   | 463/669 [03:47<01:42,  2.01it/s]/home/tommy/neuralhydrology/neuralhydrology/utils/config.py:597: FutureWarning: 'camels_attributes' will be deprecated. Use 'static_attributes' in the future\n",
      "  warnings.warn(\"'camels_attributes' will be deprecated. Use 'static_attributes' in the future\",\n",
      "Extracting cell state for basin:  69%|██████▉   | 464/669 [03:47<01:43,  1.98it/s]/home/tommy/neuralhydrology/neuralhydrology/utils/config.py:597: FutureWarning: 'camels_attributes' will be deprecated. Use 'static_attributes' in the future\n",
      "  warnings.warn(\"'camels_attributes' will be deprecated. Use 'static_attributes' in the future\",\n",
      "Extracting cell state for basin:  70%|██████▉   | 465/669 [03:48<01:41,  2.01it/s]/home/tommy/neuralhydrology/neuralhydrology/utils/config.py:597: FutureWarning: 'camels_attributes' will be deprecated. Use 'static_attributes' in the future\n",
      "  warnings.warn(\"'camels_attributes' will be deprecated. Use 'static_attributes' in the future\",\n",
      "Extracting cell state for basin:  70%|██████▉   | 466/669 [03:48<01:49,  1.85it/s]/home/tommy/neuralhydrology/neuralhydrology/utils/config.py:597: FutureWarning: 'camels_attributes' will be deprecated. Use 'static_attributes' in the future\n",
      "  warnings.warn(\"'camels_attributes' will be deprecated. Use 'static_attributes' in the future\",\n",
      "Extracting cell state for basin:  70%|██████▉   | 467/669 [03:49<01:47,  1.88it/s]/home/tommy/neuralhydrology/neuralhydrology/utils/config.py:597: FutureWarning: 'camels_attributes' will be deprecated. Use 'static_attributes' in the future\n",
      "  warnings.warn(\"'camels_attributes' will be deprecated. Use 'static_attributes' in the future\",\n",
      "Extracting cell state for basin:  70%|██████▉   | 468/669 [03:49<01:42,  1.96it/s]/home/tommy/neuralhydrology/neuralhydrology/utils/config.py:597: FutureWarning: 'camels_attributes' will be deprecated. Use 'static_attributes' in the future\n",
      "  warnings.warn(\"'camels_attributes' will be deprecated. Use 'static_attributes' in the future\",\n",
      "Extracting cell state for basin:  70%|███████   | 469/669 [03:50<01:38,  2.04it/s]/home/tommy/neuralhydrology/neuralhydrology/utils/config.py:597: FutureWarning: 'camels_attributes' will be deprecated. Use 'static_attributes' in the future\n",
      "  warnings.warn(\"'camels_attributes' will be deprecated. Use 'static_attributes' in the future\",\n",
      "Extracting cell state for basin:  70%|███████   | 470/669 [03:50<01:43,  1.93it/s]/home/tommy/neuralhydrology/neuralhydrology/utils/config.py:597: FutureWarning: 'camels_attributes' will be deprecated. Use 'static_attributes' in the future\n",
      "  warnings.warn(\"'camels_attributes' will be deprecated. Use 'static_attributes' in the future\",\n",
      "Extracting cell state for basin:  70%|███████   | 471/669 [03:51<01:39,  1.99it/s]/home/tommy/neuralhydrology/neuralhydrology/utils/config.py:597: FutureWarning: 'camels_attributes' will be deprecated. Use 'static_attributes' in the future\n",
      "  warnings.warn(\"'camels_attributes' will be deprecated. Use 'static_attributes' in the future\",\n",
      "Extracting cell state for basin:  71%|███████   | 472/669 [03:51<01:32,  2.12it/s]/home/tommy/neuralhydrology/neuralhydrology/utils/config.py:597: FutureWarning: 'camels_attributes' will be deprecated. Use 'static_attributes' in the future\n",
      "  warnings.warn(\"'camels_attributes' will be deprecated. Use 'static_attributes' in the future\",\n",
      "Extracting cell state for basin:  71%|███████   | 473/669 [03:52<01:32,  2.12it/s]/home/tommy/neuralhydrology/neuralhydrology/utils/config.py:597: FutureWarning: 'camels_attributes' will be deprecated. Use 'static_attributes' in the future\n",
      "  warnings.warn(\"'camels_attributes' will be deprecated. Use 'static_attributes' in the future\",\n",
      "Extracting cell state for basin:  71%|███████   | 474/669 [03:52<01:36,  2.03it/s]/home/tommy/neuralhydrology/neuralhydrology/utils/config.py:597: FutureWarning: 'camels_attributes' will be deprecated. Use 'static_attributes' in the future\n",
      "  warnings.warn(\"'camels_attributes' will be deprecated. Use 'static_attributes' in the future\",\n",
      "Extracting cell state for basin:  71%|███████   | 475/669 [03:53<01:34,  2.06it/s]/home/tommy/neuralhydrology/neuralhydrology/utils/config.py:597: FutureWarning: 'camels_attributes' will be deprecated. Use 'static_attributes' in the future\n",
      "  warnings.warn(\"'camels_attributes' will be deprecated. Use 'static_attributes' in the future\",\n",
      "Extracting cell state for basin:  71%|███████   | 476/669 [03:53<01:35,  2.01it/s]/home/tommy/neuralhydrology/neuralhydrology/utils/config.py:597: FutureWarning: 'camels_attributes' will be deprecated. Use 'static_attributes' in the future\n",
      "  warnings.warn(\"'camels_attributes' will be deprecated. Use 'static_attributes' in the future\",\n",
      "Extracting cell state for basin:  71%|███████▏  | 477/669 [03:54<01:34,  2.03it/s]/home/tommy/neuralhydrology/neuralhydrology/utils/config.py:597: FutureWarning: 'camels_attributes' will be deprecated. Use 'static_attributes' in the future\n",
      "  warnings.warn(\"'camels_attributes' will be deprecated. Use 'static_attributes' in the future\",\n",
      "Extracting cell state for basin:  71%|███████▏  | 478/669 [03:54<01:31,  2.08it/s]/home/tommy/neuralhydrology/neuralhydrology/utils/config.py:597: FutureWarning: 'camels_attributes' will be deprecated. Use 'static_attributes' in the future\n",
      "  warnings.warn(\"'camels_attributes' will be deprecated. Use 'static_attributes' in the future\",\n",
      "Extracting cell state for basin:  72%|███████▏  | 479/669 [03:55<01:32,  2.06it/s]/home/tommy/neuralhydrology/neuralhydrology/utils/config.py:597: FutureWarning: 'camels_attributes' will be deprecated. Use 'static_attributes' in the future\n",
      "  warnings.warn(\"'camels_attributes' will be deprecated. Use 'static_attributes' in the future\",\n",
      "Extracting cell state for basin:  72%|███████▏  | 480/669 [03:55<01:40,  1.88it/s]/home/tommy/neuralhydrology/neuralhydrology/utils/config.py:597: FutureWarning: 'camels_attributes' will be deprecated. Use 'static_attributes' in the future\n",
      "  warnings.warn(\"'camels_attributes' will be deprecated. Use 'static_attributes' in the future\",\n",
      "Extracting cell state for basin:  72%|███████▏  | 481/669 [03:56<01:35,  1.97it/s]/home/tommy/neuralhydrology/neuralhydrology/utils/config.py:597: FutureWarning: 'camels_attributes' will be deprecated. Use 'static_attributes' in the future\n",
      "  warnings.warn(\"'camels_attributes' will be deprecated. Use 'static_attributes' in the future\",\n",
      "Extracting cell state for basin:  72%|███████▏  | 482/669 [03:56<01:33,  2.00it/s]/home/tommy/neuralhydrology/neuralhydrology/utils/config.py:597: FutureWarning: 'camels_attributes' will be deprecated. Use 'static_attributes' in the future\n",
      "  warnings.warn(\"'camels_attributes' will be deprecated. Use 'static_attributes' in the future\",\n",
      "Extracting cell state for basin:  72%|███████▏  | 483/669 [03:57<01:32,  2.02it/s]/home/tommy/neuralhydrology/neuralhydrology/utils/config.py:597: FutureWarning: 'camels_attributes' will be deprecated. Use 'static_attributes' in the future\n",
      "  warnings.warn(\"'camels_attributes' will be deprecated. Use 'static_attributes' in the future\",\n",
      "Extracting cell state for basin:  72%|███████▏  | 484/669 [03:57<01:41,  1.82it/s]/home/tommy/neuralhydrology/neuralhydrology/utils/config.py:597: FutureWarning: 'camels_attributes' will be deprecated. Use 'static_attributes' in the future\n",
      "  warnings.warn(\"'camels_attributes' will be deprecated. Use 'static_attributes' in the future\",\n",
      "Extracting cell state for basin:  72%|███████▏  | 485/669 [03:58<01:45,  1.74it/s]/home/tommy/neuralhydrology/neuralhydrology/utils/config.py:597: FutureWarning: 'camels_attributes' will be deprecated. Use 'static_attributes' in the future\n",
      "  warnings.warn(\"'camels_attributes' will be deprecated. Use 'static_attributes' in the future\",\n",
      "Extracting cell state for basin:  73%|███████▎  | 486/669 [03:59<01:38,  1.86it/s]/home/tommy/neuralhydrology/neuralhydrology/utils/config.py:597: FutureWarning: 'camels_attributes' will be deprecated. Use 'static_attributes' in the future\n",
      "  warnings.warn(\"'camels_attributes' will be deprecated. Use 'static_attributes' in the future\",\n",
      "Extracting cell state for basin:  73%|███████▎  | 487/669 [03:59<01:37,  1.87it/s]/home/tommy/neuralhydrology/neuralhydrology/utils/config.py:597: FutureWarning: 'camels_attributes' will be deprecated. Use 'static_attributes' in the future\n",
      "  warnings.warn(\"'camels_attributes' will be deprecated. Use 'static_attributes' in the future\",\n",
      "Extracting cell state for basin:  73%|███████▎  | 488/669 [03:59<01:31,  1.99it/s]/home/tommy/neuralhydrology/neuralhydrology/utils/config.py:597: FutureWarning: 'camels_attributes' will be deprecated. Use 'static_attributes' in the future\n",
      "  warnings.warn(\"'camels_attributes' will be deprecated. Use 'static_attributes' in the future\",\n",
      "Extracting cell state for basin:  73%|███████▎  | 489/669 [04:00<01:26,  2.07it/s]/home/tommy/neuralhydrology/neuralhydrology/utils/config.py:597: FutureWarning: 'camels_attributes' will be deprecated. Use 'static_attributes' in the future\n",
      "  warnings.warn(\"'camels_attributes' will be deprecated. Use 'static_attributes' in the future\",\n",
      "Extracting cell state for basin:  73%|███████▎  | 490/669 [04:00<01:29,  1.99it/s]/home/tommy/neuralhydrology/neuralhydrology/utils/config.py:597: FutureWarning: 'camels_attributes' will be deprecated. Use 'static_attributes' in the future\n",
      "  warnings.warn(\"'camels_attributes' will be deprecated. Use 'static_attributes' in the future\",\n",
      "Extracting cell state for basin:  73%|███████▎  | 491/669 [04:01<01:28,  2.02it/s]/home/tommy/neuralhydrology/neuralhydrology/utils/config.py:597: FutureWarning: 'camels_attributes' will be deprecated. Use 'static_attributes' in the future\n",
      "  warnings.warn(\"'camels_attributes' will be deprecated. Use 'static_attributes' in the future\",\n",
      "Extracting cell state for basin:  74%|███████▎  | 492/669 [04:01<01:25,  2.07it/s]/home/tommy/neuralhydrology/neuralhydrology/utils/config.py:597: FutureWarning: 'camels_attributes' will be deprecated. Use 'static_attributes' in the future\n",
      "  warnings.warn(\"'camels_attributes' will be deprecated. Use 'static_attributes' in the future\",\n",
      "Extracting cell state for basin:  74%|███████▎  | 493/669 [04:02<01:27,  2.01it/s]/home/tommy/neuralhydrology/neuralhydrology/utils/config.py:597: FutureWarning: 'camels_attributes' will be deprecated. Use 'static_attributes' in the future\n",
      "  warnings.warn(\"'camels_attributes' will be deprecated. Use 'static_attributes' in the future\",\n",
      "Extracting cell state for basin:  74%|███████▍  | 494/669 [04:02<01:28,  1.98it/s]/home/tommy/neuralhydrology/neuralhydrology/utils/config.py:597: FutureWarning: 'camels_attributes' will be deprecated. Use 'static_attributes' in the future\n",
      "  warnings.warn(\"'camels_attributes' will be deprecated. Use 'static_attributes' in the future\",\n",
      "Extracting cell state for basin:  74%|███████▍  | 495/669 [04:03<01:25,  2.02it/s]/home/tommy/neuralhydrology/neuralhydrology/utils/config.py:597: FutureWarning: 'camels_attributes' will be deprecated. Use 'static_attributes' in the future\n",
      "  warnings.warn(\"'camels_attributes' will be deprecated. Use 'static_attributes' in the future\",\n",
      "Extracting cell state for basin:  74%|███████▍  | 496/669 [04:03<01:26,  1.99it/s]/home/tommy/neuralhydrology/neuralhydrology/utils/config.py:597: FutureWarning: 'camels_attributes' will be deprecated. Use 'static_attributes' in the future\n",
      "  warnings.warn(\"'camels_attributes' will be deprecated. Use 'static_attributes' in the future\",\n",
      "Extracting cell state for basin:  74%|███████▍  | 497/669 [04:04<01:25,  2.00it/s]/home/tommy/neuralhydrology/neuralhydrology/utils/config.py:597: FutureWarning: 'camels_attributes' will be deprecated. Use 'static_attributes' in the future\n",
      "  warnings.warn(\"'camels_attributes' will be deprecated. Use 'static_attributes' in the future\",\n",
      "Extracting cell state for basin:  74%|███████▍  | 498/669 [04:04<01:22,  2.08it/s]/home/tommy/neuralhydrology/neuralhydrology/utils/config.py:597: FutureWarning: 'camels_attributes' will be deprecated. Use 'static_attributes' in the future\n",
      "  warnings.warn(\"'camels_attributes' will be deprecated. Use 'static_attributes' in the future\",\n",
      "Extracting cell state for basin:  75%|███████▍  | 499/669 [04:05<01:22,  2.06it/s]/home/tommy/neuralhydrology/neuralhydrology/utils/config.py:597: FutureWarning: 'camels_attributes' will be deprecated. Use 'static_attributes' in the future\n",
      "  warnings.warn(\"'camels_attributes' will be deprecated. Use 'static_attributes' in the future\",\n",
      "Extracting cell state for basin:  75%|███████▍  | 500/669 [04:05<01:27,  1.93it/s]/home/tommy/neuralhydrology/neuralhydrology/utils/config.py:597: FutureWarning: 'camels_attributes' will be deprecated. Use 'static_attributes' in the future\n",
      "  warnings.warn(\"'camels_attributes' will be deprecated. Use 'static_attributes' in the future\",\n",
      "Extracting cell state for basin:  75%|███████▍  | 501/669 [04:06<01:25,  1.97it/s]/home/tommy/neuralhydrology/neuralhydrology/utils/config.py:597: FutureWarning: 'camels_attributes' will be deprecated. Use 'static_attributes' in the future\n",
      "  warnings.warn(\"'camels_attributes' will be deprecated. Use 'static_attributes' in the future\",\n",
      "Extracting cell state for basin:  75%|███████▌  | 502/669 [04:06<01:26,  1.93it/s]/home/tommy/neuralhydrology/neuralhydrology/utils/config.py:597: FutureWarning: 'camels_attributes' will be deprecated. Use 'static_attributes' in the future\n",
      "  warnings.warn(\"'camels_attributes' will be deprecated. Use 'static_attributes' in the future\",\n",
      "Extracting cell state for basin:  75%|███████▌  | 503/669 [04:07<01:23,  1.98it/s]/home/tommy/neuralhydrology/neuralhydrology/utils/config.py:597: FutureWarning: 'camels_attributes' will be deprecated. Use 'static_attributes' in the future\n",
      "  warnings.warn(\"'camels_attributes' will be deprecated. Use 'static_attributes' in the future\",\n",
      "Extracting cell state for basin:  75%|███████▌  | 504/669 [04:07<01:20,  2.04it/s]/home/tommy/neuralhydrology/neuralhydrology/utils/config.py:597: FutureWarning: 'camels_attributes' will be deprecated. Use 'static_attributes' in the future\n",
      "  warnings.warn(\"'camels_attributes' will be deprecated. Use 'static_attributes' in the future\",\n",
      "Extracting cell state for basin:  75%|███████▌  | 505/669 [04:08<01:19,  2.06it/s]/home/tommy/neuralhydrology/neuralhydrology/utils/config.py:597: FutureWarning: 'camels_attributes' will be deprecated. Use 'static_attributes' in the future\n",
      "  warnings.warn(\"'camels_attributes' will be deprecated. Use 'static_attributes' in the future\",\n",
      "Extracting cell state for basin:  76%|███████▌  | 506/669 [04:08<01:17,  2.10it/s]/home/tommy/neuralhydrology/neuralhydrology/utils/config.py:597: FutureWarning: 'camels_attributes' will be deprecated. Use 'static_attributes' in the future\n",
      "  warnings.warn(\"'camels_attributes' will be deprecated. Use 'static_attributes' in the future\",\n",
      "Extracting cell state for basin:  76%|███████▌  | 507/669 [04:09<01:15,  2.13it/s]/home/tommy/neuralhydrology/neuralhydrology/utils/config.py:597: FutureWarning: 'camels_attributes' will be deprecated. Use 'static_attributes' in the future\n",
      "  warnings.warn(\"'camels_attributes' will be deprecated. Use 'static_attributes' in the future\",\n",
      "Extracting cell state for basin:  76%|███████▌  | 508/669 [04:09<01:18,  2.06it/s]/home/tommy/neuralhydrology/neuralhydrology/utils/config.py:597: FutureWarning: 'camels_attributes' will be deprecated. Use 'static_attributes' in the future\n",
      "  warnings.warn(\"'camels_attributes' will be deprecated. Use 'static_attributes' in the future\",\n",
      "Extracting cell state for basin:  76%|███████▌  | 509/669 [04:10<01:15,  2.13it/s]/home/tommy/neuralhydrology/neuralhydrology/utils/config.py:597: FutureWarning: 'camels_attributes' will be deprecated. Use 'static_attributes' in the future\n",
      "  warnings.warn(\"'camels_attributes' will be deprecated. Use 'static_attributes' in the future\",\n",
      "Extracting cell state for basin:  76%|███████▌  | 510/669 [04:10<01:20,  1.97it/s]/home/tommy/neuralhydrology/neuralhydrology/utils/config.py:597: FutureWarning: 'camels_attributes' will be deprecated. Use 'static_attributes' in the future\n",
      "  warnings.warn(\"'camels_attributes' will be deprecated. Use 'static_attributes' in the future\",\n",
      "Extracting cell state for basin:  76%|███████▋  | 511/669 [04:11<01:17,  2.04it/s]/home/tommy/neuralhydrology/neuralhydrology/utils/config.py:597: FutureWarning: 'camels_attributes' will be deprecated. Use 'static_attributes' in the future\n",
      "  warnings.warn(\"'camels_attributes' will be deprecated. Use 'static_attributes' in the future\",\n",
      "Extracting cell state for basin:  77%|███████▋  | 512/669 [04:11<01:17,  2.02it/s]/home/tommy/neuralhydrology/neuralhydrology/utils/config.py:597: FutureWarning: 'camels_attributes' will be deprecated. Use 'static_attributes' in the future\n",
      "  warnings.warn(\"'camels_attributes' will be deprecated. Use 'static_attributes' in the future\",\n",
      "Extracting cell state for basin:  77%|███████▋  | 513/669 [04:12<01:15,  2.07it/s]/home/tommy/neuralhydrology/neuralhydrology/utils/config.py:597: FutureWarning: 'camels_attributes' will be deprecated. Use 'static_attributes' in the future\n",
      "  warnings.warn(\"'camels_attributes' will be deprecated. Use 'static_attributes' in the future\",\n",
      "Extracting cell state for basin:  77%|███████▋  | 514/669 [04:12<01:13,  2.11it/s]/home/tommy/neuralhydrology/neuralhydrology/utils/config.py:597: FutureWarning: 'camels_attributes' will be deprecated. Use 'static_attributes' in the future\n",
      "  warnings.warn(\"'camels_attributes' will be deprecated. Use 'static_attributes' in the future\",\n",
      "Extracting cell state for basin:  77%|███████▋  | 515/669 [04:13<01:11,  2.15it/s]/home/tommy/neuralhydrology/neuralhydrology/utils/config.py:597: FutureWarning: 'camels_attributes' will be deprecated. Use 'static_attributes' in the future\n",
      "  warnings.warn(\"'camels_attributes' will be deprecated. Use 'static_attributes' in the future\",\n",
      "Extracting cell state for basin:  77%|███████▋  | 516/669 [04:13<01:10,  2.18it/s]/home/tommy/neuralhydrology/neuralhydrology/utils/config.py:597: FutureWarning: 'camels_attributes' will be deprecated. Use 'static_attributes' in the future\n",
      "  warnings.warn(\"'camels_attributes' will be deprecated. Use 'static_attributes' in the future\",\n",
      "Extracting cell state for basin:  77%|███████▋  | 517/669 [04:14<01:10,  2.17it/s]/home/tommy/neuralhydrology/neuralhydrology/utils/config.py:597: FutureWarning: 'camels_attributes' will be deprecated. Use 'static_attributes' in the future\n",
      "  warnings.warn(\"'camels_attributes' will be deprecated. Use 'static_attributes' in the future\",\n",
      "Extracting cell state for basin:  77%|███████▋  | 518/669 [04:14<01:08,  2.20it/s]/home/tommy/neuralhydrology/neuralhydrology/utils/config.py:597: FutureWarning: 'camels_attributes' will be deprecated. Use 'static_attributes' in the future\n",
      "  warnings.warn(\"'camels_attributes' will be deprecated. Use 'static_attributes' in the future\",\n",
      "Extracting cell state for basin:  78%|███████▊  | 519/669 [04:14<01:07,  2.24it/s]/home/tommy/neuralhydrology/neuralhydrology/utils/config.py:597: FutureWarning: 'camels_attributes' will be deprecated. Use 'static_attributes' in the future\n",
      "  warnings.warn(\"'camels_attributes' will be deprecated. Use 'static_attributes' in the future\",\n",
      "Extracting cell state for basin:  78%|███████▊  | 520/669 [04:15<01:14,  2.01it/s]/home/tommy/neuralhydrology/neuralhydrology/utils/config.py:597: FutureWarning: 'camels_attributes' will be deprecated. Use 'static_attributes' in the future\n",
      "  warnings.warn(\"'camels_attributes' will be deprecated. Use 'static_attributes' in the future\",\n",
      "Extracting cell state for basin:  78%|███████▊  | 521/669 [04:16<01:13,  2.03it/s]/home/tommy/neuralhydrology/neuralhydrology/utils/config.py:597: FutureWarning: 'camels_attributes' will be deprecated. Use 'static_attributes' in the future\n",
      "  warnings.warn(\"'camels_attributes' will be deprecated. Use 'static_attributes' in the future\",\n",
      "Extracting cell state for basin:  78%|███████▊  | 522/669 [04:16<01:13,  1.99it/s]/home/tommy/neuralhydrology/neuralhydrology/utils/config.py:597: FutureWarning: 'camels_attributes' will be deprecated. Use 'static_attributes' in the future\n",
      "  warnings.warn(\"'camels_attributes' will be deprecated. Use 'static_attributes' in the future\",\n",
      "Extracting cell state for basin:  78%|███████▊  | 523/669 [04:17<01:14,  1.96it/s]/home/tommy/neuralhydrology/neuralhydrology/utils/config.py:597: FutureWarning: 'camels_attributes' will be deprecated. Use 'static_attributes' in the future\n",
      "  warnings.warn(\"'camels_attributes' will be deprecated. Use 'static_attributes' in the future\",\n",
      "Extracting cell state for basin:  78%|███████▊  | 524/669 [04:17<01:10,  2.04it/s]/home/tommy/neuralhydrology/neuralhydrology/utils/config.py:597: FutureWarning: 'camels_attributes' will be deprecated. Use 'static_attributes' in the future\n",
      "  warnings.warn(\"'camels_attributes' will be deprecated. Use 'static_attributes' in the future\",\n",
      "Extracting cell state for basin:  78%|███████▊  | 525/669 [04:17<01:09,  2.08it/s]/home/tommy/neuralhydrology/neuralhydrology/utils/config.py:597: FutureWarning: 'camels_attributes' will be deprecated. Use 'static_attributes' in the future\n",
      "  warnings.warn(\"'camels_attributes' will be deprecated. Use 'static_attributes' in the future\",\n",
      "Extracting cell state for basin:  79%|███████▊  | 526/669 [04:18<01:09,  2.05it/s]/home/tommy/neuralhydrology/neuralhydrology/utils/config.py:597: FutureWarning: 'camels_attributes' will be deprecated. Use 'static_attributes' in the future\n",
      "  warnings.warn(\"'camels_attributes' will be deprecated. Use 'static_attributes' in the future\",\n",
      "Extracting cell state for basin:  79%|███████▉  | 527/669 [04:18<01:09,  2.04it/s]/home/tommy/neuralhydrology/neuralhydrology/utils/config.py:597: FutureWarning: 'camels_attributes' will be deprecated. Use 'static_attributes' in the future\n",
      "  warnings.warn(\"'camels_attributes' will be deprecated. Use 'static_attributes' in the future\",\n",
      "Extracting cell state for basin:  79%|███████▉  | 528/669 [04:19<01:07,  2.10it/s]/home/tommy/neuralhydrology/neuralhydrology/utils/config.py:597: FutureWarning: 'camels_attributes' will be deprecated. Use 'static_attributes' in the future\n",
      "  warnings.warn(\"'camels_attributes' will be deprecated. Use 'static_attributes' in the future\",\n",
      "Extracting cell state for basin:  79%|███████▉  | 529/669 [04:19<01:07,  2.08it/s]/home/tommy/neuralhydrology/neuralhydrology/utils/config.py:597: FutureWarning: 'camels_attributes' will be deprecated. Use 'static_attributes' in the future\n",
      "  warnings.warn(\"'camels_attributes' will be deprecated. Use 'static_attributes' in the future\",\n",
      "Extracting cell state for basin:  79%|███████▉  | 530/669 [04:20<01:13,  1.89it/s]/home/tommy/neuralhydrology/neuralhydrology/utils/config.py:597: FutureWarning: 'camels_attributes' will be deprecated. Use 'static_attributes' in the future\n",
      "  warnings.warn(\"'camels_attributes' will be deprecated. Use 'static_attributes' in the future\",\n",
      "Extracting cell state for basin:  79%|███████▉  | 531/669 [04:21<01:10,  1.96it/s]/home/tommy/neuralhydrology/neuralhydrology/utils/config.py:597: FutureWarning: 'camels_attributes' will be deprecated. Use 'static_attributes' in the future\n",
      "  warnings.warn(\"'camels_attributes' will be deprecated. Use 'static_attributes' in the future\",\n",
      "Extracting cell state for basin:  80%|███████▉  | 532/669 [04:21<01:07,  2.02it/s]/home/tommy/neuralhydrology/neuralhydrology/utils/config.py:597: FutureWarning: 'camels_attributes' will be deprecated. Use 'static_attributes' in the future\n",
      "  warnings.warn(\"'camels_attributes' will be deprecated. Use 'static_attributes' in the future\",\n",
      "Extracting cell state for basin:  80%|███████▉  | 533/669 [04:21<01:06,  2.05it/s]/home/tommy/neuralhydrology/neuralhydrology/utils/config.py:597: FutureWarning: 'camels_attributes' will be deprecated. Use 'static_attributes' in the future\n",
      "  warnings.warn(\"'camels_attributes' will be deprecated. Use 'static_attributes' in the future\",\n",
      "Extracting cell state for basin:  80%|███████▉  | 534/669 [04:22<01:04,  2.09it/s]/home/tommy/neuralhydrology/neuralhydrology/utils/config.py:597: FutureWarning: 'camels_attributes' will be deprecated. Use 'static_attributes' in the future\n",
      "  warnings.warn(\"'camels_attributes' will be deprecated. Use 'static_attributes' in the future\",\n",
      "Extracting cell state for basin:  80%|███████▉  | 535/669 [04:22<01:04,  2.07it/s]/home/tommy/neuralhydrology/neuralhydrology/utils/config.py:597: FutureWarning: 'camels_attributes' will be deprecated. Use 'static_attributes' in the future\n",
      "  warnings.warn(\"'camels_attributes' will be deprecated. Use 'static_attributes' in the future\",\n",
      "Extracting cell state for basin:  80%|████████  | 536/669 [04:23<01:02,  2.12it/s]/home/tommy/neuralhydrology/neuralhydrology/utils/config.py:597: FutureWarning: 'camels_attributes' will be deprecated. Use 'static_attributes' in the future\n",
      "  warnings.warn(\"'camels_attributes' will be deprecated. Use 'static_attributes' in the future\",\n",
      "Extracting cell state for basin:  80%|████████  | 537/669 [04:23<01:03,  2.08it/s]/home/tommy/neuralhydrology/neuralhydrology/utils/config.py:597: FutureWarning: 'camels_attributes' will be deprecated. Use 'static_attributes' in the future\n",
      "  warnings.warn(\"'camels_attributes' will be deprecated. Use 'static_attributes' in the future\",\n",
      "Extracting cell state for basin:  80%|████████  | 538/669 [04:24<01:02,  2.09it/s]/home/tommy/neuralhydrology/neuralhydrology/utils/config.py:597: FutureWarning: 'camels_attributes' will be deprecated. Use 'static_attributes' in the future\n",
      "  warnings.warn(\"'camels_attributes' will be deprecated. Use 'static_attributes' in the future\",\n",
      "Extracting cell state for basin:  81%|████████  | 539/669 [04:24<01:00,  2.14it/s]/home/tommy/neuralhydrology/neuralhydrology/utils/config.py:597: FutureWarning: 'camels_attributes' will be deprecated. Use 'static_attributes' in the future\n",
      "  warnings.warn(\"'camels_attributes' will be deprecated. Use 'static_attributes' in the future\",\n",
      "Extracting cell state for basin:  81%|████████  | 540/669 [04:25<01:05,  1.97it/s]/home/tommy/neuralhydrology/neuralhydrology/utils/config.py:597: FutureWarning: 'camels_attributes' will be deprecated. Use 'static_attributes' in the future\n",
      "  warnings.warn(\"'camels_attributes' will be deprecated. Use 'static_attributes' in the future\",\n",
      "Extracting cell state for basin:  81%|████████  | 541/669 [04:26<01:12,  1.78it/s]/home/tommy/neuralhydrology/neuralhydrology/utils/config.py:597: FutureWarning: 'camels_attributes' will be deprecated. Use 'static_attributes' in the future\n",
      "  warnings.warn(\"'camels_attributes' will be deprecated. Use 'static_attributes' in the future\",\n",
      "Extracting cell state for basin:  81%|████████  | 542/669 [04:26<01:10,  1.80it/s]/home/tommy/neuralhydrology/neuralhydrology/utils/config.py:597: FutureWarning: 'camels_attributes' will be deprecated. Use 'static_attributes' in the future\n",
      "  warnings.warn(\"'camels_attributes' will be deprecated. Use 'static_attributes' in the future\",\n",
      "Extracting cell state for basin:  81%|████████  | 543/669 [04:27<01:10,  1.80it/s]/home/tommy/neuralhydrology/neuralhydrology/utils/config.py:597: FutureWarning: 'camels_attributes' will be deprecated. Use 'static_attributes' in the future\n",
      "  warnings.warn(\"'camels_attributes' will be deprecated. Use 'static_attributes' in the future\",\n",
      "Extracting cell state for basin:  81%|████████▏ | 544/669 [04:27<01:06,  1.89it/s]/home/tommy/neuralhydrology/neuralhydrology/utils/config.py:597: FutureWarning: 'camels_attributes' will be deprecated. Use 'static_attributes' in the future\n",
      "  warnings.warn(\"'camels_attributes' will be deprecated. Use 'static_attributes' in the future\",\n",
      "Extracting cell state for basin:  81%|████████▏ | 545/669 [04:28<01:03,  1.97it/s]/home/tommy/neuralhydrology/neuralhydrology/utils/config.py:597: FutureWarning: 'camels_attributes' will be deprecated. Use 'static_attributes' in the future\n",
      "  warnings.warn(\"'camels_attributes' will be deprecated. Use 'static_attributes' in the future\",\n",
      "Extracting cell state for basin:  82%|████████▏ | 546/669 [04:28<01:00,  2.04it/s]/home/tommy/neuralhydrology/neuralhydrology/utils/config.py:597: FutureWarning: 'camels_attributes' will be deprecated. Use 'static_attributes' in the future\n",
      "  warnings.warn(\"'camels_attributes' will be deprecated. Use 'static_attributes' in the future\",\n",
      "Extracting cell state for basin:  82%|████████▏ | 547/669 [04:28<00:57,  2.12it/s]/home/tommy/neuralhydrology/neuralhydrology/utils/config.py:597: FutureWarning: 'camels_attributes' will be deprecated. Use 'static_attributes' in the future\n",
      "  warnings.warn(\"'camels_attributes' will be deprecated. Use 'static_attributes' in the future\",\n",
      "Extracting cell state for basin:  82%|████████▏ | 548/669 [04:29<00:55,  2.18it/s]/home/tommy/neuralhydrology/neuralhydrology/utils/config.py:597: FutureWarning: 'camels_attributes' will be deprecated. Use 'static_attributes' in the future\n",
      "  warnings.warn(\"'camels_attributes' will be deprecated. Use 'static_attributes' in the future\",\n",
      "Extracting cell state for basin:  82%|████████▏ | 549/669 [04:29<00:53,  2.23it/s]/home/tommy/neuralhydrology/neuralhydrology/utils/config.py:597: FutureWarning: 'camels_attributes' will be deprecated. Use 'static_attributes' in the future\n",
      "  warnings.warn(\"'camels_attributes' will be deprecated. Use 'static_attributes' in the future\",\n",
      "Extracting cell state for basin:  82%|████████▏ | 550/669 [04:30<00:51,  2.30it/s]/home/tommy/neuralhydrology/neuralhydrology/utils/config.py:597: FutureWarning: 'camels_attributes' will be deprecated. Use 'static_attributes' in the future\n",
      "  warnings.warn(\"'camels_attributes' will be deprecated. Use 'static_attributes' in the future\",\n",
      "Extracting cell state for basin:  82%|████████▏ | 551/669 [04:30<00:56,  2.08it/s]/home/tommy/neuralhydrology/neuralhydrology/utils/config.py:597: FutureWarning: 'camels_attributes' will be deprecated. Use 'static_attributes' in the future\n",
      "  warnings.warn(\"'camels_attributes' will be deprecated. Use 'static_attributes' in the future\",\n",
      "Extracting cell state for basin:  83%|████████▎ | 552/669 [04:31<00:55,  2.09it/s]/home/tommy/neuralhydrology/neuralhydrology/utils/config.py:597: FutureWarning: 'camels_attributes' will be deprecated. Use 'static_attributes' in the future\n",
      "  warnings.warn(\"'camels_attributes' will be deprecated. Use 'static_attributes' in the future\",\n",
      "Extracting cell state for basin:  83%|████████▎ | 553/669 [04:31<00:54,  2.15it/s]/home/tommy/neuralhydrology/neuralhydrology/utils/config.py:597: FutureWarning: 'camels_attributes' will be deprecated. Use 'static_attributes' in the future\n",
      "  warnings.warn(\"'camels_attributes' will be deprecated. Use 'static_attributes' in the future\",\n",
      "Extracting cell state for basin:  83%|████████▎ | 554/669 [04:32<00:52,  2.21it/s]/home/tommy/neuralhydrology/neuralhydrology/utils/config.py:597: FutureWarning: 'camels_attributes' will be deprecated. Use 'static_attributes' in the future\n",
      "  warnings.warn(\"'camels_attributes' will be deprecated. Use 'static_attributes' in the future\",\n",
      "Extracting cell state for basin:  83%|████████▎ | 555/669 [04:32<00:50,  2.26it/s]/home/tommy/neuralhydrology/neuralhydrology/utils/config.py:597: FutureWarning: 'camels_attributes' will be deprecated. Use 'static_attributes' in the future\n",
      "  warnings.warn(\"'camels_attributes' will be deprecated. Use 'static_attributes' in the future\",\n",
      "Extracting cell state for basin:  83%|████████▎ | 556/669 [04:32<00:49,  2.28it/s]/home/tommy/neuralhydrology/neuralhydrology/utils/config.py:597: FutureWarning: 'camels_attributes' will be deprecated. Use 'static_attributes' in the future\n",
      "  warnings.warn(\"'camels_attributes' will be deprecated. Use 'static_attributes' in the future\",\n",
      "Extracting cell state for basin:  83%|████████▎ | 557/669 [04:33<00:50,  2.23it/s]/home/tommy/neuralhydrology/neuralhydrology/utils/config.py:597: FutureWarning: 'camels_attributes' will be deprecated. Use 'static_attributes' in the future\n",
      "  warnings.warn(\"'camels_attributes' will be deprecated. Use 'static_attributes' in the future\",\n",
      "Extracting cell state for basin:  83%|████████▎ | 558/669 [04:33<00:49,  2.22it/s]/home/tommy/neuralhydrology/neuralhydrology/utils/config.py:597: FutureWarning: 'camels_attributes' will be deprecated. Use 'static_attributes' in the future\n",
      "  warnings.warn(\"'camels_attributes' will be deprecated. Use 'static_attributes' in the future\",\n",
      "Extracting cell state for basin:  84%|████████▎ | 559/669 [04:34<00:49,  2.22it/s]/home/tommy/neuralhydrology/neuralhydrology/utils/config.py:597: FutureWarning: 'camels_attributes' will be deprecated. Use 'static_attributes' in the future\n",
      "  warnings.warn(\"'camels_attributes' will be deprecated. Use 'static_attributes' in the future\",\n",
      "Extracting cell state for basin:  84%|████████▎ | 560/669 [04:34<00:48,  2.23it/s]/home/tommy/neuralhydrology/neuralhydrology/utils/config.py:597: FutureWarning: 'camels_attributes' will be deprecated. Use 'static_attributes' in the future\n",
      "  warnings.warn(\"'camels_attributes' will be deprecated. Use 'static_attributes' in the future\",\n",
      "Extracting cell state for basin:  84%|████████▍ | 561/669 [04:35<00:47,  2.27it/s]/home/tommy/neuralhydrology/neuralhydrology/utils/config.py:597: FutureWarning: 'camels_attributes' will be deprecated. Use 'static_attributes' in the future\n",
      "  warnings.warn(\"'camels_attributes' will be deprecated. Use 'static_attributes' in the future\",\n",
      "Extracting cell state for basin:  84%|████████▍ | 562/669 [04:35<00:55,  1.94it/s]/home/tommy/neuralhydrology/neuralhydrology/utils/config.py:597: FutureWarning: 'camels_attributes' will be deprecated. Use 'static_attributes' in the future\n",
      "  warnings.warn(\"'camels_attributes' will be deprecated. Use 'static_attributes' in the future\",\n",
      "Extracting cell state for basin:  84%|████████▍ | 563/669 [04:36<00:52,  2.00it/s]/home/tommy/neuralhydrology/neuralhydrology/utils/config.py:597: FutureWarning: 'camels_attributes' will be deprecated. Use 'static_attributes' in the future\n",
      "  warnings.warn(\"'camels_attributes' will be deprecated. Use 'static_attributes' in the future\",\n",
      "Extracting cell state for basin:  84%|████████▍ | 564/669 [04:36<00:51,  2.05it/s]/home/tommy/neuralhydrology/neuralhydrology/utils/config.py:597: FutureWarning: 'camels_attributes' will be deprecated. Use 'static_attributes' in the future\n",
      "  warnings.warn(\"'camels_attributes' will be deprecated. Use 'static_attributes' in the future\",\n",
      "Extracting cell state for basin:  84%|████████▍ | 565/669 [04:37<00:50,  2.05it/s]/home/tommy/neuralhydrology/neuralhydrology/utils/config.py:597: FutureWarning: 'camels_attributes' will be deprecated. Use 'static_attributes' in the future\n",
      "  warnings.warn(\"'camels_attributes' will be deprecated. Use 'static_attributes' in the future\",\n",
      "Extracting cell state for basin:  85%|████████▍ | 566/669 [04:37<00:48,  2.13it/s]/home/tommy/neuralhydrology/neuralhydrology/utils/config.py:597: FutureWarning: 'camels_attributes' will be deprecated. Use 'static_attributes' in the future\n",
      "  warnings.warn(\"'camels_attributes' will be deprecated. Use 'static_attributes' in the future\",\n",
      "Extracting cell state for basin:  85%|████████▍ | 567/669 [04:38<00:47,  2.16it/s]/home/tommy/neuralhydrology/neuralhydrology/utils/config.py:597: FutureWarning: 'camels_attributes' will be deprecated. Use 'static_attributes' in the future\n",
      "  warnings.warn(\"'camels_attributes' will be deprecated. Use 'static_attributes' in the future\",\n",
      "Extracting cell state for basin:  85%|████████▍ | 568/669 [04:38<00:49,  2.04it/s]/home/tommy/neuralhydrology/neuralhydrology/utils/config.py:597: FutureWarning: 'camels_attributes' will be deprecated. Use 'static_attributes' in the future\n",
      "  warnings.warn(\"'camels_attributes' will be deprecated. Use 'static_attributes' in the future\",\n",
      "Extracting cell state for basin:  85%|████████▌ | 569/669 [04:39<00:49,  2.00it/s]/home/tommy/neuralhydrology/neuralhydrology/utils/config.py:597: FutureWarning: 'camels_attributes' will be deprecated. Use 'static_attributes' in the future\n",
      "  warnings.warn(\"'camels_attributes' will be deprecated. Use 'static_attributes' in the future\",\n",
      "Extracting cell state for basin:  85%|████████▌ | 570/669 [04:39<00:48,  2.04it/s]/home/tommy/neuralhydrology/neuralhydrology/utils/config.py:597: FutureWarning: 'camels_attributes' will be deprecated. Use 'static_attributes' in the future\n",
      "  warnings.warn(\"'camels_attributes' will be deprecated. Use 'static_attributes' in the future\",\n",
      "Extracting cell state for basin:  85%|████████▌ | 571/669 [04:40<00:46,  2.12it/s]/home/tommy/neuralhydrology/neuralhydrology/utils/config.py:597: FutureWarning: 'camels_attributes' will be deprecated. Use 'static_attributes' in the future\n",
      "  warnings.warn(\"'camels_attributes' will be deprecated. Use 'static_attributes' in the future\",\n",
      "Extracting cell state for basin:  86%|████████▌ | 572/669 [04:40<00:44,  2.17it/s]/home/tommy/neuralhydrology/neuralhydrology/utils/config.py:597: FutureWarning: 'camels_attributes' will be deprecated. Use 'static_attributes' in the future\n",
      "  warnings.warn(\"'camels_attributes' will be deprecated. Use 'static_attributes' in the future\",\n",
      "Extracting cell state for basin:  86%|████████▌ | 573/669 [04:41<00:48,  2.00it/s]/home/tommy/neuralhydrology/neuralhydrology/utils/config.py:597: FutureWarning: 'camels_attributes' will be deprecated. Use 'static_attributes' in the future\n",
      "  warnings.warn(\"'camels_attributes' will be deprecated. Use 'static_attributes' in the future\",\n",
      "Extracting cell state for basin:  86%|████████▌ | 574/669 [04:41<00:47,  2.01it/s]/home/tommy/neuralhydrology/neuralhydrology/utils/config.py:597: FutureWarning: 'camels_attributes' will be deprecated. Use 'static_attributes' in the future\n",
      "  warnings.warn(\"'camels_attributes' will be deprecated. Use 'static_attributes' in the future\",\n",
      "Extracting cell state for basin:  86%|████████▌ | 575/669 [04:42<00:45,  2.08it/s]/home/tommy/neuralhydrology/neuralhydrology/utils/config.py:597: FutureWarning: 'camels_attributes' will be deprecated. Use 'static_attributes' in the future\n",
      "  warnings.warn(\"'camels_attributes' will be deprecated. Use 'static_attributes' in the future\",\n",
      "Extracting cell state for basin:  86%|████████▌ | 576/669 [04:42<00:44,  2.09it/s]/home/tommy/neuralhydrology/neuralhydrology/utils/config.py:597: FutureWarning: 'camels_attributes' will be deprecated. Use 'static_attributes' in the future\n",
      "  warnings.warn(\"'camels_attributes' will be deprecated. Use 'static_attributes' in the future\",\n",
      "Extracting cell state for basin:  86%|████████▌ | 577/669 [04:43<00:43,  2.12it/s]/home/tommy/neuralhydrology/neuralhydrology/utils/config.py:597: FutureWarning: 'camels_attributes' will be deprecated. Use 'static_attributes' in the future\n",
      "  warnings.warn(\"'camels_attributes' will be deprecated. Use 'static_attributes' in the future\",\n",
      "Extracting cell state for basin:  86%|████████▋ | 578/669 [04:43<00:41,  2.18it/s]/home/tommy/neuralhydrology/neuralhydrology/utils/config.py:597: FutureWarning: 'camels_attributes' will be deprecated. Use 'static_attributes' in the future\n",
      "  warnings.warn(\"'camels_attributes' will be deprecated. Use 'static_attributes' in the future\",\n",
      "Extracting cell state for basin:  87%|████████▋ | 579/669 [04:43<00:40,  2.20it/s]/home/tommy/neuralhydrology/neuralhydrology/utils/config.py:597: FutureWarning: 'camels_attributes' will be deprecated. Use 'static_attributes' in the future\n",
      "  warnings.warn(\"'camels_attributes' will be deprecated. Use 'static_attributes' in the future\",\n",
      "Extracting cell state for basin:  87%|████████▋ | 580/669 [04:44<00:39,  2.25it/s]/home/tommy/neuralhydrology/neuralhydrology/utils/config.py:597: FutureWarning: 'camels_attributes' will be deprecated. Use 'static_attributes' in the future\n",
      "  warnings.warn(\"'camels_attributes' will be deprecated. Use 'static_attributes' in the future\",\n",
      "Extracting cell state for basin:  87%|████████▋ | 581/669 [04:44<00:39,  2.26it/s]/home/tommy/neuralhydrology/neuralhydrology/utils/config.py:597: FutureWarning: 'camels_attributes' will be deprecated. Use 'static_attributes' in the future\n",
      "  warnings.warn(\"'camels_attributes' will be deprecated. Use 'static_attributes' in the future\",\n",
      "Extracting cell state for basin:  87%|████████▋ | 582/669 [04:45<00:38,  2.26it/s]/home/tommy/neuralhydrology/neuralhydrology/utils/config.py:597: FutureWarning: 'camels_attributes' will be deprecated. Use 'static_attributes' in the future\n",
      "  warnings.warn(\"'camels_attributes' will be deprecated. Use 'static_attributes' in the future\",\n",
      "Extracting cell state for basin:  87%|████████▋ | 583/669 [04:45<00:41,  2.07it/s]/home/tommy/neuralhydrology/neuralhydrology/utils/config.py:597: FutureWarning: 'camels_attributes' will be deprecated. Use 'static_attributes' in the future\n",
      "  warnings.warn(\"'camels_attributes' will be deprecated. Use 'static_attributes' in the future\",\n",
      "Extracting cell state for basin:  87%|████████▋ | 584/669 [04:46<00:39,  2.14it/s]/home/tommy/neuralhydrology/neuralhydrology/utils/config.py:597: FutureWarning: 'camels_attributes' will be deprecated. Use 'static_attributes' in the future\n",
      "  warnings.warn(\"'camels_attributes' will be deprecated. Use 'static_attributes' in the future\",\n",
      "Extracting cell state for basin:  87%|████████▋ | 585/669 [04:46<00:38,  2.16it/s]/home/tommy/neuralhydrology/neuralhydrology/utils/config.py:597: FutureWarning: 'camels_attributes' will be deprecated. Use 'static_attributes' in the future\n",
      "  warnings.warn(\"'camels_attributes' will be deprecated. Use 'static_attributes' in the future\",\n",
      "Extracting cell state for basin:  88%|████████▊ | 586/669 [04:47<00:37,  2.22it/s]/home/tommy/neuralhydrology/neuralhydrology/utils/config.py:597: FutureWarning: 'camels_attributes' will be deprecated. Use 'static_attributes' in the future\n",
      "  warnings.warn(\"'camels_attributes' will be deprecated. Use 'static_attributes' in the future\",\n",
      "Extracting cell state for basin:  88%|████████▊ | 587/669 [04:47<00:36,  2.25it/s]/home/tommy/neuralhydrology/neuralhydrology/utils/config.py:597: FutureWarning: 'camels_attributes' will be deprecated. Use 'static_attributes' in the future\n",
      "  warnings.warn(\"'camels_attributes' will be deprecated. Use 'static_attributes' in the future\",\n",
      "Extracting cell state for basin:  88%|████████▊ | 588/669 [04:47<00:35,  2.27it/s]/home/tommy/neuralhydrology/neuralhydrology/utils/config.py:597: FutureWarning: 'camels_attributes' will be deprecated. Use 'static_attributes' in the future\n",
      "  warnings.warn(\"'camels_attributes' will be deprecated. Use 'static_attributes' in the future\",\n",
      "Extracting cell state for basin:  88%|████████▊ | 589/669 [04:48<00:35,  2.27it/s]/home/tommy/neuralhydrology/neuralhydrology/utils/config.py:597: FutureWarning: 'camels_attributes' will be deprecated. Use 'static_attributes' in the future\n",
      "  warnings.warn(\"'camels_attributes' will be deprecated. Use 'static_attributes' in the future\",\n",
      "Extracting cell state for basin:  88%|████████▊ | 590/669 [04:48<00:34,  2.31it/s]/home/tommy/neuralhydrology/neuralhydrology/utils/config.py:597: FutureWarning: 'camels_attributes' will be deprecated. Use 'static_attributes' in the future\n",
      "  warnings.warn(\"'camels_attributes' will be deprecated. Use 'static_attributes' in the future\",\n",
      "Extracting cell state for basin:  88%|████████▊ | 591/669 [04:49<00:36,  2.15it/s]/home/tommy/neuralhydrology/neuralhydrology/utils/config.py:597: FutureWarning: 'camels_attributes' will be deprecated. Use 'static_attributes' in the future\n",
      "  warnings.warn(\"'camels_attributes' will be deprecated. Use 'static_attributes' in the future\",\n",
      "Extracting cell state for basin:  88%|████████▊ | 592/669 [04:49<00:37,  2.08it/s]/home/tommy/neuralhydrology/neuralhydrology/utils/config.py:597: FutureWarning: 'camels_attributes' will be deprecated. Use 'static_attributes' in the future\n",
      "  warnings.warn(\"'camels_attributes' will be deprecated. Use 'static_attributes' in the future\",\n",
      "Extracting cell state for basin:  89%|████████▊ | 593/669 [04:50<00:36,  2.10it/s]/home/tommy/neuralhydrology/neuralhydrology/utils/config.py:597: FutureWarning: 'camels_attributes' will be deprecated. Use 'static_attributes' in the future\n",
      "  warnings.warn(\"'camels_attributes' will be deprecated. Use 'static_attributes' in the future\",\n",
      "Extracting cell state for basin:  89%|████████▉ | 594/669 [04:50<00:38,  1.94it/s]/home/tommy/neuralhydrology/neuralhydrology/utils/config.py:597: FutureWarning: 'camels_attributes' will be deprecated. Use 'static_attributes' in the future\n",
      "  warnings.warn(\"'camels_attributes' will be deprecated. Use 'static_attributes' in the future\",\n",
      "Extracting cell state for basin:  89%|████████▉ | 595/669 [04:51<00:37,  2.00it/s]/home/tommy/neuralhydrology/neuralhydrology/utils/config.py:597: FutureWarning: 'camels_attributes' will be deprecated. Use 'static_attributes' in the future\n",
      "  warnings.warn(\"'camels_attributes' will be deprecated. Use 'static_attributes' in the future\",\n",
      "Extracting cell state for basin:  89%|████████▉ | 596/669 [04:51<00:35,  2.06it/s]/home/tommy/neuralhydrology/neuralhydrology/utils/config.py:597: FutureWarning: 'camels_attributes' will be deprecated. Use 'static_attributes' in the future\n",
      "  warnings.warn(\"'camels_attributes' will be deprecated. Use 'static_attributes' in the future\",\n",
      "Extracting cell state for basin:  89%|████████▉ | 597/669 [04:52<00:34,  2.11it/s]/home/tommy/neuralhydrology/neuralhydrology/utils/config.py:597: FutureWarning: 'camels_attributes' will be deprecated. Use 'static_attributes' in the future\n",
      "  warnings.warn(\"'camels_attributes' will be deprecated. Use 'static_attributes' in the future\",\n",
      "Extracting cell state for basin:  89%|████████▉ | 598/669 [04:52<00:34,  2.09it/s]/home/tommy/neuralhydrology/neuralhydrology/utils/config.py:597: FutureWarning: 'camels_attributes' will be deprecated. Use 'static_attributes' in the future\n",
      "  warnings.warn(\"'camels_attributes' will be deprecated. Use 'static_attributes' in the future\",\n",
      "Extracting cell state for basin:  90%|████████▉ | 599/669 [04:53<00:32,  2.14it/s]/home/tommy/neuralhydrology/neuralhydrology/utils/config.py:597: FutureWarning: 'camels_attributes' will be deprecated. Use 'static_attributes' in the future\n",
      "  warnings.warn(\"'camels_attributes' will be deprecated. Use 'static_attributes' in the future\",\n",
      "Extracting cell state for basin:  90%|████████▉ | 600/669 [04:53<00:32,  2.14it/s]/home/tommy/neuralhydrology/neuralhydrology/utils/config.py:597: FutureWarning: 'camels_attributes' will be deprecated. Use 'static_attributes' in the future\n",
      "  warnings.warn(\"'camels_attributes' will be deprecated. Use 'static_attributes' in the future\",\n",
      "Extracting cell state for basin:  90%|████████▉ | 601/669 [04:54<00:32,  2.12it/s]/home/tommy/neuralhydrology/neuralhydrology/utils/config.py:597: FutureWarning: 'camels_attributes' will be deprecated. Use 'static_attributes' in the future\n",
      "  warnings.warn(\"'camels_attributes' will be deprecated. Use 'static_attributes' in the future\",\n",
      "Extracting cell state for basin:  90%|████████▉ | 602/669 [04:54<00:31,  2.13it/s]/home/tommy/neuralhydrology/neuralhydrology/utils/config.py:597: FutureWarning: 'camels_attributes' will be deprecated. Use 'static_attributes' in the future\n",
      "  warnings.warn(\"'camels_attributes' will be deprecated. Use 'static_attributes' in the future\",\n",
      "Extracting cell state for basin:  90%|█████████ | 603/669 [04:55<00:33,  1.96it/s]/home/tommy/neuralhydrology/neuralhydrology/utils/config.py:597: FutureWarning: 'camels_attributes' will be deprecated. Use 'static_attributes' in the future\n",
      "  warnings.warn(\"'camels_attributes' will be deprecated. Use 'static_attributes' in the future\",\n",
      "Extracting cell state for basin:  90%|█████████ | 604/669 [04:55<00:34,  1.89it/s]/home/tommy/neuralhydrology/neuralhydrology/utils/config.py:597: FutureWarning: 'camels_attributes' will be deprecated. Use 'static_attributes' in the future\n",
      "  warnings.warn(\"'camels_attributes' will be deprecated. Use 'static_attributes' in the future\",\n",
      "Extracting cell state for basin:  90%|█████████ | 605/669 [04:56<00:35,  1.81it/s]/home/tommy/neuralhydrology/neuralhydrology/utils/config.py:597: FutureWarning: 'camels_attributes' will be deprecated. Use 'static_attributes' in the future\n",
      "  warnings.warn(\"'camels_attributes' will be deprecated. Use 'static_attributes' in the future\",\n",
      "Extracting cell state for basin:  91%|█████████ | 606/669 [04:56<00:33,  1.87it/s]/home/tommy/neuralhydrology/neuralhydrology/utils/config.py:597: FutureWarning: 'camels_attributes' will be deprecated. Use 'static_attributes' in the future\n",
      "  warnings.warn(\"'camels_attributes' will be deprecated. Use 'static_attributes' in the future\",\n",
      "Extracting cell state for basin:  91%|█████████ | 607/669 [04:57<00:32,  1.90it/s]/home/tommy/neuralhydrology/neuralhydrology/utils/config.py:597: FutureWarning: 'camels_attributes' will be deprecated. Use 'static_attributes' in the future\n",
      "  warnings.warn(\"'camels_attributes' will be deprecated. Use 'static_attributes' in the future\",\n",
      "Extracting cell state for basin:  91%|█████████ | 608/669 [04:57<00:31,  1.94it/s]/home/tommy/neuralhydrology/neuralhydrology/utils/config.py:597: FutureWarning: 'camels_attributes' will be deprecated. Use 'static_attributes' in the future\n",
      "  warnings.warn(\"'camels_attributes' will be deprecated. Use 'static_attributes' in the future\",\n",
      "Extracting cell state for basin:  91%|█████████ | 609/669 [04:58<00:30,  1.94it/s]/home/tommy/neuralhydrology/neuralhydrology/utils/config.py:597: FutureWarning: 'camels_attributes' will be deprecated. Use 'static_attributes' in the future\n",
      "  warnings.warn(\"'camels_attributes' will be deprecated. Use 'static_attributes' in the future\",\n",
      "Extracting cell state for basin:  91%|█████████ | 610/669 [04:58<00:30,  1.97it/s]/home/tommy/neuralhydrology/neuralhydrology/utils/config.py:597: FutureWarning: 'camels_attributes' will be deprecated. Use 'static_attributes' in the future\n",
      "  warnings.warn(\"'camels_attributes' will be deprecated. Use 'static_attributes' in the future\",\n",
      "Extracting cell state for basin:  91%|█████████▏| 611/669 [04:59<00:27,  2.09it/s]/home/tommy/neuralhydrology/neuralhydrology/utils/config.py:597: FutureWarning: 'camels_attributes' will be deprecated. Use 'static_attributes' in the future\n",
      "  warnings.warn(\"'camels_attributes' will be deprecated. Use 'static_attributes' in the future\",\n",
      "Extracting cell state for basin:  91%|█████████▏| 612/669 [04:59<00:26,  2.18it/s]/home/tommy/neuralhydrology/neuralhydrology/utils/config.py:597: FutureWarning: 'camels_attributes' will be deprecated. Use 'static_attributes' in the future\n",
      "  warnings.warn(\"'camels_attributes' will be deprecated. Use 'static_attributes' in the future\",\n",
      "Extracting cell state for basin:  92%|█████████▏| 613/669 [05:00<00:26,  2.13it/s]/home/tommy/neuralhydrology/neuralhydrology/utils/config.py:597: FutureWarning: 'camels_attributes' will be deprecated. Use 'static_attributes' in the future\n",
      "  warnings.warn(\"'camels_attributes' will be deprecated. Use 'static_attributes' in the future\",\n",
      "Extracting cell state for basin:  92%|█████████▏| 614/669 [05:00<00:24,  2.21it/s]/home/tommy/neuralhydrology/neuralhydrology/utils/config.py:597: FutureWarning: 'camels_attributes' will be deprecated. Use 'static_attributes' in the future\n",
      "  warnings.warn(\"'camels_attributes' will be deprecated. Use 'static_attributes' in the future\",\n",
      "Extracting cell state for basin:  92%|█████████▏| 615/669 [05:01<00:26,  2.02it/s]/home/tommy/neuralhydrology/neuralhydrology/utils/config.py:597: FutureWarning: 'camels_attributes' will be deprecated. Use 'static_attributes' in the future\n",
      "  warnings.warn(\"'camels_attributes' will be deprecated. Use 'static_attributes' in the future\",\n",
      "Extracting cell state for basin:  92%|█████████▏| 616/669 [05:01<00:26,  2.00it/s]/home/tommy/neuralhydrology/neuralhydrology/utils/config.py:597: FutureWarning: 'camels_attributes' will be deprecated. Use 'static_attributes' in the future\n",
      "  warnings.warn(\"'camels_attributes' will be deprecated. Use 'static_attributes' in the future\",\n",
      "Extracting cell state for basin:  92%|█████████▏| 617/669 [05:02<00:26,  1.95it/s]/home/tommy/neuralhydrology/neuralhydrology/utils/config.py:597: FutureWarning: 'camels_attributes' will be deprecated. Use 'static_attributes' in the future\n",
      "  warnings.warn(\"'camels_attributes' will be deprecated. Use 'static_attributes' in the future\",\n",
      "Extracting cell state for basin:  92%|█████████▏| 618/669 [05:02<00:24,  2.05it/s]/home/tommy/neuralhydrology/neuralhydrology/utils/config.py:597: FutureWarning: 'camels_attributes' will be deprecated. Use 'static_attributes' in the future\n",
      "  warnings.warn(\"'camels_attributes' will be deprecated. Use 'static_attributes' in the future\",\n",
      "Extracting cell state for basin:  93%|█████████▎| 619/669 [05:03<00:24,  2.06it/s]/home/tommy/neuralhydrology/neuralhydrology/utils/config.py:597: FutureWarning: 'camels_attributes' will be deprecated. Use 'static_attributes' in the future\n",
      "  warnings.warn(\"'camels_attributes' will be deprecated. Use 'static_attributes' in the future\",\n",
      "Extracting cell state for basin:  93%|█████████▎| 620/669 [05:03<00:23,  2.11it/s]/home/tommy/neuralhydrology/neuralhydrology/utils/config.py:597: FutureWarning: 'camels_attributes' will be deprecated. Use 'static_attributes' in the future\n",
      "  warnings.warn(\"'camels_attributes' will be deprecated. Use 'static_attributes' in the future\",\n",
      "Extracting cell state for basin:  93%|█████████▎| 621/669 [05:04<00:22,  2.16it/s]/home/tommy/neuralhydrology/neuralhydrology/utils/config.py:597: FutureWarning: 'camels_attributes' will be deprecated. Use 'static_attributes' in the future\n",
      "  warnings.warn(\"'camels_attributes' will be deprecated. Use 'static_attributes' in the future\",\n",
      "Extracting cell state for basin:  93%|█████████▎| 622/669 [05:04<00:21,  2.21it/s]/home/tommy/neuralhydrology/neuralhydrology/utils/config.py:597: FutureWarning: 'camels_attributes' will be deprecated. Use 'static_attributes' in the future\n",
      "  warnings.warn(\"'camels_attributes' will be deprecated. Use 'static_attributes' in the future\",\n",
      "Extracting cell state for basin:  93%|█████████▎| 623/669 [05:04<00:20,  2.27it/s]/home/tommy/neuralhydrology/neuralhydrology/utils/config.py:597: FutureWarning: 'camels_attributes' will be deprecated. Use 'static_attributes' in the future\n",
      "  warnings.warn(\"'camels_attributes' will be deprecated. Use 'static_attributes' in the future\",\n",
      "Extracting cell state for basin:  93%|█████████▎| 624/669 [05:05<00:19,  2.28it/s]/home/tommy/neuralhydrology/neuralhydrology/utils/config.py:597: FutureWarning: 'camels_attributes' will be deprecated. Use 'static_attributes' in the future\n",
      "  warnings.warn(\"'camels_attributes' will be deprecated. Use 'static_attributes' in the future\",\n",
      "Extracting cell state for basin:  93%|█████████▎| 625/669 [05:05<00:19,  2.23it/s]/home/tommy/neuralhydrology/neuralhydrology/utils/config.py:597: FutureWarning: 'camels_attributes' will be deprecated. Use 'static_attributes' in the future\n",
      "  warnings.warn(\"'camels_attributes' will be deprecated. Use 'static_attributes' in the future\",\n",
      "Extracting cell state for basin:  94%|█████████▎| 626/669 [05:06<00:21,  2.05it/s]/home/tommy/neuralhydrology/neuralhydrology/utils/config.py:597: FutureWarning: 'camels_attributes' will be deprecated. Use 'static_attributes' in the future\n",
      "  warnings.warn(\"'camels_attributes' will be deprecated. Use 'static_attributes' in the future\",\n",
      "Extracting cell state for basin:  94%|█████████▎| 627/669 [05:06<00:20,  2.06it/s]/home/tommy/neuralhydrology/neuralhydrology/utils/config.py:597: FutureWarning: 'camels_attributes' will be deprecated. Use 'static_attributes' in the future\n",
      "  warnings.warn(\"'camels_attributes' will be deprecated. Use 'static_attributes' in the future\",\n",
      "Extracting cell state for basin:  94%|█████████▍| 628/669 [05:07<00:21,  1.90it/s]/home/tommy/neuralhydrology/neuralhydrology/utils/config.py:597: FutureWarning: 'camels_attributes' will be deprecated. Use 'static_attributes' in the future\n",
      "  warnings.warn(\"'camels_attributes' will be deprecated. Use 'static_attributes' in the future\",\n",
      "Extracting cell state for basin:  94%|█████████▍| 629/669 [05:08<00:20,  1.92it/s]/home/tommy/neuralhydrology/neuralhydrology/utils/config.py:597: FutureWarning: 'camels_attributes' will be deprecated. Use 'static_attributes' in the future\n",
      "  warnings.warn(\"'camels_attributes' will be deprecated. Use 'static_attributes' in the future\",\n",
      "Extracting cell state for basin:  94%|█████████▍| 630/669 [05:08<00:21,  1.82it/s]/home/tommy/neuralhydrology/neuralhydrology/utils/config.py:597: FutureWarning: 'camels_attributes' will be deprecated. Use 'static_attributes' in the future\n",
      "  warnings.warn(\"'camels_attributes' will be deprecated. Use 'static_attributes' in the future\",\n",
      "Extracting cell state for basin:  94%|█████████▍| 631/669 [05:09<00:21,  1.78it/s]/home/tommy/neuralhydrology/neuralhydrology/utils/config.py:597: FutureWarning: 'camels_attributes' will be deprecated. Use 'static_attributes' in the future\n",
      "  warnings.warn(\"'camels_attributes' will be deprecated. Use 'static_attributes' in the future\",\n",
      "Extracting cell state for basin:  94%|█████████▍| 632/669 [05:09<00:20,  1.83it/s]/home/tommy/neuralhydrology/neuralhydrology/utils/config.py:597: FutureWarning: 'camels_attributes' will be deprecated. Use 'static_attributes' in the future\n",
      "  warnings.warn(\"'camels_attributes' will be deprecated. Use 'static_attributes' in the future\",\n",
      "Extracting cell state for basin:  95%|█████████▍| 633/669 [05:10<00:19,  1.82it/s]/home/tommy/neuralhydrology/neuralhydrology/utils/config.py:597: FutureWarning: 'camels_attributes' will be deprecated. Use 'static_attributes' in the future\n",
      "  warnings.warn(\"'camels_attributes' will be deprecated. Use 'static_attributes' in the future\",\n",
      "Extracting cell state for basin:  95%|█████████▍| 634/669 [05:10<00:19,  1.81it/s]/home/tommy/neuralhydrology/neuralhydrology/utils/config.py:597: FutureWarning: 'camels_attributes' will be deprecated. Use 'static_attributes' in the future\n",
      "  warnings.warn(\"'camels_attributes' will be deprecated. Use 'static_attributes' in the future\",\n",
      "Extracting cell state for basin:  95%|█████████▍| 635/669 [05:11<00:17,  1.90it/s]/home/tommy/neuralhydrology/neuralhydrology/utils/config.py:597: FutureWarning: 'camels_attributes' will be deprecated. Use 'static_attributes' in the future\n",
      "  warnings.warn(\"'camels_attributes' will be deprecated. Use 'static_attributes' in the future\",\n",
      "Extracting cell state for basin:  95%|█████████▌| 636/669 [05:11<00:17,  1.88it/s]/home/tommy/neuralhydrology/neuralhydrology/utils/config.py:597: FutureWarning: 'camels_attributes' will be deprecated. Use 'static_attributes' in the future\n",
      "  warnings.warn(\"'camels_attributes' will be deprecated. Use 'static_attributes' in the future\",\n",
      "Extracting cell state for basin:  95%|█████████▌| 637/669 [05:12<00:16,  2.00it/s]/home/tommy/neuralhydrology/neuralhydrology/utils/config.py:597: FutureWarning: 'camels_attributes' will be deprecated. Use 'static_attributes' in the future\n",
      "  warnings.warn(\"'camels_attributes' will be deprecated. Use 'static_attributes' in the future\",\n",
      "Extracting cell state for basin:  95%|█████████▌| 638/669 [05:12<00:15,  2.06it/s]/home/tommy/neuralhydrology/neuralhydrology/utils/config.py:597: FutureWarning: 'camels_attributes' will be deprecated. Use 'static_attributes' in the future\n",
      "  warnings.warn(\"'camels_attributes' will be deprecated. Use 'static_attributes' in the future\",\n",
      "Extracting cell state for basin:  96%|█████████▌| 639/669 [05:13<00:14,  2.02it/s]/home/tommy/neuralhydrology/neuralhydrology/utils/config.py:597: FutureWarning: 'camels_attributes' will be deprecated. Use 'static_attributes' in the future\n",
      "  warnings.warn(\"'camels_attributes' will be deprecated. Use 'static_attributes' in the future\",\n",
      "Extracting cell state for basin:  96%|█████████▌| 640/669 [05:13<00:14,  1.94it/s]/home/tommy/neuralhydrology/neuralhydrology/utils/config.py:597: FutureWarning: 'camels_attributes' will be deprecated. Use 'static_attributes' in the future\n",
      "  warnings.warn(\"'camels_attributes' will be deprecated. Use 'static_attributes' in the future\",\n",
      "Extracting cell state for basin:  96%|█████████▌| 641/669 [05:14<00:14,  1.96it/s]/home/tommy/neuralhydrology/neuralhydrology/utils/config.py:597: FutureWarning: 'camels_attributes' will be deprecated. Use 'static_attributes' in the future\n",
      "  warnings.warn(\"'camels_attributes' will be deprecated. Use 'static_attributes' in the future\",\n",
      "Extracting cell state for basin:  96%|█████████▌| 642/669 [05:14<00:14,  1.88it/s]/home/tommy/neuralhydrology/neuralhydrology/utils/config.py:597: FutureWarning: 'camels_attributes' will be deprecated. Use 'static_attributes' in the future\n",
      "  warnings.warn(\"'camels_attributes' will be deprecated. Use 'static_attributes' in the future\",\n",
      "Extracting cell state for basin:  96%|█████████▌| 643/669 [05:15<00:13,  1.99it/s]/home/tommy/neuralhydrology/neuralhydrology/utils/config.py:597: FutureWarning: 'camels_attributes' will be deprecated. Use 'static_attributes' in the future\n",
      "  warnings.warn(\"'camels_attributes' will be deprecated. Use 'static_attributes' in the future\",\n",
      "Extracting cell state for basin:  96%|█████████▋| 644/669 [05:15<00:12,  2.03it/s]/home/tommy/neuralhydrology/neuralhydrology/utils/config.py:597: FutureWarning: 'camels_attributes' will be deprecated. Use 'static_attributes' in the future\n",
      "  warnings.warn(\"'camels_attributes' will be deprecated. Use 'static_attributes' in the future\",\n",
      "Extracting cell state for basin:  96%|█████████▋| 645/669 [05:16<00:11,  2.13it/s]/home/tommy/neuralhydrology/neuralhydrology/utils/config.py:597: FutureWarning: 'camels_attributes' will be deprecated. Use 'static_attributes' in the future\n",
      "  warnings.warn(\"'camels_attributes' will be deprecated. Use 'static_attributes' in the future\",\n",
      "Extracting cell state for basin:  97%|█████████▋| 646/669 [05:16<00:10,  2.21it/s]/home/tommy/neuralhydrology/neuralhydrology/utils/config.py:597: FutureWarning: 'camels_attributes' will be deprecated. Use 'static_attributes' in the future\n",
      "  warnings.warn(\"'camels_attributes' will be deprecated. Use 'static_attributes' in the future\",\n",
      "Extracting cell state for basin:  97%|█████████▋| 647/669 [05:17<00:11,  1.98it/s]/home/tommy/neuralhydrology/neuralhydrology/utils/config.py:597: FutureWarning: 'camels_attributes' will be deprecated. Use 'static_attributes' in the future\n",
      "  warnings.warn(\"'camels_attributes' will be deprecated. Use 'static_attributes' in the future\",\n",
      "Extracting cell state for basin:  97%|█████████▋| 648/669 [05:17<00:10,  1.99it/s]/home/tommy/neuralhydrology/neuralhydrology/utils/config.py:597: FutureWarning: 'camels_attributes' will be deprecated. Use 'static_attributes' in the future\n",
      "  warnings.warn(\"'camels_attributes' will be deprecated. Use 'static_attributes' in the future\",\n",
      "Extracting cell state for basin:  97%|█████████▋| 649/669 [05:18<00:09,  2.08it/s]/home/tommy/neuralhydrology/neuralhydrology/utils/config.py:597: FutureWarning: 'camels_attributes' will be deprecated. Use 'static_attributes' in the future\n",
      "  warnings.warn(\"'camels_attributes' will be deprecated. Use 'static_attributes' in the future\",\n",
      "Extracting cell state for basin:  97%|█████████▋| 650/669 [05:18<00:09,  2.11it/s]/home/tommy/neuralhydrology/neuralhydrology/utils/config.py:597: FutureWarning: 'camels_attributes' will be deprecated. Use 'static_attributes' in the future\n",
      "  warnings.warn(\"'camels_attributes' will be deprecated. Use 'static_attributes' in the future\",\n",
      "Extracting cell state for basin:  97%|█████████▋| 651/669 [05:19<00:08,  2.06it/s]/home/tommy/neuralhydrology/neuralhydrology/utils/config.py:597: FutureWarning: 'camels_attributes' will be deprecated. Use 'static_attributes' in the future\n",
      "  warnings.warn(\"'camels_attributes' will be deprecated. Use 'static_attributes' in the future\",\n",
      "Extracting cell state for basin:  97%|█████████▋| 652/669 [05:19<00:08,  2.04it/s]/home/tommy/neuralhydrology/neuralhydrology/utils/config.py:597: FutureWarning: 'camels_attributes' will be deprecated. Use 'static_attributes' in the future\n",
      "  warnings.warn(\"'camels_attributes' will be deprecated. Use 'static_attributes' in the future\",\n",
      "Extracting cell state for basin:  98%|█████████▊| 653/669 [05:20<00:08,  1.99it/s]/home/tommy/neuralhydrology/neuralhydrology/utils/config.py:597: FutureWarning: 'camels_attributes' will be deprecated. Use 'static_attributes' in the future\n",
      "  warnings.warn(\"'camels_attributes' will be deprecated. Use 'static_attributes' in the future\",\n",
      "Extracting cell state for basin:  98%|█████████▊| 654/669 [05:20<00:07,  2.01it/s]/home/tommy/neuralhydrology/neuralhydrology/utils/config.py:597: FutureWarning: 'camels_attributes' will be deprecated. Use 'static_attributes' in the future\n",
      "  warnings.warn(\"'camels_attributes' will be deprecated. Use 'static_attributes' in the future\",\n",
      "Extracting cell state for basin:  98%|█████████▊| 655/669 [05:21<00:06,  2.07it/s]/home/tommy/neuralhydrology/neuralhydrology/utils/config.py:597: FutureWarning: 'camels_attributes' will be deprecated. Use 'static_attributes' in the future\n",
      "  warnings.warn(\"'camels_attributes' will be deprecated. Use 'static_attributes' in the future\",\n",
      "Extracting cell state for basin:  98%|█████████▊| 656/669 [05:21<00:06,  2.12it/s]/home/tommy/neuralhydrology/neuralhydrology/utils/config.py:597: FutureWarning: 'camels_attributes' will be deprecated. Use 'static_attributes' in the future\n",
      "  warnings.warn(\"'camels_attributes' will be deprecated. Use 'static_attributes' in the future\",\n",
      "Extracting cell state for basin:  98%|█████████▊| 657/669 [05:22<00:05,  2.08it/s]/home/tommy/neuralhydrology/neuralhydrology/utils/config.py:597: FutureWarning: 'camels_attributes' will be deprecated. Use 'static_attributes' in the future\n",
      "  warnings.warn(\"'camels_attributes' will be deprecated. Use 'static_attributes' in the future\",\n",
      "Extracting cell state for basin:  98%|█████████▊| 658/669 [05:22<00:05,  1.85it/s]/home/tommy/neuralhydrology/neuralhydrology/utils/config.py:597: FutureWarning: 'camels_attributes' will be deprecated. Use 'static_attributes' in the future\n",
      "  warnings.warn(\"'camels_attributes' will be deprecated. Use 'static_attributes' in the future\",\n",
      "Extracting cell state for basin:  99%|█████████▊| 659/669 [05:23<00:05,  1.89it/s]/home/tommy/neuralhydrology/neuralhydrology/utils/config.py:597: FutureWarning: 'camels_attributes' will be deprecated. Use 'static_attributes' in the future\n",
      "  warnings.warn(\"'camels_attributes' will be deprecated. Use 'static_attributes' in the future\",\n",
      "Extracting cell state for basin:  99%|█████████▊| 660/669 [05:23<00:04,  1.91it/s]/home/tommy/neuralhydrology/neuralhydrology/utils/config.py:597: FutureWarning: 'camels_attributes' will be deprecated. Use 'static_attributes' in the future\n",
      "  warnings.warn(\"'camels_attributes' will be deprecated. Use 'static_attributes' in the future\",\n",
      "Extracting cell state for basin:  99%|█████████▉| 661/669 [05:24<00:04,  1.97it/s]/home/tommy/neuralhydrology/neuralhydrology/utils/config.py:597: FutureWarning: 'camels_attributes' will be deprecated. Use 'static_attributes' in the future\n",
      "  warnings.warn(\"'camels_attributes' will be deprecated. Use 'static_attributes' in the future\",\n",
      "Extracting cell state for basin:  99%|█████████▉| 662/669 [05:24<00:03,  1.95it/s]/home/tommy/neuralhydrology/neuralhydrology/utils/config.py:597: FutureWarning: 'camels_attributes' will be deprecated. Use 'static_attributes' in the future\n",
      "  warnings.warn(\"'camels_attributes' will be deprecated. Use 'static_attributes' in the future\",\n",
      "Extracting cell state for basin:  99%|█████████▉| 663/669 [05:25<00:03,  1.92it/s]/home/tommy/neuralhydrology/neuralhydrology/utils/config.py:597: FutureWarning: 'camels_attributes' will be deprecated. Use 'static_attributes' in the future\n",
      "  warnings.warn(\"'camels_attributes' will be deprecated. Use 'static_attributes' in the future\",\n",
      "Extracting cell state for basin:  99%|█████████▉| 664/669 [05:25<00:02,  1.98it/s]/home/tommy/neuralhydrology/neuralhydrology/utils/config.py:597: FutureWarning: 'camels_attributes' will be deprecated. Use 'static_attributes' in the future\n",
      "  warnings.warn(\"'camels_attributes' will be deprecated. Use 'static_attributes' in the future\",\n",
      "Extracting cell state for basin:  99%|█████████▉| 665/669 [05:26<00:01,  2.08it/s]/home/tommy/neuralhydrology/neuralhydrology/utils/config.py:597: FutureWarning: 'camels_attributes' will be deprecated. Use 'static_attributes' in the future\n",
      "  warnings.warn(\"'camels_attributes' will be deprecated. Use 'static_attributes' in the future\",\n",
      "Extracting cell state for basin: 100%|█████████▉| 666/669 [05:26<00:01,  2.20it/s]/home/tommy/neuralhydrology/neuralhydrology/utils/config.py:597: FutureWarning: 'camels_attributes' will be deprecated. Use 'static_attributes' in the future\n",
      "  warnings.warn(\"'camels_attributes' will be deprecated. Use 'static_attributes' in the future\",\n",
      "Extracting cell state for basin: 100%|█████████▉| 667/669 [05:27<00:00,  2.31it/s]/home/tommy/neuralhydrology/neuralhydrology/utils/config.py:597: FutureWarning: 'camels_attributes' will be deprecated. Use 'static_attributes' in the future\n",
      "  warnings.warn(\"'camels_attributes' will be deprecated. Use 'static_attributes' in the future\",\n",
      "Extracting cell state for basin: 100%|█████████▉| 668/669 [05:27<00:00,  2.36it/s]/home/tommy/neuralhydrology/neuralhydrology/utils/config.py:597: FutureWarning: 'camels_attributes' will be deprecated. Use 'static_attributes' in the future\n",
      "  warnings.warn(\"'camels_attributes' will be deprecated. Use 'static_attributes' in the future\",\n",
      "Extracting cell state for basin: 100%|██████████| 669/669 [05:28<00:00,  2.04it/s]\n"
     ]
    }
   ],
   "source": [
    "from scripts.cell_state.extract_cell_state import get_cell_states\n",
    "\n",
    "out_dir = run_dir / \"cell_states_hi_temp\"\n",
    "\n",
    "if not out_dir.exists():\n",
    "    out_dir.mkdir(parents=True, exist_ok=True)\n",
    "\n",
    "if not (out_dir / \"cell_states.nc\").exists():\n",
    "    cn = get_cell_states(f_cfg, run_dir)\n",
    "    cn.to_netcdf(out_dir / \"cell_states.nc\")\n",
    "else:\n",
    "    cn = xr.open_dataset(out_dir / \"cell_states.nc\")"
   ]
  },
  {
   "cell_type": "code",
   "execution_count": 58,
   "id": "24b6d40a-d720-430a-8c99-fa3ccb97e6c7",
   "metadata": {},
   "outputs": [],
   "source": [
    "from typing import Optional\n",
    "\n",
    "\n",
    "def normalize_cell_state_data(cn: xr.Dataset, per_basin: bool = True) -> xr.Dataset:\n",
    "    if per_basin:\n",
    "        norm_cs_data = normalize_cstate(cn, variable_str=\"c_n\")\n",
    "        norm_cs_data[\"station_id\"] = [int(sid) for sid in norm_cs_data[\"station_id\"]]\n",
    "        if \"date\" in norm_cs_data.dims:\n",
    "            norm_cs_data = norm_cs_data.rename({\"date\": \"time\"})\n",
    "\n",
    "        if isinstance(norm_cs_data, xr.DataArray):\n",
    "            norm_cs_data = norm_cs_data.to_dataset()\n",
    "\n",
    "        if \"c_n\" in [v for v in norm_cs_data.data_vars]:\n",
    "            norm_cs_data = norm_cs_data.rename({\"c_n\": \"cell_state\"})\n",
    "    else: \n",
    "        print(\"-- Normalizing Per Dimension --\")\n",
    "        station_dim = \"station_id\"\n",
    "        time_dim = \"date\"\n",
    "        mean_ = cn.mean(dim=[station_dim, time_dim])\n",
    "        std_ = cn.std(dim=[station_dim, time_dim])\n",
    "        norm_cs_data = (cn - mean_) / std_\n",
    "    return norm_cs_data"
   ]
  },
  {
   "cell_type": "code",
   "execution_count": 104,
   "id": "416b8672-3076-48f8-9ea2-2bab1608e561",
   "metadata": {},
   "outputs": [],
   "source": [
    "# [p.name for p in list(run_dir.iterdir())]"
   ]
  },
  {
   "cell_type": "code",
   "execution_count": 105,
   "id": "e4e5682b-4aad-412c-b0d9-26fa0e1a6a62",
   "metadata": {},
   "outputs": [],
   "source": [
    "# get the original cell state data for comparison\n",
    "from scripts.cell_state.cell_state_dataset import dataset_dimensions_to_variable\n",
    "\n",
    "og_cn = xr.open_dataset(run_dir / \"cell_states/cell_states.nc\")\n",
    "\n",
    "# normalize\n",
    "mean_ = og_cn.mean(dim=[station_dim, time_dim])\n",
    "std_ = og_cn.std(dim=[station_dim, time_dim])\n",
    "original_norm_cs_data = (og_cn - mean_) / std_\n",
    "\n",
    "# dimensions -> variables\n",
    "og_cs = dataset_dimensions_to_variable(\n",
    "    ds=original_norm_cs_data, \n",
    "    variable=\"c_n\",\n",
    "    dimension_to_convert_to_variable_dim=\"dimension\",\n",
    "    time_dim=\"date\"\n",
    ").rename({\"date\": \"time\"})\n",
    "og_cs[\"station_id\"] = og_cs[\"station_id\"].astype(int)"
   ]
  },
  {
   "cell_type": "code",
   "execution_count": 106,
   "id": "69ddb0ca-a87f-4b5f-82e0-88c73eea1832",
   "metadata": {},
   "outputs": [],
   "source": [
    "# New data\n",
    "norm_cs_data = (cn - mean_) / std_\n",
    "\n",
    "cs = dataset_dimensions_to_variable(\n",
    "    ds=norm_cs_data, \n",
    "    variable=\"c_n\",\n",
    "    dimension_to_convert_to_variable_dim=\"dimension\",\n",
    "    time_dim=\"date\",\n",
    ").rename({\"date\": \"time\"})\n",
    "cs[\"station_id\"] = cs[\"station_id\"].astype(int)"
   ]
  },
  {
   "cell_type": "code",
   "execution_count": 84,
   "id": "95ff4f83-0512-462b-8300-688c66871a43",
   "metadata": {},
   "outputs": [],
   "source": [
    "# from scripts.cell_state.normalize import normalize_cstate\n",
    "\n",
    "# if not (out_dir / \"norm_cs_data_FINAL.nc\").exists():\n",
    "#     norm_cs_data = normalize_cell_state_data(cn=cn)\n",
    "#     norm_cs_data.to_netcdf(out_dir / \"norm_cs_data_FINAL.nc\")\n",
    "# else:\n",
    "#     norm_cs_data = xr.open_dataset(out_dir / \"norm_cs_data_FINAL.nc\")"
   ]
  },
  {
   "cell_type": "markdown",
   "id": "bbb7ce63-5f49-4a59-82a0-1e6212d300a0",
   "metadata": {},
   "source": [
    "# Get the snowy catchments and snow data"
   ]
  },
  {
   "cell_type": "code",
   "execution_count": 85,
   "id": "2c7d27c4-f5e1-4222-bacf-6cefc3531623",
   "metadata": {},
   "outputs": [
    {
     "name": "stdout",
     "output_type": "stream",
     "text": [
      "['frac_snow']\n",
      "['gauge_name']\n",
      "5.37% Catchments with snow percentage >0.05\n"
     ]
    }
   ],
   "source": [
    "print([v for v in static.data_vars if \"snow\" in v])\n",
    "print([v for v in static.data_vars if \"name\" in v])\n",
    "\n",
    "snowy_threshold = 0.05\n",
    "gdf = gpd.GeoDataFrame(static[\"frac_snow\"].to_dataframe().join(static[\"gauge_name\"].to_dataframe()).join(points))\n",
    "\n",
    "print(f\"{(gdf.frac_snow > snowy_threshold).mean() * 100:.2f}% Catchments with snow percentage >{snowy_threshold}\")\n",
    "snowy_catchment_ids = gdf.loc[gdf.frac_snow > snowy_threshold]"
   ]
  },
  {
   "cell_type": "code",
   "execution_count": 86,
   "id": "7cf00c08-5ca5-44eb-b4ec-b35da4b52d64",
   "metadata": {},
   "outputs": [
    {
     "data": {
      "image/png": "[encoded data removed]",
      "text/plain": [
       "<Figure size 360x576 with 1 Axes>"
      ]
     },
     "metadata": {
      "needs_background": "light"
     },
     "output_type": "display_data"
    }
   ],
   "source": [
    "ax = initialise_gb_spatial_plot()\n",
    "snowy_catchment_ids.plot(ax=ax)\n",
    "N = len(snowy_catchment_ids)\n",
    "ax.set_title(f\"{N} Catchments with frac_snow > {snowy_threshold}\");"
   ]
  },
  {
   "cell_type": "markdown",
   "id": "33307ea6-12d0-42ec-9396-3d6075fa39b5",
   "metadata": {},
   "source": [
    "# Check Cell State"
   ]
  },
  {
   "cell_type": "code",
   "execution_count": 87,
   "id": "e12f30c0-0e0f-4e6a-9cae-006350ed53b2",
   "metadata": {},
   "outputs": [],
   "source": [
    "snow_cell_states = [9, 8]\n",
    "snow_dims = [f\"dim{c}\" for c in snow_cell_states]"
   ]
  },
  {
   "cell_type": "code",
   "execution_count": 107,
   "id": "ff35f927-6db0-4e73-a37f-a9d8369a1ef3",
   "metadata": {},
   "outputs": [
    {
     "data": {
      "image/png": "[encoded data removed]",
      "text/plain": [
       "<Figure size 864x288 with 1 Axes>"
      ]
     },
     "metadata": {
      "needs_background": "light"
     },
     "output_type": "display_data"
    }
   ],
   "source": [
    "f, ax = plt.subplots(figsize=(12, 4))\n",
    "\n",
    "px = np.random.choice(snowy_catchment_ids.index)\n",
    "time_str = \"2007\"\n",
    "# obs_data = era5_sm[\"sd\"].sel(station_id=px, time=time_str)\n",
    "# ax.plot(obs_data.time.values, obs_data.values, alpha=0.5, color=\"k\", ls=\"--\", label=\"ESA CCI SM Obs\")\n",
    "\n",
    "colors = [\"C0\", \"C1\"]\n",
    "for ix, dim in enumerate(snow_dims[::-1]):\n",
    "    data = cs.sel(station_id=px, time=time_str)\n",
    "    og_data = og_cs.sel(station_id=px, time=time_str)\n",
    "    ax.plot(data.time, data[dim], label=dim, color=colors[ix], alpha=1)\n",
    "    ax.plot(data.time, og_data[dim], label=f\"Original {dim}\", ls=\"--\", color=colors[ix], alpha=0.5)\n",
    "    ax.set_title(f\"Station {px}: {snowy_catchment_ids.loc[px].gauge_name}\")\n",
    "    ax.legend()\n",
    "    sns.despine()\n",
    "    break"
   ]
  },
  {
   "cell_type": "code",
   "execution_count": null,
   "id": "65683bde-0547-44a1-8a2b-9c13d2d5c87e",
   "metadata": {},
   "outputs": [],
   "source": []
  },
  {
   "cell_type": "code",
   "execution_count": null,
   "id": "3998a75c-022f-43aa-b2b0-781fae29830e",
   "metadata": {},
   "outputs": [],
   "source": []
  },
  {
   "cell_type": "markdown",
   "id": "fa6f1a8e-e0fd-4128-9bfc-14ffb88bc600",
   "metadata": {},
   "source": [
    "# what impact on predictions in snowy catchments?"
   ]
  },
  {
   "cell_type": "code",
   "execution_count": 38,
   "id": "37a465a5-9cb4-41bc-ad74-9ba3ec407dbb",
   "metadata": {},
   "outputs": [
    {
     "name": "stdout",
     "output_type": "stream",
     "text": [
      "Already run errors!\n"
     ]
    }
   ],
   "source": [
    "if not (run_dir / \"errors_forced.nc\").exists():\n",
    "    if \"errors_forced\" not in globals():\n",
    "        errors_forced = calculate_all_error_metrics(forced_pred, basin_coord=\"station_id\", time_coord=\"date\")\n",
    "        errors_forced[\"station_id\"] = errors_forced[\"station_id\"].astype(int)\n",
    "        errors_forced.to_netcdf(run_dir / \"errors.nc\")\n",
    "    else:\n",
    "        print(\"Already run errors!\")\n",
    "else:\n",
    "    errors_forced = xr.open_dataset(run_dir / \"errors_forced.nc\")\n",
    "errors = xr.open_dataset(run_dir / \"errors.nc\")"
   ]
  },
  {
   "cell_type": "code",
   "execution_count": 44,
   "id": "2acaeda3-8be5-4aef-929f-dd9767c767c6",
   "metadata": {},
   "outputs": [
    {
     "data": {
      "image/png": "[encoded data removed]",
      "text/plain": [
       "<Figure size 864x288 with 1 Axes>"
      ]
     },
     "metadata": {
      "needs_background": "light"
     },
     "output_type": "display_data"
    }
   ],
   "source": [
    "f, ax = plt.subplots(figsize=(12, 4))\n",
    "plt.hist(errors_forced[\"NSE\"], alpha=0.6, bins=100, label=\"Forced\");\n",
    "plt.hist(errors[\"NSE\"], alpha=0.6, bins=100, label=\"Original\");\n",
    "plt.legend()\n",
    "sns.despine()"
   ]
  },
  {
   "cell_type": "code",
   "execution_count": 33,
   "id": "5d753e0e-d90c-4e35-9f78-fcff5a4c4615",
   "metadata": {},
   "outputs": [
    {
     "data": {
      "image/png": "[encoded data removed]",
      "text/plain": [
       "<Figure size 864x288 with 1 Axes>"
      ]
     },
     "metadata": {
      "needs_background": "light"
     },
     "output_type": "display_data"
    }
   ],
   "source": [
    "px = np.random.choice([str(i) for i in (snowy_catchment_ids.index)])\n",
    "data = forced_pred.sel(date=\"2007\", station_id=px)\n",
    "f, ax = plt.subplots(figsize=(12, 4))\n",
    "ax.plot(data[\"date\"], data[\"discharge_spec_obs\"], ls=\"-\", label=\"Sim\")\n",
    "ax.plot(data[\"date\"], data[\"discharge_spec_sim\"], ls=\"--\", alpha=0.5, color=\"k\", label=\"Obs\")\n",
    "sns.despine()"
   ]
  },
  {
   "cell_type": "code",
   "execution_count": null,
   "id": "d4e345ed-8302-4fc6-8a02-f46697a71dc9",
   "metadata": {},
   "outputs": [],
   "source": []
  },
  {
   "cell_type": "code",
   "execution_count": null,
   "id": "0b000c0d-bdfe-42d1-a279-16234630d95f",
   "metadata": {},
   "outputs": [],
   "source": []
  },
  {
   "cell_type": "code",
   "execution_count": null,
   "id": "98f83415-96b6-4b55-879c-5b24c8ab9cb3",
   "metadata": {},
   "outputs": [],
   "source": []
  },
  {
   "cell_type": "code",
   "execution_count": null,
   "id": "1f4e8011-a91a-427b-a34d-69cca150a966",
   "metadata": {},
   "outputs": [],
   "source": []
  },
  {
   "cell_type": "markdown",
   "id": "f3fd7eac-3df2-4577-bc00-858dab4b022e",
   "metadata": {},
   "source": [
    "# Train Linear Probe"
   ]
  },
  {
   "cell_type": "code",
   "execution_count": 34,
   "id": "34fc9f92-6f69-4cdd-ab51-e043783e51eb",
   "metadata": {
    "scrolled": true,
    "tags": []
   },
   "outputs": [],
   "source": [
    "if False:\n",
    "    era5filepath = (data_dir / \"camels_basin_ERA5Land_sm.nc\")\n",
    "    era5_sm = xr.open_dataset(era5filepath).drop(\"spatial_ref\")\n",
    "\n",
    "\n",
    "    from scripts.cell_state.normalize import normalize_2d_dataset\n",
    "\n",
    "    if not isinstance(era5_sm, xr.Dataset):\n",
    "        era5_sm = era5_sm.to_dataset()\n",
    "\n",
    "    for var in era5_sm.data_vars:\n",
    "        era5_sm[var] = normalize_2d_dataset(era5_sm, variable_str=var, per_basin=True)"
   ]
  },
  {
   "cell_type": "code",
   "execution_count": 35,
   "id": "f69e6b0e-0f07-4a54-b796-9de8fd77252c",
   "metadata": {},
   "outputs": [],
   "source": [
    "if False:\n",
    "    px = np.random.choice(snowy_catchment_ids.index)\n",
    "    data = era5_sm[\"sd\"].sel(station_id=px, time=\"2007\")\n",
    "    station = snowy_catchment_ids.loc[px][\"gauge_name\"]\n",
    "\n",
    "    f, ax = plt.subplots(figsize=(12, 4))\n",
    "    ax.plot(data.time, data.values, ls=\"--\", alpha=0.6, color=\"k\")\n",
    "    ax.set_ylabel(\"Snow Depth (m)\");\n",
    "    ax.set_title(f\"{px}: {station}\")\n",
    "    sns.despine()"
   ]
  },
  {
   "cell_type": "code",
   "execution_count": 36,
   "id": "eaaf11d2-94c3-4ab6-b302-77142d8f83ac",
   "metadata": {},
   "outputs": [
    {
     "ename": "AssertionError",
     "evalue": "",
     "output_type": "error",
     "traceback": [
      "\u001b[0;31m---------------------------------------------------------------------------\u001b[0m",
      "\u001b[0;31mAssertionError\u001b[0m                            Traceback (most recent call last)",
      "\u001b[0;32m<ipython-input-36-a871fdc9ebee>\u001b[0m in \u001b[0;36m<module>\u001b[0;34m\u001b[0m\n\u001b[0;32m----> 1\u001b[0;31m \u001b[0;32massert\u001b[0m \u001b[0;32mFalse\u001b[0m\u001b[0;34m\u001b[0m\u001b[0;34m\u001b[0m\u001b[0m\n\u001b[0m",
      "\u001b[0;31mAssertionError\u001b[0m: "
     ]
    }
   ],
   "source": [
    "assert False"
   ]
  },
  {
   "cell_type": "code",
   "execution_count": null,
   "id": "157178a1-7033-4f86-802c-ac0c8057a1d0",
   "metadata": {},
   "outputs": [],
   "source": [
    "from scripts.cell_state.sklearn_models import (\n",
    "    init_linear_model,\n",
    "    evaluate,\n",
    "    create_analysis_dataset,\n",
    "    fit_and_predict,\n",
    ")\n",
    "from scripts.cell_state.timeseries_dataset import TimeSeriesDataset, get_time_basin_aligned_dictionary\n",
    "from collections import defaultdict"
   ]
  },
  {
   "cell_type": "code",
   "execution_count": null,
   "id": "c6bf58c3-b2b0-4e2f-b6f6-80032390e1d6",
   "metadata": {},
   "outputs": [],
   "source": [
    "target_ds = lognorm_p.to_dataset()\n",
    "input_ds = cs\n",
    "\n",
    "train_start_date: pd.Timestamp = pd.to_datetime(\"1998-01-01\")\n",
    "train_end_date: pd.Timestamp = pd.to_datetime(\"2006-09-30\")\n",
    "test_start_date: pd.Timestamp = pd.to_datetime(\"2006-10-01\")\n",
    "test_end_date: pd.Timestamp =  pd.to_datetime(\"2009-10-01\")\n",
    "seq_length = 1\n",
    "basin_dim = \"station_id\"\n",
    "time_dim = \"time\"\n",
    "input_variables = [f\"dim{i}\" for i in np.arange(64)]\n",
    "target_var = \"snow_\"\n",
    "\n",
    "# train test split\n",
    "target_data = target_ds.sel(time=slice(train_start_date, train_end_date))\n",
    "input_data = input_ds.sel(time=slice(train_start_date, train_end_date))\n",
    "\n",
    "test_target_data = target_ds.sel(time=slice(test_start_date, test_end_date))\n",
    "test_input_data = input_ds.sel(time=slice(test_start_date, test_end_date))\n",
    "\n",
    "\n",
    "# all_train_test = defaultdict(dict)\n",
    "print(f\"** STARTING {target_var} **\")\n",
    "train_dataset = TimeSeriesDataset(\n",
    "    input_data=input_data,\n",
    "    target_data=target_data,\n",
    "    target_variable=target_var,\n",
    "    input_variables=input_variables,\n",
    "    seq_length=seq_length,\n",
    "    basin_dim=basin_dim,\n",
    "    time_dim=time_dim,\n",
    "    desc=\"Creating Train Samples\",\n",
    ")\n",
    "\n",
    "train = get_time_basin_aligned_dictionary(train_dataset)\n",
    "\n",
    "test_dataset = TimeSeriesDataset(\n",
    "    input_data=test_input_data,\n",
    "    target_data=test_target_data,\n",
    "    target_variable=target_var,\n",
    "    input_variables=input_variables,\n",
    "    seq_length=seq_length,\n",
    "    basin_dim=basin_dim,\n",
    "    time_dim=time_dim,\n",
    "    desc=\"Creating Test Samples\",\n",
    ")\n",
    "\n",
    "test = get_time_basin_aligned_dictionary(test_dataset)\n",
    "\n",
    "# all_train_test[target_var][\"train\"] = train\n",
    "# all_train_test[target_var][\"test\"] = test"
   ]
  },
  {
   "cell_type": "code",
   "execution_count": null,
   "id": "c1b860cb-c074-4b9b-b2cf-6cc47bddefe5",
   "metadata": {
    "scrolled": true,
    "tags": []
   },
   "outputs": [],
   "source": [
    "print(f\"** {target_var} **\")\n",
    "model, preds, errors = fit_and_predict(train, test, random_seed=100)"
   ]
  },
  {
   "cell_type": "markdown",
   "id": "6b440b71-b8ac-4f51-8b7e-395a63c796a0",
   "metadata": {},
   "source": [
    "# Explore Results"
   ]
  },
  {
   "cell_type": "code",
   "execution_count": null,
   "id": "580a0288-d5fe-4ec2-ad75-f894e621487d",
   "metadata": {},
   "outputs": [],
   "source": [
    "p = preds\n",
    "time = \"2007\"\n",
    "\n",
    "N = 1\n",
    "pixels = np.random.choice(p.station_id.values, N, replace=False)\n",
    "\n",
    "for px in pixels:\n",
    "    data = preds.sel(station_id=px, time=time)\n",
    "\n",
    "    f, ax = plt.subplots(figsize=(12, 4))\n",
    "    ax.plot(data.time, data.obs, color=\"k\", ls=\"--\", alpha=0.3)\n",
    "    ax.plot(data.time, data.sim, ls=\"-\", alpha=0.6, label=f\"{target_var}\")\n",
    "    ax.legend()\n",
    "    sns.despine()"
   ]
  },
  {
   "cell_type": "code",
   "execution_count": null,
   "id": "79c486d7-8967-4571-b714-2aabb3ddd673",
   "metadata": {},
   "outputs": [],
   "source": [
    "f, ax = plt.subplots(figsize=(12, 4))\n",
    "\n",
    "nse = errors[\"NSE\"]\n",
    "ax.hist(nse.where(nse > -1, -1), bins=100, density=True, label=f\"{target_var}: {nse.median().values:.3f}\", alpha=0.6);\n",
    "ax.axvline(nse.median(), ls=\"--\", alpha=0.5)    \n",
    "plt.set_title(\"\")\n",
    "ax.set_xlim(-1, 1)\n",
    "ax.legend()\n",
    "sns.despine()"
   ]
  },
  {
   "cell_type": "code",
   "execution_count": null,
   "id": "d2c8da31-8eb6-4753-9da5-e88e3462f6a1",
   "metadata": {},
   "outputs": [],
   "source": [
    "from scripts.cell_state.analysis import get_model_weights, plot_weights\n",
    "\n",
    "f, ax = plt.subplots(figsize=(12, 2))\n",
    "w, b = get_model_weights(model)\n",
    "plot_weights(np.abs(w), kwargs={\"vmin\": 0.0, \"vmax\": 0.3}, ax=ax, cbar=False)\n",
    "ax.set_title(f\"Target: {target_var}\")\n",
    "plt.tight_layout()"
   ]
  },
  {
   "cell_type": "code",
   "execution_count": null,
   "id": "f6ccdd18-ebe7-4aab-934b-78ce7b05a8e8",
   "metadata": {},
   "outputs": [],
   "source": []
  },
  {
   "cell_type": "code",
   "execution_count": null,
   "id": "2c05bc7e-92e7-42bc-b035-5ac7d0b68ef6",
   "metadata": {},
   "outputs": [],
   "source": []
  }
 ],
 "metadata": {
  "kernelspec": {
   "display_name": "Python 3",
   "language": "python",
   "name": "python3"
  },
  "language_info": {
   "codemirror_mode": {
    "name": "ipython",
    "version": 3
   },
   "file_extension": ".py",
   "mimetype": "text/x-python",
   "name": "python",
   "nbconvert_exporter": "python",
   "pygments_lexer": "ipython3",
   "version": "3.8.10"
  }
 },
 "nbformat": 4,
 "nbformat_minor": 5
}
