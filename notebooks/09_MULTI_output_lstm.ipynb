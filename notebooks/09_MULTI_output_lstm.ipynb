{
 "cells": [
  {
   "cell_type": "markdown",
   "id": "f7ecd2bc-4938-4c9b-93b9-51b239b81547",
   "metadata": {},
   "source": [
    "# Multi Output LSTM"
   ]
  },
  {
   "cell_type": "code",
   "execution_count": 2,
   "id": "c8ebe98b-fa18-45a4-8b1e-5cd6cdff04e8",
   "metadata": {},
   "outputs": [],
   "source": [
    "from pathlib import Path\n",
    "import numpy as np \n",
    "import xarray as xr \n",
    "import matplotlib.pyplot as plt\n",
    "import seaborn as sns\n",
    "import warnings \n",
    "import pandas as pd\n",
    "import torch \n",
    "\n",
    "import sys\n",
    "sys.path.append(\"/home/tommy/neuralhydrology\")\n",
    "from scripts.read_nh_results import (\n",
    "    get_test_filepath,\n",
    "    get_all_station_ds,\n",
    "    calculate_all_error_metrics,\n",
    "    get_ensemble_path,\n",
    ")\n",
    "\n",
    "from scripts.read_model import (get_model, _load_weights)\n",
    "from scripts.read_nh_results import (read_multi_experiment_results, calculate_member_errors)\n",
    "from neuralhydrology.utils.config import Config\n",
    "\n",
    "%load_ext autoreload \n",
    "%autoreload 2"
   ]
  },
  {
   "cell_type": "markdown",
   "id": "9c25765e-1541-4156-9f95-9ef5be099fbe",
   "metadata": {},
   "source": [
    "# Data"
   ]
  },
  {
   "cell_type": "code",
   "execution_count": 82,
   "id": "0f90a6f2-1dbf-4ec2-a779-d6798d757a9a",
   "metadata": {},
   "outputs": [
    {
     "name": "stderr",
     "output_type": "stream",
     "text": [
      "100%|██████████| 668/668 [00:00<00:00, 1215.04it/s]\n"
     ]
    },
    {
     "name": "stdout",
     "output_type": "stream",
     "text": [
      "Using the model weights from /datadrive/data/runs/discharge_to_ERA5Land_SoilMoisture_1008_181921/model_epoch030.pt\n"
     ]
    },
    {
     "data": {
      "text/plain": [
       "CudaLSTM(\n",
       "  (embedding_net): InputLayer(\n",
       "    (statics_embedding): Identity()\n",
       "    (dynamics_embedding): Identity()\n",
       "  )\n",
       "  (lstm): LSTM(23, 64)\n",
       "  (dropout): Dropout(p=0.4, inplace=False)\n",
       "  (head): Regression(\n",
       "    (net): Sequential(\n",
       "      (0): Linear(in_features=64, out_features=4, bias=True)\n",
       "    )\n",
       "  )\n",
       ")"
      ]
     },
     "execution_count": 82,
     "metadata": {},
     "output_type": "execute_result"
    }
   ],
   "source": [
    "run_dir = Path(\"/datadrive/data/runs/multi_output_sm_discharge_spec_1406_121319\")\n",
    "run_dir = Path(\"/datadrive/data/runs/discharge_to_ERA5Land_SoilMoisture_1008_181921\")\n",
    "\n",
    "# GET config\n",
    "cfg = Config(run_dir / \"config.yml\")\n",
    "cfg.run_dir = run_dir\n",
    "\n",
    "# GET preds\n",
    "res_fp = get_test_filepath(run_dir, epoch=30)\n",
    "preds = get_all_station_ds(res_fp)\n",
    "\n",
    "# GET trained model\n",
    "model = get_model(cfg).to(cfg.device)\n",
    "_load_weights(model, cfg)"
   ]
  },
  {
   "cell_type": "code",
   "execution_count": 83,
   "id": "6e694dae-a674-4e2b-bdf7-6bdb17ffe812",
   "metadata": {},
   "outputs": [
    {
     "data": {
      "text/plain": [
       "['swvl1_obs',\n",
       " 'swvl1_sim',\n",
       " 'swvl2_obs',\n",
       " 'swvl2_sim',\n",
       " 'swvl3_obs',\n",
       " 'swvl3_sim',\n",
       " 'swvl4_obs',\n",
       " 'swvl4_sim']"
      ]
     },
     "execution_count": 83,
     "metadata": {},
     "output_type": "execute_result"
    }
   ],
   "source": [
    "list(preds.data_vars)"
   ]
  },
  {
   "cell_type": "code",
   "execution_count": 88,
   "id": "f833517c-1026-41b8-b73c-9efd15c6a74b",
   "metadata": {},
   "outputs": [
    {
     "name": "stderr",
     "output_type": "stream",
     "text": [
      "Calculating Errors:   1%|          | 4/668 [00:00<00:17, 38.33it/s, 101005]"
     ]
    },
    {
     "name": "stdout",
     "output_type": "stream",
     "text": [
      "4 Variables\n"
     ]
    },
    {
     "name": "stderr",
     "output_type": "stream",
     "text": [
      "Calculating Errors: 100%|██████████| 668/668 [00:13<00:00, 50.68it/s, 97002]\n",
      "Calculating Errors: 100%|██████████| 668/668 [00:13<00:00, 50.41it/s, 97002]\n",
      "Calculating Errors: 100%|██████████| 668/668 [00:13<00:00, 50.61it/s, 97002]\n",
      "Calculating Errors: 100%|██████████| 668/668 [00:13<00:00, 50.34it/s, 97002]\n"
     ]
    }
   ],
   "source": [
    "target_vars = np.unique([\"_\".join(v.split(\"_\")[:-1]) for v in list(preds.data_vars)])\n",
    "print(f\"{len(target_vars)} Variables: {target_vars}\")\n",
    "\n",
    "if not \"errors\" in globals().keys():\n",
    "    all_errors = []\n",
    "    for variable in target_vars:\n",
    "        sm_errors = calculate_all_error_metrics(\n",
    "            preds,\n",
    "            basin_coord=\"station_id\",\n",
    "            time_coord=\"date\",\n",
    "            obs_var=f\"{variable}_obs\",\n",
    "            sim_var=f\"{variable}_sim\",\n",
    "            metrics=[\"NSE\", \"Pearson-r\"],\n",
    "        )\n",
    "        sm_errors = sm_errors.assign_coords({\"member\": [variable]})\n",
    "        all_errors.append(sm_errors)\n",
    "\n",
    "    errors = xr.concat(all_errors, dim=\"member\")"
   ]
  },
  {
   "cell_type": "markdown",
   "id": "44c2f1ae-c868-41f1-af9b-a7e00142dadf",
   "metadata": {},
   "source": [
    "### CAMELS GB"
   ]
  },
  {
   "cell_type": "code",
   "execution_count": 85,
   "id": "a82876fa-e85b-4e7f-aefd-6a70590caa73",
   "metadata": {},
   "outputs": [],
   "source": [
    "from scripts.cell_state.normalize import normalize_xr_by_basin\n",
    "\n",
    "ds = xr.open_dataset(Path(\"/home/tommy/spatio_temporal/data/ALL_dynamic_ds.nc\"))"
   ]
  },
  {
   "cell_type": "code",
   "execution_count": 86,
   "id": "bafa3cab-6852-47d9-a4a6-2da6bb3fd1b7",
   "metadata": {},
   "outputs": [],
   "source": [
    "# unq_vars = np.unique([\"_\".join(v.split(\"_\")[0:-1]) for v in preds.data_vars])\n",
    "from scripts.cell_state.analysis import finite_flat, histogram_plot"
   ]
  },
  {
   "cell_type": "code",
   "execution_count": 87,
   "id": "d6ba9431-c50b-4c53-a045-29d69e0aa8ca",
   "metadata": {},
   "outputs": [
    {
     "data": {
      "text/plain": [
       "<matplotlib.legend.Legend at 0x7f541e59bd60>"
      ]
     },
     "execution_count": 87,
     "metadata": {},
     "output_type": "execute_result"
    },
    {
     "data": {
      "image/png": "[encoded data removed]",
      "text/plain": [
       "<Figure size 864x288 with 1 Axes>"
      ]
     },
     "metadata": {
      "needs_background": "light"
     },
     "output_type": "display_data"
    }
   ],
   "source": [
    "f, ax = plt.subplots(1, 1, figsize=(12, 4))\n",
    "\n",
    "\n",
    "colors = sns.color_palette(\"viridis\", 4)\n",
    "for ix, target_var in enumerate(errors.member.values):\n",
    "    arr = finite_flat(errors[\"NSE\"].sel(member=target_var))\n",
    "    med = np.median(arr)\n",
    "    histogram_plot(np.clip(arr, -1, 1), hist_kwargs={\"color\": colors[ix], \"label\": f\"{target_var}: {med:.2f}\"}, ax=ax)\n",
    "ax.set_title(\"Discharge to Soil Moisture Predictions: What is acheivable from Q -> SM?\")\n",
    "ax.set_xlim(-1, 1)\n",
    "ax.legend()"
   ]
  },
  {
   "cell_type": "markdown",
   "id": "cc0669bf-6b71-41f3-93dc-0ae80f1ad247",
   "metadata": {},
   "source": [
    "# Timeseries"
   ]
  },
  {
   "cell_type": "code",
   "execution_count": null,
   "id": "3c6c3788-a441-4df2-b358-b96b810f9ac1",
   "metadata": {},
   "outputs": [],
   "source": [
    "px = np.random.choice(preds.station_id.values, 1)[0]\n",
    "\n",
    "times = slice(\"04-01-2007\", \"01-01-2008\")\n",
    "\n",
    "f, axs = plt.subplots(4, 1, figsize=(12, 2*4), sharex=True)\n",
    "\n",
    "for ix, member in enumerate(errors.member.values):\n",
    "    ax = axs[ix]\n",
    "    nse = float(errors.sel(station_id=px, member=member)[\"NSE\"])\n",
    "    preds[f\"{member}_obs\"].sel(station_id=px, date=times).plot(ax=ax, color=\"k\", alpha=0.8, ls=\"--\", label=f\"{member} Obs\")\n",
    "    preds[f\"{member}_sim\"].sel(station_id=px, date=times).plot(ax=ax, label=f\"{member} Forecast\", color=colors[ix])\n",
    "    ax.set_title(f\"Station {px} {member} NSE: {nse:.2f}\")\n",
    "\n",
    "plt.tight_layout()"
   ]
  },
  {
   "cell_type": "code",
   "execution_count": null,
   "id": "749e5411-5ec8-42c3-927d-395580f51354",
   "metadata": {},
   "outputs": [],
   "source": []
  },
  {
   "cell_type": "code",
   "execution_count": null,
   "id": "0dcf8f65-abc2-40fc-9e1b-fccbeb85f18a",
   "metadata": {},
   "outputs": [],
   "source": []
  }
 ],
 "metadata": {
  "kernelspec": {
   "display_name": "Python 3",
   "language": "python",
   "name": "python3"
  },
  "language_info": {
   "codemirror_mode": {
    "name": "ipython",
    "version": 3
   },
   "file_extension": ".py",
   "mimetype": "text/x-python",
   "name": "python",
   "nbconvert_exporter": "python",
   "pygments_lexer": "ipython3",
   "version": "3.8.10"
  }
 },
 "nbformat": 4,
 "nbformat_minor": 5
}
