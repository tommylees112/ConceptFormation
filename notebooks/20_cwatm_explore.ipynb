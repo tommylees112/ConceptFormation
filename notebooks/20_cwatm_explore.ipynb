{
 "cells": [
  {
   "cell_type": "markdown",
   "id": "6c5b877c-ae1d-497a-9196-b048316fe6d5",
   "metadata": {},
   "source": [
    "# Explore the CWatM data"
   ]
  },
  {
   "cell_type": "code",
   "execution_count": 2,
   "id": "549eb5ce-fd6f-4345-8357-9fedf14c8bf6",
   "metadata": {},
   "outputs": [],
   "source": [
    "from pathlib import Path\n",
    "import numpy as np \n",
    "import xarray as xr \n",
    "import matplotlib.pyplot as plt\n",
    "import seaborn as sns\n",
    "import warnings \n",
    "import pandas as pd\n",
    "\n",
    "import sys\n",
    "sys.path.append(\"/home/tommy/neuralhydrology\")"
   ]
  },
  {
   "cell_type": "code",
   "execution_count": 4,
   "id": "a316c5f4-a879-4311-9f36-4b3e4d948b62",
   "metadata": {},
   "outputs": [],
   "source": [
    "data_dir = Path(\"/datadrive/data\")\n",
    "cwat_data = data_dir / \"1keurope\""
   ]
  },
  {
   "cell_type": "code",
   "execution_count": 5,
   "id": "70e51d54-7ada-4427-acba-03ce8f3597e7",
   "metadata": {},
   "outputs": [
    {
     "data": {
      "text/plain": [
       "PosixPath('/datadrive/data/1keurope')"
      ]
     },
     "execution_count": 5,
     "metadata": {},
     "output_type": "execute_result"
    }
   ],
   "source": [
    "cwat_data"
   ]
  },
  {
   "cell_type": "code",
   "execution_count": null,
   "id": "cd6717d6-39b4-4889-b85d-7dce14d601f2",
   "metadata": {},
   "outputs": [],
   "source": []
  }
 ],
 "metadata": {
  "kernelspec": {
   "display_name": "Python 3",
   "language": "python",
   "name": "python3"
  },
  "language_info": {
   "codemirror_mode": {
    "name": "ipython",
    "version": 3
   },
   "file_extension": ".py",
   "mimetype": "text/x-python",
   "name": "python",
   "nbconvert_exporter": "python",
   "pygments_lexer": "ipython3",
   "version": "3.8.10"
  }
 },
 "nbformat": 4,
 "nbformat_minor": 5
}
