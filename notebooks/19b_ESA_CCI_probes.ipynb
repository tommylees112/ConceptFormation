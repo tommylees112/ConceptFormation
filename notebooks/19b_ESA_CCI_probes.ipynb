{
 "cells": [
  {
   "cell_type": "markdown",
   "id": "2c0622b3-df1d-4ba2-9ca3-b0fdd98519ac",
   "metadata": {},
   "source": [
    "# ESA CCI SM Probes"
   ]
  },
  {
   "cell_type": "code",
   "execution_count": 1,
   "id": "53cb7800-0d55-492d-b821-ab3108e0d9c0",
   "metadata": {},
   "outputs": [],
   "source": [
    "from pathlib import Path\n",
    "import numpy as np \n",
    "import xarray as xr \n",
    "import matplotlib.pyplot as plt\n",
    "import seaborn as sns\n",
    "import warnings \n",
    "import pandas as pd\n",
    "\n",
    "import sys\n",
    "sys.path.append(\"/home/tommy/neuralhydrology\")\n",
    "from scripts.read_nh_results import (\n",
    "    get_test_filepath,\n",
    "    get_all_station_ds,\n",
    "    calculate_all_error_metrics,\n",
    "    get_ensemble_path,\n",
    ")\n",
    "\n",
    "from scripts.read_model import (get_model, _load_weights)\n",
    "from scripts.read_nh_results import (read_multi_experiment_results, calculate_member_errors)\n",
    "from neuralhydrology.utils.config import Config\n",
    "\n",
    "%load_ext autoreload\n",
    "%autoreload 2"
   ]
  },
  {
   "cell_type": "code",
   "execution_count": 2,
   "id": "7675b53a-c049-4f42-816f-1dce73173cef",
   "metadata": {},
   "outputs": [],
   "source": [
    "PER_BASIN = False\n",
    "data_dir = Path(\"/datadrive/data\")\n",
    "run_dir = data_dir / \"runs/complexity_AZURE/hs_064_0306_205514\"\n",
    "out_dir = run_dir / \"cell_states\"\n",
    "cfg = Config(run_dir / \"config.yml\")"
   ]
  },
  {
   "cell_type": "code",
   "execution_count": 3,
   "id": "85a8f23a-ed1b-4f78-8751-2bf8b7a60ec3",
   "metadata": {},
   "outputs": [],
   "source": [
    "import geopandas as gpd\n",
    "from scripts.geospatial import initialise_gb_spatial_plot, load_latlon_points\n",
    "from mpl_toolkits.axes_grid1 import make_axes_locatable\n",
    "\n",
    "st_data_dir = data_dir\n",
    "points = load_latlon_points(st_data_dir)\n",
    "static = xr.open_dataset(st_data_dir / \"camels_static.nc\")\n",
    "\n",
    "ds = xr.open_dataset(data_dir / \"RUNOFF/ALL_dynamic_ds.nc\")"
   ]
  },
  {
   "cell_type": "markdown",
   "id": "1766d738-1fdc-4fa5-bed6-7417b937cfe5",
   "metadata": {},
   "source": [
    "# Input / Target Data"
   ]
  },
  {
   "cell_type": "code",
   "execution_count": 4,
   "id": "7ce3b36e-9a7e-4c77-b251-3c98120e9664",
   "metadata": {},
   "outputs": [],
   "source": [
    "from scripts.cell_state.utils import (\n",
    "    read_basin_list, \n",
    "    get_train_test_cell_states, \n",
    "    normalize_and_convert_dimension_to_variable_for_cell_state_data, \n",
    "    create_train_test_default_dict_for_all_target_vars, \n",
    "    train_and_evaluate_models\n",
    ")"
   ]
  },
  {
   "cell_type": "markdown",
   "id": "efa56e71-9054-4403-b2d7-dead76105a28",
   "metadata": {},
   "source": [
    "## Get training/test dataset"
   ]
  },
  {
   "cell_type": "code",
   "execution_count": 5,
   "id": "2db5177d-2065-4c72-a73d-03fda73ca0bf",
   "metadata": {},
   "outputs": [
    {
     "name": "stdout",
     "output_type": "stream",
     "text": [
      "Out of Sample: False\n"
     ]
    }
   ],
   "source": [
    "ds = xr.open_dataset(data_dir / \"RUNOFF/ALL_dynamic_ds.nc\")\n",
    "\n",
    "train_sids = read_basin_list(cfg.train_basin_file)\n",
    "test_sids = read_basin_list(cfg.test_basin_file)\n",
    "train_ds = ds.sel(time=slice(cfg.train_start_date, cfg.train_end_date), station_id=np.isin(ds.station_id, train_sids.station_id))\n",
    "test_ds = ds.sel(time=slice(cfg.test_start_date, cfg.test_end_date), station_id=np.isin(ds.station_id, test_sids.station_id))\n",
    "\n",
    "out_of_sample = not all(np.isin(test_sids, train_sids))\n",
    "print(f\"Out of Sample: {not all(np.isin(test_sids, train_sids))}\")"
   ]
  },
  {
   "cell_type": "markdown",
   "id": "e7bc814d-c46d-462e-aec9-2a26b03e6e51",
   "metadata": {},
   "source": [
    "## Probe the basins"
   ]
  },
  {
   "cell_type": "code",
   "execution_count": 6,
   "id": "a879b4a0-d9a5-41fd-b411-2aed185da190",
   "metadata": {
    "tags": []
   },
   "outputs": [],
   "source": [
    "import warnings\n",
    "warnings.simplefilter(action='ignore', category=FutureWarning)\n",
    "\n",
    "train_cn, test_cn = get_train_test_cell_states(run_dir, cfg)"
   ]
  },
  {
   "cell_type": "markdown",
   "id": "18d32c7f-3ecb-4918-9590-42772e8a246f",
   "metadata": {},
   "source": [
    "# Normalisation strategy - global or local?"
   ]
  },
  {
   "cell_type": "code",
   "execution_count": 7,
   "id": "3ffa9018-1a28-453a-829e-fd971cf26cf9",
   "metadata": {},
   "outputs": [],
   "source": [
    "cn = xr.concat([train_cn, test_cn], dim=\"date\")\n",
    "cn_station_mean_ = train_cn.mean(dim=\"date\")\n",
    "cn_station_std_ = train_cn.std(dim=\"date\")\n",
    "station_norm_cn = (cn - cn_station_mean_) / cn_station_std_"
   ]
  },
  {
   "cell_type": "code",
   "execution_count": 8,
   "id": "cc81bfc9-197c-4db3-b05f-ae3134fb9c20",
   "metadata": {},
   "outputs": [
    {
     "name": "stdout",
     "output_type": "stream",
     "text": [
      "Calculating Normalisation for `train` data: global\n",
      "Calculating Normalisation for `test` data: global\n",
      "DONE\n"
     ]
    }
   ],
   "source": [
    "from scripts.cell_state.utils import normalize_and_convert_dimension_to_variable_for_cell_state_data\n",
    "\n",
    "\n",
    "train_cs, (mean_, std_) = normalize_and_convert_dimension_to_variable_for_cell_state_data(\n",
    "    cn=train_cn,\n",
    "    out_dir=out_dir, \n",
    "    per_basin=PER_BASIN,\n",
    "    train_test=\"train\",\n",
    "    time_dim=\"date\",\n",
    "    reload=True\n",
    ")\n",
    "\n",
    "test_cs, (mean_, std_) = normalize_and_convert_dimension_to_variable_for_cell_state_data(\n",
    "    cn=test_cn,\n",
    "    out_dir=out_dir, \n",
    "    per_basin=PER_BASIN,\n",
    "    train_test=\"test\",\n",
    "    time_dim=\"date\",\n",
    "    reload=True,\n",
    "    mean_=mean_,\n",
    "    std_=std_\n",
    ")\n",
    "\n",
    "print(\"DONE\")"
   ]
  },
  {
   "cell_type": "code",
   "execution_count": 9,
   "id": "360790c2-d9b9-42c8-a648-12f814ccd2bc",
   "metadata": {},
   "outputs": [],
   "source": [
    "train_cs[\"station_id\"] = train_cs[\"station_id\"].astype(int)\n",
    "test_cs[\"station_id\"] = test_cs[\"station_id\"].astype(int)\n",
    "\n",
    "train_cs = train_cs if (not \"date\" in train_cs.coords) else train_cs.rename({\"date\": \"time\"})\n",
    "test_cs = test_cs if (not \"date\" in test_cs.coords) else test_cs.rename({\"date\": \"time\"})"
   ]
  },
  {
   "cell_type": "markdown",
   "id": "f3b1027b-a267-4e31-a2ab-7a8ab040d92b",
   "metadata": {},
   "source": [
    "# Target Data"
   ]
  },
  {
   "cell_type": "code",
   "execution_count": 10,
   "id": "9328cfe0-6fae-40f8-850b-e3f71f25c2de",
   "metadata": {},
   "outputs": [],
   "source": [
    "TARGET = \"ESA\""
   ]
  },
  {
   "cell_type": "code",
   "execution_count": 11,
   "id": "d73b21a1-d39a-42dc-a3ed-e2f9a9932ee9",
   "metadata": {
    "scrolled": true,
    "tags": []
   },
   "outputs": [],
   "source": [
    "from scripts.cell_state.normalize import normalize_2d_dataset\n",
    "\n",
    "\n",
    "if TARGET == \"ERA5\":\n",
    "    filepath = data_dir / \"camels_basin_ERA5Land_sm.nc\"\n",
    "    era5_ds = xr.open_dataset(filepath)\n",
    "\n",
    "    if not isinstance(era5_ds, xr.Dataset):\n",
    "        era5_ds = era5_ds.to_dataset()\n",
    "\n",
    "    if not PER_BASIN:\n",
    "        target_mean = era5_ds.mean()\n",
    "        target_std = era5_ds.std()\n",
    "        era5_ds = (era5_ds - target_mean) / target_std\n",
    "    else:\n",
    "        for var in era5_ds.data_vars:\n",
    "            era5_ds[var] = normalize_2d_dataset(era5_ds, variable_str=var, per_basin=PER_BASIN)\n",
    "\n",
    "    era5_ds[\"station_id\"] = era5_ds[\"station_id\"].astype(int)\n",
    "\n",
    "    # NOT for snow depth ..?\n",
    "    era5_ds = era5_ds.drop(\"sd\")\n",
    "    target_ds = era5_ds\n",
    "\n",
    "elif TARGET == \"ESA\":\n",
    "    filepath = data_dir / \"SOIL_MOISTURE/interp_full_timeseries_esa_cci_sm.nc\"\n",
    "    esa_ds = xr.open_dataset(filepath).drop(\"spatial_ref\")\n",
    "    if not isinstance(esa_ds, xr.Dataset):\n",
    "        esa_ds = esa_ds.to_dataset()\n",
    "    \n",
    "    if not PER_BASIN:\n",
    "        target_mean = esa_ds.mean()\n",
    "        target_std = esa_ds.std()\n",
    "        esa_ds = (esa_ds - target_mean) / target_std\n",
    "    else:\n",
    "        for var in esa_ds.data_vars:\n",
    "            esa_ds[var] = normalize_2d_dataset(esa_ds, variable_str=var, per_basin=PER_BASIN)\n",
    "\n",
    "    esa_ds[\"station_id\"] = esa_ds[\"station_id\"].astype(int)\n",
    "    target_ds = esa_ds\n",
    "else:\n",
    "    assert False\n",
    "    "
   ]
  },
  {
   "cell_type": "code",
   "execution_count": 12,
   "id": "34a5d1ee-35a6-44ab-acde-2592fac9f5c9",
   "metadata": {},
   "outputs": [],
   "source": [
    "if TARGET == \"ESA\":\n",
    "    target_ds = target_ds[[\"7_day_smooth_sm\"]]\n",
    "    orig_target_ds = esa_ds[[\"sm\"]]"
   ]
  },
  {
   "cell_type": "code",
   "execution_count": 13,
   "id": "8950f9c5-2007-4cbf-95ed-abffea18c44d",
   "metadata": {},
   "outputs": [
    {
     "data": {
      "text/html": [
       "<div><svg style=\"position: absolute; width: 0; height: 0; overflow: hidden\">\n",
       "<defs>\n",
       "<symbol id=\"icon-database\" viewBox=\"0 0 32 32\">\n",
       "<path d=\"M16 0c-8.837 0-16 2.239-16 5v4c0 2.761 7.163 5 16 5s16-2.239 16-5v-4c0-2.761-7.163-5-16-5z\"></path>\n",
       "<path d=\"M16 17c-8.837 0-16-2.239-16-5v6c0 2.761 7.163 5 16 5s16-2.239 16-5v-6c0 2.761-7.163 5-16 5z\"></path>\n",
       "<path d=\"M16 26c-8.837 0-16-2.239-16-5v6c0 2.761 7.163 5 16 5s16-2.239 16-5v-6c0 2.761-7.163 5-16 5z\"></path>\n",
       "</symbol>\n",
       "<symbol id=\"icon-file-text2\" viewBox=\"0 0 32 32\">\n",
       "<path d=\"M28.681 7.159c-0.694-0.947-1.662-2.053-2.724-3.116s-2.169-2.030-3.116-2.724c-1.612-1.182-2.393-1.319-2.841-1.319h-15.5c-1.378 0-2.5 1.121-2.5 2.5v27c0 1.378 1.122 2.5 2.5 2.5h23c1.378 0 2.5-1.122 2.5-2.5v-19.5c0-0.448-0.137-1.23-1.319-2.841zM24.543 5.457c0.959 0.959 1.712 1.825 2.268 2.543h-4.811v-4.811c0.718 0.556 1.584 1.309 2.543 2.268zM28 29.5c0 0.271-0.229 0.5-0.5 0.5h-23c-0.271 0-0.5-0.229-0.5-0.5v-27c0-0.271 0.229-0.5 0.5-0.5 0 0 15.499-0 15.5 0v7c0 0.552 0.448 1 1 1h7v19.5z\"></path>\n",
       "<path d=\"M23 26h-14c-0.552 0-1-0.448-1-1s0.448-1 1-1h14c0.552 0 1 0.448 1 1s-0.448 1-1 1z\"></path>\n",
       "<path d=\"M23 22h-14c-0.552 0-1-0.448-1-1s0.448-1 1-1h14c0.552 0 1 0.448 1 1s-0.448 1-1 1z\"></path>\n",
       "<path d=\"M23 18h-14c-0.552 0-1-0.448-1-1s0.448-1 1-1h14c0.552 0 1 0.448 1 1s-0.448 1-1 1z\"></path>\n",
       "</symbol>\n",
       "</defs>\n",
       "</svg>\n",
       "<style>/* CSS stylesheet for displaying xarray objects in jupyterlab.\n",
       " *\n",
       " */\n",
       "\n",
       ":root {\n",
       "  --xr-font-color0: var(--jp-content-font-color0, rgba(0, 0, 0, 1));\n",
       "  --xr-font-color2: var(--jp-content-font-color2, rgba(0, 0, 0, 0.54));\n",
       "  --xr-font-color3: var(--jp-content-font-color3, rgba(0, 0, 0, 0.38));\n",
       "  --xr-border-color: var(--jp-border-color2, #e0e0e0);\n",
       "  --xr-disabled-color: var(--jp-layout-color3, #bdbdbd);\n",
       "  --xr-background-color: var(--jp-layout-color0, white);\n",
       "  --xr-background-color-row-even: var(--jp-layout-color1, white);\n",
       "  --xr-background-color-row-odd: var(--jp-layout-color2, #eeeeee);\n",
       "}\n",
       "\n",
       "html[theme=dark],\n",
       "body.vscode-dark {\n",
       "  --xr-font-color0: rgba(255, 255, 255, 1);\n",
       "  --xr-font-color2: rgba(255, 255, 255, 0.54);\n",
       "  --xr-font-color3: rgba(255, 255, 255, 0.38);\n",
       "  --xr-border-color: #1F1F1F;\n",
       "  --xr-disabled-color: #515151;\n",
       "  --xr-background-color: #111111;\n",
       "  --xr-background-color-row-even: #111111;\n",
       "  --xr-background-color-row-odd: #313131;\n",
       "}\n",
       "\n",
       ".xr-wrap {\n",
       "  display: block;\n",
       "  min-width: 300px;\n",
       "  max-width: 700px;\n",
       "}\n",
       "\n",
       ".xr-text-repr-fallback {\n",
       "  /* fallback to plain text repr when CSS is not injected (untrusted notebook) */\n",
       "  display: none;\n",
       "}\n",
       "\n",
       ".xr-header {\n",
       "  padding-top: 6px;\n",
       "  padding-bottom: 6px;\n",
       "  margin-bottom: 4px;\n",
       "  border-bottom: solid 1px var(--xr-border-color);\n",
       "}\n",
       "\n",
       ".xr-header > div,\n",
       ".xr-header > ul {\n",
       "  display: inline;\n",
       "  margin-top: 0;\n",
       "  margin-bottom: 0;\n",
       "}\n",
       "\n",
       ".xr-obj-type,\n",
       ".xr-array-name {\n",
       "  margin-left: 2px;\n",
       "  margin-right: 10px;\n",
       "}\n",
       "\n",
       ".xr-obj-type {\n",
       "  color: var(--xr-font-color2);\n",
       "}\n",
       "\n",
       ".xr-sections {\n",
       "  padding-left: 0 !important;\n",
       "  display: grid;\n",
       "  grid-template-columns: 150px auto auto 1fr 20px 20px;\n",
       "}\n",
       "\n",
       ".xr-section-item {\n",
       "  display: contents;\n",
       "}\n",
       "\n",
       ".xr-section-item input {\n",
       "  display: none;\n",
       "}\n",
       "\n",
       ".xr-section-item input + label {\n",
       "  color: var(--xr-disabled-color);\n",
       "}\n",
       "\n",
       ".xr-section-item input:enabled + label {\n",
       "  cursor: pointer;\n",
       "  color: var(--xr-font-color2);\n",
       "}\n",
       "\n",
       ".xr-section-item input:enabled + label:hover {\n",
       "  color: var(--xr-font-color0);\n",
       "}\n",
       "\n",
       ".xr-section-summary {\n",
       "  grid-column: 1;\n",
       "  color: var(--xr-font-color2);\n",
       "  font-weight: 500;\n",
       "}\n",
       "\n",
       ".xr-section-summary > span {\n",
       "  display: inline-block;\n",
       "  padding-left: 0.5em;\n",
       "}\n",
       "\n",
       ".xr-section-summary-in:disabled + label {\n",
       "  color: var(--xr-font-color2);\n",
       "}\n",
       "\n",
       ".xr-section-summary-in + label:before {\n",
       "  display: inline-block;\n",
       "  content: '►';\n",
       "  font-size: 11px;\n",
       "  width: 15px;\n",
       "  text-align: center;\n",
       "}\n",
       "\n",
       ".xr-section-summary-in:disabled + label:before {\n",
       "  color: var(--xr-disabled-color);\n",
       "}\n",
       "\n",
       ".xr-section-summary-in:checked + label:before {\n",
       "  content: '▼';\n",
       "}\n",
       "\n",
       ".xr-section-summary-in:checked + label > span {\n",
       "  display: none;\n",
       "}\n",
       "\n",
       ".xr-section-summary,\n",
       ".xr-section-inline-details {\n",
       "  padding-top: 4px;\n",
       "  padding-bottom: 4px;\n",
       "}\n",
       "\n",
       ".xr-section-inline-details {\n",
       "  grid-column: 2 / -1;\n",
       "}\n",
       "\n",
       ".xr-section-details {\n",
       "  display: none;\n",
       "  grid-column: 1 / -1;\n",
       "  margin-bottom: 5px;\n",
       "}\n",
       "\n",
       ".xr-section-summary-in:checked ~ .xr-section-details {\n",
       "  display: contents;\n",
       "}\n",
       "\n",
       ".xr-array-wrap {\n",
       "  grid-column: 1 / -1;\n",
       "  display: grid;\n",
       "  grid-template-columns: 20px auto;\n",
       "}\n",
       "\n",
       ".xr-array-wrap > label {\n",
       "  grid-column: 1;\n",
       "  vertical-align: top;\n",
       "}\n",
       "\n",
       ".xr-preview {\n",
       "  color: var(--xr-font-color3);\n",
       "}\n",
       "\n",
       ".xr-array-preview,\n",
       ".xr-array-data {\n",
       "  padding: 0 5px !important;\n",
       "  grid-column: 2;\n",
       "}\n",
       "\n",
       ".xr-array-data,\n",
       ".xr-array-in:checked ~ .xr-array-preview {\n",
       "  display: none;\n",
       "}\n",
       "\n",
       ".xr-array-in:checked ~ .xr-array-data,\n",
       ".xr-array-preview {\n",
       "  display: inline-block;\n",
       "}\n",
       "\n",
       ".xr-dim-list {\n",
       "  display: inline-block !important;\n",
       "  list-style: none;\n",
       "  padding: 0 !important;\n",
       "  margin: 0;\n",
       "}\n",
       "\n",
       ".xr-dim-list li {\n",
       "  display: inline-block;\n",
       "  padding: 0;\n",
       "  margin: 0;\n",
       "}\n",
       "\n",
       ".xr-dim-list:before {\n",
       "  content: '(';\n",
       "}\n",
       "\n",
       ".xr-dim-list:after {\n",
       "  content: ')';\n",
       "}\n",
       "\n",
       ".xr-dim-list li:not(:last-child):after {\n",
       "  content: ',';\n",
       "  padding-right: 5px;\n",
       "}\n",
       "\n",
       ".xr-has-index {\n",
       "  font-weight: bold;\n",
       "}\n",
       "\n",
       ".xr-var-list,\n",
       ".xr-var-item {\n",
       "  display: contents;\n",
       "}\n",
       "\n",
       ".xr-var-item > div,\n",
       ".xr-var-item label,\n",
       ".xr-var-item > .xr-var-name span {\n",
       "  background-color: var(--xr-background-color-row-even);\n",
       "  margin-bottom: 0;\n",
       "}\n",
       "\n",
       ".xr-var-item > .xr-var-name:hover span {\n",
       "  padding-right: 5px;\n",
       "}\n",
       "\n",
       ".xr-var-list > li:nth-child(odd) > div,\n",
       ".xr-var-list > li:nth-child(odd) > label,\n",
       ".xr-var-list > li:nth-child(odd) > .xr-var-name span {\n",
       "  background-color: var(--xr-background-color-row-odd);\n",
       "}\n",
       "\n",
       ".xr-var-name {\n",
       "  grid-column: 1;\n",
       "}\n",
       "\n",
       ".xr-var-dims {\n",
       "  grid-column: 2;\n",
       "}\n",
       "\n",
       ".xr-var-dtype {\n",
       "  grid-column: 3;\n",
       "  text-align: right;\n",
       "  color: var(--xr-font-color2);\n",
       "}\n",
       "\n",
       ".xr-var-preview {\n",
       "  grid-column: 4;\n",
       "}\n",
       "\n",
       ".xr-var-name,\n",
       ".xr-var-dims,\n",
       ".xr-var-dtype,\n",
       ".xr-preview,\n",
       ".xr-attrs dt {\n",
       "  white-space: nowrap;\n",
       "  overflow: hidden;\n",
       "  text-overflow: ellipsis;\n",
       "  padding-right: 10px;\n",
       "}\n",
       "\n",
       ".xr-var-name:hover,\n",
       ".xr-var-dims:hover,\n",
       ".xr-var-dtype:hover,\n",
       ".xr-attrs dt:hover {\n",
       "  overflow: visible;\n",
       "  width: auto;\n",
       "  z-index: 1;\n",
       "}\n",
       "\n",
       ".xr-var-attrs,\n",
       ".xr-var-data {\n",
       "  display: none;\n",
       "  background-color: var(--xr-background-color) !important;\n",
       "  padding-bottom: 5px !important;\n",
       "}\n",
       "\n",
       ".xr-var-attrs-in:checked ~ .xr-var-attrs,\n",
       ".xr-var-data-in:checked ~ .xr-var-data {\n",
       "  display: block;\n",
       "}\n",
       "\n",
       ".xr-var-data > table {\n",
       "  float: right;\n",
       "}\n",
       "\n",
       ".xr-var-name span,\n",
       ".xr-var-data,\n",
       ".xr-attrs {\n",
       "  padding-left: 25px !important;\n",
       "}\n",
       "\n",
       ".xr-attrs,\n",
       ".xr-var-attrs,\n",
       ".xr-var-data {\n",
       "  grid-column: 1 / -1;\n",
       "}\n",
       "\n",
       "dl.xr-attrs {\n",
       "  padding: 0;\n",
       "  margin: 0;\n",
       "  display: grid;\n",
       "  grid-template-columns: 125px auto;\n",
       "}\n",
       "\n",
       ".xr-attrs dt,\n",
       ".xr-attrs dd {\n",
       "  padding: 0;\n",
       "  margin: 0;\n",
       "  float: left;\n",
       "  padding-right: 10px;\n",
       "  width: auto;\n",
       "}\n",
       "\n",
       ".xr-attrs dt {\n",
       "  font-weight: normal;\n",
       "  grid-column: 1;\n",
       "}\n",
       "\n",
       ".xr-attrs dt:hover span {\n",
       "  display: inline-block;\n",
       "  background: var(--xr-background-color);\n",
       "  padding-right: 10px;\n",
       "}\n",
       "\n",
       ".xr-attrs dd {\n",
       "  grid-column: 2;\n",
       "  white-space: pre-wrap;\n",
       "  word-break: break-all;\n",
       "}\n",
       "\n",
       ".xr-icon-database,\n",
       ".xr-icon-file-text2 {\n",
       "  display: inline-block;\n",
       "  vertical-align: middle;\n",
       "  width: 1em;\n",
       "  height: 1.5em !important;\n",
       "  stroke-width: 0;\n",
       "  stroke: currentColor;\n",
       "  fill: currentColor;\n",
       "}\n",
       "</style><pre class='xr-text-repr-fallback'>&lt;xarray.Dataset&gt;\n",
       "Dimensions:          (station_id: 670, time: 15036)\n",
       "Coordinates:\n",
       "  * time             (time) datetime64[ns] 1978-11-01 1978-11-02 ... 2019-12-31\n",
       "  * station_id       (station_id) int64 10002 10003 1001 ... 96002 96004 97002\n",
       "Data variables:\n",
       "    7_day_smooth_sm  (station_id, time) float64 nan nan nan ... 0.7043 0.7526</pre><div class='xr-wrap' hidden><div class='xr-header'><div class='xr-obj-type'>xarray.Dataset</div></div><ul class='xr-sections'><li class='xr-section-item'><input id='section-613e5478-40cf-4025-a678-6b3151408d4d' class='xr-section-summary-in' type='checkbox' disabled ><label for='section-613e5478-40cf-4025-a678-6b3151408d4d' class='xr-section-summary'  title='Expand/collapse section'>Dimensions:</label><div class='xr-section-inline-details'><ul class='xr-dim-list'><li><span class='xr-has-index'>station_id</span>: 670</li><li><span class='xr-has-index'>time</span>: 15036</li></ul></div><div class='xr-section-details'></div></li><li class='xr-section-item'><input id='section-ca16cc07-157d-4e87-a23b-82140990f436' class='xr-section-summary-in' type='checkbox'  checked><label for='section-ca16cc07-157d-4e87-a23b-82140990f436' class='xr-section-summary' >Coordinates: <span>(2)</span></label><div class='xr-section-inline-details'></div><div class='xr-section-details'><ul class='xr-var-list'><li class='xr-var-item'><div class='xr-var-name'><span class='xr-has-index'>time</span></div><div class='xr-var-dims'>(time)</div><div class='xr-var-dtype'>datetime64[ns]</div><div class='xr-var-preview xr-preview'>1978-11-01 ... 2019-12-31</div><input id='attrs-f2020889-c424-46d0-85ef-e70d27e51aca' class='xr-var-attrs-in' type='checkbox' disabled><label for='attrs-f2020889-c424-46d0-85ef-e70d27e51aca' title='Show/Hide attributes'><svg class='icon xr-icon-file-text2'><use xlink:href='#icon-file-text2'></use></svg></label><input id='data-b01b943a-407b-491f-b27c-ebda85f40182' class='xr-var-data-in' type='checkbox'><label for='data-b01b943a-407b-491f-b27c-ebda85f40182' title='Show/Hide data repr'><svg class='icon xr-icon-database'><use xlink:href='#icon-database'></use></svg></label><div class='xr-var-attrs'><dl class='xr-attrs'></dl></div><div class='xr-var-data'><pre>array([&#x27;1978-11-01T00:00:00.000000000&#x27;, &#x27;1978-11-02T00:00:00.000000000&#x27;,\n",
       "       &#x27;1978-11-03T00:00:00.000000000&#x27;, ..., &#x27;2019-12-29T00:00:00.000000000&#x27;,\n",
       "       &#x27;2019-12-30T00:00:00.000000000&#x27;, &#x27;2019-12-31T00:00:00.000000000&#x27;],\n",
       "      dtype=&#x27;datetime64[ns]&#x27;)</pre></div></li><li class='xr-var-item'><div class='xr-var-name'><span class='xr-has-index'>station_id</span></div><div class='xr-var-dims'>(station_id)</div><div class='xr-var-dtype'>int64</div><div class='xr-var-preview xr-preview'>10002 10003 1001 ... 96004 97002</div><input id='attrs-f03ceb20-4693-4ab8-b6ec-bed465cf967b' class='xr-var-attrs-in' type='checkbox' disabled><label for='attrs-f03ceb20-4693-4ab8-b6ec-bed465cf967b' title='Show/Hide attributes'><svg class='icon xr-icon-file-text2'><use xlink:href='#icon-file-text2'></use></svg></label><input id='data-3130e1f4-c33c-4bc4-86f2-15a7fa846eb2' class='xr-var-data-in' type='checkbox'><label for='data-3130e1f4-c33c-4bc4-86f2-15a7fa846eb2' title='Show/Hide data repr'><svg class='icon xr-icon-database'><use xlink:href='#icon-database'></use></svg></label><div class='xr-var-attrs'><dl class='xr-attrs'></dl></div><div class='xr-var-data'><pre>array([10002, 10003,  1001, ..., 96002, 96004, 97002])</pre></div></li></ul></div></li><li class='xr-section-item'><input id='section-406004ad-93df-4053-8213-3d702c8cc89f' class='xr-section-summary-in' type='checkbox'  checked><label for='section-406004ad-93df-4053-8213-3d702c8cc89f' class='xr-section-summary' >Data variables: <span>(1)</span></label><div class='xr-section-inline-details'></div><div class='xr-section-details'><ul class='xr-var-list'><li class='xr-var-item'><div class='xr-var-name'><span>7_day_smooth_sm</span></div><div class='xr-var-dims'>(station_id, time)</div><div class='xr-var-dtype'>float64</div><div class='xr-var-preview xr-preview'>nan nan nan ... 0.7043 0.7526</div><input id='attrs-73d6da89-3a25-42ac-98b8-037980cd0ec9' class='xr-var-attrs-in' type='checkbox' disabled><label for='attrs-73d6da89-3a25-42ac-98b8-037980cd0ec9' title='Show/Hide attributes'><svg class='icon xr-icon-file-text2'><use xlink:href='#icon-file-text2'></use></svg></label><input id='data-bbf13084-d0f6-4da0-a87e-d119ea904c5e' class='xr-var-data-in' type='checkbox'><label for='data-bbf13084-d0f6-4da0-a87e-d119ea904c5e' title='Show/Hide data repr'><svg class='icon xr-icon-database'><use xlink:href='#icon-database'></use></svg></label><div class='xr-var-attrs'><dl class='xr-attrs'></dl></div><div class='xr-var-data'><pre>array([[       nan,        nan,        nan, ..., 0.03482824, 0.09208962,\n",
       "        0.18539836],\n",
       "       [       nan,        nan,        nan, ..., 0.19524899, 0.23636653,\n",
       "        0.29955172],\n",
       "       [       nan,        nan,        nan, ..., 2.76261906, 2.76250582,\n",
       "        2.76239257],\n",
       "       ...,\n",
       "       [       nan,        nan,        nan, ..., 0.19455   , 0.39652018,\n",
       "        0.46310268],\n",
       "       [       nan,        nan,        nan, ..., 0.51294232, 0.70771099,\n",
       "        0.82589036],\n",
       "       [       nan,        nan,        nan, ..., 0.6194904 , 0.70426136,\n",
       "        0.75264055]])</pre></div></li></ul></div></li><li class='xr-section-item'><input id='section-b998716b-4979-4743-955d-b130ecf0cade' class='xr-section-summary-in' type='checkbox' disabled ><label for='section-b998716b-4979-4743-955d-b130ecf0cade' class='xr-section-summary'  title='Expand/collapse section'>Attributes: <span>(0)</span></label><div class='xr-section-inline-details'></div><div class='xr-section-details'><dl class='xr-attrs'></dl></div></li></ul></div></div>"
      ],
      "text/plain": [
       "<xarray.Dataset>\n",
       "Dimensions:          (station_id: 670, time: 15036)\n",
       "Coordinates:\n",
       "  * time             (time) datetime64[ns] 1978-11-01 1978-11-02 ... 2019-12-31\n",
       "  * station_id       (station_id) int64 10002 10003 1001 ... 96002 96004 97002\n",
       "Data variables:\n",
       "    7_day_smooth_sm  (station_id, time) float64 nan nan nan ... 0.7043 0.7526"
      ]
     },
     "execution_count": 13,
     "metadata": {},
     "output_type": "execute_result"
    }
   ],
   "source": [
    "target_ds"
   ]
  },
  {
   "cell_type": "markdown",
   "id": "7fa16d67-bf50-4b08-88fc-e839ff4002f1",
   "metadata": {},
   "source": [
    "# Probes Train"
   ]
  },
  {
   "cell_type": "code",
   "execution_count": 14,
   "id": "ef894e52-d520-406f-9814-e12d9b120b85",
   "metadata": {},
   "outputs": [],
   "source": [
    "train_target_ds = target_ds.sel(station_id=np.isin(target_ds.station_id, train_cs.station_id), time=np.isin(target_ds.time, train_cs.time))\n",
    "test_target_ds = target_ds.sel(station_id=np.isin(target_ds.station_id, test_cs.station_id), time=np.isin(target_ds.time, test_cs.time))\n",
    "\n",
    "input_variables = list(train_cs.data_vars)\n",
    "seq_length = 1\n",
    "basin_dim = \"station_id\"\n",
    "time_dim = \"time\""
   ]
  },
  {
   "cell_type": "code",
   "execution_count": 15,
   "id": "3172544c-5fa7-4122-9c0e-a0ee94a6e0ea",
   "metadata": {},
   "outputs": [
    {
     "name": "stdout",
     "output_type": "stream",
     "text": [
      "** STARTING 7_day_smooth_sm **\n"
     ]
    },
    {
     "name": "stderr",
     "output_type": "stream",
     "text": [
      "Creating Train Samples: 100%|██████████| 668/668 [00:12<00:00, 52.96it/s]\n",
      "Creating Test Samples: 100%|██████████| 668/668 [00:08<00:00, 82.50it/s]\n",
      "Extracting Data: 100%|██████████| 16424/16424 [02:03<00:00, 133.28it/s]\n"
     ]
    },
    {
     "name": "stdout",
     "output_type": "stream",
     "text": [
      "Merging and reshaping arrays\n"
     ]
    },
    {
     "name": "stderr",
     "output_type": "stream",
     "text": [
      "Extracting Data: 100%|██████████| 10482/10482 [01:16<00:00, 137.10it/s]\n"
     ]
    },
    {
     "name": "stdout",
     "output_type": "stream",
     "text": [
      "Merging and reshaping arrays\n"
     ]
    }
   ],
   "source": [
    "all_train_test = create_train_test_default_dict_for_all_target_vars(\n",
    "    train_cs=train_cs,\n",
    "    test_cs=test_cs,\n",
    "    train_target_ds=train_target_ds,\n",
    "    test_target_ds=test_target_ds,\n",
    "    input_variables=input_variables,\n",
    ")"
   ]
  },
  {
   "cell_type": "code",
   "execution_count": 16,
   "id": "86f8966d-fd12-42de-aa91-48cbfa89d23d",
   "metadata": {
    "scrolled": true,
    "tags": []
   },
   "outputs": [
    {
     "name": "stdout",
     "output_type": "stream",
     "text": [
      "** 7_day_smooth_sm linear model **\n",
      "-- Epoch 1\n",
      "Norm: 0.56, NNZs: 34, Bias: -0.171983, T: 3783967, Avg. loss: 0.051959\n",
      "Total training time: 3.10 seconds.\n",
      "-- Epoch 2\n",
      "Norm: 0.56, NNZs: 36, Bias: -0.172275, T: 7567934, Avg. loss: 0.051943\n",
      "Total training time: 6.49 seconds.\n",
      "-- Epoch 3\n",
      "Norm: 0.56, NNZs: 36, Bias: -0.175400, T: 11351901, Avg. loss: 0.051941\n",
      "Total training time: 9.85 seconds.\n",
      "-- Epoch 4\n",
      "Norm: 0.56, NNZs: 36, Bias: -0.175678, T: 15135868, Avg. loss: 0.051940\n",
      "Total training time: 13.20 seconds.\n",
      "-- Epoch 5\n",
      "Norm: 0.56, NNZs: 36, Bias: -0.175004, T: 18919835, Avg. loss: 0.051940\n",
      "Total training time: 16.60 seconds.\n",
      "-- Epoch 6\n",
      "Norm: 0.56, NNZs: 35, Bias: -0.176591, T: 22703802, Avg. loss: 0.051938\n",
      "Total training time: 19.94 seconds.\n",
      "Convergence after 6 epochs took 20.24 seconds\n"
     ]
    },
    {
     "name": "stderr",
     "output_type": "stream",
     "text": [
      "Calculating Errors: 100%|██████████| 668/668 [00:15<00:00, 43.18it/s, 106001]\n"
     ]
    },
    {
     "name": "stdout",
     "output_type": "stream",
     "text": [
      "\n",
      "\n"
     ]
    }
   ],
   "source": [
    "all_models_preds = train_and_evaluate_models(all_train_test)"
   ]
  },
  {
   "cell_type": "code",
   "execution_count": 18,
   "id": "0d7f06d6-faac-4add-a287-464d9a5287f8",
   "metadata": {},
   "outputs": [
    {
     "name": "stderr",
     "output_type": "stream",
     "text": [
      "Saving data: 100%|██████████| 1/1 [00:00<00:00, 27.12it/s]\n"
     ]
    }
   ],
   "source": [
    "from scripts.cell_state.analysis import save_probe_components\n",
    "\n",
    "(run_dir / \"esa_cci\").mkdir(exist_ok=True)\n",
    "save_probe_components(run_dir / \"esa_cci\", all_models_preds)"
   ]
  },
  {
   "cell_type": "code",
   "execution_count": null,
   "id": "c397453e-4a79-49d8-ad0d-5e7348c9052f",
   "metadata": {},
   "outputs": [],
   "source": []
  },
  {
   "cell_type": "code",
   "execution_count": null,
   "id": "843ab64d-c25f-4613-8ca1-d5c3157eb7c6",
   "metadata": {},
   "outputs": [],
   "source": [
    "train = all_train_test[\"7_day_smooth_sm\"][\"train\"]\n",
    "times = train[\"times\"].astype(\"datetime64[ns]\")\n",
    "sids = train[\"station_ids\"]\n",
    "np.unique(times).shape\n",
    "np.unique(times).shape"
   ]
  },
  {
   "cell_type": "markdown",
   "id": "494db25e-59e2-450f-bdd3-69748f681676",
   "metadata": {},
   "source": [
    "# Explore results"
   ]
  },
  {
   "cell_type": "markdown",
   "id": "db52bc07-e5f8-4f02-a931-c314cc2ff0ab",
   "metadata": {},
   "source": [
    "### plot timeseries"
   ]
  },
  {
   "cell_type": "code",
   "execution_count": null,
   "id": "f39b02b9-e266-4b25-89f4-b680e96290d5",
   "metadata": {},
   "outputs": [],
   "source": [
    "# time = slice(\"2000\", \"2007\")\n",
    "# time = slice(\"1998\", \"2008\")\n",
    "\n",
    "# N = 3\n",
    "# # pixels = [27030, 38012, 39017]\n",
    "# # pixels = [61001, 14001, 95001]\n",
    "# # pixels = [34012, 52010, 85003]\n",
    "# # pixels = [int(min_station), int(med_station), int(max_station)]\n",
    "\n",
    "# with plt.rc_context({\"figure.dpi\": 400}):\n",
    "#     for px in pixels:\n",
    "#         f, ax = plt.subplots(1, 1, figsize=(12, 4), sharex=True)\n",
    "#         for ix, target_var in enumerate(target_vars):\n",
    "# #             ax = axs[np.unravel_index(ix, (2, 2))]\n",
    "#             preds = nl_models_preds[target_var][\"preds\"]\n",
    "#             data = preds.sel(station_id=px, time=time)\n",
    "\n",
    "#         #     f, ax = plt.subplots(figsize=(12, 4))\n",
    "#             ax.plot(data.time, data.obs, color=\"k\", ls=\"--\", alpha=0.3, label=\"Observed\")\n",
    "# #             ax = ax.twinx()\n",
    "#             ax.plot(data.time, data.sim, color=f\"C{ix}\", ls=\"-\", alpha=0.6, label=\"Simulated\")\n",
    "#             ax.set_title(f\"{target_var}\")\n",
    "#             if ix == 0:\n",
    "#                 ax.legend()\n",
    "#             sns.despine()\n",
    "#         f.suptitle(px)"
   ]
  },
  {
   "cell_type": "code",
   "execution_count": null,
   "id": "5014e518-c915-4aea-a271-97bfa70c3496",
   "metadata": {},
   "outputs": [],
   "source": [
    "target_vars = [v for v in list(all_models_preds.keys()) if v != \"\"]\n",
    "target_vars = [\"7_day_smooth_sm\"]\n",
    "\n",
    "# p = all_models_preds[target_vars[0]][\"preds\"]\n",
    "# pixels = np.random.choice(p.station_id.values, N, replace=False)\n",
    "\n",
    "time = slice(\"2000\", \"2008\")\n",
    "N = 3\n",
    "\n",
    "pixels = [61001, 14001, 95001]\n",
    "pixels = [54018, 15021]\n",
    "# pixels = [54018, 15021, 48003]\n",
    "# pixels = [33032, 39108, 85003]\n",
    "\n",
    "\n",
    "with plt.rc_context({\"figure.dpi\": 400}):\n",
    "    for px in pixels:\n",
    "        f, axs = plt.subplots(1, 1, figsize=(12, 4), sharex=True)\n",
    "        for ix, target_var in enumerate(target_vars):\n",
    "            ax = axs[ix if len(axs.shape) == 1 else np.unravel_index(ix, (2, 2))] if isinstance(axs, list) else axs\n",
    "            preds = all_models_preds[target_var][\"preds\"]            \n",
    "            \n",
    "            data = preds.sel(station_id=px, time=time)\n",
    "\n",
    "            ax.plot(data.time, data.obs, color=\"k\", ls=\"--\", alpha=0.3, label=f\"Observation\")\n",
    "            ax.plot(data.time, data.sim, color=f\"C{ix}\", ls=\"-\", alpha=0.6, label=f\"Simulation\")\n",
    "            ax.set_title(px)\n",
    "            ax.legend()\n",
    "            sns.despine()"
   ]
  },
  {
   "cell_type": "markdown",
   "id": "7756ac6b-653f-4ecf-b40b-b41c1c0859a3",
   "metadata": {},
   "source": [
    "### plot nse distributions"
   ]
  },
  {
   "cell_type": "code",
   "execution_count": null,
   "id": "b11450ea-8926-441c-a4cc-4c8d29b437f3",
   "metadata": {},
   "outputs": [],
   "source": [
    "metric = \"Pearson-r\"\n",
    "\n",
    "with plt.rc_context({\"figure.dpi\": 400}):\n",
    "    f, ax = plt.subplots(figsize=(12, 4))\n",
    "\n",
    "    colors = sns.color_palette(\"viridis\", n_colors=len(target_vars))\n",
    "    for ix, target_var in enumerate(target_vars):\n",
    "        errors = all_models_preds[target_var][\"errors\"]\n",
    "        nse = errors[metric]\n",
    "\n",
    "        ax.hist(nse.where(nse > -1, -1), bins=100, density=True, label=f\"{target_var}: {nse.median().values:.3f}\", alpha=0.6, color=colors[ix]);\n",
    "        ax.axvline(nse.median(), color=colors[ix], ls=\"--\", alpha=0.5)\n",
    "\n",
    "\n",
    "    ax.set_xlabel(metric if metric != \"Pearson-r\" else \"Correlation\")\n",
    "    ax.set_xlim(-1, 1)\n",
    "    ax.legend()\n",
    "    sns.despine()"
   ]
  },
  {
   "cell_type": "markdown",
   "id": "f352e448-e35d-4221-9d09-b10eafb88ee5",
   "metadata": {},
   "source": [
    "### plot the weights"
   ]
  },
  {
   "cell_type": "code",
   "execution_count": null,
   "id": "05281d13-2324-4af2-8d87-f8b5d716962a",
   "metadata": {},
   "outputs": [],
   "source": [
    "from scripts.cell_state.analysis import get_model_weights, plot_weights\n",
    "\n",
    "n_plots = len(target_vars)\n",
    "f, axs = plt.subplots(n_plots, 1, figsize=(12, 2*n_plots))\n",
    "\n",
    "for ix, target_var in enumerate(target_vars):\n",
    "    model = all_models_preds[target_var][\"model\"]\n",
    "    ax = axs[ix] if isinstance(axs, list) else axs\n",
    "    w, b = get_model_weights(model)\n",
    "    plot_weights(np.abs(w), kwargs={\"vmin\": 0.0, \"vmax\": 0.15}, ax=ax, cbar=False)\n",
    "    ax.set_title(f\"Target: {target_var}\")\n",
    "plt.tight_layout()"
   ]
  },
  {
   "cell_type": "code",
   "execution_count": null,
   "id": "788d5706-138c-43b4-ad32-5a5c4755e54f",
   "metadata": {},
   "outputs": [],
   "source": [
    "from typing import Any, Dict\n",
    "import seaborn as sns\n",
    "import matplotlib.pyplot as plt\n",
    "\n",
    "\n",
    "def empirical_cdf(errors: np.ndarray, kwargs: Dict[str, Any] = {}):\n",
    "    x = np.sort(errors)\n",
    "    y = np.arange(len(x))/float(len(x))\n",
    "    plt.plot(x, y, **kwargs)\n",
    "\n",
    "    \n",
    "f, ax = plt.subplots(figsize=(12, 4))\n",
    "colors = sns.color_palette(\"viridis\", n_colors=len(target_vars))\n",
    "for ix, target_var in enumerate(target_vars):\n",
    "    errors = all_models_preds[target_var][\"errors\"]\n",
    "    nse = errors[\"NSE\"]\n",
    "    empirical_cdf(nse, kwargs={\"label\": target_var, \"color\": colors[ix]})\n",
    "\n",
    "ax.set_xlim(0, 1)\n",
    "ax.set_ylim(0, 1.1)\n",
    "plt.legend()\n",
    "sns.despine()"
   ]
  },
  {
   "cell_type": "markdown",
   "id": "ff8e91ed-d70b-4166-abc6-1e664a30fa23",
   "metadata": {},
   "source": [
    "# What about the spatial performances?"
   ]
  },
  {
   "cell_type": "code",
   "execution_count": null,
   "id": "bdea1766-f256-4ede-8d0c-72aaf80f6b5b",
   "metadata": {},
   "outputs": [],
   "source": [
    "import geopandas as gpd\n",
    "from scripts.geospatial import initialise_gb_spatial_plot, load_latlon_points\n",
    "from mpl_toolkits.axes_grid1 import make_axes_locatable"
   ]
  },
  {
   "cell_type": "code",
   "execution_count": null,
   "id": "a0a0e8f1-a385-4f1e-b53c-7764b167f6ad",
   "metadata": {},
   "outputs": [],
   "source": [
    "points = load_latlon_points(data_dir)"
   ]
  },
  {
   "cell_type": "code",
   "execution_count": null,
   "id": "b053776f-8ccc-4767-b6cb-75d13e7a4e92",
   "metadata": {},
   "outputs": [],
   "source": [
    "metric = \"Pearson-r\"\n",
    "for target_var in target_vars:\n",
    "    # initialise plotting data\n",
    "    errors = all_models_preds[target_var][\"errors\"]\n",
    "    gdf = gpd.GeoDataFrame(errors[metric].to_dataframe().join(points))\n",
    "    \n",
    "    # create plot\n",
    "    ax = initialise_gb_spatial_plot()\n",
    "\n",
    "    cbar = False\n",
    "    vmax = 0.8\n",
    "    vmin = 0.3\n",
    "\n",
    "    if cbar:\n",
    "        divider = make_axes_locatable(ax)\n",
    "        cax = divider.append_axes(\"right\", size=\"5%\", pad=0.05)\n",
    "        gdf.plot(metric, ax=ax, vmin=vmin, vmax=vmax, cmap=\"viridis_r\", cax=cax, legend=True);\n",
    "    else:\n",
    "        gdf.plot(metric, ax=ax, vmin=vmin, vmax=vmax, cmap=\"viridis_r\")\n",
    "    \n",
    "    ax.set_title(f\"{target_var}\")"
   ]
  },
  {
   "cell_type": "markdown",
   "id": "83714c9a-72f0-4c56-a98a-c3e5f24ef6b3",
   "metadata": {},
   "source": [
    "# Location of basins"
   ]
  },
  {
   "cell_type": "code",
   "execution_count": null,
   "id": "31072f54-65e1-46ef-815a-6179f3075b07",
   "metadata": {},
   "outputs": [],
   "source": [
    "# static[\"soil_depth_pelettier\"]"
   ]
  },
  {
   "cell_type": "code",
   "execution_count": null,
   "id": "9e979f04-dd79-44cd-9a3e-68028eee3cdc",
   "metadata": {
    "scrolled": true,
    "tags": []
   },
   "outputs": [],
   "source": [
    "static[\"log_area\"] = np.log(static[\"area\"])\n",
    "static[\"log_p_mean\"] = np.log(static[\"p_mean\"])\n",
    "\n",
    "\n",
    "from scripts.geospatial import plot_spatial_location\n",
    "from scripts.plots import plot_context\n",
    "\n",
    "pixels = [54018, 15021]\n",
    "\n",
    "with plt.rc_context({\"figure.dpi\": 400}):\n",
    "    for px in pixels:\n",
    "        # spatial context\n",
    "        plot_context(static, variables=[\"log_area\", \"log_p_mean\", \"gauge_elev\", \"pet_mean\"], sids=[px])\n",
    "        name = static.sel(station_id=px)[\"gauge_name\"].values\n",
    "        plt.gcf().suptitle(f\"{px}: {name}\")\n",
    "\n",
    "        # spatial location\n",
    "        plot_spatial_location(px, points)\n",
    "        "
   ]
  },
  {
   "cell_type": "markdown",
   "id": "1bb15392-a659-4c70-af83-7494bd1196b2",
   "metadata": {},
   "source": [
    "# Does the model performance change with size?"
   ]
  },
  {
   "cell_type": "code",
   "execution_count": null,
   "id": "74f6b3ef-7825-4f00-803d-e5fc60c20789",
   "metadata": {},
   "outputs": [],
   "source": [
    "errors = all_models_preds[\"7_day_smooth_sm\"][\"errors\"]\n",
    "\n",
    "test_df = static[[\"gauge_name\", \"area\"]].to_dataframe().join(errors[\"Pearson-r\"].to_dataframe())\n",
    "plt.scatter(test_df[\"area\"], test_df[\"Pearson-r\"])"
   ]
  },
  {
   "cell_type": "markdown",
   "id": "dc36cd79-99e2-4714-864b-59c577793db6",
   "metadata": {},
   "source": [
    "# Visualising individual dimensions"
   ]
  },
  {
   "cell_type": "code",
   "execution_count": null,
   "id": "d8f3a2d5-9b3e-49c7-ac3b-d0819df1bf37",
   "metadata": {},
   "outputs": [],
   "source": [
    "def get_ws_bs_for_target_var(all_models_preds, target_var: str):\n",
    "    model = all_models_preds[target_var][\"model\"]\n",
    "    w, b = get_model_weights(model)\n",
    "    return w, b\n",
    "\n",
    "\n",
    "target_var = \"7_day_smooth_sm\"\n",
    "w, b = get_ws_bs_for_target_var(all_models_preds, target_var)\n",
    "\n",
    "\n",
    "max_idx = np.argmax(np.abs(w))\n",
    "n = 1\n",
    "largest_n = np.abs(w).argsort()[-n:][::-1]\n",
    "feature = f\"dim{max_idx}\"\n",
    "\n",
    "features = [f\"dim{idx}\" for idx in largest_n]\n",
    "assert all(np.isin(features, test_cs.data_vars)), f\"Expect {features} to be in cs.data_vars\""
   ]
  },
  {
   "cell_type": "code",
   "execution_count": null,
   "id": "e3122547-be57-4c3a-b232-a2b43e51cfaa",
   "metadata": {},
   "outputs": [],
   "source": [
    "time = \"2005\"\n",
    "\n",
    "px = 53013\n",
    "pxs = [px]\n",
    "\n",
    "Npxs = 2\n",
    "pxs = np.random.choice(test_cs.station_id.values, Npxs)\n",
    "\n",
    "pxs = [61001, 14001, 95001]\n",
    "f, axs = plt.subplots(len(pxs), 1, figsize=(12, 4*len(pxs)), tight_layout=True, sharex=True, sharey=True)\n",
    "for ix, px in enumerate(pxs):\n",
    "    ax = axs[ix]\n",
    "    data = test_cs.sel(station_id=px, time=time).to_dataframe()\n",
    "    target = esa_ds.sel(station_id=px, time=time).to_dataframe()\n",
    "\n",
    "    ax.plot(target.index, target[target_var], label=target_var, color=\"k\", ls=\"--\", alpha=0.6)\n",
    "    ax.legend(loc=\"upper right\")\n",
    "\n",
    "    ax = ax.twinx()\n",
    "    for ix, feature in enumerate(features):  # features  [\"dim20\"]  [\"dim58\"]\n",
    "        ax.plot(\n",
    "            data.index, data[feature], label=f\"{feature}: {float(np.median(data[feature])):.2f}\", color=f\"C{ix}\", alpha=0.6\n",
    "        )\n",
    "        ax.legend(loc=\"upper left\")\n",
    "    \n",
    "    ax.set_title(px)\n",
    "    sns.despine()"
   ]
  },
  {
   "cell_type": "code",
   "execution_count": null,
   "id": "a83bfe9f-493a-4029-93ae-b24c2b85171a",
   "metadata": {},
   "outputs": [],
   "source": [
    "DIM = 20\n",
    "\n",
    "with plt.rc_context({\"figure.dpi\": 400}):\n",
    "    f, ax = plt.subplots(figsize=(12, 4))\n",
    "\n",
    "    pxs = np.random.choice(test_cs.station_id.values, 10)\n",
    "    for sid in pxs:\n",
    "        test_cs[f\"dim{DIM}\"].sel(station_id=sid).plot(ax=ax, label=sid)\n",
    "    ax.legend()\n",
    "    ax.set_title(f\"Comparison of Dimension {DIM} across basins\\nWhy is it variable in some basins and basically flat in others?\")\n",
    "    sns.despine()"
   ]
  },
  {
   "cell_type": "code",
   "execution_count": null,
   "id": "e20cdd3b-2a16-4f6a-a7dc-20b93e8c5848",
   "metadata": {
    "scrolled": true,
    "tags": []
   },
   "outputs": [],
   "source": [
    "from scripts.geospatial import plot_spatial_location\n",
    "with plt.rc_context({\"figure.dpi\": 100}):\n",
    "    plot_spatial_location(pxs, points=points, plot_kwargs={\"color\": [f\"C{ix}\" for ix in np.arange(len(pxs))]})"
   ]
  },
  {
   "cell_type": "code",
   "execution_count": null,
   "id": "eabcc208-1d6b-40f5-a6a7-a394da2635d9",
   "metadata": {},
   "outputs": [],
   "source": [
    "var_31 = test_cs[f\"dim{DIM}\"].std(dim=\"time\")\n",
    "mn_31 = test_cs[f\"dim{DIM}\"].mean(dim=\"time\")\n",
    "\n",
    "df = (\n",
    "    static[cfg.static_attributes].to_dataframe()\n",
    "    .join(var_31.rename(f\"std_{DIM}\").to_dataframe())\n",
    "    .join(mn_31.rename(f\"mn_{DIM}\").to_dataframe())\n",
    ")"
   ]
  },
  {
   "cell_type": "code",
   "execution_count": null,
   "id": "cd95fd6c-ae26-4e26-836a-e9efe2899041",
   "metadata": {},
   "outputs": [],
   "source": [
    "# correlations ?\n",
    "corrs = pd.DataFrame({v: df[f\"mn_{DIM}\"].corr(df[v]) for v in df.columns if v not in [f'std_{DIM}', f'mn_{DIM}']}, index=[f\"mn_{DIM}_corr\"]).T.reset_index()\n",
    "# var = f\"std_{DIM}\"\n",
    "corrs = (\n",
    "    pd.DataFrame(\n",
    "        {v: df[f\"std_{DIM}\"].corr(df[v]) for v in df.columns if v not in [f'std_{DIM}', f'mn_{DIM}']}, \n",
    "        index=[f\"std_{DIM}_corr\"]\n",
    "    ).T.reset_index()\n",
    "    .join(corrs.drop(\"index\", axis=1))\n",
    ")\n",
    "\n",
    "with plt.rc_context({\"figure.dpi\": 400}):\n",
    "    f, axs = plt.subplots(2,1,figsize=(12, 4*2), tight_layout=True)\n",
    "    \n",
    "    ax = axs[0]\n",
    "    sns.barplot(x=\"index\", y=f\"mn_{DIM}_corr\", data=corrs.sort_values(f\"mn_{DIM}_corr\"), palette=\"RdBu_r\", ax=ax)\n",
    "    ax.set_title(f\"The mean value of Dimension{DIM} is positively correlated with wetness, elevation, steep slopes\")\n",
    "    ax.set_xticklabels(ax.get_xticklabels(), rotation=40)\n",
    "    \n",
    "    ax = axs[1]\n",
    "    sns.barplot(x=\"index\", y=f\"std_{DIM}_corr\", data=corrs.sort_values(f\"std_{DIM}_corr\"), palette=\"RdBu_r\", ax=ax)\n",
    "    ax.set_title(f\"The std value of Dimension{DIM} is positively correlated with agriculture, dryness, low elevation\")\n",
    "    \n",
    "    plt.xticks(rotation=40)\n",
    "        \n",
    "    sns.despine()"
   ]
  },
  {
   "cell_type": "code",
   "execution_count": null,
   "id": "f0ce3fea-30b3-4138-a860-3661cad34905",
   "metadata": {},
   "outputs": [],
   "source": [
    "gdf_31 = gpd.GeoDataFrame(test_cs[f\"dim{DIM}\"].median(dim=\"time\").to_dataframe().join(points))\n",
    "gdf_31 = gdf_31.join(test_cs[f\"dim{DIM}\"].std(dim=\"time\").rename(f\"std_dim{DIM}\").to_dataframe())\n",
    "gdf_31[f\"abs_dim{DIM}\"] = abs(gdf_31[f\"dim{DIM}\"])\n",
    "# gdf_31[f\"abs_std_dim{DIM}\"] = gdf_31[f\"std_dim{DIM}\"]\n",
    "\n",
    "f, axs = plt.subplots(1, 2, figsize=(5*2, 8))\n",
    "ax = axs[0]\n",
    "mn_vmin, mn_vmax = gdf_31[f\"abs_dim{DIM}\"].quantile(q=0.1), gdf_31[f\"abs_dim{DIM}\"].quantile(q=0.7)\n",
    "initialise_gb_spatial_plot(ax=ax)\n",
    "gdf_31.plot(f\"abs_dim{DIM}\", legend=True, ax=ax, vmin=mn_vmin, vmax=mn_vmax)\n",
    "ax.set_title(f\"MEAN Dimension{DIM}\")\n",
    "\n",
    "ax = axs[1]\n",
    "std_vmin, std_vmax = gdf_31[f\"std_dim{DIM}\"].quantile(q=0.1), gdf_31[f\"std_dim{DIM}\"].quantile(q=0.7)\n",
    "initialise_gb_spatial_plot(ax=ax)\n",
    "gdf_31.plot(f\"std_dim{DIM}\", legend=True, ax=ax, vmin=std_vmin, vmax=std_vmax)\n",
    "ax.set_title(f\"STD Dimension{DIM}\")"
   ]
  },
  {
   "cell_type": "markdown",
   "id": "9b7cc4b3-33da-4a25-b193-c32e3072de25",
   "metadata": {},
   "source": [
    "# Non linear probe"
   ]
  },
  {
   "cell_type": "code",
   "execution_count": null,
   "id": "69cb1043-2bdb-4040-bbda-979463f59b66",
   "metadata": {},
   "outputs": [],
   "source": [
    "if not \"nl_models_preds\" in globals().keys():\n",
    "    nl_models_preds = train_and_evaluate_models(all_train_test, hidden_sizes=[20, 10])"
   ]
  },
  {
   "cell_type": "code",
   "execution_count": null,
   "id": "28a00524-a519-4d95-b833-dde5281f349d",
   "metadata": {},
   "outputs": [],
   "source": [
    "with plt.rc_context({'figure.dpi': 400}):\n",
    "    f, ax = plt.subplots(figsize=(12, 4))\n",
    "\n",
    "    metric = \"Pearson-r\"\n",
    "    colors = sns.color_palette(\"viridis\", n_colors=len(target_vars))\n",
    "    for ix, target_var in enumerate(target_vars):\n",
    "        errors = nl_models_preds[target_var][\"errors\"]\n",
    "        nse = errors[metric]\n",
    "\n",
    "        ax.hist(nse.where(nse > -1, -1), bins=100, density=True, label=f\"{target_var}: {nse.median().values:.2f}\", alpha=0.6, color=colors[ix]);\n",
    "        ax.axvline(nse.median(), color=colors[ix], ls=\"--\", alpha=0.5)\n",
    "    ax.set_xlabel(metric if metric != \"Pearson-r\" else \"Pearson Correlation\")\n",
    "    ax.set_xlim(0.25, 1)\n",
    "    ax.legend()\n",
    "    sns.despine()"
   ]
  },
  {
   "cell_type": "code",
   "execution_count": null,
   "id": "c08d1bae-bd0a-4eca-9aa1-d98b4a20f51b",
   "metadata": {},
   "outputs": [],
   "source": [
    "with plt.rc_context({'figure.dpi': 400}):\n",
    "    f, ax = plt.subplots(figsize=(12, 4))\n",
    "\n",
    "    metric = \"RMSE\"\n",
    "    colors = sns.color_palette(\"viridis\", n_colors=len(target_vars))\n",
    "    for ix, target_var in enumerate(target_vars):\n",
    "        errors = nl_models_preds[target_var][\"errors\"]\n",
    "        nse = errors[metric]\n",
    "\n",
    "        ax.hist(nse.where(nse > -1, -1), bins=100, density=True, label=f\"{target_var}: {nse.median().values:.2f}\", alpha=0.6, color=colors[ix]);\n",
    "        ax.axvline(nse.median(), color=colors[ix], ls=\"--\", alpha=0.5)\n",
    "    ax.set_xlabel(metric if metric != \"Pearson-r\" else \"Pearson Correlation\")\n",
    "    ax.set_xlim(0, 1)\n",
    "    ax.legend()\n",
    "    sns.despine()"
   ]
  },
  {
   "cell_type": "code",
   "execution_count": null,
   "id": "4361c678-e696-4430-b1d6-bca5b4fc3004",
   "metadata": {},
   "outputs": [],
   "source": [
    "time = slice(\"2000\", \"2007\")\n",
    "time = slice(\"1998\", \"2008\")\n",
    "\n",
    "N = 3\n",
    "# pixels = [27030, 38012, 39017]\n",
    "# pixels = [61001, 14001, 95001]\n",
    "# pixels = [34012, 52010, 85003]\n",
    "# pixels = [54018, 15021, 48003]\n",
    "pixels = [33032, 39108, 85003]\n",
    "pixels = [54018, 15021]\n",
    "# pixels = [int(min_station), int(med_station), int(max_station)]\n",
    "\n",
    "with plt.rc_context({\"figure.dpi\": 400}):\n",
    "    for px in pixels:\n",
    "        f, ax = plt.subplots(1, 1, figsize=(12, 4), sharex=True)\n",
    "        for ix, target_var in enumerate(target_vars):\n",
    "#             ax = axs[np.unravel_index(ix, (2, 2))]\n",
    "            preds = nl_models_preds[target_var][\"preds\"]\n",
    "            data = preds.sel(station_id=px, time=time)\n",
    "\n",
    "        #     f, ax = plt.subplots(figsize=(12, 4))\n",
    "            ax.plot(data.time, data.obs, color=\"k\", ls=\"--\", alpha=0.3, label=\"Observed\")\n",
    "#             ax = ax.twinx()\n",
    "            ax.plot(data.time, data.sim, color=f\"C{ix}\", ls=\"-\", alpha=0.6, label=\"Simulated\")\n",
    "            #ax.set_title(f\"{target_var}\")\n",
    "            if ix == 0:\n",
    "                ax.legend()\n",
    "            sns.despine()\n",
    "        f.suptitle(px)"
   ]
  },
  {
   "cell_type": "code",
   "execution_count": null,
   "id": "4f68cdf8-eb2e-49af-8052-caa83eef86f4",
   "metadata": {},
   "outputs": [],
   "source": []
  },
  {
   "cell_type": "code",
   "execution_count": null,
   "id": "ef2f39a5-d471-4ff8-adbf-9d08b8d597f6",
   "metadata": {},
   "outputs": [],
   "source": []
  },
  {
   "cell_type": "code",
   "execution_count": null,
   "id": "b65ea37f-80c5-497f-af87-aaf4200f0634",
   "metadata": {},
   "outputs": [],
   "source": []
  },
  {
   "cell_type": "markdown",
   "id": "3a28bb10-2901-4e9c-b294-34680866d97d",
   "metadata": {},
   "source": [
    "# Generating INTERACTIVE maps of Soil Moisture"
   ]
  },
  {
   "cell_type": "code",
   "execution_count": null,
   "id": "e57c5b3b-feaa-4cd2-b243-e834a4c74bf6",
   "metadata": {},
   "outputs": [],
   "source": [
    "from scripts.cell_state.timeseries_model import _round_time_to_hour\n",
    "\n",
    "gdf = gpd.read_file(data_dir / \"CAMELS_GB_DATASET/Catchment_Boundaries/CAMELS_GB_catchment_boundaries.shp\")"
   ]
  },
  {
   "cell_type": "code",
   "execution_count": null,
   "id": "b37fd212-0c17-4e9e-99ab-becbac93243b",
   "metadata": {},
   "outputs": [],
   "source": [
    "LEVEL = target_vars[-1]\n",
    "preds = all_models_preds[LEVEL][\"preds\"]\n",
    "preds[\"time\"] = _round_time_to_hour(preds[\"time\"].values)"
   ]
  },
  {
   "cell_type": "code",
   "execution_count": null,
   "id": "0900581b-4e31-41c6-9e99-9d1ddfbbf7fd",
   "metadata": {},
   "outputs": [],
   "source": [
    "d = preds[\"sim\"]\n",
    "\n",
    "# pivot table simulations\n",
    "pixel_dim = \"station_id\"\n",
    "time_dim = \"time\"\n",
    "new_ds = xr.Dataset(\n",
    "    {\n",
    "        f\"{i}\": ((pixel_dim), d.values[:, i])\n",
    "        for i in range(len(d[time_dim].values))\n",
    "    },\n",
    "    coords={pixel_dim: d[pixel_dim]},\n",
    ")\n",
    "df = new_ds.to_dataframe()"
   ]
  },
  {
   "cell_type": "code",
   "execution_count": null,
   "id": "9f375cdf-3164-424a-b4ff-d07168d5ad69",
   "metadata": {},
   "outputs": [],
   "source": [
    "time_gdf = gpd.GeoDataFrame(df.join(gdf.set_index(\"ID\")))\n",
    "mean_std = time_gdf[[f\"{ts}\" for ts in np.arange(822)]].std().mean()\n",
    "vmax = time_gdf[[f\"{ts}\" for ts in np.arange(822)]].mean().max() + mean_std\n",
    "vmin = time_gdf[[f\"{ts}\" for ts in np.arange(822)]].mean().min() - mean_std\n",
    "\n",
    "(vmin, vmax)"
   ]
  },
  {
   "cell_type": "code",
   "execution_count": null,
   "id": "3388cddb-8913-4447-b411-e0fe6b1a0033",
   "metadata": {},
   "outputs": [],
   "source": [
    "lookup_times = dict(enumerate(d[time_dim].values))"
   ]
  },
  {
   "cell_type": "code",
   "execution_count": null,
   "id": "0d27ee88-8035-4a22-810d-86c6da672997",
   "metadata": {},
   "outputs": [],
   "source": [
    "# https://www.earthdatascience.org/courses/scientists-guide-to-plotting-data-in-python/plot-spatial-data/customize-vector-plots/python-customize-map-legends-geopandas/\n",
    "# ax = initialise_gb_spatial_plot()\n",
    "# \n",
    "\n",
    "if False:\n",
    "    (data_dir / f\"animate_{LEVEL}\").mkdir(exist_ok=True)\n",
    "    from tqdm import tqdm\n",
    "\n",
    "    with plt.style.context(\"dark_background\"):\n",
    "        for i in tqdm(np.arange(822)):\n",
    "            f, ax = plt.subplots(figsize=(5, 8))\n",
    "            time_gdf.plot(f\"{i}\", ax=ax, vmin=vmin, vmax=vmax, legend=True)\n",
    "            ax.axis(\"off\")\n",
    "            ax.set_title(np.datetime_as_string(lookup_times[i], unit=\"D\"))\n",
    "            f.savefig(data_dir / f\"animate/{i:03}.png\")\n",
    "            del f, ax\n",
    "            plt.close(\"all\")"
   ]
  },
  {
   "cell_type": "code",
   "execution_count": null,
   "id": "20acdade-3026-46fd-8225-03772263ee33",
   "metadata": {},
   "outputs": [],
   "source": []
  },
  {
   "cell_type": "code",
   "execution_count": null,
   "id": "4b3fc7b5-10d8-4d8c-8b25-6245ef6fd8ab",
   "metadata": {},
   "outputs": [],
   "source": []
  },
  {
   "cell_type": "code",
   "execution_count": null,
   "id": "7598c04b-8b29-49b7-8859-2032a2bd6177",
   "metadata": {},
   "outputs": [],
   "source": []
  },
  {
   "cell_type": "code",
   "execution_count": null,
   "id": "9eef295e-64b8-4cb1-a034-e9e3e146fe36",
   "metadata": {},
   "outputs": [],
   "source": []
  },
  {
   "cell_type": "code",
   "execution_count": null,
   "id": "b55c0a3a-cc73-40b6-bd56-5b721fa8c05d",
   "metadata": {},
   "outputs": [],
   "source": []
  },
  {
   "cell_type": "code",
   "execution_count": null,
   "id": "b2fe759f-1c2a-4865-955e-5a3188906e37",
   "metadata": {},
   "outputs": [],
   "source": []
  },
  {
   "cell_type": "markdown",
   "id": "a7584277-5db4-42f7-afad-9c55e0c4a300",
   "metadata": {},
   "source": [
    "# Pytorch Probe"
   ]
  },
  {
   "cell_type": "code",
   "execution_count": null,
   "id": "6b4a56bd-f07e-4933-882c-af20c61a4dd4",
   "metadata": {},
   "outputs": [],
   "source": [
    "assert False, \"Do not run automagically\""
   ]
  },
  {
   "cell_type": "code",
   "execution_count": null,
   "id": "b052da55-2ae8-4480-83e5-f16137507dcc",
   "metadata": {},
   "outputs": [],
   "source": [
    "\n",
    "\n",
    "train_dataset = TimeSeriesDataset(\n",
    "    input_data=input_data,\n",
    "    target_data=target_data,\n",
    "    target_variable=\"swvl1\",\n",
    "    input_variables=input_variables,\n",
    "    seq_length=seq_length,\n",
    "    basin_dim=basin_dim,\n",
    "    time_dim=time_dim,\n",
    "    desc=\"Creating Train Samples\",\n",
    ")\n",
    "\n",
    "test_dataset = TimeSeriesDataset(\n",
    "    input_data=test_input_data,\n",
    "    target_data=test_target_data,\n",
    "    target_variable=\"swvl1\",\n",
    "    input_variables=input_variables,\n",
    "    seq_length=seq_length,\n",
    "    basin_dim=basin_dim,\n",
    "    time_dim=time_dim,\n",
    "    desc=\"Creating Test Samples\",\n",
    ")"
   ]
  },
  {
   "cell_type": "code",
   "execution_count": null,
   "id": "b84569a9-e1a4-48a3-898c-bab7887fa3c5",
   "metadata": {},
   "outputs": [],
   "source": [
    "from torch.utils.data import DataLoader\n",
    "import torch\n",
    "from torch import nn\n",
    "from scripts.cell_state.cell_state_model import LinearModel\n",
    "\n",
    "model = LinearModel(D_in=64)"
   ]
  },
  {
   "cell_type": "code",
   "execution_count": null,
   "id": "2461f9a6-be67-4e5c-b01a-7fce69e043e1",
   "metadata": {},
   "outputs": [],
   "source": [
    "batch_size = int(1e4)\n",
    "num_workers = 0\n",
    "learning_rate = 1e-4\n",
    "l2_penalty = 0\n",
    "\n",
    "train_loader = DataLoader(\n",
    "    train_dataset,\n",
    "    batch_size=batch_size,\n",
    "    shuffle=True,\n",
    "    num_workers=num_workers,\n",
    ")\n",
    "test_loader = DataLoader(\n",
    "    test_dataset,\n",
    "    batch_size=batch_size,\n",
    "    shuffle=True,\n",
    "    num_workers=num_workers,\n",
    ")\n",
    "print(len(train_loader))\n",
    "print(len(test_loader))"
   ]
  },
  {
   "cell_type": "code",
   "execution_count": null,
   "id": "eefd55c2-dc35-4300-8c77-10d56900ba04",
   "metadata": {},
   "outputs": [],
   "source": [
    "# GET optimizer\n",
    "optimizer = torch.optim.Adam(\n",
    "    model.parameters(), lr=learning_rate, weight_decay=l2_penalty\n",
    ")\n",
    "\n",
    "# GET loss\n",
    "loss_fn = nn.MSELoss()\n",
    "\n",
    "n_epochs = 10"
   ]
  },
  {
   "cell_type": "markdown",
   "id": "5789cdf6-d8c3-4421-a852-421549c13c1f",
   "metadata": {},
   "source": [
    "### Train the linear model"
   ]
  },
  {
   "cell_type": "code",
   "execution_count": null,
   "id": "c7f11145-baae-4448-9ddc-d66f339f87b1",
   "metadata": {},
   "outputs": [],
   "source": [
    "from tqdm import tqdm\n",
    "\n",
    "\n",
    "l1_ratio = 0.15\n",
    "epoch_losses = []\n",
    "mean_epoch_loss = 9999\n",
    "for epoch in range(n_epochs):\n",
    "    losses = []\n",
    "    pbar = tqdm(train_loader, desc=f\"Epoch {epoch}\")\n",
    "    for data in pbar:\n",
    "        pbar.set_postfix_str(f\"{mean_epoch_loss:.2f}\")\n",
    "        y_pred = model(data)\n",
    "        y = data[\"y\"].squeeze(1)\n",
    "\n",
    "        # calculate loss\n",
    "        loss = loss_fn(y_pred, y)\n",
    "\n",
    "        # add regularisation terms\n",
    "        # l1 loss-penalty (1st order magnitude, vector of weights)\n",
    "        loss = loss + (regularization_lambda * torch.norm(torch.cat([param.view(-1) for param in model.parameters()]), p=1))\n",
    "        # l2 loss-penalty (2nd order magnitude, vector of weights)\n",
    "        loss = loss + ((1 - regularization_lambda) * torch.square(torch.norm(torch.cat([param.view(-1) for param in model.parameters()]), p=2)))\n",
    "    \n",
    "        losses.append(loss.detach().numpy())\n",
    "        \n",
    "        # train/update the weight\n",
    "        optimizer.zero_grad()\n",
    "        loss.backward()\n",
    "        optimizer.step()\n",
    "    \n",
    "    mean_epoch_loss = float(np.mean(losses))\n",
    "    epoch_losses.append(mean_epoch_loss)"
   ]
  },
  {
   "cell_type": "code",
   "execution_count": null,
   "id": "e9df92d4-8cce-44ff-a24d-871e039cc8a6",
   "metadata": {},
   "outputs": [],
   "source": [
    "plt.plot(epoch_losses)"
   ]
  },
  {
   "cell_type": "code",
   "execution_count": null,
   "id": "2e55c5dc-0fa2-4ca8-afff-2247b76528a7",
   "metadata": {},
   "outputs": [],
   "source": [
    "ws = [p for p in model.parameters()][0].detach().numpy()\n",
    "b = [p for p in model.parameters()][1].detach().numpy()\n",
    "\n",
    "ext = np.concatenate([ws, b])\n",
    "f, ax = plt.subplots(1, 1, figsize=(12, 2*1))\n",
    "plot_weights(np.abs(ext), kwargs={\"vmin\": 0.0, \"vmax\": 0.3}, ax=ax, cbar=False)"
   ]
  },
  {
   "cell_type": "code",
   "execution_count": null,
   "id": "a6a27ba3-d53b-4594-b7cb-bceef141dd35",
   "metadata": {},
   "outputs": [],
   "source": [
    "from scripts.cell_state.timeseries_model import _round_time_to_hour\n",
    "from scripts.cell_state.cell_state_model import to_xarray\n",
    "\n",
    "# def evaluate(test_loader: Dataloader) -> xr.Dataset:\n",
    "predictions = defaultdict(list)   # : DefaultDict[str, List]\n",
    "\n",
    "with torch.no_grad():\n",
    "    for data in tqdm(test_loader, \"Evaluation Forward Pass\"):\n",
    "        y_hat = model(data).squeeze()\n",
    "        y = data[\"y\"].squeeze()\n",
    "        basin, time = data[\"meta\"][\"spatial_unit\"].numpy(), data[\"meta\"][\"time\"].numpy()\n",
    "        \n",
    "        #  Coords / Dimensions\n",
    "        predictions[\"time\"].extend(_round_time_to_hour(pd.to_datetime([t[0] for t in time.astype(\"datetime64[ns]\")])))\n",
    "        predictions[\"station_id\"].extend(basin)\n",
    "\n",
    "        # Variables\n",
    "        predictions[\"y_hat\"].extend(y_hat.detach().cpu().numpy().flatten())\n",
    "        predictions[\"y\"].extend(y.detach().cpu().numpy().flatten())\n"
   ]
  },
  {
   "cell_type": "code",
   "execution_count": null,
   "id": "e6c87520-2664-49a7-917d-41ad42363e4a",
   "metadata": {},
   "outputs": [],
   "source": [
    "model_p = to_xarray(predictions)"
   ]
  },
  {
   "cell_type": "code",
   "execution_count": null,
   "id": "253cd65e-a898-436f-85e1-9872035b02fb",
   "metadata": {},
   "outputs": [],
   "source": [
    "f, ax = plt.subplots(figsize=(12, 4))\n",
    "data = model_p.isel(station_id=100).drop(\"station_id\")\n",
    "ax.plot(data.time, data[\"y_hat\"], color=\"C0\", label=\"sim\")\n",
    "ax.plot(data.time, data[\"y\"], color=\"k\", label=\"obs\", alpha=0.5, ls=\"--\")\n",
    "# data.to_dataframe().drop(\"station_id\", axis=1).plot(ax=ax)\n",
    "sns.despine()"
   ]
  },
  {
   "cell_type": "code",
   "execution_count": null,
   "id": "53d67c0d-7753-43b6-b9ba-4fd15fdf70b2",
   "metadata": {},
   "outputs": [],
   "source": []
  },
  {
   "cell_type": "code",
   "execution_count": null,
   "id": "b9ab1273-daa8-4ba3-b3aa-7888af303eb3",
   "metadata": {},
   "outputs": [],
   "source": []
  },
  {
   "cell_type": "code",
   "execution_count": null,
   "id": "19361950-75ac-4eca-9edb-72849533240b",
   "metadata": {},
   "outputs": [],
   "source": []
  }
 ],
 "metadata": {
  "kernelspec": {
   "display_name": "Python 3",
   "language": "python",
   "name": "python3"
  },
  "language_info": {
   "codemirror_mode": {
    "name": "ipython",
    "version": 3
   },
   "file_extension": ".py",
   "mimetype": "text/x-python",
   "name": "python",
   "nbconvert_exporter": "python",
   "pygments_lexer": "ipython3",
   "version": "3.8.10"
  }
 },
 "nbformat": 4,
 "nbformat_minor": 5
}
