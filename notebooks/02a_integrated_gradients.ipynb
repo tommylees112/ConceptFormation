{
 "cells": [
  {
   "cell_type": "markdown",
   "id": "680d9f2e-7376-4cd8-9e95-c25d38d6484f",
   "metadata": {},
   "source": [
    "# Integrated Gradient Experiments"
   ]
  },
  {
   "cell_type": "code",
   "execution_count": 2,
   "id": "4acf5d61-2265-4614-bab5-1f6c5385f3c2",
   "metadata": {},
   "outputs": [],
   "source": [
    "from pathlib import Path\n",
    "import numpy as np \n",
    "import xarray as xr \n",
    "\n",
    "import sys\n",
    "sys.path.append(\"/home/tommy/neuralhydrology\")\n",
    "from scripts.read_nh_results import (\n",
    "    get_test_filepath,\n",
    "    get_all_station_ds,\n",
    "    calculate_all_error_metrics,\n",
    "    get_ensemble_path,\n",
    ")\n",
    "\n",
    "from scripts.read_model import (get_model, _load_weights)\n",
    "from neuralhydrology.utils.config import Config"
   ]
  },
  {
   "cell_type": "markdown",
   "id": "87db3163-d009-41ed-b7f1-e83335b13d7f",
   "metadata": {},
   "source": [
    "# Load the data [`PixelDataLoader`]"
   ]
  },
  {
   "cell_type": "code",
   "execution_count": 3,
   "id": "b17fb9b6-8221-48eb-b5cc-277c23afb400",
   "metadata": {},
   "outputs": [],
   "source": [
    "run_dir = Path(\"/datadrive/data/runs/azure_nh_runoff_30EPOCH_PIXEL_ALL_STATIC_0406_093025\")\n",
    "run_dir = Path(\"/datadrive/data/runs/azure_nh_runoff_30EPOCH_PIXEL_ALL_STATIC_0406_093025\")\n",
    "\n",
    "# load config\n",
    "cfg = Config(run_dir / \"config.yml\")\n",
    "cfg.run_dir = run_dir"
   ]
  },
  {
   "cell_type": "code",
   "execution_count": 4,
   "id": "953a40f4-4fd0-49c0-9e14-e51e839b5667",
   "metadata": {},
   "outputs": [],
   "source": [
    "ds = xr.open_dataset(Path(\"/home/tommy/spatio_temporal/data/ALL_dynamic_ds.nc\"))\n",
    "# static_data = "
   ]
  },
  {
   "cell_type": "code",
   "execution_count": 5,
   "id": "cafe0962-26d2-4e5c-8463-fe14907d6a33",
   "metadata": {},
   "outputs": [
    {
     "name": "stderr",
     "output_type": "stream",
     "text": [
      "100%|██████████| 669/669 [00:00<00:00, 2017.14it/s]\n"
     ]
    }
   ],
   "source": [
    "res_fp = get_test_filepath(run_dir, epoch=30)\n",
    "preds = get_all_station_ds(res_fp)"
   ]
  },
  {
   "cell_type": "markdown",
   "id": "88d6899e-4183-4773-9b6a-bee2a7a6b114",
   "metadata": {},
   "source": [
    "# Load model"
   ]
  },
  {
   "cell_type": "code",
   "execution_count": 6,
   "id": "50b6dc37-9c3c-4acf-8c3b-74126c6e7a66",
   "metadata": {},
   "outputs": [
    {
     "name": "stdout",
     "output_type": "stream",
     "text": [
      "Using the model weights from /datadrive/data/runs/azure_nh_runoff_30EPOCH_PIXEL_ALL_STATIC_0406_093025/model_epoch030.pt\n"
     ]
    },
    {
     "data": {
      "text/plain": [
       "CudaLSTM(\n",
       "  (embedding_net): InputLayer(\n",
       "    (statics_embedding): Identity()\n",
       "    (dynamics_embedding): Identity()\n",
       "  )\n",
       "  (lstm): LSTM(25, 64)\n",
       "  (dropout): Dropout(p=0.4, inplace=False)\n",
       "  (head): Regression(\n",
       "    (net): Sequential(\n",
       "      (0): Linear(in_features=64, out_features=1, bias=True)\n",
       "    )\n",
       "  )\n",
       ")"
      ]
     },
     "execution_count": 6,
     "metadata": {},
     "output_type": "execute_result"
    }
   ],
   "source": [
    "# load trained model\n",
    "model = get_model(cfg).to(cfg.device)\n",
    "_load_weights(model, cfg)\n",
    "model"
   ]
  },
  {
   "cell_type": "markdown",
   "id": "076e8529-3dd0-4ad0-9eca-a6ac78a9af98",
   "metadata": {},
   "source": [
    "# integrated gradients?"
   ]
  },
  {
   "cell_type": "code",
   "execution_count": 6,
   "id": "9454bbd7-edf4-42b5-aaa7-ca8f51d4b33c",
   "metadata": {},
   "outputs": [
    {
     "name": "stdout",
     "output_type": "stream",
     "text": [
      "Using the model weights from /datadrive/data/runs/azure_nh_runoff_30EPOCH_PIXEL_ALL_STATIC_0406_093025/model_epoch030.pt\n"
     ]
    },
    {
     "data": {
      "text/plain": [
       "CudaLSTM(\n",
       "  (embedding_net): InputLayer(\n",
       "    (statics_embedding): Identity()\n",
       "    (dynamics_embedding): Identity()\n",
       "  )\n",
       "  (lstm): LSTM(25, 64)\n",
       "  (dropout): Dropout(p=0.4, inplace=False)\n",
       "  (head): Regression(\n",
       "    (net): Sequential(\n",
       "      (0): Linear(in_features=64, out_features=1, bias=True)\n",
       "    )\n",
       "  )\n",
       ")"
      ]
     },
     "execution_count": 6,
     "metadata": {},
     "output_type": "execute_result"
    }
   ],
   "source": [
    "import pandas as pd\n",
    "from neuralhydrology.datasetzoo import PixelDataset\n",
    "from neuralhydrology.datautils.utils import load_basin_file\n",
    "from neuralhydrology.datasetzoo import CamelsGB\n",
    "import pickle \n",
    "import random\n",
    "from tqdm import tqdm \n",
    "\n",
    "\n",
    "# GET the test period \n",
    "test_date_range = pd.date_range(cfg.test_start_date, cfg.test_end_date)\n",
    "n_time_steps = len(test_date_range)\n",
    "\n",
    "# GET the list of training basins = basin_file\n",
    "if cfg.dataset == \"pixel\":\n",
    "    basins = [sid for sid in preds.station_id.values]\n",
    "else:\n",
    "    basins = load_basin_file(cfg.train_basin_file)\n",
    "    \n",
    "#  GET the scaler\n",
    "with open(cfg.run_dir / \"train_data/train_data_scaler.p\", \"rb\") as fp:\n",
    "    scaler = pickle.load(fp)\n",
    "\n",
    "# GET the model\n",
    "device = cfg.device\n",
    "model = get_model(cfg).to(device)\n",
    "_load_weights(model, cfg)"
   ]
  },
  {
   "cell_type": "markdown",
   "id": "6e754a25-8eb6-4c6c-8964-4f7c1ee652e1",
   "metadata": {},
   "source": [
    "# Initial interpretation of integrated gradients"
   ]
  },
  {
   "cell_type": "code",
   "execution_count": 7,
   "id": "27b7b74e-2577-4db3-9af7-6d916fc3ddd7",
   "metadata": {},
   "outputs": [],
   "source": [
    "%load_ext autoreload\n",
    "%autoreload 2\n",
    "\n",
    "from scripts.integrated_gradients import create_gradient_xarray"
   ]
  },
  {
   "cell_type": "code",
   "execution_count": 8,
   "id": "d5bcc66b-3d31-4532-ab56-8827c52e1149",
   "metadata": {},
   "outputs": [
    {
     "name": "stderr",
     "output_type": "stream",
     "text": [
      "Creating Gradient Xarray: 100%|██████████| 503/503 [00:08<00:00, 56.04it/s, 51001] \n"
     ]
    }
   ],
   "source": [
    "gradients = create_gradient_xarray(cfg, run_dir)\n",
    "# gradients.to_netcdf(run_dir / \"gradients.nc\")"
   ]
  },
  {
   "cell_type": "code",
   "execution_count": 14,
   "id": "7ec41ca3-178e-4ce2-83f3-0795d0ad07ba",
   "metadata": {},
   "outputs": [
    {
     "data": {
      "text/html": [
       "<div><svg style=\"position: absolute; width: 0; height: 0; overflow: hidden\">\n",
       "<defs>\n",
       "<symbol id=\"icon-database\" viewBox=\"0 0 32 32\">\n",
       "<path d=\"M16 0c-8.837 0-16 2.239-16 5v4c0 2.761 7.163 5 16 5s16-2.239 16-5v-4c0-2.761-7.163-5-16-5z\"></path>\n",
       "<path d=\"M16 17c-8.837 0-16-2.239-16-5v6c0 2.761 7.163 5 16 5s16-2.239 16-5v-6c0 2.761-7.163 5-16 5z\"></path>\n",
       "<path d=\"M16 26c-8.837 0-16-2.239-16-5v6c0 2.761 7.163 5 16 5s16-2.239 16-5v-6c0 2.761-7.163 5-16 5z\"></path>\n",
       "</symbol>\n",
       "<symbol id=\"icon-file-text2\" viewBox=\"0 0 32 32\">\n",
       "<path d=\"M28.681 7.159c-0.694-0.947-1.662-2.053-2.724-3.116s-2.169-2.030-3.116-2.724c-1.612-1.182-2.393-1.319-2.841-1.319h-15.5c-1.378 0-2.5 1.121-2.5 2.5v27c0 1.378 1.122 2.5 2.5 2.5h23c1.378 0 2.5-1.122 2.5-2.5v-19.5c0-0.448-0.137-1.23-1.319-2.841zM24.543 5.457c0.959 0.959 1.712 1.825 2.268 2.543h-4.811v-4.811c0.718 0.556 1.584 1.309 2.543 2.268zM28 29.5c0 0.271-0.229 0.5-0.5 0.5h-23c-0.271 0-0.5-0.229-0.5-0.5v-27c0-0.271 0.229-0.5 0.5-0.5 0 0 15.499-0 15.5 0v7c0 0.552 0.448 1 1 1h7v19.5z\"></path>\n",
       "<path d=\"M23 26h-14c-0.552 0-1-0.448-1-1s0.448-1 1-1h14c0.552 0 1 0.448 1 1s-0.448 1-1 1z\"></path>\n",
       "<path d=\"M23 22h-14c-0.552 0-1-0.448-1-1s0.448-1 1-1h14c0.552 0 1 0.448 1 1s-0.448 1-1 1z\"></path>\n",
       "<path d=\"M23 18h-14c-0.552 0-1-0.448-1-1s0.448-1 1-1h14c0.552 0 1 0.448 1 1s-0.448 1-1 1z\"></path>\n",
       "</symbol>\n",
       "</defs>\n",
       "</svg>\n",
       "<style>/* CSS stylesheet for displaying xarray objects in jupyterlab.\n",
       " *\n",
       " */\n",
       "\n",
       ":root {\n",
       "  --xr-font-color0: var(--jp-content-font-color0, rgba(0, 0, 0, 1));\n",
       "  --xr-font-color2: var(--jp-content-font-color2, rgba(0, 0, 0, 0.54));\n",
       "  --xr-font-color3: var(--jp-content-font-color3, rgba(0, 0, 0, 0.38));\n",
       "  --xr-border-color: var(--jp-border-color2, #e0e0e0);\n",
       "  --xr-disabled-color: var(--jp-layout-color3, #bdbdbd);\n",
       "  --xr-background-color: var(--jp-layout-color0, white);\n",
       "  --xr-background-color-row-even: var(--jp-layout-color1, white);\n",
       "  --xr-background-color-row-odd: var(--jp-layout-color2, #eeeeee);\n",
       "}\n",
       "\n",
       "html[theme=dark],\n",
       "body.vscode-dark {\n",
       "  --xr-font-color0: rgba(255, 255, 255, 1);\n",
       "  --xr-font-color2: rgba(255, 255, 255, 0.54);\n",
       "  --xr-font-color3: rgba(255, 255, 255, 0.38);\n",
       "  --xr-border-color: #1F1F1F;\n",
       "  --xr-disabled-color: #515151;\n",
       "  --xr-background-color: #111111;\n",
       "  --xr-background-color-row-even: #111111;\n",
       "  --xr-background-color-row-odd: #313131;\n",
       "}\n",
       "\n",
       ".xr-wrap {\n",
       "  display: block;\n",
       "  min-width: 300px;\n",
       "  max-width: 700px;\n",
       "}\n",
       "\n",
       ".xr-text-repr-fallback {\n",
       "  /* fallback to plain text repr when CSS is not injected (untrusted notebook) */\n",
       "  display: none;\n",
       "}\n",
       "\n",
       ".xr-header {\n",
       "  padding-top: 6px;\n",
       "  padding-bottom: 6px;\n",
       "  margin-bottom: 4px;\n",
       "  border-bottom: solid 1px var(--xr-border-color);\n",
       "}\n",
       "\n",
       ".xr-header > div,\n",
       ".xr-header > ul {\n",
       "  display: inline;\n",
       "  margin-top: 0;\n",
       "  margin-bottom: 0;\n",
       "}\n",
       "\n",
       ".xr-obj-type,\n",
       ".xr-array-name {\n",
       "  margin-left: 2px;\n",
       "  margin-right: 10px;\n",
       "}\n",
       "\n",
       ".xr-obj-type {\n",
       "  color: var(--xr-font-color2);\n",
       "}\n",
       "\n",
       ".xr-sections {\n",
       "  padding-left: 0 !important;\n",
       "  display: grid;\n",
       "  grid-template-columns: 150px auto auto 1fr 20px 20px;\n",
       "}\n",
       "\n",
       ".xr-section-item {\n",
       "  display: contents;\n",
       "}\n",
       "\n",
       ".xr-section-item input {\n",
       "  display: none;\n",
       "}\n",
       "\n",
       ".xr-section-item input + label {\n",
       "  color: var(--xr-disabled-color);\n",
       "}\n",
       "\n",
       ".xr-section-item input:enabled + label {\n",
       "  cursor: pointer;\n",
       "  color: var(--xr-font-color2);\n",
       "}\n",
       "\n",
       ".xr-section-item input:enabled + label:hover {\n",
       "  color: var(--xr-font-color0);\n",
       "}\n",
       "\n",
       ".xr-section-summary {\n",
       "  grid-column: 1;\n",
       "  color: var(--xr-font-color2);\n",
       "  font-weight: 500;\n",
       "}\n",
       "\n",
       ".xr-section-summary > span {\n",
       "  display: inline-block;\n",
       "  padding-left: 0.5em;\n",
       "}\n",
       "\n",
       ".xr-section-summary-in:disabled + label {\n",
       "  color: var(--xr-font-color2);\n",
       "}\n",
       "\n",
       ".xr-section-summary-in + label:before {\n",
       "  display: inline-block;\n",
       "  content: '►';\n",
       "  font-size: 11px;\n",
       "  width: 15px;\n",
       "  text-align: center;\n",
       "}\n",
       "\n",
       ".xr-section-summary-in:disabled + label:before {\n",
       "  color: var(--xr-disabled-color);\n",
       "}\n",
       "\n",
       ".xr-section-summary-in:checked + label:before {\n",
       "  content: '▼';\n",
       "}\n",
       "\n",
       ".xr-section-summary-in:checked + label > span {\n",
       "  display: none;\n",
       "}\n",
       "\n",
       ".xr-section-summary,\n",
       ".xr-section-inline-details {\n",
       "  padding-top: 4px;\n",
       "  padding-bottom: 4px;\n",
       "}\n",
       "\n",
       ".xr-section-inline-details {\n",
       "  grid-column: 2 / -1;\n",
       "}\n",
       "\n",
       ".xr-section-details {\n",
       "  display: none;\n",
       "  grid-column: 1 / -1;\n",
       "  margin-bottom: 5px;\n",
       "}\n",
       "\n",
       ".xr-section-summary-in:checked ~ .xr-section-details {\n",
       "  display: contents;\n",
       "}\n",
       "\n",
       ".xr-array-wrap {\n",
       "  grid-column: 1 / -1;\n",
       "  display: grid;\n",
       "  grid-template-columns: 20px auto;\n",
       "}\n",
       "\n",
       ".xr-array-wrap > label {\n",
       "  grid-column: 1;\n",
       "  vertical-align: top;\n",
       "}\n",
       "\n",
       ".xr-preview {\n",
       "  color: var(--xr-font-color3);\n",
       "}\n",
       "\n",
       ".xr-array-preview,\n",
       ".xr-array-data {\n",
       "  padding: 0 5px !important;\n",
       "  grid-column: 2;\n",
       "}\n",
       "\n",
       ".xr-array-data,\n",
       ".xr-array-in:checked ~ .xr-array-preview {\n",
       "  display: none;\n",
       "}\n",
       "\n",
       ".xr-array-in:checked ~ .xr-array-data,\n",
       ".xr-array-preview {\n",
       "  display: inline-block;\n",
       "}\n",
       "\n",
       ".xr-dim-list {\n",
       "  display: inline-block !important;\n",
       "  list-style: none;\n",
       "  padding: 0 !important;\n",
       "  margin: 0;\n",
       "}\n",
       "\n",
       ".xr-dim-list li {\n",
       "  display: inline-block;\n",
       "  padding: 0;\n",
       "  margin: 0;\n",
       "}\n",
       "\n",
       ".xr-dim-list:before {\n",
       "  content: '(';\n",
       "}\n",
       "\n",
       ".xr-dim-list:after {\n",
       "  content: ')';\n",
       "}\n",
       "\n",
       ".xr-dim-list li:not(:last-child):after {\n",
       "  content: ',';\n",
       "  padding-right: 5px;\n",
       "}\n",
       "\n",
       ".xr-has-index {\n",
       "  font-weight: bold;\n",
       "}\n",
       "\n",
       ".xr-var-list,\n",
       ".xr-var-item {\n",
       "  display: contents;\n",
       "}\n",
       "\n",
       ".xr-var-item > div,\n",
       ".xr-var-item label,\n",
       ".xr-var-item > .xr-var-name span {\n",
       "  background-color: var(--xr-background-color-row-even);\n",
       "  margin-bottom: 0;\n",
       "}\n",
       "\n",
       ".xr-var-item > .xr-var-name:hover span {\n",
       "  padding-right: 5px;\n",
       "}\n",
       "\n",
       ".xr-var-list > li:nth-child(odd) > div,\n",
       ".xr-var-list > li:nth-child(odd) > label,\n",
       ".xr-var-list > li:nth-child(odd) > .xr-var-name span {\n",
       "  background-color: var(--xr-background-color-row-odd);\n",
       "}\n",
       "\n",
       ".xr-var-name {\n",
       "  grid-column: 1;\n",
       "}\n",
       "\n",
       ".xr-var-dims {\n",
       "  grid-column: 2;\n",
       "}\n",
       "\n",
       ".xr-var-dtype {\n",
       "  grid-column: 3;\n",
       "  text-align: right;\n",
       "  color: var(--xr-font-color2);\n",
       "}\n",
       "\n",
       ".xr-var-preview {\n",
       "  grid-column: 4;\n",
       "}\n",
       "\n",
       ".xr-var-name,\n",
       ".xr-var-dims,\n",
       ".xr-var-dtype,\n",
       ".xr-preview,\n",
       ".xr-attrs dt {\n",
       "  white-space: nowrap;\n",
       "  overflow: hidden;\n",
       "  text-overflow: ellipsis;\n",
       "  padding-right: 10px;\n",
       "}\n",
       "\n",
       ".xr-var-name:hover,\n",
       ".xr-var-dims:hover,\n",
       ".xr-var-dtype:hover,\n",
       ".xr-attrs dt:hover {\n",
       "  overflow: visible;\n",
       "  width: auto;\n",
       "  z-index: 1;\n",
       "}\n",
       "\n",
       ".xr-var-attrs,\n",
       ".xr-var-data {\n",
       "  display: none;\n",
       "  background-color: var(--xr-background-color) !important;\n",
       "  padding-bottom: 5px !important;\n",
       "}\n",
       "\n",
       ".xr-var-attrs-in:checked ~ .xr-var-attrs,\n",
       ".xr-var-data-in:checked ~ .xr-var-data {\n",
       "  display: block;\n",
       "}\n",
       "\n",
       ".xr-var-data > table {\n",
       "  float: right;\n",
       "}\n",
       "\n",
       ".xr-var-name span,\n",
       ".xr-var-data,\n",
       ".xr-attrs {\n",
       "  padding-left: 25px !important;\n",
       "}\n",
       "\n",
       ".xr-attrs,\n",
       ".xr-var-attrs,\n",
       ".xr-var-data {\n",
       "  grid-column: 1 / -1;\n",
       "}\n",
       "\n",
       "dl.xr-attrs {\n",
       "  padding: 0;\n",
       "  margin: 0;\n",
       "  display: grid;\n",
       "  grid-template-columns: 125px auto;\n",
       "}\n",
       "\n",
       ".xr-attrs dt,\n",
       ".xr-attrs dd {\n",
       "  padding: 0;\n",
       "  margin: 0;\n",
       "  float: left;\n",
       "  padding-right: 10px;\n",
       "  width: auto;\n",
       "}\n",
       "\n",
       ".xr-attrs dt {\n",
       "  font-weight: normal;\n",
       "  grid-column: 1;\n",
       "}\n",
       "\n",
       ".xr-attrs dt:hover span {\n",
       "  display: inline-block;\n",
       "  background: var(--xr-background-color);\n",
       "  padding-right: 10px;\n",
       "}\n",
       "\n",
       ".xr-attrs dd {\n",
       "  grid-column: 2;\n",
       "  white-space: pre-wrap;\n",
       "  word-break: break-all;\n",
       "}\n",
       "\n",
       ".xr-icon-database,\n",
       ".xr-icon-file-text2 {\n",
       "  display: inline-block;\n",
       "  vertical-align: middle;\n",
       "  width: 1em;\n",
       "  height: 1.5em !important;\n",
       "  stroke-width: 0;\n",
       "  stroke: currentColor;\n",
       "  fill: currentColor;\n",
       "}\n",
       "</style><pre class='xr-text-repr-fallback'>&lt;xarray.Dataset&gt;\n",
       "Dimensions:        (seq_length: 365, station_id: 499, target_time: 4018)\n",
       "Coordinates:\n",
       "  * station_id     (station_id) &lt;U6 &#x27;27077&#x27; &#x27;54027&#x27; &#x27;68003&#x27; ... &#x27;17004&#x27; &#x27;51001&#x27;\n",
       "  * target_time    (target_time) datetime64[ns] 1998-01-01 ... 2008-12-31\n",
       "  * seq_length     (seq_length) int64 364 363 362 361 360 359 ... 5 4 3 2 1 0\n",
       "Data variables:\n",
       "    pet            (station_id, target_time, seq_length) float64 4.823e-05 .....\n",
       "    precipitation  (station_id, target_time, seq_length) float64 2.428e-05 .....\n",
       "    temperature    (station_id, target_time, seq_length) float64 -9.388e-06 ....</pre><div class='xr-wrap' hidden><div class='xr-header'><div class='xr-obj-type'>xarray.Dataset</div></div><ul class='xr-sections'><li class='xr-section-item'><input id='section-b5124e96-4230-4e68-b470-6274e89a2b4b' class='xr-section-summary-in' type='checkbox' disabled ><label for='section-b5124e96-4230-4e68-b470-6274e89a2b4b' class='xr-section-summary'  title='Expand/collapse section'>Dimensions:</label><div class='xr-section-inline-details'><ul class='xr-dim-list'><li><span class='xr-has-index'>seq_length</span>: 365</li><li><span class='xr-has-index'>station_id</span>: 499</li><li><span class='xr-has-index'>target_time</span>: 4018</li></ul></div><div class='xr-section-details'></div></li><li class='xr-section-item'><input id='section-d62310f9-de38-49ec-9d1c-102bc2392f99' class='xr-section-summary-in' type='checkbox'  checked><label for='section-d62310f9-de38-49ec-9d1c-102bc2392f99' class='xr-section-summary' >Coordinates: <span>(3)</span></label><div class='xr-section-inline-details'></div><div class='xr-section-details'><ul class='xr-var-list'><li class='xr-var-item'><div class='xr-var-name'><span class='xr-has-index'>station_id</span></div><div class='xr-var-dims'>(station_id)</div><div class='xr-var-dtype'>&lt;U6</div><div class='xr-var-preview xr-preview'>&#x27;27077&#x27; &#x27;54027&#x27; ... &#x27;17004&#x27; &#x27;51001&#x27;</div><input id='attrs-b5f89bcf-7620-40b5-be48-fdd9aa660008' class='xr-var-attrs-in' type='checkbox' disabled><label for='attrs-b5f89bcf-7620-40b5-be48-fdd9aa660008' title='Show/Hide attributes'><svg class='icon xr-icon-file-text2'><use xlink:href='#icon-file-text2'></use></svg></label><input id='data-ad12e905-9bb8-4437-a452-f9ab6f6a0650' class='xr-var-data-in' type='checkbox'><label for='data-ad12e905-9bb8-4437-a452-f9ab6f6a0650' title='Show/Hide data repr'><svg class='icon xr-icon-database'><use xlink:href='#icon-database'></use></svg></label><div class='xr-var-attrs'><dl class='xr-attrs'></dl></div><div class='xr-var-data'><pre>array([&#x27;27077&#x27;, &#x27;54027&#x27;, &#x27;68003&#x27;, ..., &#x27;79004&#x27;, &#x27;17004&#x27;, &#x27;51001&#x27;], dtype=&#x27;&lt;U6&#x27;)</pre></div></li><li class='xr-var-item'><div class='xr-var-name'><span class='xr-has-index'>target_time</span></div><div class='xr-var-dims'>(target_time)</div><div class='xr-var-dtype'>datetime64[ns]</div><div class='xr-var-preview xr-preview'>1998-01-01 ... 2008-12-31</div><input id='attrs-6e2000cc-4963-439b-b8d5-049269fd5a0c' class='xr-var-attrs-in' type='checkbox' disabled><label for='attrs-6e2000cc-4963-439b-b8d5-049269fd5a0c' title='Show/Hide attributes'><svg class='icon xr-icon-file-text2'><use xlink:href='#icon-file-text2'></use></svg></label><input id='data-36d68865-6311-480a-8247-acad501a3a27' class='xr-var-data-in' type='checkbox'><label for='data-36d68865-6311-480a-8247-acad501a3a27' title='Show/Hide data repr'><svg class='icon xr-icon-database'><use xlink:href='#icon-database'></use></svg></label><div class='xr-var-attrs'><dl class='xr-attrs'></dl></div><div class='xr-var-data'><pre>array([&#x27;1998-01-01T00:00:00.000000000&#x27;, &#x27;1998-01-02T00:00:00.000000000&#x27;,\n",
       "       &#x27;1998-01-03T00:00:00.000000000&#x27;, ..., &#x27;2008-12-29T00:00:00.000000000&#x27;,\n",
       "       &#x27;2008-12-30T00:00:00.000000000&#x27;, &#x27;2008-12-31T00:00:00.000000000&#x27;],\n",
       "      dtype=&#x27;datetime64[ns]&#x27;)</pre></div></li><li class='xr-var-item'><div class='xr-var-name'><span class='xr-has-index'>seq_length</span></div><div class='xr-var-dims'>(seq_length)</div><div class='xr-var-dtype'>int64</div><div class='xr-var-preview xr-preview'>364 363 362 361 360 ... 4 3 2 1 0</div><input id='attrs-4c759dbc-78f1-4780-870b-c8e93fea69bb' class='xr-var-attrs-in' type='checkbox' disabled><label for='attrs-4c759dbc-78f1-4780-870b-c8e93fea69bb' title='Show/Hide attributes'><svg class='icon xr-icon-file-text2'><use xlink:href='#icon-file-text2'></use></svg></label><input id='data-94c5b9af-bfb2-4409-bffc-921ca9549e67' class='xr-var-data-in' type='checkbox'><label for='data-94c5b9af-bfb2-4409-bffc-921ca9549e67' title='Show/Hide data repr'><svg class='icon xr-icon-database'><use xlink:href='#icon-database'></use></svg></label><div class='xr-var-attrs'><dl class='xr-attrs'></dl></div><div class='xr-var-data'><pre>array([364, 363, 362, ...,   2,   1,   0])</pre></div></li></ul></div></li><li class='xr-section-item'><input id='section-c873e9c7-c294-413a-a247-39d86fc4e7f7' class='xr-section-summary-in' type='checkbox'  checked><label for='section-c873e9c7-c294-413a-a247-39d86fc4e7f7' class='xr-section-summary' >Data variables: <span>(3)</span></label><div class='xr-section-inline-details'></div><div class='xr-section-details'><ul class='xr-var-list'><li class='xr-var-item'><div class='xr-var-name'><span>pet</span></div><div class='xr-var-dims'>(station_id, target_time, seq_length)</div><div class='xr-var-dtype'>float64</div><div class='xr-var-preview xr-preview'>4.823e-05 4.718e-05 ... -0.002391</div><input id='attrs-8cbc688e-a04f-42bb-b55f-e6c94a964df4' class='xr-var-attrs-in' type='checkbox' disabled><label for='attrs-8cbc688e-a04f-42bb-b55f-e6c94a964df4' title='Show/Hide attributes'><svg class='icon xr-icon-file-text2'><use xlink:href='#icon-file-text2'></use></svg></label><input id='data-4db053b8-fccd-4caf-bbf2-ed23af9bd15b' class='xr-var-data-in' type='checkbox'><label for='data-4db053b8-fccd-4caf-bbf2-ed23af9bd15b' title='Show/Hide data repr'><svg class='icon xr-icon-database'><use xlink:href='#icon-database'></use></svg></label><div class='xr-var-attrs'><dl class='xr-attrs'></dl></div><div class='xr-var-data'><pre>array([[[ 4.82313517e-05,  4.71823150e-05,  4.60343072e-05, ...,\n",
       "          5.56171238e-02,  4.43310700e-02,  1.70546994e-01],\n",
       "        [ 9.15475684e-05,  9.96090239e-05,  9.49302776e-05, ...,\n",
       "          3.56329642e-02,  2.44074181e-01,  4.07931983e-01],\n",
       "        [ 1.24659127e-04,  1.30235130e-04,  1.13950671e-04, ...,\n",
       "          1.20914690e-01,  3.03090662e-01,  5.23352385e-01],\n",
       "        ...,\n",
       "        [ 8.76722552e-05,  5.00325186e-05,  1.46324874e-05, ...,\n",
       "          6.73477026e-03,  8.08542781e-03,  1.37692643e-02],\n",
       "        [ 4.80793897e-05,  1.59436640e-05,  3.48524372e-05, ...,\n",
       "          6.11961540e-03,  6.55468041e-03,  1.14345355e-02],\n",
       "        [ 1.24819144e-05,  3.77913202e-05,  4.40792173e-05, ...,\n",
       "          5.46218269e-03,  5.15272887e-03,  8.93825293e-03]],\n",
       "\n",
       "       [[ 1.89024257e-04,  1.54713911e-04,  1.56947368e-04, ...,\n",
       "          2.34757438e-02,  6.57218043e-03,  1.48746856e-02],\n",
       "        [ 2.09206453e-04,  1.96757610e-04,  2.02782889e-04, ...,\n",
       "          5.10155549e-03,  9.01993588e-02,  1.43119246e-02],\n",
       "        [ 2.37801869e-04,  2.20522197e-04,  2.07674238e-04, ...,\n",
       "          6.90264702e-02,  6.90058991e-02,  1.08285593e-02],\n",
       "...\n",
       "        [ 3.22208129e-04,  2.86730443e-04,  4.35418442e-05, ...,\n",
       "          8.28560721e-03,  1.28300600e-02,  9.69794637e-04],\n",
       "        [ 4.97249188e-04,  5.36593070e-05,  2.09549398e-04, ...,\n",
       "          8.70059151e-03,  7.10539892e-03, -1.35650195e-03],\n",
       "        [ 9.71734480e-05,  2.94504134e-04,  4.62378121e-05, ...,\n",
       "          5.70219429e-03,  5.33933425e-03, -1.98831270e-03]],\n",
       "\n",
       "       [[ 1.51585293e-04,  1.03999329e-04,  1.00232784e-04, ...,\n",
       "          8.31528902e-02,  3.79769914e-02,  2.53818512e-01],\n",
       "        [ 2.33588828e-04,  2.12255865e-04,  1.56440336e-04, ...,\n",
       "          4.63866331e-02,  6.57859683e-01,  3.02365184e-01],\n",
       "        [ 3.73454328e-04,  2.78912776e-04,  1.59590782e-04, ...,\n",
       "          4.32571411e-01,  6.11229241e-01,  2.33333513e-01],\n",
       "        ...,\n",
       "        [ 6.72580718e-05,  4.77831018e-05,  3.25498877e-05, ...,\n",
       "          2.94232764e-03,  4.22293227e-03, -1.64103170e-03],\n",
       "        [ 6.07354013e-05,  3.86757165e-05,  2.92364366e-05, ...,\n",
       "          2.92406371e-03,  4.20881761e-03, -1.78023288e-03],\n",
       "        [ 5.64498332e-05,  3.89802735e-05,  1.10494359e-04, ...,\n",
       "          2.67477031e-03,  3.61732044e-03, -2.39095651e-03]]])</pre></div></li><li class='xr-var-item'><div class='xr-var-name'><span>precipitation</span></div><div class='xr-var-dims'>(station_id, target_time, seq_length)</div><div class='xr-var-dtype'>float64</div><div class='xr-var-preview xr-preview'>2.428e-05 1.074e-05 ... -0.01281</div><input id='attrs-4d932a77-1142-4d0a-a655-4f4dd5149f57' class='xr-var-attrs-in' type='checkbox' disabled><label for='attrs-4d932a77-1142-4d0a-a655-4f4dd5149f57' title='Show/Hide attributes'><svg class='icon xr-icon-file-text2'><use xlink:href='#icon-file-text2'></use></svg></label><input id='data-26ff97e1-14b7-475b-afd2-70b4739de7d3' class='xr-var-data-in' type='checkbox'><label for='data-26ff97e1-14b7-475b-afd2-70b4739de7d3' title='Show/Hide data repr'><svg class='icon xr-icon-database'><use xlink:href='#icon-database'></use></svg></label><div class='xr-var-attrs'><dl class='xr-attrs'></dl></div><div class='xr-var-data'><pre>array([[[ 2.42764108e-05,  1.07447577e-05,  9.66292191e-06, ...,\n",
       "          1.78758361e-04,  4.02014011e-05, -4.40785754e-03],\n",
       "        [ 4.99736670e-05,  2.92256955e-05,  1.35539585e-05, ...,\n",
       "         -1.37083785e-04,  1.03272982e-02, -3.85223166e-03],\n",
       "        [ 6.59236175e-05,  2.70856108e-05,  1.45958356e-05, ...,\n",
       "         -1.15846482e-03,  6.20217668e-03, -6.41243486e-03],\n",
       "        ...,\n",
       "        [-5.16501359e-07,  1.07468576e-08,  7.36335778e-07, ...,\n",
       "          9.68711684e-04, -3.06509249e-03,  8.77725333e-03],\n",
       "        [-2.45752183e-08,  1.65067115e-06, -2.02678189e-06, ...,\n",
       "          7.66960671e-04, -3.52761871e-03,  8.48870631e-03],\n",
       "        [ 3.85136718e-06, -1.78240805e-06, -2.61760943e-06, ...,\n",
       "          9.19948623e-04, -4.97293519e-03,  1.05970725e-02]],\n",
       "\n",
       "       [[ 5.34912651e-05,  2.97439783e-05,  2.22423314e-05, ...,\n",
       "          3.03389359e-04,  2.83438876e-05, -1.43827999e-03],\n",
       "        [ 6.58189965e-05,  3.51615490e-05,  2.58799864e-05, ...,\n",
       "          4.97851943e-05, -1.71594293e-04,  3.76873853e-04],\n",
       "        [ 6.65152984e-05,  3.80951860e-05,  2.40534137e-05, ...,\n",
       "          8.72643341e-06, -3.47403169e-04,  5.27637138e-04],\n",
       "...\n",
       "        [-3.25302244e-06,  2.26963357e-06, -2.25098873e-07, ...,\n",
       "         -1.82053074e-04, -1.50587363e-03, -7.73836067e-03],\n",
       "        [ 3.70999192e-06, -4.64172160e-07, -9.12794985e-06, ...,\n",
       "         -1.38294970e-04, -1.90406980e-03, -9.44533478e-03],\n",
       "        [-2.56834460e-06, -1.34574311e-05, -3.57150753e-07, ...,\n",
       "         -4.52164415e-04, -2.88851839e-03, -1.02249347e-02]],\n",
       "\n",
       "       [[-1.51619333e-05, -5.92611104e-06,  1.26573850e-05, ...,\n",
       "          1.07625860e-03,  1.05076074e-03, -1.50024157e-03],\n",
       "        [-5.94673802e-05,  1.76198701e-05,  1.90485116e-05, ...,\n",
       "         -3.06952919e-04,  2.22637528e-03, -4.06308071e-04],\n",
       "        [ 2.71873378e-05,  3.20924773e-05,  8.39177574e-06, ...,\n",
       "          4.70236992e-04, -5.06968191e-03,  3.61880357e-03],\n",
       "        ...,\n",
       "        [-5.30237730e-06, -2.40394183e-06,  4.12461259e-06, ...,\n",
       "         -3.19420476e-04, -1.73957567e-04, -8.20725039e-03],\n",
       "        [-2.79757660e-06,  4.99516000e-06,  8.75668866e-06, ...,\n",
       "         -2.21381895e-04, -2.77316489e-04, -9.38939396e-03],\n",
       "        [ 6.65060179e-06,  9.54858842e-06,  3.28793561e-07, ...,\n",
       "         -2.98175582e-04, -4.94840904e-04, -1.28114326e-02]]])</pre></div></li><li class='xr-var-item'><div class='xr-var-name'><span>temperature</span></div><div class='xr-var-dims'>(station_id, target_time, seq_length)</div><div class='xr-var-dtype'>float64</div><div class='xr-var-preview xr-preview'>-9.388e-06 ... -5.571e-05</div><input id='attrs-743b0e5f-860e-4b7d-8fc8-b869d5f37bff' class='xr-var-attrs-in' type='checkbox' disabled><label for='attrs-743b0e5f-860e-4b7d-8fc8-b869d5f37bff' title='Show/Hide attributes'><svg class='icon xr-icon-file-text2'><use xlink:href='#icon-file-text2'></use></svg></label><input id='data-64f6971f-c356-4af5-a038-f955a0c06a3d' class='xr-var-data-in' type='checkbox'><label for='data-64f6971f-c356-4af5-a038-f955a0c06a3d' title='Show/Hide data repr'><svg class='icon xr-icon-database'><use xlink:href='#icon-database'></use></svg></label><div class='xr-var-attrs'><dl class='xr-attrs'></dl></div><div class='xr-var-data'><pre>array([[[-9.38768244e-06, -1.39374106e-05, -2.21844093e-05, ...,\n",
       "         -1.09003123e-03, -7.96609442e-04, -8.68569035e-03],\n",
       "        [-2.95921363e-05, -5.35230793e-05, -3.13049859e-05, ...,\n",
       "         -3.65134515e-03,  1.38063785e-02, -3.69599089e-02],\n",
       "        [-7.04076156e-05, -4.50199514e-05, -3.08107628e-05, ...,\n",
       "         -2.86834151e-03,  1.92235690e-02, -1.08912550e-01],\n",
       "        ...,\n",
       "        [-4.81192046e-06, -4.69500355e-06, -3.68833048e-06, ...,\n",
       "          5.01032337e-04, -4.48499061e-03,  9.03293863e-03],\n",
       "        [-5.66077279e-06, -4.57153101e-06, -2.92211030e-06, ...,\n",
       "          6.16133679e-04, -4.49357601e-03,  6.68154424e-03],\n",
       "        [-4.11060000e-06, -3.56290025e-06, -1.43293062e-06, ...,\n",
       "          7.13903049e-04, -3.44124134e-03,  6.13783579e-03]],\n",
       "\n",
       "       [[-2.42672741e-05, -2.93719750e-05, -3.67691646e-05, ...,\n",
       "         -1.17212837e-03, -7.42391974e-04, -2.20660097e-03],\n",
       "        [-3.98351985e-05, -4.70350496e-05, -5.23108247e-05, ...,\n",
       "         -1.35660649e-03, -9.62067745e-04, -5.88851841e-03],\n",
       "        [-5.48660391e-05, -5.79266816e-05, -4.19167955e-05, ...,\n",
       "         -1.34377251e-03, -2.92369607e-03, -6.49597077e-03],\n",
       "...\n",
       "        [-2.04446987e-05, -8.60376440e-06, -1.08228742e-05, ...,\n",
       "         -2.96166487e-04,  8.80950120e-06,  9.55249998e-04],\n",
       "        [-1.55451835e-05, -1.84420369e-05, -8.24653034e-06, ...,\n",
       "         -1.43074023e-04,  5.46773044e-05,  1.47657422e-03],\n",
       "        [-3.04595706e-05, -1.33991616e-05, -7.64967081e-06, ...,\n",
       "         -4.53547327e-05,  7.31452456e-05,  1.65535382e-03]],\n",
       "\n",
       "       [[-6.23795768e-06, -1.52870816e-05, -3.14978533e-05, ...,\n",
       "         -1.52423978e-03,  5.90261770e-03, -2.89746355e-02],\n",
       "        [-1.31438183e-05, -5.58994107e-05, -6.03351618e-05, ...,\n",
       "         -4.84507624e-03,  3.72011699e-02, -8.62238035e-02],\n",
       "        [-4.87591169e-05, -7.64386423e-05, -4.15780050e-05, ...,\n",
       "          7.17604114e-03,  1.29187852e-02, -1.02535188e-01],\n",
       "        ...,\n",
       "        [-1.39787362e-05, -1.51387949e-05, -1.83777229e-05, ...,\n",
       "          2.77963001e-04,  4.46920545e-04, -1.80014729e-04],\n",
       "        [-1.65380279e-05, -1.96250803e-05, -1.32627138e-05, ...,\n",
       "          2.76954641e-04,  4.83433570e-04, -1.08277440e-04],\n",
       "        [-2.28858753e-05, -1.44494670e-05, -5.39692701e-06, ...,\n",
       "          4.69050370e-04,  1.83121621e-04, -5.57084095e-05]]])</pre></div></li></ul></div></li><li class='xr-section-item'><input id='section-e1d3967a-defd-41d6-8f91-ff8b1fd24e6c' class='xr-section-summary-in' type='checkbox' disabled ><label for='section-e1d3967a-defd-41d6-8f91-ff8b1fd24e6c' class='xr-section-summary'  title='Expand/collapse section'>Attributes: <span>(0)</span></label><div class='xr-section-inline-details'></div><div class='xr-section-details'><dl class='xr-attrs'></dl></div></li></ul></div></div>"
      ],
      "text/plain": [
       "<xarray.Dataset>\n",
       "Dimensions:        (seq_length: 365, station_id: 499, target_time: 4018)\n",
       "Coordinates:\n",
       "  * station_id     (station_id) <U6 '27077' '54027' '68003' ... '17004' '51001'\n",
       "  * target_time    (target_time) datetime64[ns] 1998-01-01 ... 2008-12-31\n",
       "  * seq_length     (seq_length) int64 364 363 362 361 360 359 ... 5 4 3 2 1 0\n",
       "Data variables:\n",
       "    pet            (station_id, target_time, seq_length) float64 4.823e-05 .....\n",
       "    precipitation  (station_id, target_time, seq_length) float64 2.428e-05 .....\n",
       "    temperature    (station_id, target_time, seq_length) float64 -9.388e-06 ...."
      ]
     },
     "execution_count": 14,
     "metadata": {},
     "output_type": "execute_result"
    }
   ],
   "source": [
    "gradients"
   ]
  },
  {
   "cell_type": "markdown",
   "id": "1dffc2f0-25d1-4513-917a-1913813b8aa3",
   "metadata": {},
   "source": [
    "# visualise gradients"
   ]
  },
  {
   "cell_type": "code",
   "execution_count": 10,
   "id": "aa975ca6-8292-476e-a6f4-c0338357fc5b",
   "metadata": {},
   "outputs": [],
   "source": [
    "med = gradients.mean(dim=\"target_time\").sel(seq_length=range(0, 20)).isel(station_id=0)\n",
    "med"
   ]
  },
  {
   "cell_type": "code",
   "execution_count": 11,
   "id": "9a8c8393-1e4a-4af4-966c-65eacb5df179",
   "metadata": {},
   "outputs": [
    {
     "data": {
      "image/png": "[encoded data removed]",
      "text/plain": [
       "<Figure size 864x288 with 1 Axes>"
      ]
     },
     "metadata": {
      "needs_background": "light"
     },
     "output_type": "display_data"
    }
   ],
   "source": [
    "import matplotlib.pyplot as plt\n",
    "import seaborn as sns\n",
    "\n",
    "f, ax = plt.subplots(figsize=(12, 4))\n",
    "\n",
    "for var in gradients.data_vars:\n",
    "    ax.plot(med.seq_length, med[var], marker=\"o\", label=var)\n",
    "\n",
    "# var = \"precipitation\"\n",
    "# ax.plot(med.seq_length, med[var], marker=\"o\", label=var)\n",
    "\n",
    "ax.axhline(0, color=\"k\", alpha=0.5, ls=\"--\")\n",
    "ax.set_ylabel(\"mean integrated gradient\")\n",
    "ax.set_xlabel(\"days before target\")\n",
    "plt.legend()\n",
    "sns.despine()"
   ]
  },
  {
   "cell_type": "markdown",
   "id": "8b809d22-87a4-4839-851b-0797c3474373",
   "metadata": {},
   "source": [
    "## spatial interpretation"
   ]
  },
  {
   "cell_type": "code",
   "execution_count": 15,
   "id": "05ab148e-4bcf-432e-97d5-4ea099bbd6a6",
   "metadata": {},
   "outputs": [],
   "source": [
    "from scripts.geospatial import (initialise_gb_spatial_plot, load_latlon_points)"
   ]
  },
  {
   "cell_type": "code",
   "execution_count": 16,
   "id": "9949c0b7-d154-4885-b010-00b7c8a67248",
   "metadata": {},
   "outputs": [],
   "source": [
    "points = load_latlon_points(Path(\"/home/tommy/spatio_temporal/data\"))"
   ]
  },
  {
   "cell_type": "code",
   "execution_count": 17,
   "id": "8cd7adec-c556-467a-b083-d6e735c02192",
   "metadata": {},
   "outputs": [
    {
     "name": "stdout",
     "output_type": "stream",
     "text": [
      "499\n"
     ]
    },
    {
     "data": {
      "text/plain": [
       "<AxesSubplot:>"
      ]
     },
     "execution_count": 17,
     "metadata": {},
     "output_type": "execute_result"
    },
    {
     "data": {
      "image/png": "[encoded data removed]",
      "text/plain": [
       "<Figure size 360x576 with 1 Axes>"
      ]
     },
     "metadata": {
      "needs_background": "light"
     },
     "output_type": "display_data"
    }
   ],
   "source": [
    "sids = gradients[\"station_id\"].values\n",
    "ax = initialise_gb_spatial_plot()\n",
    "print(sum([v in sids for v in points.index.astype(str)]))\n",
    "points.loc[[v in sids for v in points.index.astype(str)]].plot(ax=ax)"
   ]
  },
  {
   "cell_type": "markdown",
   "id": "f3454a29-534e-4831-9687-00771c6a9742",
   "metadata": {},
   "source": [
    "# Interpretation"
   ]
  },
  {
   "cell_type": "code",
   "execution_count": 29,
   "id": "3483a45d-2dfa-4d7f-b7e1-96ed823f113f",
   "metadata": {},
   "outputs": [],
   "source": [
    "from torch import nn\n",
    "from torch import Tensor"
   ]
  },
  {
   "cell_type": "code",
   "execution_count": 55,
   "id": "853d44ca-7a22-42b7-9606-347699bb20cd",
   "metadata": {},
   "outputs": [],
   "source": [
    "relu = nn.ReLU()\n",
    "f = lambda x: 1 - relu(Tensor(1) - x)"
   ]
  },
  {
   "cell_type": "code",
   "execution_count": 56,
   "id": "81cdc357-fd70-486a-a7e2-3fada2bef069",
   "metadata": {},
   "outputs": [
    {
     "data": {
      "text/plain": [
       "[<matplotlib.lines.Line2D at 0x7ff0294342e0>]"
      ]
     },
     "execution_count": 56,
     "metadata": {},
     "output_type": "execute_result"
    },
    {
     "data": {
      "image/png": "[encoded data removed]",
      "text/plain": [
       "<Figure size 432x288 with 1 Axes>"
      ]
     },
     "metadata": {
      "needs_background": "light"
     },
     "output_type": "display_data"
    }
   ],
   "source": [
    "x = np.linspace(-1, 1, 10)\n",
    "y = f(x)\n",
    "\n",
    "plt.plot(x, y)"
   ]
  },
  {
   "cell_type": "code",
   "execution_count": null,
   "id": "c94595a2-c26f-43e0-aea2-2fc59b35f7e8",
   "metadata": {},
   "outputs": [],
   "source": []
  }
 ],
 "metadata": {
  "kernelspec": {
   "display_name": "Python 3",
   "language": "python",
   "name": "python3"
  },
  "language_info": {
   "codemirror_mode": {
    "name": "ipython",
    "version": 3
   },
   "file_extension": ".py",
   "mimetype": "text/x-python",
   "name": "python",
   "nbconvert_exporter": "python",
   "pygments_lexer": "ipython3",
   "version": "3.8.10"
  }
 },
 "nbformat": 4,
 "nbformat_minor": 5
}
