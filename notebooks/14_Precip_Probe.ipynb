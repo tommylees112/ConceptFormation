{
 "cells": [
  {
   "cell_type": "markdown",
   "id": "dd6e4e1c-17d1-4292-9c6d-91dbc48bca00",
   "metadata": {},
   "source": [
    "# Probe for Precip, Q, etc."
   ]
  },
  {
   "cell_type": "code",
   "execution_count": 1,
   "id": "73b9a7df-fd95-4474-b89e-224494558fbd",
   "metadata": {},
   "outputs": [],
   "source": [
    "from pathlib import Path\n",
    "import numpy as np \n",
    "import xarray as xr \n",
    "import matplotlib.pyplot as plt\n",
    "import seaborn as sns\n",
    "import warnings \n",
    "import pandas as pd\n",
    "\n",
    "import sys\n",
    "sys.path.append(\"/home/tommy/neuralhydrology\")\n",
    "from scripts.read_nh_results import (\n",
    "    get_test_filepath,\n",
    "    get_all_station_ds,\n",
    "    calculate_all_error_metrics,\n",
    "    get_ensemble_path,\n",
    ")\n",
    "\n",
    "from scripts.read_model import (get_model, _load_weights)\n",
    "from scripts.read_nh_results import (read_multi_experiment_results, calculate_member_errors)\n",
    "from neuralhydrology.utils.config import Config\n",
    "\n",
    "%load_ext autoreload\n",
    "%autoreload 2"
   ]
  },
  {
   "cell_type": "markdown",
   "id": "1a49cf5b-a0de-4b73-b25a-a61bfebd8dff",
   "metadata": {},
   "source": [
    "### Get the cell state data"
   ]
  },
  {
   "cell_type": "code",
   "execution_count": 8,
   "id": "2d836a3c-8c99-4ef2-94ec-39d98aea5dc1",
   "metadata": {
    "tags": []
   },
   "outputs": [],
   "source": [
    "from scripts.cell_state.extract_cell_state import get_cell_states\n",
    "from scripts.cell_state.normalize import (normalize_xarray_cstate, normalize_xr_by_basin)\n",
    "from scripts.cell_state.cell_state_dataset import dataset_dimensions_to_variable\n",
    "from scripts.cell_state.cell_state_dataset import fill_gaps\n",
    "from scripts.cell_state.normalize import normalize_2d_dataset\n",
    "\n",
    "\n",
    "data_dir = Path(\"/datadrive/data/\")\n",
    "\n",
    "if not (data_dir / \"SOIL_MOISTURE/norm_cs_data.nc\").exists():\n",
    "    out_dir = run_dir / \"cell_states\"\n",
    "    if not out_dir.exists():\n",
    "        out_dir.mkdir(parents=True, exist_ok=True)\n",
    "\n",
    "    if not (out_dir / \"cell_states.nc\").exists():\n",
    "        cn = get_cell_states(cfg, run_dir)\n",
    "        cn.to_netcdf(out_dir / \"cell_states.nc\")\n",
    "    else:\n",
    "        cn = xr.open_dataset(out_dir / \"cell_states.nc\")\n",
    "\n",
    "    cs_data = cn.copy()\n",
    "    norm_cs_data = normalize_xarray_cstate(cs_data, cell_state_var=\"c_n\")\n",
    "\n",
    "    norm_cs_data[\"station_id\"] = [int(sid) for sid in norm_cs_data[\"station_id\"]]\n",
    "    if \"date\" in norm_cs_data.dims:\n",
    "        norm_cs_data = norm_cs_data.rename({\"date\": \"time\"})\n",
    "else:\n",
    "    norm_cs_data = xr.open_dataset(data_dir / \"SOIL_MOISTURE/norm_cs_data.nc\")\n",
    "    \n",
    "\n",
    "cs = dataset_dimensions_to_variable(norm_cs_data)"
   ]
  },
  {
   "cell_type": "markdown",
   "id": "c123967b-d1ee-4e4b-81fd-211d62b14411",
   "metadata": {},
   "source": [
    "## Load the camels data"
   ]
  },
  {
   "cell_type": "code",
   "execution_count": 3,
   "id": "adac58d7-a13b-49d2-b5b4-76b01a24fb22",
   "metadata": {},
   "outputs": [],
   "source": [
    "# Load the discharge data to be the \n",
    "ds = xr.open_dataset(\"/home/tommy/spatio_temporal/data/ALL_dynamic_ds.nc\")"
   ]
  },
  {
   "cell_type": "code",
   "execution_count": 30,
   "id": "cb848614-87db-44a5-b1a1-8a4104c2aafe",
   "metadata": {},
   "outputs": [
    {
     "name": "stderr",
     "output_type": "stream",
     "text": [
      "Normalising each station: 100%|██████████| 671/671 [00:01<00:00, 431.54it/s]\n",
      "Normalising each station: 100%|██████████| 671/671 [00:09<00:00, 73.98it/s]\n"
     ]
    }
   ],
   "source": [
    "epsilon = 1e-10\n",
    "log_pcp = np.log(ds[\"precipitation\"] + epsilon)\n",
    "\n",
    "norm_log_pcp = normalize_2d_dataset(log_pcp.to_dataset(), variable_str=\"precipitation\")\n",
    "\n",
    "norm_temp = normalize_2d_dataset(ds[[\"temperature\"]], variable_str=\"temperature\")"
   ]
  },
  {
   "cell_type": "code",
   "execution_count": 19,
   "id": "1e1ea914-36a7-4932-9a70-63825da7351b",
   "metadata": {},
   "outputs": [
    {
     "data": {
      "image/png": "[encoded data removed]",
      "text/plain": [
       "<Figure size 864x288 with 1 Axes>"
      ]
     },
     "metadata": {
      "needs_background": "light"
     },
     "output_type": "display_data"
    }
   ],
   "source": [
    "from scripts.cell_state.analysis import histogram_plot, finite_flat\n",
    "\n",
    "ax = histogram_plot(finite_flat(log_pcp.values), hist_kwargs={\"color\": \"C0\", \"label\": \"Log Only\"})\n",
    "histogram_plot(finite_flat(norm_log_pcp.values), ax=ax, hist_kwargs={\"color\": \"C1\", \"label\": \"Log-Normed\"})\n",
    "ax.legend()\n",
    "ax.set_title(\"Log Precipitation\");"
   ]
  },
  {
   "cell_type": "code",
   "execution_count": null,
   "id": "9a85328f-e609-463f-92f9-a9922ba8b70d",
   "metadata": {},
   "outputs": [],
   "source": []
  },
  {
   "cell_type": "code",
   "execution_count": 34,
   "id": "a9445367-9399-4327-bb45-fa3f6a1b1da1",
   "metadata": {},
   "outputs": [
    {
     "data": {
      "image/png": "[encoded data removed]",
      "text/plain": [
       "<Figure size 864x288 with 1 Axes>"
      ]
     },
     "metadata": {
      "needs_background": "light"
     },
     "output_type": "display_data"
    }
   ],
   "source": [
    "ax = histogram_plot(finite_flat(norm_temp.values), hist_kwargs={\"color\": \"C0\", \"label\": \"Norm Temp\"})\n",
    "\n",
    "ax.legend()\n",
    "ax.set_title(\"Normalised Temperature\");"
   ]
  },
  {
   "cell_type": "markdown",
   "id": "ec85e055-eb95-43d0-9fa8-9d1705f8d6fb",
   "metadata": {},
   "source": [
    "# Setup Data"
   ]
  },
  {
   "cell_type": "code",
   "execution_count": 35,
   "id": "c100ba99-c615-47c0-acb9-4456a0ba2170",
   "metadata": {},
   "outputs": [],
   "source": [
    "from scripts.cell_state.timeseries_dataset import get_data_samples, get_time_basin_aligned_samples, TimeSeriesDataset"
   ]
  },
  {
   "cell_type": "code",
   "execution_count": 36,
   "id": "2a0f6281-fe5c-4487-9f6f-effad94558f0",
   "metadata": {},
   "outputs": [],
   "source": [
    "input_variables = [v for v in cs.data_vars]\n",
    "train_start_date = pd.to_datetime(\"01-01-1998\")\n",
    "train_end_date = pd.to_datetime(\"12-31-2006\")\n",
    "test_start_date = pd.to_datetime(\"01-01-2007\")\n",
    "test_end_date = pd.to_datetime(\"01-01-2009\")"
   ]
  },
  {
   "cell_type": "code",
   "execution_count": 37,
   "id": "4c8bec98-887f-49f3-8bb1-a83f13b6501a",
   "metadata": {},
   "outputs": [
    {
     "name": "stderr",
     "output_type": "stream",
     "text": [
      "Creating Train Samples: 100%|██████████| 669/669 [00:06<00:00, 96.21it/s]\n",
      "Creating Test Samples: 100%|██████████| 669/669 [00:04<00:00, 135.99it/s]\n"
     ]
    }
   ],
   "source": [
    "train_dataset = TimeSeriesDataset(\n",
    "    input_data=cs.sel(time=slice(train_start_date, train_end_date)),\n",
    "    target_data=norm_temp.sel(time=slice(train_start_date, train_end_date)),\n",
    "    target_variable=\"temperature\",\n",
    "    input_variables=input_variables,\n",
    "    seq_length=1,\n",
    "    basin_dim=\"station_id\",\n",
    "    time_dim=\"time\",\n",
    "    desc=\"Creating Train Samples\",\n",
    ")\n",
    "\n",
    "test_dataset = TimeSeriesDataset(\n",
    "    input_data=cs.sel(time=slice(test_start_date, test_end_date)),\n",
    "    target_data=norm_temp.sel(time=slice(test_start_date, test_end_date)),\n",
    "    target_variable=\"temperature\",\n",
    "    input_variables=input_variables,\n",
    "    seq_length=1,\n",
    "    basin_dim=\"station_id\",\n",
    "    time_dim=\"time\",\n",
    "    desc=\"Creating Test Samples\",\n",
    ")"
   ]
  },
  {
   "cell_type": "code",
   "execution_count": 38,
   "id": "56613566-6074-403c-b858-1d870501b7da",
   "metadata": {},
   "outputs": [
    {
     "name": "stderr",
     "output_type": "stream",
     "text": [
      "Extracting Data: 100%|██████████| 8588/8588 [01:06<00:00, 129.06it/s]\n",
      "Extracting Data:   0%|          | 0/1908 [00:00<?, ?it/s]"
     ]
    },
    {
     "name": "stdout",
     "output_type": "stream",
     "text": [
      "Merging and reshaping arrays\n"
     ]
    },
    {
     "name": "stderr",
     "output_type": "stream",
     "text": [
      "Extracting Data: 100%|██████████| 1908/1908 [00:14<00:00, 130.28it/s]\n"
     ]
    },
    {
     "name": "stdout",
     "output_type": "stream",
     "text": [
      "Merging and reshaping arrays\n"
     ]
    }
   ],
   "source": [
    "X, y, times, station_ids = get_time_basin_aligned_samples(train_dataset)\n",
    "X_test, y_test, times_test, station_ids_test = get_time_basin_aligned_samples(test_dataset)"
   ]
  },
  {
   "cell_type": "markdown",
   "id": "0acbb216-b948-40b5-bdbf-0c356cf1465e",
   "metadata": {},
   "source": [
    "# Initialise, train and evaluate model"
   ]
  },
  {
   "cell_type": "code",
   "execution_count": 39,
   "id": "06393b0c-5fbe-4143-bddc-ec7d5fa6184b",
   "metadata": {},
   "outputs": [],
   "source": [
    "from sklearn.linear_model import SGDRegressor\n",
    "\n",
    "\n",
    "sgd_en = SGDRegressor(\n",
    "    loss=\"huber\",\n",
    "    penalty=\"elasticnet\",\n",
    "    alpha=0.01,\n",
    "    l1_ratio=0.15,            # default\n",
    "    fit_intercept=True, \n",
    "    n_iter_no_change=10,\n",
    "    early_stopping=True\n",
    ")"
   ]
  },
  {
   "cell_type": "code",
   "execution_count": 40,
   "id": "16d106e5-c0fa-4fa3-9d57-292fbbb8e092",
   "metadata": {},
   "outputs": [
    {
     "data": {
      "text/plain": [
       "SGDRegressor(alpha=0.01, early_stopping=True, loss='huber', n_iter_no_change=10,\n",
       "             penalty='elasticnet')"
      ]
     },
     "execution_count": 40,
     "metadata": {},
     "output_type": "execute_result"
    }
   ],
   "source": [
    "sgd_en.fit(X, y.ravel())"
   ]
  },
  {
   "cell_type": "code",
   "execution_count": 41,
   "id": "71409131-b0ad-43e9-8717-4bfde4b6af4a",
   "metadata": {},
   "outputs": [],
   "source": [
    "y_hat = sgd_en.predict(X_test)"
   ]
  },
  {
   "cell_type": "code",
   "execution_count": 42,
   "id": "32806651-4c53-42d0-b240-980bfc5532b7",
   "metadata": {},
   "outputs": [],
   "source": [
    "preds_sklearn = pd.DataFrame({\n",
    "    \"station_id\": station_ids_test.ravel(),\n",
    "    \"time\": times_test.astype(\"datetime64[ns]\").ravel(),\n",
    "    \"obs\": y_test.ravel(),\n",
    "    \"sim\": y_hat.ravel(),\n",
    "}).set_index([\"station_id\", \"time\"]).to_xarray()"
   ]
  },
  {
   "cell_type": "code",
   "execution_count": 43,
   "id": "eb0d30bf-709c-4a06-9922-62161cd5597d",
   "metadata": {},
   "outputs": [
    {
     "name": "stdout",
     "output_type": "stream",
     "text": [
      "Made Predictions\n"
     ]
    }
   ],
   "source": [
    "y_hat_train = sgd_en.predict(X)\n",
    "print(\"Made Predictions\")\n",
    "\n",
    "train_preds = pd.DataFrame({\n",
    "    \"station_id\": station_ids.ravel(),\n",
    "    \"time\": times.astype(\"datetime64[ns]\").ravel(),\n",
    "    \"obs\": y.ravel(),\n",
    "    \"sim\": y_hat_train.ravel(),\n",
    "}).set_index([\"station_id\", \"time\"]).to_xarray()"
   ]
  },
  {
   "cell_type": "code",
   "execution_count": 44,
   "id": "9ac44c80-fe7a-48af-9028-40a8e39a4413",
   "metadata": {},
   "outputs": [
    {
     "name": "stderr",
     "output_type": "stream",
     "text": [
      "Calculating Errors: 100%|██████████| 669/669 [00:07<00:00, 85.05it/s, 107001]\n",
      "Calculating Errors: 100%|██████████| 669/669 [00:07<00:00, 86.36it/s, 107001]\n"
     ]
    }
   ],
   "source": [
    "from scripts.read_nh_results import calculate_all_error_metrics\n",
    "\n",
    "errors_sklearn = calculate_all_error_metrics(\n",
    "    preds_sklearn,\n",
    "    basin_coord=\"station_id\",\n",
    "    time_coord=\"time\",\n",
    "    obs_var=\"obs\",\n",
    "    sim_var=\"sim\",\n",
    "    metrics=[\"NSE\", \"Pearson-r\"],\n",
    ")\n",
    "\n",
    "train_errors_sklearn = calculate_all_error_metrics(\n",
    "    train_preds,\n",
    "    basin_coord=\"station_id\",\n",
    "    time_coord=\"time\",\n",
    "    obs_var=\"obs\",\n",
    "    sim_var=\"sim\",\n",
    "    metrics=[\"NSE\", \"Pearson-r\"],\n",
    ")"
   ]
  },
  {
   "cell_type": "code",
   "execution_count": 46,
   "id": "329d067b-4ef6-48a4-bb1a-8fa1a06f53bc",
   "metadata": {},
   "outputs": [
    {
     "data": {
      "image/png": "[encoded data removed]",
      "text/plain": [
       "<Figure size 864x288 with 1 Axes>"
      ]
     },
     "metadata": {
      "needs_background": "light"
     },
     "output_type": "display_data"
    }
   ],
   "source": [
    "nse = finite_flat(errors_sklearn[\"NSE\"])\n",
    "nse_train = finite_flat(train_errors_sklearn[\"NSE\"])\n",
    "var = \"TEMP\"\n",
    "\n",
    "f, ax = plt.subplots(figsize=(12, 4))\n",
    "\n",
    "ax.hist(nse.where(nse > -1, -1), bins=100, density=True, label=f\"{var} Test Data\", alpha=0.6, color=\"C4\");\n",
    "ax.axvline(nse.median(), color=\"C7\", ls=\"--\", alpha=0.5)\n",
    "\n",
    "ax.hist(nse_train.where(nse_train > -1, -1), bins=100, density=True, label=f\"{var} Train Data\", alpha=0.6, color=\"C5\");\n",
    "ax.axvline(nse_train.median(), color=\"C8\", ls=\"--\", alpha=0.5)\n",
    "\n",
    "ax.axvline(0, color=\"k\", ls=\"-\", alpha=0.5)\n",
    "ax.set_title(f\"\\n{int((nse < -1).sum())} Stations with NSE < -1 for {var}\")\n",
    "ax.set_xlim(-1, 1)\n",
    "ax.legend()\n",
    "sns.despine()"
   ]
  },
  {
   "cell_type": "code",
   "execution_count": null,
   "id": "9b35a58f-c718-4847-bbbf-64a520513bbd",
   "metadata": {},
   "outputs": [],
   "source": []
  }
 ],
 "metadata": {
  "kernelspec": {
   "display_name": "Python 3",
   "language": "python",
   "name": "python3"
  },
  "language_info": {
   "codemirror_mode": {
    "name": "ipython",
    "version": 3
   },
   "file_extension": ".py",
   "mimetype": "text/x-python",
   "name": "python",
   "nbconvert_exporter": "python",
   "pygments_lexer": "ipython3",
   "version": "3.8.10"
  }
 },
 "nbformat": 4,
 "nbformat_minor": 5
}
